{
 "cells": [
  {
   "cell_type": "markdown",
   "metadata": {},
   "source": [
    "# Deriving Coupled Cluster Equations using Sympy"
   ]
  },
  {
   "cell_type": "code",
   "execution_count": 63,
   "metadata": {},
   "outputs": [],
   "source": [
    "from sympy.physics.secondquant import (AntiSymmetricTensor, wicks,\n",
    "        F, Fd, NO, evaluate_deltas, substitute_dummies, Commutator,\n",
    "        simplify_index_permutations, PermutationOperator)\n",
    "from sympy import (\n",
    "    symbols, Rational, latex, Dummy\n",
    ")"
   ]
  },
  {
   "cell_type": "code",
   "execution_count": 2,
   "metadata": {},
   "outputs": [],
   "source": [
    "pretty_dummies_dict = {\n",
    "    'above': 'cdefgh',\n",
    "    'below': 'klmno',\n",
    "    'general': 'pqrstu'\n",
    "}"
   ]
  },
  {
   "cell_type": "markdown",
   "metadata": {},
   "source": [
    "## Define indexes"
   ]
  },
  {
   "cell_type": "code",
   "execution_count": 3,
   "metadata": {},
   "outputs": [],
   "source": [
    "i = symbols('i', below_fermi=True, cls=Dummy)\n",
    "a = symbols('a', above_fermi=True, cls=Dummy)\n",
    "j = symbols('j', below_fermi=True, cls=Dummy)\n",
    "b = symbols('b', above_fermi=True, cls=Dummy)\n",
    "p, q, r, s = symbols('p,q,r,s', cls=Dummy)"
   ]
  },
  {
   "cell_type": "markdown",
   "metadata": {},
   "source": [
    "## Define Hamiltonian"
   ]
  },
  {
   "cell_type": "code",
   "execution_count": 16,
   "metadata": {},
   "outputs": [
    {
     "data": {
      "text/latex": [
       "$\\displaystyle f^{p}_{q} \\left\\{a^\\dagger_{p} a_{q}\\right\\} - \\frac{v^{pq}_{rs} \\left\\{a^\\dagger_{p} a^\\dagger_{q} a_{r} a_{s}\\right\\}}{4}$"
      ],
      "text/plain": [
       "AntiSymmetricTensor(f, (_p,), (_q,))*NO(CreateFermion(_p)*AnnihilateFermion(_q)) - AntiSymmetricTensor(v, (_p, _q), (_r, _s))*NO(CreateFermion(_p)*CreateFermion(_q)*AnnihilateFermion(_r)*AnnihilateFermion(_s))/4"
      ]
     },
     "execution_count": 16,
     "metadata": {},
     "output_type": "execute_result"
    }
   ],
   "source": [
    "fock = AntiSymmetricTensor('f', (p,), (q,))\n",
    "pr = NO(Fd(p)*F(q))\n",
    "V = AntiSymmetricTensor('v',(p,q),(r,s))\n",
    "pqsr = NO(Fd(p)*Fd(q)*F(s)*F(r))\n",
    "H = fock*pr + Rational(1,4)*V*pqsr\n",
    "H"
   ]
  },
  {
   "cell_type": "markdown",
   "metadata": {},
   "source": [
    "## Define Cluster Operator"
   ]
  },
  {
   "cell_type": "code",
   "execution_count": 20,
   "metadata": {},
   "outputs": [
    {
     "data": {
      "text/latex": [
       "$\\displaystyle t^{a}_{i} \\left\\{a^\\dagger_{a} a_{i}\\right\\}$"
      ],
      "text/plain": [
       "AntiSymmetricTensor(t, (_a,), (_i,))*NO(CreateFermion(_a)*AnnihilateFermion(_i))"
      ]
     },
     "execution_count": 20,
     "metadata": {},
     "output_type": "execute_result"
    }
   ],
   "source": [
    "t_ai = AntiSymmetricTensor('t', (a,), (i,))*NO(Fd(a)*F(i))\n",
    "t_ai\n"
   ]
  },
  {
   "cell_type": "code",
   "execution_count": 22,
   "metadata": {},
   "outputs": [
    {
     "data": {
      "text/latex": [
       "$\\displaystyle - \\frac{t^{ab}_{ij} \\left\\{a^\\dagger_{a} a^\\dagger_{b} a_{i} a_{j}\\right\\}}{4}$"
      ],
      "text/plain": [
       "-AntiSymmetricTensor(t, (_a, _b), (_i, _j))*NO(CreateFermion(_a)*CreateFermion(_b)*AnnihilateFermion(_i)*AnnihilateFermion(_j))/4"
      ]
     },
     "execution_count": 22,
     "metadata": {},
     "output_type": "execute_result"
    }
   ],
   "source": [
    "t_abij = Rational(1,4)*AntiSymmetricTensor('t', (a,b), (i,j))*NO(Fd(a)*Fd(b)*F(j)*F(i))\n",
    "t_abij"
   ]
  },
  {
   "cell_type": "code",
   "execution_count": 24,
   "metadata": {},
   "outputs": [
    {
     "data": {
      "text/latex": [
       "$\\displaystyle t^{a}_{i} \\left\\{a^\\dagger_{a} a_{i}\\right\\} - \\frac{t^{ab}_{ij} \\left\\{a^\\dagger_{a} a^\\dagger_{b} a_{i} a_{j}\\right\\}}{4}$"
      ],
      "text/plain": [
       "AntiSymmetricTensor(t, (_a,), (_i,))*NO(CreateFermion(_a)*AnnihilateFermion(_i)) - AntiSymmetricTensor(t, (_a, _b), (_i, _j))*NO(CreateFermion(_a)*CreateFermion(_b)*AnnihilateFermion(_i)*AnnihilateFermion(_j))/4"
      ]
     },
     "execution_count": 24,
     "metadata": {},
     "output_type": "execute_result"
    }
   ],
   "source": [
    "T = t_ai + t_abij\n",
    "T"
   ]
  },
  {
   "cell_type": "code",
   "execution_count": 38,
   "metadata": {},
   "outputs": [],
   "source": [
    "def get_T():\n",
    "    t_ai = AntiSymmetricTensor('t', (a,), (i,))*NO(Fd(a)*F(i))\n",
    "    t_abij = Rational(1,4)*AntiSymmetricTensor('t', (a,b), (i,j))*NO(Fd(a)*Fd(b)*F(j)*F(i))\n",
    "    return t_ai + t_abij"
   ]
  },
  {
   "cell_type": "markdown",
   "metadata": {},
   "source": [
    "## Perform the Hausdorff expansion"
   ]
  },
  {
   "cell_type": "code",
   "execution_count": 41,
   "metadata": {},
   "outputs": [
    {
     "ename": "AttributeError",
     "evalue": "'Pow' object has no attribute '_sortkey'",
     "output_type": "error",
     "traceback": [
      "\u001b[0;31m---------------------------------------------------------------------------\u001b[0m",
      "\u001b[0;31mAttributeError\u001b[0m                            Traceback (most recent call last)",
      "\u001b[0;32m<ipython-input-41-c14f8d537eec>\u001b[0m in \u001b[0;36m<module>\u001b[0;34m\u001b[0m\n\u001b[1;32m      2\u001b[0m \u001b[0mcomm1\u001b[0m \u001b[0;34m=\u001b[0m \u001b[0msubstitute_dummies\u001b[0m\u001b[0;34m(\u001b[0m\u001b[0mevaluate_deltas\u001b[0m\u001b[0;34m(\u001b[0m\u001b[0mwicks\u001b[0m\u001b[0;34m(\u001b[0m\u001b[0mC\u001b[0m\u001b[0;34m(\u001b[0m\u001b[0mH\u001b[0m\u001b[0;34m,\u001b[0m\u001b[0mT\u001b[0m\u001b[0;34m)\u001b[0m\u001b[0;34m)\u001b[0m\u001b[0;34m)\u001b[0m\u001b[0;34m)\u001b[0m\u001b[0;34m\u001b[0m\u001b[0;34m\u001b[0m\u001b[0m\n\u001b[1;32m      3\u001b[0m \u001b[0;31m#T = get_T()\u001b[0m\u001b[0;34m\u001b[0m\u001b[0;34m\u001b[0m\u001b[0;34m\u001b[0m\u001b[0m\n\u001b[0;32m----> 4\u001b[0;31m \u001b[0mcomm2\u001b[0m \u001b[0;34m=\u001b[0m \u001b[0mwicks\u001b[0m\u001b[0;34m(\u001b[0m\u001b[0mC\u001b[0m\u001b[0;34m(\u001b[0m\u001b[0mcomm1\u001b[0m\u001b[0;34m,\u001b[0m\u001b[0mT\u001b[0m\u001b[0;34m)\u001b[0m\u001b[0;34m)\u001b[0m\u001b[0;34m\u001b[0m\u001b[0;34m\u001b[0m\u001b[0m\n\u001b[0m\u001b[1;32m      5\u001b[0m \u001b[0;31m#comm3 = substitute_dummies(evaluate_deltas(wicks(C(comm2,T))))\u001b[0m\u001b[0;34m\u001b[0m\u001b[0;34m\u001b[0m\u001b[0;34m\u001b[0m\u001b[0m\n\u001b[1;32m      6\u001b[0m \u001b[0;31m#comm4 = substitute_dummies(evaluate_deltas(wicks(C(comm3,T))))\u001b[0m\u001b[0;34m\u001b[0m\u001b[0;34m\u001b[0m\u001b[0;34m\u001b[0m\u001b[0m\n",
      "\u001b[0;32m~/psi4conda/lib/python3.6/site-packages/sympy/physics/secondquant.py\u001b[0m in \u001b[0;36mwicks\u001b[0;34m(e, **kw_args)\u001b[0m\n\u001b[1;32m   2822\u001b[0m \u001b[0;34m\u001b[0m\u001b[0m\n\u001b[1;32m   2823\u001b[0m     \u001b[0;31m# break up any NO-objects, and evaluate commutators\u001b[0m\u001b[0;34m\u001b[0m\u001b[0;34m\u001b[0m\u001b[0;34m\u001b[0m\u001b[0m\n\u001b[0;32m-> 2824\u001b[0;31m     \u001b[0me\u001b[0m \u001b[0;34m=\u001b[0m \u001b[0me\u001b[0m\u001b[0;34m.\u001b[0m\u001b[0mdoit\u001b[0m\u001b[0;34m(\u001b[0m\u001b[0mwicks\u001b[0m\u001b[0;34m=\u001b[0m\u001b[0;32mTrue\u001b[0m\u001b[0;34m)\u001b[0m\u001b[0;34m\u001b[0m\u001b[0;34m\u001b[0m\u001b[0m\n\u001b[0m\u001b[1;32m   2825\u001b[0m \u001b[0;34m\u001b[0m\u001b[0m\n\u001b[1;32m   2826\u001b[0m     \u001b[0;31m# make sure we have only one term to consider\u001b[0m\u001b[0;34m\u001b[0m\u001b[0;34m\u001b[0m\u001b[0;34m\u001b[0m\u001b[0m\n",
      "\u001b[0;32m~/psi4conda/lib/python3.6/site-packages/sympy/core/basic.py\u001b[0m in \u001b[0;36mdoit\u001b[0;34m(self, **hints)\u001b[0m\n\u001b[1;32m   1689\u001b[0m         \u001b[0;32mif\u001b[0m \u001b[0mhints\u001b[0m\u001b[0;34m.\u001b[0m\u001b[0mget\u001b[0m\u001b[0;34m(\u001b[0m\u001b[0;34m'deep'\u001b[0m\u001b[0;34m,\u001b[0m \u001b[0;32mTrue\u001b[0m\u001b[0;34m)\u001b[0m\u001b[0;34m:\u001b[0m\u001b[0;34m\u001b[0m\u001b[0;34m\u001b[0m\u001b[0m\n\u001b[1;32m   1690\u001b[0m             terms = [term.doit(**hints) if isinstance(term, Basic) else term\n\u001b[0;32m-> 1691\u001b[0;31m                                          for term in self.args]\n\u001b[0m\u001b[1;32m   1692\u001b[0m             \u001b[0;32mreturn\u001b[0m \u001b[0mself\u001b[0m\u001b[0;34m.\u001b[0m\u001b[0mfunc\u001b[0m\u001b[0;34m(\u001b[0m\u001b[0;34m*\u001b[0m\u001b[0mterms\u001b[0m\u001b[0;34m)\u001b[0m\u001b[0;34m\u001b[0m\u001b[0;34m\u001b[0m\u001b[0m\n\u001b[1;32m   1693\u001b[0m         \u001b[0;32melse\u001b[0m\u001b[0;34m:\u001b[0m\u001b[0;34m\u001b[0m\u001b[0;34m\u001b[0m\u001b[0m\n",
      "\u001b[0;32m~/psi4conda/lib/python3.6/site-packages/sympy/core/basic.py\u001b[0m in \u001b[0;36m<listcomp>\u001b[0;34m(.0)\u001b[0m\n\u001b[1;32m   1689\u001b[0m         \u001b[0;32mif\u001b[0m \u001b[0mhints\u001b[0m\u001b[0;34m.\u001b[0m\u001b[0mget\u001b[0m\u001b[0;34m(\u001b[0m\u001b[0;34m'deep'\u001b[0m\u001b[0;34m,\u001b[0m \u001b[0;32mTrue\u001b[0m\u001b[0;34m)\u001b[0m\u001b[0;34m:\u001b[0m\u001b[0;34m\u001b[0m\u001b[0;34m\u001b[0m\u001b[0m\n\u001b[1;32m   1690\u001b[0m             terms = [term.doit(**hints) if isinstance(term, Basic) else term\n\u001b[0;32m-> 1691\u001b[0;31m                                          for term in self.args]\n\u001b[0m\u001b[1;32m   1692\u001b[0m             \u001b[0;32mreturn\u001b[0m \u001b[0mself\u001b[0m\u001b[0;34m.\u001b[0m\u001b[0mfunc\u001b[0m\u001b[0;34m(\u001b[0m\u001b[0;34m*\u001b[0m\u001b[0mterms\u001b[0m\u001b[0;34m)\u001b[0m\u001b[0;34m\u001b[0m\u001b[0;34m\u001b[0m\u001b[0m\n\u001b[1;32m   1693\u001b[0m         \u001b[0;32melse\u001b[0m\u001b[0;34m:\u001b[0m\u001b[0;34m\u001b[0m\u001b[0;34m\u001b[0m\u001b[0m\n",
      "\u001b[0;32m~/psi4conda/lib/python3.6/site-packages/sympy/core/basic.py\u001b[0m in \u001b[0;36mdoit\u001b[0;34m(self, **hints)\u001b[0m\n\u001b[1;32m   1689\u001b[0m         \u001b[0;32mif\u001b[0m \u001b[0mhints\u001b[0m\u001b[0;34m.\u001b[0m\u001b[0mget\u001b[0m\u001b[0;34m(\u001b[0m\u001b[0;34m'deep'\u001b[0m\u001b[0;34m,\u001b[0m \u001b[0;32mTrue\u001b[0m\u001b[0;34m)\u001b[0m\u001b[0;34m:\u001b[0m\u001b[0;34m\u001b[0m\u001b[0;34m\u001b[0m\u001b[0m\n\u001b[1;32m   1690\u001b[0m             terms = [term.doit(**hints) if isinstance(term, Basic) else term\n\u001b[0;32m-> 1691\u001b[0;31m                                          for term in self.args]\n\u001b[0m\u001b[1;32m   1692\u001b[0m             \u001b[0;32mreturn\u001b[0m \u001b[0mself\u001b[0m\u001b[0;34m.\u001b[0m\u001b[0mfunc\u001b[0m\u001b[0;34m(\u001b[0m\u001b[0;34m*\u001b[0m\u001b[0mterms\u001b[0m\u001b[0;34m)\u001b[0m\u001b[0;34m\u001b[0m\u001b[0;34m\u001b[0m\u001b[0m\n\u001b[1;32m   1693\u001b[0m         \u001b[0;32melse\u001b[0m\u001b[0;34m:\u001b[0m\u001b[0;34m\u001b[0m\u001b[0;34m\u001b[0m\u001b[0m\n",
      "\u001b[0;32m~/psi4conda/lib/python3.6/site-packages/sympy/core/basic.py\u001b[0m in \u001b[0;36m<listcomp>\u001b[0;34m(.0)\u001b[0m\n\u001b[1;32m   1689\u001b[0m         \u001b[0;32mif\u001b[0m \u001b[0mhints\u001b[0m\u001b[0;34m.\u001b[0m\u001b[0mget\u001b[0m\u001b[0;34m(\u001b[0m\u001b[0;34m'deep'\u001b[0m\u001b[0;34m,\u001b[0m \u001b[0;32mTrue\u001b[0m\u001b[0;34m)\u001b[0m\u001b[0;34m:\u001b[0m\u001b[0;34m\u001b[0m\u001b[0;34m\u001b[0m\u001b[0m\n\u001b[1;32m   1690\u001b[0m             terms = [term.doit(**hints) if isinstance(term, Basic) else term\n\u001b[0;32m-> 1691\u001b[0;31m                                          for term in self.args]\n\u001b[0m\u001b[1;32m   1692\u001b[0m             \u001b[0;32mreturn\u001b[0m \u001b[0mself\u001b[0m\u001b[0;34m.\u001b[0m\u001b[0mfunc\u001b[0m\u001b[0;34m(\u001b[0m\u001b[0;34m*\u001b[0m\u001b[0mterms\u001b[0m\u001b[0;34m)\u001b[0m\u001b[0;34m\u001b[0m\u001b[0;34m\u001b[0m\u001b[0m\n\u001b[1;32m   1693\u001b[0m         \u001b[0;32melse\u001b[0m\u001b[0;34m:\u001b[0m\u001b[0;34m\u001b[0m\u001b[0;34m\u001b[0m\u001b[0m\n",
      "\u001b[0;32m~/psi4conda/lib/python3.6/site-packages/sympy/physics/secondquant.py\u001b[0m in \u001b[0;36mdoit\u001b[0;34m(self, **hints)\u001b[0m\n\u001b[1;32m   1716\u001b[0m             \u001b[0mb\u001b[0m \u001b[0;34m=\u001b[0m \u001b[0mb\u001b[0m\u001b[0;34m.\u001b[0m\u001b[0mdoit\u001b[0m\u001b[0;34m(\u001b[0m\u001b[0;34m**\u001b[0m\u001b[0mhints\u001b[0m\u001b[0;34m)\u001b[0m\u001b[0;34m\u001b[0m\u001b[0;34m\u001b[0m\u001b[0m\n\u001b[1;32m   1717\u001b[0m             \u001b[0;32mtry\u001b[0m\u001b[0;34m:\u001b[0m\u001b[0;34m\u001b[0m\u001b[0;34m\u001b[0m\u001b[0m\n\u001b[0;32m-> 1718\u001b[0;31m                 \u001b[0;32mreturn\u001b[0m \u001b[0mwicks\u001b[0m\u001b[0;34m(\u001b[0m\u001b[0ma\u001b[0m\u001b[0;34m*\u001b[0m\u001b[0mb\u001b[0m\u001b[0;34m)\u001b[0m \u001b[0;34m-\u001b[0m \u001b[0mwicks\u001b[0m\u001b[0;34m(\u001b[0m\u001b[0mb\u001b[0m\u001b[0;34m*\u001b[0m\u001b[0ma\u001b[0m\u001b[0;34m)\u001b[0m\u001b[0;34m\u001b[0m\u001b[0;34m\u001b[0m\u001b[0m\n\u001b[0m\u001b[1;32m   1719\u001b[0m             \u001b[0;32mexcept\u001b[0m \u001b[0mContractionAppliesOnlyToFermions\u001b[0m\u001b[0;34m:\u001b[0m\u001b[0;34m\u001b[0m\u001b[0;34m\u001b[0m\u001b[0m\n\u001b[1;32m   1720\u001b[0m                 \u001b[0;32mpass\u001b[0m\u001b[0;34m\u001b[0m\u001b[0;34m\u001b[0m\u001b[0m\n",
      "\u001b[0;32m~/psi4conda/lib/python3.6/site-packages/sympy/physics/secondquant.py\u001b[0m in \u001b[0;36mwicks\u001b[0;34m(e, **kw_args)\u001b[0m\n\u001b[1;32m   2864\u001b[0m             \u001b[0;31m# recursion over higher order contractions\u001b[0m\u001b[0;34m\u001b[0m\u001b[0;34m\u001b[0m\u001b[0;34m\u001b[0m\u001b[0m\n\u001b[1;32m   2865\u001b[0m             result = _get_contractions(string1,\n\u001b[0;32m-> 2866\u001b[0;31m                 keep_only_fully_contracted=opts['keep_only_fully_contracted'] )\n\u001b[0m\u001b[1;32m   2867\u001b[0m             \u001b[0mresult\u001b[0m \u001b[0;34m=\u001b[0m \u001b[0mMul\u001b[0m\u001b[0;34m(\u001b[0m\u001b[0;34m*\u001b[0m\u001b[0mc_part\u001b[0m\u001b[0;34m)\u001b[0m\u001b[0;34m*\u001b[0m\u001b[0mresult\u001b[0m\u001b[0;34m\u001b[0m\u001b[0;34m\u001b[0m\u001b[0m\n\u001b[1;32m   2868\u001b[0m \u001b[0;34m\u001b[0m\u001b[0m\n",
      "\u001b[0;32m~/psi4conda/lib/python3.6/site-packages/sympy/physics/secondquant.py\u001b[0m in \u001b[0;36m_get_contractions\u001b[0;34m(string1, keep_only_fully_contracted)\u001b[0m\n\u001b[1;32m   2755\u001b[0m                     result.append(coeff*NO(\n\u001b[1;32m   2756\u001b[0m                         Mul(*string1[:i])*_get_contractions( oplist,\n\u001b[0;32m-> 2757\u001b[0;31m                             keep_only_fully_contracted=keep_only_fully_contracted)))\n\u001b[0m\u001b[1;32m   2758\u001b[0m \u001b[0;34m\u001b[0m\u001b[0m\n\u001b[1;32m   2759\u001b[0m                 \u001b[0;32melse\u001b[0m\u001b[0;34m:\u001b[0m\u001b[0;34m\u001b[0m\u001b[0;34m\u001b[0m\u001b[0m\n",
      "\u001b[0;32m~/psi4conda/lib/python3.6/site-packages/sympy/physics/secondquant.py\u001b[0m in \u001b[0;36m__new__\u001b[0;34m(cls, arg)\u001b[0m\n\u001b[1;32m   1811\u001b[0m \u001b[0;34m\u001b[0m\u001b[0m\n\u001b[1;32m   1812\u001b[0m             \u001b[0;32mtry\u001b[0m\u001b[0;34m:\u001b[0m\u001b[0;34m\u001b[0m\u001b[0;34m\u001b[0m\u001b[0m\n\u001b[0;32m-> 1813\u001b[0;31m                 \u001b[0mnewseq\u001b[0m\u001b[0;34m,\u001b[0m \u001b[0msign\u001b[0m \u001b[0;34m=\u001b[0m \u001b[0m_sort_anticommuting_fermions\u001b[0m\u001b[0;34m(\u001b[0m\u001b[0mseq\u001b[0m\u001b[0;34m)\u001b[0m\u001b[0;34m\u001b[0m\u001b[0;34m\u001b[0m\u001b[0m\n\u001b[0m\u001b[1;32m   1814\u001b[0m             \u001b[0;32mexcept\u001b[0m \u001b[0mViolationOfPauliPrinciple\u001b[0m\u001b[0;34m:\u001b[0m\u001b[0;34m\u001b[0m\u001b[0;34m\u001b[0m\u001b[0m\n\u001b[1;32m   1815\u001b[0m                 \u001b[0;32mreturn\u001b[0m \u001b[0mS\u001b[0m\u001b[0;34m.\u001b[0m\u001b[0mZero\u001b[0m\u001b[0;34m\u001b[0m\u001b[0;34m\u001b[0m\u001b[0m\n",
      "\u001b[0;32m~/psi4conda/lib/python3.6/site-packages/sympy/physics/secondquant.py\u001b[0m in \u001b[0;36m_sort_anticommuting_fermions\u001b[0;34m(string1, key)\u001b[0m\n\u001b[1;32m   2163\u001b[0m     \u001b[0mrev\u001b[0m \u001b[0;34m=\u001b[0m \u001b[0mlist\u001b[0m\u001b[0;34m(\u001b[0m\u001b[0mrange\u001b[0m\u001b[0;34m(\u001b[0m\u001b[0mlen\u001b[0m\u001b[0;34m(\u001b[0m\u001b[0mstring1\u001b[0m\u001b[0;34m)\u001b[0m \u001b[0;34m-\u001b[0m \u001b[0;36m3\u001b[0m\u001b[0;34m,\u001b[0m \u001b[0;34m-\u001b[0m\u001b[0;36m1\u001b[0m\u001b[0;34m,\u001b[0m \u001b[0;34m-\u001b[0m\u001b[0;36m1\u001b[0m\u001b[0;34m)\u001b[0m\u001b[0;34m)\u001b[0m\u001b[0;34m\u001b[0m\u001b[0;34m\u001b[0m\u001b[0m\n\u001b[1;32m   2164\u001b[0m \u001b[0;34m\u001b[0m\u001b[0m\n\u001b[0;32m-> 2165\u001b[0;31m     \u001b[0mkeys\u001b[0m \u001b[0;34m=\u001b[0m \u001b[0mlist\u001b[0m\u001b[0;34m(\u001b[0m\u001b[0mmap\u001b[0m\u001b[0;34m(\u001b[0m\u001b[0mkey\u001b[0m\u001b[0;34m,\u001b[0m \u001b[0mstring1\u001b[0m\u001b[0;34m)\u001b[0m\u001b[0;34m)\u001b[0m\u001b[0;34m\u001b[0m\u001b[0;34m\u001b[0m\u001b[0m\n\u001b[0m\u001b[1;32m   2166\u001b[0m     \u001b[0mkey_val\u001b[0m \u001b[0;34m=\u001b[0m \u001b[0mdict\u001b[0m\u001b[0;34m(\u001b[0m\u001b[0mlist\u001b[0m\u001b[0;34m(\u001b[0m\u001b[0mzip\u001b[0m\u001b[0;34m(\u001b[0m\u001b[0mkeys\u001b[0m\u001b[0;34m,\u001b[0m \u001b[0mstring1\u001b[0m\u001b[0;34m)\u001b[0m\u001b[0;34m)\u001b[0m\u001b[0;34m)\u001b[0m\u001b[0;34m\u001b[0m\u001b[0;34m\u001b[0m\u001b[0m\n\u001b[1;32m   2167\u001b[0m \u001b[0;34m\u001b[0m\u001b[0m\n",
      "\u001b[0;32m~/psi4conda/lib/python3.6/site-packages/sympy/physics/secondquant.py\u001b[0m in \u001b[0;36m_sqkey\u001b[0;34m(sq_operator)\u001b[0m\n\u001b[1;32m   2136\u001b[0m \u001b[0;32mdef\u001b[0m \u001b[0m_sqkey\u001b[0m\u001b[0;34m(\u001b[0m\u001b[0msq_operator\u001b[0m\u001b[0;34m)\u001b[0m\u001b[0;34m:\u001b[0m\u001b[0;34m\u001b[0m\u001b[0;34m\u001b[0m\u001b[0m\n\u001b[1;32m   2137\u001b[0m     \u001b[0;34m\"\"\"Generates key for canonical sorting of SQ operators.\"\"\"\u001b[0m\u001b[0;34m\u001b[0m\u001b[0;34m\u001b[0m\u001b[0m\n\u001b[0;32m-> 2138\u001b[0;31m     \u001b[0;32mreturn\u001b[0m \u001b[0msq_operator\u001b[0m\u001b[0;34m.\u001b[0m\u001b[0m_sortkey\u001b[0m\u001b[0;34m(\u001b[0m\u001b[0;34m)\u001b[0m\u001b[0;34m\u001b[0m\u001b[0;34m\u001b[0m\u001b[0m\n\u001b[0m\u001b[1;32m   2139\u001b[0m \u001b[0;34m\u001b[0m\u001b[0m\n\u001b[1;32m   2140\u001b[0m \u001b[0;34m\u001b[0m\u001b[0m\n",
      "\u001b[0;31mAttributeError\u001b[0m: 'Pow' object has no attribute '_sortkey'"
     ]
    }
   ],
   "source": [
    "C = Commutator\n",
    "comm1 = substitute_dummies(evaluate_deltas(wicks(C(H,T))))\n",
    "#T = get_T()\n",
    "comm2 = wicks(C(comm1,T))\n",
    "#comm3 = substitute_dummies(evaluate_deltas(wicks(C(comm2,T))))\n",
    "#comm4 = substitute_dummies(evaluate_deltas(wicks(C(comm3,T))))\n",
    "#eq = H + comm1 + comm2/2 + comm3/6 + comm4/24\n",
    "#eq"
   ]
  },
  {
   "cell_type": "code",
   "execution_count": 15,
   "metadata": {},
   "outputs": [
    {
     "data": {
      "text/latex": [
       "$\\displaystyle \\frac{v^{kl}_{kl}}{2} + v^{kq}_{kp} \\left\\{a^\\dagger_{q} a_{p}\\right\\} - \\frac{v^{rs}_{pq} \\left\\{a^\\dagger_{r} a^\\dagger_{s} a_{p} a_{q}\\right\\}}{4}$"
      ],
      "text/plain": [
       "AntiSymmetricTensor(v, (_k, _l), (_k, _l))/2 + AntiSymmetricTensor(v, (_k, _q), (_k, _p))*NO(CreateFermion(_q)*AnnihilateFermion(_p)) - AntiSymmetricTensor(v, (_r, _s), (_p, _q))*NO(CreateFermion(_r)*CreateFermion(_s)*AnnihilateFermion(_p)*AnnihilateFermion(_q))/4"
      ]
     },
     "execution_count": 15,
     "metadata": {},
     "output_type": "execute_result"
    }
   ],
   "source": [
    "g = Rational(1,4)*AntiSymmetricTensor('v', (p,q), (r,s))*Fd(p)*Fd(q)*F(s)*F(r)\n",
    "substitute_dummies(evaluate_deltas(wicks(g)), new_indices=True, pretty_indices=pretty_dummies_dict)"
   ]
  },
  {
   "cell_type": "code",
   "execution_count": 13,
   "metadata": {},
   "outputs": [
    {
     "data": {
      "text/latex": [
       "$\\displaystyle v^{pq}_{rs}$"
      ],
      "text/plain": [
       "AntiSymmetricTensor(v, (_p, _q), (_r, _s))"
      ]
     },
     "execution_count": 13,
     "metadata": {},
     "output_type": "execute_result"
    }
   ],
   "source": [
    "AntiSymmetricTensor('v', (p,q), (r,s))"
   ]
  },
  {
   "cell_type": "code",
   "execution_count": null,
   "metadata": {},
   "outputs": [],
   "source": [
    "evaluate_deltas(wicks(f(a,i)*Fd(i)*F(p)))"
   ]
  },
  {
   "cell_type": "code",
   "execution_count": 45,
   "metadata": {},
   "outputs": [
    {
     "name": "stdout",
     "output_type": "stream",
     "text": [
      "\n",
      "Calculates the Coupled-Cluster energy- and amplitude equations\n",
      "See 'An Introduction to Coupled Cluster Theory' by\n",
      "T. Daniel Crawford and Henry F. Schaefer III\n",
      "Reference to a Lecture Series: http://vergil.chemistry.gatech.edu/notes/sahan-cc-2010.pdf\n",
      "\n",
      "Using the hamiltonian: f^{p}_{q} \\left\\{a^\\dagger_{p} a_{q}\\right\\} - \\frac{v^{pq}_{rs} \\left\\{a^\\dagger_{p} a^\\dagger_{q} a_{r} a_{s}\\right\\}}{4}\n",
      "Calculating 4 nested commutators\n",
      "commutator 1...\n",
      "commutator 2...\n",
      "commutator 3...\n",
      "commutator 4...\n",
      "construct Hausdorff expansion...\n",
      "*********************\n",
      "\n",
      "extracting CC equations from full Hbar\n",
      "\n",
      "CC Energy:\n",
      "f^{k}_{c} t^{c}_{k} - \\frac{t^{c}_{l} t^{d}_{k} v^{kl}_{cd}}{2} + \\frac{t^{cd}_{kl} v^{kl}_{cd}}{4}\n",
      "\n",
      "CC T1:\n",
      "- f^{k}_{c} t^{c}_{i} t^{a}_{k} + f^{k}_{c} t^{ac}_{ik} - f^{k}_{i} t^{a}_{k} + f^{a}_{c} t^{c}_{i} + f^{a}_{i} - t^{c}_{k} t^{d}_{i} t^{a}_{l} v^{kl}_{cd} - t^{c}_{k} t^{d}_{i} v^{ak}_{cd} + t^{c}_{k} t^{a}_{l} v^{kl}_{ic} + t^{c}_{k} t^{ad}_{il} v^{kl}_{cd} + t^{c}_{k} v^{ak}_{ic} - \\frac{t^{c}_{i} t^{ad}_{kl} v^{kl}_{cd}}{2} + \\frac{t^{a}_{l} t^{cd}_{ik} v^{kl}_{cd}}{2} + \\frac{t^{cd}_{ik} v^{ak}_{cd}}{2} - \\frac{t^{ac}_{kl} v^{kl}_{ic}}{2}\n",
      "\n",
      "CC T2:\n",
      "AntiSymmetricTensor(f, (_k,), (_c,))*AntiSymmetricTensor(t, (_c,), (i,))*AntiSymmetricTensor(t, (a, b), (j, _k))*PermutationOperator(i, j) + AntiSymmetricTensor(f, (_k,), (_c,))*AntiSymmetricTensor(t, (a,), (_k,))*AntiSymmetricTensor(t, (b, _c), (i, j))*PermutationOperator(a, b) + AntiSymmetricTensor(f, (_k,), (i,))*AntiSymmetricTensor(t, (a, b), (j, _k))*PermutationOperator(i, j) - AntiSymmetricTensor(f, (a,), (_c,))*AntiSymmetricTensor(t, (b, _c), (i, j))*PermutationOperator(a, b) + AntiSymmetricTensor(t, (_c,), (_k,))*AntiSymmetricTensor(t, (_d,), (i,))*AntiSymmetricTensor(t, (a, b), (j, _l))*AntiSymmetricTensor(v, (_k, _l), (_c, _d))*PermutationOperator(i, j) + AntiSymmetricTensor(t, (_c,), (_k,))*AntiSymmetricTensor(t, (a,), (_l,))*AntiSymmetricTensor(t, (b, _d), (i, j))*AntiSymmetricTensor(v, (_k, _l), (_c, _d))*PermutationOperator(a, b) - AntiSymmetricTensor(t, (_c,), (_k,))*AntiSymmetricTensor(t, (a, _d), (i, j))*AntiSymmetricTensor(v, (b, _k), (_c, _d))*PermutationOperator(a, b) + AntiSymmetricTensor(t, (_c,), (_k,))*AntiSymmetricTensor(t, (a, b), (i, _l))*AntiSymmetricTensor(v, (_k, _l), (j, _c))*PermutationOperator(i, j) + AntiSymmetricTensor(t, (_c,), (i,))*AntiSymmetricTensor(t, (_d,), (j,))*AntiSymmetricTensor(t, (a,), (_k,))*AntiSymmetricTensor(t, (b,), (_l,))*AntiSymmetricTensor(v, (_k, _l), (_c, _d)) + AntiSymmetricTensor(t, (_c,), (i,))*AntiSymmetricTensor(t, (_d,), (j,))*AntiSymmetricTensor(t, (a,), (_k,))*AntiSymmetricTensor(v, (b, _k), (_c, _d))*PermutationOperator(a, b) + AntiSymmetricTensor(t, (_c,), (i,))*AntiSymmetricTensor(t, (_d,), (j,))*AntiSymmetricTensor(t, (a, b), (_k, _l))*AntiSymmetricTensor(v, (_k, _l), (_c, _d))/2 + AntiSymmetricTensor(t, (_c,), (i,))*AntiSymmetricTensor(t, (_d,), (j,))*AntiSymmetricTensor(v, (a, b), (_c, _d)) - AntiSymmetricTensor(t, (_c,), (i,))*AntiSymmetricTensor(t, (a,), (_k,))*AntiSymmetricTensor(t, (b,), (_l,))*AntiSymmetricTensor(v, (_k, _l), (j, _c))*PermutationOperator(i, j) - AntiSymmetricTensor(t, (_c,), (i,))*AntiSymmetricTensor(t, (a,), (_k,))*AntiSymmetricTensor(t, (b, _d), (j, _l))*AntiSymmetricTensor(v, (_k, _l), (_c, _d))*PermutationOperator(a, b)*PermutationOperator(i, j) - AntiSymmetricTensor(t, (_c,), (i,))*AntiSymmetricTensor(t, (a,), (_k,))*AntiSymmetricTensor(v, (b, _k), (j, _c))*PermutationOperator(a, b)*PermutationOperator(i, j) - AntiSymmetricTensor(t, (_c,), (i,))*AntiSymmetricTensor(t, (a, _d), (j, _k))*AntiSymmetricTensor(v, (b, _k), (_c, _d))*PermutationOperator(a, b)*PermutationOperator(i, j) - AntiSymmetricTensor(t, (_c,), (i,))*AntiSymmetricTensor(t, (a, b), (_k, _l))*AntiSymmetricTensor(v, (_k, _l), (j, _c))*PermutationOperator(i, j)/2 - AntiSymmetricTensor(t, (_c,), (i,))*AntiSymmetricTensor(v, (a, b), (j, _c))*PermutationOperator(i, j) + AntiSymmetricTensor(t, (a,), (_k,))*AntiSymmetricTensor(t, (b,), (_l,))*AntiSymmetricTensor(t, (_c, _d), (i, j))*AntiSymmetricTensor(v, (_k, _l), (_c, _d))/2 + AntiSymmetricTensor(t, (a,), (_k,))*AntiSymmetricTensor(t, (b,), (_l,))*AntiSymmetricTensor(v, (_k, _l), (i, j)) + AntiSymmetricTensor(t, (a,), (_k,))*AntiSymmetricTensor(t, (_c, _d), (i, j))*AntiSymmetricTensor(v, (b, _k), (_c, _d))*PermutationOperator(a, b)/2 + AntiSymmetricTensor(t, (a,), (_k,))*AntiSymmetricTensor(t, (b, _c), (i, _l))*AntiSymmetricTensor(v, (_k, _l), (j, _c))*PermutationOperator(a, b)*PermutationOperator(i, j) + AntiSymmetricTensor(t, (a,), (_k,))*AntiSymmetricTensor(v, (b, _k), (i, j))*PermutationOperator(a, b) + AntiSymmetricTensor(t, (_c, _d), (i, j))*AntiSymmetricTensor(t, (a, b), (_k, _l))*AntiSymmetricTensor(v, (_k, _l), (_c, _d))/4 + AntiSymmetricTensor(t, (_c, _d), (i, j))*AntiSymmetricTensor(v, (a, b), (_c, _d))/2 + AntiSymmetricTensor(t, (_c, _d), (j, _k))*AntiSymmetricTensor(t, (a, b), (i, _l))*AntiSymmetricTensor(v, (_k, _l), (_c, _d))*PermutationOperator(i, j)/2 - AntiSymmetricTensor(t, (a, _c), (_k, _l))*AntiSymmetricTensor(t, (b, _d), (i, j))*AntiSymmetricTensor(v, (_k, _l), (_c, _d))*PermutationOperator(a, b)/2 + AntiSymmetricTensor(t, (a, _c), (i, _k))*AntiSymmetricTensor(t, (b, _d), (j, _l))*AntiSymmetricTensor(v, (_k, _l), (_c, _d))*PermutationOperator(a, b) + AntiSymmetricTensor(t, (a, _c), (i, _k))*AntiSymmetricTensor(v, (b, _k), (j, _c))*PermutationOperator(a, b)*PermutationOperator(i, j) + AntiSymmetricTensor(t, (a, b), (_k, _l))*AntiSymmetricTensor(v, (_k, _l), (i, j))/2 + AntiSymmetricTensor(v, (a, b), (i, j))\n"
     ]
    }
   ],
   "source": [
    "def get_CC_operators():\n",
    "    \"\"\"\n",
    "    Returns a tuple (T1,T2) of unique operators.\n",
    "    \"\"\"\n",
    "    i = symbols('i', below_fermi=True, cls=Dummy)\n",
    "    a = symbols('a', above_fermi=True, cls=Dummy)\n",
    "    t_ai = AntiSymmetricTensor('t', (a,), (i,))\n",
    "    ai = NO(Fd(a)*F(i))\n",
    "    i, j = symbols('i,j', below_fermi=True, cls=Dummy)\n",
    "    a, b = symbols('a,b', above_fermi=True, cls=Dummy)\n",
    "    t_abij = AntiSymmetricTensor('t', (a, b), (i, j))\n",
    "    abji = NO(Fd(a)*Fd(b)*F(j)*F(i))\n",
    "\n",
    "    T1 = t_ai*ai\n",
    "    T2 = Rational(1, 4)*t_abij*abji\n",
    "    return (T1, T2)\n",
    "\n",
    "\n",
    "print()\n",
    "print(\"Calculates the Coupled-Cluster energy- and amplitude equations\")\n",
    "print(\"See 'An Introduction to Coupled Cluster Theory' by\")\n",
    "print(\"T. Daniel Crawford and Henry F. Schaefer III\")\n",
    "print(\"Reference to a Lecture Series: http://vergil.chemistry.gatech.edu/notes/sahan-cc-2010.pdf\")\n",
    "print()\n",
    "\n",
    "# setup hamiltonian\n",
    "p, q, r, s = symbols('p,q,r,s', cls=Dummy)\n",
    "f = AntiSymmetricTensor('f', (p,), (q,))\n",
    "pr = NO(Fd(p)*F(q))\n",
    "v = AntiSymmetricTensor('v', (p, q), (r, s))\n",
    "pqsr = NO(Fd(p)*Fd(q)*F(s)*F(r))\n",
    "\n",
    "H = f*pr + Rational(1, 4)*v*pqsr\n",
    "print(\"Using the hamiltonian:\", latex(H))\n",
    "\n",
    "print(\"Calculating 4 nested commutators\")\n",
    "C = Commutator\n",
    "\n",
    "T1, T2 = get_CC_operators()\n",
    "T = T1 + T2\n",
    "print(\"commutator 1...\")\n",
    "comm1 = wicks(C(H, T))\n",
    "comm1 = evaluate_deltas(comm1)\n",
    "comm1 = substitute_dummies(comm1)\n",
    "\n",
    "T1, T2 = get_CC_operators()\n",
    "T = T1 + T2\n",
    "print(\"commutator 2...\")\n",
    "comm2 = wicks(C(comm1, T))\n",
    "comm2 = evaluate_deltas(comm2)\n",
    "comm2 = substitute_dummies(comm2)\n",
    "\n",
    "T1, T2 = get_CC_operators()\n",
    "T = T1 + T2\n",
    "print(\"commutator 3...\")\n",
    "comm3 = wicks(C(comm2, T))\n",
    "comm3 = evaluate_deltas(comm3)\n",
    "comm3 = substitute_dummies(comm3)\n",
    "\n",
    "T1, T2 = get_CC_operators()\n",
    "T = T1 + T2\n",
    "print(\"commutator 4...\")\n",
    "comm4 = wicks(C(comm3, T))\n",
    "comm4 = evaluate_deltas(comm4)\n",
    "comm4 = substitute_dummies(comm4)\n",
    "\n",
    "print(\"construct Hausdorff expansion...\")\n",
    "eq = H + comm1 + comm2/2 + comm3/6 + comm4/24\n",
    "eq = eq.expand()\n",
    "eq = evaluate_deltas(eq)\n",
    "eq = substitute_dummies(eq, new_indices=True,\n",
    "        pretty_indices=pretty_dummies_dict)\n",
    "print(\"*********************\")\n",
    "print()\n",
    "\n",
    "print(\"extracting CC equations from full Hbar\")\n",
    "i, j, k, l = symbols('i,j,k,l', below_fermi=True)\n",
    "a, b, c, d = symbols('a,b,c,d', above_fermi=True)\n",
    "print()\n",
    "print(\"CC Energy:\")\n",
    "print(latex(wicks(eq, simplify_dummies=True,\n",
    "     keep_only_fully_contracted=True)))\n",
    "print()\n",
    "print(\"CC T1:\")\n",
    "eqT1 = wicks(NO(Fd(i)*F(a))*eq, simplify_kronecker_deltas=True, keep_only_fully_contracted=True)\n",
    "eqT1 = substitute_dummies(eqT1)\n",
    "print(latex(eqT1))\n",
    "print()\n",
    "print(\"CC T2:\")\n",
    "eqT2 = wicks(NO(Fd(i)*Fd(j)*F(b)*F(a))*eq, simplify_dummies=True, keep_only_fully_contracted=True, simplify_kronecker_deltas=True)\n",
    "P = PermutationOperator\n",
    "eqT2 = simplify_index_permutations(eqT2, [P(a, b), P(i, j)])\n",
    "print(eqT2)"
   ]
  },
  {
   "cell_type": "code",
   "execution_count": 47,
   "metadata": {},
   "outputs": [
    {
     "data": {
      "text/latex": [
       "$\\displaystyle f^{k}_{c} t^{c}_{i} t^{ab}_{jk} P(ij) + f^{k}_{c} t^{a}_{k} t^{bc}_{ij} P(ab) + f^{k}_{i} t^{ab}_{jk} P(ij) - f^{a}_{c} t^{bc}_{ij} P(ab) + t^{c}_{k} t^{d}_{i} t^{ab}_{jl} v^{kl}_{cd} P(ij) + t^{c}_{k} t^{a}_{l} t^{bd}_{ij} v^{kl}_{cd} P(ab) - t^{c}_{k} t^{ad}_{ij} v^{bk}_{cd} P(ab) + t^{c}_{k} t^{ab}_{il} v^{kl}_{jc} P(ij) + t^{c}_{i} t^{d}_{j} t^{a}_{k} t^{b}_{l} v^{kl}_{cd} + t^{c}_{i} t^{d}_{j} t^{a}_{k} v^{bk}_{cd} P(ab) + \\frac{t^{c}_{i} t^{d}_{j} t^{ab}_{kl} v^{kl}_{cd}}{2} + t^{c}_{i} t^{d}_{j} v^{ab}_{cd} - t^{c}_{i} t^{a}_{k} t^{b}_{l} v^{kl}_{jc} P(ij) - t^{c}_{i} t^{a}_{k} t^{bd}_{jl} v^{kl}_{cd} P(ab) P(ij) - t^{c}_{i} t^{a}_{k} v^{bk}_{jc} P(ab) P(ij) - t^{c}_{i} t^{ad}_{jk} v^{bk}_{cd} P(ab) P(ij) - \\frac{t^{c}_{i} t^{ab}_{kl} v^{kl}_{jc} P(ij)}{2} - t^{c}_{i} v^{ab}_{jc} P(ij) + \\frac{t^{a}_{k} t^{b}_{l} t^{cd}_{ij} v^{kl}_{cd}}{2} + t^{a}_{k} t^{b}_{l} v^{kl}_{ij} + \\frac{t^{a}_{k} t^{cd}_{ij} v^{bk}_{cd} P(ab)}{2} + t^{a}_{k} t^{bc}_{il} v^{kl}_{jc} P(ab) P(ij) + t^{a}_{k} v^{bk}_{ij} P(ab) + \\frac{t^{cd}_{ij} t^{ab}_{kl} v^{kl}_{cd}}{4} + \\frac{t^{cd}_{ij} v^{ab}_{cd}}{2} + \\frac{t^{cd}_{jk} t^{ab}_{il} v^{kl}_{cd} P(ij)}{2} - \\frac{t^{ac}_{kl} t^{bd}_{ij} v^{kl}_{cd} P(ab)}{2} + t^{ac}_{ik} t^{bd}_{jl} v^{kl}_{cd} P(ab) + t^{ac}_{ik} v^{bk}_{jc} P(ab) P(ij) + \\frac{t^{ab}_{kl} v^{kl}_{ij}}{2} + v^{ab}_{ij}$"
      ],
      "text/plain": [
       "AntiSymmetricTensor(f, (_k,), (_c,))*AntiSymmetricTensor(t, (_c,), (i,))*AntiSymmetricTensor(t, (a, b), (j, _k))*PermutationOperator(i, j) + AntiSymmetricTensor(f, (_k,), (_c,))*AntiSymmetricTensor(t, (a,), (_k,))*AntiSymmetricTensor(t, (b, _c), (i, j))*PermutationOperator(a, b) + AntiSymmetricTensor(f, (_k,), (i,))*AntiSymmetricTensor(t, (a, b), (j, _k))*PermutationOperator(i, j) - AntiSymmetricTensor(f, (a,), (_c,))*AntiSymmetricTensor(t, (b, _c), (i, j))*PermutationOperator(a, b) + AntiSymmetricTensor(t, (_c,), (_k,))*AntiSymmetricTensor(t, (_d,), (i,))*AntiSymmetricTensor(t, (a, b), (j, _l))*AntiSymmetricTensor(v, (_k, _l), (_c, _d))*PermutationOperator(i, j) + AntiSymmetricTensor(t, (_c,), (_k,))*AntiSymmetricTensor(t, (a,), (_l,))*AntiSymmetricTensor(t, (b, _d), (i, j))*AntiSymmetricTensor(v, (_k, _l), (_c, _d))*PermutationOperator(a, b) - AntiSymmetricTensor(t, (_c,), (_k,))*AntiSymmetricTensor(t, (a, _d), (i, j))*AntiSymmetricTensor(v, (b, _k), (_c, _d))*PermutationOperator(a, b) + AntiSymmetricTensor(t, (_c,), (_k,))*AntiSymmetricTensor(t, (a, b), (i, _l))*AntiSymmetricTensor(v, (_k, _l), (j, _c))*PermutationOperator(i, j) + AntiSymmetricTensor(t, (_c,), (i,))*AntiSymmetricTensor(t, (_d,), (j,))*AntiSymmetricTensor(t, (a,), (_k,))*AntiSymmetricTensor(t, (b,), (_l,))*AntiSymmetricTensor(v, (_k, _l), (_c, _d)) + AntiSymmetricTensor(t, (_c,), (i,))*AntiSymmetricTensor(t, (_d,), (j,))*AntiSymmetricTensor(t, (a,), (_k,))*AntiSymmetricTensor(v, (b, _k), (_c, _d))*PermutationOperator(a, b) + AntiSymmetricTensor(t, (_c,), (i,))*AntiSymmetricTensor(t, (_d,), (j,))*AntiSymmetricTensor(t, (a, b), (_k, _l))*AntiSymmetricTensor(v, (_k, _l), (_c, _d))/2 + AntiSymmetricTensor(t, (_c,), (i,))*AntiSymmetricTensor(t, (_d,), (j,))*AntiSymmetricTensor(v, (a, b), (_c, _d)) - AntiSymmetricTensor(t, (_c,), (i,))*AntiSymmetricTensor(t, (a,), (_k,))*AntiSymmetricTensor(t, (b,), (_l,))*AntiSymmetricTensor(v, (_k, _l), (j, _c))*PermutationOperator(i, j) - AntiSymmetricTensor(t, (_c,), (i,))*AntiSymmetricTensor(t, (a,), (_k,))*AntiSymmetricTensor(t, (b, _d), (j, _l))*AntiSymmetricTensor(v, (_k, _l), (_c, _d))*PermutationOperator(a, b)*PermutationOperator(i, j) - AntiSymmetricTensor(t, (_c,), (i,))*AntiSymmetricTensor(t, (a,), (_k,))*AntiSymmetricTensor(v, (b, _k), (j, _c))*PermutationOperator(a, b)*PermutationOperator(i, j) - AntiSymmetricTensor(t, (_c,), (i,))*AntiSymmetricTensor(t, (a, _d), (j, _k))*AntiSymmetricTensor(v, (b, _k), (_c, _d))*PermutationOperator(a, b)*PermutationOperator(i, j) - AntiSymmetricTensor(t, (_c,), (i,))*AntiSymmetricTensor(t, (a, b), (_k, _l))*AntiSymmetricTensor(v, (_k, _l), (j, _c))*PermutationOperator(i, j)/2 - AntiSymmetricTensor(t, (_c,), (i,))*AntiSymmetricTensor(v, (a, b), (j, _c))*PermutationOperator(i, j) + AntiSymmetricTensor(t, (a,), (_k,))*AntiSymmetricTensor(t, (b,), (_l,))*AntiSymmetricTensor(t, (_c, _d), (i, j))*AntiSymmetricTensor(v, (_k, _l), (_c, _d))/2 + AntiSymmetricTensor(t, (a,), (_k,))*AntiSymmetricTensor(t, (b,), (_l,))*AntiSymmetricTensor(v, (_k, _l), (i, j)) + AntiSymmetricTensor(t, (a,), (_k,))*AntiSymmetricTensor(t, (_c, _d), (i, j))*AntiSymmetricTensor(v, (b, _k), (_c, _d))*PermutationOperator(a, b)/2 + AntiSymmetricTensor(t, (a,), (_k,))*AntiSymmetricTensor(t, (b, _c), (i, _l))*AntiSymmetricTensor(v, (_k, _l), (j, _c))*PermutationOperator(a, b)*PermutationOperator(i, j) + AntiSymmetricTensor(t, (a,), (_k,))*AntiSymmetricTensor(v, (b, _k), (i, j))*PermutationOperator(a, b) + AntiSymmetricTensor(t, (_c, _d), (i, j))*AntiSymmetricTensor(t, (a, b), (_k, _l))*AntiSymmetricTensor(v, (_k, _l), (_c, _d))/4 + AntiSymmetricTensor(t, (_c, _d), (i, j))*AntiSymmetricTensor(v, (a, b), (_c, _d))/2 + AntiSymmetricTensor(t, (_c, _d), (j, _k))*AntiSymmetricTensor(t, (a, b), (i, _l))*AntiSymmetricTensor(v, (_k, _l), (_c, _d))*PermutationOperator(i, j)/2 - AntiSymmetricTensor(t, (a, _c), (_k, _l))*AntiSymmetricTensor(t, (b, _d), (i, j))*AntiSymmetricTensor(v, (_k, _l), (_c, _d))*PermutationOperator(a, b)/2 + AntiSymmetricTensor(t, (a, _c), (i, _k))*AntiSymmetricTensor(t, (b, _d), (j, _l))*AntiSymmetricTensor(v, (_k, _l), (_c, _d))*PermutationOperator(a, b) + AntiSymmetricTensor(t, (a, _c), (i, _k))*AntiSymmetricTensor(v, (b, _k), (j, _c))*PermutationOperator(a, b)*PermutationOperator(i, j) + AntiSymmetricTensor(t, (a, b), (_k, _l))*AntiSymmetricTensor(v, (_k, _l), (i, j))/2 + AntiSymmetricTensor(v, (a, b), (i, j))"
      ]
     },
     "execution_count": 47,
     "metadata": {},
     "output_type": "execute_result"
    }
   ],
   "source": [
    "eqT2"
   ]
  },
  {
   "cell_type": "code",
   "execution_count": 48,
   "metadata": {},
   "outputs": [
    {
     "data": {
      "text/latex": [
       "$\\displaystyle - f^{k}_{c} t^{c}_{i} t^{a}_{k} + f^{k}_{c} t^{ac}_{ik} - f^{k}_{i} t^{a}_{k} + f^{a}_{c} t^{c}_{i} + f^{a}_{i} - t^{c}_{k} t^{d}_{i} t^{a}_{l} v^{kl}_{cd} - t^{c}_{k} t^{d}_{i} v^{ak}_{cd} + t^{c}_{k} t^{a}_{l} v^{kl}_{ic} + t^{c}_{k} t^{ad}_{il} v^{kl}_{cd} + t^{c}_{k} v^{ak}_{ic} - \\frac{t^{c}_{i} t^{ad}_{kl} v^{kl}_{cd}}{2} + \\frac{t^{a}_{l} t^{cd}_{ik} v^{kl}_{cd}}{2} + \\frac{t^{cd}_{ik} v^{ak}_{cd}}{2} - \\frac{t^{ac}_{kl} v^{kl}_{ic}}{2}$"
      ],
      "text/plain": [
       "-AntiSymmetricTensor(f, (_k,), (_c,))*AntiSymmetricTensor(t, (_c,), (i,))*AntiSymmetricTensor(t, (a,), (_k,)) + AntiSymmetricTensor(f, (_k,), (_c,))*AntiSymmetricTensor(t, (a, _c), (i, _k)) - AntiSymmetricTensor(f, (_k,), (i,))*AntiSymmetricTensor(t, (a,), (_k,)) + AntiSymmetricTensor(f, (a,), (_c,))*AntiSymmetricTensor(t, (_c,), (i,)) + AntiSymmetricTensor(f, (a,), (i,)) - AntiSymmetricTensor(t, (_c,), (_k,))*AntiSymmetricTensor(t, (_d,), (i,))*AntiSymmetricTensor(t, (a,), (_l,))*AntiSymmetricTensor(v, (_k, _l), (_c, _d)) - AntiSymmetricTensor(t, (_c,), (_k,))*AntiSymmetricTensor(t, (_d,), (i,))*AntiSymmetricTensor(v, (a, _k), (_c, _d)) + AntiSymmetricTensor(t, (_c,), (_k,))*AntiSymmetricTensor(t, (a,), (_l,))*AntiSymmetricTensor(v, (_k, _l), (i, _c)) + AntiSymmetricTensor(t, (_c,), (_k,))*AntiSymmetricTensor(t, (a, _d), (i, _l))*AntiSymmetricTensor(v, (_k, _l), (_c, _d)) + AntiSymmetricTensor(t, (_c,), (_k,))*AntiSymmetricTensor(v, (a, _k), (i, _c)) - AntiSymmetricTensor(t, (_c,), (i,))*AntiSymmetricTensor(t, (a, _d), (_k, _l))*AntiSymmetricTensor(v, (_k, _l), (_c, _d))/2 + AntiSymmetricTensor(t, (a,), (_l,))*AntiSymmetricTensor(t, (_c, _d), (i, _k))*AntiSymmetricTensor(v, (_k, _l), (_c, _d))/2 + AntiSymmetricTensor(t, (_c, _d), (i, _k))*AntiSymmetricTensor(v, (a, _k), (_c, _d))/2 - AntiSymmetricTensor(t, (a, _c), (_k, _l))*AntiSymmetricTensor(v, (_k, _l), (i, _c))/2"
      ]
     },
     "execution_count": 48,
     "metadata": {},
     "output_type": "execute_result"
    }
   ],
   "source": [
    "eqT1"
   ]
  },
  {
   "cell_type": "code",
   "execution_count": 75,
   "metadata": {},
   "outputs": [
    {
     "name": "stdout",
     "output_type": "stream",
     "text": [
      "\n",
      "Calculates the Coupled-Cluster energy- and amplitude equations\n",
      "See 'An Introduction to Coupled Cluster Theory' by\n",
      "T. Daniel Crawford and Henry F. Schaefer III\n",
      "Reference to a Lecture Series: http://vergil.chemistry.gatech.edu/notes/sahan-cc-2010.pdf\n",
      "\n",
      "Using the hamiltonian: f^{p}_{q} \\left\\{a^\\dagger_{p} a_{q}\\right\\} - \\frac{v^{pq}_{rs} \\left\\{a^\\dagger_{p} a^\\dagger_{q} a_{r} a_{s}\\right\\}}{4}\n",
      "Calculating 4 nested commutators\n",
      "commutator 1...\n",
      "commutator 2...\n",
      "commutator 3...\n",
      "commutator 4...\n",
      "construct Hausdorff expansion...\n",
      "*********************\n",
      "\n",
      "extracting CC equations from full Hbar\n",
      "\n",
      "CC Energy:\n",
      "f^{k}_{c} t^{c}_{k} - \\frac{t^{c}_{l} t^{d}_{k} v^{kl}_{cd}}{2} + \\frac{t^{cd}_{kl} v^{kl}_{cd}}{4}\n",
      "\n",
      "- f^{k}_{c} t^{c}_{i} t^{a}_{k} + f^{k}_{c} t^{ac}_{ik} - f^{k}_{i} t^{a}_{k} + f^{a}_{c} t^{c}_{i} + f^{a}_{i} - t^{c}_{k} t^{d}_{i} t^{a}_{l} v^{kl}_{cd} - t^{c}_{k} t^{d}_{i} v^{ak}_{cd} + t^{c}_{k} t^{a}_{l} v^{kl}_{ic} + t^{c}_{k} t^{ad}_{il} v^{kl}_{cd} + t^{c}_{k} v^{ak}_{ic} - \\frac{t^{c}_{i} t^{ad}_{kl} v^{kl}_{cd}}{2} + \\frac{t^{a}_{l} t^{cd}_{ik} v^{kl}_{cd}}{2} + \\frac{t^{cd}_{ik} v^{ak}_{cd}}{2} - \\frac{t^{ac}_{kl} v^{kl}_{ic}}{2}\n",
      "\n",
      "CC T2:\n"
     ]
    },
    {
     "data": {
      "text/latex": [
       "$\\displaystyle f^{k}_{c} t^{c}_{i} t^{ab}_{jk} P(ij) + f^{k}_{c} t^{a}_{k} t^{bc}_{ij} P(ab) + f^{k}_{i} t^{ab}_{jk} P(ij) - f^{a}_{c} t^{bc}_{ij} P(ab) + t^{c}_{k} t^{d}_{i} t^{ab}_{jl} v^{kl}_{cd} P(ij) + t^{c}_{k} t^{a}_{l} t^{bd}_{ij} v^{kl}_{cd} P(ab) - t^{c}_{k} t^{ad}_{ij} v^{bk}_{cd} P(ab) + t^{c}_{k} t^{ab}_{il} v^{kl}_{jc} P(ij) + t^{c}_{i} t^{d}_{j} t^{a}_{k} t^{b}_{l} v^{kl}_{cd} + t^{c}_{i} t^{d}_{j} t^{a}_{k} v^{bk}_{cd} P(ab) + \\frac{t^{c}_{i} t^{d}_{j} t^{ab}_{kl} v^{kl}_{cd}}{2} + t^{c}_{i} t^{d}_{j} v^{ab}_{cd} - t^{c}_{i} t^{a}_{k} t^{b}_{l} v^{kl}_{jc} P(ij) - t^{c}_{i} t^{a}_{k} t^{bd}_{jl} v^{kl}_{cd} P(ab) P(ij) - t^{c}_{i} t^{a}_{k} v^{bk}_{jc} P(ab) P(ij) - t^{c}_{i} t^{ad}_{jk} v^{bk}_{cd} P(ab) P(ij) - \\frac{t^{c}_{i} t^{ab}_{kl} v^{kl}_{jc} P(ij)}{2} - t^{c}_{i} v^{ab}_{jc} P(ij) + \\frac{t^{a}_{k} t^{b}_{l} t^{cd}_{ij} v^{kl}_{cd}}{2} + t^{a}_{k} t^{b}_{l} v^{kl}_{ij} + \\frac{t^{a}_{k} t^{cd}_{ij} v^{bk}_{cd} P(ab)}{2} + t^{a}_{k} t^{bc}_{il} v^{kl}_{jc} P(ab) P(ij) + t^{a}_{k} v^{bk}_{ij} P(ab) + \\frac{t^{cd}_{ij} t^{ab}_{kl} v^{kl}_{cd}}{4} + \\frac{t^{cd}_{ij} v^{ab}_{cd}}{2} + \\frac{t^{cd}_{jk} t^{ab}_{il} v^{kl}_{cd} P(ij)}{2} + t^{ac}_{ik} t^{bd}_{jl} v^{kl}_{cd} P(ab) + t^{ac}_{ik} v^{bk}_{jc} P(ab) P(ij) - \\frac{t^{ac}_{ij} t^{bd}_{kl} v^{kl}_{cd} P(ab)}{2} + \\frac{t^{ab}_{kl} v^{kl}_{ij}}{2} + v^{ab}_{ij}$"
      ],
      "text/plain": [
       "AntiSymmetricTensor(f, (_k,), (_c,))*AntiSymmetricTensor(t, (_c,), (i,))*AntiSymmetricTensor(t, (a, b), (j, _k))*PermutationOperator(i, j) + AntiSymmetricTensor(f, (_k,), (_c,))*AntiSymmetricTensor(t, (a,), (_k,))*AntiSymmetricTensor(t, (b, _c), (i, j))*PermutationOperator(a, b) + AntiSymmetricTensor(f, (_k,), (i,))*AntiSymmetricTensor(t, (a, b), (j, _k))*PermutationOperator(i, j) - AntiSymmetricTensor(f, (a,), (_c,))*AntiSymmetricTensor(t, (b, _c), (i, j))*PermutationOperator(a, b) + AntiSymmetricTensor(t, (_c,), (_k,))*AntiSymmetricTensor(t, (_d,), (i,))*AntiSymmetricTensor(t, (a, b), (j, _l))*AntiSymmetricTensor(v, (_k, _l), (_c, _d))*PermutationOperator(i, j) + AntiSymmetricTensor(t, (_c,), (_k,))*AntiSymmetricTensor(t, (a,), (_l,))*AntiSymmetricTensor(t, (b, _d), (i, j))*AntiSymmetricTensor(v, (_k, _l), (_c, _d))*PermutationOperator(a, b) - AntiSymmetricTensor(t, (_c,), (_k,))*AntiSymmetricTensor(t, (a, _d), (i, j))*AntiSymmetricTensor(v, (b, _k), (_c, _d))*PermutationOperator(a, b) + AntiSymmetricTensor(t, (_c,), (_k,))*AntiSymmetricTensor(t, (a, b), (i, _l))*AntiSymmetricTensor(v, (_k, _l), (j, _c))*PermutationOperator(i, j) + AntiSymmetricTensor(t, (_c,), (i,))*AntiSymmetricTensor(t, (_d,), (j,))*AntiSymmetricTensor(t, (a,), (_k,))*AntiSymmetricTensor(t, (b,), (_l,))*AntiSymmetricTensor(v, (_k, _l), (_c, _d)) + AntiSymmetricTensor(t, (_c,), (i,))*AntiSymmetricTensor(t, (_d,), (j,))*AntiSymmetricTensor(t, (a,), (_k,))*AntiSymmetricTensor(v, (b, _k), (_c, _d))*PermutationOperator(a, b) + AntiSymmetricTensor(t, (_c,), (i,))*AntiSymmetricTensor(t, (_d,), (j,))*AntiSymmetricTensor(t, (a, b), (_k, _l))*AntiSymmetricTensor(v, (_k, _l), (_c, _d))/2 + AntiSymmetricTensor(t, (_c,), (i,))*AntiSymmetricTensor(t, (_d,), (j,))*AntiSymmetricTensor(v, (a, b), (_c, _d)) - AntiSymmetricTensor(t, (_c,), (i,))*AntiSymmetricTensor(t, (a,), (_k,))*AntiSymmetricTensor(t, (b,), (_l,))*AntiSymmetricTensor(v, (_k, _l), (j, _c))*PermutationOperator(i, j) - AntiSymmetricTensor(t, (_c,), (i,))*AntiSymmetricTensor(t, (a,), (_k,))*AntiSymmetricTensor(t, (b, _d), (j, _l))*AntiSymmetricTensor(v, (_k, _l), (_c, _d))*PermutationOperator(a, b)*PermutationOperator(i, j) - AntiSymmetricTensor(t, (_c,), (i,))*AntiSymmetricTensor(t, (a,), (_k,))*AntiSymmetricTensor(v, (b, _k), (j, _c))*PermutationOperator(a, b)*PermutationOperator(i, j) - AntiSymmetricTensor(t, (_c,), (i,))*AntiSymmetricTensor(t, (a, _d), (j, _k))*AntiSymmetricTensor(v, (b, _k), (_c, _d))*PermutationOperator(a, b)*PermutationOperator(i, j) - AntiSymmetricTensor(t, (_c,), (i,))*AntiSymmetricTensor(t, (a, b), (_k, _l))*AntiSymmetricTensor(v, (_k, _l), (j, _c))*PermutationOperator(i, j)/2 - AntiSymmetricTensor(t, (_c,), (i,))*AntiSymmetricTensor(v, (a, b), (j, _c))*PermutationOperator(i, j) + AntiSymmetricTensor(t, (a,), (_k,))*AntiSymmetricTensor(t, (b,), (_l,))*AntiSymmetricTensor(t, (_c, _d), (i, j))*AntiSymmetricTensor(v, (_k, _l), (_c, _d))/2 + AntiSymmetricTensor(t, (a,), (_k,))*AntiSymmetricTensor(t, (b,), (_l,))*AntiSymmetricTensor(v, (_k, _l), (i, j)) + AntiSymmetricTensor(t, (a,), (_k,))*AntiSymmetricTensor(t, (_c, _d), (i, j))*AntiSymmetricTensor(v, (b, _k), (_c, _d))*PermutationOperator(a, b)/2 + AntiSymmetricTensor(t, (a,), (_k,))*AntiSymmetricTensor(t, (b, _c), (i, _l))*AntiSymmetricTensor(v, (_k, _l), (j, _c))*PermutationOperator(a, b)*PermutationOperator(i, j) + AntiSymmetricTensor(t, (a,), (_k,))*AntiSymmetricTensor(v, (b, _k), (i, j))*PermutationOperator(a, b) + AntiSymmetricTensor(t, (_c, _d), (i, j))*AntiSymmetricTensor(t, (a, b), (_k, _l))*AntiSymmetricTensor(v, (_k, _l), (_c, _d))/4 + AntiSymmetricTensor(t, (_c, _d), (i, j))*AntiSymmetricTensor(v, (a, b), (_c, _d))/2 + AntiSymmetricTensor(t, (_c, _d), (j, _k))*AntiSymmetricTensor(t, (a, b), (i, _l))*AntiSymmetricTensor(v, (_k, _l), (_c, _d))*PermutationOperator(i, j)/2 + AntiSymmetricTensor(t, (a, _c), (i, _k))*AntiSymmetricTensor(t, (b, _d), (j, _l))*AntiSymmetricTensor(v, (_k, _l), (_c, _d))*PermutationOperator(a, b) + AntiSymmetricTensor(t, (a, _c), (i, _k))*AntiSymmetricTensor(v, (b, _k), (j, _c))*PermutationOperator(a, b)*PermutationOperator(i, j) - AntiSymmetricTensor(t, (a, _c), (i, j))*AntiSymmetricTensor(t, (b, _d), (_k, _l))*AntiSymmetricTensor(v, (_k, _l), (_c, _d))*PermutationOperator(a, b)/2 + AntiSymmetricTensor(t, (a, b), (_k, _l))*AntiSymmetricTensor(v, (_k, _l), (i, j))/2 + AntiSymmetricTensor(v, (a, b), (i, j))"
      ]
     },
     "execution_count": 75,
     "metadata": {},
     "output_type": "execute_result"
    }
   ],
   "source": [
    "def get_CC_operators():\n",
    "    \"\"\"\n",
    "    Returns a tuple (T1,T2) of unique operators.\n",
    "    \"\"\"\n",
    "    i = symbols('i', below_fermi=True, cls=Dummy)\n",
    "    a = symbols('a', above_fermi=True, cls=Dummy)\n",
    "    t_ai = AntiSymmetricTensor('t', (a,), (i,))\n",
    "    ai = NO(Fd(a)*F(i))\n",
    "    i, j = symbols('i,j', below_fermi=True, cls=Dummy)\n",
    "    a, b = symbols('a,b', above_fermi=True, cls=Dummy)\n",
    "    t_abij = AntiSymmetricTensor('t', (a, b), (i, j))\n",
    "    abji = NO(Fd(a)*Fd(b)*F(j)*F(i))\n",
    "\n",
    "    T1 = t_ai*ai\n",
    "    T2 = Rational(1, 4)*t_abij*abji\n",
    "    return T1 + T2\n",
    "\n",
    "\n",
    "print()\n",
    "print(\"Calculates the Coupled-Cluster energy- and amplitude equations\")\n",
    "print(\"See 'An Introduction to Coupled Cluster Theory' by\")\n",
    "print(\"T. Daniel Crawford and Henry F. Schaefer III\")\n",
    "print(\"Reference to a Lecture Series: http://vergil.chemistry.gatech.edu/notes/sahan-cc-2010.pdf\")\n",
    "print()\n",
    "\n",
    "# setup hamiltonian\n",
    "p, q, r, s = symbols('p,q,r,s', cls=Dummy)\n",
    "f = AntiSymmetricTensor('f', (p,), (q,))\n",
    "pr = NO(Fd(p)*F(q))\n",
    "v = AntiSymmetricTensor('v', (p, q), (r, s))\n",
    "pqsr = NO(Fd(p)*Fd(q)*F(s)*F(r))\n",
    "\n",
    "H = f*pr + Rational(1, 4)*v*pqsr\n",
    "print(\"Using the hamiltonian:\", latex(H))\n",
    "\n",
    "print(\"Calculating 4 nested commutators\")\n",
    "C = Commutator\n",
    "\n",
    "T = get_CC_operators()\n",
    "print(\"commutator 1...\")\n",
    "comm1 = wicks(C(H, T))\n",
    "comm1 = evaluate_deltas(comm1)\n",
    "comm1 = substitute_dummies(comm1)\n",
    "\n",
    "T = get_CC_operators()\n",
    "print(\"commutator 2...\")\n",
    "comm2 = wicks(C(comm1, T))\n",
    "comm2 = evaluate_deltas(comm2)\n",
    "comm2 = substitute_dummies(comm2)\n",
    "\n",
    "T = get_CC_operators()\n",
    "print(\"commutator 3...\")\n",
    "comm3 = wicks(C(comm2, T))\n",
    "comm3 = evaluate_deltas(comm3)\n",
    "comm3 = substitute_dummies(comm3)\n",
    "\n",
    "T = get_CC_operators()\n",
    "print(\"commutator 4...\")\n",
    "comm4 = wicks(C(comm3, T))\n",
    "comm4 = evaluate_deltas(comm4)\n",
    "comm4 = substitute_dummies(comm4)\n",
    "\n",
    "print(\"construct Hausdorff expansion...\")\n",
    "eq = H + comm1 + comm2/2 + comm3/6 + comm4/24\n",
    "eq = eq.expand()\n",
    "eq = evaluate_deltas(eq)\n",
    "eq = substitute_dummies(eq, new_indices=True,\n",
    "        pretty_indices=pretty_dummies_dict)\n",
    "print(\"*********************\")\n",
    "print()\n",
    "\n",
    "print(\"extracting CC equations from full Hbar\")\n",
    "i, j, k, l = symbols('i,j,k,l', below_fermi=True)\n",
    "a, b, c, d = symbols('a,b,c,d', above_fermi=True)\n",
    "print()\n",
    "print(\"CC Energy:\")\n",
    "print(latex(wicks(eq, simplify_dummies=True,\n",
    "     keep_only_fully_contracted=True)))\n",
    "print()\n",
    "\n",
    "print(latex(eqT1))\n",
    "print()\n",
    "print(\"CC T2:\")\n",
    "eqT2 = wicks(NO(Fd(i)*Fd(j)*F(b)*F(a))*eq, simplify_dummies=True, keep_only_fully_contracted=True, simplify_kronecker_deltas=True)\n",
    "P = PermutationOperator\n",
    "eqT2 = simplify_index_permutations(eqT2, [P(a, b), P(i, j)])\n",
    "eqT2"
   ]
  },
  {
   "cell_type": "code",
   "execution_count": 76,
   "metadata": {},
   "outputs": [
    {
     "data": {
      "text/latex": [
       "$\\displaystyle f^{d}_{c} t^{c}_{k} \\left\\{a^\\dagger_{d} a_{k}\\right\\} - \\frac{f^{d}_{c} t^{ce}_{kl} \\left\\{a^\\dagger_{d} a^\\dagger_{e} a_{k} a_{l}\\right\\}}{2} + f^{k}_{c} t^{c}_{k} - f^{k}_{c} t^{c}_{l} t^{d}_{k} \\left\\{a^\\dagger_{d} a_{l}\\right\\} - f^{k}_{c} t^{c}_{l} \\left\\{a_{l} a^\\dagger_{k}\\right\\} - \\frac{f^{k}_{c} t^{c}_{m} t^{de}_{kl} \\left\\{a^\\dagger_{d} a^\\dagger_{e} a_{l} a_{m}\\right\\}}{2} - f^{k}_{c} t^{d}_{k} \\left\\{a^\\dagger_{d} a_{c}\\right\\} - \\frac{f^{k}_{c} t^{e}_{k} t^{cd}_{lm} \\left\\{a^\\dagger_{d} a^\\dagger_{e} a_{l} a_{m}\\right\\}}{2} + f^{k}_{c} t^{cd}_{kl} \\left\\{a^\\dagger_{d} a_{l}\\right\\} + \\frac{f^{k}_{c} t^{cd}_{lm} \\left\\{a^\\dagger_{d} a_{l} a_{m} a^\\dagger_{k}\\right\\}}{2} - \\frac{f^{k}_{c} t^{cf}_{mn} t^{de}_{kl} \\left\\{a^\\dagger_{d} a^\\dagger_{e} a^\\dagger_{f} a_{l} a_{m} a_{n}\\right\\}}{4} - \\frac{f^{k}_{c} t^{de}_{kl} \\left\\{a^\\dagger_{d} a^\\dagger_{e} a_{l} a_{c}\\right\\}}{2} - f^{k}_{l} t^{c}_{k} \\left\\{a^\\dagger_{c} a_{l}\\right\\} + \\frac{f^{k}_{l} t^{cd}_{km} \\left\\{a^\\dagger_{c} a^\\dagger_{d} a_{l} a_{m}\\right\\}}{2} + f^{q}_{p} \\left\\{a^\\dagger_{q} a_{p}\\right\\} + \\frac{t^{a_0}_{i_1} t^{ce}_{mn} t^{df}_{lo} t^{gh}_{i_0k} v^{i_1k}_{cd} \\left\\{a^\\dagger_{a_0} a^\\dagger_{e} a^\\dagger_{f} a^\\dagger_{g} a^\\dagger_{h} a_{i_0} a_{l} a_{m} a_{n} a_{o}\\right\\}}{16} - \\frac{t^{a_0}_{i_1} t^{ch}_{i_0o} t^{de}_{lm} t^{fg}_{kn} v^{kl}_{a_0c} \\left\\{a^\\dagger_{d} a^\\dagger_{e} a^\\dagger_{f} a^\\dagger_{g} a^\\dagger_{h} a_{i_0} a_{i_1} a_{m} a_{n} a_{o}\\right\\}}{16} - t^{c}_{k} t^{d}_{l} v^{ek}_{cd} \\left\\{a^\\dagger_{e} a_{l}\\right\\} - t^{c}_{k} t^{d}_{l} v^{kl}_{ce} \\left\\{a^\\dagger_{d} a_{e}\\right\\} - t^{c}_{k} t^{d}_{l} v^{kl}_{cm} \\left\\{a^\\dagger_{d} a_{m}\\right\\} - t^{c}_{k} t^{d}_{l} v^{km}_{cd} \\left\\{a_{l} a^\\dagger_{m}\\right\\} - t^{c}_{k} t^{d}_{m} t^{e}_{l} v^{kl}_{cd} \\left\\{a^\\dagger_{e} a_{m}\\right\\} - \\frac{t^{c}_{k} v^{de}_{cl} \\left\\{a^\\dagger_{d} a^\\dagger_{e} a_{k} a_{l}\\right\\}}{2} - t^{c}_{k} v^{dk}_{cl} \\left\\{a^\\dagger_{d} a_{l}\\right\\} - \\frac{t^{c}_{k} v^{dk}_{lm} \\left\\{a^\\dagger_{c} a^\\dagger_{d} a_{l} a_{m}\\right\\}}{2} - t^{c}_{k} v^{dm}_{cl} \\left\\{a^\\dagger_{d} a_{k} a_{l} a^\\dagger_{m}\\right\\} - \\frac{t^{c}_{k} v^{ef}_{cd} \\left\\{a^\\dagger_{e} a^\\dagger_{f} a_{k} a_{d}\\right\\}}{2} - t^{c}_{k} v^{ek}_{cd} \\left\\{a^\\dagger_{e} a_{d}\\right\\} + t^{c}_{k} v^{ek}_{dl} \\left\\{a^\\dagger_{c} a^\\dagger_{e} a_{l} a_{d}\\right\\} - t^{c}_{k} v^{el}_{cd} \\left\\{a^\\dagger_{e} a_{k} a_{d} a^\\dagger_{l}\\right\\} - \\frac{t^{c}_{k} v^{fk}_{de} \\left\\{a^\\dagger_{c} a^\\dagger_{f} a_{d} a_{e}\\right\\}}{2} - t^{c}_{k} v^{kl}_{cd} \\left\\{a_{d} a^\\dagger_{l}\\right\\} + \\frac{t^{c}_{k} v^{kl}_{de} \\left\\{a^\\dagger_{c} a_{d} a_{e} a^\\dagger_{l}\\right\\}}{2} - t^{c}_{k} v^{km}_{cl} \\left\\{a_{l} a^\\dagger_{m}\\right\\} - t^{c}_{k} v^{km}_{dl} \\left\\{a^\\dagger_{c} a_{l} a_{d} a^\\dagger_{m}\\right\\} + \\frac{t^{c}_{k} v^{kn}_{lm} \\left\\{a^\\dagger_{c} a_{l} a_{m} a^\\dagger_{n}\\right\\}}{2} - \\frac{t^{c}_{k} v^{lm}_{cd} \\left\\{a_{k} a_{d} a^\\dagger_{l} a^\\dagger_{m}\\right\\}}{2} - \\frac{t^{c}_{k} v^{mn}_{cl} \\left\\{a_{k} a_{l} a^\\dagger_{m} a^\\dagger_{n}\\right\\}}{2} + \\frac{t^{c}_{l} t^{d}_{k} v^{ef}_{cd} \\left\\{a^\\dagger_{e} a^\\dagger_{f} a_{k} a_{l}\\right\\}}{4} - t^{c}_{l} t^{d}_{k} v^{ek}_{cm} \\left\\{a^\\dagger_{d} a^\\dagger_{e} a_{l} a_{m}\\right\\} + \\frac{t^{c}_{l} t^{d}_{k} v^{em}_{cd} \\left\\{a^\\dagger_{e} a_{k} a_{l} a^\\dagger_{m}\\right\\}}{2} - t^{c}_{l} t^{d}_{k} v^{fk}_{ce} \\left\\{a^\\dagger_{d} a^\\dagger_{f} a_{l} a_{e}\\right\\} - \\frac{t^{c}_{l} t^{d}_{k} v^{kl}_{cd}}{2} + \\frac{t^{c}_{l} t^{d}_{k} v^{kl}_{ef} \\left\\{a^\\dagger_{c} a^\\dagger_{d} a_{e} a_{f}\\right\\}}{4} - \\frac{t^{c}_{l} t^{d}_{k} v^{kl}_{em} \\left\\{a^\\dagger_{c} a^\\dagger_{d} a_{m} a_{e}\\right\\}}{2} + \\frac{t^{c}_{l} t^{d}_{k} v^{kl}_{mn} \\left\\{a^\\dagger_{c} a^\\dagger_{d} a_{m} a_{n}\\right\\}}{4} + t^{c}_{l} t^{d}_{k} v^{km}_{ce} \\left\\{a^\\dagger_{d} a_{l} a_{e} a^\\dagger_{m}\\right\\} + t^{c}_{l} t^{d}_{k} v^{kn}_{cm} \\left\\{a^\\dagger_{d} a_{l} a_{m} a^\\dagger_{n}\\right\\} + \\frac{t^{c}_{l} t^{d}_{k} v^{mn}_{cd} \\left\\{a_{k} a_{l} a^\\dagger_{m} a^\\dagger_{n}\\right\\}}{4} + \\frac{t^{c}_{m} t^{d}_{l} t^{e}_{k} v^{fk}_{cd} \\left\\{a^\\dagger_{e} a^\\dagger_{f} a_{l} a_{m}\\right\\}}{2} + \\frac{t^{c}_{m} t^{d}_{l} t^{e}_{k} v^{kl}_{cf} \\left\\{a^\\dagger_{d} a^\\dagger_{e} a_{m} a_{f}\\right\\}}{2} + \\frac{t^{c}_{m} t^{d}_{l} t^{e}_{k} v^{kl}_{cn} \\left\\{a^\\dagger_{d} a^\\dagger_{e} a_{m} a_{n}\\right\\}}{2} - \\frac{t^{c}_{m} t^{d}_{l} t^{e}_{k} v^{kn}_{cd} \\left\\{a^\\dagger_{e} a_{l} a_{m} a^\\dagger_{n}\\right\\}}{2} - \\frac{t^{c}_{n} t^{d}_{m} t^{e}_{l} t^{f}_{k} v^{kl}_{cd} \\left\\{a^\\dagger_{e} a^\\dagger_{f} a_{m} a_{n}\\right\\}}{4} + \\frac{t^{e}_{m} t^{f}_{n} t^{cd}_{kl} v^{km}_{ef} \\left\\{a^\\dagger_{c} a^\\dagger_{d} a_{l} a_{n}\\right\\}}{2} + \\frac{t^{e}_{m} t^{f}_{n} t^{cd}_{kl} v^{mn}_{ce} \\left\\{a^\\dagger_{d} a^\\dagger_{f} a_{k} a_{l}\\right\\}}{2} + \\frac{t^{e}_{m} t^{cd}_{kl} v^{fg}_{ce} \\left\\{a^\\dagger_{d} a^\\dagger_{f} a^\\dagger_{g} a_{k} a_{l} a_{m}\\right\\}}{4} + t^{e}_{m} t^{cd}_{kl} v^{fk}_{ce} \\left\\{a^\\dagger_{d} a^\\dagger_{f} a_{l} a_{m}\\right\\} + \\frac{t^{e}_{m} t^{cd}_{kl} v^{fk}_{en} \\left\\{a^\\dagger_{c} a^\\dagger_{d} a^\\dagger_{f} a_{l} a_{m} a_{n}\\right\\}}{2} - \\frac{t^{e}_{m} t^{cd}_{kl} v^{fm}_{cd} \\left\\{a^\\dagger_{e} a^\\dagger_{f} a_{k} a_{l}\\right\\}}{4} + \\frac{t^{e}_{m} t^{cd}_{kl} v^{fm}_{ce} \\left\\{a^\\dagger_{d} a^\\dagger_{f} a_{k} a_{l}\\right\\}}{2} + \\frac{t^{e}_{m} t^{cd}_{kl} v^{fm}_{cn} \\left\\{a^\\dagger_{d} a^\\dagger_{e} a^\\dagger_{f} a_{k} a_{l} a_{n}\\right\\}}{2} - \\frac{t^{e}_{m} t^{cd}_{kl} v^{fn}_{ce} \\left\\{a^\\dagger_{d} a^\\dagger_{f} a_{k} a_{l} a_{m} a^\\dagger_{n}\\right\\}}{2} + \\frac{t^{e}_{m} t^{cd}_{kl} v^{gk}_{ef} \\left\\{a^\\dagger_{c} a^\\dagger_{d} a^\\dagger_{g} a_{l} a_{m} a_{f}\\right\\}}{2} + \\frac{t^{e}_{m} t^{cd}_{kl} v^{gm}_{cf} \\left\\{a^\\dagger_{d} a^\\dagger_{e} a^\\dagger_{g} a_{k} a_{l} a_{f}\\right\\}}{2} - \\frac{t^{e}_{m} t^{cd}_{kl} v^{kl}_{ce} \\left\\{a^\\dagger_{d} a_{m}\\right\\}}{2} - \\frac{t^{e}_{m} t^{cd}_{kl} v^{kl}_{ef} \\left\\{a^\\dagger_{c} a^\\dagger_{d} a_{m} a_{f}\\right\\}}{4} - \\frac{t^{e}_{m} t^{cd}_{kl} v^{kl}_{en} \\left\\{a^\\dagger_{c} a^\\dagger_{d} a_{m} a_{n}\\right\\}}{4} - \\frac{t^{e}_{m} t^{cd}_{kl} v^{km}_{cd} \\left\\{a^\\dagger_{e} a_{l}\\right\\}}{2} + t^{e}_{m} t^{cd}_{kl} v^{km}_{ce} \\left\\{a^\\dagger_{d} a_{l}\\right\\} + t^{e}_{m} t^{cd}_{kl} v^{km}_{cf} \\left\\{a^\\dagger_{d} a^\\dagger_{e} a_{l} a_{f}\\right\\} + t^{e}_{m} t^{cd}_{kl} v^{km}_{cn} \\left\\{a^\\dagger_{d} a^\\dagger_{e} a_{l} a_{n}\\right\\} + \\frac{t^{e}_{m} t^{cd}_{kl} v^{km}_{ef} \\left\\{a^\\dagger_{c} a^\\dagger_{d} a_{l} a_{f}\\right\\}}{2} + \\frac{t^{e}_{m} t^{cd}_{kl} v^{km}_{en} \\left\\{a^\\dagger_{c} a^\\dagger_{d} a_{l} a_{n}\\right\\}}{2} + \\frac{t^{e}_{m} t^{cd}_{kl} v^{km}_{fg} \\left\\{a^\\dagger_{c} a^\\dagger_{d} a^\\dagger_{e} a_{l} a_{f} a_{g}\\right\\}}{4} - \\frac{t^{e}_{m} t^{cd}_{kl} v^{km}_{fn} \\left\\{a^\\dagger_{c} a^\\dagger_{d} a^\\dagger_{e} a_{l} a_{n} a_{f}\\right\\}}{2} + \\frac{t^{e}_{m} t^{cd}_{kl} v^{km}_{no} \\left\\{a^\\dagger_{c} a^\\dagger_{d} a^\\dagger_{e} a_{l} a_{n} a_{o}\\right\\}}{4} - t^{e}_{m} t^{cd}_{kl} v^{kn}_{ce} \\left\\{a^\\dagger_{d} a_{l} a_{m} a^\\dagger_{n}\\right\\} + \\frac{t^{e}_{m} t^{cd}_{kl} v^{kn}_{ef} \\left\\{a^\\dagger_{c} a^\\dagger_{d} a_{l} a_{m} a_{f} a^\\dagger_{n}\\right\\}}{2} + \\frac{t^{e}_{m} t^{cd}_{kl} v^{ko}_{en} \\left\\{a^\\dagger_{c} a^\\dagger_{d} a_{l} a_{m} a_{n} a^\\dagger_{o}\\right\\}}{2} + \\frac{t^{e}_{m} t^{cd}_{kl} v^{mn}_{cd} \\left\\{a^\\dagger_{e} a_{k} a_{l} a^\\dagger_{n}\\right\\}}{4} - \\frac{t^{e}_{m} t^{cd}_{kl} v^{mn}_{ce} \\left\\{a^\\dagger_{d} a_{k} a_{l} a^\\dagger_{n}\\right\\}}{2} + \\frac{t^{e}_{m} t^{cd}_{kl} v^{mn}_{cf} \\left\\{a^\\dagger_{d} a^\\dagger_{e} a_{k} a_{l} a_{f} a^\\dagger_{n}\\right\\}}{2} + \\frac{t^{e}_{m} t^{cd}_{kl} v^{mo}_{cn} \\left\\{a^\\dagger_{d} a^\\dagger_{e} a_{k} a_{l} a_{n} a^\\dagger_{o}\\right\\}}{2} + \\frac{t^{e}_{m} t^{cd}_{kl} v^{no}_{ce} \\left\\{a^\\dagger_{d} a_{k} a_{l} a_{m} a^\\dagger_{n} a^\\dagger_{o}\\right\\}}{4} - \\frac{t^{e}_{n} t^{f}_{m} t^{cd}_{kl} v^{gk}_{ef} \\left\\{a^\\dagger_{c} a^\\dagger_{d} a^\\dagger_{g} a_{l} a_{m} a_{n}\\right\\}}{4} + \\frac{t^{e}_{n} t^{f}_{m} t^{cd}_{kl} v^{gm}_{ce} \\left\\{a^\\dagger_{d} a^\\dagger_{f} a^\\dagger_{g} a_{k} a_{l} a_{n}\\right\\}}{2} + \\frac{t^{e}_{n} t^{f}_{m} t^{cd}_{kl} v^{kl}_{ef} \\left\\{a^\\dagger_{c} a^\\dagger_{d} a_{m} a_{n}\\right\\}}{8} + t^{e}_{n} t^{f}_{m} t^{cd}_{kl} v^{km}_{ce} \\left\\{a^\\dagger_{d} a^\\dagger_{f} a_{l} a_{n}\\right\\} + \\frac{t^{e}_{n} t^{f}_{m} t^{cd}_{kl} v^{km}_{eg} \\left\\{a^\\dagger_{c} a^\\dagger_{d} a^\\dagger_{f} a_{l} a_{n} a_{g}\\right\\}}{2} + \\frac{t^{e}_{n} t^{f}_{m} t^{cd}_{kl} v^{km}_{eo} \\left\\{a^\\dagger_{c} a^\\dagger_{d} a^\\dagger_{f} a_{l} a_{n} a_{o}\\right\\}}{2} - \\frac{t^{e}_{n} t^{f}_{m} t^{cd}_{kl} v^{ko}_{ef} \\left\\{a^\\dagger_{c} a^\\dagger_{d} a_{l} a_{m} a_{n} a^\\dagger_{o}\\right\\}}{4} + \\frac{t^{e}_{n} t^{f}_{m} t^{cd}_{kl} v^{mn}_{cd} \\left\\{a^\\dagger_{e} a^\\dagger_{f} a_{k} a_{l}\\right\\}}{8} - \\frac{t^{e}_{n} t^{f}_{m} t^{cd}_{kl} v^{mn}_{cg} \\left\\{a^\\dagger_{d} a^\\dagger_{e} a^\\dagger_{f} a_{k} a_{l} a_{g}\\right\\}}{4} - \\frac{t^{e}_{n} t^{f}_{m} t^{cd}_{kl} v^{mn}_{co} \\left\\{a^\\dagger_{d} a^\\dagger_{e} a^\\dagger_{f} a_{k} a_{l} a_{o}\\right\\}}{4} + \\frac{t^{e}_{n} t^{f}_{m} t^{cd}_{kl} v^{mo}_{ce} \\left\\{a^\\dagger_{d} a^\\dagger_{f} a_{k} a_{l} a_{n} a^\\dagger_{o}\\right\\}}{2} - \\frac{t^{e}_{o} t^{f}_{n} t^{g}_{m} t^{cd}_{kl} v^{km}_{ef} \\left\\{a^\\dagger_{c} a^\\dagger_{d} a^\\dagger_{g} a_{l} a_{n} a_{o}\\right\\}}{4} - \\frac{t^{e}_{o} t^{f}_{n} t^{g}_{m} t^{cd}_{kl} v^{mn}_{ce} \\left\\{a^\\dagger_{d} a^\\dagger_{f} a^\\dagger_{g} a_{k} a_{l} a_{o}\\right\\}}{4} + \\frac{t^{g}_{i_0} t^{h}_{o} t^{cd}_{lm} t^{ef}_{kn} v^{kl}_{gh} \\left\\{a^\\dagger_{c} a^\\dagger_{d} a^\\dagger_{e} a^\\dagger_{f} a_{i_0} a_{m} a_{n} a_{o}\\right\\}}{16} - \\frac{t^{g}_{i_0} t^{h}_{o} t^{ce}_{lm} t^{df}_{kn} v^{i_0o}_{cd} \\left\\{a^\\dagger_{e} a^\\dagger_{f} a^\\dagger_{g} a^\\dagger_{h} a_{k} a_{l} a_{m} a_{n}\\right\\}}{16} + \\frac{t^{g}_{i_0} t^{h}_{o} t^{cf}_{mn} t^{de}_{kl} v^{ko}_{cg} \\left\\{a^\\dagger_{d} a^\\dagger_{e} a^\\dagger_{f} a^\\dagger_{h} a_{i_0} a_{l} a_{m} a_{n}\\right\\}}{4} + \\frac{t^{g}_{o} t^{cd}_{lm} t^{ef}_{kn} v^{kl}_{gh} \\left\\{a^\\dagger_{c} a^\\dagger_{d} a^\\dagger_{e} a^\\dagger_{f} a_{m} a_{n} a_{o} a_{h}\\right\\}}{8} - \\frac{t^{g}_{o} t^{cd}_{lm} t^{ef}_{kn} v^{kl}_{gi_0} \\left\\{a^\\dagger_{c} a^\\dagger_{d} a^\\dagger_{e} a^\\dagger_{f} a_{i_0} a_{m} a_{n} a_{o}\\right\\}}{8} + \\frac{t^{g}_{o} t^{cd}_{lm} t^{ef}_{kn} v^{ko}_{cd} \\left\\{a^\\dagger_{e} a^\\dagger_{f} a^\\dagger_{g} a_{l} a_{m} a_{n}\\right\\}}{8} - \\frac{t^{g}_{o} t^{ce}_{lm} t^{df}_{kn} v^{ho}_{cd} \\left\\{a^\\dagger_{e} a^\\dagger_{f} a^\\dagger_{g} a^\\dagger_{h} a_{k} a_{l} a_{m} a_{n}\\right\\}}{8} - \\frac{t^{g}_{o} t^{ce}_{lm} t^{df}_{kn} v^{i_0o}_{cd} \\left\\{a^\\dagger_{e} a^\\dagger_{f} a^\\dagger_{g} a_{k} a_{l} a_{m} a_{n} a^\\dagger_{i_0}\\right\\}}{8} - \\frac{t^{g}_{o} t^{ce}_{lm} t^{df}_{kn} v^{ko}_{cd} \\left\\{a^\\dagger_{e} a^\\dagger_{f} a^\\dagger_{g} a_{l} a_{m} a_{n}\\right\\}}{2} - \\frac{t^{g}_{o} t^{cf}_{ln} t^{de}_{km} v^{kl}_{cg} \\left\\{a^\\dagger_{d} a^\\dagger_{e} a^\\dagger_{f} a_{m} a_{n} a_{o}\\right\\}}{2} - \\frac{t^{g}_{o} t^{cf}_{mn} t^{de}_{kl} v^{hk}_{cg} \\left\\{a^\\dagger_{d} a^\\dagger_{e} a^\\dagger_{f} a^\\dagger_{h} a_{l} a_{m} a_{n} a_{o}\\right\\}}{4} - \\frac{t^{g}_{o} t^{cf}_{mn} t^{de}_{kl} v^{i_0k}_{cg} \\left\\{a^\\dagger_{d} a^\\dagger_{e} a^\\dagger_{f} a_{l} a_{m} a_{n} a_{o} a^\\dagger_{i_0}\\right\\}}{4} + \\frac{t^{g}_{o} t^{cf}_{mn} t^{de}_{kl} v^{kl}_{cg} \\left\\{a^\\dagger_{d} a^\\dagger_{e} a^\\dagger_{f} a_{m} a_{n} a_{o}\\right\\}}{8} - \\frac{t^{g}_{o} t^{cf}_{mn} t^{de}_{kl} v^{ko}_{cg} \\left\\{a^\\dagger_{d} a^\\dagger_{e} a^\\dagger_{f} a_{l} a_{m} a_{n}\\right\\}}{4} - \\frac{t^{g}_{o} t^{cf}_{mn} t^{de}_{kl} v^{ko}_{ch} \\left\\{a^\\dagger_{d} a^\\dagger_{e} a^\\dagger_{f} a^\\dagger_{g} a_{l} a_{m} a_{n} a_{h}\\right\\}}{4} + \\frac{t^{g}_{o} t^{cf}_{mn} t^{de}_{kl} v^{ko}_{ci_0} \\left\\{a^\\dagger_{d} a^\\dagger_{e} a^\\dagger_{f} a^\\dagger_{g} a_{i_0} a_{l} a_{m} a_{n}\\right\\}}{4} + \\frac{t^{a_0a_1}_{i_2k} t^{ce}_{no} t^{df}_{i_0m} t^{gh}_{i_1l} v^{kl}_{cd} \\left\\{a^\\dagger_{a_0} a^\\dagger_{a_1} a^\\dagger_{e} a^\\dagger_{f} a^\\dagger_{g} a^\\dagger_{h} a_{i_0} a_{i_1} a_{i_2} a_{m} a_{n} a_{o}\\right\\}}{64} - \\frac{t^{cd}_{kl} v^{ef}_{cd} \\left\\{a^\\dagger_{e} a^\\dagger_{f} a_{k} a_{l}\\right\\}}{8} + \\frac{t^{cd}_{kl} v^{ef}_{cm} \\left\\{a^\\dagger_{d} a^\\dagger_{e} a^\\dagger_{f} a_{k} a_{l} a_{m}\\right\\}}{4} - \\frac{t^{cd}_{kl} v^{ek}_{cd} \\left\\{a^\\dagger_{e} a_{l}\\right\\}}{2} + t^{cd}_{kl} v^{ek}_{cm} \\left\\{a^\\dagger_{d} a^\\dagger_{e} a_{l} a_{m}\\right\\} + \\frac{t^{cd}_{kl} v^{ek}_{mn} \\left\\{a^\\dagger_{c} a^\\dagger_{d} a^\\dagger_{e} a_{l} a_{m} a_{n}\\right\\}}{4} - \\frac{t^{cd}_{kl} v^{em}_{cd} \\left\\{a^\\dagger_{e} a_{k} a_{l} a^\\dagger_{m}\\right\\}}{4} - \\frac{t^{cd}_{kl} v^{en}_{cm} \\left\\{a^\\dagger_{d} a^\\dagger_{e} a_{k} a_{l} a_{m} a^\\dagger_{n}\\right\\}}{2} + \\frac{t^{cd}_{kl} v^{fg}_{ce} \\left\\{a^\\dagger_{d} a^\\dagger_{f} a^\\dagger_{g} a_{k} a_{l} a_{e}\\right\\}}{4} + t^{cd}_{kl} v^{fk}_{ce} \\left\\{a^\\dagger_{d} a^\\dagger_{f} a_{l} a_{e}\\right\\} - \\frac{t^{cd}_{kl} v^{fk}_{em} \\left\\{a^\\dagger_{c} a^\\dagger_{d} a^\\dagger_{f} a_{l} a_{m} a_{e}\\right\\}}{2} - \\frac{t^{cd}_{kl} v^{fm}_{ce} \\left\\{a^\\dagger_{d} a^\\dagger_{f} a_{k} a_{l} a_{e} a^\\dagger_{m}\\right\\}}{2} + \\frac{t^{cd}_{kl} v^{gk}_{ef} \\left\\{a^\\dagger_{c} a^\\dagger_{d} a^\\dagger_{g} a_{l} a_{e} a_{f}\\right\\}}{4} + \\frac{t^{cd}_{kl} v^{kl}_{cd}}{4} - \\frac{t^{cd}_{kl} v^{kl}_{ce} \\left\\{a^\\dagger_{d} a_{e}\\right\\}}{2} - \\frac{t^{cd}_{kl} v^{kl}_{cm} \\left\\{a^\\dagger_{d} a_{m}\\right\\}}{2} - \\frac{t^{cd}_{kl} v^{kl}_{ef} \\left\\{a^\\dagger_{c} a^\\dagger_{d} a_{e} a_{f}\\right\\}}{8} + \\frac{t^{cd}_{kl} v^{kl}_{em} \\left\\{a^\\dagger_{c} a^\\dagger_{d} a_{m} a_{e}\\right\\}}{4} - \\frac{t^{cd}_{kl} v^{kl}_{mn} \\left\\{a^\\dagger_{c} a^\\dagger_{d} a_{m} a_{n}\\right\\}}{8} - \\frac{t^{cd}_{kl} v^{km}_{cd} \\left\\{a_{l} a^\\dagger_{m}\\right\\}}{2} - t^{cd}_{kl} v^{km}_{ce} \\left\\{a^\\dagger_{d} a_{l} a_{e} a^\\dagger_{m}\\right\\} + \\frac{t^{cd}_{kl} v^{km}_{ef} \\left\\{a^\\dagger_{c} a^\\dagger_{d} a_{l} a_{e} a_{f} a^\\dagger_{m}\\right\\}}{4} - t^{cd}_{kl} v^{kn}_{cm} \\left\\{a^\\dagger_{d} a_{l} a_{m} a^\\dagger_{n}\\right\\} - \\frac{t^{cd}_{kl} v^{kn}_{em} \\left\\{a^\\dagger_{c} a^\\dagger_{d} a_{l} a_{m} a_{e} a^\\dagger_{n}\\right\\}}{2} + \\frac{t^{cd}_{kl} v^{ko}_{mn} \\left\\{a^\\dagger_{c} a^\\dagger_{d} a_{l} a_{m} a_{n} a^\\dagger_{o}\\right\\}}{4} - \\frac{t^{cd}_{kl} v^{mn}_{cd} \\left\\{a_{k} a_{l} a^\\dagger_{m} a^\\dagger_{n}\\right\\}}{8} + \\frac{t^{cd}_{kl} v^{mn}_{ce} \\left\\{a^\\dagger_{d} a_{k} a_{l} a_{e} a^\\dagger_{m} a^\\dagger_{n}\\right\\}}{4} + \\frac{t^{cd}_{kl} v^{no}_{cm} \\left\\{a^\\dagger_{d} a_{k} a_{l} a_{m} a^\\dagger_{n} a^\\dagger_{o}\\right\\}}{4} - \\frac{t^{cd}_{kn} t^{ef}_{lm} v^{kl}_{cd} \\left\\{a^\\dagger_{e} a^\\dagger_{f} a_{m} a_{n}\\right\\}}{8} + \\frac{t^{cd}_{lm} t^{ef}_{kn} v^{gk}_{cd} \\left\\{a^\\dagger_{e} a^\\dagger_{f} a^\\dagger_{g} a_{l} a_{m} a_{n}\\right\\}}{8} - \\frac{t^{cd}_{lm} t^{ef}_{kn} v^{kl}_{cd} \\left\\{a^\\dagger_{e} a^\\dagger_{f} a_{m} a_{n}\\right\\}}{8} + \\frac{t^{cd}_{lm} t^{ef}_{kn} v^{kl}_{gh} \\left\\{a^\\dagger_{c} a^\\dagger_{d} a^\\dagger_{e} a^\\dagger_{f} a_{m} a_{n} a_{g} a_{h}\\right\\}}{16} - \\frac{t^{cd}_{lm} t^{ef}_{kn} v^{kl}_{go} \\left\\{a^\\dagger_{c} a^\\dagger_{d} a^\\dagger_{e} a^\\dagger_{f} a_{m} a_{n} a_{o} a_{g}\\right\\}}{8} + \\frac{t^{cd}_{lm} t^{ef}_{kn} v^{kl}_{i_0o} \\left\\{a^\\dagger_{c} a^\\dagger_{d} a^\\dagger_{e} a^\\dagger_{f} a_{i_0} a_{m} a_{n} a_{o}\\right\\}}{16} + \\frac{t^{cd}_{lm} t^{ef}_{kn} v^{ko}_{cd} \\left\\{a^\\dagger_{e} a^\\dagger_{f} a_{l} a_{m} a_{n} a^\\dagger_{o}\\right\\}}{8} - \\frac{t^{cd}_{mn} t^{ef}_{kl} v^{kl}_{cd} \\left\\{a^\\dagger_{e} a^\\dagger_{f} a_{m} a_{n}\\right\\}}{16} + \\frac{t^{cd}_{mn} t^{ef}_{lo} t^{gh}_{i_0k} v^{kl}_{cd} \\left\\{a^\\dagger_{e} a^\\dagger_{f} a^\\dagger_{g} a^\\dagger_{h} a_{i_0} a_{m} a_{n} a_{o}\\right\\}}{32} - \\frac{t^{ce}_{lm} t^{df}_{kn} v^{gh}_{cd} \\left\\{a^\\dagger_{e} a^\\dagger_{f} a^\\dagger_{g} a^\\dagger_{h} a_{k} a_{l} a_{m} a_{n}\\right\\}}{16} - \\frac{t^{ce}_{lm} t^{df}_{kn} v^{gk}_{cd} \\left\\{a^\\dagger_{e} a^\\dagger_{f} a^\\dagger_{g} a_{l} a_{m} a_{n}\\right\\}}{2} - \\frac{t^{ce}_{lm} t^{df}_{kn} v^{go}_{cd} \\left\\{a^\\dagger_{e} a^\\dagger_{f} a^\\dagger_{g} a_{k} a_{l} a_{m} a_{n} a^\\dagger_{o}\\right\\}}{8} - \\frac{t^{ce}_{lm} t^{df}_{kn} v^{i_0o}_{cd} \\left\\{a^\\dagger_{e} a^\\dagger_{f} a_{k} a_{l} a_{m} a_{n} a^\\dagger_{i_0} a^\\dagger_{o}\\right\\}}{16} + \\frac{t^{ce}_{lm} t^{df}_{kn} v^{kl}_{cd} \\left\\{a^\\dagger_{e} a^\\dagger_{f} a_{m} a_{n}\\right\\}}{2} - \\frac{t^{ce}_{lm} t^{df}_{kn} v^{ko}_{cd} \\left\\{a^\\dagger_{e} a^\\dagger_{f} a_{l} a_{m} a_{n} a^\\dagger_{o}\\right\\}}{2} + \\frac{t^{ce}_{mn} t^{df}_{kl} v^{kl}_{cd} \\left\\{a^\\dagger_{e} a^\\dagger_{f} a_{m} a_{n}\\right\\}}{4} - \\frac{t^{ce}_{mn} t^{df}_{lo} t^{gh}_{i_0k} v^{a_0k}_{cd} \\left\\{a^\\dagger_{a_0} a^\\dagger_{e} a^\\dagger_{f} a^\\dagger_{g} a^\\dagger_{h} a_{i_0} a_{l} a_{m} a_{n} a_{o}\\right\\}}{16} + \\frac{t^{ce}_{mn} t^{df}_{lo} t^{gh}_{i_0k} v^{i_1k}_{cd} \\left\\{a^\\dagger_{e} a^\\dagger_{f} a^\\dagger_{g} a^\\dagger_{h} a_{i_0} a_{l} a_{m} a_{n} a_{o} a^\\dagger_{i_1}\\right\\}}{16} - \\frac{t^{ce}_{mn} t^{df}_{lo} t^{gh}_{i_0k} v^{kl}_{cd} \\left\\{a^\\dagger_{e} a^\\dagger_{f} a^\\dagger_{g} a^\\dagger_{h} a_{i_0} a_{m} a_{n} a_{o}\\right\\}}{6} - \\frac{t^{ce}_{no} t^{df}_{i_0m} t^{gh}_{kl} v^{kl}_{cd} \\left\\{a^\\dagger_{e} a^\\dagger_{f} a^\\dagger_{g} a^\\dagger_{h} a_{i_0} a_{m} a_{n} a_{o}\\right\\}}{32} - \\frac{t^{cf}_{ln} t^{de}_{km} v^{kl}_{cg} \\left\\{a^\\dagger_{d} a^\\dagger_{e} a^\\dagger_{f} a_{m} a_{n} a_{g}\\right\\}}{2} - \\frac{t^{cf}_{ln} t^{de}_{km} v^{kl}_{co} \\left\\{a^\\dagger_{d} a^\\dagger_{e} a^\\dagger_{f} a_{m} a_{n} a_{o}\\right\\}}{2} - \\frac{t^{cf}_{mn} t^{de}_{kl} v^{gk}_{co} \\left\\{a^\\dagger_{d} a^\\dagger_{e} a^\\dagger_{f} a^\\dagger_{g} a_{l} a_{m} a_{n} a_{o}\\right\\}}{4} - \\frac{t^{cf}_{mn} t^{de}_{kl} v^{hk}_{cg} \\left\\{a^\\dagger_{d} a^\\dagger_{e} a^\\dagger_{f} a^\\dagger_{h} a_{l} a_{m} a_{n} a_{g}\\right\\}}{4} - \\frac{t^{cf}_{mn} t^{de}_{kl} v^{i_0k}_{co} \\left\\{a^\\dagger_{d} a^\\dagger_{e} a^\\dagger_{f} a_{l} a_{m} a_{n} a_{o} a^\\dagger_{i_0}\\right\\}}{4} + \\frac{t^{cf}_{mn} t^{de}_{kl} v^{kl}_{cg} \\left\\{a^\\dagger_{d} a^\\dagger_{e} a^\\dagger_{f} a_{m} a_{n} a_{g}\\right\\}}{8} + \\frac{t^{cf}_{mn} t^{de}_{kl} v^{kl}_{co} \\left\\{a^\\dagger_{d} a^\\dagger_{e} a^\\dagger_{f} a_{m} a_{n} a_{o}\\right\\}}{8} + \\frac{t^{cf}_{mn} t^{de}_{kl} v^{ko}_{cg} \\left\\{a^\\dagger_{d} a^\\dagger_{e} a^\\dagger_{f} a_{l} a_{m} a_{n} a_{g} a^\\dagger_{o}\\right\\}}{4} - \\frac{t^{cg}_{no} t^{dh}_{i_0k} t^{ef}_{lm} v^{kl}_{cd} \\left\\{a^\\dagger_{e} a^\\dagger_{f} a^\\dagger_{g} a^\\dagger_{h} a_{i_0} a_{m} a_{n} a_{o}\\right\\}}{12} + \\frac{t^{ch}_{i_0o} t^{de}_{lm} t^{fg}_{kn} v^{kl}_{a_0c} \\left\\{a^\\dagger_{d} a^\\dagger_{e} a^\\dagger_{f} a^\\dagger_{g} a^\\dagger_{h} a_{i_0} a_{m} a_{n} a_{o} a_{a_0}\\right\\}}{16} + \\frac{t^{ch}_{i_0o} t^{de}_{lm} t^{fg}_{kn} v^{kl}_{ci_1} \\left\\{a^\\dagger_{d} a^\\dagger_{e} a^\\dagger_{f} a^\\dagger_{g} a^\\dagger_{h} a_{i_0} a_{i_1} a_{m} a_{n} a_{o}\\right\\}}{16} - \\frac{v^{rs}_{pq} \\left\\{a^\\dagger_{r} a^\\dagger_{s} a_{p} a_{q}\\right\\}}{4}$"
      ],
      "text/plain": [
       "AntiSymmetricTensor(f, (_d,), (_c,))*AntiSymmetricTensor(t, (_c,), (_k,))*NO(CreateFermion(_d)*AnnihilateFermion(_k)) - AntiSymmetricTensor(f, (_d,), (_c,))*AntiSymmetricTensor(t, (_c, _e), (_k, _l))*NO(CreateFermion(_d)*CreateFermion(_e)*AnnihilateFermion(_k)*AnnihilateFermion(_l))/2 + AntiSymmetricTensor(f, (_k,), (_c,))*AntiSymmetricTensor(t, (_c,), (_k,)) - AntiSymmetricTensor(f, (_k,), (_c,))*AntiSymmetricTensor(t, (_c,), (_l,))*AntiSymmetricTensor(t, (_d,), (_k,))*NO(CreateFermion(_d)*AnnihilateFermion(_l)) - AntiSymmetricTensor(f, (_k,), (_c,))*AntiSymmetricTensor(t, (_c,), (_l,))*NO(AnnihilateFermion(_l)*CreateFermion(_k)) - AntiSymmetricTensor(f, (_k,), (_c,))*AntiSymmetricTensor(t, (_c,), (_m,))*AntiSymmetricTensor(t, (_d, _e), (_k, _l))*NO(CreateFermion(_d)*CreateFermion(_e)*AnnihilateFermion(_l)*AnnihilateFermion(_m))/2 - AntiSymmetricTensor(f, (_k,), (_c,))*AntiSymmetricTensor(t, (_d,), (_k,))*NO(CreateFermion(_d)*AnnihilateFermion(_c)) - AntiSymmetricTensor(f, (_k,), (_c,))*AntiSymmetricTensor(t, (_e,), (_k,))*AntiSymmetricTensor(t, (_c, _d), (_l, _m))*NO(CreateFermion(_d)*CreateFermion(_e)*AnnihilateFermion(_l)*AnnihilateFermion(_m))/2 + AntiSymmetricTensor(f, (_k,), (_c,))*AntiSymmetricTensor(t, (_c, _d), (_k, _l))*NO(CreateFermion(_d)*AnnihilateFermion(_l)) + AntiSymmetricTensor(f, (_k,), (_c,))*AntiSymmetricTensor(t, (_c, _d), (_l, _m))*NO(CreateFermion(_d)*AnnihilateFermion(_l)*AnnihilateFermion(_m)*CreateFermion(_k))/2 - AntiSymmetricTensor(f, (_k,), (_c,))*AntiSymmetricTensor(t, (_c, _f), (_m, _n))*AntiSymmetricTensor(t, (_d, _e), (_k, _l))*NO(CreateFermion(_d)*CreateFermion(_e)*CreateFermion(_f)*AnnihilateFermion(_l)*AnnihilateFermion(_m)*AnnihilateFermion(_n))/4 - AntiSymmetricTensor(f, (_k,), (_c,))*AntiSymmetricTensor(t, (_d, _e), (_k, _l))*NO(CreateFermion(_d)*CreateFermion(_e)*AnnihilateFermion(_l)*AnnihilateFermion(_c))/2 - AntiSymmetricTensor(f, (_k,), (_l,))*AntiSymmetricTensor(t, (_c,), (_k,))*NO(CreateFermion(_c)*AnnihilateFermion(_l)) + AntiSymmetricTensor(f, (_k,), (_l,))*AntiSymmetricTensor(t, (_c, _d), (_k, _m))*NO(CreateFermion(_c)*CreateFermion(_d)*AnnihilateFermion(_l)*AnnihilateFermion(_m))/2 + AntiSymmetricTensor(f, (_q,), (_p,))*NO(CreateFermion(_q)*AnnihilateFermion(_p)) + AntiSymmetricTensor(t, (_a_0,), (_i_1,))*AntiSymmetricTensor(t, (_c, _e), (_m, _n))*AntiSymmetricTensor(t, (_d, _f), (_l, _o))*AntiSymmetricTensor(t, (_g, _h), (_i_0, _k))*AntiSymmetricTensor(v, (_i_1, _k), (_c, _d))*NO(CreateFermion(_a_0)*CreateFermion(_e)*CreateFermion(_f)*CreateFermion(_g)*CreateFermion(_h)*AnnihilateFermion(_i_0)*AnnihilateFermion(_l)*AnnihilateFermion(_m)*AnnihilateFermion(_n)*AnnihilateFermion(_o))/16 - AntiSymmetricTensor(t, (_a_0,), (_i_1,))*AntiSymmetricTensor(t, (_c, _h), (_i_0, _o))*AntiSymmetricTensor(t, (_d, _e), (_l, _m))*AntiSymmetricTensor(t, (_f, _g), (_k, _n))*AntiSymmetricTensor(v, (_k, _l), (_a_0, _c))*NO(CreateFermion(_d)*CreateFermion(_e)*CreateFermion(_f)*CreateFermion(_g)*CreateFermion(_h)*AnnihilateFermion(_i_0)*AnnihilateFermion(_i_1)*AnnihilateFermion(_m)*AnnihilateFermion(_n)*AnnihilateFermion(_o))/16 - AntiSymmetricTensor(t, (_c,), (_k,))*AntiSymmetricTensor(t, (_d,), (_l,))*AntiSymmetricTensor(v, (_e, _k), (_c, _d))*NO(CreateFermion(_e)*AnnihilateFermion(_l)) - AntiSymmetricTensor(t, (_c,), (_k,))*AntiSymmetricTensor(t, (_d,), (_l,))*AntiSymmetricTensor(v, (_k, _l), (_c, _e))*NO(CreateFermion(_d)*AnnihilateFermion(_e)) - AntiSymmetricTensor(t, (_c,), (_k,))*AntiSymmetricTensor(t, (_d,), (_l,))*AntiSymmetricTensor(v, (_k, _l), (_c, _m))*NO(CreateFermion(_d)*AnnihilateFermion(_m)) - AntiSymmetricTensor(t, (_c,), (_k,))*AntiSymmetricTensor(t, (_d,), (_l,))*AntiSymmetricTensor(v, (_k, _m), (_c, _d))*NO(AnnihilateFermion(_l)*CreateFermion(_m)) - AntiSymmetricTensor(t, (_c,), (_k,))*AntiSymmetricTensor(t, (_d,), (_m,))*AntiSymmetricTensor(t, (_e,), (_l,))*AntiSymmetricTensor(v, (_k, _l), (_c, _d))*NO(CreateFermion(_e)*AnnihilateFermion(_m)) - AntiSymmetricTensor(t, (_c,), (_k,))*AntiSymmetricTensor(v, (_d, _e), (_c, _l))*NO(CreateFermion(_d)*CreateFermion(_e)*AnnihilateFermion(_k)*AnnihilateFermion(_l))/2 - AntiSymmetricTensor(t, (_c,), (_k,))*AntiSymmetricTensor(v, (_d, _k), (_c, _l))*NO(CreateFermion(_d)*AnnihilateFermion(_l)) - AntiSymmetricTensor(t, (_c,), (_k,))*AntiSymmetricTensor(v, (_d, _k), (_l, _m))*NO(CreateFermion(_c)*CreateFermion(_d)*AnnihilateFermion(_l)*AnnihilateFermion(_m))/2 - AntiSymmetricTensor(t, (_c,), (_k,))*AntiSymmetricTensor(v, (_d, _m), (_c, _l))*NO(CreateFermion(_d)*AnnihilateFermion(_k)*AnnihilateFermion(_l)*CreateFermion(_m)) - AntiSymmetricTensor(t, (_c,), (_k,))*AntiSymmetricTensor(v, (_e, _f), (_c, _d))*NO(CreateFermion(_e)*CreateFermion(_f)*AnnihilateFermion(_k)*AnnihilateFermion(_d))/2 - AntiSymmetricTensor(t, (_c,), (_k,))*AntiSymmetricTensor(v, (_e, _k), (_c, _d))*NO(CreateFermion(_e)*AnnihilateFermion(_d)) + AntiSymmetricTensor(t, (_c,), (_k,))*AntiSymmetricTensor(v, (_e, _k), (_d, _l))*NO(CreateFermion(_c)*CreateFermion(_e)*AnnihilateFermion(_l)*AnnihilateFermion(_d)) - AntiSymmetricTensor(t, (_c,), (_k,))*AntiSymmetricTensor(v, (_e, _l), (_c, _d))*NO(CreateFermion(_e)*AnnihilateFermion(_k)*AnnihilateFermion(_d)*CreateFermion(_l)) - AntiSymmetricTensor(t, (_c,), (_k,))*AntiSymmetricTensor(v, (_f, _k), (_d, _e))*NO(CreateFermion(_c)*CreateFermion(_f)*AnnihilateFermion(_d)*AnnihilateFermion(_e))/2 - AntiSymmetricTensor(t, (_c,), (_k,))*AntiSymmetricTensor(v, (_k, _l), (_c, _d))*NO(AnnihilateFermion(_d)*CreateFermion(_l)) + AntiSymmetricTensor(t, (_c,), (_k,))*AntiSymmetricTensor(v, (_k, _l), (_d, _e))*NO(CreateFermion(_c)*AnnihilateFermion(_d)*AnnihilateFermion(_e)*CreateFermion(_l))/2 - AntiSymmetricTensor(t, (_c,), (_k,))*AntiSymmetricTensor(v, (_k, _m), (_c, _l))*NO(AnnihilateFermion(_l)*CreateFermion(_m)) - AntiSymmetricTensor(t, (_c,), (_k,))*AntiSymmetricTensor(v, (_k, _m), (_d, _l))*NO(CreateFermion(_c)*AnnihilateFermion(_l)*AnnihilateFermion(_d)*CreateFermion(_m)) + AntiSymmetricTensor(t, (_c,), (_k,))*AntiSymmetricTensor(v, (_k, _n), (_l, _m))*NO(CreateFermion(_c)*AnnihilateFermion(_l)*AnnihilateFermion(_m)*CreateFermion(_n))/2 - AntiSymmetricTensor(t, (_c,), (_k,))*AntiSymmetricTensor(v, (_l, _m), (_c, _d))*NO(AnnihilateFermion(_k)*AnnihilateFermion(_d)*CreateFermion(_l)*CreateFermion(_m))/2 - AntiSymmetricTensor(t, (_c,), (_k,))*AntiSymmetricTensor(v, (_m, _n), (_c, _l))*NO(AnnihilateFermion(_k)*AnnihilateFermion(_l)*CreateFermion(_m)*CreateFermion(_n))/2 + AntiSymmetricTensor(t, (_c,), (_l,))*AntiSymmetricTensor(t, (_d,), (_k,))*AntiSymmetricTensor(v, (_e, _f), (_c, _d))*NO(CreateFermion(_e)*CreateFermion(_f)*AnnihilateFermion(_k)*AnnihilateFermion(_l))/4 - AntiSymmetricTensor(t, (_c,), (_l,))*AntiSymmetricTensor(t, (_d,), (_k,))*AntiSymmetricTensor(v, (_e, _k), (_c, _m))*NO(CreateFermion(_d)*CreateFermion(_e)*AnnihilateFermion(_l)*AnnihilateFermion(_m)) + AntiSymmetricTensor(t, (_c,), (_l,))*AntiSymmetricTensor(t, (_d,), (_k,))*AntiSymmetricTensor(v, (_e, _m), (_c, _d))*NO(CreateFermion(_e)*AnnihilateFermion(_k)*AnnihilateFermion(_l)*CreateFermion(_m))/2 - AntiSymmetricTensor(t, (_c,), (_l,))*AntiSymmetricTensor(t, (_d,), (_k,))*AntiSymmetricTensor(v, (_f, _k), (_c, _e))*NO(CreateFermion(_d)*CreateFermion(_f)*AnnihilateFermion(_l)*AnnihilateFermion(_e)) - AntiSymmetricTensor(t, (_c,), (_l,))*AntiSymmetricTensor(t, (_d,), (_k,))*AntiSymmetricTensor(v, (_k, _l), (_c, _d))/2 + AntiSymmetricTensor(t, (_c,), (_l,))*AntiSymmetricTensor(t, (_d,), (_k,))*AntiSymmetricTensor(v, (_k, _l), (_e, _f))*NO(CreateFermion(_c)*CreateFermion(_d)*AnnihilateFermion(_e)*AnnihilateFermion(_f))/4 - AntiSymmetricTensor(t, (_c,), (_l,))*AntiSymmetricTensor(t, (_d,), (_k,))*AntiSymmetricTensor(v, (_k, _l), (_e, _m))*NO(CreateFermion(_c)*CreateFermion(_d)*AnnihilateFermion(_m)*AnnihilateFermion(_e))/2 + AntiSymmetricTensor(t, (_c,), (_l,))*AntiSymmetricTensor(t, (_d,), (_k,))*AntiSymmetricTensor(v, (_k, _l), (_m, _n))*NO(CreateFermion(_c)*CreateFermion(_d)*AnnihilateFermion(_m)*AnnihilateFermion(_n))/4 + AntiSymmetricTensor(t, (_c,), (_l,))*AntiSymmetricTensor(t, (_d,), (_k,))*AntiSymmetricTensor(v, (_k, _m), (_c, _e))*NO(CreateFermion(_d)*AnnihilateFermion(_l)*AnnihilateFermion(_e)*CreateFermion(_m)) + AntiSymmetricTensor(t, (_c,), (_l,))*AntiSymmetricTensor(t, (_d,), (_k,))*AntiSymmetricTensor(v, (_k, _n), (_c, _m))*NO(CreateFermion(_d)*AnnihilateFermion(_l)*AnnihilateFermion(_m)*CreateFermion(_n)) + AntiSymmetricTensor(t, (_c,), (_l,))*AntiSymmetricTensor(t, (_d,), (_k,))*AntiSymmetricTensor(v, (_m, _n), (_c, _d))*NO(AnnihilateFermion(_k)*AnnihilateFermion(_l)*CreateFermion(_m)*CreateFermion(_n))/4 + AntiSymmetricTensor(t, (_c,), (_m,))*AntiSymmetricTensor(t, (_d,), (_l,))*AntiSymmetricTensor(t, (_e,), (_k,))*AntiSymmetricTensor(v, (_f, _k), (_c, _d))*NO(CreateFermion(_e)*CreateFermion(_f)*AnnihilateFermion(_l)*AnnihilateFermion(_m))/2 + AntiSymmetricTensor(t, (_c,), (_m,))*AntiSymmetricTensor(t, (_d,), (_l,))*AntiSymmetricTensor(t, (_e,), (_k,))*AntiSymmetricTensor(v, (_k, _l), (_c, _f))*NO(CreateFermion(_d)*CreateFermion(_e)*AnnihilateFermion(_m)*AnnihilateFermion(_f))/2 + AntiSymmetricTensor(t, (_c,), (_m,))*AntiSymmetricTensor(t, (_d,), (_l,))*AntiSymmetricTensor(t, (_e,), (_k,))*AntiSymmetricTensor(v, (_k, _l), (_c, _n))*NO(CreateFermion(_d)*CreateFermion(_e)*AnnihilateFermion(_m)*AnnihilateFermion(_n))/2 - AntiSymmetricTensor(t, (_c,), (_m,))*AntiSymmetricTensor(t, (_d,), (_l,))*AntiSymmetricTensor(t, (_e,), (_k,))*AntiSymmetricTensor(v, (_k, _n), (_c, _d))*NO(CreateFermion(_e)*AnnihilateFermion(_l)*AnnihilateFermion(_m)*CreateFermion(_n))/2 - AntiSymmetricTensor(t, (_c,), (_n,))*AntiSymmetricTensor(t, (_d,), (_m,))*AntiSymmetricTensor(t, (_e,), (_l,))*AntiSymmetricTensor(t, (_f,), (_k,))*AntiSymmetricTensor(v, (_k, _l), (_c, _d))*NO(CreateFermion(_e)*CreateFermion(_f)*AnnihilateFermion(_m)*AnnihilateFermion(_n))/4 + AntiSymmetricTensor(t, (_e,), (_m,))*AntiSymmetricTensor(t, (_f,), (_n,))*AntiSymmetricTensor(t, (_c, _d), (_k, _l))*AntiSymmetricTensor(v, (_k, _m), (_e, _f))*NO(CreateFermion(_c)*CreateFermion(_d)*AnnihilateFermion(_l)*AnnihilateFermion(_n))/2 + AntiSymmetricTensor(t, (_e,), (_m,))*AntiSymmetricTensor(t, (_f,), (_n,))*AntiSymmetricTensor(t, (_c, _d), (_k, _l))*AntiSymmetricTensor(v, (_m, _n), (_c, _e))*NO(CreateFermion(_d)*CreateFermion(_f)*AnnihilateFermion(_k)*AnnihilateFermion(_l))/2 + AntiSymmetricTensor(t, (_e,), (_m,))*AntiSymmetricTensor(t, (_c, _d), (_k, _l))*AntiSymmetricTensor(v, (_f, _g), (_c, _e))*NO(CreateFermion(_d)*CreateFermion(_f)*CreateFermion(_g)*AnnihilateFermion(_k)*AnnihilateFermion(_l)*AnnihilateFermion(_m))/4 + AntiSymmetricTensor(t, (_e,), (_m,))*AntiSymmetricTensor(t, (_c, _d), (_k, _l))*AntiSymmetricTensor(v, (_f, _k), (_c, _e))*NO(CreateFermion(_d)*CreateFermion(_f)*AnnihilateFermion(_l)*AnnihilateFermion(_m)) + AntiSymmetricTensor(t, (_e,), (_m,))*AntiSymmetricTensor(t, (_c, _d), (_k, _l))*AntiSymmetricTensor(v, (_f, _k), (_e, _n))*NO(CreateFermion(_c)*CreateFermion(_d)*CreateFermion(_f)*AnnihilateFermion(_l)*AnnihilateFermion(_m)*AnnihilateFermion(_n))/2 - AntiSymmetricTensor(t, (_e,), (_m,))*AntiSymmetricTensor(t, (_c, _d), (_k, _l))*AntiSymmetricTensor(v, (_f, _m), (_c, _d))*NO(CreateFermion(_e)*CreateFermion(_f)*AnnihilateFermion(_k)*AnnihilateFermion(_l))/4 + AntiSymmetricTensor(t, (_e,), (_m,))*AntiSymmetricTensor(t, (_c, _d), (_k, _l))*AntiSymmetricTensor(v, (_f, _m), (_c, _e))*NO(CreateFermion(_d)*CreateFermion(_f)*AnnihilateFermion(_k)*AnnihilateFermion(_l))/2 + AntiSymmetricTensor(t, (_e,), (_m,))*AntiSymmetricTensor(t, (_c, _d), (_k, _l))*AntiSymmetricTensor(v, (_f, _m), (_c, _n))*NO(CreateFermion(_d)*CreateFermion(_e)*CreateFermion(_f)*AnnihilateFermion(_k)*AnnihilateFermion(_l)*AnnihilateFermion(_n))/2 - AntiSymmetricTensor(t, (_e,), (_m,))*AntiSymmetricTensor(t, (_c, _d), (_k, _l))*AntiSymmetricTensor(v, (_f, _n), (_c, _e))*NO(CreateFermion(_d)*CreateFermion(_f)*AnnihilateFermion(_k)*AnnihilateFermion(_l)*AnnihilateFermion(_m)*CreateFermion(_n))/2 + AntiSymmetricTensor(t, (_e,), (_m,))*AntiSymmetricTensor(t, (_c, _d), (_k, _l))*AntiSymmetricTensor(v, (_g, _k), (_e, _f))*NO(CreateFermion(_c)*CreateFermion(_d)*CreateFermion(_g)*AnnihilateFermion(_l)*AnnihilateFermion(_m)*AnnihilateFermion(_f))/2 + AntiSymmetricTensor(t, (_e,), (_m,))*AntiSymmetricTensor(t, (_c, _d), (_k, _l))*AntiSymmetricTensor(v, (_g, _m), (_c, _f))*NO(CreateFermion(_d)*CreateFermion(_e)*CreateFermion(_g)*AnnihilateFermion(_k)*AnnihilateFermion(_l)*AnnihilateFermion(_f))/2 - AntiSymmetricTensor(t, (_e,), (_m,))*AntiSymmetricTensor(t, (_c, _d), (_k, _l))*AntiSymmetricTensor(v, (_k, _l), (_c, _e))*NO(CreateFermion(_d)*AnnihilateFermion(_m))/2 - AntiSymmetricTensor(t, (_e,), (_m,))*AntiSymmetricTensor(t, (_c, _d), (_k, _l))*AntiSymmetricTensor(v, (_k, _l), (_e, _f))*NO(CreateFermion(_c)*CreateFermion(_d)*AnnihilateFermion(_m)*AnnihilateFermion(_f))/4 - AntiSymmetricTensor(t, (_e,), (_m,))*AntiSymmetricTensor(t, (_c, _d), (_k, _l))*AntiSymmetricTensor(v, (_k, _l), (_e, _n))*NO(CreateFermion(_c)*CreateFermion(_d)*AnnihilateFermion(_m)*AnnihilateFermion(_n))/4 - AntiSymmetricTensor(t, (_e,), (_m,))*AntiSymmetricTensor(t, (_c, _d), (_k, _l))*AntiSymmetricTensor(v, (_k, _m), (_c, _d))*NO(CreateFermion(_e)*AnnihilateFermion(_l))/2 + AntiSymmetricTensor(t, (_e,), (_m,))*AntiSymmetricTensor(t, (_c, _d), (_k, _l))*AntiSymmetricTensor(v, (_k, _m), (_c, _e))*NO(CreateFermion(_d)*AnnihilateFermion(_l)) + AntiSymmetricTensor(t, (_e,), (_m,))*AntiSymmetricTensor(t, (_c, _d), (_k, _l))*AntiSymmetricTensor(v, (_k, _m), (_c, _f))*NO(CreateFermion(_d)*CreateFermion(_e)*AnnihilateFermion(_l)*AnnihilateFermion(_f)) + AntiSymmetricTensor(t, (_e,), (_m,))*AntiSymmetricTensor(t, (_c, _d), (_k, _l))*AntiSymmetricTensor(v, (_k, _m), (_c, _n))*NO(CreateFermion(_d)*CreateFermion(_e)*AnnihilateFermion(_l)*AnnihilateFermion(_n)) + AntiSymmetricTensor(t, (_e,), (_m,))*AntiSymmetricTensor(t, (_c, _d), (_k, _l))*AntiSymmetricTensor(v, (_k, _m), (_e, _f))*NO(CreateFermion(_c)*CreateFermion(_d)*AnnihilateFermion(_l)*AnnihilateFermion(_f))/2 + AntiSymmetricTensor(t, (_e,), (_m,))*AntiSymmetricTensor(t, (_c, _d), (_k, _l))*AntiSymmetricTensor(v, (_k, _m), (_e, _n))*NO(CreateFermion(_c)*CreateFermion(_d)*AnnihilateFermion(_l)*AnnihilateFermion(_n))/2 + AntiSymmetricTensor(t, (_e,), (_m,))*AntiSymmetricTensor(t, (_c, _d), (_k, _l))*AntiSymmetricTensor(v, (_k, _m), (_f, _g))*NO(CreateFermion(_c)*CreateFermion(_d)*CreateFermion(_e)*AnnihilateFermion(_l)*AnnihilateFermion(_f)*AnnihilateFermion(_g))/4 - AntiSymmetricTensor(t, (_e,), (_m,))*AntiSymmetricTensor(t, (_c, _d), (_k, _l))*AntiSymmetricTensor(v, (_k, _m), (_f, _n))*NO(CreateFermion(_c)*CreateFermion(_d)*CreateFermion(_e)*AnnihilateFermion(_l)*AnnihilateFermion(_n)*AnnihilateFermion(_f))/2 + AntiSymmetricTensor(t, (_e,), (_m,))*AntiSymmetricTensor(t, (_c, _d), (_k, _l))*AntiSymmetricTensor(v, (_k, _m), (_n, _o))*NO(CreateFermion(_c)*CreateFermion(_d)*CreateFermion(_e)*AnnihilateFermion(_l)*AnnihilateFermion(_n)*AnnihilateFermion(_o))/4 - AntiSymmetricTensor(t, (_e,), (_m,))*AntiSymmetricTensor(t, (_c, _d), (_k, _l))*AntiSymmetricTensor(v, (_k, _n), (_c, _e))*NO(CreateFermion(_d)*AnnihilateFermion(_l)*AnnihilateFermion(_m)*CreateFermion(_n)) + AntiSymmetricTensor(t, (_e,), (_m,))*AntiSymmetricTensor(t, (_c, _d), (_k, _l))*AntiSymmetricTensor(v, (_k, _n), (_e, _f))*NO(CreateFermion(_c)*CreateFermion(_d)*AnnihilateFermion(_l)*AnnihilateFermion(_m)*AnnihilateFermion(_f)*CreateFermion(_n))/2 + AntiSymmetricTensor(t, (_e,), (_m,))*AntiSymmetricTensor(t, (_c, _d), (_k, _l))*AntiSymmetricTensor(v, (_k, _o), (_e, _n))*NO(CreateFermion(_c)*CreateFermion(_d)*AnnihilateFermion(_l)*AnnihilateFermion(_m)*AnnihilateFermion(_n)*CreateFermion(_o))/2 + AntiSymmetricTensor(t, (_e,), (_m,))*AntiSymmetricTensor(t, (_c, _d), (_k, _l))*AntiSymmetricTensor(v, (_m, _n), (_c, _d))*NO(CreateFermion(_e)*AnnihilateFermion(_k)*AnnihilateFermion(_l)*CreateFermion(_n))/4 - AntiSymmetricTensor(t, (_e,), (_m,))*AntiSymmetricTensor(t, (_c, _d), (_k, _l))*AntiSymmetricTensor(v, (_m, _n), (_c, _e))*NO(CreateFermion(_d)*AnnihilateFermion(_k)*AnnihilateFermion(_l)*CreateFermion(_n))/2 + AntiSymmetricTensor(t, (_e,), (_m,))*AntiSymmetricTensor(t, (_c, _d), (_k, _l))*AntiSymmetricTensor(v, (_m, _n), (_c, _f))*NO(CreateFermion(_d)*CreateFermion(_e)*AnnihilateFermion(_k)*AnnihilateFermion(_l)*AnnihilateFermion(_f)*CreateFermion(_n))/2 + AntiSymmetricTensor(t, (_e,), (_m,))*AntiSymmetricTensor(t, (_c, _d), (_k, _l))*AntiSymmetricTensor(v, (_m, _o), (_c, _n))*NO(CreateFermion(_d)*CreateFermion(_e)*AnnihilateFermion(_k)*AnnihilateFermion(_l)*AnnihilateFermion(_n)*CreateFermion(_o))/2 + AntiSymmetricTensor(t, (_e,), (_m,))*AntiSymmetricTensor(t, (_c, _d), (_k, _l))*AntiSymmetricTensor(v, (_n, _o), (_c, _e))*NO(CreateFermion(_d)*AnnihilateFermion(_k)*AnnihilateFermion(_l)*AnnihilateFermion(_m)*CreateFermion(_n)*CreateFermion(_o))/4 - AntiSymmetricTensor(t, (_e,), (_n,))*AntiSymmetricTensor(t, (_f,), (_m,))*AntiSymmetricTensor(t, (_c, _d), (_k, _l))*AntiSymmetricTensor(v, (_g, _k), (_e, _f))*NO(CreateFermion(_c)*CreateFermion(_d)*CreateFermion(_g)*AnnihilateFermion(_l)*AnnihilateFermion(_m)*AnnihilateFermion(_n))/4 + AntiSymmetricTensor(t, (_e,), (_n,))*AntiSymmetricTensor(t, (_f,), (_m,))*AntiSymmetricTensor(t, (_c, _d), (_k, _l))*AntiSymmetricTensor(v, (_g, _m), (_c, _e))*NO(CreateFermion(_d)*CreateFermion(_f)*CreateFermion(_g)*AnnihilateFermion(_k)*AnnihilateFermion(_l)*AnnihilateFermion(_n))/2 + AntiSymmetricTensor(t, (_e,), (_n,))*AntiSymmetricTensor(t, (_f,), (_m,))*AntiSymmetricTensor(t, (_c, _d), (_k, _l))*AntiSymmetricTensor(v, (_k, _l), (_e, _f))*NO(CreateFermion(_c)*CreateFermion(_d)*AnnihilateFermion(_m)*AnnihilateFermion(_n))/8 + AntiSymmetricTensor(t, (_e,), (_n,))*AntiSymmetricTensor(t, (_f,), (_m,))*AntiSymmetricTensor(t, (_c, _d), (_k, _l))*AntiSymmetricTensor(v, (_k, _m), (_c, _e))*NO(CreateFermion(_d)*CreateFermion(_f)*AnnihilateFermion(_l)*AnnihilateFermion(_n)) + AntiSymmetricTensor(t, (_e,), (_n,))*AntiSymmetricTensor(t, (_f,), (_m,))*AntiSymmetricTensor(t, (_c, _d), (_k, _l))*AntiSymmetricTensor(v, (_k, _m), (_e, _g))*NO(CreateFermion(_c)*CreateFermion(_d)*CreateFermion(_f)*AnnihilateFermion(_l)*AnnihilateFermion(_n)*AnnihilateFermion(_g))/2 + AntiSymmetricTensor(t, (_e,), (_n,))*AntiSymmetricTensor(t, (_f,), (_m,))*AntiSymmetricTensor(t, (_c, _d), (_k, _l))*AntiSymmetricTensor(v, (_k, _m), (_e, _o))*NO(CreateFermion(_c)*CreateFermion(_d)*CreateFermion(_f)*AnnihilateFermion(_l)*AnnihilateFermion(_n)*AnnihilateFermion(_o))/2 - AntiSymmetricTensor(t, (_e,), (_n,))*AntiSymmetricTensor(t, (_f,), (_m,))*AntiSymmetricTensor(t, (_c, _d), (_k, _l))*AntiSymmetricTensor(v, (_k, _o), (_e, _f))*NO(CreateFermion(_c)*CreateFermion(_d)*AnnihilateFermion(_l)*AnnihilateFermion(_m)*AnnihilateFermion(_n)*CreateFermion(_o))/4 + AntiSymmetricTensor(t, (_e,), (_n,))*AntiSymmetricTensor(t, (_f,), (_m,))*AntiSymmetricTensor(t, (_c, _d), (_k, _l))*AntiSymmetricTensor(v, (_m, _n), (_c, _d))*NO(CreateFermion(_e)*CreateFermion(_f)*AnnihilateFermion(_k)*AnnihilateFermion(_l))/8 - AntiSymmetricTensor(t, (_e,), (_n,))*AntiSymmetricTensor(t, (_f,), (_m,))*AntiSymmetricTensor(t, (_c, _d), (_k, _l))*AntiSymmetricTensor(v, (_m, _n), (_c, _g))*NO(CreateFermion(_d)*CreateFermion(_e)*CreateFermion(_f)*AnnihilateFermion(_k)*AnnihilateFermion(_l)*AnnihilateFermion(_g))/4 - AntiSymmetricTensor(t, (_e,), (_n,))*AntiSymmetricTensor(t, (_f,), (_m,))*AntiSymmetricTensor(t, (_c, _d), (_k, _l))*AntiSymmetricTensor(v, (_m, _n), (_c, _o))*NO(CreateFermion(_d)*CreateFermion(_e)*CreateFermion(_f)*AnnihilateFermion(_k)*AnnihilateFermion(_l)*AnnihilateFermion(_o))/4 + AntiSymmetricTensor(t, (_e,), (_n,))*AntiSymmetricTensor(t, (_f,), (_m,))*AntiSymmetricTensor(t, (_c, _d), (_k, _l))*AntiSymmetricTensor(v, (_m, _o), (_c, _e))*NO(CreateFermion(_d)*CreateFermion(_f)*AnnihilateFermion(_k)*AnnihilateFermion(_l)*AnnihilateFermion(_n)*CreateFermion(_o))/2 - AntiSymmetricTensor(t, (_e,), (_o,))*AntiSymmetricTensor(t, (_f,), (_n,))*AntiSymmetricTensor(t, (_g,), (_m,))*AntiSymmetricTensor(t, (_c, _d), (_k, _l))*AntiSymmetricTensor(v, (_k, _m), (_e, _f))*NO(CreateFermion(_c)*CreateFermion(_d)*CreateFermion(_g)*AnnihilateFermion(_l)*AnnihilateFermion(_n)*AnnihilateFermion(_o))/4 - AntiSymmetricTensor(t, (_e,), (_o,))*AntiSymmetricTensor(t, (_f,), (_n,))*AntiSymmetricTensor(t, (_g,), (_m,))*AntiSymmetricTensor(t, (_c, _d), (_k, _l))*AntiSymmetricTensor(v, (_m, _n), (_c, _e))*NO(CreateFermion(_d)*CreateFermion(_f)*CreateFermion(_g)*AnnihilateFermion(_k)*AnnihilateFermion(_l)*AnnihilateFermion(_o))/4 + AntiSymmetricTensor(t, (_g,), (_i_0,))*AntiSymmetricTensor(t, (_h,), (_o,))*AntiSymmetricTensor(t, (_c, _d), (_l, _m))*AntiSymmetricTensor(t, (_e, _f), (_k, _n))*AntiSymmetricTensor(v, (_k, _l), (_g, _h))*NO(CreateFermion(_c)*CreateFermion(_d)*CreateFermion(_e)*CreateFermion(_f)*AnnihilateFermion(_i_0)*AnnihilateFermion(_m)*AnnihilateFermion(_n)*AnnihilateFermion(_o))/16 - AntiSymmetricTensor(t, (_g,), (_i_0,))*AntiSymmetricTensor(t, (_h,), (_o,))*AntiSymmetricTensor(t, (_c, _e), (_l, _m))*AntiSymmetricTensor(t, (_d, _f), (_k, _n))*AntiSymmetricTensor(v, (_i_0, _o), (_c, _d))*NO(CreateFermion(_e)*CreateFermion(_f)*CreateFermion(_g)*CreateFermion(_h)*AnnihilateFermion(_k)*AnnihilateFermion(_l)*AnnihilateFermion(_m)*AnnihilateFermion(_n))/16 + AntiSymmetricTensor(t, (_g,), (_i_0,))*AntiSymmetricTensor(t, (_h,), (_o,))*AntiSymmetricTensor(t, (_c, _f), (_m, _n))*AntiSymmetricTensor(t, (_d, _e), (_k, _l))*AntiSymmetricTensor(v, (_k, _o), (_c, _g))*NO(CreateFermion(_d)*CreateFermion(_e)*CreateFermion(_f)*CreateFermion(_h)*AnnihilateFermion(_i_0)*AnnihilateFermion(_l)*AnnihilateFermion(_m)*AnnihilateFermion(_n))/4 + AntiSymmetricTensor(t, (_g,), (_o,))*AntiSymmetricTensor(t, (_c, _d), (_l, _m))*AntiSymmetricTensor(t, (_e, _f), (_k, _n))*AntiSymmetricTensor(v, (_k, _l), (_g, _h))*NO(CreateFermion(_c)*CreateFermion(_d)*CreateFermion(_e)*CreateFermion(_f)*AnnihilateFermion(_m)*AnnihilateFermion(_n)*AnnihilateFermion(_o)*AnnihilateFermion(_h))/8 - AntiSymmetricTensor(t, (_g,), (_o,))*AntiSymmetricTensor(t, (_c, _d), (_l, _m))*AntiSymmetricTensor(t, (_e, _f), (_k, _n))*AntiSymmetricTensor(v, (_k, _l), (_g, _i_0))*NO(CreateFermion(_c)*CreateFermion(_d)*CreateFermion(_e)*CreateFermion(_f)*AnnihilateFermion(_i_0)*AnnihilateFermion(_m)*AnnihilateFermion(_n)*AnnihilateFermion(_o))/8 + AntiSymmetricTensor(t, (_g,), (_o,))*AntiSymmetricTensor(t, (_c, _d), (_l, _m))*AntiSymmetricTensor(t, (_e, _f), (_k, _n))*AntiSymmetricTensor(v, (_k, _o), (_c, _d))*NO(CreateFermion(_e)*CreateFermion(_f)*CreateFermion(_g)*AnnihilateFermion(_l)*AnnihilateFermion(_m)*AnnihilateFermion(_n))/8 - AntiSymmetricTensor(t, (_g,), (_o,))*AntiSymmetricTensor(t, (_c, _e), (_l, _m))*AntiSymmetricTensor(t, (_d, _f), (_k, _n))*AntiSymmetricTensor(v, (_h, _o), (_c, _d))*NO(CreateFermion(_e)*CreateFermion(_f)*CreateFermion(_g)*CreateFermion(_h)*AnnihilateFermion(_k)*AnnihilateFermion(_l)*AnnihilateFermion(_m)*AnnihilateFermion(_n))/8 - AntiSymmetricTensor(t, (_g,), (_o,))*AntiSymmetricTensor(t, (_c, _e), (_l, _m))*AntiSymmetricTensor(t, (_d, _f), (_k, _n))*AntiSymmetricTensor(v, (_i_0, _o), (_c, _d))*NO(CreateFermion(_e)*CreateFermion(_f)*CreateFermion(_g)*AnnihilateFermion(_k)*AnnihilateFermion(_l)*AnnihilateFermion(_m)*AnnihilateFermion(_n)*CreateFermion(_i_0))/8 - AntiSymmetricTensor(t, (_g,), (_o,))*AntiSymmetricTensor(t, (_c, _e), (_l, _m))*AntiSymmetricTensor(t, (_d, _f), (_k, _n))*AntiSymmetricTensor(v, (_k, _o), (_c, _d))*NO(CreateFermion(_e)*CreateFermion(_f)*CreateFermion(_g)*AnnihilateFermion(_l)*AnnihilateFermion(_m)*AnnihilateFermion(_n))/2 - AntiSymmetricTensor(t, (_g,), (_o,))*AntiSymmetricTensor(t, (_c, _f), (_l, _n))*AntiSymmetricTensor(t, (_d, _e), (_k, _m))*AntiSymmetricTensor(v, (_k, _l), (_c, _g))*NO(CreateFermion(_d)*CreateFermion(_e)*CreateFermion(_f)*AnnihilateFermion(_m)*AnnihilateFermion(_n)*AnnihilateFermion(_o))/2 - AntiSymmetricTensor(t, (_g,), (_o,))*AntiSymmetricTensor(t, (_c, _f), (_m, _n))*AntiSymmetricTensor(t, (_d, _e), (_k, _l))*AntiSymmetricTensor(v, (_h, _k), (_c, _g))*NO(CreateFermion(_d)*CreateFermion(_e)*CreateFermion(_f)*CreateFermion(_h)*AnnihilateFermion(_l)*AnnihilateFermion(_m)*AnnihilateFermion(_n)*AnnihilateFermion(_o))/4 - AntiSymmetricTensor(t, (_g,), (_o,))*AntiSymmetricTensor(t, (_c, _f), (_m, _n))*AntiSymmetricTensor(t, (_d, _e), (_k, _l))*AntiSymmetricTensor(v, (_i_0, _k), (_c, _g))*NO(CreateFermion(_d)*CreateFermion(_e)*CreateFermion(_f)*AnnihilateFermion(_l)*AnnihilateFermion(_m)*AnnihilateFermion(_n)*AnnihilateFermion(_o)*CreateFermion(_i_0))/4 + AntiSymmetricTensor(t, (_g,), (_o,))*AntiSymmetricTensor(t, (_c, _f), (_m, _n))*AntiSymmetricTensor(t, (_d, _e), (_k, _l))*AntiSymmetricTensor(v, (_k, _l), (_c, _g))*NO(CreateFermion(_d)*CreateFermion(_e)*CreateFermion(_f)*AnnihilateFermion(_m)*AnnihilateFermion(_n)*AnnihilateFermion(_o))/8 - AntiSymmetricTensor(t, (_g,), (_o,))*AntiSymmetricTensor(t, (_c, _f), (_m, _n))*AntiSymmetricTensor(t, (_d, _e), (_k, _l))*AntiSymmetricTensor(v, (_k, _o), (_c, _g))*NO(CreateFermion(_d)*CreateFermion(_e)*CreateFermion(_f)*AnnihilateFermion(_l)*AnnihilateFermion(_m)*AnnihilateFermion(_n))/4 - AntiSymmetricTensor(t, (_g,), (_o,))*AntiSymmetricTensor(t, (_c, _f), (_m, _n))*AntiSymmetricTensor(t, (_d, _e), (_k, _l))*AntiSymmetricTensor(v, (_k, _o), (_c, _h))*NO(CreateFermion(_d)*CreateFermion(_e)*CreateFermion(_f)*CreateFermion(_g)*AnnihilateFermion(_l)*AnnihilateFermion(_m)*AnnihilateFermion(_n)*AnnihilateFermion(_h))/4 + AntiSymmetricTensor(t, (_g,), (_o,))*AntiSymmetricTensor(t, (_c, _f), (_m, _n))*AntiSymmetricTensor(t, (_d, _e), (_k, _l))*AntiSymmetricTensor(v, (_k, _o), (_c, _i_0))*NO(CreateFermion(_d)*CreateFermion(_e)*CreateFermion(_f)*CreateFermion(_g)*AnnihilateFermion(_i_0)*AnnihilateFermion(_l)*AnnihilateFermion(_m)*AnnihilateFermion(_n))/4 + AntiSymmetricTensor(t, (_a_0, _a_1), (_i_2, _k))*AntiSymmetricTensor(t, (_c, _e), (_n, _o))*AntiSymmetricTensor(t, (_d, _f), (_i_0, _m))*AntiSymmetricTensor(t, (_g, _h), (_i_1, _l))*AntiSymmetricTensor(v, (_k, _l), (_c, _d))*NO(CreateFermion(_a_0)*CreateFermion(_a_1)*CreateFermion(_e)*CreateFermion(_f)*CreateFermion(_g)*CreateFermion(_h)*AnnihilateFermion(_i_0)*AnnihilateFermion(_i_1)*AnnihilateFermion(_i_2)*AnnihilateFermion(_m)*AnnihilateFermion(_n)*AnnihilateFermion(_o))/64 - AntiSymmetricTensor(t, (_c, _d), (_k, _l))*AntiSymmetricTensor(v, (_e, _f), (_c, _d))*NO(CreateFermion(_e)*CreateFermion(_f)*AnnihilateFermion(_k)*AnnihilateFermion(_l))/8 + AntiSymmetricTensor(t, (_c, _d), (_k, _l))*AntiSymmetricTensor(v, (_e, _f), (_c, _m))*NO(CreateFermion(_d)*CreateFermion(_e)*CreateFermion(_f)*AnnihilateFermion(_k)*AnnihilateFermion(_l)*AnnihilateFermion(_m))/4 - AntiSymmetricTensor(t, (_c, _d), (_k, _l))*AntiSymmetricTensor(v, (_e, _k), (_c, _d))*NO(CreateFermion(_e)*AnnihilateFermion(_l))/2 + AntiSymmetricTensor(t, (_c, _d), (_k, _l))*AntiSymmetricTensor(v, (_e, _k), (_c, _m))*NO(CreateFermion(_d)*CreateFermion(_e)*AnnihilateFermion(_l)*AnnihilateFermion(_m)) + AntiSymmetricTensor(t, (_c, _d), (_k, _l))*AntiSymmetricTensor(v, (_e, _k), (_m, _n))*NO(CreateFermion(_c)*CreateFermion(_d)*CreateFermion(_e)*AnnihilateFermion(_l)*AnnihilateFermion(_m)*AnnihilateFermion(_n))/4 - AntiSymmetricTensor(t, (_c, _d), (_k, _l))*AntiSymmetricTensor(v, (_e, _m), (_c, _d))*NO(CreateFermion(_e)*AnnihilateFermion(_k)*AnnihilateFermion(_l)*CreateFermion(_m))/4 - AntiSymmetricTensor(t, (_c, _d), (_k, _l))*AntiSymmetricTensor(v, (_e, _n), (_c, _m))*NO(CreateFermion(_d)*CreateFermion(_e)*AnnihilateFermion(_k)*AnnihilateFermion(_l)*AnnihilateFermion(_m)*CreateFermion(_n))/2 + AntiSymmetricTensor(t, (_c, _d), (_k, _l))*AntiSymmetricTensor(v, (_f, _g), (_c, _e))*NO(CreateFermion(_d)*CreateFermion(_f)*CreateFermion(_g)*AnnihilateFermion(_k)*AnnihilateFermion(_l)*AnnihilateFermion(_e))/4 + AntiSymmetricTensor(t, (_c, _d), (_k, _l))*AntiSymmetricTensor(v, (_f, _k), (_c, _e))*NO(CreateFermion(_d)*CreateFermion(_f)*AnnihilateFermion(_l)*AnnihilateFermion(_e)) - AntiSymmetricTensor(t, (_c, _d), (_k, _l))*AntiSymmetricTensor(v, (_f, _k), (_e, _m))*NO(CreateFermion(_c)*CreateFermion(_d)*CreateFermion(_f)*AnnihilateFermion(_l)*AnnihilateFermion(_m)*AnnihilateFermion(_e))/2 - AntiSymmetricTensor(t, (_c, _d), (_k, _l))*AntiSymmetricTensor(v, (_f, _m), (_c, _e))*NO(CreateFermion(_d)*CreateFermion(_f)*AnnihilateFermion(_k)*AnnihilateFermion(_l)*AnnihilateFermion(_e)*CreateFermion(_m))/2 + AntiSymmetricTensor(t, (_c, _d), (_k, _l))*AntiSymmetricTensor(v, (_g, _k), (_e, _f))*NO(CreateFermion(_c)*CreateFermion(_d)*CreateFermion(_g)*AnnihilateFermion(_l)*AnnihilateFermion(_e)*AnnihilateFermion(_f))/4 + AntiSymmetricTensor(t, (_c, _d), (_k, _l))*AntiSymmetricTensor(v, (_k, _l), (_c, _d))/4 - AntiSymmetricTensor(t, (_c, _d), (_k, _l))*AntiSymmetricTensor(v, (_k, _l), (_c, _e))*NO(CreateFermion(_d)*AnnihilateFermion(_e))/2 - AntiSymmetricTensor(t, (_c, _d), (_k, _l))*AntiSymmetricTensor(v, (_k, _l), (_c, _m))*NO(CreateFermion(_d)*AnnihilateFermion(_m))/2 - AntiSymmetricTensor(t, (_c, _d), (_k, _l))*AntiSymmetricTensor(v, (_k, _l), (_e, _f))*NO(CreateFermion(_c)*CreateFermion(_d)*AnnihilateFermion(_e)*AnnihilateFermion(_f))/8 + AntiSymmetricTensor(t, (_c, _d), (_k, _l))*AntiSymmetricTensor(v, (_k, _l), (_e, _m))*NO(CreateFermion(_c)*CreateFermion(_d)*AnnihilateFermion(_m)*AnnihilateFermion(_e))/4 - AntiSymmetricTensor(t, (_c, _d), (_k, _l))*AntiSymmetricTensor(v, (_k, _l), (_m, _n))*NO(CreateFermion(_c)*CreateFermion(_d)*AnnihilateFermion(_m)*AnnihilateFermion(_n))/8 - AntiSymmetricTensor(t, (_c, _d), (_k, _l))*AntiSymmetricTensor(v, (_k, _m), (_c, _d))*NO(AnnihilateFermion(_l)*CreateFermion(_m))/2 - AntiSymmetricTensor(t, (_c, _d), (_k, _l))*AntiSymmetricTensor(v, (_k, _m), (_c, _e))*NO(CreateFermion(_d)*AnnihilateFermion(_l)*AnnihilateFermion(_e)*CreateFermion(_m)) + AntiSymmetricTensor(t, (_c, _d), (_k, _l))*AntiSymmetricTensor(v, (_k, _m), (_e, _f))*NO(CreateFermion(_c)*CreateFermion(_d)*AnnihilateFermion(_l)*AnnihilateFermion(_e)*AnnihilateFermion(_f)*CreateFermion(_m))/4 - AntiSymmetricTensor(t, (_c, _d), (_k, _l))*AntiSymmetricTensor(v, (_k, _n), (_c, _m))*NO(CreateFermion(_d)*AnnihilateFermion(_l)*AnnihilateFermion(_m)*CreateFermion(_n)) - AntiSymmetricTensor(t, (_c, _d), (_k, _l))*AntiSymmetricTensor(v, (_k, _n), (_e, _m))*NO(CreateFermion(_c)*CreateFermion(_d)*AnnihilateFermion(_l)*AnnihilateFermion(_m)*AnnihilateFermion(_e)*CreateFermion(_n))/2 + AntiSymmetricTensor(t, (_c, _d), (_k, _l))*AntiSymmetricTensor(v, (_k, _o), (_m, _n))*NO(CreateFermion(_c)*CreateFermion(_d)*AnnihilateFermion(_l)*AnnihilateFermion(_m)*AnnihilateFermion(_n)*CreateFermion(_o))/4 - AntiSymmetricTensor(t, (_c, _d), (_k, _l))*AntiSymmetricTensor(v, (_m, _n), (_c, _d))*NO(AnnihilateFermion(_k)*AnnihilateFermion(_l)*CreateFermion(_m)*CreateFermion(_n))/8 + AntiSymmetricTensor(t, (_c, _d), (_k, _l))*AntiSymmetricTensor(v, (_m, _n), (_c, _e))*NO(CreateFermion(_d)*AnnihilateFermion(_k)*AnnihilateFermion(_l)*AnnihilateFermion(_e)*CreateFermion(_m)*CreateFermion(_n))/4 + AntiSymmetricTensor(t, (_c, _d), (_k, _l))*AntiSymmetricTensor(v, (_n, _o), (_c, _m))*NO(CreateFermion(_d)*AnnihilateFermion(_k)*AnnihilateFermion(_l)*AnnihilateFermion(_m)*CreateFermion(_n)*CreateFermion(_o))/4 - AntiSymmetricTensor(t, (_c, _d), (_k, _n))*AntiSymmetricTensor(t, (_e, _f), (_l, _m))*AntiSymmetricTensor(v, (_k, _l), (_c, _d))*NO(CreateFermion(_e)*CreateFermion(_f)*AnnihilateFermion(_m)*AnnihilateFermion(_n))/8 + AntiSymmetricTensor(t, (_c, _d), (_l, _m))*AntiSymmetricTensor(t, (_e, _f), (_k, _n))*AntiSymmetricTensor(v, (_g, _k), (_c, _d))*NO(CreateFermion(_e)*CreateFermion(_f)*CreateFermion(_g)*AnnihilateFermion(_l)*AnnihilateFermion(_m)*AnnihilateFermion(_n))/8 - AntiSymmetricTensor(t, (_c, _d), (_l, _m))*AntiSymmetricTensor(t, (_e, _f), (_k, _n))*AntiSymmetricTensor(v, (_k, _l), (_c, _d))*NO(CreateFermion(_e)*CreateFermion(_f)*AnnihilateFermion(_m)*AnnihilateFermion(_n))/8 + AntiSymmetricTensor(t, (_c, _d), (_l, _m))*AntiSymmetricTensor(t, (_e, _f), (_k, _n))*AntiSymmetricTensor(v, (_k, _l), (_g, _h))*NO(CreateFermion(_c)*CreateFermion(_d)*CreateFermion(_e)*CreateFermion(_f)*AnnihilateFermion(_m)*AnnihilateFermion(_n)*AnnihilateFermion(_g)*AnnihilateFermion(_h))/16 - AntiSymmetricTensor(t, (_c, _d), (_l, _m))*AntiSymmetricTensor(t, (_e, _f), (_k, _n))*AntiSymmetricTensor(v, (_k, _l), (_g, _o))*NO(CreateFermion(_c)*CreateFermion(_d)*CreateFermion(_e)*CreateFermion(_f)*AnnihilateFermion(_m)*AnnihilateFermion(_n)*AnnihilateFermion(_o)*AnnihilateFermion(_g))/8 + AntiSymmetricTensor(t, (_c, _d), (_l, _m))*AntiSymmetricTensor(t, (_e, _f), (_k, _n))*AntiSymmetricTensor(v, (_k, _l), (_i_0, _o))*NO(CreateFermion(_c)*CreateFermion(_d)*CreateFermion(_e)*CreateFermion(_f)*AnnihilateFermion(_i_0)*AnnihilateFermion(_m)*AnnihilateFermion(_n)*AnnihilateFermion(_o))/16 + AntiSymmetricTensor(t, (_c, _d), (_l, _m))*AntiSymmetricTensor(t, (_e, _f), (_k, _n))*AntiSymmetricTensor(v, (_k, _o), (_c, _d))*NO(CreateFermion(_e)*CreateFermion(_f)*AnnihilateFermion(_l)*AnnihilateFermion(_m)*AnnihilateFermion(_n)*CreateFermion(_o))/8 - AntiSymmetricTensor(t, (_c, _d), (_m, _n))*AntiSymmetricTensor(t, (_e, _f), (_k, _l))*AntiSymmetricTensor(v, (_k, _l), (_c, _d))*NO(CreateFermion(_e)*CreateFermion(_f)*AnnihilateFermion(_m)*AnnihilateFermion(_n))/16 + AntiSymmetricTensor(t, (_c, _d), (_m, _n))*AntiSymmetricTensor(t, (_e, _f), (_l, _o))*AntiSymmetricTensor(t, (_g, _h), (_i_0, _k))*AntiSymmetricTensor(v, (_k, _l), (_c, _d))*NO(CreateFermion(_e)*CreateFermion(_f)*CreateFermion(_g)*CreateFermion(_h)*AnnihilateFermion(_i_0)*AnnihilateFermion(_m)*AnnihilateFermion(_n)*AnnihilateFermion(_o))/32 - AntiSymmetricTensor(t, (_c, _e), (_l, _m))*AntiSymmetricTensor(t, (_d, _f), (_k, _n))*AntiSymmetricTensor(v, (_g, _h), (_c, _d))*NO(CreateFermion(_e)*CreateFermion(_f)*CreateFermion(_g)*CreateFermion(_h)*AnnihilateFermion(_k)*AnnihilateFermion(_l)*AnnihilateFermion(_m)*AnnihilateFermion(_n))/16 - AntiSymmetricTensor(t, (_c, _e), (_l, _m))*AntiSymmetricTensor(t, (_d, _f), (_k, _n))*AntiSymmetricTensor(v, (_g, _k), (_c, _d))*NO(CreateFermion(_e)*CreateFermion(_f)*CreateFermion(_g)*AnnihilateFermion(_l)*AnnihilateFermion(_m)*AnnihilateFermion(_n))/2 - AntiSymmetricTensor(t, (_c, _e), (_l, _m))*AntiSymmetricTensor(t, (_d, _f), (_k, _n))*AntiSymmetricTensor(v, (_g, _o), (_c, _d))*NO(CreateFermion(_e)*CreateFermion(_f)*CreateFermion(_g)*AnnihilateFermion(_k)*AnnihilateFermion(_l)*AnnihilateFermion(_m)*AnnihilateFermion(_n)*CreateFermion(_o))/8 - AntiSymmetricTensor(t, (_c, _e), (_l, _m))*AntiSymmetricTensor(t, (_d, _f), (_k, _n))*AntiSymmetricTensor(v, (_i_0, _o), (_c, _d))*NO(CreateFermion(_e)*CreateFermion(_f)*AnnihilateFermion(_k)*AnnihilateFermion(_l)*AnnihilateFermion(_m)*AnnihilateFermion(_n)*CreateFermion(_i_0)*CreateFermion(_o))/16 + AntiSymmetricTensor(t, (_c, _e), (_l, _m))*AntiSymmetricTensor(t, (_d, _f), (_k, _n))*AntiSymmetricTensor(v, (_k, _l), (_c, _d))*NO(CreateFermion(_e)*CreateFermion(_f)*AnnihilateFermion(_m)*AnnihilateFermion(_n))/2 - AntiSymmetricTensor(t, (_c, _e), (_l, _m))*AntiSymmetricTensor(t, (_d, _f), (_k, _n))*AntiSymmetricTensor(v, (_k, _o), (_c, _d))*NO(CreateFermion(_e)*CreateFermion(_f)*AnnihilateFermion(_l)*AnnihilateFermion(_m)*AnnihilateFermion(_n)*CreateFermion(_o))/2 + AntiSymmetricTensor(t, (_c, _e), (_m, _n))*AntiSymmetricTensor(t, (_d, _f), (_k, _l))*AntiSymmetricTensor(v, (_k, _l), (_c, _d))*NO(CreateFermion(_e)*CreateFermion(_f)*AnnihilateFermion(_m)*AnnihilateFermion(_n))/4 - AntiSymmetricTensor(t, (_c, _e), (_m, _n))*AntiSymmetricTensor(t, (_d, _f), (_l, _o))*AntiSymmetricTensor(t, (_g, _h), (_i_0, _k))*AntiSymmetricTensor(v, (_a_0, _k), (_c, _d))*NO(CreateFermion(_a_0)*CreateFermion(_e)*CreateFermion(_f)*CreateFermion(_g)*CreateFermion(_h)*AnnihilateFermion(_i_0)*AnnihilateFermion(_l)*AnnihilateFermion(_m)*AnnihilateFermion(_n)*AnnihilateFermion(_o))/16 + AntiSymmetricTensor(t, (_c, _e), (_m, _n))*AntiSymmetricTensor(t, (_d, _f), (_l, _o))*AntiSymmetricTensor(t, (_g, _h), (_i_0, _k))*AntiSymmetricTensor(v, (_i_1, _k), (_c, _d))*NO(CreateFermion(_e)*CreateFermion(_f)*CreateFermion(_g)*CreateFermion(_h)*AnnihilateFermion(_i_0)*AnnihilateFermion(_l)*AnnihilateFermion(_m)*AnnihilateFermion(_n)*AnnihilateFermion(_o)*CreateFermion(_i_1))/16 - AntiSymmetricTensor(t, (_c, _e), (_m, _n))*AntiSymmetricTensor(t, (_d, _f), (_l, _o))*AntiSymmetricTensor(t, (_g, _h), (_i_0, _k))*AntiSymmetricTensor(v, (_k, _l), (_c, _d))*NO(CreateFermion(_e)*CreateFermion(_f)*CreateFermion(_g)*CreateFermion(_h)*AnnihilateFermion(_i_0)*AnnihilateFermion(_m)*AnnihilateFermion(_n)*AnnihilateFermion(_o))/6 - AntiSymmetricTensor(t, (_c, _e), (_n, _o))*AntiSymmetricTensor(t, (_d, _f), (_i_0, _m))*AntiSymmetricTensor(t, (_g, _h), (_k, _l))*AntiSymmetricTensor(v, (_k, _l), (_c, _d))*NO(CreateFermion(_e)*CreateFermion(_f)*CreateFermion(_g)*CreateFermion(_h)*AnnihilateFermion(_i_0)*AnnihilateFermion(_m)*AnnihilateFermion(_n)*AnnihilateFermion(_o))/32 - AntiSymmetricTensor(t, (_c, _f), (_l, _n))*AntiSymmetricTensor(t, (_d, _e), (_k, _m))*AntiSymmetricTensor(v, (_k, _l), (_c, _g))*NO(CreateFermion(_d)*CreateFermion(_e)*CreateFermion(_f)*AnnihilateFermion(_m)*AnnihilateFermion(_n)*AnnihilateFermion(_g))/2 - AntiSymmetricTensor(t, (_c, _f), (_l, _n))*AntiSymmetricTensor(t, (_d, _e), (_k, _m))*AntiSymmetricTensor(v, (_k, _l), (_c, _o))*NO(CreateFermion(_d)*CreateFermion(_e)*CreateFermion(_f)*AnnihilateFermion(_m)*AnnihilateFermion(_n)*AnnihilateFermion(_o))/2 - AntiSymmetricTensor(t, (_c, _f), (_m, _n))*AntiSymmetricTensor(t, (_d, _e), (_k, _l))*AntiSymmetricTensor(v, (_g, _k), (_c, _o))*NO(CreateFermion(_d)*CreateFermion(_e)*CreateFermion(_f)*CreateFermion(_g)*AnnihilateFermion(_l)*AnnihilateFermion(_m)*AnnihilateFermion(_n)*AnnihilateFermion(_o))/4 - AntiSymmetricTensor(t, (_c, _f), (_m, _n))*AntiSymmetricTensor(t, (_d, _e), (_k, _l))*AntiSymmetricTensor(v, (_h, _k), (_c, _g))*NO(CreateFermion(_d)*CreateFermion(_e)*CreateFermion(_f)*CreateFermion(_h)*AnnihilateFermion(_l)*AnnihilateFermion(_m)*AnnihilateFermion(_n)*AnnihilateFermion(_g))/4 - AntiSymmetricTensor(t, (_c, _f), (_m, _n))*AntiSymmetricTensor(t, (_d, _e), (_k, _l))*AntiSymmetricTensor(v, (_i_0, _k), (_c, _o))*NO(CreateFermion(_d)*CreateFermion(_e)*CreateFermion(_f)*AnnihilateFermion(_l)*AnnihilateFermion(_m)*AnnihilateFermion(_n)*AnnihilateFermion(_o)*CreateFermion(_i_0))/4 + AntiSymmetricTensor(t, (_c, _f), (_m, _n))*AntiSymmetricTensor(t, (_d, _e), (_k, _l))*AntiSymmetricTensor(v, (_k, _l), (_c, _g))*NO(CreateFermion(_d)*CreateFermion(_e)*CreateFermion(_f)*AnnihilateFermion(_m)*AnnihilateFermion(_n)*AnnihilateFermion(_g))/8 + AntiSymmetricTensor(t, (_c, _f), (_m, _n))*AntiSymmetricTensor(t, (_d, _e), (_k, _l))*AntiSymmetricTensor(v, (_k, _l), (_c, _o))*NO(CreateFermion(_d)*CreateFermion(_e)*CreateFermion(_f)*AnnihilateFermion(_m)*AnnihilateFermion(_n)*AnnihilateFermion(_o))/8 + AntiSymmetricTensor(t, (_c, _f), (_m, _n))*AntiSymmetricTensor(t, (_d, _e), (_k, _l))*AntiSymmetricTensor(v, (_k, _o), (_c, _g))*NO(CreateFermion(_d)*CreateFermion(_e)*CreateFermion(_f)*AnnihilateFermion(_l)*AnnihilateFermion(_m)*AnnihilateFermion(_n)*AnnihilateFermion(_g)*CreateFermion(_o))/4 - AntiSymmetricTensor(t, (_c, _g), (_n, _o))*AntiSymmetricTensor(t, (_d, _h), (_i_0, _k))*AntiSymmetricTensor(t, (_e, _f), (_l, _m))*AntiSymmetricTensor(v, (_k, _l), (_c, _d))*NO(CreateFermion(_e)*CreateFermion(_f)*CreateFermion(_g)*CreateFermion(_h)*AnnihilateFermion(_i_0)*AnnihilateFermion(_m)*AnnihilateFermion(_n)*AnnihilateFermion(_o))/12 + AntiSymmetricTensor(t, (_c, _h), (_i_0, _o))*AntiSymmetricTensor(t, (_d, _e), (_l, _m))*AntiSymmetricTensor(t, (_f, _g), (_k, _n))*AntiSymmetricTensor(v, (_k, _l), (_a_0, _c))*NO(CreateFermion(_d)*CreateFermion(_e)*CreateFermion(_f)*CreateFermion(_g)*CreateFermion(_h)*AnnihilateFermion(_i_0)*AnnihilateFermion(_m)*AnnihilateFermion(_n)*AnnihilateFermion(_o)*AnnihilateFermion(_a_0))/16 + AntiSymmetricTensor(t, (_c, _h), (_i_0, _o))*AntiSymmetricTensor(t, (_d, _e), (_l, _m))*AntiSymmetricTensor(t, (_f, _g), (_k, _n))*AntiSymmetricTensor(v, (_k, _l), (_c, _i_1))*NO(CreateFermion(_d)*CreateFermion(_e)*CreateFermion(_f)*CreateFermion(_g)*CreateFermion(_h)*AnnihilateFermion(_i_0)*AnnihilateFermion(_i_1)*AnnihilateFermion(_m)*AnnihilateFermion(_n)*AnnihilateFermion(_o))/16 - AntiSymmetricTensor(v, (_r, _s), (_p, _q))*NO(CreateFermion(_r)*CreateFermion(_s)*AnnihilateFermion(_p)*AnnihilateFermion(_q))/4"
      ]
     },
     "execution_count": 76,
     "metadata": {},
     "output_type": "execute_result"
    }
   ],
   "source": [
    "eq"
   ]
  },
  {
   "cell_type": "code",
   "execution_count": null,
   "metadata": {},
   "outputs": [],
   "source": []
  }
 ],
 "metadata": {
  "kernelspec": {
   "display_name": "Python 3",
   "language": "python",
   "name": "python3"
  },
  "language_info": {
   "codemirror_mode": {
    "name": "ipython",
    "version": 3
   },
   "file_extension": ".py",
   "mimetype": "text/x-python",
   "name": "python",
   "nbconvert_exporter": "python",
   "pygments_lexer": "ipython3",
   "version": "3.6.8"
  }
 },
 "nbformat": 4,
 "nbformat_minor": 2
}
