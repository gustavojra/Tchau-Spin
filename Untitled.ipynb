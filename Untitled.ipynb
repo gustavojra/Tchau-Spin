{
 "cells": [
  {
   "cell_type": "code",
   "execution_count": 14,
   "metadata": {},
   "outputs": [],
   "source": [
    "from sympy import latex\n",
    "from tchau_spin import *\n",
    "Tensor.rhf = True"
   ]
  },
  {
   "cell_type": "code",
   "execution_count": 10,
   "metadata": {},
   "outputs": [],
   "source": [
    "eq = 'f^{k}_{i} t^{ab}_{jk} - f^{k}_{j} t^{ab}_{ik} - f^{a}_{c} t^{bc}_{ij} + f^{b}_{c} t^{ac}_{ij} - \\\\frac{t^{cd}_{ik} t^{ab}_{jl} v^{kl}_{cd}}{2} + \\\\frac{t^{cd}_{ij} t^{ab}_{kl} v^{kl}_{cd}}{4} + \\\\frac{t^{cd}_{ij} v^{ab}_{cd}}{2} + \\\\frac{t^{cd}_{jk} t^{ab}_{il} v^{kl}_{cd}}{2} - \\\\frac{t^{ac}_{kl} t^{bd}_{ij} v^{kl}_{cd}}{2} + t^{ac}_{ik} t^{bd}_{jl} v^{kl}_{cd} + t^{ac}_{ik} v^{bk}_{jc} - \\\\frac{t^{ac}_{ij} t^{bd}_{kl} v^{kl}_{cd}}{2} - t^{ac}_{jk} t^{bd}_{il} v^{kl}_{cd} - t^{ac}_{jk} v^{bk}_{ic} + \\\\frac{t^{ab}_{kl} v^{kl}_{ij}}{2} - t^{bc}_{ik} v^{ak}_{jc} + t^{bc}_{jk} v^{ak}_{ic} + v^{ab}_{ij}'"
   ]
  },
  {
   "cell_type": "code",
   "execution_count": 12,
   "metadata": {},
   "outputs": [],
   "source": [
    "energy = '\\\\frac{t^{cd}_{kl} v^{kl}_{cd}}{4}'"
   ]
  },
  {
   "cell_type": "code",
   "execution_count": 11,
   "metadata": {},
   "outputs": [],
   "source": [
    "i,j,a,b = Index.new('ijab', 'abab', 'hhpp')\n",
    "k,l,c,d = Index.new('klcd', 'xxxx', 'hhpp')\n",
    "index_key = {'i':i,\n",
    "             'j':j,\n",
    "             'a':a,\n",
    "             'b':b,\n",
    "             'k':k,\n",
    "             'l':l,\n",
    "             'c':c,\n",
    "             'd':d\n",
    "}"
   ]
  },
  {
   "cell_type": "code",
   "execution_count": 19,
   "metadata": {},
   "outputs": [
    {
     "data": {
      "text/latex": [
       "$\\displaystyle -t_{Lk}^{Cd}\\langle CD|KL\\rangle+2.0t_{Kl}^{Cd}\\langle CD|KL\\rangle$"
      ],
      "text/plain": [
       "<IPython.core.display.Math object>"
      ]
     },
     "metadata": {},
     "output_type": "display_data"
    }
   ],
   "source": [
    "E = eqfromlatex(energy, index_key)\n",
    "E = E.simplify()\n",
    "platex(E)"
   ]
  },
  {
   "cell_type": "code",
   "execution_count": 21,
   "metadata": {},
   "outputs": [
    {
     "name": "stdout",
     "output_type": "stream",
     "text": [
      "\n",
      "Trying to factorize T2(Lk->Cd)*<CD|KL>\n",
      "Comparing with T2(Kl->Cd)*<CD|KL>\n",
      "1\n",
      "Match!\n"
     ]
    }
   ],
   "source": [
    "new = Factor.factorize_ERI(E)"
   ]
  },
  {
   "cell_type": "code",
   "execution_count": 22,
   "metadata": {},
   "outputs": [
    {
     "data": {
      "text/latex": [
       "$\\displaystyle \\langle CD|KL\\rangle\\cdot[-t_{Lk}^{Cd}+2.0t_{Kl}^{Cd}]$"
      ],
      "text/plain": [
       "<IPython.core.display.Math object>"
      ]
     },
     "metadata": {},
     "output_type": "display_data"
    }
   ],
   "source": [
    "platex(new)"
   ]
  },
  {
   "cell_type": "code",
   "execution_count": 26,
   "metadata": {},
   "outputs": [
    {
     "data": {
      "text/latex": [
       "$\\displaystyle -f_{IK}t_{Kj}^{Ab}-f_{JK}t_{Ik}^{Ab}+f_{CA}t_{Ij}^{Cb}+f_{CB}t_{Ij}^{Ac}-1.5t_{Lj}^{Ab}t_{Ik}^{Dc}\\langle CD|KL\\rangle-0.5t_{Lj}^{Ab}t_{Ki}^{Cd}\\langle CD|KL\\rangle+0.5t_{Lj}^{Ab}t_{Ik}^{Cd}\\langle CD|KL\\rangle+0.5t_{Lj}^{Ab}t_{Ki}^{Cd}\\langle CD|LK\\rangle+t_{Lk}^{Ab}t_{Ij}^{Dc}\\langle CD|KL\\rangle+t_{Ij}^{Cd}\\langle CD|AB\\rangle-1.5t_{Il}^{Ab}t_{Kj}^{Cd}\\langle CD|KL\\rangle+0.5t_{Il}^{Ab}t_{Jk}^{Cd}\\langle CD|KL\\rangle+0.5t_{Il}^{Ab}t_{Kj}^{Cd}\\langle CD|LK\\rangle-0.5t_{Il}^{Ab}t_{Jk}^{Cd}\\langle CD|LK\\rangle-2.0t_{Ij}^{Db}t_{Lk}^{Ac}\\langle CD|KL\\rangle+t_{Ij}^{Db}t_{Kl}^{Ac}\\langle CD|KL\\rangle-2.0t_{Lj}^{Bd}t_{Ik}^{Ac}\\langle CD|KL\\rangle+2.0t_{Jl}^{Bd}t_{Ik}^{Ac}\\langle CD|KL\\rangle+t_{Lj}^{Bd}t_{Ik}^{Ac}\\langle CD|LK\\rangle-t_{Jl}^{Bd}t_{Ik}^{Ac}\\langle CD|LK\\rangle+t_{Lj}^{Bd}t_{Ki}^{Ac}\\langle CD|KL\\rangle-t_{Jl}^{Bd}t_{Ki}^{Ac}\\langle CD|KL\\rangle+2.0t_{Lj}^{Db}t_{Ik}^{Ac}\\langle CD|KL\\rangle-t_{Lj}^{Db}t_{Ki}^{Ac}\\langle CD|KL\\rangle+t_{Lj}^{Db}t_{Ki}^{Ac}\\langle CD|LK\\rangle-t_{Lj}^{Db}t_{Ik}^{Ac}\\langle CD|LK\\rangle+2.0t_{Ik}^{Ac}\\langle JC|BK\\rangle-t_{Ki}^{Ac}\\langle JC|BK\\rangle-t_{Ik}^{Ac}\\langle JC|KB\\rangle+t_{Lk}^{Bd}t_{Ij}^{Ac}\\langle CD|KL\\rangle-t_{Kl}^{Bd}t_{Ij}^{Ac}\\langle CD|KL\\rangle-t_{Lk}^{Db}t_{Ij}^{Ac}\\langle CD|KL\\rangle+t_{Il}^{Db}t_{Kj}^{Ac}\\langle CD|LK\\rangle-t_{Kj}^{Ac}\\langle IC|KB\\rangle+t_{Kl}^{Ab}\\langle IJ|KL\\rangle-t_{Ik}^{Cb}\\langle JC|KA\\rangle-t_{Kj}^{Bc}\\langle IC|AK\\rangle+t_{Jk}^{Bc}\\langle IC|AK\\rangle+t_{Kj}^{Cb}\\langle IC|AK\\rangle-t_{Kj}^{Cb}\\langle IC|KA\\rangle+\\langle IJ|AB\\rangle$"
      ],
      "text/plain": [
       "<IPython.core.display.Math object>"
      ]
     },
     "metadata": {},
     "output_type": "display_data"
    }
   ],
   "source": [
    "eqT2 = eqfromlatex(eq, index_key)\n",
    "eqT2 = eqT2.simplify()\n",
    "platex(eqT2)"
   ]
  },
  {
   "cell_type": "code",
   "execution_count": 28,
   "metadata": {},
   "outputs": [
    {
     "data": {
      "text/latex": [
       "$\\displaystyle -f_{IK}t_{Kj}^{Ab}-f_{JK}t_{Ik}^{Ab}+f_{CA}t_{Ij}^{Cb}+f_{CB}t_{Ij}^{Ac}+\\langle IJ|AB\\rangle+\\langle CD|KL\\rangle\\cdot[-1.5t_{Lj}^{Ab}t_{Ik}^{Dc}-0.5t_{Lj}^{Ab}t_{Ki}^{Cd}+0.5t_{Lj}^{Ab}t_{Ik}^{Cd}+t_{Lk}^{Ab}t_{Ij}^{Dc}-1.5t_{Il}^{Ab}t_{Kj}^{Cd}+0.5t_{Il}^{Ab}t_{Jk}^{Cd}-2.0t_{Ij}^{Db}t_{Lk}^{Ac}+t_{Ij}^{Db}t_{Kl}^{Ac}-2.0t_{Lj}^{Bd}t_{Ik}^{Ac}+2.0t_{Jl}^{Bd}t_{Ik}^{Ac}+t_{Lj}^{Bd}t_{Ki}^{Ac}-t_{Jl}^{Bd}t_{Ki}^{Ac}+2.0t_{Lj}^{Db}t_{Ik}^{Ac}-t_{Lj}^{Db}t_{Ki}^{Ac}+t_{Lk}^{Bd}t_{Ij}^{Ac}-t_{Kl}^{Bd}t_{Ij}^{Ac}-t_{Lk}^{Db}t_{Ij}^{Ac}]+\\langle CD|LK\\rangle\\cdot[0.5t_{Lj}^{Ab}t_{Ki}^{Cd}+0.5t_{Il}^{Ab}t_{Kj}^{Cd}-0.5t_{Il}^{Ab}t_{Jk}^{Cd}+t_{Lj}^{Bd}t_{Ik}^{Ac}-t_{Jl}^{Bd}t_{Ik}^{Ac}+t_{Lj}^{Db}t_{Ki}^{Ac}-t_{Lj}^{Db}t_{Ik}^{Ac}+t_{Il}^{Db}t_{Kj}^{Ac}]+t_{Ij}^{Cd}\\langle CD|AB\\rangle+\\langle JC|BK\\rangle\\cdot[2.0t_{Ik}^{Ac}-t_{Ki}^{Ac}]-t_{Ik}^{Ac}\\langle JC|KB\\rangle-t_{Kj}^{Ac}\\langle IC|KB\\rangle+t_{Kl}^{Ab}\\langle IJ|KL\\rangle-t_{Ik}^{Cb}\\langle JC|KA\\rangle+\\langle IC|AK\\rangle\\cdot[-t_{Kj}^{Bc}+t_{Jk}^{Bc}+t_{Kj}^{Cb}]-t_{Kj}^{Cb}\\langle IC|KA\\rangle$"
      ],
      "text/plain": [
       "<IPython.core.display.Math object>"
      ]
     },
     "metadata": {},
     "output_type": "display_data"
    }
   ],
   "source": [
    "platex(new)"
   ]
  }
 ],
 "metadata": {
  "kernelspec": {
   "display_name": "Python 3",
   "language": "python",
   "name": "python3"
  },
  "language_info": {
   "codemirror_mode": {
    "name": "ipython",
    "version": 3
   },
   "file_extension": ".py",
   "mimetype": "text/x-python",
   "name": "python",
   "nbconvert_exporter": "python",
   "pygments_lexer": "ipython3",
   "version": "3.6.9"
  }
 },
 "nbformat": 4,
 "nbformat_minor": 2
}
