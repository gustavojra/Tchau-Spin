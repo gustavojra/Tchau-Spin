{
 "cells": [
  {
   "cell_type": "code",
   "execution_count": 1,
   "metadata": {},
   "outputs": [],
   "source": [
    "from sympy import latex\n",
    "from tchau_spin import *\n",
    "Tensor.rhf = True"
   ]
  },
  {
   "cell_type": "code",
   "execution_count": 2,
   "metadata": {},
   "outputs": [],
   "source": [
    "eq = 'f^{k}_{i} t^{ab}_{jk} - f^{k}_{j} t^{ab}_{ik} - f^{a}_{c} t^{bc}_{ij} + f^{b}_{c} t^{ac}_{ij} - \\\\frac{t^{cd}_{ik} t^{ab}_{jl} v^{kl}_{cd}}{2} + \\\\frac{t^{cd}_{ij} t^{ab}_{kl} v^{kl}_{cd}}{4} + \\\\frac{t^{cd}_{ij} v^{ab}_{cd}}{2} + \\\\frac{t^{cd}_{jk} t^{ab}_{il} v^{kl}_{cd}}{2} - \\\\frac{t^{ac}_{kl} t^{bd}_{ij} v^{kl}_{cd}}{2} + t^{ac}_{ik} t^{bd}_{jl} v^{kl}_{cd} + t^{ac}_{ik} v^{bk}_{jc} - \\\\frac{t^{ac}_{ij} t^{bd}_{kl} v^{kl}_{cd}}{2} - t^{ac}_{jk} t^{bd}_{il} v^{kl}_{cd} - t^{ac}_{jk} v^{bk}_{ic} + \\\\frac{t^{ab}_{kl} v^{kl}_{ij}}{2} - t^{bc}_{ik} v^{ak}_{jc} + t^{bc}_{jk} v^{ak}_{ic} + v^{ab}_{ij}'"
   ]
  },
  {
   "cell_type": "code",
   "execution_count": 3,
   "metadata": {},
   "outputs": [],
   "source": [
    "energy = '\\\\frac{t^{cd}_{kl} v^{kl}_{cd}}{4}'"
   ]
  },
  {
   "cell_type": "code",
   "execution_count": 4,
   "metadata": {},
   "outputs": [],
   "source": [
    "i,j,a,b = Index.new('ijab', 'abab', 'hhpp')\n",
    "k,l,c,d = Index.new('klcd', 'xxxx', 'hhpp')\n",
    "index_key = {'i':i,\n",
    "             'j':j,\n",
    "             'a':a,\n",
    "             'b':b,\n",
    "             'k':k,\n",
    "             'l':l,\n",
    "             'c':c,\n",
    "             'd':d\n",
    "}\n",
    "mytensors = {\n",
    "    'T_OoVv' : 'T2',\n",
    "    'V_OOOO' : 'Voooo',\n",
    "    'V_OOOV' : 'Vooov',\n",
    "    'V_OOVV' : 'Voovv',\n",
    "    'V_OVOV' : 'Vovov',\n",
    "    'V_OVVV' : 'Vovvv',\n",
    "    'V_VVVV' : 'Vvvvv',\n",
    "    'f_OO' : 'fock_OO',\n",
    "    'f_VV' : 'fock_VV',\n",
    "    'f_OV' : 'fock_OV'\n",
    "    \n",
    "}"
   ]
  },
  {
   "cell_type": "code",
   "execution_count": 5,
   "metadata": {},
   "outputs": [
    {
     "data": {
      "text/latex": [
       "$\\displaystyle -t_{Lk}^{Cd}\\langle KL|CD\\rangle+2.0t_{Kl}^{Cd}\\langle KL|CD\\rangle$"
      ],
      "text/plain": [
       "<IPython.core.display.Math object>"
      ]
     },
     "metadata": {},
     "output_type": "display_data"
    }
   ],
   "source": [
    "E = eqfromlatex(energy, index_key)\n",
    "E = E.simplify()\n",
    "E = E.adapt_space()\n",
    "platex(E)"
   ]
  },
  {
   "cell_type": "code",
   "execution_count": 6,
   "metadata": {},
   "outputs": [
    {
     "data": {
      "text/latex": [
       "$\\displaystyle \\langle IJ|AB\\rangle+f_{CB}t_{Ij}^{Ac}-f_{IK}t_{Kj}^{Ab}-f_{JK}t_{Ik}^{Ab}+f_{CA}t_{Ij}^{Cb}+2.0t_{Jk}^{Bc}\\langle KI|CA\\rangle-t_{Kj}^{Bc}\\langle KI|CA\\rangle-t_{Ik}^{Cb}\\langle JC|KA\\rangle+t_{Ij}^{Cd}\\langle CD|AB\\rangle+t_{Kl}^{Ab}\\langle IJ|KL\\rangle-t_{Kj}^{Ac}\\langle IC|KB\\rangle-t_{Ik}^{Ac}\\langle JC|KB\\rangle-t_{Ki}^{Ac}\\langle KJ|CB\\rangle-t_{Kj}^{Cb}\\langle IC|KA\\rangle+2.0t_{Ik}^{Ac}\\langle KJ|CB\\rangle+t_{Kj}^{Ac}t_{Il}^{Db}\\langle LK|CD\\rangle-2.0t_{Ij}^{Ac}t_{Kl}^{Bd}\\langle KL|CD\\rangle+t_{Ij}^{Ac}t_{Lk}^{Bd}\\langle KL|CD\\rangle-2.0t_{Ki}^{Ac}t_{Jl}^{Bd}\\langle KL|CD\\rangle+t_{Ki}^{Ac}t_{Lj}^{Bd}\\langle KL|CD\\rangle+t_{Ik}^{Ac}t_{Lj}^{Bd}\\langle LK|CD\\rangle+4.0t_{Ik}^{Ac}t_{Jl}^{Bd}\\langle KL|CD\\rangle-2.0t_{Ik}^{Ac}t_{Lj}^{Bd}\\langle KL|CD\\rangle+t_{Kl}^{Ac}t_{Ij}^{Db}\\langle KL|CD\\rangle-2.0t_{Lk}^{Ac}t_{Ij}^{Db}\\langle KL|CD\\rangle+t_{Jk}^{Cd}t_{Il}^{Ab}\\langle KL|CD\\rangle-2.0t_{Kj}^{Cd}t_{Il}^{Ab}\\langle KL|CD\\rangle+t_{Ij}^{Dc}t_{Lk}^{Ab}\\langle KL|CD\\rangle+t_{Ik}^{Cd}t_{Lj}^{Ab}\\langle KL|CD\\rangle-2.0t_{Ik}^{Dc}t_{Lj}^{Ab}\\langle KL|CD\\rangle+t_{Ki}^{Ac}t_{Lj}^{Db}\\langle LK|CD\\rangle-2.0t_{Ik}^{Ac}t_{Jl}^{Bd}\\langle LK|CD\\rangle$"
      ],
      "text/plain": [
       "<IPython.core.display.Math object>"
      ]
     },
     "metadata": {},
     "output_type": "display_data"
    }
   ],
   "source": [
    "T = eqfromlatex(eq, index_key)\n",
    "T = T.simplify()\n",
    "T = T.adapt_space()\n",
    "T.sort()\n",
    "#T = Factor.factorize_ERI(T)\n",
    "platex(T)"
   ]
  },
  {
   "cell_type": "code",
   "execution_count": 7,
   "metadata": {},
   "outputs": [],
   "source": [
    "pT = process_eq(T, i,j,a,b, name='newT2', tensor_labels=mytensors)"
   ]
  },
  {
   "cell_type": "code",
   "execution_count": 8,
   "metadata": {},
   "outputs": [
    {
     "name": "stdout",
     "output_type": "stream",
     "text": [
      "newT2 += Voovv\n",
      "newT2 += np.einsum('cb, ijac -> ijab', fock_VV, T2, optimize = 'optimal')\n",
      "newT2 -= np.einsum('ik, kjab -> ijab', fock_OO, T2, optimize = 'optimal')\n",
      "newT2 -= np.einsum('jk, ikab -> ijab', fock_OO, T2, optimize = 'optimal')\n",
      "newT2 += np.einsum('ca, ijcb -> ijab', fock_VV, T2, optimize = 'optimal')\n",
      "newT2 += 2.0*np.einsum('jkbc, kica -> ijab', T2, Voovv, optimize = 'optimal')\n",
      "newT2 -= np.einsum('kjbc, kica -> ijab', T2, Voovv, optimize = 'optimal')\n",
      "newT2 -= np.einsum('ikcb, jcka -> ijab', T2, Vovov, optimize = 'optimal')\n",
      "newT2 += np.einsum('ijcd, cdab -> ijab', T2, Vvvvv, optimize = 'optimal')\n",
      "newT2 += np.einsum('klab, ijkl -> ijab', T2, Voooo, optimize = 'optimal')\n",
      "newT2 -= np.einsum('kjac, ickb -> ijab', T2, Vovov, optimize = 'optimal')\n",
      "newT2 -= np.einsum('ikac, jckb -> ijab', T2, Vovov, optimize = 'optimal')\n",
      "newT2 -= np.einsum('kiac, kjcb -> ijab', T2, Voovv, optimize = 'optimal')\n",
      "newT2 -= np.einsum('kjcb, icka -> ijab', T2, Vovov, optimize = 'optimal')\n",
      "newT2 += 2.0*np.einsum('ikac, kjcb -> ijab', T2, Voovv, optimize = 'optimal')\n",
      "newT2 += np.einsum('kjac, ildb, lkcd -> ijab', T2, T2, Voovv, optimize = 'optimal')\n",
      "newT2 += -2.0*np.einsum('ijac, klbd, klcd -> ijab', T2, T2, Voovv, optimize = 'optimal')\n",
      "newT2 += np.einsum('ijac, lkbd, klcd -> ijab', T2, T2, Voovv, optimize = 'optimal')\n",
      "newT2 += -2.0*np.einsum('kiac, jlbd, klcd -> ijab', T2, T2, Voovv, optimize = 'optimal')\n",
      "newT2 += np.einsum('kiac, ljbd, klcd -> ijab', T2, T2, Voovv, optimize = 'optimal')\n",
      "newT2 += np.einsum('ikac, ljbd, lkcd -> ijab', T2, T2, Voovv, optimize = 'optimal')\n",
      "newT2 += 4.0*np.einsum('ikac, jlbd, klcd -> ijab', T2, T2, Voovv, optimize = 'optimal')\n",
      "newT2 += -2.0*np.einsum('ikac, ljbd, klcd -> ijab', T2, T2, Voovv, optimize = 'optimal')\n",
      "newT2 += np.einsum('klac, ijdb, klcd -> ijab', T2, T2, Voovv, optimize = 'optimal')\n",
      "newT2 += -2.0*np.einsum('lkac, ijdb, klcd -> ijab', T2, T2, Voovv, optimize = 'optimal')\n",
      "newT2 += np.einsum('jkcd, ilab, klcd -> ijab', T2, T2, Voovv, optimize = 'optimal')\n",
      "newT2 += -2.0*np.einsum('kjcd, ilab, klcd -> ijab', T2, T2, Voovv, optimize = 'optimal')\n",
      "newT2 += np.einsum('ijdc, lkab, klcd -> ijab', T2, T2, Voovv, optimize = 'optimal')\n",
      "newT2 += np.einsum('ikcd, ljab, klcd -> ijab', T2, T2, Voovv, optimize = 'optimal')\n",
      "newT2 += -2.0*np.einsum('ikdc, ljab, klcd -> ijab', T2, T2, Voovv, optimize = 'optimal')\n",
      "newT2 += np.einsum('kiac, ljdb, lkcd -> ijab', T2, T2, Voovv, optimize = 'optimal')\n",
      "newT2 += -2.0*np.einsum('ikac, jlbd, lkcd -> ijab', T2, T2, Voovv, optimize = 'optimal')\n",
      "\n"
     ]
    }
   ],
   "source": [
    "pT.write_einsums_out(print_out=True)"
   ]
  },
  {
   "cell_type": "code",
   "execution_count": 9,
   "metadata": {},
   "outputs": [],
   "source": [
    "from itertools import permutations"
   ]
  },
  {
   "cell_type": "code",
   "execution_count": 10,
   "metadata": {},
   "outputs": [
    {
     "data": {
      "text/plain": [
       "[(0, 1), (1, 0)]"
      ]
     },
     "execution_count": 10,
     "metadata": {},
     "output_type": "execute_result"
    }
   ],
   "source": [
    "list(set(permutations(range(2))))"
   ]
  },
  {
   "cell_type": "code",
   "execution_count": 11,
   "metadata": {},
   "outputs": [
    {
     "name": "stdout",
     "output_type": "stream",
     "text": [
      "[2, 3]\n"
     ]
    }
   ],
   "source": [
    "y = [1,2,3]\n",
    "x = y[1:]\n",
    "print(x)"
   ]
  },
  {
   "cell_type": "code",
   "execution_count": 12,
   "metadata": {},
   "outputs": [
    {
     "name": "stdout",
     "output_type": "stream",
     "text": [
      "['a', 3]\n",
      "[1, 2, 3]\n"
     ]
    }
   ],
   "source": [
    "x[0] = 'a'\n",
    "print(x)\n",
    "print(y)"
   ]
  },
  {
   "cell_type": "code",
   "execution_count": 13,
   "metadata": {},
   "outputs": [
    {
     "data": {
      "text/latex": [
       "$\\displaystyle t_{Ik}^{Cb}\\langle JC|KA\\rangle$"
      ],
      "text/plain": [
       "<IPython.core.display.Math object>"
      ]
     },
     "metadata": {},
     "output_type": "display_data"
    }
   ],
   "source": [
    "platex(T.terms[7])"
   ]
  },
  {
   "cell_type": "code",
   "execution_count": 14,
   "metadata": {},
   "outputs": [
    {
     "data": {
      "text/latex": [
       "$\\displaystyle t_{Ik}^{Cb}\\langle JC|KA\\rangle$"
      ],
      "text/plain": [
       "<IPython.core.display.Math object>"
      ]
     },
     "metadata": {},
     "output_type": "display_data"
    }
   ],
   "source": [
    "test = T.terms[7]\n",
    "platex(test)"
   ]
  },
  {
   "cell_type": "code",
   "execution_count": 15,
   "metadata": {},
   "outputs": [
    {
     "data": {
      "text/latex": [
       "$\\displaystyle t_{I1}^{2b}\\langle J2|1A\\rangle$"
      ],
      "text/plain": [
       "<IPython.core.display.Math object>"
      ]
     },
     "metadata": {},
     "output_type": "display_data"
    }
   ],
   "source": [
    "platex(test.sub_dummies())"
   ]
  },
  {
   "cell_type": "code",
   "execution_count": 16,
   "metadata": {},
   "outputs": [
    {
     "data": {
      "text/latex": [
       "$\\displaystyle t_{jIK}^{bAC}$"
      ],
      "text/plain": [
       "<IPython.core.display.Math object>"
      ]
     },
     "metadata": {},
     "output_type": "display_data"
    }
   ],
   "source": [
    "test = Amplitude(i,j,k.alpha(),a,b,c.alpha())\n",
    "platex(test.transpose_columns([1,0,2]))"
   ]
  },
  {
   "cell_type": "code",
   "execution_count": 17,
   "metadata": {},
   "outputs": [
    {
     "data": {
      "text/latex": [
       "$\\displaystyle t_{IjK}^{AbC}+t_{iJk}^{aBc}+t_{IKj}^{ACb}+t_{ikJ}^{acB}+t_{jIK}^{bAC}+t_{Jik}^{Bac}+t_{jKI}^{bCA}+t_{Jki}^{Bca}+t_{KIj}^{CAb}+t_{kiJ}^{caB}+t_{KjI}^{CbA}+t_{kJi}^{cBa}$"
      ],
      "text/plain": [
       "<IPython.core.display.Math object>"
      ]
     },
     "metadata": {},
     "output_type": "display_data"
    }
   ],
   "source": [
    "platex(test.equivalent_forms())"
   ]
  },
  {
   "cell_type": "code",
   "execution_count": null,
   "metadata": {},
   "outputs": [],
   "source": []
  }
 ],
 "metadata": {
  "kernelspec": {
   "display_name": "Python 3",
   "language": "python",
   "name": "python3"
  },
  "language_info": {
   "codemirror_mode": {
    "name": "ipython",
    "version": 3
   },
   "file_extension": ".py",
   "mimetype": "text/x-python",
   "name": "python",
   "nbconvert_exporter": "python",
   "pygments_lexer": "ipython3",
   "version": "3.6.9"
  }
 },
 "nbformat": 4,
 "nbformat_minor": 2
}
