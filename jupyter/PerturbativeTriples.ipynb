{
 "cells": [
  {
   "cell_type": "markdown",
   "metadata": {},
   "source": [
    "# Spin adapting Perturbative Triples Equation"
   ]
  },
  {
   "cell_type": "code",
   "execution_count": 12,
   "metadata": {},
   "outputs": [],
   "source": [
    "from tchau_spin import *\n",
    "# For restricted CC\n",
    "Tensor.rhf = True"
   ]
  },
  {
   "cell_type": "code",
   "execution_count": 13,
   "metadata": {},
   "outputs": [],
   "source": [
    "i,j,k,a,b,c = Index.new('ijkabc', 'abaaba', 'hhhppp')\n",
    "l,d,e,m = Index.new('lcem', 'xxxx', 'hpph')\n",
    "index_key = {'i':i,\n",
    "             'j':j,\n",
    "             'a':a,\n",
    "             'b':b,\n",
    "             'k':k,\n",
    "             'l':l,\n",
    "             'c':c,\n",
    "             'd':d,\n",
    "             'e':e,\n",
    "             'm':m\n",
    "}"
   ]
  },
  {
   "cell_type": "code",
   "execution_count": 17,
   "metadata": {
    "scrolled": true
   },
   "outputs": [
    {
     "data": {
      "text/latex": [
       "$\\displaystyle t_{I}^{A}\\langle JK|BC\\rangle-t_{I}^{A}\\langle JK|CB\\rangle-t_{I}^{b}\\langle JK|AC\\rangle+t_{I}^{b}\\langle JK|CA\\rangle-t_{I}^{C}\\langle JK|BA\\rangle+t_{I}^{C}\\langle JK|AB\\rangle-t_{j}^{A}\\langle IK|BC\\rangle+t_{j}^{A}\\langle IK|CB\\rangle+t_{J}^{B}\\langle IK|AC\\rangle-t_{J}^{B}\\langle IK|CA\\rangle+t_{j}^{C}\\langle IK|BA\\rangle-t_{j}^{C}\\langle IK|AB\\rangle-t_{K}^{A}\\langle JI|BC\\rangle+t_{K}^{A}\\langle JI|CB\\rangle+t_{K}^{b}\\langle JI|AC\\rangle-t_{K}^{b}\\langle JI|CA\\rangle+t_{K}^{C}\\langle JI|BA\\rangle-t_{K}^{C}\\langle JI|AB\\rangle$"
      ],
      "text/plain": [
       "<IPython.core.display.Math object>"
      ]
     },
     "metadata": {},
     "output_type": "display_data"
    }
   ],
   "source": [
    "disc  = 'P(i/jk)P(a/bc)[t^{a}_{i}*v^{bc}_{jk}]'\n",
    "disc = eqfromlatex(disc, index_key).simplify()\n",
    "disc = disc.adapt_space()\n",
    "platex(disc)"
   ]
  },
  {
   "cell_type": "code",
   "execution_count": 18,
   "metadata": {},
   "outputs": [
    {
     "name": "stdout",
     "output_type": "stream",
     "text": [
      "t3d += T1[i,a]*Voovv[j,k,b,c]\n",
      "t3d -= T1[i,a]*Voovv[j,k,c,b]\n",
      "t3d -= T_Ov[i,b]*Voovv[j,k,a,c]\n",
      "t3d += T_Ov[i,b]*Voovv[j,k,c,a]\n",
      "t3d -= T1[i,c]*Voovv[j,k,b,a]\n",
      "t3d += T1[i,c]*Voovv[j,k,a,b]\n",
      "t3d -= T_oV[j,a]*Voovv[i,k,b,c]\n",
      "t3d += T_oV[j,a]*Voovv[i,k,c,b]\n",
      "t3d += T1[j,b]*Voovv[i,k,a,c]\n",
      "t3d -= T1[j,b]*Voovv[i,k,c,a]\n",
      "t3d += T_oV[j,c]*Voovv[i,k,b,a]\n",
      "t3d -= T_oV[j,c]*Voovv[i,k,a,b]\n",
      "t3d -= T1[k,a]*Voovv[j,i,b,c]\n",
      "t3d += T1[k,a]*Voovv[j,i,c,b]\n",
      "t3d += T_Ov[k,b]*Voovv[j,i,a,c]\n",
      "t3d -= T_Ov[k,b]*Voovv[j,i,c,a]\n",
      "t3d += T1[k,c]*Voovv[j,i,b,a]\n",
      "t3d -= T1[k,c]*Voovv[j,i,a,b]\n",
      "\n"
     ]
    },
    {
     "data": {
      "text/plain": [
       "'t3d += T1[i,a]*Voovv[j,k,b,c]\\nt3d -= T1[i,a]*Voovv[j,k,c,b]\\nt3d -= T_Ov[i,b]*Voovv[j,k,a,c]\\nt3d += T_Ov[i,b]*Voovv[j,k,c,a]\\nt3d -= T1[i,c]*Voovv[j,k,b,a]\\nt3d += T1[i,c]*Voovv[j,k,a,b]\\nt3d -= T_oV[j,a]*Voovv[i,k,b,c]\\nt3d += T_oV[j,a]*Voovv[i,k,c,b]\\nt3d += T1[j,b]*Voovv[i,k,a,c]\\nt3d -= T1[j,b]*Voovv[i,k,c,a]\\nt3d += T_oV[j,c]*Voovv[i,k,b,a]\\nt3d -= T_oV[j,c]*Voovv[i,k,a,b]\\nt3d -= T1[k,a]*Voovv[j,i,b,c]\\nt3d += T1[k,a]*Voovv[j,i,c,b]\\nt3d += T_Ov[k,b]*Voovv[j,i,a,c]\\nt3d -= T_Ov[k,b]*Voovv[j,i,c,a]\\nt3d += T1[k,c]*Voovv[j,i,b,a]\\nt3d -= T1[k,c]*Voovv[j,i,a,b]\\n'"
      ]
     },
     "execution_count": 18,
     "metadata": {},
     "output_type": "execute_result"
    }
   ],
   "source": [
    "x = eq_to_julia(disc, name='t3d', tensor_labels=mytensors)\n",
    "x.write_tensorop_out(print_out=True)"
   ]
  },
  {
   "cell_type": "code",
   "execution_count": 19,
   "metadata": {},
   "outputs": [
    {
     "data": {
      "text/latex": [
       "$\\displaystyle -t_{Kj}^{Ae}\\langle IE|CB\\rangle-t_{Kj}^{Eb}\\langle IE|CA\\rangle+t_{Kj}^{Eb}\\langle IE|AC\\rangle+t_{Kj}^{Ce}\\langle IE|AB\\rangle-t_{Ki}^{Ae}\\langle JE|BC\\rangle+t_{Ik}^{Ae}\\langle JE|BC\\rangle+t_{Ki}^{Ce}\\langle JE|BA\\rangle-t_{Ik}^{Ce}\\langle JE|BA\\rangle+t_{Ij}^{Ae}\\langle KE|CB\\rangle+t_{Ij}^{Eb}\\langle KE|CA\\rangle-t_{Ij}^{Eb}\\langle KE|AC\\rangle-t_{Ij}^{Ce}\\langle KE|AB\\rangle+t_{Im}^{Cb}\\langle JK|MA\\rangle$"
      ],
      "text/plain": [
       "<IPython.core.display.Math object>"
      ]
     },
     "metadata": {},
     "output_type": "display_data"
    }
   ],
   "source": [
    "conec = 'P(i/jk)P(a/bc)[t^{ae}_{jk}*v^{bc}_{ei} -t^{bc}_{im}*v^{ma}_{jk}]'\n",
    "conec = eqfromlatex(conec, index_key).simplify()\n",
    "conec = conec.adapt_space()\n",
    "platex(conec)"
   ]
  },
  {
   "cell_type": "code",
   "execution_count": 20,
   "metadata": {},
   "outputs": [],
   "source": [
    "mytensors = {\n",
    "    'T_OoVv' : 'T2',\n",
    "    'T_OV' : 'T1',\n",
    "    'V_OOOO' : 'Voooo',\n",
    "    'V_OOOV' : 'Vooov',\n",
    "    'V_OOVV' : 'Voovv',\n",
    "    'V_OVOV' : 'Vovov',\n",
    "    'V_OVVV' : 'Vovvv',\n",
    "    'V_VVVV' : 'Vvvvv',\n",
    "    'f_OO' : 'fock_OO',\n",
    "    'f_VV' : 'fock_VV',\n",
    "    'f_OV' : 'fock_OV'\n",
    "    \n",
    "}"
   ]
  },
  {
   "cell_type": "code",
   "execution_count": 21,
   "metadata": {},
   "outputs": [
    {
     "name": "stdout",
     "output_type": "stream",
     "text": [
      "t3c -= T2[k,j,a,e]*Vovvv[i,e,c,b]\n",
      "t3c -= T2[k,j,e,b]*Vovvv[i,e,c,a]\n",
      "t3c += T2[k,j,e,b]*Vovvv[i,e,a,c]\n",
      "t3c += T2[k,j,c,e]*Vovvv[i,e,a,b]\n",
      "t3c -= T2[k,i,a,e]*Vovvv[j,e,b,c]\n",
      "t3c += T2[i,k,a,e]*Vovvv[j,e,b,c]\n",
      "t3c += T2[k,i,c,e]*Vovvv[j,e,b,a]\n",
      "t3c -= T2[i,k,c,e]*Vovvv[j,e,b,a]\n",
      "t3c += T2[i,j,a,e]*Vovvv[k,e,c,b]\n",
      "t3c += T2[i,j,e,b]*Vovvv[k,e,c,a]\n",
      "t3c -= T2[i,j,e,b]*Vovvv[k,e,a,c]\n",
      "t3c -= T2[i,j,c,e]*Vovvv[k,e,a,b]\n",
      "t3c += T2[i,m,c,b]*Vooov[j,k,m,a]\n",
      "\n"
     ]
    },
    {
     "data": {
      "text/plain": [
       "'t3c -= T2[k,j,a,e]*Vovvv[i,e,c,b]\\nt3c -= T2[k,j,e,b]*Vovvv[i,e,c,a]\\nt3c += T2[k,j,e,b]*Vovvv[i,e,a,c]\\nt3c += T2[k,j,c,e]*Vovvv[i,e,a,b]\\nt3c -= T2[k,i,a,e]*Vovvv[j,e,b,c]\\nt3c += T2[i,k,a,e]*Vovvv[j,e,b,c]\\nt3c += T2[k,i,c,e]*Vovvv[j,e,b,a]\\nt3c -= T2[i,k,c,e]*Vovvv[j,e,b,a]\\nt3c += T2[i,j,a,e]*Vovvv[k,e,c,b]\\nt3c += T2[i,j,e,b]*Vovvv[k,e,c,a]\\nt3c -= T2[i,j,e,b]*Vovvv[k,e,a,c]\\nt3c -= T2[i,j,c,e]*Vovvv[k,e,a,b]\\nt3c += T2[i,m,c,b]*Vooov[j,k,m,a]\\n'"
      ]
     },
     "execution_count": 21,
     "metadata": {},
     "output_type": "execute_result"
    }
   ],
   "source": [
    "x = eq_to_julia(conec, name='t3c', tensor_labels=mytensors)\n",
    "x.write_tensorop_out(print_out=True)"
   ]
  },
  {
   "cell_type": "code",
   "execution_count": null,
   "metadata": {},
   "outputs": [],
   "source": []
  }
 ],
 "metadata": {
  "kernelspec": {
   "display_name": "Python 3",
   "language": "python",
   "name": "python3"
  },
  "language_info": {
   "codemirror_mode": {
    "name": "ipython",
    "version": 3
   },
   "file_extension": ".py",
   "mimetype": "text/x-python",
   "name": "python",
   "nbconvert_exporter": "python",
   "pygments_lexer": "ipython3",
   "version": "3.6.8"
  }
 },
 "nbformat": 4,
 "nbformat_minor": 2
}
