{
 "cells": [
  {
   "cell_type": "code",
   "execution_count": 1,
   "metadata": {},
   "outputs": [],
   "source": [
    "from tchau_spin import *\n",
    "import numpy as np\n",
    "import copy"
   ]
  },
  {
   "cell_type": "code",
   "execution_count": 2,
   "metadata": {},
   "outputs": [],
   "source": [
    "# Define indexes. General\n",
    "i,j,a,b = Index('i'), Index('j'), Index('a'), Index('b')\n",
    "m,n,e,f = Index('m'), Index('n'), Index('e'), Index('f')"
   ]
  },
  {
   "cell_type": "code",
   "execution_count": 3,
   "metadata": {},
   "outputs": [
    {
     "name": "stdout",
     "output_type": "stream",
     "text": [
      "~f\n",
      "T2(~m~n->~a~b)\n",
      "<~i~j|~m~e>   <~i~j|~e~m>   \n"
     ]
    }
   ],
   "source": [
    "# Energy\n",
    "Tensor.rhf = True\n",
    "F = Fock(i,a)\n",
    "print(f)\n",
    "T1 = Amplitude(m,f)\n",
    "T2 = Amplitude(m,n,a,b)\n",
    "T3 = Amplitude(m,n,j,a,b,e)\n",
    "print(T2)\n",
    "A = ERI.Antisymmetric(i,j,m,e)\n",
    "print(A)\n",
    "V = ERI(m,n,e,f)"
   ]
  },
  {
   "cell_type": "code",
   "execution_count": 8,
   "metadata": {},
   "outputs": [
    {
     "data": {
      "text/latex": [
       "$\\displaystyle -t_{M}^{F}t_{Nm}^{Ab}\\langle MN|EF\\rangle+t_{M}^{F}t_{Mn}^{Ab}\\langle MN|EF\\rangle-t_{M}^{F}t_{Nm}^{Ab}\\langle MN|EF\\rangle+t_{M}^{F}t_{Mn}^{Ab}\\langle MN|EF\\rangle$"
      ],
      "text/plain": [
       "<IPython.core.display.Math object>"
      ]
     },
     "metadata": {},
     "output_type": "display_data"
    }
   ],
   "source": [
    "platex((T1*T2*V).adapt())"
   ]
  },
  {
   "cell_type": "code",
   "execution_count": 6,
   "metadata": {},
   "outputs": [
    {
     "data": {
      "text/latex": [
       "$\\displaystyle +t_{m}^{f}t_{mn}^{ab}\\langle mn|ef\\rangle+t_{M}^{F}t_{MN}^{AB}\\langle MN|EF\\rangle$"
      ],
      "text/plain": [
       "<IPython.core.display.Math object>"
      ]
     },
     "metadata": {},
     "output_type": "display_data"
    }
   ],
   "source": [
    "platex((T1*T2*V))"
   ]
  },
  {
   "cell_type": "code",
   "execution_count": 7,
   "metadata": {},
   "outputs": [
    {
     "data": {
      "text/latex": [
       "$\\displaystyle +t_{mn}^{ab}\\langle mn|ef\\rangle+t_{mN}^{aB}\\langle mN|eF\\rangle+t_{mN}^{Ab}\\langle mN|eF\\rangle+t_{Mn}^{aB}\\langle Mn|Ef\\rangle+t_{Mn}^{Ab}\\langle Mn|Ef\\rangle+t_{MN}^{AB}\\langle MN|EF\\rangle$"
      ],
      "text/plain": [
       "<IPython.core.display.Math object>"
      ]
     },
     "metadata": {},
     "output_type": "display_data"
    }
   ],
   "source": [
    "platex(T2*V)"
   ]
  },
  {
   "cell_type": "code",
   "execution_count": 13,
   "metadata": {},
   "outputs": [
    {
     "data": {
      "text/latex": [
       "$\\displaystyle +f_{IA}+f_{IA}$"
      ],
      "text/plain": [
       "<IPython.core.display.Math object>"
      ]
     },
     "metadata": {},
     "output_type": "display_data"
    }
   ],
   "source": [
    "platex(F.expand().adapt())"
   ]
  },
  {
   "cell_type": "code",
   "execution_count": null,
   "metadata": {},
   "outputs": [],
   "source": []
  }
 ],
 "metadata": {
  "kernelspec": {
   "display_name": "Python 3",
   "language": "python",
   "name": "python3"
  },
  "language_info": {
   "codemirror_mode": {
    "name": "ipython",
    "version": 3
   },
   "file_extension": ".py",
   "mimetype": "text/x-python",
   "name": "python",
   "nbconvert_exporter": "python",
   "pygments_lexer": "ipython3",
   "version": "3.6.8"
  }
 },
 "nbformat": 4,
 "nbformat_minor": 2
}
