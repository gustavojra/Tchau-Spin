{
 "cells": [
  {
   "cell_type": "code",
   "execution_count": 1,
   "metadata": {},
   "outputs": [],
   "source": [
    "from tchau_spin import *\n",
    "import numpy as np\n",
    "import copy\n",
    "from sympy import *\n",
    "init_printing()"
   ]
  },
  {
   "cell_type": "code",
   "execution_count": 2,
   "metadata": {},
   "outputs": [],
   "source": [
    "# Define indexes. General\n",
    "i,j,a,b = Index('i'), Index('j'), Index('a'), Index('b')\n",
    "m,n,e,f = Index('m'), Index('n'), Index('e'), Index('f')"
   ]
  },
  {
   "cell_type": "code",
   "execution_count": 36,
   "metadata": {},
   "outputs": [
    {
     "name": "stdout",
     "output_type": "stream",
     "text": [
      "~f\n",
      "+T2(~m~n->~a~b)\n",
      "+<~i~j|~m~e>   -<~i~j|~e~m>   \n"
     ]
    }
   ],
   "source": [
    "# Energy\n",
    "F = Fock(i,a, rhf=True)\n",
    "print(f)\n",
    "T1 = Amplitude(m,e)\n",
    "T2 = Amplitude(m,n,a,b, rhf=True)\n",
    "T3 = Amplitude(m,n,j,a,b,e, rhf=True)\n",
    "print(T2)\n",
    "A = ERI.Antisymmetric(i,j,m,e, rhf=True)\n",
    "print(A)\n",
    "V = ERI(m,n,e,f)"
   ]
  },
  {
   "cell_type": "code",
   "execution_count": 19,
   "metadata": {},
   "outputs": [
    {
     "data": {
      "text/latex": [
       "$\\displaystyle f_{\\tilde{i}\\tilde{a}}$"
      ],
      "text/plain": [
       "<IPython.core.display.Math object>"
      ]
     },
     "metadata": {},
     "output_type": "display_data"
    }
   ],
   "source": [
    "platex(F)"
   ]
  },
  {
   "cell_type": "code",
   "execution_count": 20,
   "metadata": {},
   "outputs": [
    {
     "data": {
      "text/latex": [
       "$\\displaystyle t_{\\tilde{i}\\tilde{j}}^{\\tilde{a}\\tilde{b}}$"
      ],
      "text/plain": [
       "<IPython.core.display.Math object>"
      ]
     },
     "metadata": {},
     "output_type": "display_data"
    }
   ],
   "source": [
    "platex(T2)"
   ]
  },
  {
   "cell_type": "code",
   "execution_count": 21,
   "metadata": {},
   "outputs": [
    {
     "data": {
      "text/latex": [
       "$\\displaystyle +\\langle \\tilde{i}\\tilde{j}|\\tilde{a}\\tilde{b}\\rangle-\\langle \\tilde{i}\\tilde{j}|\\tilde{b}\\tilde{a}\\rangle$"
      ],
      "text/plain": [
       "<IPython.core.display.Math object>"
      ]
     },
     "metadata": {},
     "output_type": "display_data"
    }
   ],
   "source": [
    "platex(A)"
   ]
  },
  {
   "cell_type": "code",
   "execution_count": 28,
   "metadata": {},
   "outputs": [
    {
     "data": {
      "text/latex": [
       "$\\displaystyle -t_{Nm}^{Ab}\\langle IJ|MN\\rangle+t_{Mn}^{Ab}\\langle IJ|MN\\rangle+t_{Nm}^{Ba}\\langle iJ|mN\\rangle-t_{Nm}^{Ab}\\langle iJ|mN\\rangle-t_{Mn}^{Ba}\\langle Ij|Mn\\rangle+t_{Mn}^{Ab}\\langle Ij|Mn\\rangle-t_{Nm}^{Ab}\\langle IJ|MN\\rangle+t_{Mn}^{Ab}\\langle IJ|MN\\rangle+t_{Nm}^{Ab}\\langle IJ|NM\\rangle-t_{Mn}^{Ab}\\langle IJ|NM\\rangle-t_{Nm}^{Ba}\\langle Ij|Nm\\rangle-t_{Nm}^{Ab}\\langle Ij|Nm\\rangle+t_{Mn}^{Ba}\\langle iJ|nM\\rangle+t_{Mn}^{Ab}\\langle iJ|nM\\rangle+t_{Nm}^{Ab}\\langle IJ|NM\\rangle-t_{Mn}^{Ab}\\langle IJ|NM\\rangle$"
      ],
      "text/plain": [
       "<IPython.core.display.Math object>"
      ]
     },
     "metadata": {},
     "output_type": "display_data"
    }
   ],
   "source": [
    "platex((T2*A).adapt())"
   ]
  },
  {
   "cell_type": "code",
   "execution_count": 37,
   "metadata": {},
   "outputs": [
    {
     "data": {
      "text/latex": [
       "$\\displaystyle -t_{NmJ}^{AbE}\\langle IJ|ME\\rangle+t_{MnJ}^{AbE}\\langle IJ|ME\\rangle-t_{MjN}^{AbE}\\langle IJ|ME\\rangle+t_{MjN}^{AeB}\\langle iJ|mE\\rangle+t_{MnJ}^{AbE}\\langle IJ|ME\\rangle-t_{MnJ}^{BaE}\\langle IJ|ME\\rangle+t_{NmJ}^{BaE}\\langle iJ|mE\\rangle-t_{NmJ}^{AbE}\\langle iJ|mE\\rangle-t_{NmJ}^{AbE}\\langle Ij|Me\\rangle+t_{NmJ}^{BaE}\\langle Ij|Me\\rangle-t_{MnJ}^{BaE}\\langle IJ|ME\\rangle+t_{MnJ}^{AbE}\\langle IJ|ME\\rangle+t_{MjN}^{AeB}\\langle Ij|Me\\rangle-t_{NmJ}^{AbE}\\langle IJ|ME\\rangle+t_{MnJ}^{AbE}\\langle IJ|ME\\rangle-t_{MjN}^{AbE}\\langle IJ|ME\\rangle+t_{NmJ}^{AbE}\\langle IJ|EM\\rangle-t_{MnJ}^{AbE}\\langle IJ|EM\\rangle+t_{MjN}^{AbE}\\langle IJ|EM\\rangle+t_{MnJ}^{AeB}\\langle Ij|Em\\rangle+t_{MnJ}^{AbE}\\langle IJ|EM\\rangle-t_{MnJ}^{BaE}\\langle IJ|EM\\rangle+t_{MnJ}^{BaE}\\langle IJ|EM\\rangle+t_{MnJ}^{AbE}\\langle IJ|EM\\rangle+t_{MnJ}^{AeB}\\langle iJ|eM\\rangle-t_{NmJ}^{AbE}\\langle IJ|EM\\rangle+t_{MnJ}^{AbE}\\langle IJ|EM\\rangle-t_{MjN}^{AbE}\\langle IJ|EM\\rangle$"
      ],
      "text/plain": [
       "<IPython.core.display.Math object>"
      ]
     },
     "metadata": {},
     "output_type": "display_data"
    }
   ],
   "source": [
    "platex((T3*A).adapt())"
   ]
  },
  {
   "cell_type": "code",
   "execution_count": null,
   "metadata": {},
   "outputs": [],
   "source": []
  }
 ],
 "metadata": {
  "kernelspec": {
   "display_name": "Python 3",
   "language": "python",
   "name": "python3"
  },
  "language_info": {
   "codemirror_mode": {
    "name": "ipython",
    "version": 3
   },
   "file_extension": ".py",
   "mimetype": "text/x-python",
   "name": "python",
   "nbconvert_exporter": "python",
   "pygments_lexer": "ipython3",
   "version": "3.6.8"
  }
 },
 "nbformat": 4,
 "nbformat_minor": 2
}
