{
 "cells": [
  {
   "cell_type": "code",
   "execution_count": 1,
   "metadata": {},
   "outputs": [],
   "source": [
    "from tchau_spin import *\n",
    "import numpy as np\n",
    "import copy"
   ]
  },
  {
   "cell_type": "code",
   "execution_count": 2,
   "metadata": {},
   "outputs": [],
   "source": [
    "eqT2 = read_equation('example_input.dat')"
   ]
  },
  {
   "cell_type": "code",
   "execution_count": 12,
   "metadata": {},
   "outputs": [
    {
     "data": {
      "text/latex": [
       "$\\displaystyle +\\langle Ab|Ij\\rangle+t_{Ij}^{Cd}\\langle Ab|Cd\\rangle+t_{Kl}^{Ab}\\langle Ij|Kl\\rangle-t_{Ik}^{Ac}\\langle BK|CJ\\rangle+t_{Ik}^{Ac}\\langle BK|JC\\rangle-t_{Ki}^{Ac}\\langle bK|jC\\rangle+t_{Ik}^{Ac}\\langle bK|jC\\rangle+t_{Kj}^{Ac}\\langle bK|cI\\rangle+t_{Ik}^{Cb}\\langle Ak|Cj\\rangle+t_{Kj}^{Cb}\\langle AK|CI\\rangle+t_{Kj}^{Bc}\\langle Ak|Ic\\rangle-t_{Jk}^{Bc}\\langle Ak|Ic\\rangle-t_{Kj}^{Cb}\\langle AK|IC\\rangle-f_{JK}t_{Ik}^{Ab}-f_{IK}t_{Kj}^{Ab}+f_{BC}t_{Ij}^{Ac}+f_{AC}t_{Ij}^{Cb}+t_{Ij}^{Dc}t_{Lk}^{Ab}\\langle kL|cD\\rangle+t_{Ij}^{Ac}t_{Lk}^{Bd}\\langle KL|CD\\rangle-t_{Ij}^{Ac}t_{Kl}^{Bd}\\langle KL|CD\\rangle-t_{Ij}^{Ac}t_{Lk}^{Db}\\langle kL|cD\\rangle-2.0t_{Ij}^{Db}t_{Lk}^{Ac}\\langle kL|cD\\rangle+t_{Ij}^{Db}t_{Kl}^{Ac}\\langle KL|CD\\rangle+0.5t_{Ik}^{Ab}t_{Lj}^{Cd}\\langle KL|CD\\rangle-0.5t_{Ik}^{Ab}t_{Jl}^{Cd}\\langle KL|CD\\rangle-1.5t_{Ik}^{Ab}t_{Lj}^{Dc}\\langle kL|cD\\rangle+0.5t_{Ik}^{Ab}t_{Jl}^{Cd}\\langle KL|DC\\rangle-3.0t_{Ik}^{Dc}t_{Lj}^{Ab}\\langle kL|cD\\rangle-t_{Ki}^{Cd}t_{Lj}^{Ab}\\langle KL|CD\\rangle+t_{Ik}^{Cd}t_{Lj}^{Ab}\\langle KL|CD\\rangle+t_{Ki}^{Cd}t_{Lj}^{Ab}\\langle KL|DC\\rangle-2.0t_{Ik}^{Ac}t_{Lj}^{Bd}\\langle KL|CD\\rangle+2.0t_{Ik}^{Ac}t_{Jl}^{Bd}\\langle KL|CD\\rangle+2.0t_{Ik}^{Ac}t_{Lj}^{Db}\\langle kL|cD\\rangle+t_{Ki}^{Ac}t_{Lj}^{Bd}\\langle Kl|Cd\\rangle-t_{Ki}^{Ac}t_{Jl}^{Bd}\\langle Kl|Cd\\rangle-t_{Ki}^{Ac}t_{Lj}^{Db}\\langle KL|CD\\rangle+t_{Ik}^{Ac}t_{Lj}^{Bd}\\langle KL|DC\\rangle-t_{Ik}^{Ac}t_{Jl}^{Bd}\\langle KL|DC\\rangle+t_{Ki}^{Ac}t_{Lj}^{Db}\\langle KL|DC\\rangle-t_{Ik}^{Ac}t_{Lj}^{Db}\\langle KL|DC\\rangle+t_{Ik}^{Db}t_{Lj}^{Ac}\\langle kL|cD\\rangle$"
      ],
      "text/plain": [
       "<IPython.core.display.Math object>"
      ]
     },
     "metadata": {},
     "output_type": "display_data"
    }
   ],
   "source": [
    "Tensor.rhf = True\n",
    "eqT2 = eqT2.simplify()\n",
    "platex(eqT2)"
   ]
  },
  {
   "cell_type": "code",
   "execution_count": 4,
   "metadata": {},
   "outputs": [],
   "source": [
    "i,j,a,b = Index.new('ijab', 'abab', 'hhpp')"
   ]
  },
  {
   "cell_type": "code",
   "execution_count": 5,
   "metadata": {},
   "outputs": [],
   "source": [
    "X = process_eq(eqT2, i,j,a,b, name='T2eq')"
   ]
  },
  {
   "cell_type": "code",
   "execution_count": 6,
   "metadata": {},
   "outputs": [
    {
     "name": "stdout",
     "output_type": "stream",
     "text": [
      "T2eq += 1*V_VvOo\n",
      "T2eq += -1*V_VvoO\n",
      "T2eq += 0.5*np.einsum('ijcd, abcd -> ijab', T_OoVv, V_VvVv, optimize = 'optimal')\n",
      "T2eq += -0.5*np.einsum('ijcd, abdc -> ijab', T_OovV, V_VvVv, optimize = 'optimal')\n",
      "T2eq += 0.5*np.einsum('klab, ijkl -> ijab', T_OoVv, V_OoOo, optimize = 'optimal')\n",
      "T2eq += -0.5*np.einsum('klab, ijlk -> ijab', T_oOVv, V_OoOo, optimize = 'optimal')\n",
      "T2eq += -1*np.einsum('ikac, bkcj -> ijab', T_OoVv, V_vovo, optimize = 'optimal')\n",
      "T2eq += 1*np.einsum('ikac, bkjc -> ijab', T_OoVv, V_voov, optimize = 'optimal')\n",
      "T2eq += 1*np.einsum('ikac, bkjc -> ijab', T_OOVV, V_vOoV, optimize = 'optimal')\n",
      "T2eq += -1*np.einsum('jkac, bkci -> ijab', T_oOVv, V_vOvO, optimize = 'optimal')\n",
      "T2eq += -1*np.einsum('ikbc, akcj -> ijab', T_OovV, V_VoVo, optimize = 'optimal')\n",
      "T2eq += 1*np.einsum('jkbc, akci -> ijab', T_oOvV, V_VOVO, optimize = 'optimal')\n",
      "T2eq += -1*np.einsum('jkbc, akic -> ijab', T_oovv, V_VoOv, optimize = 'optimal')\n",
      "T2eq += -1*np.einsum('jkbc, akic -> ijab', T_oOvV, V_VOOV, optimize = 'optimal')\n",
      "T2eq += -1*np.einsum('jk, ikab -> ijab', f_oo, T_OoVv, optimize = 'optimal')\n",
      "T2eq += 1*np.einsum('ik, jkab -> ijab', f_OO, T_oOVv, optimize = 'optimal')\n",
      "T2eq += 1*np.einsum('bc, ijac -> ijab', f_vv, T_OoVv, optimize = 'optimal')\n",
      "T2eq += -1*np.einsum('ac, ijbc -> ijab', f_VV, T_OovV, optimize = 'optimal')\n",
      "T2eq += 0.25*np.einsum('ijcd, klab, klcd -> ijab', T_OovV, T_oOVv, V_oOvV, optimize = 'optimal')\n",
      "T2eq += 0.25*np.einsum('ijcd, klab, klcd -> ijab', T_OoVv, T_OoVv, V_OoVv, optimize = 'optimal')\n",
      "T2eq += -0.25*np.einsum('ijcd, klab, kldc -> ijab', T_OovV, T_OoVv, V_OoVv, optimize = 'optimal')\n",
      "T2eq += -0.25*np.einsum('ijcd, klab, kldc -> ijab', T_OoVv, T_oOVv, V_oOvV, optimize = 'optimal')\n",
      "T2eq += -0.5*np.einsum('ijac, klbd, klcd -> ijab', T_OoVv, T_oovv, V_oovv, optimize = 'optimal')\n",
      "T2eq += -0.5*np.einsum('ijac, klbd, klcd -> ijab', T_OoVv, T_oOvV, V_oOvV, optimize = 'optimal')\n",
      "T2eq += 0.5*np.einsum('ijac, klbd, kldc -> ijab', T_OoVv, T_oovv, V_oovv, optimize = 'optimal')\n",
      "T2eq += 0.5*np.einsum('ijac, klbd, kldc -> ijab', T_OoVv, T_OovV, V_OoVv, optimize = 'optimal')\n",
      "T2eq += -0.5*np.einsum('ijbd, klac, klcd -> ijab', T_OovV, T_oOVv, V_oOvV, optimize = 'optimal')\n",
      "T2eq += -0.5*np.einsum('ijbd, klac, klcd -> ijab', T_OovV, T_OOVV, V_OOVV, optimize = 'optimal')\n",
      "T2eq += 0.5*np.einsum('ijbd, klac, kldc -> ijab', T_OovV, T_OoVv, V_OoVv, optimize = 'optimal')\n",
      "T2eq += 0.5*np.einsum('ijbd, klac, kldc -> ijab', T_OovV, T_OOVV, V_OOVV, optimize = 'optimal')\n",
      "T2eq += -0.5*np.einsum('ikab, jlcd, klcd -> ijab', T_OoVv, T_oovv, V_oovv, optimize = 'optimal')\n",
      "T2eq += -0.5*np.einsum('ikab, jlcd, klcd -> ijab', T_OoVv, T_oOvV, V_oOvV, optimize = 'optimal')\n",
      "T2eq += 0.5*np.einsum('ikab, jlcd, kldc -> ijab', T_OoVv, T_oovv, V_oovv, optimize = 'optimal')\n",
      "T2eq += 0.5*np.einsum('ikab, jlcd, kldc -> ijab', T_OoVv, T_oOVv, V_oOvV, optimize = 'optimal')\n",
      "T2eq += -1*np.einsum('ikcd, jlab, klcd -> ijab', T_OovV, T_oOVv, V_oOvV, optimize = 'optimal')\n",
      "T2eq += -1*np.einsum('ikcd, jlab, klcd -> ijab', T_OOVV, T_oOVv, V_OOVV, optimize = 'optimal')\n",
      "T2eq += 1*np.einsum('ikcd, jlab, kldc -> ijab', T_OoVv, T_oOVv, V_oOvV, optimize = 'optimal')\n",
      "T2eq += 1*np.einsum('ikcd, jlab, kldc -> ijab', T_OOVV, T_oOVv, V_OOVV, optimize = 'optimal')\n",
      "T2eq += 1*np.einsum('ikac, jlbd, klcd -> ijab', T_OoVv, T_oovv, V_oovv, optimize = 'optimal')\n",
      "T2eq += 1*np.einsum('ikac, jlbd, klcd -> ijab', T_OoVv, T_oOvV, V_oOvV, optimize = 'optimal')\n",
      "T2eq += 1*np.einsum('ikac, jlbd, klcd -> ijab', T_OOVV, T_oovv, V_OoVv, optimize = 'optimal')\n",
      "T2eq += 1*np.einsum('ikac, jlbd, klcd -> ijab', T_OOVV, T_oOvV, V_OOVV, optimize = 'optimal')\n",
      "T2eq += -1*np.einsum('ikac, jlbd, kldc -> ijab', T_OoVv, T_oovv, V_oovv, optimize = 'optimal')\n",
      "T2eq += -1*np.einsum('ikac, jlbd, kldc -> ijab', T_OOVV, T_oOvV, V_OOVV, optimize = 'optimal')\n",
      "T2eq += 1*np.einsum('ikbd, jlac, klcd -> ijab', T_OovV, T_oOVv, V_oOvV, optimize = 'optimal')\n",
      "\n"
     ]
    }
   ],
   "source": [
    "X.write_einsums_out('testout.dat', print_out=True)"
   ]
  },
  {
   "cell_type": "code",
   "execution_count": 7,
   "metadata": {},
   "outputs": [],
   "source": [
    "C = eqT2.terms[2]"
   ]
  },
  {
   "cell_type": "code",
   "execution_count": 8,
   "metadata": {},
   "outputs": [
    {
     "data": {
      "text/plain": [
       "True"
      ]
     },
     "execution_count": 8,
     "metadata": {},
     "output_type": "execute_result"
    }
   ],
   "source": [
    "C.contracting[0].idx[0].hole"
   ]
  },
  {
   "cell_type": "code",
   "execution_count": 9,
   "metadata": {},
   "outputs": [
    {
     "data": {
      "text/latex": [
       "$\\displaystyle t_{Ij}^{Cd}$"
      ],
      "text/plain": [
       "<IPython.core.display.Math object>"
      ]
     },
     "metadata": {},
     "output_type": "display_data"
    }
   ],
   "source": [
    "platex(C.contracting[0])"
   ]
  },
  {
   "cell_type": "code",
   "execution_count": 13,
   "metadata": {},
   "outputs": [],
   "source": [
    "V = ERI(i,j,a,b)"
   ]
  },
  {
   "cell_type": "code",
   "execution_count": 14,
   "metadata": {},
   "outputs": [
    {
     "data": {
      "text/latex": [
       "$\\displaystyle \\langle Ij|Ab\\rangle$"
      ],
      "text/plain": [
       "<IPython.core.display.Math object>"
      ]
     },
     "metadata": {},
     "output_type": "display_data"
    }
   ],
   "source": [
    "platex(V)"
   ]
  },
  {
   "cell_type": "code",
   "execution_count": 17,
   "metadata": {},
   "outputs": [
    {
     "data": {
      "text/plain": [
       "['p', 'p', 'h']"
      ]
     },
     "execution_count": 17,
     "metadata": {},
     "output_type": "execute_result"
    }
   ],
   "source": [
    "[('h' if x > 1 else 'p') for x in range(3)]"
   ]
  },
  {
   "cell_type": "code",
   "execution_count": 21,
   "metadata": {},
   "outputs": [],
   "source": [
    "a = int('111000'[::-1],2)"
   ]
  },
  {
   "cell_type": "code",
   "execution_count": 23,
   "metadata": {},
   "outputs": [
    {
     "data": {
      "text/plain": [
       "'111'"
      ]
     },
     "execution_count": 23,
     "metadata": {},
     "output_type": "execute_result"
    }
   ],
   "source": [
    "np.binary_repr(a)"
   ]
  },
  {
   "cell_type": "code",
   "execution_count": null,
   "metadata": {},
   "outputs": [],
   "source": []
  }
 ],
 "metadata": {
  "kernelspec": {
   "display_name": "Python 3",
   "language": "python",
   "name": "python3"
  },
  "language_info": {
   "codemirror_mode": {
    "name": "ipython",
    "version": 3
   },
   "file_extension": ".py",
   "mimetype": "text/x-python",
   "name": "python",
   "nbconvert_exporter": "python",
   "pygments_lexer": "ipython3",
   "version": "3.6.8"
  }
 },
 "nbformat": 4,
 "nbformat_minor": 2
}
