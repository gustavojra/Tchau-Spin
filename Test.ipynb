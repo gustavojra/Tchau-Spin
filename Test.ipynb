{
 "cells": [
  {
   "cell_type": "code",
   "execution_count": 1,
   "metadata": {},
   "outputs": [],
   "source": [
    "from tchau_spin import *\n",
    "import numpy as np"
   ]
  },
  {
   "cell_type": "code",
   "execution_count": 2,
   "metadata": {},
   "outputs": [
    {
     "name": "stdout",
     "output_type": "stream",
     "text": [
      "~m\n"
     ]
    }
   ],
   "source": [
    "m = Index('m', spin='any')\n",
    "print(m)"
   ]
  },
  {
   "cell_type": "code",
   "execution_count": 3,
   "metadata": {},
   "outputs": [
    {
     "name": "stdout",
     "output_type": "stream",
     "text": [
      "~n\n"
     ]
    }
   ],
   "source": [
    "n = Index('n', spin='any')\n",
    "print(n)"
   ]
  },
  {
   "cell_type": "code",
   "execution_count": 4,
   "metadata": {},
   "outputs": [
    {
     "name": "stdout",
     "output_type": "stream",
     "text": [
      "+f(~m,~n)\n"
     ]
    }
   ],
   "source": [
    "fmn = fock(m,n)\n",
    "print(fmn)"
   ]
  },
  {
   "cell_type": "code",
   "execution_count": 5,
   "metadata": {},
   "outputs": [
    {
     "name": "stdout",
     "output_type": "stream",
     "text": [
      "+f(m,n)   +f(M,N)   \n"
     ]
    }
   ],
   "source": [
    "out = fmn.expand()\n",
    "print(out)"
   ]
  },
  {
   "cell_type": "code",
   "execution_count": 6,
   "metadata": {
    "scrolled": true
   },
   "outputs": [
    {
     "name": "stdout",
     "output_type": "stream",
     "text": [
      "+f(m,n)   +f(M,N)   \n"
     ]
    }
   ],
   "source": [
    "print(out + collection())"
   ]
  },
  {
   "cell_type": "code",
   "execution_count": 32,
   "metadata": {},
   "outputs": [
    {
     "name": "stdout",
     "output_type": "stream",
     "text": [
      "+<~p~q|~r~s>\n",
      "+T2(~m~n->~p~q)\n",
      "1*T2(mn->pq)*<pq|rs>   1*T2(mN->pQ)*<pQ|rS>   1*T2(mN->Pq)*<Pq|Rs>   1*T2(Mn->pQ)*<pQ|rS>   1*T2(Mn->Pq)*<Pq|Rs>   1*T2(MN->PQ)*<PQ|RS>   \n"
     ]
    }
   ],
   "source": [
    "p,q,r,s = Index('p', spin='any'), Index('q', spin='any'), Index('r', spin='any'), Index('s', spin='any')\n",
    "V = ERI(p,q,r,s)\n",
    "T2 = Amplitude(m,n,p,q)\n",
    "print(V)\n",
    "print(T2)\n",
    "print(T2*V)"
   ]
  },
  {
   "cell_type": "code",
   "execution_count": 30,
   "metadata": {},
   "outputs": [
    {
     "name": "stdout",
     "output_type": "stream",
     "text": [
      "+<~p~q|~r~s>\n",
      "+T2(M~n->~p~q)\n",
      "1*<pQ|rS>*T2(Mn->pQ)   1*<Pq|Rs>*T2(Mn->Pq)   1*<PQ|RS>*T2(MN->PQ)   \n"
     ]
    }
   ],
   "source": [
    "print(V)\n",
    "print(T2)\n",
    "print((V*T2))"
   ]
  },
  {
   "cell_type": "code",
   "execution_count": null,
   "metadata": {},
   "outputs": [],
   "source": []
  }
 ],
 "metadata": {
  "kernelspec": {
   "display_name": "Python 3",
   "language": "python",
   "name": "python3"
  },
  "language_info": {
   "codemirror_mode": {
    "name": "ipython",
    "version": 3
   },
   "file_extension": ".py",
   "mimetype": "text/x-python",
   "name": "python",
   "nbconvert_exporter": "python",
   "pygments_lexer": "ipython3",
   "version": "3.6.8"
  }
 },
 "nbformat": 4,
 "nbformat_minor": 2
}
