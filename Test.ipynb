{
 "cells": [
  {
   "cell_type": "code",
   "execution_count": 1,
   "metadata": {},
   "outputs": [],
   "source": [
    "from tchau_spin import *\n",
    "import numpy as np\n",
    "import copy"
   ]
  },
  {
   "cell_type": "code",
   "execution_count": 2,
   "metadata": {},
   "outputs": [
    {
     "name": "stdout",
     "output_type": "stream",
     "text": [
      "['~i', '~j', '~a', '~b']\n"
     ]
    }
   ],
   "source": [
    "# Define indexes. General\n",
    "i,j,a,b = Index('i'), Index('j'), Index('a'), Index('b')\n",
    "print([str(x) for x in (i,j,a,b)])"
   ]
  },
  {
   "cell_type": "code",
   "execution_count": 3,
   "metadata": {},
   "outputs": [
    {
     "name": "stdout",
     "output_type": "stream",
     "text": [
      "+f(~i,~a)\n",
      "+T2(~i~j->~a~b)\n",
      "+<~i~j|~a~b>   -<~i~j|~b~a>   \n"
     ]
    }
   ],
   "source": [
    "# Energy\n",
    "f = Fock(i,a, rhf=True)\n",
    "print(f)\n",
    "T2 = Amplitude(i,j,a,b, rhf=True)\n",
    "print(T2)\n",
    "A = ERI.Antisymmetric(i,j,a,b, rhf=True)\n",
    "print(A)"
   ]
  },
  {
   "cell_type": "code",
   "execution_count": 4,
   "metadata": {},
   "outputs": [
    {
     "name": "stdout",
     "output_type": "stream",
     "text": [
      "1*T2(ij->ab)*<ij|ab>   1*T2(iJ->aB)*<iJ|aB>   1*T2(Ij->Ab)*<Ij|Ab>   1*T2(IJ->AB)*<IJ|AB>   -1*T2(ij->ab)*<ij|ba>   -1*T2(iJ->Ab)*<iJ|bA>   -1*T2(Ij->aB)*<Ij|Ba>   -1*T2(IJ->AB)*<IJ|BA>   \n"
     ]
    }
   ],
   "source": [
    "# First energy term\n",
    "E_CCD = T2*A\n",
    "print(E_CCD)"
   ]
  },
  {
   "cell_type": "code",
   "execution_count": 14,
   "metadata": {},
   "outputs": [
    {
     "name": "stdout",
     "output_type": "stream",
     "text": [
      "-1*T2(Ji->Ab)*<IJ|AB>   1*T2(Ij->Ab)*<IJ|AB>   1*T2(Ji->Ba)*<iJ|aB>   1*T2(Ij->Ab)*<Ij|Ab>   -1*T2(Ji->Ab)*<IJ|AB>   1*T2(Ij->Ab)*<IJ|AB>   1*T2(Ji->Ab)*<IJ|BA>   -1*T2(Ij->Ab)*<IJ|BA>   1*T2(Ji->Ab)*<iJ|bA>   1*T2(Ij->Ba)*<Ij|Ba>   1*T2(Ji->Ab)*<IJ|BA>   -1*T2(Ij->Ab)*<IJ|BA>   \n"
     ]
    }
   ],
   "source": [
    "E_CCD = E_CCD.adapt()\n",
    "print(E_CCD)"
   ]
  },
  {
   "cell_type": "code",
   "execution_count": null,
   "metadata": {},
   "outputs": [],
   "source": []
  }
 ],
 "metadata": {
  "kernelspec": {
   "display_name": "Python 3",
   "language": "python",
   "name": "python3"
  },
  "language_info": {
   "codemirror_mode": {
    "name": "ipython",
    "version": 3
   },
   "file_extension": ".py",
   "mimetype": "text/x-python",
   "name": "python",
   "nbconvert_exporter": "python",
   "pygments_lexer": "ipython3",
   "version": "3.6.8"
  }
 },
 "nbformat": 4,
 "nbformat_minor": 2
}
