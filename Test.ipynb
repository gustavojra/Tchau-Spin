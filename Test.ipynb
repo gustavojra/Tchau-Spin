{
 "cells": [
  {
   "cell_type": "code",
   "execution_count": 1,
   "metadata": {},
   "outputs": [],
   "source": [
    "from tchau_spin import *\n",
    "import numpy as np\n",
    "import copy\n",
    "Tensor.rhf = True"
   ]
  },
  {
   "cell_type": "code",
   "execution_count": 2,
   "metadata": {},
   "outputs": [],
   "source": [
    "mylabels = {'T_OoVv':'self.T2',\n",
    "            'V_OOOO': 'self.Voooo',\n",
    "            'V_OOOV': 'self.Vooov',\n",
    "            'V_OOVV': 'self.Voovv',\n",
    "            'V_OVOV': 'self.Vovov',\n",
    "            'V_OVVV': 'self.Vovvv',\n",
    "            'V_VVVV': 'self.Vvvvv',\n",
    "            'f_OO'  : 'self.fock_OO',\n",
    "            'f_VV'  : 'self.fock_VV',\n",
    "            'f_OV'  : 'self.fock_OV'\n",
    "           }"
   ]
  },
  {
   "cell_type": "code",
   "execution_count": 3,
   "metadata": {},
   "outputs": [
    {
     "data": {
      "text/latex": [
       "$\\displaystyle -t_{Ji}^{Ab}\\langle IJ|AB\\rangle+2.0t_{Ij}^{Ab}\\langle IJ|AB\\rangle$"
      ],
      "text/plain": [
       "<IPython.core.display.Math object>"
      ]
     },
     "metadata": {},
     "output_type": "display_data"
    }
   ],
   "source": [
    "i,j,a,b = Index.new('ijab','xxxx','hhpp')\n",
    "E = (1/4)*Amplitude(i,j,a,b)*ERI.Antisymmetric(i,j,a,b)\n",
    "E = E.simplify()\n",
    "platex(E)"
   ]
  },
  {
   "cell_type": "code",
   "execution_count": 4,
   "metadata": {},
   "outputs": [
    {
     "name": "stdout",
     "output_type": "stream",
     "text": [
      "self.Ecc -= np.einsum('jiab, ijab -> ', self.T2, self.Voovv, optimize = 'optimal')\n",
      "self.Ecc += 2.0*np.einsum('ijab, ijab -> ', self.T2, self.Voovv, optimize = 'optimal')\n",
      "\n"
     ]
    }
   ],
   "source": [
    "energy = process_eq(E, name = 'self.Ecc', tensor_labels=mylabels)\n",
    "energy.write_einsums_out('energyout.dat', print_out=True)"
   ]
  },
  {
   "cell_type": "code",
   "execution_count": 5,
   "metadata": {},
   "outputs": [
    {
     "data": {
      "text/latex": [
       "$\\displaystyle +\\langle Ab|Ij\\rangle-\\langle Ab|jI\\rangle-t_{Ik}^{Ac}\\langle bk|cj\\rangle+t_{Ik}^{Ac}\\langle bk|jc\\rangle+t_{IK}^{AC}\\langle bK|jC\\rangle-f_{jk}t_{Ik}^{Ab}+0.25t_{Ij}^{cD}t_{kL}^{Ab}\\langle kL|cD\\rangle+0.25t_{Ij}^{Cd}t_{Kl}^{Ab}\\langle Kl|Cd\\rangle-0.25t_{Ij}^{cD}t_{Kl}^{Ab}\\langle Kl|Dc\\rangle-0.25t_{Ij}^{Cd}t_{kL}^{Ab}\\langle kL|dC\\rangle-0.5t_{Ij}^{Ac}t_{kl}^{bd}\\langle kl|cd\\rangle-0.5t_{Ij}^{Ac}t_{kL}^{bD}\\langle kL|cD\\rangle+0.5t_{Ij}^{Ac}t_{kl}^{bd}\\langle kl|dc\\rangle+0.5t_{Ij}^{Ac}t_{Kl}^{bD}\\langle Kl|Dc\\rangle-0.5t_{Ij}^{bD}t_{kL}^{Ac}\\langle kL|cD\\rangle-0.5t_{Ij}^{bD}t_{KL}^{AC}\\langle KL|CD\\rangle+0.5t_{Ij}^{bD}t_{Kl}^{Ac}\\langle Kl|Dc\\rangle+0.5t_{Ij}^{bD}t_{KL}^{AC}\\langle KL|DC\\rangle-0.5t_{Ik}^{Ab}t_{jl}^{cd}\\langle kl|cd\\rangle-0.5t_{Ik}^{Ab}t_{jL}^{cD}\\langle kL|cD\\rangle+0.5t_{Ik}^{Ab}t_{jl}^{cd}\\langle kl|dc\\rangle+0.5t_{Ik}^{Ab}t_{jL}^{Cd}\\langle kL|dC\\rangle-0.5t_{Ik}^{cD}t_{jL}^{Ab}\\langle kL|cD\\rangle-0.5t_{IK}^{CD}t_{jL}^{Ab}\\langle KL|CD\\rangle+0.5t_{Ik}^{Cd}t_{jL}^{Ab}\\langle kL|dC\\rangle+0.5t_{IK}^{CD}t_{jL}^{Ab}\\langle KL|DC\\rangle+t_{Ik}^{Ac}t_{jl}^{bd}\\langle kl|cd\\rangle+t_{Ik}^{Ac}t_{jL}^{bD}\\langle kL|cD\\rangle+t_{IK}^{AC}t_{jl}^{bd}\\langle Kl|Cd\\rangle+t_{IK}^{AC}t_{jL}^{bD}\\langle KL|CD\\rangle-t_{Ik}^{Ac}t_{jl}^{bd}\\langle kl|dc\\rangle-t_{IK}^{AC}t_{jL}^{bD}\\langle KL|DC\\rangle+t_{Ik}^{bD}t_{jL}^{Ac}\\langle kL|cD\\rangle$"
      ],
      "text/plain": [
       "<IPython.core.display.Math object>"
      ]
     },
     "metadata": {},
     "output_type": "display_data"
    }
   ],
   "source": [
    "eqT2 = read_equation('example_input.dat')\n",
    "platex(eqT2)"
   ]
  },
  {
   "cell_type": "code",
   "execution_count": 6,
   "metadata": {},
   "outputs": [],
   "source": [
    "eqT2 = eqT2.simplify()\n",
    "eqT2 = eqT2.adapt_space()"
   ]
  },
  {
   "cell_type": "code",
   "execution_count": 7,
   "metadata": {},
   "outputs": [],
   "source": [
    "i,j,a,b = Index.new('ijab', 'abab', 'hhpp')\n",
    "out = process_eq(eqT2, i,j,a,b, name = 'newT2', tensor_labels=mylabels)"
   ]
  },
  {
   "cell_type": "code",
   "execution_count": 8,
   "metadata": {},
   "outputs": [
    {
     "name": "stdout",
     "output_type": "stream",
     "text": [
      "newT2 += self.Voovv\n",
      "newT2 -= np.einsum('ikac, kbjc -> ijab', self.T2, self.Vovov, optimize = 'optimal')\n",
      "newT2 += 2.0*np.einsum('ikac, jkbc -> ijab', self.T2, self.Voovv, optimize = 'optimal')\n",
      "newT2 -= np.einsum('kiac, jkbc -> ijab', self.T2, self.Voovv, optimize = 'optimal')\n",
      "newT2 -= np.einsum('jk, ikab -> ijab', self.fock_OO, self.T2, optimize = 'optimal')\n",
      "newT2 += np.einsum('lkab, ijdc, klcd -> ijab', self.T2, self.T2, self.Voovv, optimize = 'optimal')\n",
      "newT2 += np.einsum('lkbd, ijac, klcd -> ijab', self.T2, self.T2, self.Voovv, optimize = 'optimal')\n",
      "newT2 -= np.einsum('klbd, ijac, klcd -> ijab', self.T2, self.T2, self.Voovv, optimize = 'optimal')\n",
      "newT2 -= np.einsum('lkdb, ijac, klcd -> ijab', self.T2, self.T2, self.Voovv, optimize = 'optimal')\n",
      "newT2 += -2.0*np.einsum('lkac, ijdb, klcd -> ijab', self.T2, self.T2, self.Voovv, optimize = 'optimal')\n",
      "newT2 += np.einsum('klac, ijdb, klcd -> ijab', self.T2, self.T2, self.Voovv, optimize = 'optimal')\n",
      "newT2 += 0.5*np.einsum('ljcd, ikab, klcd -> ijab', self.T2, self.T2, self.Voovv, optimize = 'optimal')\n",
      "newT2 += -0.5*np.einsum('jlcd, ikab, klcd -> ijab', self.T2, self.T2, self.Voovv, optimize = 'optimal')\n",
      "newT2 += -1.5*np.einsum('ljdc, ikab, klcd -> ijab', self.T2, self.T2, self.Voovv, optimize = 'optimal')\n",
      "newT2 += 0.5*np.einsum('jlcd, ikab, kldc -> ijab', self.T2, self.T2, self.Voovv, optimize = 'optimal')\n",
      "newT2 += -1.5*np.einsum('ljab, ikdc, klcd -> ijab', self.T2, self.T2, self.Voovv, optimize = 'optimal')\n",
      "newT2 += -0.5*np.einsum('ljab, kicd, klcd -> ijab', self.T2, self.T2, self.Voovv, optimize = 'optimal')\n",
      "newT2 += 0.5*np.einsum('ljab, ikcd, klcd -> ijab', self.T2, self.T2, self.Voovv, optimize = 'optimal')\n",
      "newT2 += 0.5*np.einsum('ljab, kicd, kldc -> ijab', self.T2, self.T2, self.Voovv, optimize = 'optimal')\n",
      "newT2 += -2.0*np.einsum('ljbd, ikac, klcd -> ijab', self.T2, self.T2, self.Voovv, optimize = 'optimal')\n",
      "newT2 += 2.0*np.einsum('jlbd, ikac, klcd -> ijab', self.T2, self.T2, self.Voovv, optimize = 'optimal')\n",
      "newT2 += 2.0*np.einsum('ljdb, ikac, klcd -> ijab', self.T2, self.T2, self.Voovv, optimize = 'optimal')\n",
      "newT2 += np.einsum('ljbd, kiac, klcd -> ijab', self.T2, self.T2, self.Voovv, optimize = 'optimal')\n",
      "newT2 -= np.einsum('jlbd, kiac, klcd -> ijab', self.T2, self.T2, self.Voovv, optimize = 'optimal')\n",
      "newT2 -= np.einsum('ljdb, kiac, klcd -> ijab', self.T2, self.T2, self.Voovv, optimize = 'optimal')\n",
      "newT2 += np.einsum('ljbd, ikac, kldc -> ijab', self.T2, self.T2, self.Voovv, optimize = 'optimal')\n",
      "newT2 -= np.einsum('jlbd, ikac, kldc -> ijab', self.T2, self.T2, self.Voovv, optimize = 'optimal')\n",
      "newT2 += np.einsum('ljdb, kiac, kldc -> ijab', self.T2, self.T2, self.Voovv, optimize = 'optimal')\n",
      "newT2 -= np.einsum('ljdb, ikac, kldc -> ijab', self.T2, self.T2, self.Voovv, optimize = 'optimal')\n",
      "newT2 += np.einsum('ljac, ikdb, klcd -> ijab', self.T2, self.T2, self.Voovv, optimize = 'optimal')\n",
      "\n"
     ]
    }
   ],
   "source": [
    "out.write_einsums_out(print_out=True)"
   ]
  }
 ],
 "metadata": {
  "kernelspec": {
   "display_name": "Python 3",
   "language": "python",
   "name": "python3"
  },
  "language_info": {
   "codemirror_mode": {
    "name": "ipython",
    "version": 3
   },
   "file_extension": ".py",
   "mimetype": "text/x-python",
   "name": "python",
   "nbconvert_exporter": "python",
   "pygments_lexer": "ipython3",
   "version": "3.6.9"
  }
 },
 "nbformat": 4,
 "nbformat_minor": 2
}
