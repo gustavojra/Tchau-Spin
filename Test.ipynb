{
 "cells": [
  {
   "cell_type": "code",
   "execution_count": 1,
   "metadata": {},
   "outputs": [],
   "source": [
    "from tchau_spin import *\n",
    "import numpy as np\n",
    "import copy"
   ]
  },
  {
   "cell_type": "code",
   "execution_count": 2,
   "metadata": {},
   "outputs": [],
   "source": [
    "eqT2 = read_equation('example_input.dat')"
   ]
  },
  {
   "cell_type": "code",
   "execution_count": 3,
   "metadata": {},
   "outputs": [
    {
     "data": {
      "text/latex": [
       "$\\displaystyle +\\langle Ab|Ij\\rangle-\\langle Ab|jI\\rangle+0.5t_{Ij}^{Cd}\\langle Ab|Cd\\rangle-0.5t_{Ij}^{cD}\\langle Ab|Dc\\rangle+0.5t_{Kl}^{Ab}\\langle Ij|Kl\\rangle-0.5t_{kL}^{Ab}\\langle Ij|Lk\\rangle-t_{Ik}^{Ac}\\langle bk|cj\\rangle+t_{Ik}^{Ac}\\langle bk|jc\\rangle+t_{IK}^{AC}\\langle bK|jC\\rangle-t_{jK}^{Ac}\\langle bK|cI\\rangle-t_{Ik}^{bC}\\langle Ak|Cj\\rangle+t_{jK}^{bC}\\langle AK|CI\\rangle-t_{jk}^{bc}\\langle Ak|Ic\\rangle-t_{jK}^{bC}\\langle AK|IC\\rangle-f_{jk}t_{Ik}^{Ab}+f_{IK}t_{jK}^{Ab}+f_{bc}t_{Ij}^{Ac}-f_{AC}t_{Ij}^{bC}+0.25t_{Ij}^{cD}t_{kL}^{Ab}\\langle kL|cD\\rangle+0.25t_{Ij}^{Cd}t_{Kl}^{Ab}\\langle Kl|Cd\\rangle-0.25t_{Ij}^{cD}t_{Kl}^{Ab}\\langle Kl|Dc\\rangle-0.25t_{Ij}^{Cd}t_{kL}^{Ab}\\langle kL|dC\\rangle-0.5t_{Ij}^{Ac}t_{kl}^{bd}\\langle kl|cd\\rangle-0.5t_{Ij}^{Ac}t_{kL}^{bD}\\langle kL|cD\\rangle+0.5t_{Ij}^{Ac}t_{kl}^{bd}\\langle kl|dc\\rangle+0.5t_{Ij}^{Ac}t_{Kl}^{bD}\\langle Kl|Dc\\rangle-0.5t_{Ij}^{bD}t_{kL}^{Ac}\\langle kL|cD\\rangle-0.5t_{Ij}^{bD}t_{KL}^{AC}\\langle KL|CD\\rangle+0.5t_{Ij}^{bD}t_{Kl}^{Ac}\\langle Kl|Dc\\rangle+0.5t_{Ij}^{bD}t_{KL}^{AC}\\langle KL|DC\\rangle-0.5t_{Ik}^{Ab}t_{jl}^{cd}\\langle kl|cd\\rangle-0.5t_{Ik}^{Ab}t_{jL}^{cD}\\langle kL|cD\\rangle+0.5t_{Ik}^{Ab}t_{jl}^{cd}\\langle kl|dc\\rangle+0.5t_{Ik}^{Ab}t_{jL}^{Cd}\\langle kL|dC\\rangle-t_{Ik}^{cD}t_{jL}^{Ab}\\langle kL|cD\\rangle-t_{IK}^{CD}t_{jL}^{Ab}\\langle KL|CD\\rangle+t_{Ik}^{Cd}t_{jL}^{Ab}\\langle kL|dC\\rangle+t_{IK}^{CD}t_{jL}^{Ab}\\langle KL|DC\\rangle+t_{Ik}^{Ac}t_{jl}^{bd}\\langle kl|cd\\rangle+t_{Ik}^{Ac}t_{jL}^{bD}\\langle kL|cD\\rangle+t_{IK}^{AC}t_{jl}^{bd}\\langle Kl|Cd\\rangle+t_{IK}^{AC}t_{jL}^{bD}\\langle KL|CD\\rangle-t_{Ik}^{Ac}t_{jl}^{bd}\\langle kl|dc\\rangle-t_{IK}^{AC}t_{jL}^{bD}\\langle KL|DC\\rangle+t_{Ik}^{bD}t_{jL}^{Ac}\\langle kL|cD\\rangle$"
      ],
      "text/plain": [
       "<IPython.core.display.Math object>"
      ]
     },
     "metadata": {},
     "output_type": "display_data"
    }
   ],
   "source": [
    "platex(eqT2)"
   ]
  },
  {
   "cell_type": "code",
   "execution_count": 4,
   "metadata": {},
   "outputs": [
    {
     "data": {
      "text/plain": [
       "42"
      ]
     },
     "execution_count": 4,
     "metadata": {},
     "output_type": "execute_result"
    }
   ],
   "source": [
    "Tensor.rhf = True\n",
    "len(eqT2.simplify())"
   ]
  },
  {
   "cell_type": "code",
   "execution_count": 9,
   "metadata": {},
   "outputs": [
    {
     "data": {
      "text/latex": [
       "$\\displaystyle t_{IJ}^{AB}$"
      ],
      "text/plain": [
       "<IPython.core.display.Math object>"
      ]
     },
     "metadata": {},
     "output_type": "display_data"
    }
   ],
   "source": [
    "i,j,a,b = Index('i', spin='alpha', hole=True), Index('j', spin='alpha', hole=True), Index('a', spin='alpha', particle=True), Index('b', spin='alpha', particle=True)\n",
    "\n",
    "test = Amplitude(i,j,a,b)\n",
    "platex(test)"
   ]
  },
  {
   "cell_type": "code",
   "execution_count": 10,
   "metadata": {},
   "outputs": [],
   "source": [
    "X = process_eq(test)"
   ]
  },
  {
   "cell_type": "code",
   "execution_count": 11,
   "metadata": {},
   "outputs": [
    {
     "data": {
      "text/plain": [
       "'TOOVV'"
      ]
     },
     "execution_count": 11,
     "metadata": {},
     "output_type": "execute_result"
    }
   ],
   "source": [
    "X.get_name(test)"
   ]
  },
  {
   "cell_type": "code",
   "execution_count": 12,
   "metadata": {},
   "outputs": [
    {
     "data": {
      "text/plain": [
       "True"
      ]
     },
     "execution_count": 12,
     "metadata": {},
     "output_type": "execute_result"
    }
   ],
   "source": [
    "isinstance(test, Tensor)"
   ]
  },
  {
   "cell_type": "code",
   "execution_count": 14,
   "metadata": {},
   "outputs": [
    {
     "data": {
      "text/plain": [
       "'np.einsum(a, b)'"
      ]
     },
     "execution_count": 14,
     "metadata": {},
     "output_type": "execute_result"
    }
   ],
   "source": [
    "'np.einsum({}, {})'.format('a','b')"
   ]
  },
  {
   "cell_type": "code",
   "execution_count": 17,
   "metadata": {},
   "outputs": [
    {
     "data": {
      "text/latex": [
       "$\\displaystyle (A,b,I,j)$"
      ],
      "text/plain": [
       "<IPython.core.display.Math object>"
      ]
     },
     "metadata": {},
     "output_type": "display_data"
    }
   ],
   "source": [
    "platex(eqT2.terms[4].ext)"
   ]
  },
  {
   "cell_type": "code",
   "execution_count": null,
   "metadata": {},
   "outputs": [],
   "source": []
  }
 ],
 "metadata": {
  "kernelspec": {
   "display_name": "Python 3",
   "language": "python",
   "name": "python3"
  },
  "language_info": {
   "codemirror_mode": {
    "name": "ipython",
    "version": 3
   },
   "file_extension": ".py",
   "mimetype": "text/x-python",
   "name": "python",
   "nbconvert_exporter": "python",
   "pygments_lexer": "ipython3",
   "version": "3.6.8"
  }
 },
 "nbformat": 4,
 "nbformat_minor": 2
}
