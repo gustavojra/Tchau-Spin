{
 "cells": [
  {
   "cell_type": "markdown",
   "metadata": {},
   "source": [
    "# Obtaining a RCCSD Code using Sympy and Tchau-Spin"
   ]
  },
  {
   "cell_type": "markdown",
   "metadata": {},
   "source": [
    "<font size=3> $\\bullet$ Import Sympy packages"
   ]
  },
  {
   "cell_type": "code",
   "execution_count": 1,
   "metadata": {},
   "outputs": [],
   "source": [
    "from sympy.physics.secondquant import (AntiSymmetricTensor, wicks,\n",
    "        F, Fd, NO, evaluate_deltas, substitute_dummies, Commutator,\n",
    "        simplify_index_permutations, PermutationOperator)\n",
    "from sympy import (\n",
    "    symbols, Rational, latex, Dummy\n",
    ")\n",
    "\n",
    "# For Sympy (simplification of equations)\n",
    "pretty_dummies_dict = {\n",
    "    'above': 'cdefgh',\n",
    "    'below': 'klmno',\n",
    "    'general': 'pqrstu'\n",
    "}"
   ]
  },
  {
   "cell_type": "markdown",
   "metadata": {},
   "source": [
    "<font size=3> $\\bullet$ Define symbols for Sympy"
   ]
  },
  {
   "cell_type": "code",
   "execution_count": 2,
   "metadata": {},
   "outputs": [],
   "source": [
    "i = symbols('i', below_fermi=True, cls=Dummy)\n",
    "a = symbols('a', above_fermi=True, cls=Dummy)\n",
    "j = symbols('j', below_fermi=True, cls=Dummy)\n",
    "b = symbols('b', above_fermi=True, cls=Dummy)\n",
    "p, q, r, s = symbols('p,q,r,s', cls=Dummy)"
   ]
  },
  {
   "cell_type": "markdown",
   "metadata": {},
   "source": [
    "## Build the $\\Phi$-normal ordered Hamiltonian"
   ]
  },
  {
   "cell_type": "code",
   "execution_count": 3,
   "metadata": {},
   "outputs": [
    {
     "data": {
      "text/latex": [
       "$\\displaystyle f^{p}_{q} \\left\\{a^\\dagger_{p} a_{q}\\right\\} - \\frac{v^{pq}_{rs} \\left\\{a^\\dagger_{p} a^\\dagger_{q} a_{r} a_{s}\\right\\}}{4}$"
      ],
      "text/plain": [
       "AntiSymmetricTensor(f, (_p,), (_q,))*NO(CreateFermion(_p)*AnnihilateFermion(_q)) - AntiSymmetricTensor(v, (_p, _q), (_r, _s))*NO(CreateFermion(_p)*CreateFermion(_q)*AnnihilateFermion(_r)*AnnihilateFermion(_s))/4"
      ]
     },
     "execution_count": 3,
     "metadata": {},
     "output_type": "execute_result"
    }
   ],
   "source": [
    "fock = AntiSymmetricTensor('f', (p,), (q,))\n",
    "pr = NO(Fd(p)*F(q))\n",
    "V = AntiSymmetricTensor('v',(p,q),(r,s))\n",
    "pqsr = NO(Fd(p)*Fd(q)*F(s)*F(r))\n",
    "H = fock*pr + Rational(1,4)*V*pqsr\n",
    "H"
   ]
  },
  {
   "cell_type": "markdown",
   "metadata": {},
   "source": [
    "## Build Cluster Operator"
   ]
  },
  {
   "cell_type": "code",
   "execution_count": 4,
   "metadata": {},
   "outputs": [
    {
     "data": {
      "text/latex": [
       "$\\displaystyle t^{a}_{i} \\left\\{a^\\dagger_{a} a_{i}\\right\\} - \\frac{t^{ab}_{ij} \\left\\{a^\\dagger_{a} a^\\dagger_{b} a_{i} a_{j}\\right\\}}{4}$"
      ],
      "text/plain": [
       "AntiSymmetricTensor(t, (_a,), (_i,))*NO(CreateFermion(_a)*AnnihilateFermion(_i)) - AntiSymmetricTensor(t, (_a, _b), (_i, _j))*NO(CreateFermion(_a)*CreateFermion(_b)*AnnihilateFermion(_i)*AnnihilateFermion(_j))/4"
      ]
     },
     "execution_count": 4,
     "metadata": {},
     "output_type": "execute_result"
    }
   ],
   "source": [
    "def get_T():\n",
    "    i, j = symbols('i,j', below_fermi=True, cls=Dummy)\n",
    "    a, b = symbols('a,b', above_fermi=True, cls=Dummy)\n",
    "    t_ai = AntiSymmetricTensor('t', (a,), (i,))*NO(Fd(a)*F(i))\n",
    "    t_abij = Rational(1,4)*AntiSymmetricTensor('t', (a,b), (i,j))*NO(Fd(a)*Fd(b)*F(j)*F(i))\n",
    "    return t_ai + t_abij\n",
    "\n",
    "get_T()"
   ]
  },
  {
   "cell_type": "markdown",
   "metadata": {},
   "source": [
    "## Perform the Hausdorff expansion"
   ]
  },
  {
   "cell_type": "markdown",
   "metadata": {},
   "source": [
    "<font size=3><center> $\\bar{H} = e^{-\\hat{T}}\\hat{H}_Ne^{\\hat{T}}$ <br/>\n",
    "    \n",
    " <p>&nbsp;</p>\n",
    "    \n",
    "<center>$\\bar{H} = \\hat{H}_N + [\\hat{H}_N, \\hat{T}] + \\frac{1}{2}[[\\hat{H}_N, \\hat{T}], \\hat{T}] + \\frac{1}{3!}[[[\\hat{H}_N, \\hat{T}], \\hat{T}], \\hat{T}] + \\frac{1}{4!}[[[[\\hat{H}_N, \\hat{T}], \\hat{T}], \\hat{T}], \\hat{T}]$"
   ]
  },
  {
   "cell_type": "code",
   "execution_count": 5,
   "metadata": {},
   "outputs": [
    {
     "name": "stdout",
     "output_type": "stream",
     "text": [
      "commutator 1...\n"
     ]
    }
   ],
   "source": [
    "C = Commutator\n",
    "T = get_T()\n",
    "print(\"commutator 1...\")\n",
    "comm1 = wicks(C(H, T))\n",
    "comm1 = evaluate_deltas(comm1)\n",
    "comm1 = substitute_dummies(comm1)"
   ]
  },
  {
   "cell_type": "code",
   "execution_count": 6,
   "metadata": {},
   "outputs": [
    {
     "name": "stdout",
     "output_type": "stream",
     "text": [
      "commutator 2...\n"
     ]
    }
   ],
   "source": [
    "T = get_T()\n",
    "print(\"commutator 2...\")\n",
    "comm2 = wicks(C(comm1, T))\n",
    "comm2 = evaluate_deltas(comm2)\n",
    "comm2 = substitute_dummies(comm2)"
   ]
  },
  {
   "cell_type": "code",
   "execution_count": 7,
   "metadata": {},
   "outputs": [
    {
     "name": "stdout",
     "output_type": "stream",
     "text": [
      "commutator 3...\n"
     ]
    }
   ],
   "source": [
    "T = get_T()\n",
    "print(\"commutator 3...\")\n",
    "comm3 = wicks(C(comm2, T))\n",
    "comm3 = evaluate_deltas(comm3)\n",
    "comm3 = substitute_dummies(comm3)"
   ]
  },
  {
   "cell_type": "code",
   "execution_count": 8,
   "metadata": {},
   "outputs": [
    {
     "name": "stdout",
     "output_type": "stream",
     "text": [
      "commutator 4...\n"
     ]
    }
   ],
   "source": [
    "T = get_T()\n",
    "print(\"commutator 4...\")\n",
    "comm4 = wicks(C(comm3, T))\n",
    "comm4 = evaluate_deltas(comm4)\n",
    "comm4 = substitute_dummies(comm4)"
   ]
  },
  {
   "cell_type": "markdown",
   "metadata": {},
   "source": [
    "## Construct the Similarity Transformed Hamiltonian"
   ]
  },
  {
   "cell_type": "code",
   "execution_count": 9,
   "metadata": {},
   "outputs": [],
   "source": [
    "eq = H + comm1 + comm2/2 + comm3/6 + comm4/24\n",
    "eq = eq.expand()\n",
    "eq = evaluate_deltas(eq)\n",
    "eq = substitute_dummies(eq, new_indices=True,\n",
    "        pretty_indices=pretty_dummies_dict)"
   ]
  },
  {
   "cell_type": "markdown",
   "metadata": {},
   "source": [
    "## Get energy expression"
   ]
  },
  {
   "cell_type": "markdown",
   "metadata": {},
   "source": [
    "<font size=3><center>$E = \\langle | \\bar{H} e^{\\hat{T}}| \\rangle_C$"
   ]
  },
  {
   "cell_type": "code",
   "execution_count": 10,
   "metadata": {},
   "outputs": [
    {
     "data": {
      "text/latex": [
       "$\\displaystyle f^{k}_{c} t^{c}_{k} - \\frac{t^{c}_{l} t^{d}_{k} v^{kl}_{cd}}{2} + \\frac{t^{cd}_{kl} v^{kl}_{cd}}{4}$"
      ],
      "text/plain": [
       "AntiSymmetricTensor(f, (_k,), (_c,))*AntiSymmetricTensor(t, (_c,), (_k,)) - AntiSymmetricTensor(t, (_c,), (_l,))*AntiSymmetricTensor(t, (_d,), (_k,))*AntiSymmetricTensor(v, (_k, _l), (_c, _d))/2 + AntiSymmetricTensor(t, (_c, _d), (_k, _l))*AntiSymmetricTensor(v, (_k, _l), (_c, _d))/4"
      ]
     },
     "execution_count": 10,
     "metadata": {},
     "output_type": "execute_result"
    }
   ],
   "source": [
    "i, j, k, l = symbols('i,j,k,l', below_fermi=True)\n",
    "a, b, c, d = symbols('a,b,c,d', above_fermi=True)\n",
    "energy = wicks(eq, simplify_dummies=True,\n",
    "        keep_only_fully_contracted=True)\n",
    "energy"
   ]
  },
  {
   "cell_type": "code",
   "execution_count": 26,
   "metadata": {},
   "outputs": [
    {
     "data": {
      "text/plain": [
       "'f^{k}_{c} t^{c}_{k} - \\\\frac{t^{c}_{l} t^{d}_{k} v^{kl}_{cd}}{2} + \\\\frac{t^{cd}_{kl} v^{kl}_{cd}}{4}'"
      ]
     },
     "execution_count": 26,
     "metadata": {},
     "output_type": "execute_result"
    }
   ],
   "source": [
    "latex(energy)"
   ]
  },
  {
   "cell_type": "markdown",
   "metadata": {},
   "source": [
    "# Get $T_1$ amplitude equation"
   ]
  },
  {
   "cell_type": "markdown",
   "metadata": {},
   "source": [
    "<font size=3><center>$E = \\langle \\Phi_{i}^{a}| \\bar{H} e^{\\hat{T}}| \\rangle_C$\n",
    "\n",
    "<p>&nbsp;</p>\n",
    "\n",
    "<center> $E = \\langle |i^\\dagger a \\bar{H} e^{\\hat{T}}| \\rangle_C$"
   ]
  },
  {
   "cell_type": "code",
   "execution_count": 11,
   "metadata": {},
   "outputs": [
    {
     "data": {
      "text/latex": [
       "$\\displaystyle - f^{k}_{c} t^{c}_{i} t^{a}_{k} + f^{k}_{c} t^{ac}_{ik} - f^{k}_{i} t^{a}_{k} + f^{a}_{c} t^{c}_{i} + f^{a}_{i} - t^{c}_{k} t^{d}_{i} t^{a}_{l} v^{kl}_{cd} - t^{c}_{k} t^{d}_{i} v^{ak}_{cd} + t^{c}_{k} t^{a}_{l} v^{kl}_{ic} + t^{c}_{k} t^{ad}_{il} v^{kl}_{cd} + t^{c}_{k} v^{ak}_{ic} - \\frac{t^{c}_{i} t^{ad}_{kl} v^{kl}_{cd}}{2} + \\frac{t^{a}_{l} t^{cd}_{ik} v^{kl}_{cd}}{2} + \\frac{t^{cd}_{ik} v^{ak}_{cd}}{2} - \\frac{t^{ac}_{kl} v^{kl}_{ic}}{2}$"
      ],
      "text/plain": [
       "-AntiSymmetricTensor(f, (_k,), (_c,))*AntiSymmetricTensor(t, (_c,), (i,))*AntiSymmetricTensor(t, (a,), (_k,)) + AntiSymmetricTensor(f, (_k,), (_c,))*AntiSymmetricTensor(t, (a, _c), (i, _k)) - AntiSymmetricTensor(f, (_k,), (i,))*AntiSymmetricTensor(t, (a,), (_k,)) + AntiSymmetricTensor(f, (a,), (_c,))*AntiSymmetricTensor(t, (_c,), (i,)) + AntiSymmetricTensor(f, (a,), (i,)) - AntiSymmetricTensor(t, (_c,), (_k,))*AntiSymmetricTensor(t, (_d,), (i,))*AntiSymmetricTensor(t, (a,), (_l,))*AntiSymmetricTensor(v, (_k, _l), (_c, _d)) - AntiSymmetricTensor(t, (_c,), (_k,))*AntiSymmetricTensor(t, (_d,), (i,))*AntiSymmetricTensor(v, (a, _k), (_c, _d)) + AntiSymmetricTensor(t, (_c,), (_k,))*AntiSymmetricTensor(t, (a,), (_l,))*AntiSymmetricTensor(v, (_k, _l), (i, _c)) + AntiSymmetricTensor(t, (_c,), (_k,))*AntiSymmetricTensor(t, (a, _d), (i, _l))*AntiSymmetricTensor(v, (_k, _l), (_c, _d)) + AntiSymmetricTensor(t, (_c,), (_k,))*AntiSymmetricTensor(v, (a, _k), (i, _c)) - AntiSymmetricTensor(t, (_c,), (i,))*AntiSymmetricTensor(t, (a, _d), (_k, _l))*AntiSymmetricTensor(v, (_k, _l), (_c, _d))/2 + AntiSymmetricTensor(t, (a,), (_l,))*AntiSymmetricTensor(t, (_c, _d), (i, _k))*AntiSymmetricTensor(v, (_k, _l), (_c, _d))/2 + AntiSymmetricTensor(t, (_c, _d), (i, _k))*AntiSymmetricTensor(v, (a, _k), (_c, _d))/2 - AntiSymmetricTensor(t, (a, _c), (_k, _l))*AntiSymmetricTensor(v, (_k, _l), (i, _c))/2"
      ]
     },
     "execution_count": 11,
     "metadata": {},
     "output_type": "execute_result"
    }
   ],
   "source": [
    "eqT1 = wicks(NO(Fd(i)*F(a))*eq, simplify_dummies=True, \n",
    "             keep_only_fully_contracted=True, simplify_kronecker_deltas=True)\n",
    "eqT1"
   ]
  },
  {
   "cell_type": "markdown",
   "metadata": {},
   "source": [
    "## Get $T_2$ amplitude equation"
   ]
  },
  {
   "cell_type": "markdown",
   "metadata": {},
   "source": [
    "<font size=3><center>$E = \\langle \\Phi_{ij}^{ab}| \\bar{H} e^{\\hat{T}}| \\rangle_C$\n",
    "\n",
    "<p>&nbsp;</p>\n",
    "\n",
    "<center> $E = \\langle |i^\\dagger j^\\dagger b a \\bar{H} e^{\\hat{T}}| \\rangle_C$"
   ]
  },
  {
   "cell_type": "code",
   "execution_count": 12,
   "metadata": {},
   "outputs": [
    {
     "data": {
      "text/latex": [
       "$\\displaystyle f^{k}_{c} t^{c}_{i} t^{ab}_{jk} - f^{k}_{c} t^{c}_{j} t^{ab}_{ik} + f^{k}_{c} t^{a}_{k} t^{bc}_{ij} - f^{k}_{c} t^{b}_{k} t^{ac}_{ij} + f^{k}_{i} t^{ab}_{jk} - f^{k}_{j} t^{ab}_{ik} - f^{a}_{c} t^{bc}_{ij} + f^{b}_{c} t^{ac}_{ij} + t^{c}_{k} t^{d}_{i} t^{ab}_{jl} v^{kl}_{cd} - t^{c}_{k} t^{d}_{j} t^{ab}_{il} v^{kl}_{cd} + t^{c}_{k} t^{a}_{l} t^{bd}_{ij} v^{kl}_{cd} - t^{c}_{k} t^{b}_{l} t^{ad}_{ij} v^{kl}_{cd} - t^{c}_{k} t^{ad}_{ij} v^{bk}_{cd} + t^{c}_{k} t^{ab}_{il} v^{kl}_{jc} - t^{c}_{k} t^{ab}_{jl} v^{kl}_{ic} + t^{c}_{k} t^{bd}_{ij} v^{ak}_{cd} + t^{c}_{i} t^{d}_{j} t^{a}_{k} t^{b}_{l} v^{kl}_{cd} + t^{c}_{i} t^{d}_{j} t^{a}_{k} v^{bk}_{cd} - t^{c}_{i} t^{d}_{j} t^{b}_{k} v^{ak}_{cd} + \\frac{t^{c}_{i} t^{d}_{j} t^{ab}_{kl} v^{kl}_{cd}}{2} + t^{c}_{i} t^{d}_{j} v^{ab}_{cd} - t^{c}_{i} t^{a}_{k} t^{b}_{l} v^{kl}_{jc} - t^{c}_{i} t^{a}_{k} t^{bd}_{jl} v^{kl}_{cd} - t^{c}_{i} t^{a}_{k} v^{bk}_{jc} + t^{c}_{i} t^{b}_{k} v^{ak}_{jc} - t^{c}_{i} t^{b}_{l} t^{ad}_{jk} v^{kl}_{cd} - t^{c}_{i} t^{ad}_{jk} v^{bk}_{cd} - \\frac{t^{c}_{i} t^{ab}_{kl} v^{kl}_{jc}}{2} + t^{c}_{i} t^{bd}_{jk} v^{ak}_{cd} - t^{c}_{i} v^{ab}_{jc} + t^{c}_{j} t^{a}_{k} t^{b}_{l} v^{kl}_{ic} + t^{c}_{j} t^{a}_{k} t^{bd}_{il} v^{kl}_{cd} + t^{c}_{j} t^{a}_{k} v^{bk}_{ic} - t^{c}_{j} t^{b}_{k} v^{ak}_{ic} + t^{c}_{j} t^{b}_{l} t^{ad}_{ik} v^{kl}_{cd} + t^{c}_{j} t^{ad}_{ik} v^{bk}_{cd} + \\frac{t^{c}_{j} t^{ab}_{kl} v^{kl}_{ic}}{2} - t^{c}_{j} t^{bd}_{ik} v^{ak}_{cd} + t^{c}_{j} v^{ab}_{ic} + \\frac{t^{a}_{k} t^{b}_{l} t^{cd}_{ij} v^{kl}_{cd}}{2} + t^{a}_{k} t^{b}_{l} v^{kl}_{ij} + \\frac{t^{a}_{k} t^{cd}_{ij} v^{bk}_{cd}}{2} + t^{a}_{k} t^{bc}_{il} v^{kl}_{jc} - t^{a}_{k} t^{bc}_{jl} v^{kl}_{ic} + t^{a}_{k} v^{bk}_{ij} - \\frac{t^{b}_{k} t^{cd}_{ij} v^{ak}_{cd}}{2} - t^{b}_{k} v^{ak}_{ij} + t^{b}_{l} t^{ac}_{ik} v^{kl}_{jc} - t^{b}_{l} t^{ac}_{jk} v^{kl}_{ic} - \\frac{t^{cd}_{ik} t^{ab}_{jl} v^{kl}_{cd}}{2} + \\frac{t^{cd}_{ij} t^{ab}_{kl} v^{kl}_{cd}}{4} + \\frac{t^{cd}_{ij} v^{ab}_{cd}}{2} + \\frac{t^{cd}_{jk} t^{ab}_{il} v^{kl}_{cd}}{2} - \\frac{t^{ac}_{kl} t^{bd}_{ij} v^{kl}_{cd}}{2} + t^{ac}_{ik} t^{bd}_{jl} v^{kl}_{cd} + t^{ac}_{ik} v^{bk}_{jc} - \\frac{t^{ac}_{ij} t^{bd}_{kl} v^{kl}_{cd}}{2} - t^{ac}_{jk} t^{bd}_{il} v^{kl}_{cd} - t^{ac}_{jk} v^{bk}_{ic} + \\frac{t^{ab}_{kl} v^{kl}_{ij}}{2} - t^{bc}_{ik} v^{ak}_{jc} + t^{bc}_{jk} v^{ak}_{ic} + v^{ab}_{ij}$"
      ],
      "text/plain": [
       "AntiSymmetricTensor(f, (_k,), (_c,))*AntiSymmetricTensor(t, (_c,), (i,))*AntiSymmetricTensor(t, (a, b), (j, _k)) - AntiSymmetricTensor(f, (_k,), (_c,))*AntiSymmetricTensor(t, (_c,), (j,))*AntiSymmetricTensor(t, (a, b), (i, _k)) + AntiSymmetricTensor(f, (_k,), (_c,))*AntiSymmetricTensor(t, (a,), (_k,))*AntiSymmetricTensor(t, (b, _c), (i, j)) - AntiSymmetricTensor(f, (_k,), (_c,))*AntiSymmetricTensor(t, (b,), (_k,))*AntiSymmetricTensor(t, (a, _c), (i, j)) + AntiSymmetricTensor(f, (_k,), (i,))*AntiSymmetricTensor(t, (a, b), (j, _k)) - AntiSymmetricTensor(f, (_k,), (j,))*AntiSymmetricTensor(t, (a, b), (i, _k)) - AntiSymmetricTensor(f, (a,), (_c,))*AntiSymmetricTensor(t, (b, _c), (i, j)) + AntiSymmetricTensor(f, (b,), (_c,))*AntiSymmetricTensor(t, (a, _c), (i, j)) + AntiSymmetricTensor(t, (_c,), (_k,))*AntiSymmetricTensor(t, (_d,), (i,))*AntiSymmetricTensor(t, (a, b), (j, _l))*AntiSymmetricTensor(v, (_k, _l), (_c, _d)) - AntiSymmetricTensor(t, (_c,), (_k,))*AntiSymmetricTensor(t, (_d,), (j,))*AntiSymmetricTensor(t, (a, b), (i, _l))*AntiSymmetricTensor(v, (_k, _l), (_c, _d)) + AntiSymmetricTensor(t, (_c,), (_k,))*AntiSymmetricTensor(t, (a,), (_l,))*AntiSymmetricTensor(t, (b, _d), (i, j))*AntiSymmetricTensor(v, (_k, _l), (_c, _d)) - AntiSymmetricTensor(t, (_c,), (_k,))*AntiSymmetricTensor(t, (b,), (_l,))*AntiSymmetricTensor(t, (a, _d), (i, j))*AntiSymmetricTensor(v, (_k, _l), (_c, _d)) - AntiSymmetricTensor(t, (_c,), (_k,))*AntiSymmetricTensor(t, (a, _d), (i, j))*AntiSymmetricTensor(v, (b, _k), (_c, _d)) + AntiSymmetricTensor(t, (_c,), (_k,))*AntiSymmetricTensor(t, (a, b), (i, _l))*AntiSymmetricTensor(v, (_k, _l), (j, _c)) - AntiSymmetricTensor(t, (_c,), (_k,))*AntiSymmetricTensor(t, (a, b), (j, _l))*AntiSymmetricTensor(v, (_k, _l), (i, _c)) + AntiSymmetricTensor(t, (_c,), (_k,))*AntiSymmetricTensor(t, (b, _d), (i, j))*AntiSymmetricTensor(v, (a, _k), (_c, _d)) + AntiSymmetricTensor(t, (_c,), (i,))*AntiSymmetricTensor(t, (_d,), (j,))*AntiSymmetricTensor(t, (a,), (_k,))*AntiSymmetricTensor(t, (b,), (_l,))*AntiSymmetricTensor(v, (_k, _l), (_c, _d)) + AntiSymmetricTensor(t, (_c,), (i,))*AntiSymmetricTensor(t, (_d,), (j,))*AntiSymmetricTensor(t, (a,), (_k,))*AntiSymmetricTensor(v, (b, _k), (_c, _d)) - AntiSymmetricTensor(t, (_c,), (i,))*AntiSymmetricTensor(t, (_d,), (j,))*AntiSymmetricTensor(t, (b,), (_k,))*AntiSymmetricTensor(v, (a, _k), (_c, _d)) + AntiSymmetricTensor(t, (_c,), (i,))*AntiSymmetricTensor(t, (_d,), (j,))*AntiSymmetricTensor(t, (a, b), (_k, _l))*AntiSymmetricTensor(v, (_k, _l), (_c, _d))/2 + AntiSymmetricTensor(t, (_c,), (i,))*AntiSymmetricTensor(t, (_d,), (j,))*AntiSymmetricTensor(v, (a, b), (_c, _d)) - AntiSymmetricTensor(t, (_c,), (i,))*AntiSymmetricTensor(t, (a,), (_k,))*AntiSymmetricTensor(t, (b,), (_l,))*AntiSymmetricTensor(v, (_k, _l), (j, _c)) - AntiSymmetricTensor(t, (_c,), (i,))*AntiSymmetricTensor(t, (a,), (_k,))*AntiSymmetricTensor(t, (b, _d), (j, _l))*AntiSymmetricTensor(v, (_k, _l), (_c, _d)) - AntiSymmetricTensor(t, (_c,), (i,))*AntiSymmetricTensor(t, (a,), (_k,))*AntiSymmetricTensor(v, (b, _k), (j, _c)) + AntiSymmetricTensor(t, (_c,), (i,))*AntiSymmetricTensor(t, (b,), (_k,))*AntiSymmetricTensor(v, (a, _k), (j, _c)) - AntiSymmetricTensor(t, (_c,), (i,))*AntiSymmetricTensor(t, (b,), (_l,))*AntiSymmetricTensor(t, (a, _d), (j, _k))*AntiSymmetricTensor(v, (_k, _l), (_c, _d)) - AntiSymmetricTensor(t, (_c,), (i,))*AntiSymmetricTensor(t, (a, _d), (j, _k))*AntiSymmetricTensor(v, (b, _k), (_c, _d)) - AntiSymmetricTensor(t, (_c,), (i,))*AntiSymmetricTensor(t, (a, b), (_k, _l))*AntiSymmetricTensor(v, (_k, _l), (j, _c))/2 + AntiSymmetricTensor(t, (_c,), (i,))*AntiSymmetricTensor(t, (b, _d), (j, _k))*AntiSymmetricTensor(v, (a, _k), (_c, _d)) - AntiSymmetricTensor(t, (_c,), (i,))*AntiSymmetricTensor(v, (a, b), (j, _c)) + AntiSymmetricTensor(t, (_c,), (j,))*AntiSymmetricTensor(t, (a,), (_k,))*AntiSymmetricTensor(t, (b,), (_l,))*AntiSymmetricTensor(v, (_k, _l), (i, _c)) + AntiSymmetricTensor(t, (_c,), (j,))*AntiSymmetricTensor(t, (a,), (_k,))*AntiSymmetricTensor(t, (b, _d), (i, _l))*AntiSymmetricTensor(v, (_k, _l), (_c, _d)) + AntiSymmetricTensor(t, (_c,), (j,))*AntiSymmetricTensor(t, (a,), (_k,))*AntiSymmetricTensor(v, (b, _k), (i, _c)) - AntiSymmetricTensor(t, (_c,), (j,))*AntiSymmetricTensor(t, (b,), (_k,))*AntiSymmetricTensor(v, (a, _k), (i, _c)) + AntiSymmetricTensor(t, (_c,), (j,))*AntiSymmetricTensor(t, (b,), (_l,))*AntiSymmetricTensor(t, (a, _d), (i, _k))*AntiSymmetricTensor(v, (_k, _l), (_c, _d)) + AntiSymmetricTensor(t, (_c,), (j,))*AntiSymmetricTensor(t, (a, _d), (i, _k))*AntiSymmetricTensor(v, (b, _k), (_c, _d)) + AntiSymmetricTensor(t, (_c,), (j,))*AntiSymmetricTensor(t, (a, b), (_k, _l))*AntiSymmetricTensor(v, (_k, _l), (i, _c))/2 - AntiSymmetricTensor(t, (_c,), (j,))*AntiSymmetricTensor(t, (b, _d), (i, _k))*AntiSymmetricTensor(v, (a, _k), (_c, _d)) + AntiSymmetricTensor(t, (_c,), (j,))*AntiSymmetricTensor(v, (a, b), (i, _c)) + AntiSymmetricTensor(t, (a,), (_k,))*AntiSymmetricTensor(t, (b,), (_l,))*AntiSymmetricTensor(t, (_c, _d), (i, j))*AntiSymmetricTensor(v, (_k, _l), (_c, _d))/2 + AntiSymmetricTensor(t, (a,), (_k,))*AntiSymmetricTensor(t, (b,), (_l,))*AntiSymmetricTensor(v, (_k, _l), (i, j)) + AntiSymmetricTensor(t, (a,), (_k,))*AntiSymmetricTensor(t, (_c, _d), (i, j))*AntiSymmetricTensor(v, (b, _k), (_c, _d))/2 + AntiSymmetricTensor(t, (a,), (_k,))*AntiSymmetricTensor(t, (b, _c), (i, _l))*AntiSymmetricTensor(v, (_k, _l), (j, _c)) - AntiSymmetricTensor(t, (a,), (_k,))*AntiSymmetricTensor(t, (b, _c), (j, _l))*AntiSymmetricTensor(v, (_k, _l), (i, _c)) + AntiSymmetricTensor(t, (a,), (_k,))*AntiSymmetricTensor(v, (b, _k), (i, j)) - AntiSymmetricTensor(t, (b,), (_k,))*AntiSymmetricTensor(t, (_c, _d), (i, j))*AntiSymmetricTensor(v, (a, _k), (_c, _d))/2 - AntiSymmetricTensor(t, (b,), (_k,))*AntiSymmetricTensor(v, (a, _k), (i, j)) + AntiSymmetricTensor(t, (b,), (_l,))*AntiSymmetricTensor(t, (a, _c), (i, _k))*AntiSymmetricTensor(v, (_k, _l), (j, _c)) - AntiSymmetricTensor(t, (b,), (_l,))*AntiSymmetricTensor(t, (a, _c), (j, _k))*AntiSymmetricTensor(v, (_k, _l), (i, _c)) - AntiSymmetricTensor(t, (_c, _d), (i, _k))*AntiSymmetricTensor(t, (a, b), (j, _l))*AntiSymmetricTensor(v, (_k, _l), (_c, _d))/2 + AntiSymmetricTensor(t, (_c, _d), (i, j))*AntiSymmetricTensor(t, (a, b), (_k, _l))*AntiSymmetricTensor(v, (_k, _l), (_c, _d))/4 + AntiSymmetricTensor(t, (_c, _d), (i, j))*AntiSymmetricTensor(v, (a, b), (_c, _d))/2 + AntiSymmetricTensor(t, (_c, _d), (j, _k))*AntiSymmetricTensor(t, (a, b), (i, _l))*AntiSymmetricTensor(v, (_k, _l), (_c, _d))/2 - AntiSymmetricTensor(t, (a, _c), (_k, _l))*AntiSymmetricTensor(t, (b, _d), (i, j))*AntiSymmetricTensor(v, (_k, _l), (_c, _d))/2 + AntiSymmetricTensor(t, (a, _c), (i, _k))*AntiSymmetricTensor(t, (b, _d), (j, _l))*AntiSymmetricTensor(v, (_k, _l), (_c, _d)) + AntiSymmetricTensor(t, (a, _c), (i, _k))*AntiSymmetricTensor(v, (b, _k), (j, _c)) - AntiSymmetricTensor(t, (a, _c), (i, j))*AntiSymmetricTensor(t, (b, _d), (_k, _l))*AntiSymmetricTensor(v, (_k, _l), (_c, _d))/2 - AntiSymmetricTensor(t, (a, _c), (j, _k))*AntiSymmetricTensor(t, (b, _d), (i, _l))*AntiSymmetricTensor(v, (_k, _l), (_c, _d)) - AntiSymmetricTensor(t, (a, _c), (j, _k))*AntiSymmetricTensor(v, (b, _k), (i, _c)) + AntiSymmetricTensor(t, (a, b), (_k, _l))*AntiSymmetricTensor(v, (_k, _l), (i, j))/2 - AntiSymmetricTensor(t, (b, _c), (i, _k))*AntiSymmetricTensor(v, (a, _k), (j, _c)) + AntiSymmetricTensor(t, (b, _c), (j, _k))*AntiSymmetricTensor(v, (a, _k), (i, _c)) + AntiSymmetricTensor(v, (a, b), (i, j))"
      ]
     },
     "execution_count": 12,
     "metadata": {},
     "output_type": "execute_result"
    }
   ],
   "source": [
    "eqT2 = wicks(NO(Fd(i)*Fd(j)*F(b)*F(a))*eq, simplify_dummies=True, \n",
    "             keep_only_fully_contracted=True, simplify_kronecker_deltas=True)\n",
    "eqT2"
   ]
  },
  {
   "cell_type": "markdown",
   "metadata": {},
   "source": [
    "# Using Tchau-Spin"
   ]
  },
  {
   "cell_type": "code",
   "execution_count": 13,
   "metadata": {},
   "outputs": [],
   "source": [
    "from tchau_spin import *\n",
    "# For restricted CC\n",
    "Tensor.rhf = True"
   ]
  },
  {
   "cell_type": "markdown",
   "metadata": {},
   "source": [
    "<font size=3>$\\bullet$ Define indexes"
   ]
  },
  {
   "cell_type": "code",
   "execution_count": 14,
   "metadata": {},
   "outputs": [],
   "source": [
    "i,j,a,b = Index.new('ijab', 'abab', 'hhpp')\n",
    "# 'xxxx' indicates that those indexes have any spin\n",
    "k,l,c,d = Index.new('klcd', 'xxxx', 'hhpp')\n",
    "index_key = {'i':i,\n",
    "             'j':j,\n",
    "             'a':a,\n",
    "             'b':b,\n",
    "             'k':k,\n",
    "             'l':l,\n",
    "             'c':c,\n",
    "             'd':d\n",
    "}"
   ]
  },
  {
   "cell_type": "markdown",
   "metadata": {},
   "source": [
    "## Processing Energy expression"
   ]
  },
  {
   "cell_type": "code",
   "execution_count": 15,
   "metadata": {},
   "outputs": [
    {
     "data": {
      "text/latex": [
       "$\\displaystyle f_{ck}t_{k}^{c}+f_{CK}t_{K}^{C}-0.5t_{k}^{d}t_{l}^{c}\\langle cd|kl\\rangle+0.5t_{k}^{d}t_{l}^{c}\\langle cd|lk\\rangle+0.5t_{k}^{d}t_{L}^{C}\\langle Cd|Lk\\rangle+0.5t_{K}^{D}t_{l}^{c}\\langle cD|lK\\rangle-0.5t_{K}^{D}t_{L}^{C}\\langle CD|KL\\rangle+0.5t_{K}^{D}t_{L}^{C}\\langle CD|LK\\rangle+0.25t_{kl}^{cd}\\langle cd|kl\\rangle+0.25t_{kL}^{cD}\\langle cD|kL\\rangle+0.25t_{Kl}^{Cd}\\langle Cd|Kl\\rangle+0.25t_{KL}^{CD}\\langle CD|KL\\rangle-0.25t_{kl}^{cd}\\langle cd|lk\\rangle-0.25t_{kL}^{Cd}\\langle Cd|Lk\\rangle-0.25t_{Kl}^{cD}\\langle cD|lK\\rangle-0.25t_{KL}^{CD}\\langle CD|LK\\rangle$"
      ],
      "text/plain": [
       "<IPython.core.display.Math object>"
      ]
     },
     "metadata": {},
     "output_type": "display_data"
    }
   ],
   "source": [
    "E = eqfromlatex(latex(energy), index_key)\n",
    "platex(E)"
   ]
  },
  {
   "cell_type": "markdown",
   "metadata": {},
   "source": [
    "<font size=3>$\\bullet$ Simplify Equation"
   ]
  },
  {
   "cell_type": "code",
   "execution_count": 16,
   "metadata": {},
   "outputs": [
    {
     "data": {
      "text/latex": [
       "$\\displaystyle 2.0f_{KC}t_{K}^{C}-t_{L}^{C}t_{K}^{D}\\langle KL|CD\\rangle+2.0t_{L}^{C}t_{K}^{D}\\langle LK|CD\\rangle-t_{Lk}^{Cd}\\langle KL|CD\\rangle+2.0t_{Kl}^{Cd}\\langle KL|CD\\rangle$"
      ],
      "text/plain": [
       "<IPython.core.display.Math object>"
      ]
     },
     "metadata": {},
     "output_type": "display_data"
    }
   ],
   "source": [
    "E = E.simplify()\n",
    "E = E.adapt_space()\n",
    "platex(E)"
   ]
  },
  {
   "cell_type": "markdown",
   "metadata": {},
   "source": [
    "<font size=3>$\\bullet$ Through the Factor object, we can factorize the ERI out for a even simpler expression"
   ]
  },
  {
   "cell_type": "code",
   "execution_count": 17,
   "metadata": {},
   "outputs": [
    {
     "data": {
      "text/latex": [
       "$\\displaystyle 2.0f_{KC}t_{K}^{C}+\\langle KL|CD\\rangle\\cdot[-t_{L}^{C}t_{K}^{D}-t_{Lk}^{Cd}+2.0t_{Kl}^{Cd}]+2.0t_{L}^{C}t_{K}^{D}\\langle LK|CD\\rangle$"
      ],
      "text/plain": [
       "<IPython.core.display.Math object>"
      ]
     },
     "metadata": {},
     "output_type": "display_data"
    }
   ],
   "source": [
    "E = Factor.factorize_ERI(E)\n",
    "platex(E)"
   ]
  },
  {
   "cell_type": "markdown",
   "metadata": {},
   "source": [
    "<font size=3>$\\bullet$ Process equation. It is necessary to identify the external indexes (in this case none). Also it is optional to provide names."
   ]
  },
  {
   "cell_type": "markdown",
   "metadata": {},
   "source": [
    "<font size=3>$\\bullet$ Each tensor found in the equation will be given a name. Standard names are a combination of a letter (T, V, f, etc) and o, O, v, V representing the spin and space (hole or particle) of the indexes within the tensor. The auto generated name can be replaced by passing a dictionary as input."
   ]
  },
  {
   "cell_type": "code",
   "execution_count": 18,
   "metadata": {},
   "outputs": [
    {
     "name": "stdout",
     "output_type": "stream",
     "text": [
      "CC_energy += 2.0*np.einsum('kc, kc -> ', fock_OV, T1, optimize = 'optimal')\n",
      "B_OVOV = -1.0*np.einsum('lc, kd -> lckd', T1, T1, optimize = 'optimal')\n",
      "B_OVOV += -1.0*T2.transpose(0,2,1,3)\n",
      "B_OVOV += 2.0*T2.transpose(1,2,0,3)\n",
      "CC_energy += np.einsum('lckd, klcd -> ', B_OVOV, Voovv, optimize = 'optimal')\n",
      "CC_energy += 2.0*np.einsum('lc, kd, lkcd -> ', T1, T1, Voovv, optimize = 'optimal')\n",
      "\n"
     ]
    }
   ],
   "source": [
    "mytensors = {\n",
    "    'T_OoVv' : 'T2',\n",
    "    'T_OV' : 'T1',\n",
    "    'V_OOOO' : 'Voooo',\n",
    "    'V_OOOV' : 'Vooov',\n",
    "    'V_OOVV' : 'Voovv',\n",
    "    'V_OVOV' : 'Vovov',\n",
    "    'V_OVVV' : 'Vovvv',\n",
    "    'V_VVVV' : 'Vvvvv',\n",
    "    'f_OO' : 'fock_OO',\n",
    "    'f_VV' : 'fock_VV',\n",
    "    'f_OV' : 'fock_OV'\n",
    "    \n",
    "}\n",
    "\n",
    "pE = process_eq(eq=E, name = 'CC_energy', tensor_labels = mytensors)\n",
    "pE.write_einsums_out(print_out=True)"
   ]
  },
  {
   "cell_type": "markdown",
   "metadata": {},
   "source": [
    "## Processing $T_1$ amplitude equation"
   ]
  },
  {
   "cell_type": "code",
   "execution_count": 19,
   "metadata": {},
   "outputs": [
    {
     "data": {
      "text/latex": [
       "$\\displaystyle -f_{CK}t_{I}^{C}t_{K}^{A}+f_{ck}t_{Ik}^{Ac}+f_{CK}t_{IK}^{AC}-f_{IK}t_{K}^{A}+f_{CA}t_{I}^{C}+f_{IA}-t_{I}^{D}t_{k}^{c}t_{L}^{A}\\langle cD|kL\\rangle-t_{I}^{D}t_{K}^{C}t_{L}^{A}\\langle CD|KL\\rangle+t_{I}^{D}t_{K}^{C}t_{L}^{A}\\langle CD|LK\\rangle+t_{I}^{D}t_{k}^{c}\\langle cD|kA\\rangle-t_{I}^{D}t_{K}^{C}\\langle CD|AK\\rangle+t_{I}^{D}t_{K}^{C}\\langle CD|KA\\rangle-t_{L}^{A}t_{k}^{c}\\langle Ic|Lk\\rangle+t_{L}^{A}t_{K}^{C}\\langle IC|KL\\rangle-t_{L}^{A}t_{K}^{C}\\langle IC|LK\\rangle+t_{k}^{c}t_{Il}^{Ad}\\langle cd|kl\\rangle-t_{k}^{c}t_{Il}^{Ad}\\langle cd|lk\\rangle+t_{K}^{C}t_{Il}^{Ad}\\langle Cd|Kl\\rangle+t_{k}^{c}t_{IL}^{AD}\\langle cD|kL\\rangle+t_{K}^{C}t_{IL}^{AD}\\langle CD|KL\\rangle-t_{K}^{C}t_{IL}^{AD}\\langle CD|LK\\rangle+t_{k}^{c}\\langle Ic|Ak\\rangle+t_{K}^{C}\\langle IC|AK\\rangle-t_{K}^{C}\\langle IC|KA\\rangle+0.5t_{I}^{C}t_{kL}^{Ad}\\langle Cd|Lk\\rangle-0.5t_{I}^{C}t_{Kl}^{Ad}\\langle Cd|Kl\\rangle-0.5t_{I}^{C}t_{KL}^{AD}\\langle CD|KL\\rangle+0.5t_{I}^{C}t_{KL}^{AD}\\langle CD|LK\\rangle+0.5t_{L}^{A}t_{Ik}^{cD}\\langle cD|kL\\rangle-0.5t_{L}^{A}t_{Ik}^{Cd}\\langle Cd|Lk\\rangle+0.5t_{L}^{A}t_{IK}^{CD}\\langle CD|KL\\rangle-0.5t_{L}^{A}t_{IK}^{CD}\\langle CD|LK\\rangle+0.5t_{Ik}^{Cd}\\langle Cd|Ak\\rangle+0.5t_{IK}^{CD}\\langle CD|AK\\rangle-0.5t_{Ik}^{cD}\\langle cD|kA\\rangle-0.5t_{IK}^{CD}\\langle CD|KA\\rangle-0.5t_{Kl}^{Ac}\\langle Ic|Kl\\rangle-0.5t_{KL}^{AC}\\langle IC|KL\\rangle+0.5t_{kL}^{Ac}\\langle Ic|Lk\\rangle+0.5t_{KL}^{AC}\\langle IC|LK\\rangle$"
      ],
      "text/plain": [
       "<IPython.core.display.Math object>"
      ]
     },
     "metadata": {},
     "output_type": "display_data"
    }
   ],
   "source": [
    "T1 = eqfromlatex(latex(eqT1), index_key)\n",
    "platex(T1)"
   ]
  },
  {
   "cell_type": "markdown",
   "metadata": {},
   "source": [
    "<font size=3>$\\bullet$ Simplify"
   ]
  },
  {
   "cell_type": "code",
   "execution_count": 20,
   "metadata": {},
   "outputs": [
    {
     "data": {
      "text/latex": [
       "$\\displaystyle f_{IA}-f_{IK}t_{K}^{A}+f_{CA}t_{I}^{C}-f_{KC}t_{I}^{C}t_{K}^{A}+2.0f_{KC}t_{Ik}^{Ac}-f_{KC}t_{Ki}^{Ac}-t_{K}^{C}\\langle IC|KA\\rangle+2.0t_{K}^{C}\\langle KI|CA\\rangle-t_{Ki}^{Cd}\\langle KA|DC\\rangle+2.0t_{Ik}^{Cd}\\langle KA|DC\\rangle-2.0t_{Kl}^{Ac}\\langle KL|IC\\rangle+t_{Lk}^{Ac}\\langle KL|IC\\rangle-2.0t_{K}^{C}t_{L}^{A}\\langle LK|IC\\rangle-t_{K}^{C}t_{I}^{D}\\langle KA|DC\\rangle+2.0t_{K}^{C}t_{I}^{D}\\langle KA|CD\\rangle+t_{K}^{C}t_{L}^{A}\\langle KL|IC\\rangle-2.0t_{K}^{C}t_{Il}^{Ad}\\langle LK|CD\\rangle-2.0t_{K}^{C}t_{Li}^{Ad}\\langle KL|CD\\rangle+t_{K}^{C}t_{Li}^{Ad}\\langle LK|CD\\rangle-2.0t_{I}^{C}t_{Lk}^{Ad}\\langle LK|CD\\rangle+t_{I}^{C}t_{Lk}^{Ad}\\langle KL|CD\\rangle-2.0t_{L}^{A}t_{Ik}^{Dc}\\langle KL|CD\\rangle+t_{L}^{A}t_{Ik}^{Cd}\\langle KL|CD\\rangle+t_{K}^{C}t_{I}^{D}t_{L}^{A}\\langle LK|CD\\rangle-2.0t_{K}^{C}t_{I}^{D}t_{L}^{A}\\langle KL|CD\\rangle+4.0t_{K}^{C}t_{Il}^{Ad}\\langle KL|CD\\rangle$"
      ],
      "text/plain": [
       "<IPython.core.display.Math object>"
      ]
     },
     "metadata": {},
     "output_type": "display_data"
    }
   ],
   "source": [
    "T1 = T1.simplify()\n",
    "T1 = T1.adapt_space()\n",
    "T1.sort()\n",
    "platex(T1)"
   ]
  },
  {
   "cell_type": "code",
   "execution_count": 21,
   "metadata": {},
   "outputs": [
    {
     "name": "stdout",
     "output_type": "stream",
     "text": [
      "newT1 += fock_OV\n",
      "newT1 -= np.einsum('ik, ka -> ia', fock_OO, T1, optimize = 'optimal')\n",
      "newT1 += np.einsum('ca, ic -> ia', fock_VV, T1, optimize = 'optimal')\n",
      "newT1 -= np.einsum('kc, ic, ka -> ia', fock_OV, T1, T1, optimize = 'optimal')\n",
      "newT1 += 2.0*np.einsum('kc, ikac -> ia', fock_OV, T2, optimize = 'optimal')\n",
      "newT1 -= np.einsum('kc, kiac -> ia', fock_OV, T2, optimize = 'optimal')\n",
      "newT1 -= np.einsum('kc, icka -> ia', T1, Vovov, optimize = 'optimal')\n",
      "newT1 += 2.0*np.einsum('kc, kica -> ia', T1, Voovv, optimize = 'optimal')\n",
      "newT1 -= np.einsum('kicd, kadc -> ia', T2, Vovvv, optimize = 'optimal')\n",
      "newT1 += 2.0*np.einsum('ikcd, kadc -> ia', T2, Vovvv, optimize = 'optimal')\n",
      "newT1 += -2.0*np.einsum('klac, klic -> ia', T2, Vooov, optimize = 'optimal')\n",
      "newT1 += np.einsum('lkac, klic -> ia', T2, Vooov, optimize = 'optimal')\n",
      "newT1 += -2.0*np.einsum('kc, la, lkic -> ia', T1, T1, Vooov, optimize = 'optimal')\n",
      "newT1 -= np.einsum('kc, id, kadc -> ia', T1, T1, Vovvv, optimize = 'optimal')\n",
      "newT1 += 2.0*np.einsum('kc, id, kacd -> ia', T1, T1, Vovvv, optimize = 'optimal')\n",
      "newT1 += np.einsum('kc, la, klic -> ia', T1, T1, Vooov, optimize = 'optimal')\n",
      "newT1 += -2.0*np.einsum('kc, ilad, lkcd -> ia', T1, T2, Voovv, optimize = 'optimal')\n",
      "newT1 += -2.0*np.einsum('kc, liad, klcd -> ia', T1, T2, Voovv, optimize = 'optimal')\n",
      "newT1 += np.einsum('kc, liad, lkcd -> ia', T1, T2, Voovv, optimize = 'optimal')\n",
      "newT1 += -2.0*np.einsum('ic, lkad, lkcd -> ia', T1, T2, Voovv, optimize = 'optimal')\n",
      "newT1 += np.einsum('ic, lkad, klcd -> ia', T1, T2, Voovv, optimize = 'optimal')\n",
      "newT1 += -2.0*np.einsum('la, ikdc, klcd -> ia', T1, T2, Voovv, optimize = 'optimal')\n",
      "newT1 += np.einsum('la, ikcd, klcd -> ia', T1, T2, Voovv, optimize = 'optimal')\n",
      "newT1 += np.einsum('kc, id, la, lkcd -> ia', T1, T1, T1, Voovv, optimize = 'optimal')\n",
      "newT1 += -2.0*np.einsum('kc, id, la, klcd -> ia', T1, T1, T1, Voovv, optimize = 'optimal')\n",
      "newT1 += 4.0*np.einsum('kc, ilad, klcd -> ia', T1, T2, Voovv, optimize = 'optimal')\n",
      "\n"
     ]
    }
   ],
   "source": [
    "pT1 = process_eq(T1,i,a,name = 'newT1', tensor_labels = mytensors)\n",
    "pT1.write_einsums_out(print_out=True)"
   ]
  },
  {
   "cell_type": "markdown",
   "metadata": {},
   "source": [
    "## Processing $T_1$ amplitude equation"
   ]
  },
  {
   "cell_type": "code",
   "execution_count": 30,
   "metadata": {},
   "outputs": [
    {
     "data": {
      "text/plain": [
       "'f^{k}_{c} t^{c}_{i} t^{ab}_{jk} - f^{k}_{c} t^{c}_{j} t^{ab}_{ik} + f^{k}_{c} t^{a}_{k} t^{bc}_{ij} - f^{k}_{c} t^{b}_{k} t^{ac}_{ij} + f^{k}_{i} t^{ab}_{jk} - f^{k}_{j} t^{ab}_{ik} - f^{a}_{c} t^{bc}_{ij} + f^{b}_{c} t^{ac}_{ij} + t^{c}_{k} t^{d}_{i} t^{ab}_{jl} v^{kl}_{cd} - t^{c}_{k} t^{d}_{j} t^{ab}_{il} v^{kl}_{cd} + t^{c}_{k} t^{a}_{l} t^{bd}_{ij} v^{kl}_{cd} - t^{c}_{k} t^{b}_{l} t^{ad}_{ij} v^{kl}_{cd} - t^{c}_{k} t^{ad}_{ij} v^{bk}_{cd} + t^{c}_{k} t^{ab}_{il} v^{kl}_{jc} - t^{c}_{k} t^{ab}_{jl} v^{kl}_{ic} + t^{c}_{k} t^{bd}_{ij} v^{ak}_{cd} + t^{c}_{i} t^{d}_{j} t^{a}_{k} t^{b}_{l} v^{kl}_{cd} + t^{c}_{i} t^{d}_{j} t^{a}_{k} v^{bk}_{cd} - t^{c}_{i} t^{d}_{j} t^{b}_{k} v^{ak}_{cd} + \\\\frac{t^{c}_{i} t^{d}_{j} t^{ab}_{kl} v^{kl}_{cd}}{2} + t^{c}_{i} t^{d}_{j} v^{ab}_{cd} - t^{c}_{i} t^{a}_{k} t^{b}_{l} v^{kl}_{jc} - t^{c}_{i} t^{a}_{k} t^{bd}_{jl} v^{kl}_{cd} - t^{c}_{i} t^{a}_{k} v^{bk}_{jc} + t^{c}_{i} t^{b}_{k} v^{ak}_{jc} - t^{c}_{i} t^{b}_{l} t^{ad}_{jk} v^{kl}_{cd} - t^{c}_{i} t^{ad}_{jk} v^{bk}_{cd} - \\\\frac{t^{c}_{i} t^{ab}_{kl} v^{kl}_{jc}}{2} + t^{c}_{i} t^{bd}_{jk} v^{ak}_{cd} - t^{c}_{i} v^{ab}_{jc} + t^{c}_{j} t^{a}_{k} t^{b}_{l} v^{kl}_{ic} + t^{c}_{j} t^{a}_{k} t^{bd}_{il} v^{kl}_{cd} + t^{c}_{j} t^{a}_{k} v^{bk}_{ic} - t^{c}_{j} t^{b}_{k} v^{ak}_{ic} + t^{c}_{j} t^{b}_{l} t^{ad}_{ik} v^{kl}_{cd} + t^{c}_{j} t^{ad}_{ik} v^{bk}_{cd} + \\\\frac{t^{c}_{j} t^{ab}_{kl} v^{kl}_{ic}}{2} - t^{c}_{j} t^{bd}_{ik} v^{ak}_{cd} + t^{c}_{j} v^{ab}_{ic} + \\\\frac{t^{a}_{k} t^{b}_{l} t^{cd}_{ij} v^{kl}_{cd}}{2} + t^{a}_{k} t^{b}_{l} v^{kl}_{ij} + \\\\frac{t^{a}_{k} t^{cd}_{ij} v^{bk}_{cd}}{2} + t^{a}_{k} t^{bc}_{il} v^{kl}_{jc} - t^{a}_{k} t^{bc}_{jl} v^{kl}_{ic} + t^{a}_{k} v^{bk}_{ij} - \\\\frac{t^{b}_{k} t^{cd}_{ij} v^{ak}_{cd}}{2} - t^{b}_{k} v^{ak}_{ij} + t^{b}_{l} t^{ac}_{ik} v^{kl}_{jc} - t^{b}_{l} t^{ac}_{jk} v^{kl}_{ic} - \\\\frac{t^{cd}_{ik} t^{ab}_{jl} v^{kl}_{cd}}{2} + \\\\frac{t^{cd}_{ij} t^{ab}_{kl} v^{kl}_{cd}}{4} + \\\\frac{t^{cd}_{ij} v^{ab}_{cd}}{2} + \\\\frac{t^{cd}_{jk} t^{ab}_{il} v^{kl}_{cd}}{2} - \\\\frac{t^{ac}_{kl} t^{bd}_{ij} v^{kl}_{cd}}{2} + t^{ac}_{ik} t^{bd}_{jl} v^{kl}_{cd} + t^{ac}_{ik} v^{bk}_{jc} - \\\\frac{t^{ac}_{ij} t^{bd}_{kl} v^{kl}_{cd}}{2} - t^{ac}_{jk} t^{bd}_{il} v^{kl}_{cd} - t^{ac}_{jk} v^{bk}_{ic} + \\\\frac{t^{ab}_{kl} v^{kl}_{ij}}{2} - t^{bc}_{ik} v^{ak}_{jc} + t^{bc}_{jk} v^{ak}_{ic} + v^{ab}_{ij}'"
      ]
     },
     "execution_count": 30,
     "metadata": {},
     "output_type": "execute_result"
    }
   ],
   "source": [
    "latex(eqT2)"
   ]
  },
  {
   "cell_type": "code",
   "execution_count": 22,
   "metadata": {},
   "outputs": [
    {
     "data": {
      "text/latex": [
       "$\\displaystyle f_{CK}t_{I}^{C}t_{jK}^{Ab}-f_{ck}t_{j}^{c}t_{Ik}^{Ab}+f_{CK}t_{K}^{A}t_{Ij}^{bC}-f_{ck}t_{k}^{b}t_{Ij}^{Ac}+f_{IK}t_{jK}^{Ab}-f_{jk}t_{Ik}^{Ab}-f_{CA}t_{Ij}^{bC}+f_{cb}t_{Ij}^{Ac}+t_{I}^{D}t_{k}^{c}t_{jL}^{Ab}\\langle cD|kL\\rangle+t_{I}^{D}t_{K}^{C}t_{jL}^{Ab}\\langle CD|KL\\rangle-t_{I}^{D}t_{K}^{C}t_{jL}^{Ab}\\langle CD|LK\\rangle-t_{j}^{d}t_{k}^{c}t_{Il}^{Ab}\\langle cd|kl\\rangle+t_{j}^{d}t_{k}^{c}t_{Il}^{Ab}\\langle cd|lk\\rangle-t_{j}^{d}t_{K}^{C}t_{Il}^{Ab}\\langle Cd|Kl\\rangle+t_{L}^{A}t_{k}^{c}t_{Ij}^{bD}\\langle cD|kL\\rangle+t_{L}^{A}t_{K}^{C}t_{Ij}^{bD}\\langle CD|KL\\rangle-t_{L}^{A}t_{K}^{C}t_{Ij}^{bD}\\langle CD|LK\\rangle-t_{l}^{b}t_{k}^{c}t_{Ij}^{Ad}\\langle cd|kl\\rangle+t_{l}^{b}t_{k}^{c}t_{Ij}^{Ad}\\langle cd|lk\\rangle-t_{l}^{b}t_{K}^{C}t_{Ij}^{Ad}\\langle Cd|Kl\\rangle-t_{k}^{c}t_{Ij}^{Ad}\\langle cd|bk\\rangle+t_{k}^{c}t_{Ij}^{Ad}\\langle cd|kb\\rangle+t_{K}^{C}t_{Ij}^{Ad}\\langle Cd|Kb\\rangle+t_{k}^{c}t_{Il}^{Ab}\\langle jc|kl\\rangle-t_{k}^{c}t_{Il}^{Ab}\\langle jc|lk\\rangle-t_{K}^{C}t_{Il}^{Ab}\\langle jC|lK\\rangle+t_{k}^{c}t_{jL}^{Ab}\\langle Ic|Lk\\rangle-t_{K}^{C}t_{jL}^{Ab}\\langle IC|KL\\rangle+t_{K}^{C}t_{jL}^{Ab}\\langle IC|LK\\rangle-t_{k}^{c}t_{Ij}^{bD}\\langle cD|kA\\rangle+t_{K}^{C}t_{Ij}^{bD}\\langle CD|AK\\rangle-t_{K}^{C}t_{Ij}^{bD}\\langle CD|KA\\rangle+t_{j}^{d}t_{I}^{C}t_{K}^{A}t_{l}^{b}\\langle Cd|Kl\\rangle-t_{j}^{d}t_{I}^{C}t_{K}^{A}\\langle Cd|Kb\\rangle-t_{j}^{d}t_{I}^{C}t_{k}^{b}\\langle Cd|Ak\\rangle-0.5t_{j}^{d}t_{I}^{C}t_{kL}^{Ab}\\langle Cd|Lk\\rangle+0.5t_{j}^{d}t_{I}^{C}t_{Kl}^{Ab}\\langle Cd|Kl\\rangle+t_{j}^{d}t_{I}^{C}\\langle Cd|Ab\\rangle+t_{K}^{A}t_{I}^{C}t_{l}^{b}\\langle jC|lK\\rangle-t_{K}^{A}t_{I}^{C}t_{jl}^{bd}\\langle Cd|Kl\\rangle-t_{K}^{A}t_{I}^{C}t_{jL}^{bD}\\langle CD|KL\\rangle+t_{K}^{A}t_{I}^{C}t_{jL}^{bD}\\langle CD|LK\\rangle-t_{K}^{A}t_{I}^{C}\\langle jC|bK\\rangle-t_{k}^{b}t_{I}^{C}\\langle jC|kA\\rangle-t_{l}^{b}t_{I}^{C}t_{jK}^{Ad}\\langle Cd|Kl\\rangle+t_{I}^{C}t_{jK}^{Ad}\\langle Cd|Kb\\rangle-0.5t_{I}^{C}t_{kL}^{Ab}\\langle jC|kL\\rangle+0.5t_{I}^{C}t_{Kl}^{Ab}\\langle jC|lK\\rangle+t_{I}^{C}t_{jk}^{bd}\\langle Cd|Ak\\rangle+t_{I}^{C}t_{jK}^{bD}\\langle CD|AK\\rangle-t_{I}^{C}t_{jK}^{bD}\\langle CD|KA\\rangle+t_{I}^{C}\\langle jC|bA\\rangle+t_{K}^{A}t_{j}^{c}t_{l}^{b}\\langle Ic|Kl\\rangle-t_{K}^{A}t_{j}^{c}t_{Il}^{bD}\\langle cD|lK\\rangle-t_{K}^{A}t_{j}^{c}\\langle Ic|Kb\\rangle-t_{k}^{b}t_{j}^{c}\\langle Ic|Ak\\rangle+t_{l}^{b}t_{j}^{c}t_{Ik}^{Ad}\\langle cd|kl\\rangle-t_{l}^{b}t_{j}^{c}t_{Ik}^{Ad}\\langle cd|lk\\rangle-t_{l}^{b}t_{j}^{c}t_{IK}^{AD}\\langle cD|lK\\rangle+t_{j}^{c}t_{Ik}^{Ad}\\langle cd|bk\\rangle-t_{j}^{c}t_{Ik}^{Ad}\\langle cd|kb\\rangle+t_{j}^{c}t_{IK}^{AD}\\langle cD|bK\\rangle-0.5t_{j}^{c}t_{kL}^{Ab}\\langle Ic|Lk\\rangle+0.5t_{j}^{c}t_{Kl}^{Ab}\\langle Ic|Kl\\rangle+t_{j}^{c}t_{Ik}^{bD}\\langle cD|kA\\rangle+t_{j}^{c}\\langle Ic|Ab\\rangle-0.5t_{l}^{b}t_{K}^{A}t_{Ij}^{cD}\\langle cD|lK\\rangle+0.5t_{l}^{b}t_{K}^{A}t_{Ij}^{Cd}\\langle Cd|Kl\\rangle+t_{l}^{b}t_{K}^{A}\\langle Ij|Kl\\rangle+0.5t_{K}^{A}t_{Ij}^{cD}\\langle cD|bK\\rangle-0.5t_{K}^{A}t_{Ij}^{Cd}\\langle Cd|Kb\\rangle-t_{K}^{A}t_{Il}^{bC}\\langle jC|lK\\rangle-t_{K}^{A}t_{jl}^{bc}\\langle Ic|Kl\\rangle-t_{K}^{A}t_{jL}^{bC}\\langle IC|KL\\rangle+t_{K}^{A}t_{jL}^{bC}\\langle IC|LK\\rangle-t_{K}^{A}\\langle Ij|Kb\\rangle+0.5t_{k}^{b}t_{Ij}^{cD}\\langle cD|kA\\rangle-0.5t_{k}^{b}t_{Ij}^{Cd}\\langle Cd|Ak\\rangle-t_{k}^{b}\\langle Ij|Ak\\rangle+t_{l}^{b}t_{Ik}^{Ac}\\langle jc|kl\\rangle-t_{l}^{b}t_{Ik}^{Ac}\\langle jc|lk\\rangle-t_{l}^{b}t_{IK}^{AC}\\langle jC|lK\\rangle-t_{l}^{b}t_{jK}^{Ac}\\langle Ic|Kl\\rangle-0.5t_{jL}^{Ab}t_{Ik}^{cD}\\langle cD|kL\\rangle+0.5t_{jL}^{Ab}t_{Ik}^{Cd}\\langle Cd|Lk\\rangle-0.5t_{jL}^{Ab}t_{IK}^{CD}\\langle CD|KL\\rangle+0.5t_{jL}^{Ab}t_{IK}^{CD}\\langle CD|LK\\rangle+0.25t_{kL}^{Ab}t_{Ij}^{cD}\\langle cD|kL\\rangle-0.25t_{kL}^{Ab}t_{Ij}^{Cd}\\langle Cd|Lk\\rangle-0.25t_{Kl}^{Ab}t_{Ij}^{cD}\\langle cD|lK\\rangle+0.25t_{Kl}^{Ab}t_{Ij}^{Cd}\\langle Cd|Kl\\rangle+0.5t_{Ij}^{Cd}\\langle Cd|Ab\\rangle-0.5t_{Ij}^{cD}\\langle cD|bA\\rangle+0.5t_{Il}^{Ab}t_{jk}^{cd}\\langle cd|kl\\rangle-0.5t_{Il}^{Ab}t_{jk}^{cd}\\langle cd|lk\\rangle-0.5t_{Il}^{Ab}t_{jK}^{cD}\\langle cD|lK\\rangle+0.5t_{Il}^{Ab}t_{jK}^{Cd}\\langle Cd|Kl\\rangle-0.5t_{Ij}^{bD}t_{kL}^{Ac}\\langle cD|kL\\rangle+0.5t_{Ij}^{bD}t_{Kl}^{Ac}\\langle cD|lK\\rangle-0.5t_{Ij}^{bD}t_{KL}^{AC}\\langle CD|KL\\rangle+0.5t_{Ij}^{bD}t_{KL}^{AC}\\langle CD|LK\\rangle+t_{jl}^{bd}t_{Ik}^{Ac}\\langle cd|kl\\rangle-t_{jl}^{bd}t_{Ik}^{Ac}\\langle cd|lk\\rangle+t_{jl}^{bd}t_{IK}^{AC}\\langle Cd|Kl\\rangle+t_{jL}^{bD}t_{Ik}^{Ac}\\langle cD|kL\\rangle+t_{jL}^{bD}t_{IK}^{AC}\\langle CD|KL\\rangle-t_{jL}^{bD}t_{IK}^{AC}\\langle CD|LK\\rangle+t_{Ik}^{Ac}\\langle jc|bk\\rangle+t_{IK}^{AC}\\langle jC|bK\\rangle-t_{Ik}^{Ac}\\langle jc|kb\\rangle-0.5t_{kl}^{bd}t_{Ij}^{Ac}\\langle cd|kl\\rangle+0.5t_{kl}^{bd}t_{Ij}^{Ac}\\langle cd|lk\\rangle-0.5t_{kL}^{bD}t_{Ij}^{Ac}\\langle cD|kL\\rangle+0.5t_{Kl}^{bD}t_{Ij}^{Ac}\\langle cD|lK\\rangle+t_{Il}^{bD}t_{jK}^{Ac}\\langle cD|lK\\rangle+t_{jK}^{Ac}\\langle Ic|Kb\\rangle+0.5t_{Kl}^{Ab}\\langle Ij|Kl\\rangle-0.5t_{kL}^{Ab}\\langle Ij|Lk\\rangle+t_{Ik}^{bC}\\langle jC|kA\\rangle+t_{jk}^{bc}\\langle Ic|Ak\\rangle+t_{jK}^{bC}\\langle IC|AK\\rangle-t_{jK}^{bC}\\langle IC|KA\\rangle+\\langle Ij|Ab\\rangle-\\langle Ij|bA\\rangle$"
      ],
      "text/plain": [
       "<IPython.core.display.Math object>"
      ]
     },
     "metadata": {},
     "output_type": "display_data"
    }
   ],
   "source": [
    "T2 = eqfromlatex(latex(eqT2), index_key)\n",
    "platex(T2)"
   ]
  },
  {
   "cell_type": "markdown",
   "metadata": {},
   "source": [
    "<font size=3>$\\bullet$ Simplify"
   ]
  },
  {
   "cell_type": "code",
   "execution_count": 23,
   "metadata": {
    "scrolled": true
   },
   "outputs": [
    {
     "data": {
      "text/latex": [
       "$\\displaystyle \\langle IJ|AB\\rangle-f_{IK}t_{Kj}^{Ab}-f_{JK}t_{Ik}^{Ab}+f_{CA}t_{Ij}^{Cb}+f_{CB}t_{Ij}^{Ac}-t_{K}^{B}\\langle JI|KA\\rangle-t_{K}^{A}\\langle IJ|KB\\rangle+t_{J}^{C}\\langle IC|AB\\rangle+t_{I}^{C}\\langle JC|BA\\rangle-f_{KC}t_{I}^{C}t_{Kj}^{Ab}-f_{KC}t_{K}^{A}t_{Ij}^{Cb}-f_{KC}t_{K}^{B}t_{Ij}^{Ac}-f_{KC}t_{J}^{C}t_{Ik}^{Ab}-t_{Ki}^{Ac}\\langle KJ|CB\\rangle+t_{I}^{C}t_{J}^{D}\\langle CD|AB\\rangle-t_{I}^{C}t_{K}^{A}\\langle KJ|CB\\rangle+t_{Ij}^{Cd}\\langle CD|AB\\rangle-t_{I}^{C}t_{K}^{B}\\langle JC|KA\\rangle+2.0t_{Ik}^{Ac}\\langle KJ|CB\\rangle+t_{K}^{A}t_{L}^{B}\\langle IJ|KL\\rangle-t_{Ik}^{Ac}\\langle JC|KB\\rangle-t_{J}^{C}t_{K}^{B}\\langle KI|CA\\rangle-t_{J}^{C}t_{K}^{A}\\langle IC|KB\\rangle-t_{Kj}^{Ac}\\langle IC|KB\\rangle+t_{Kl}^{Ab}\\langle IJ|KL\\rangle-t_{Ik}^{Cb}\\langle JC|KA\\rangle-t_{Kj}^{Bc}\\langle KI|CA\\rangle+2.0t_{Jk}^{Bc}\\langle KI|CA\\rangle-t_{Kj}^{Cb}\\langle IC|KA\\rangle-2.0t_{L}^{B}t_{Ik}^{Ac}\\langle LK|JC\\rangle+t_{L}^{B}t_{Ki}^{Ac}\\langle LK|JC\\rangle-t_{J}^{C}t_{Ik}^{Db}\\langle KA|CD\\rangle-t_{J}^{C}t_{Ki}^{Ad}\\langle KB|DC\\rangle-t_{J}^{C}t_{Ik}^{Ad}\\langle KB|CD\\rangle+t_{J}^{C}t_{Lk}^{Ab}\\langle LK|IC\\rangle+t_{L}^{B}t_{Ik}^{Ac}\\langle KL|JC\\rangle-t_{K}^{A}t_{Ij}^{Dc}\\langle KB|DC\\rangle+t_{K}^{A}t_{Il}^{Cb}\\langle LK|JC\\rangle+t_{K}^{A}t_{Lj}^{Bc}\\langle KL|IC\\rangle-2.0t_{K}^{A}t_{Jl}^{Bc}\\langle KL|IC\\rangle+t_{K}^{A}t_{Lj}^{Cb}\\langle LK|IC\\rangle+2.0t_{J}^{C}t_{Ik}^{Ad}\\langle KB|DC\\rangle+t_{L}^{B}t_{Kj}^{Ac}\\langle KL|IC\\rangle-t_{I}^{C}t_{Kj}^{Ad}\\langle KB|CD\\rangle-t_{I}^{C}t_{Kj}^{Db}\\langle KA|CD\\rangle-t_{K}^{C}t_{Ij}^{Ad}\\langle KB|DC\\rangle+2.0t_{K}^{C}t_{Ij}^{Ad}\\langle KB|CD\\rangle+t_{K}^{C}t_{Il}^{Ab}\\langle KL|JC\\rangle-2.0t_{K}^{C}t_{Il}^{Ab}\\langle LK|JC\\rangle-2.0t_{K}^{C}t_{Lj}^{Ab}\\langle LK|IC\\rangle+t_{K}^{C}t_{Lj}^{Ab}\\langle KL|IC\\rangle+2.0t_{K}^{C}t_{Ij}^{Db}\\langle KA|CD\\rangle-t_{K}^{C}t_{Ij}^{Db}\\langle KA|DC\\rangle-t_{K}^{B}t_{Ij}^{Dc}\\langle KA|CD\\rangle-t_{I}^{C}t_{J}^{D}t_{K}^{A}\\langle KB|CD\\rangle-t_{I}^{C}t_{J}^{D}t_{K}^{B}\\langle KA|DC\\rangle+t_{I}^{C}t_{K}^{A}t_{L}^{B}\\langle LK|JC\\rangle+t_{I}^{C}t_{Lk}^{Ab}\\langle KL|JC\\rangle-t_{I}^{C}t_{Kj}^{Bd}\\langle KA|DC\\rangle+2.0t_{I}^{C}t_{Jk}^{Bd}\\langle KA|DC\\rangle+t_{J}^{C}t_{K}^{A}t_{L}^{B}\\langle KL|IC\\rangle+t_{Kl}^{Ac}t_{Ij}^{Db}\\langle KL|CD\\rangle-2.0t_{Ik}^{Ac}t_{Lj}^{Bd}\\langle KL|CD\\rangle-2.0t_{Lk}^{Ac}t_{Ij}^{Db}\\langle KL|CD\\rangle+t_{Ki}^{Ac}t_{Lj}^{Db}\\langle LK|CD\\rangle+t_{Ik}^{Ac}t_{Lj}^{Bd}\\langle LK|CD\\rangle-2.0t_{Ik}^{Ac}t_{Jl}^{Bd}\\langle LK|CD\\rangle+t_{Ki}^{Ac}t_{Lj}^{Bd}\\langle KL|CD\\rangle-2.0t_{Ki}^{Ac}t_{Jl}^{Bd}\\langle KL|CD\\rangle+t_{Ij}^{Ac}t_{Lk}^{Bd}\\langle KL|CD\\rangle-2.0t_{Ij}^{Ac}t_{Kl}^{Bd}\\langle KL|CD\\rangle+t_{Kj}^{Ac}t_{Il}^{Db}\\langle LK|CD\\rangle+4.0t_{Ik}^{Ac}t_{Jl}^{Bd}\\langle KL|CD\\rangle+t_{Jk}^{Cd}t_{Il}^{Ab}\\langle KL|CD\\rangle-2.0t_{K}^{C}t_{J}^{D}t_{Il}^{Ab}\\langle KL|CD\\rangle+t_{Ij}^{Dc}t_{Lk}^{Ab}\\langle KL|CD\\rangle+t_{K}^{C}t_{J}^{D}t_{Il}^{Ab}\\langle LK|CD\\rangle-2.0t_{K}^{C}t_{L}^{A}t_{Ij}^{Db}\\langle KL|CD\\rangle+t_{K}^{C}t_{L}^{A}t_{Ij}^{Db}\\langle LK|CD\\rangle-2.0t_{K}^{C}t_{L}^{B}t_{Ij}^{Ad}\\langle KL|CD\\rangle+t_{K}^{C}t_{L}^{B}t_{Ij}^{Ad}\\langle LK|CD\\rangle+t_{I}^{C}t_{J}^{D}t_{K}^{A}t_{L}^{B}\\langle KL|CD\\rangle+t_{I}^{C}t_{J}^{D}t_{Lk}^{Ab}\\langle LK|CD\\rangle+t_{I}^{C}t_{K}^{A}t_{Lj}^{Bd}\\langle KL|CD\\rangle-2.0t_{I}^{C}t_{K}^{A}t_{Jl}^{Bd}\\langle KL|CD\\rangle+t_{I}^{C}t_{K}^{A}t_{Lj}^{Db}\\langle LK|CD\\rangle+t_{I}^{C}t_{L}^{B}t_{Kj}^{Ad}\\langle KL|CD\\rangle-2.0t_{K}^{C}t_{I}^{D}t_{Lj}^{Ab}\\langle KL|CD\\rangle+t_{J}^{C}t_{K}^{A}t_{Il}^{Db}\\langle LK|CD\\rangle+t_{J}^{C}t_{L}^{B}t_{Ik}^{Ad}\\langle KL|CD\\rangle-2.0t_{J}^{C}t_{L}^{B}t_{Ik}^{Ad}\\langle LK|CD\\rangle+t_{K}^{C}t_{I}^{D}t_{Lj}^{Ab}\\langle LK|CD\\rangle+t_{K}^{A}t_{L}^{B}t_{Ij}^{Dc}\\langle LK|CD\\rangle-2.0t_{Ik}^{Dc}t_{Lj}^{Ab}\\langle KL|CD\\rangle+t_{Ik}^{Cd}t_{Lj}^{Ab}\\langle KL|CD\\rangle-2.0t_{Kj}^{Cd}t_{Il}^{Ab}\\langle KL|CD\\rangle+t_{J}^{C}t_{L}^{B}t_{Ki}^{Ad}\\langle LK|CD\\rangle$"
      ],
      "text/plain": [
       "<IPython.core.display.Math object>"
      ]
     },
     "metadata": {},
     "output_type": "display_data"
    }
   ],
   "source": [
    "T2 = T2.simplify()\n",
    "T2 = T2.adapt_space()\n",
    "T2.sort()\n",
    "platex(T2)"
   ]
  },
  {
   "cell_type": "markdown",
   "metadata": {},
   "source": [
    "<font size=3> $\\bullet$ For RHF equations some terms are permutations of another. The object Permutation offers a method to search for such symmetries. Let's look for a permutation $P_+(ij)P_+(ab)$, note that"
   ]
  },
  {
   "cell_type": "markdown",
   "metadata": {},
   "source": [
    "<center> <font size=3> $P_+(ij)A_{ij} = A_{ij} + A_{ji}$"
   ]
  },
  {
   "cell_type": "code",
   "execution_count": 24,
   "metadata": {},
   "outputs": [
    {
     "data": {
      "text/latex": [
       "$\\displaystyle \\langle IJ|AB\\rangle+t_{I}^{C}t_{J}^{D}\\langle CD|AB\\rangle+t_{Ij}^{Cd}\\langle CD|AB\\rangle+t_{K}^{A}t_{L}^{B}\\langle IJ|KL\\rangle+t_{Kl}^{Ab}\\langle IJ|KL\\rangle-t_{I}^{C}t_{J}^{D}t_{K}^{A}\\langle KB|CD\\rangle-t_{I}^{C}t_{J}^{D}t_{K}^{B}\\langle KA|DC\\rangle+t_{I}^{C}t_{K}^{A}t_{L}^{B}\\langle LK|JC\\rangle+t_{J}^{C}t_{K}^{A}t_{L}^{B}\\langle KL|IC\\rangle+t_{Kl}^{Ac}t_{Ij}^{Db}\\langle KL|CD\\rangle-2.0t_{Ik}^{Ac}t_{Lj}^{Bd}\\langle KL|CD\\rangle-2.0t_{Lk}^{Ac}t_{Ij}^{Db}\\langle KL|CD\\rangle+t_{Ki}^{Ac}t_{Lj}^{Db}\\langle LK|CD\\rangle+t_{Ik}^{Ac}t_{Lj}^{Bd}\\langle LK|CD\\rangle-2.0t_{Ik}^{Ac}t_{Jl}^{Bd}\\langle LK|CD\\rangle+t_{Ki}^{Ac}t_{Lj}^{Bd}\\langle KL|CD\\rangle-2.0t_{Ki}^{Ac}t_{Jl}^{Bd}\\langle KL|CD\\rangle+t_{Ij}^{Ac}t_{Lk}^{Bd}\\langle KL|CD\\rangle-2.0t_{Ij}^{Ac}t_{Kl}^{Bd}\\langle KL|CD\\rangle+t_{Kj}^{Ac}t_{Il}^{Db}\\langle LK|CD\\rangle+4.0t_{Ik}^{Ac}t_{Jl}^{Bd}\\langle KL|CD\\rangle+t_{Ij}^{Dc}t_{Lk}^{Ab}\\langle KL|CD\\rangle+t_{I}^{C}t_{J}^{D}t_{K}^{A}t_{L}^{B}\\langle KL|CD\\rangle+t_{I}^{C}t_{J}^{D}t_{Lk}^{Ab}\\langle LK|CD\\rangle+t_{K}^{A}t_{L}^{B}t_{Ij}^{Dc}\\langle LK|CD\\rangle+P^+_{Ij}P^+_{Ab}\\left\\{-f_{IK}t_{Kj}^{Ab}+f_{CA}t_{Ij}^{Cb}-t_{K}^{B}\\langle JI|KA\\rangle+t_{J}^{C}\\langle IC|AB\\rangle-f_{KC}t_{I}^{C}t_{Kj}^{Ab}-f_{KC}t_{K}^{A}t_{Ij}^{Cb}-t_{Ki}^{Ac}\\langle KJ|CB\\rangle-t_{I}^{C}t_{K}^{A}\\langle KJ|CB\\rangle-t_{I}^{C}t_{K}^{B}\\langle JC|KA\\rangle+2.0t_{Ik}^{Ac}\\langle KJ|CB\\rangle-t_{Ik}^{Ac}\\langle JC|KB\\rangle-t_{Kj}^{Ac}\\langle IC|KB\\rangle-2.0t_{L}^{B}t_{Ik}^{Ac}\\langle LK|JC\\rangle+t_{L}^{B}t_{Ki}^{Ac}\\langle LK|JC\\rangle-t_{J}^{C}t_{Ik}^{Db}\\langle KA|CD\\rangle-t_{J}^{C}t_{Ki}^{Ad}\\langle KB|DC\\rangle-t_{J}^{C}t_{Ik}^{Ad}\\langle KB|CD\\rangle+t_{J}^{C}t_{Lk}^{Ab}\\langle LK|IC\\rangle+t_{L}^{B}t_{Ik}^{Ac}\\langle KL|JC\\rangle-t_{K}^{A}t_{Ij}^{Dc}\\langle KB|DC\\rangle+t_{K}^{A}t_{Il}^{Cb}\\langle LK|JC\\rangle+2.0t_{J}^{C}t_{Ik}^{Ad}\\langle KB|DC\\rangle-t_{K}^{C}t_{Ij}^{Ad}\\langle KB|DC\\rangle+2.0t_{K}^{C}t_{Ij}^{Ad}\\langle KB|CD\\rangle+t_{K}^{C}t_{Il}^{Ab}\\langle KL|JC\\rangle-2.0t_{K}^{C}t_{Il}^{Ab}\\langle LK|JC\\rangle+t_{Jk}^{Cd}t_{Il}^{Ab}\\langle KL|CD\\rangle-2.0t_{K}^{C}t_{J}^{D}t_{Il}^{Ab}\\langle KL|CD\\rangle+t_{K}^{C}t_{J}^{D}t_{Il}^{Ab}\\langle LK|CD\\rangle-2.0t_{K}^{C}t_{L}^{A}t_{Ij}^{Db}\\langle KL|CD\\rangle+t_{K}^{C}t_{L}^{A}t_{Ij}^{Db}\\langle LK|CD\\rangle+t_{I}^{C}t_{K}^{A}t_{Lj}^{Bd}\\langle KL|CD\\rangle-2.0t_{I}^{C}t_{K}^{A}t_{Jl}^{Bd}\\langle KL|CD\\rangle+t_{I}^{C}t_{K}^{A}t_{Lj}^{Db}\\langle LK|CD\\rangle+t_{I}^{C}t_{L}^{B}t_{Kj}^{Ad}\\langle KL|CD\\rangle-2.0t_{Ik}^{Dc}t_{Lj}^{Ab}\\langle KL|CD\\rangle\\right\\}$"
      ],
      "text/plain": [
       "<IPython.core.display.Math object>"
      ]
     },
     "metadata": {},
     "output_type": "display_data"
    }
   ],
   "source": [
    "T2 = Permutation.find_permutations(T2, (i,j), (a,b))\n",
    "platex(T2)"
   ]
  },
  {
   "cell_type": "code",
   "execution_count": 25,
   "metadata": {
    "scrolled": true
   },
   "outputs": [
    {
     "name": "stdout",
     "output_type": "stream",
     "text": [
      "newT2 += Voovv\n",
      "newT2 += np.einsum('ic, jd, cdab -> ijab', T1, T1, Vvvvv, optimize = 'optimal')\n",
      "newT2 += np.einsum('ijcd, cdab -> ijab', T2, Vvvvv, optimize = 'optimal')\n",
      "newT2 += np.einsum('ka, lb, ijkl -> ijab', T1, T1, Voooo, optimize = 'optimal')\n",
      "newT2 += np.einsum('klab, ijkl -> ijab', T2, Voooo, optimize = 'optimal')\n",
      "newT2 -= np.einsum('ic, jd, ka, kbcd -> ijab', T1, T1, T1, Vovvv, optimize = 'optimal')\n",
      "newT2 -= np.einsum('ic, jd, kb, kadc -> ijab', T1, T1, T1, Vovvv, optimize = 'optimal')\n",
      "newT2 += np.einsum('ic, ka, lb, lkjc -> ijab', T1, T1, T1, Vooov, optimize = 'optimal')\n",
      "newT2 += np.einsum('jc, ka, lb, klic -> ijab', T1, T1, T1, Vooov, optimize = 'optimal')\n",
      "newT2 += np.einsum('klac, ijdb, klcd -> ijab', T2, T2, Voovv, optimize = 'optimal')\n",
      "newT2 += -2.0*np.einsum('ikac, ljbd, klcd -> ijab', T2, T2, Voovv, optimize = 'optimal')\n",
      "newT2 += -2.0*np.einsum('lkac, ijdb, klcd -> ijab', T2, T2, Voovv, optimize = 'optimal')\n",
      "newT2 += np.einsum('kiac, ljdb, lkcd -> ijab', T2, T2, Voovv, optimize = 'optimal')\n",
      "newT2 += np.einsum('ikac, ljbd, lkcd -> ijab', T2, T2, Voovv, optimize = 'optimal')\n",
      "newT2 += -2.0*np.einsum('ikac, jlbd, lkcd -> ijab', T2, T2, Voovv, optimize = 'optimal')\n",
      "newT2 += np.einsum('kiac, ljbd, klcd -> ijab', T2, T2, Voovv, optimize = 'optimal')\n",
      "newT2 += -2.0*np.einsum('kiac, jlbd, klcd -> ijab', T2, T2, Voovv, optimize = 'optimal')\n",
      "newT2 += np.einsum('ijac, lkbd, klcd -> ijab', T2, T2, Voovv, optimize = 'optimal')\n",
      "newT2 += -2.0*np.einsum('ijac, klbd, klcd -> ijab', T2, T2, Voovv, optimize = 'optimal')\n",
      "newT2 += np.einsum('kjac, ildb, lkcd -> ijab', T2, T2, Voovv, optimize = 'optimal')\n",
      "newT2 += 4.0*np.einsum('ikac, jlbd, klcd -> ijab', T2, T2, Voovv, optimize = 'optimal')\n",
      "newT2 += np.einsum('ijdc, lkab, klcd -> ijab', T2, T2, Voovv, optimize = 'optimal')\n",
      "newT2 += np.einsum('ic, jd, ka, lb, klcd -> ijab', T1, T1, T1, T1, Voovv, optimize = 'optimal')\n",
      "newT2 += np.einsum('ic, jd, lkab, lkcd -> ijab', T1, T1, T2, Voovv, optimize = 'optimal')\n",
      "newT2 += np.einsum('ka, lb, ijdc, lkcd -> ijab', T1, T1, T2, Voovv, optimize = 'optimal')\n",
      "P_OVVO = -1.0*np.einsum('ik, kjab -> ijab', fock_OO, T2, optimize = 'optimal')\n",
      "P_OVVO += 1.0*np.einsum('ca, ijcb -> ijab', fock_VV, T2, optimize = 'optimal')\n",
      "P_OVVO += -1.0*np.einsum('kb, jika -> ijab', T1, Vooov, optimize = 'optimal')\n",
      "P_OVVO += 1.0*np.einsum('jc, icab -> ijab', T1, Vovvv, optimize = 'optimal')\n",
      "P_OVVO += -1.0*np.einsum('kc, ic, kjab -> ijab', fock_OV, T1, T2, optimize = 'optimal')\n",
      "P_OVVO += -1.0*np.einsum('kc, ka, ijcb -> ijab', fock_OV, T1, T2, optimize = 'optimal')\n",
      "P_OVVO += -1.0*np.einsum('kiac, kjcb -> ijab', T2, Voovv, optimize = 'optimal')\n",
      "P_OVVO += -1.0*np.einsum('ic, ka, kjcb -> ijab', T1, T1, Voovv, optimize = 'optimal')\n",
      "P_OVVO += -1.0*np.einsum('ic, kb, jcka -> ijab', T1, T1, Vovov, optimize = 'optimal')\n",
      "P_OVVO += 2.0*np.einsum('ikac, kjcb -> ijab', T2, Voovv, optimize = 'optimal')\n",
      "P_OVVO += -1.0*np.einsum('ikac, jckb -> ijab', T2, Vovov, optimize = 'optimal')\n",
      "P_OVVO += -1.0*np.einsum('kjac, ickb -> ijab', T2, Vovov, optimize = 'optimal')\n",
      "P_OVVO += -2.0*np.einsum('lb, ikac, lkjc -> ijab', T1, T2, Vooov, optimize = 'optimal')\n",
      "P_OVVO += 1.0*np.einsum('lb, kiac, lkjc -> ijab', T1, T2, Vooov, optimize = 'optimal')\n",
      "P_OVVO += -1.0*np.einsum('jc, ikdb, kacd -> ijab', T1, T2, Vovvv, optimize = 'optimal')\n",
      "P_OVVO += -1.0*np.einsum('jc, kiad, kbdc -> ijab', T1, T2, Vovvv, optimize = 'optimal')\n",
      "P_OVVO += -1.0*np.einsum('jc, ikad, kbcd -> ijab', T1, T2, Vovvv, optimize = 'optimal')\n",
      "P_OVVO += 1.0*np.einsum('jc, lkab, lkic -> ijab', T1, T2, Vooov, optimize = 'optimal')\n",
      "P_OVVO += 1.0*np.einsum('lb, ikac, kljc -> ijab', T1, T2, Vooov, optimize = 'optimal')\n",
      "P_OVVO += -1.0*np.einsum('ka, ijdc, kbdc -> ijab', T1, T2, Vovvv, optimize = 'optimal')\n",
      "P_OVVO += 1.0*np.einsum('ka, ilcb, lkjc -> ijab', T1, T2, Vooov, optimize = 'optimal')\n",
      "P_OVVO += 2.0*np.einsum('jc, ikad, kbdc -> ijab', T1, T2, Vovvv, optimize = 'optimal')\n",
      "P_OVVO += -1.0*np.einsum('kc, ijad, kbdc -> ijab', T1, T2, Vovvv, optimize = 'optimal')\n",
      "P_OVVO += 2.0*np.einsum('kc, ijad, kbcd -> ijab', T1, T2, Vovvv, optimize = 'optimal')\n",
      "P_OVVO += 1.0*np.einsum('kc, ilab, kljc -> ijab', T1, T2, Vooov, optimize = 'optimal')\n",
      "P_OVVO += -2.0*np.einsum('kc, ilab, lkjc -> ijab', T1, T2, Vooov, optimize = 'optimal')\n",
      "P_OVVO += 1.0*np.einsum('jkcd, ilab, klcd -> ijab', T2, T2, Voovv, optimize = 'optimal')\n",
      "P_OVVO += -2.0*np.einsum('kc, jd, ilab, klcd -> ijab', T1, T1, T2, Voovv, optimize = 'optimal')\n",
      "P_OVVO += 1.0*np.einsum('kc, jd, ilab, lkcd -> ijab', T1, T1, T2, Voovv, optimize = 'optimal')\n",
      "P_OVVO += -2.0*np.einsum('kc, la, ijdb, klcd -> ijab', T1, T1, T2, Voovv, optimize = 'optimal')\n",
      "P_OVVO += 1.0*np.einsum('kc, la, ijdb, lkcd -> ijab', T1, T1, T2, Voovv, optimize = 'optimal')\n",
      "P_OVVO += 1.0*np.einsum('ic, ka, ljbd, klcd -> ijab', T1, T1, T2, Voovv, optimize = 'optimal')\n",
      "P_OVVO += -2.0*np.einsum('ic, ka, jlbd, klcd -> ijab', T1, T1, T2, Voovv, optimize = 'optimal')\n",
      "P_OVVO += 1.0*np.einsum('ic, ka, ljdb, lkcd -> ijab', T1, T1, T2, Voovv, optimize = 'optimal')\n",
      "P_OVVO += 1.0*np.einsum('ic, lb, kjad, klcd -> ijab', T1, T1, T2, Voovv, optimize = 'optimal')\n",
      "P_OVVO += -2.0*np.einsum('ikdc, ljab, klcd -> ijab', T2, T2, Voovv, optimize = 'optimal')\n",
      "\n",
      "newT2 += P_OVVO + P_OVVO.transpose(1,0,3,2)\n",
      "\n"
     ]
    }
   ],
   "source": [
    "pT2 = process_eq(T2,i,j,a,b, name = 'newT2', tensor_labels = mytensors)\n",
    "pT2.write_einsums_out(print_out=True)"
   ]
  },
  {
   "cell_type": "markdown",
   "metadata": {},
   "source": [
    "## The equations above can be coded into a CC program. See the RCCSD.py file for a complete code"
   ]
  }
 ],
 "metadata": {
  "kernelspec": {
   "display_name": "Python 3",
   "language": "python",
   "name": "python3"
  },
  "language_info": {
   "codemirror_mode": {
    "name": "ipython",
    "version": 3
   },
   "file_extension": ".py",
   "mimetype": "text/x-python",
   "name": "python",
   "nbconvert_exporter": "python",
   "pygments_lexer": "ipython3",
   "version": "3.6.9"
  }
 },
 "nbformat": 4,
 "nbformat_minor": 2
}
