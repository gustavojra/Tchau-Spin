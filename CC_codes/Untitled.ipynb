{
 "cells": [
  {
   "cell_type": "markdown",
   "metadata": {},
   "source": [
    "### Testing simplify"
   ]
  },
  {
   "cell_type": "code",
   "execution_count": 1,
   "metadata": {},
   "outputs": [],
   "source": [
    "import sys\n",
    "sys.path.append('..')\n",
    "from tchau_spin import *\n",
    "# For restricted CC\n",
    "Tensor.rhf = True\n",
    "import time"
   ]
  },
  {
   "cell_type": "code",
   "execution_count": 2,
   "metadata": {},
   "outputs": [],
   "source": [
    "eq = '\\\\frac{t^{cd}_{kl} v^{kl}_{cd}}{4}'"
   ]
  },
  {
   "cell_type": "code",
   "execution_count": 3,
   "metadata": {},
   "outputs": [],
   "source": [
    "i,j,a,b = Index.new('ijab', 'abab', 'hhpp')\n",
    "k,l,c,d = Index.new('klcd', 'xxxx', 'hhpp')\n",
    "index_key = {'i':i,\n",
    "             'j':j,\n",
    "             'a':a,\n",
    "             'b':b,\n",
    "             'k':k,\n",
    "             'l':l,\n",
    "             'c':c,\n",
    "             'd':d\n",
    "}"
   ]
  },
  {
   "cell_type": "code",
   "execution_count": 4,
   "metadata": {},
   "outputs": [
    {
     "data": {
      "text/latex": [
       "$\\displaystyle 0.25t_{kl}^{cd}\\langle cd|kl\\rangle+0.25t_{kL}^{cD}\\langle cD|kL\\rangle+0.25t_{Kl}^{Cd}\\langle Cd|Kl\\rangle+0.25t_{KL}^{CD}\\langle CD|KL\\rangle-0.25t_{kl}^{cd}\\langle cd|lk\\rangle-0.25t_{kL}^{Cd}\\langle Cd|Lk\\rangle-0.25t_{Kl}^{cD}\\langle cD|lK\\rangle-0.25t_{KL}^{CD}\\langle CD|LK\\rangle$"
      ],
      "text/plain": [
       "<IPython.core.display.Math object>"
      ]
     },
     "metadata": {},
     "output_type": "display_data"
    }
   ],
   "source": [
    "T = eqfromlatex(eq, index_key)\n",
    "platex(T)"
   ]
  },
  {
   "cell_type": "code",
   "execution_count": 5,
   "metadata": {},
   "outputs": [
    {
     "name": "stdout",
     "output_type": "stream",
     "text": [
      "Expanding equation...\n",
      "Adapting Spin...\n",
      "Summing up equivalent terms...\n",
      "Progress 0.0%\n",
      "Progress 8.3%\n",
      "Progress 16.7%\n",
      "Progress 25.0%\n",
      "Progress 33.3%\n",
      "Progress 41.7%\n",
      "Progress 50.0%\n",
      "Progress 58.3%\n",
      "Progress 66.7%\n",
      "Progress 75.0%\n",
      "Progress 83.3%\n",
      "Progress 91.7%\n",
      "Cleaning up zeros\n",
      "0.4529759883880615\n"
     ]
    }
   ],
   "source": [
    "t0 = time.time()\n",
    "T = T.simplify(show_progress=True)\n",
    "print(time.time()-t0)\n",
    "T = T.adapt_space()"
   ]
  },
  {
   "cell_type": "code",
   "execution_count": 6,
   "metadata": {},
   "outputs": [
    {
     "data": {
      "text/latex": [
       "$\\displaystyle -t_{Lk}^{Cd}\\langle KL|CD\\rangle+2.0t_{Kl}^{Cd}\\langle KL|CD\\rangle$"
      ],
      "text/plain": [
       "<IPython.core.display.Math object>"
      ]
     },
     "metadata": {},
     "output_type": "display_data"
    }
   ],
   "source": [
    "platex(T)"
   ]
  },
  {
   "cell_type": "code",
   "execution_count": null,
   "metadata": {},
   "outputs": [],
   "source": []
  }
 ],
 "metadata": {
  "kernelspec": {
   "display_name": "Python 3",
   "language": "python",
   "name": "python3"
  },
  "language_info": {
   "codemirror_mode": {
    "name": "ipython",
    "version": 3
   },
   "file_extension": ".py",
   "mimetype": "text/x-python",
   "name": "python",
   "nbconvert_exporter": "python",
   "pygments_lexer": "ipython3",
   "version": "3.6.9"
  }
 },
 "nbformat": 4,
 "nbformat_minor": 2
}
