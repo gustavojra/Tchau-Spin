{
 "cells": [
  {
   "cell_type": "markdown",
   "metadata": {},
   "source": [
    "### Testing simplify"
   ]
  },
  {
   "cell_type": "code",
   "execution_count": 1,
   "metadata": {},
   "outputs": [],
   "source": [
    "import sys\n",
    "sys.path.append('..')\n",
    "from tchau_spin import *\n",
    "# For restricted CC\n",
    "Tensor.rhf = True\n",
    "import time"
   ]
  },
  {
   "cell_type": "code",
   "execution_count": 2,
   "metadata": {},
   "outputs": [],
   "source": [
    "eq = 'f^{k}_{i} t^{ab}_{jk} - f^{k}_{j} t^{ab}_{ik} - f^{a}_{c} t^{bc}_{ij} + f^{b}_{c} t^{ac}_{ij} - \\\\frac{t^{cd}_{ik} t^{ab}_{jl} v^{kl}_{cd}}{2} + \\\\frac{t^{cd}_{ij} t^{ab}_{kl} v^{kl}_{cd}}{4} + \\\\frac{t^{cd}_{ij} v^{ab}_{cd}}{2} + \\\\frac{t^{cd}_{jk} t^{ab}_{il} v^{kl}_{cd}}{2} - \\\\frac{t^{ac}_{kl} t^{bd}_{ij} v^{kl}_{cd}}{2} + t^{ac}_{ik} t^{bd}_{jl} v^{kl}_{cd} + t^{ac}_{ik} v^{bk}_{jc} - \\\\frac{t^{ac}_{ij} t^{bd}_{kl} v^{kl}_{cd}}{2} - t^{ac}_{jk} t^{bd}_{il} v^{kl}_{cd} - t^{ac}_{jk} v^{bk}_{ic} + \\\\frac{t^{ab}_{kl} v^{kl}_{ij}}{2} - t^{bc}_{ik} v^{ak}_{jc} + t^{bc}_{jk} v^{ak}_{ic} + v^{ab}_{ij}'"
   ]
  },
  {
   "cell_type": "code",
   "execution_count": 3,
   "metadata": {},
   "outputs": [],
   "source": [
    "i,j,a,b = Index.new('ijab', 'abab', 'hhpp')\n",
    "k,l,c,d = Index.new('klcd', 'xxxx', 'hhpp')\n",
    "index_key = {'i':i,\n",
    "             'j':j,\n",
    "             'a':a,\n",
    "             'b':b,\n",
    "             'k':k,\n",
    "             'l':l,\n",
    "             'c':c,\n",
    "             'd':d\n",
    "}"
   ]
  },
  {
   "cell_type": "code",
   "execution_count": 4,
   "metadata": {},
   "outputs": [
    {
     "data": {
      "text/latex": [
       "$\\displaystyle f_{IK}t_{jK}^{Ab}-f_{jk}t_{Ik}^{Ab}-f_{CA}t_{Ij}^{bC}+f_{cb}t_{Ij}^{Ac}-0.5t_{jL}^{Ab}t_{Ik}^{cD}\\langle cD|kL\\rangle+0.5t_{jL}^{Ab}t_{Ik}^{Cd}\\langle Cd|Lk\\rangle-0.5t_{jL}^{Ab}t_{IK}^{CD}\\langle CD|KL\\rangle+0.5t_{jL}^{Ab}t_{IK}^{CD}\\langle CD|LK\\rangle+0.25t_{kL}^{Ab}t_{Ij}^{cD}\\langle cD|kL\\rangle-0.25t_{kL}^{Ab}t_{Ij}^{Cd}\\langle Cd|Lk\\rangle-0.25t_{Kl}^{Ab}t_{Ij}^{cD}\\langle cD|lK\\rangle+0.25t_{Kl}^{Ab}t_{Ij}^{Cd}\\langle Cd|Kl\\rangle+0.5t_{Ij}^{Cd}\\langle Cd|Ab\\rangle-0.5t_{Ij}^{cD}\\langle cD|bA\\rangle+0.5t_{Il}^{Ab}t_{jk}^{cd}\\langle cd|kl\\rangle-0.5t_{Il}^{Ab}t_{jk}^{cd}\\langle cd|lk\\rangle-0.5t_{Il}^{Ab}t_{jK}^{cD}\\langle cD|lK\\rangle+0.5t_{Il}^{Ab}t_{jK}^{Cd}\\langle Cd|Kl\\rangle-0.5t_{Ij}^{bD}t_{kL}^{Ac}\\langle cD|kL\\rangle+0.5t_{Ij}^{bD}t_{Kl}^{Ac}\\langle cD|lK\\rangle-0.5t_{Ij}^{bD}t_{KL}^{AC}\\langle CD|KL\\rangle+0.5t_{Ij}^{bD}t_{KL}^{AC}\\langle CD|LK\\rangle+t_{jl}^{bd}t_{Ik}^{Ac}\\langle cd|kl\\rangle-t_{jl}^{bd}t_{Ik}^{Ac}\\langle cd|lk\\rangle+t_{jl}^{bd}t_{IK}^{AC}\\langle Cd|Kl\\rangle+t_{jL}^{bD}t_{Ik}^{Ac}\\langle cD|kL\\rangle+t_{jL}^{bD}t_{IK}^{AC}\\langle CD|KL\\rangle-t_{jL}^{bD}t_{IK}^{AC}\\langle CD|LK\\rangle+t_{Ik}^{Ac}\\langle jc|bk\\rangle+t_{IK}^{AC}\\langle jC|bK\\rangle-t_{Ik}^{Ac}\\langle jc|kb\\rangle-0.5t_{kl}^{bd}t_{Ij}^{Ac}\\langle cd|kl\\rangle+0.5t_{kl}^{bd}t_{Ij}^{Ac}\\langle cd|lk\\rangle-0.5t_{kL}^{bD}t_{Ij}^{Ac}\\langle cD|kL\\rangle+0.5t_{Kl}^{bD}t_{Ij}^{Ac}\\langle cD|lK\\rangle+t_{Il}^{bD}t_{jK}^{Ac}\\langle cD|lK\\rangle+t_{jK}^{Ac}\\langle Ic|Kb\\rangle+0.5t_{Kl}^{Ab}\\langle Ij|Kl\\rangle-0.5t_{kL}^{Ab}\\langle Ij|Lk\\rangle+t_{Ik}^{bC}\\langle jC|kA\\rangle+t_{jk}^{bc}\\langle Ic|Ak\\rangle+t_{jK}^{bC}\\langle IC|AK\\rangle-t_{jK}^{bC}\\langle IC|KA\\rangle+\\langle Ij|Ab\\rangle-\\langle Ij|bA\\rangle$"
      ],
      "text/plain": [
       "<IPython.core.display.Math object>"
      ]
     },
     "metadata": {},
     "output_type": "display_data"
    }
   ],
   "source": [
    "T = eqfromlatex(eq, index_key)\n",
    "platex(T)"
   ]
  },
  {
   "cell_type": "code",
   "execution_count": 5,
   "metadata": {},
   "outputs": [
    {
     "name": "stdout",
     "output_type": "stream",
     "text": [
      "Expanding equation...\n",
      "Adapting Spin...\n",
      "Summing up equivalent terms...\n",
      "Progress 0.0%\n",
      "Progress 1.6%\n",
      "Progress 3.3%\n",
      "Progress 4.9%\n",
      "Progress 6.6%\n",
      "Progress 11.5%\n",
      "Progress 16.4%\n",
      "Progress 23.0%\n",
      "Progress 26.2%\n",
      "Progress 27.9%\n",
      "Progress 36.1%\n",
      "Progress 41.0%\n",
      "Progress 45.9%\n",
      "Progress 47.5%\n",
      "Progress 49.2%\n",
      "Progress 50.8%\n",
      "Progress 52.5%\n",
      "Progress 55.7%\n",
      "Progress 63.9%\n",
      "Progress 67.2%\n",
      "Progress 68.9%\n",
      "Progress 72.1%\n",
      "Progress 73.8%\n",
      "Progress 75.4%\n",
      "Progress 83.6%\n",
      "Progress 85.2%\n",
      "Progress 86.9%\n",
      "Progress 90.2%\n",
      "Progress 91.8%\n",
      "Progress 93.4%\n",
      "Progress 96.7%\n",
      "Progress 98.4%\n",
      "Cleaning up zeros\n"
     ]
    }
   ],
   "source": [
    "T = T.simplify(show_progress=True)\n",
    "T = T.adapt_space()"
   ]
  },
  {
   "cell_type": "code",
   "execution_count": 6,
   "metadata": {},
   "outputs": [
    {
     "data": {
      "text/latex": [
       "$\\displaystyle -f_{IK}t_{Kj}^{Ab}-f_{JK}t_{Ik}^{Ab}+f_{CA}t_{Ij}^{Cb}+f_{CB}t_{Ij}^{Ac}-2.0t_{Ik}^{Dc}t_{Lj}^{Ab}\\langle KL|CD\\rangle+t_{Ik}^{Cd}t_{Lj}^{Ab}\\langle KL|CD\\rangle+t_{Ij}^{Dc}t_{Lk}^{Ab}\\langle KL|CD\\rangle+t_{Ij}^{Cd}\\langle CD|AB\\rangle-2.0t_{Kj}^{Cd}t_{Il}^{Ab}\\langle KL|CD\\rangle+t_{Jk}^{Cd}t_{Il}^{Ab}\\langle KL|CD\\rangle-2.0t_{Lk}^{Ac}t_{Ij}^{Db}\\langle KL|CD\\rangle+t_{Kl}^{Ac}t_{Ij}^{Db}\\langle KL|CD\\rangle-2.0t_{Ik}^{Ac}t_{Lj}^{Bd}\\langle KL|CD\\rangle+4.0t_{Ik}^{Ac}t_{Jl}^{Bd}\\langle KL|CD\\rangle+t_{Ik}^{Ac}t_{Lj}^{Bd}\\langle LK|CD\\rangle-2.0t_{Ik}^{Ac}t_{Jl}^{Bd}\\langle LK|CD\\rangle+t_{Ki}^{Ac}t_{Lj}^{Bd}\\langle KL|CD\\rangle-2.0t_{Ki}^{Ac}t_{Jl}^{Bd}\\langle KL|CD\\rangle+t_{Ki}^{Ac}t_{Lj}^{Db}\\langle LK|CD\\rangle+2.0t_{Ik}^{Ac}\\langle KJ|CB\\rangle-t_{Ki}^{Ac}\\langle KJ|CB\\rangle-t_{Ik}^{Ac}\\langle JC|KB\\rangle+t_{Ij}^{Ac}t_{Lk}^{Bd}\\langle KL|CD\\rangle-2.0t_{Ij}^{Ac}t_{Kl}^{Bd}\\langle KL|CD\\rangle+t_{Kj}^{Ac}t_{Il}^{Db}\\langle LK|CD\\rangle-t_{Kj}^{Ac}\\langle IC|KB\\rangle+t_{Kl}^{Ab}\\langle IJ|KL\\rangle-t_{Ik}^{Cb}\\langle JC|KA\\rangle-t_{Kj}^{Bc}\\langle KI|CA\\rangle+2.0t_{Jk}^{Bc}\\langle KI|CA\\rangle-t_{Kj}^{Cb}\\langle IC|KA\\rangle+\\langle IJ|AB\\rangle$"
      ],
      "text/plain": [
       "<IPython.core.display.Math object>"
      ]
     },
     "metadata": {},
     "output_type": "display_data"
    }
   ],
   "source": [
    "platex(T)"
   ]
  },
  {
   "cell_type": "code",
   "execution_count": 7,
   "metadata": {},
   "outputs": [
    {
     "name": "stdout",
     "output_type": "stream",
     "text": [
      "Looking for permutation symmetries...\n",
      "Progress 0.0%\n",
      "Progress 6.2%\n",
      "Progress 12.5%\n",
      "Progress 15.6%\n",
      "Progress 18.8%\n",
      "Progress 21.9%\n",
      "Progress 31.2%\n",
      "Progress 34.4%\n",
      "Progress 37.5%\n",
      "Progress 40.6%\n",
      "Progress 43.8%\n",
      "Progress 46.9%\n",
      "Progress 50.0%\n",
      "Progress 53.1%\n",
      "Progress 56.2%\n",
      "Progress 59.4%\n",
      "Progress 62.5%\n",
      "Progress 65.6%\n",
      "Progress 68.8%\n",
      "Progress 71.9%\n",
      "Progress 75.0%\n",
      "Progress 78.1%\n",
      "Progress 81.2%\n",
      "Cleaning up zeros\n"
     ]
    },
    {
     "data": {
      "text/latex": [
       "$\\displaystyle t_{Ij}^{Dc}t_{Lk}^{Ab}\\langle KL|CD\\rangle+t_{Ij}^{Cd}\\langle CD|AB\\rangle-2.0t_{Lk}^{Ac}t_{Ij}^{Db}\\langle KL|CD\\rangle+t_{Kl}^{Ac}t_{Ij}^{Db}\\langle KL|CD\\rangle-2.0t_{Ik}^{Ac}t_{Lj}^{Bd}\\langle KL|CD\\rangle+4.0t_{Ik}^{Ac}t_{Jl}^{Bd}\\langle KL|CD\\rangle+t_{Ik}^{Ac}t_{Lj}^{Bd}\\langle LK|CD\\rangle-2.0t_{Ik}^{Ac}t_{Jl}^{Bd}\\langle LK|CD\\rangle+t_{Ki}^{Ac}t_{Lj}^{Bd}\\langle KL|CD\\rangle-2.0t_{Ki}^{Ac}t_{Jl}^{Bd}\\langle KL|CD\\rangle+t_{Ki}^{Ac}t_{Lj}^{Db}\\langle LK|CD\\rangle+t_{Ij}^{Ac}t_{Lk}^{Bd}\\langle KL|CD\\rangle-2.0t_{Ij}^{Ac}t_{Kl}^{Bd}\\langle KL|CD\\rangle+t_{Kj}^{Ac}t_{Il}^{Db}\\langle LK|CD\\rangle+t_{Kl}^{Ab}\\langle IJ|KL\\rangle+\\langle IJ|AB\\rangle+P^+_{Ij}P^+_{Ab}\\left\\{-f_{IK}t_{Kj}^{Ab}+f_{CA}t_{Ij}^{Cb}-2.0t_{Ik}^{Dc}t_{Lj}^{Ab}\\langle KL|CD\\rangle+t_{Ik}^{Cd}t_{Lj}^{Ab}\\langle KL|CD\\rangle+2.0t_{Ik}^{Ac}\\langle KJ|CB\\rangle-t_{Ki}^{Ac}\\langle KJ|CB\\rangle-t_{Ik}^{Ac}\\langle JC|KB\\rangle-t_{Kj}^{Ac}\\langle IC|KB\\rangle\\right\\}$"
      ],
      "text/plain": [
       "<IPython.core.display.Math object>"
      ]
     },
     "metadata": {},
     "output_type": "display_data"
    }
   ],
   "source": [
    "perm_T = Permutation.find_permutations(T, (i,j), (a,b), show_progress=True)\n",
    "platex(perm_T)"
   ]
  },
  {
   "cell_type": "code",
   "execution_count": 8,
   "metadata": {},
   "outputs": [
    {
     "name": "stdout",
     "output_type": "stream",
     "text": [
      "newT2 += np.einsum('ijdc, lkab, klcd -> ijab', T2, T2, Voovv, optimize = 'optimal')\n",
      "newT2 += np.einsum('ijcd, cdab -> ijab', T2, Vvvvv, optimize = 'optimal')\n",
      "newT2 += -2.0*np.einsum('lkac, ijdb, klcd -> ijab', T2, T2, Voovv, optimize = 'optimal')\n",
      "newT2 += np.einsum('klac, ijdb, klcd -> ijab', T2, T2, Voovv, optimize = 'optimal')\n",
      "newT2 += -2.0*np.einsum('ikac, ljbd, klcd -> ijab', T2, T2, Voovv, optimize = 'optimal')\n",
      "newT2 += 4.0*np.einsum('ikac, jlbd, klcd -> ijab', T2, T2, Voovv, optimize = 'optimal')\n",
      "newT2 += np.einsum('ikac, ljbd, lkcd -> ijab', T2, T2, Voovv, optimize = 'optimal')\n",
      "newT2 += -2.0*np.einsum('ikac, jlbd, lkcd -> ijab', T2, T2, Voovv, optimize = 'optimal')\n",
      "newT2 += np.einsum('kiac, ljbd, klcd -> ijab', T2, T2, Voovv, optimize = 'optimal')\n",
      "newT2 += -2.0*np.einsum('kiac, jlbd, klcd -> ijab', T2, T2, Voovv, optimize = 'optimal')\n",
      "newT2 += np.einsum('kiac, ljdb, lkcd -> ijab', T2, T2, Voovv, optimize = 'optimal')\n",
      "newT2 += np.einsum('ijac, lkbd, klcd -> ijab', T2, T2, Voovv, optimize = 'optimal')\n",
      "newT2 += -2.0*np.einsum('ijac, klbd, klcd -> ijab', T2, T2, Voovv, optimize = 'optimal')\n",
      "newT2 += np.einsum('kjac, ildb, lkcd -> ijab', T2, T2, Voovv, optimize = 'optimal')\n",
      "newT2 += np.einsum('klab, ijkl -> ijab', T2, Voooo, optimize = 'optimal')\n",
      "newT2 += Voovv\n",
      "P_OVVO = -1.0*np.einsum('ik, kjab -> ijab', fock_OO, T2, optimize = 'optimal')\n",
      "P_OVVO += 1.0*np.einsum('ca, ijcb -> ijab', fock_VV, T2, optimize = 'optimal')\n",
      "P_OVVO += -2.0*np.einsum('ikdc, ljab, klcd -> ijab', T2, T2, Voovv, optimize = 'optimal')\n",
      "P_OVVO += 1.0*np.einsum('ikcd, ljab, klcd -> ijab', T2, T2, Voovv, optimize = 'optimal')\n",
      "P_OVVO += 2.0*np.einsum('ikac, kjcb -> ijab', T2, Voovv, optimize = 'optimal')\n",
      "P_OVVO += -1.0*np.einsum('kiac, kjcb -> ijab', T2, Voovv, optimize = 'optimal')\n",
      "P_OVVO += -1.0*np.einsum('ikac, jckb -> ijab', T2, Vovov, optimize = 'optimal')\n",
      "P_OVVO += -1.0*np.einsum('kjac, ickb -> ijab', T2, Vovov, optimize = 'optimal')\n",
      "\n",
      "newT2 += P_OVVO + P_OVVO.transpose(1,0,3,2)\n",
      "\n"
     ]
    }
   ],
   "source": [
    "mytensors = {\n",
    "    'T_OoVv' : 'T2',\n",
    "    'V_OOOO' : 'Voooo',\n",
    "    'V_OOOV' : 'Vooov',\n",
    "    'V_OOVV' : 'Voovv',\n",
    "    'V_OVOV' : 'Vovov',\n",
    "    'V_OVVV' : 'Vovvv',\n",
    "    'V_VVVV' : 'Vvvvv',\n",
    "    'f_OO' : 'fock_OO',\n",
    "    'f_VV' : 'fock_VV',\n",
    "    'f_OV' : 'fock_OV'\n",
    "    \n",
    "}\n",
    "\n",
    "pT = process_eq(perm_T, i,j,a,b, name = 'newT2', tensor_labels = mytensors)\n",
    "pT.write_einsums_out(print_out=True)"
   ]
  },
  {
   "cell_type": "code",
   "execution_count": 9,
   "metadata": {},
   "outputs": [
    {
     "data": {
      "text/plain": [
       "25"
      ]
     },
     "execution_count": 9,
     "metadata": {},
     "output_type": "execute_result"
    }
   ],
   "source": [
    "len(perm_T) + len(perm_T.terms[16].permuting_eq)"
   ]
  },
  {
   "cell_type": "code",
   "execution_count": null,
   "metadata": {},
   "outputs": [],
   "source": []
  }
 ],
 "metadata": {
  "kernelspec": {
   "display_name": "Python 3",
   "language": "python",
   "name": "python3"
  },
  "language_info": {
   "codemirror_mode": {
    "name": "ipython",
    "version": 3
   },
   "file_extension": ".py",
   "mimetype": "text/x-python",
   "name": "python",
   "nbconvert_exporter": "python",
   "pygments_lexer": "ipython3",
   "version": "3.6.9"
  }
 },
 "nbformat": 4,
 "nbformat_minor": 2
}
