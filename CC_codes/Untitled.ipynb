{
 "cells": [
  {
   "cell_type": "code",
   "execution_count": 1,
   "metadata": {},
   "outputs": [],
   "source": [
    "from tchau_spin import *\n",
    "# For restricted CC\n",
    "Tensor.rhf = True"
   ]
  },
  {
   "cell_type": "code",
   "execution_count": 2,
   "metadata": {},
   "outputs": [],
   "source": [
    "i,j,k,l,a,b,c,d = Index.new('ijklabcd', 'bbbbbb', 'hhhhpppp')\n",
    "\n",
    "index_key = {'i':i,\n",
    "             'j':j,\n",
    "             'a':a,\n",
    "             'b':b,\n",
    "             'k':k,\n",
    "             'l':l,\n",
    "             'c':c,\n",
    "             'd':d\n",
    "}\n",
    "\n",
    "mytensors = {\n",
    "    'T_oovv' : 'T2',\n",
    "    'V_oooo' : 'Voooo',\n",
    "    'V_ooov' : 'Vooov',\n",
    "    'V_oovv' : 'Voovv',\n",
    "    'V_ovov' : 'Vovov',\n",
    "    'V_ovvv' : 'Vovvv',\n",
    "    'V_vvvv' : 'Vvvvv',\n",
    "    'f_oo' : 'fock_OO',\n",
    "    'f_vv' : 'fock_VV',\n",
    "    'f_ov' : 'fock_OV'\n",
    "    \n",
    "}"
   ]
  },
  {
   "cell_type": "code",
   "execution_count": 3,
   "metadata": {},
   "outputs": [],
   "source": [
    "eq = 'f^{k}_{i} t^{ab}_{jk} - f^{k}_{j} t^{ab}_{ik} - f^{a}_{c} t^{bc}_{ij} + f^{b}_{c} t^{ac}_{ij} - \\\\frac{t^{cd}_{ik} t^{ab}_{jl} v^{kl}_{cd}}{2} + \\\\frac{t^{cd}_{ij} t^{ab}_{kl} v^{kl}_{cd}}{4} + \\\\frac{t^{cd}_{ij} v^{ab}_{cd}}{2} + \\\\frac{t^{cd}_{jk} t^{ab}_{il} v^{kl}_{cd}}{2} - \\\\frac{t^{ac}_{kl} t^{bd}_{ij} v^{kl}_{cd}}{2} + t^{ac}_{ik} t^{bd}_{jl} v^{kl}_{cd} + t^{ac}_{ik} v^{bk}_{jc} - \\\\frac{t^{ac}_{ij} t^{bd}_{kl} v^{kl}_{cd}}{2} - t^{ac}_{jk} t^{bd}_{il} v^{kl}_{cd} - t^{ac}_{jk} v^{bk}_{ic} + \\\\frac{t^{ab}_{kl} v^{kl}_{ij}}{2} - t^{bc}_{ik} v^{ak}_{jc} + t^{bc}_{jk} v^{ak}_{ic} + v^{ab}_{ij}'"
   ]
  },
  {
   "cell_type": "code",
   "execution_count": 4,
   "metadata": {},
   "outputs": [
    {
     "data": {
      "text/latex": [
       "$\\displaystyle \\langle ij|ab\\rangle+f_{cb}t_{ij}^{ac}+f_{ik}t_{jk}^{ab}-f_{jk}t_{ik}^{ab}-f_{ca}t_{ij}^{bc}+0.5t_{ij}^{cd}\\langle cd|ab\\rangle+t_{jk}^{bc}\\langle ic|ak\\rangle+t_{ik}^{ac}\\langle jc|bk\\rangle-t_{jk}^{ac}\\langle ic|bk\\rangle+0.5t_{kl}^{ab}\\langle ij|kl\\rangle-t_{ik}^{bc}\\langle jc|ak\\rangle-0.5t_{jl}^{ab}t_{ik}^{cd}\\langle cd|kl\\rangle+0.25t_{kl}^{ab}t_{ij}^{cd}\\langle cd|kl\\rangle+0.5t_{il}^{ab}t_{jk}^{cd}\\langle cd|kl\\rangle+t_{jl}^{bd}t_{ik}^{ac}\\langle cd|kl\\rangle-0.5t_{kl}^{bd}t_{ij}^{ac}\\langle cd|kl\\rangle-t_{il}^{bd}t_{jk}^{ac}\\langle cd|kl\\rangle-0.5t_{ij}^{bd}t_{kl}^{ac}\\langle cd|kl\\rangle$"
      ],
      "text/plain": [
       "<IPython.core.display.Math object>"
      ]
     },
     "metadata": {},
     "output_type": "display_data"
    }
   ],
   "source": [
    "T2 = eqfromlatex(eq, index_key, antisymmetric=False)\n",
    "T2.sort()\n",
    "platex(T2)"
   ]
  },
  {
   "cell_type": "code",
   "execution_count": 5,
   "metadata": {},
   "outputs": [
    {
     "name": "stdout",
     "output_type": "stream",
     "text": [
      "newT2 += Voovv\n",
      "newT2 += np.einsum('cb, ijac -> ijab', fock_VV, T2, optimize = 'optimal')\n",
      "newT2 += np.einsum('ik, jkab -> ijab', fock_OO, T2, optimize = 'optimal')\n",
      "newT2 -= np.einsum('jk, ikab -> ijab', fock_OO, T2, optimize = 'optimal')\n",
      "newT2 -= np.einsum('ca, ijbc -> ijab', fock_VV, T2, optimize = 'optimal')\n",
      "newT2 += 0.5*np.einsum('ijcd, cdab -> ijab', T2, Vvvvv, optimize = 'optimal')\n",
      "newT2 += np.einsum('jkbc, icak -> ijab', T2, V_ovvo, optimize = 'optimal')\n",
      "newT2 += np.einsum('ikac, jcbk -> ijab', T2, V_ovvo, optimize = 'optimal')\n",
      "newT2 -= np.einsum('jkac, icbk -> ijab', T2, V_ovvo, optimize = 'optimal')\n",
      "newT2 += 0.5*np.einsum('klab, ijkl -> ijab', T2, Voooo, optimize = 'optimal')\n",
      "newT2 -= np.einsum('ikbc, jcak -> ijab', T2, V_ovvo, optimize = 'optimal')\n",
      "newT2 += -0.5*np.einsum('jlab, ikcd, cdkl -> ijab', T2, T2, V_vvoo, optimize = 'optimal')\n",
      "newT2 += 0.25*np.einsum('klab, ijcd, cdkl -> ijab', T2, T2, V_vvoo, optimize = 'optimal')\n",
      "newT2 += 0.5*np.einsum('ilab, jkcd, cdkl -> ijab', T2, T2, V_vvoo, optimize = 'optimal')\n",
      "newT2 += np.einsum('jlbd, ikac, cdkl -> ijab', T2, T2, V_vvoo, optimize = 'optimal')\n",
      "newT2 += -0.5*np.einsum('klbd, ijac, cdkl -> ijab', T2, T2, V_vvoo, optimize = 'optimal')\n",
      "newT2 -= np.einsum('ilbd, jkac, cdkl -> ijab', T2, T2, V_vvoo, optimize = 'optimal')\n",
      "newT2 += -0.5*np.einsum('ijbd, klac, cdkl -> ijab', T2, T2, V_vvoo, optimize = 'optimal')\n",
      "\n"
     ]
    }
   ],
   "source": [
    "pT2 = process_eq(T2,i,j,a,b, name = 'newT2', tensor_labels = mytensors)\n",
    "pT2.write_einsums_out(print_out=True)"
   ]
  },
  {
   "cell_type": "code",
   "execution_count": null,
   "metadata": {},
   "outputs": [],
   "source": []
  }
 ],
 "metadata": {
  "kernelspec": {
   "display_name": "Python 3",
   "language": "python",
   "name": "python3"
  },
  "language_info": {
   "codemirror_mode": {
    "name": "ipython",
    "version": 3
   },
   "file_extension": ".py",
   "mimetype": "text/x-python",
   "name": "python",
   "nbconvert_exporter": "python",
   "pygments_lexer": "ipython3",
   "version": "3.6.9"
  }
 },
 "nbformat": 4,
 "nbformat_minor": 2
}
