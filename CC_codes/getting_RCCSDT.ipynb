{
 "cells": [
  {
   "cell_type": "markdown",
   "metadata": {},
   "source": [
    "# Obtaining a RCCSDT Code using Sympy and Tchau-Spin"
   ]
  },
  {
   "cell_type": "markdown",
   "metadata": {},
   "source": [
    "$\\bullet$ Import Sympy packages"
   ]
  },
  {
   "cell_type": "code",
   "execution_count": 1,
   "metadata": {},
   "outputs": [],
   "source": [
    "from sympy.physics.secondquant import (AntiSymmetricTensor, wicks,\n",
    "        F, Fd, NO, evaluate_deltas, substitute_dummies, Commutator,\n",
    "        simplify_index_permutations, PermutationOperator)\n",
    "from sympy import (\n",
    "    symbols, Rational, latex, Dummy\n",
    ")\n",
    "\n",
    "# For Sympy (simplification of equations)\n",
    "pretty_dummies_dict = {\n",
    "    'above': 'defgh',\n",
    "    'below': 'lmnow',\n",
    "    'general': 'pqrstu'\n",
    "}"
   ]
  },
  {
   "cell_type": "markdown",
   "metadata": {},
   "source": [
    "$\\bullet$ Define symbols for Sympy"
   ]
  },
  {
   "cell_type": "code",
   "execution_count": 2,
   "metadata": {},
   "outputs": [],
   "source": [
    "i = symbols('i', below_fermi=True, cls=Dummy)\n",
    "a = symbols('a', above_fermi=True, cls=Dummy)\n",
    "j = symbols('j', below_fermi=True, cls=Dummy)\n",
    "b = symbols('b', above_fermi=True, cls=Dummy)\n",
    "p, q, r, s = symbols('p,q,r,s', cls=Dummy)"
   ]
  },
  {
   "cell_type": "markdown",
   "metadata": {},
   "source": [
    "## Build the $\\Phi$-normal ordered Hamiltonian"
   ]
  },
  {
   "cell_type": "code",
   "execution_count": 3,
   "metadata": {},
   "outputs": [
    {
     "data": {
      "text/latex": [
       "$\\displaystyle f^{p}_{q} \\left\\{a^\\dagger_{p} a_{q}\\right\\} - \\frac{v^{pq}_{rs} \\left\\{a^\\dagger_{p} a^\\dagger_{q} a_{r} a_{s}\\right\\}}{4}$"
      ],
      "text/plain": [
       "AntiSymmetricTensor(f, (_p,), (_q,))*NO(CreateFermion(_p)*AnnihilateFermion(_q)) - AntiSymmetricTensor(v, (_p, _q), (_r, _s))*NO(CreateFermion(_p)*CreateFermion(_q)*AnnihilateFermion(_r)*AnnihilateFermion(_s))/4"
      ]
     },
     "execution_count": 3,
     "metadata": {},
     "output_type": "execute_result"
    }
   ],
   "source": [
    "fock = AntiSymmetricTensor('f', (p,), (q,))\n",
    "pr = NO(Fd(p)*F(q))\n",
    "V = AntiSymmetricTensor('v',(p,q),(r,s))\n",
    "pqsr = NO(Fd(p)*Fd(q)*F(s)*F(r))\n",
    "H = fock*pr + Rational(1,4)*V*pqsr\n",
    "H"
   ]
  },
  {
   "cell_type": "markdown",
   "metadata": {},
   "source": [
    "## Build Cluster Operator"
   ]
  },
  {
   "cell_type": "code",
   "execution_count": 4,
   "metadata": {},
   "outputs": [
    {
     "data": {
      "text/latex": [
       "$\\displaystyle t^{a}_{i} \\left\\{a^\\dagger_{a} a_{i}\\right\\} - \\frac{t^{ab}_{ij} \\left\\{a^\\dagger_{a} a^\\dagger_{b} a_{i} a_{j}\\right\\}}{4} - \\frac{t^{abc}_{ijk} \\left\\{a^\\dagger_{a} a^\\dagger_{b} a^\\dagger_{c} a_{i} a_{j} a_{k}\\right\\}}{36}$"
      ],
      "text/plain": [
       "AntiSymmetricTensor(t, (_a,), (_i,))*NO(CreateFermion(_a)*AnnihilateFermion(_i)) - AntiSymmetricTensor(t, (_a, _b), (_i, _j))*NO(CreateFermion(_a)*CreateFermion(_b)*AnnihilateFermion(_i)*AnnihilateFermion(_j))/4 - AntiSymmetricTensor(t, (_a, _b, _c), (_i, _j, _k))*NO(CreateFermion(_a)*CreateFermion(_b)*CreateFermion(_c)*AnnihilateFermion(_i)*AnnihilateFermion(_j)*AnnihilateFermion(_k))/36"
      ]
     },
     "execution_count": 4,
     "metadata": {},
     "output_type": "execute_result"
    }
   ],
   "source": [
    "def get_T():\n",
    "    i, j, k = symbols('i,j,k', below_fermi=True, cls=Dummy)\n",
    "    a, b, c = symbols('a,b,c', above_fermi=True, cls=Dummy)\n",
    "    t1 = AntiSymmetricTensor('t', (a,), (i,))*NO(Fd(a)*F(i))\n",
    "    t2 = Rational(1,4)*AntiSymmetricTensor('t', (a,b), (i,j))*NO(Fd(a)*Fd(b)*F(j)*F(i))\n",
    "    t3 = Rational(1,36)*AntiSymmetricTensor('t', (a,b,c), (i,j,k))*NO(Fd(a)*Fd(b)*Fd(c)*F(k)*F(j)*F(i))\n",
    "    return t1 + t2 + t3\n",
    "\n",
    "get_T()"
   ]
  },
  {
   "cell_type": "markdown",
   "metadata": {},
   "source": [
    "## Perform the Hausdorff expansion"
   ]
  },
  {
   "cell_type": "markdown",
   "metadata": {},
   "source": [
    "<center> $\\bar{H} = e^{-\\hat{T}}\\hat{H}_Ne^{\\hat{T}}$ <br/>\n",
    "    \n",
    " <p>&nbsp;</p>\n",
    "    \n",
    "<center>$\\bar{H} = \\hat{H}_N + [\\hat{H}_N, \\hat{T}] + \\frac{1}{2}[[\\hat{H}_N, \\hat{T}], \\hat{T}] + \\frac{1}{3!}[[[\\hat{H}_N, \\hat{T}], \\hat{T}], \\hat{T}] + \\frac{1}{4!}[[[[\\hat{H}_N, \\hat{T}], \\hat{T}], \\hat{T}], \\hat{T}]$"
   ]
  },
  {
   "cell_type": "code",
   "execution_count": 5,
   "metadata": {},
   "outputs": [
    {
     "name": "stdout",
     "output_type": "stream",
     "text": [
      "commutator 1...\n"
     ]
    }
   ],
   "source": [
    "C = Commutator\n",
    "T = get_T()\n",
    "print(\"commutator 1...\")\n",
    "comm1 = wicks(C(H, T))\n",
    "comm1 = evaluate_deltas(comm1)\n",
    "comm1 = substitute_dummies(comm1)"
   ]
  },
  {
   "cell_type": "code",
   "execution_count": 6,
   "metadata": {},
   "outputs": [
    {
     "name": "stdout",
     "output_type": "stream",
     "text": [
      "commutator 2...\n"
     ]
    }
   ],
   "source": [
    "T = get_T()\n",
    "print(\"commutator 2...\")\n",
    "comm2 = wicks(C(comm1, T))\n",
    "comm2 = evaluate_deltas(comm2)\n",
    "comm2 = substitute_dummies(comm2)"
   ]
  },
  {
   "cell_type": "code",
   "execution_count": 7,
   "metadata": {},
   "outputs": [
    {
     "name": "stdout",
     "output_type": "stream",
     "text": [
      "commutator 3...\n"
     ]
    }
   ],
   "source": [
    "T = get_T()\n",
    "print(\"commutator 3...\")\n",
    "comm3 = wicks(C(comm2, T))\n",
    "comm3 = evaluate_deltas(comm3)\n",
    "comm3 = substitute_dummies(comm3)"
   ]
  },
  {
   "cell_type": "code",
   "execution_count": 8,
   "metadata": {},
   "outputs": [
    {
     "name": "stdout",
     "output_type": "stream",
     "text": [
      "commutator 4...\n"
     ]
    }
   ],
   "source": [
    "T = get_T()\n",
    "print(\"commutator 4...\")\n",
    "comm4 = wicks(C(comm3, T))\n",
    "comm4 = evaluate_deltas(comm4)\n",
    "comm4 = substitute_dummies(comm4)"
   ]
  },
  {
   "cell_type": "markdown",
   "metadata": {},
   "source": [
    "## Construct the Similarity Transformed Hamiltonian"
   ]
  },
  {
   "cell_type": "code",
   "execution_count": 9,
   "metadata": {},
   "outputs": [],
   "source": [
    "eq = H + comm1 + comm2/2 + comm3/6 + comm4/24\n",
    "eq = eq.expand()\n",
    "eq = evaluate_deltas(eq)\n",
    "eq = substitute_dummies(eq, new_indices=True,\n",
    "        pretty_indices=pretty_dummies_dict)"
   ]
  },
  {
   "cell_type": "markdown",
   "metadata": {},
   "source": [
    "## Get energy expression"
   ]
  },
  {
   "cell_type": "markdown",
   "metadata": {},
   "source": [
    "<center>$E = \\langle | \\bar{H} e^{\\hat{T}}| \\rangle_C$"
   ]
  },
  {
   "cell_type": "code",
   "execution_count": 10,
   "metadata": {},
   "outputs": [
    {
     "data": {
      "text/latex": [
       "$\\displaystyle f^{l}_{d} t^{d}_{l} - \\frac{t^{d}_{m} t^{e}_{l} v^{lm}_{de}}{2} + \\frac{t^{de}_{lm} v^{lm}_{de}}{4}$"
      ],
      "text/plain": [
       "AntiSymmetricTensor(f, (_l,), (_d,))*AntiSymmetricTensor(t, (_d,), (_l,)) - AntiSymmetricTensor(t, (_d,), (_m,))*AntiSymmetricTensor(t, (_e,), (_l,))*AntiSymmetricTensor(v, (_l, _m), (_d, _e))/2 + AntiSymmetricTensor(t, (_d, _e), (_l, _m))*AntiSymmetricTensor(v, (_l, _m), (_d, _e))/4"
      ]
     },
     "execution_count": 10,
     "metadata": {},
     "output_type": "execute_result"
    }
   ],
   "source": [
    "i, j, k, l = symbols('i,j,k,l', below_fermi=True)\n",
    "a, b, c, d = symbols('a,b,c,d', above_fermi=True)\n",
    "energy = wicks(eq, simplify_dummies=True,\n",
    "        keep_only_fully_contracted=True)\n",
    "energy"
   ]
  },
  {
   "cell_type": "markdown",
   "metadata": {},
   "source": [
    "# Get $T_1$ amplitude equation"
   ]
  },
  {
   "cell_type": "markdown",
   "metadata": {},
   "source": [
    "<center>$E = \\langle \\Phi_{i}^{a}| \\bar{H} e^{\\hat{T}}| \\rangle_C$\n",
    "\n",
    "<p>&nbsp;</p>\n",
    "\n",
    "<center> $E = \\langle |i^\\dagger a \\bar{H} e^{\\hat{T}}| \\rangle_C$"
   ]
  },
  {
   "cell_type": "code",
   "execution_count": 11,
   "metadata": {},
   "outputs": [
    {
     "data": {
      "text/latex": [
       "$\\displaystyle - f^{l}_{d} t^{d}_{i} t^{a}_{l} + f^{l}_{d} t^{ad}_{il} - f^{l}_{i} t^{a}_{l} + f^{a}_{d} t^{d}_{i} + f^{a}_{i} - t^{d}_{l} t^{e}_{i} t^{a}_{m} v^{lm}_{de} - t^{d}_{l} t^{e}_{i} v^{al}_{de} + t^{d}_{l} t^{a}_{m} v^{lm}_{id} + t^{d}_{l} t^{ae}_{im} v^{lm}_{de} + t^{d}_{l} v^{al}_{id} - \\frac{t^{d}_{i} t^{ae}_{lm} v^{lm}_{de}}{2} + \\frac{t^{a}_{m} t^{de}_{il} v^{lm}_{de}}{2} + \\frac{t^{de}_{il} v^{al}_{de}}{2} - \\frac{t^{ad}_{lm} v^{lm}_{id}}{2} + \\frac{t^{ade}_{ilm} v^{lm}_{de}}{4}$"
      ],
      "text/plain": [
       "-AntiSymmetricTensor(f, (_l,), (_d,))*AntiSymmetricTensor(t, (_d,), (i,))*AntiSymmetricTensor(t, (a,), (_l,)) + AntiSymmetricTensor(f, (_l,), (_d,))*AntiSymmetricTensor(t, (a, _d), (i, _l)) - AntiSymmetricTensor(f, (_l,), (i,))*AntiSymmetricTensor(t, (a,), (_l,)) + AntiSymmetricTensor(f, (a,), (_d,))*AntiSymmetricTensor(t, (_d,), (i,)) + AntiSymmetricTensor(f, (a,), (i,)) - AntiSymmetricTensor(t, (_d,), (_l,))*AntiSymmetricTensor(t, (_e,), (i,))*AntiSymmetricTensor(t, (a,), (_m,))*AntiSymmetricTensor(v, (_l, _m), (_d, _e)) - AntiSymmetricTensor(t, (_d,), (_l,))*AntiSymmetricTensor(t, (_e,), (i,))*AntiSymmetricTensor(v, (a, _l), (_d, _e)) + AntiSymmetricTensor(t, (_d,), (_l,))*AntiSymmetricTensor(t, (a,), (_m,))*AntiSymmetricTensor(v, (_l, _m), (i, _d)) + AntiSymmetricTensor(t, (_d,), (_l,))*AntiSymmetricTensor(t, (a, _e), (i, _m))*AntiSymmetricTensor(v, (_l, _m), (_d, _e)) + AntiSymmetricTensor(t, (_d,), (_l,))*AntiSymmetricTensor(v, (a, _l), (i, _d)) - AntiSymmetricTensor(t, (_d,), (i,))*AntiSymmetricTensor(t, (a, _e), (_l, _m))*AntiSymmetricTensor(v, (_l, _m), (_d, _e))/2 + AntiSymmetricTensor(t, (a,), (_m,))*AntiSymmetricTensor(t, (_d, _e), (i, _l))*AntiSymmetricTensor(v, (_l, _m), (_d, _e))/2 + AntiSymmetricTensor(t, (_d, _e), (i, _l))*AntiSymmetricTensor(v, (a, _l), (_d, _e))/2 - AntiSymmetricTensor(t, (a, _d), (_l, _m))*AntiSymmetricTensor(v, (_l, _m), (i, _d))/2 + AntiSymmetricTensor(t, (a, _d, _e), (i, _l, _m))*AntiSymmetricTensor(v, (_l, _m), (_d, _e))/4"
      ]
     },
     "execution_count": 11,
     "metadata": {},
     "output_type": "execute_result"
    }
   ],
   "source": [
    "eqT1 = wicks(NO(Fd(i)*F(a))*eq, simplify_dummies=True, \n",
    "             keep_only_fully_contracted=True, simplify_kronecker_deltas=True)\n",
    "eqT1"
   ]
  },
  {
   "cell_type": "markdown",
   "metadata": {},
   "source": [
    "## Get $T_2$ amplitude equation"
   ]
  },
  {
   "cell_type": "markdown",
   "metadata": {},
   "source": [
    "<center>$E = \\langle \\Phi_{ij}^{ab}| \\bar{H} e^{\\hat{T}}| \\rangle_C$\n",
    "\n",
    "<p>&nbsp;</p>\n",
    "\n",
    "<center> $E = \\langle |i^\\dagger j^\\dagger b a \\bar{H} e^{\\hat{T}}| \\rangle_C$"
   ]
  },
  {
   "cell_type": "code",
   "execution_count": 12,
   "metadata": {},
   "outputs": [
    {
     "data": {
      "text/latex": [
       "$\\displaystyle f^{l}_{d} t^{d}_{i} t^{ab}_{jl} - f^{l}_{d} t^{d}_{j} t^{ab}_{il} + f^{l}_{d} t^{a}_{l} t^{bd}_{ij} - f^{l}_{d} t^{b}_{l} t^{ad}_{ij} + f^{l}_{d} t^{abd}_{ijl} + f^{l}_{i} t^{ab}_{jl} - f^{l}_{j} t^{ab}_{il} - f^{a}_{d} t^{bd}_{ij} + f^{b}_{d} t^{ad}_{ij} + t^{d}_{l} t^{e}_{i} t^{ab}_{jm} v^{lm}_{de} - t^{d}_{l} t^{e}_{j} t^{ab}_{im} v^{lm}_{de} + t^{d}_{l} t^{a}_{m} t^{be}_{ij} v^{lm}_{de} - t^{d}_{l} t^{b}_{m} t^{ae}_{ij} v^{lm}_{de} - t^{d}_{l} t^{ae}_{ij} v^{bl}_{de} + t^{d}_{l} t^{ab}_{im} v^{lm}_{jd} - t^{d}_{l} t^{ab}_{jm} v^{lm}_{id} + t^{d}_{l} t^{be}_{ij} v^{al}_{de} + t^{d}_{l} t^{abe}_{ijm} v^{lm}_{de} + t^{d}_{i} t^{e}_{j} t^{a}_{l} t^{b}_{m} v^{lm}_{de} + t^{d}_{i} t^{e}_{j} t^{a}_{l} v^{bl}_{de} - t^{d}_{i} t^{e}_{j} t^{b}_{l} v^{al}_{de} + \\frac{t^{d}_{i} t^{e}_{j} t^{ab}_{lm} v^{lm}_{de}}{2} + t^{d}_{i} t^{e}_{j} v^{ab}_{de} - t^{d}_{i} t^{a}_{l} t^{b}_{m} v^{lm}_{jd} - t^{d}_{i} t^{a}_{l} t^{be}_{jm} v^{lm}_{de} - t^{d}_{i} t^{a}_{l} v^{bl}_{jd} + t^{d}_{i} t^{b}_{l} v^{al}_{jd} - t^{d}_{i} t^{b}_{m} t^{ae}_{jl} v^{lm}_{de} - t^{d}_{i} t^{ae}_{jl} v^{bl}_{de} - \\frac{t^{d}_{i} t^{ab}_{lm} v^{lm}_{jd}}{2} + t^{d}_{i} t^{be}_{jl} v^{al}_{de} + \\frac{t^{d}_{i} t^{abe}_{jlm} v^{lm}_{de}}{2} - t^{d}_{i} v^{ab}_{jd} + t^{d}_{j} t^{a}_{l} t^{b}_{m} v^{lm}_{id} + t^{d}_{j} t^{a}_{l} t^{be}_{im} v^{lm}_{de} + t^{d}_{j} t^{a}_{l} v^{bl}_{id} - t^{d}_{j} t^{b}_{l} v^{al}_{id} + t^{d}_{j} t^{b}_{m} t^{ae}_{il} v^{lm}_{de} + t^{d}_{j} t^{ae}_{il} v^{bl}_{de} + \\frac{t^{d}_{j} t^{ab}_{lm} v^{lm}_{id}}{2} - t^{d}_{j} t^{be}_{il} v^{al}_{de} - \\frac{t^{d}_{j} t^{abe}_{ilm} v^{lm}_{de}}{2} + t^{d}_{j} v^{ab}_{id} + \\frac{t^{a}_{l} t^{b}_{m} t^{de}_{ij} v^{lm}_{de}}{2} + t^{a}_{l} t^{b}_{m} v^{lm}_{ij} + \\frac{t^{a}_{l} t^{de}_{ij} v^{bl}_{de}}{2} + t^{a}_{l} t^{bd}_{im} v^{lm}_{jd} - t^{a}_{l} t^{bd}_{jm} v^{lm}_{id} + \\frac{t^{a}_{l} t^{bde}_{ijm} v^{lm}_{de}}{2} + t^{a}_{l} v^{bl}_{ij} - \\frac{t^{b}_{l} t^{de}_{ij} v^{al}_{de}}{2} - t^{b}_{l} v^{al}_{ij} + t^{b}_{m} t^{ad}_{il} v^{lm}_{jd} - t^{b}_{m} t^{ad}_{jl} v^{lm}_{id} + \\frac{t^{b}_{m} t^{ade}_{ijl} v^{lm}_{de}}{2} - \\frac{t^{de}_{il} t^{ab}_{jm} v^{lm}_{de}}{2} + \\frac{t^{de}_{ij} t^{ab}_{lm} v^{lm}_{de}}{4} + \\frac{t^{de}_{ij} v^{ab}_{de}}{2} + \\frac{t^{de}_{jl} t^{ab}_{im} v^{lm}_{de}}{2} - \\frac{t^{ad}_{lm} t^{be}_{ij} v^{lm}_{de}}{2} + t^{ad}_{il} t^{be}_{jm} v^{lm}_{de} + t^{ad}_{il} v^{bl}_{jd} - \\frac{t^{ad}_{ij} t^{be}_{lm} v^{lm}_{de}}{2} - t^{ad}_{jl} t^{be}_{im} v^{lm}_{de} - t^{ad}_{jl} v^{bl}_{id} + \\frac{t^{ab}_{lm} v^{lm}_{ij}}{2} - t^{bd}_{il} v^{al}_{jd} + t^{bd}_{jl} v^{al}_{id} + \\frac{t^{ade}_{ijl} v^{bl}_{de}}{2} - \\frac{t^{abd}_{ilm} v^{lm}_{jd}}{2} + \\frac{t^{abd}_{jlm} v^{lm}_{id}}{2} - \\frac{t^{bde}_{ijl} v^{al}_{de}}{2} + v^{ab}_{ij}$"
      ],
      "text/plain": [
       "AntiSymmetricTensor(f, (_l,), (_d,))*AntiSymmetricTensor(t, (_d,), (i,))*AntiSymmetricTensor(t, (a, b), (j, _l)) - AntiSymmetricTensor(f, (_l,), (_d,))*AntiSymmetricTensor(t, (_d,), (j,))*AntiSymmetricTensor(t, (a, b), (i, _l)) + AntiSymmetricTensor(f, (_l,), (_d,))*AntiSymmetricTensor(t, (a,), (_l,))*AntiSymmetricTensor(t, (b, _d), (i, j)) - AntiSymmetricTensor(f, (_l,), (_d,))*AntiSymmetricTensor(t, (b,), (_l,))*AntiSymmetricTensor(t, (a, _d), (i, j)) + AntiSymmetricTensor(f, (_l,), (_d,))*AntiSymmetricTensor(t, (a, b, _d), (i, j, _l)) + AntiSymmetricTensor(f, (_l,), (i,))*AntiSymmetricTensor(t, (a, b), (j, _l)) - AntiSymmetricTensor(f, (_l,), (j,))*AntiSymmetricTensor(t, (a, b), (i, _l)) - AntiSymmetricTensor(f, (a,), (_d,))*AntiSymmetricTensor(t, (b, _d), (i, j)) + AntiSymmetricTensor(f, (b,), (_d,))*AntiSymmetricTensor(t, (a, _d), (i, j)) + AntiSymmetricTensor(t, (_d,), (_l,))*AntiSymmetricTensor(t, (_e,), (i,))*AntiSymmetricTensor(t, (a, b), (j, _m))*AntiSymmetricTensor(v, (_l, _m), (_d, _e)) - AntiSymmetricTensor(t, (_d,), (_l,))*AntiSymmetricTensor(t, (_e,), (j,))*AntiSymmetricTensor(t, (a, b), (i, _m))*AntiSymmetricTensor(v, (_l, _m), (_d, _e)) + AntiSymmetricTensor(t, (_d,), (_l,))*AntiSymmetricTensor(t, (a,), (_m,))*AntiSymmetricTensor(t, (b, _e), (i, j))*AntiSymmetricTensor(v, (_l, _m), (_d, _e)) - AntiSymmetricTensor(t, (_d,), (_l,))*AntiSymmetricTensor(t, (b,), (_m,))*AntiSymmetricTensor(t, (a, _e), (i, j))*AntiSymmetricTensor(v, (_l, _m), (_d, _e)) - AntiSymmetricTensor(t, (_d,), (_l,))*AntiSymmetricTensor(t, (a, _e), (i, j))*AntiSymmetricTensor(v, (b, _l), (_d, _e)) + AntiSymmetricTensor(t, (_d,), (_l,))*AntiSymmetricTensor(t, (a, b), (i, _m))*AntiSymmetricTensor(v, (_l, _m), (j, _d)) - AntiSymmetricTensor(t, (_d,), (_l,))*AntiSymmetricTensor(t, (a, b), (j, _m))*AntiSymmetricTensor(v, (_l, _m), (i, _d)) + AntiSymmetricTensor(t, (_d,), (_l,))*AntiSymmetricTensor(t, (b, _e), (i, j))*AntiSymmetricTensor(v, (a, _l), (_d, _e)) + AntiSymmetricTensor(t, (_d,), (_l,))*AntiSymmetricTensor(t, (a, b, _e), (i, j, _m))*AntiSymmetricTensor(v, (_l, _m), (_d, _e)) + AntiSymmetricTensor(t, (_d,), (i,))*AntiSymmetricTensor(t, (_e,), (j,))*AntiSymmetricTensor(t, (a,), (_l,))*AntiSymmetricTensor(t, (b,), (_m,))*AntiSymmetricTensor(v, (_l, _m), (_d, _e)) + AntiSymmetricTensor(t, (_d,), (i,))*AntiSymmetricTensor(t, (_e,), (j,))*AntiSymmetricTensor(t, (a,), (_l,))*AntiSymmetricTensor(v, (b, _l), (_d, _e)) - AntiSymmetricTensor(t, (_d,), (i,))*AntiSymmetricTensor(t, (_e,), (j,))*AntiSymmetricTensor(t, (b,), (_l,))*AntiSymmetricTensor(v, (a, _l), (_d, _e)) + AntiSymmetricTensor(t, (_d,), (i,))*AntiSymmetricTensor(t, (_e,), (j,))*AntiSymmetricTensor(t, (a, b), (_l, _m))*AntiSymmetricTensor(v, (_l, _m), (_d, _e))/2 + AntiSymmetricTensor(t, (_d,), (i,))*AntiSymmetricTensor(t, (_e,), (j,))*AntiSymmetricTensor(v, (a, b), (_d, _e)) - AntiSymmetricTensor(t, (_d,), (i,))*AntiSymmetricTensor(t, (a,), (_l,))*AntiSymmetricTensor(t, (b,), (_m,))*AntiSymmetricTensor(v, (_l, _m), (j, _d)) - AntiSymmetricTensor(t, (_d,), (i,))*AntiSymmetricTensor(t, (a,), (_l,))*AntiSymmetricTensor(t, (b, _e), (j, _m))*AntiSymmetricTensor(v, (_l, _m), (_d, _e)) - AntiSymmetricTensor(t, (_d,), (i,))*AntiSymmetricTensor(t, (a,), (_l,))*AntiSymmetricTensor(v, (b, _l), (j, _d)) + AntiSymmetricTensor(t, (_d,), (i,))*AntiSymmetricTensor(t, (b,), (_l,))*AntiSymmetricTensor(v, (a, _l), (j, _d)) - AntiSymmetricTensor(t, (_d,), (i,))*AntiSymmetricTensor(t, (b,), (_m,))*AntiSymmetricTensor(t, (a, _e), (j, _l))*AntiSymmetricTensor(v, (_l, _m), (_d, _e)) - AntiSymmetricTensor(t, (_d,), (i,))*AntiSymmetricTensor(t, (a, _e), (j, _l))*AntiSymmetricTensor(v, (b, _l), (_d, _e)) - AntiSymmetricTensor(t, (_d,), (i,))*AntiSymmetricTensor(t, (a, b), (_l, _m))*AntiSymmetricTensor(v, (_l, _m), (j, _d))/2 + AntiSymmetricTensor(t, (_d,), (i,))*AntiSymmetricTensor(t, (b, _e), (j, _l))*AntiSymmetricTensor(v, (a, _l), (_d, _e)) + AntiSymmetricTensor(t, (_d,), (i,))*AntiSymmetricTensor(t, (a, b, _e), (j, _l, _m))*AntiSymmetricTensor(v, (_l, _m), (_d, _e))/2 - AntiSymmetricTensor(t, (_d,), (i,))*AntiSymmetricTensor(v, (a, b), (j, _d)) + AntiSymmetricTensor(t, (_d,), (j,))*AntiSymmetricTensor(t, (a,), (_l,))*AntiSymmetricTensor(t, (b,), (_m,))*AntiSymmetricTensor(v, (_l, _m), (i, _d)) + AntiSymmetricTensor(t, (_d,), (j,))*AntiSymmetricTensor(t, (a,), (_l,))*AntiSymmetricTensor(t, (b, _e), (i, _m))*AntiSymmetricTensor(v, (_l, _m), (_d, _e)) + AntiSymmetricTensor(t, (_d,), (j,))*AntiSymmetricTensor(t, (a,), (_l,))*AntiSymmetricTensor(v, (b, _l), (i, _d)) - AntiSymmetricTensor(t, (_d,), (j,))*AntiSymmetricTensor(t, (b,), (_l,))*AntiSymmetricTensor(v, (a, _l), (i, _d)) + AntiSymmetricTensor(t, (_d,), (j,))*AntiSymmetricTensor(t, (b,), (_m,))*AntiSymmetricTensor(t, (a, _e), (i, _l))*AntiSymmetricTensor(v, (_l, _m), (_d, _e)) + AntiSymmetricTensor(t, (_d,), (j,))*AntiSymmetricTensor(t, (a, _e), (i, _l))*AntiSymmetricTensor(v, (b, _l), (_d, _e)) + AntiSymmetricTensor(t, (_d,), (j,))*AntiSymmetricTensor(t, (a, b), (_l, _m))*AntiSymmetricTensor(v, (_l, _m), (i, _d))/2 - AntiSymmetricTensor(t, (_d,), (j,))*AntiSymmetricTensor(t, (b, _e), (i, _l))*AntiSymmetricTensor(v, (a, _l), (_d, _e)) - AntiSymmetricTensor(t, (_d,), (j,))*AntiSymmetricTensor(t, (a, b, _e), (i, _l, _m))*AntiSymmetricTensor(v, (_l, _m), (_d, _e))/2 + AntiSymmetricTensor(t, (_d,), (j,))*AntiSymmetricTensor(v, (a, b), (i, _d)) + AntiSymmetricTensor(t, (a,), (_l,))*AntiSymmetricTensor(t, (b,), (_m,))*AntiSymmetricTensor(t, (_d, _e), (i, j))*AntiSymmetricTensor(v, (_l, _m), (_d, _e))/2 + AntiSymmetricTensor(t, (a,), (_l,))*AntiSymmetricTensor(t, (b,), (_m,))*AntiSymmetricTensor(v, (_l, _m), (i, j)) + AntiSymmetricTensor(t, (a,), (_l,))*AntiSymmetricTensor(t, (_d, _e), (i, j))*AntiSymmetricTensor(v, (b, _l), (_d, _e))/2 + AntiSymmetricTensor(t, (a,), (_l,))*AntiSymmetricTensor(t, (b, _d), (i, _m))*AntiSymmetricTensor(v, (_l, _m), (j, _d)) - AntiSymmetricTensor(t, (a,), (_l,))*AntiSymmetricTensor(t, (b, _d), (j, _m))*AntiSymmetricTensor(v, (_l, _m), (i, _d)) + AntiSymmetricTensor(t, (a,), (_l,))*AntiSymmetricTensor(t, (b, _d, _e), (i, j, _m))*AntiSymmetricTensor(v, (_l, _m), (_d, _e))/2 + AntiSymmetricTensor(t, (a,), (_l,))*AntiSymmetricTensor(v, (b, _l), (i, j)) - AntiSymmetricTensor(t, (b,), (_l,))*AntiSymmetricTensor(t, (_d, _e), (i, j))*AntiSymmetricTensor(v, (a, _l), (_d, _e))/2 - AntiSymmetricTensor(t, (b,), (_l,))*AntiSymmetricTensor(v, (a, _l), (i, j)) + AntiSymmetricTensor(t, (b,), (_m,))*AntiSymmetricTensor(t, (a, _d), (i, _l))*AntiSymmetricTensor(v, (_l, _m), (j, _d)) - AntiSymmetricTensor(t, (b,), (_m,))*AntiSymmetricTensor(t, (a, _d), (j, _l))*AntiSymmetricTensor(v, (_l, _m), (i, _d)) + AntiSymmetricTensor(t, (b,), (_m,))*AntiSymmetricTensor(t, (a, _d, _e), (i, j, _l))*AntiSymmetricTensor(v, (_l, _m), (_d, _e))/2 - AntiSymmetricTensor(t, (_d, _e), (i, _l))*AntiSymmetricTensor(t, (a, b), (j, _m))*AntiSymmetricTensor(v, (_l, _m), (_d, _e))/2 + AntiSymmetricTensor(t, (_d, _e), (i, j))*AntiSymmetricTensor(t, (a, b), (_l, _m))*AntiSymmetricTensor(v, (_l, _m), (_d, _e))/4 + AntiSymmetricTensor(t, (_d, _e), (i, j))*AntiSymmetricTensor(v, (a, b), (_d, _e))/2 + AntiSymmetricTensor(t, (_d, _e), (j, _l))*AntiSymmetricTensor(t, (a, b), (i, _m))*AntiSymmetricTensor(v, (_l, _m), (_d, _e))/2 - AntiSymmetricTensor(t, (a, _d), (_l, _m))*AntiSymmetricTensor(t, (b, _e), (i, j))*AntiSymmetricTensor(v, (_l, _m), (_d, _e))/2 + AntiSymmetricTensor(t, (a, _d), (i, _l))*AntiSymmetricTensor(t, (b, _e), (j, _m))*AntiSymmetricTensor(v, (_l, _m), (_d, _e)) + AntiSymmetricTensor(t, (a, _d), (i, _l))*AntiSymmetricTensor(v, (b, _l), (j, _d)) - AntiSymmetricTensor(t, (a, _d), (i, j))*AntiSymmetricTensor(t, (b, _e), (_l, _m))*AntiSymmetricTensor(v, (_l, _m), (_d, _e))/2 - AntiSymmetricTensor(t, (a, _d), (j, _l))*AntiSymmetricTensor(t, (b, _e), (i, _m))*AntiSymmetricTensor(v, (_l, _m), (_d, _e)) - AntiSymmetricTensor(t, (a, _d), (j, _l))*AntiSymmetricTensor(v, (b, _l), (i, _d)) + AntiSymmetricTensor(t, (a, b), (_l, _m))*AntiSymmetricTensor(v, (_l, _m), (i, j))/2 - AntiSymmetricTensor(t, (b, _d), (i, _l))*AntiSymmetricTensor(v, (a, _l), (j, _d)) + AntiSymmetricTensor(t, (b, _d), (j, _l))*AntiSymmetricTensor(v, (a, _l), (i, _d)) + AntiSymmetricTensor(t, (a, _d, _e), (i, j, _l))*AntiSymmetricTensor(v, (b, _l), (_d, _e))/2 - AntiSymmetricTensor(t, (a, b, _d), (i, _l, _m))*AntiSymmetricTensor(v, (_l, _m), (j, _d))/2 + AntiSymmetricTensor(t, (a, b, _d), (j, _l, _m))*AntiSymmetricTensor(v, (_l, _m), (i, _d))/2 - AntiSymmetricTensor(t, (b, _d, _e), (i, j, _l))*AntiSymmetricTensor(v, (a, _l), (_d, _e))/2 + AntiSymmetricTensor(v, (a, b), (i, j))"
      ]
     },
     "execution_count": 12,
     "metadata": {},
     "output_type": "execute_result"
    }
   ],
   "source": [
    "eqT2 = wicks(NO(Fd(i)*Fd(j)*F(b)*F(a))*eq, simplify_dummies=True, \n",
    "             keep_only_fully_contracted=True, simplify_kronecker_deltas=True)\n",
    "eqT2"
   ]
  },
  {
   "cell_type": "markdown",
   "metadata": {},
   "source": [
    "## Get $T_3$ amplitude equation"
   ]
  },
  {
   "cell_type": "markdown",
   "metadata": {},
   "source": [
    "<center>$E = \\langle \\Phi_{ijk}^{abc}| \\bar{H} e^{\\hat{T}}| \\rangle_C$\n",
    "\n",
    "<p>&nbsp;</p>\n",
    "\n",
    "<center> $E = \\langle |i^\\dagger j^\\dagger k^\\dagger c b a \\bar{H} e^{\\hat{T}}| \\rangle_C$"
   ]
  },
  {
   "cell_type": "code",
   "execution_count": 13,
   "metadata": {},
   "outputs": [
    {
     "data": {
      "text/latex": [
       "$\\displaystyle - f^{l}_{d} t^{d}_{i} t^{abc}_{jkl} + f^{l}_{d} t^{d}_{j} t^{abc}_{ikl} - f^{l}_{d} t^{d}_{k} t^{abc}_{ijl} - f^{l}_{d} t^{a}_{l} t^{bcd}_{ijk} + f^{l}_{d} t^{b}_{l} t^{acd}_{ijk} - f^{l}_{d} t^{c}_{l} t^{abd}_{ijk} + f^{l}_{d} t^{ad}_{ij} t^{bc}_{kl} - f^{l}_{d} t^{ad}_{ik} t^{bc}_{jl} + f^{l}_{d} t^{ad}_{jk} t^{bc}_{il} + f^{l}_{d} t^{ab}_{il} t^{cd}_{jk} - f^{l}_{d} t^{ab}_{jl} t^{cd}_{ik} + f^{l}_{d} t^{ab}_{kl} t^{cd}_{ij} - f^{l}_{d} t^{ac}_{il} t^{bd}_{jk} + f^{l}_{d} t^{ac}_{jl} t^{bd}_{ik} - f^{l}_{d} t^{ac}_{kl} t^{bd}_{ij} - f^{l}_{i} t^{abc}_{jkl} + f^{l}_{j} t^{abc}_{ikl} - f^{l}_{k} t^{abc}_{ijl} + f^{a}_{d} t^{bcd}_{ijk} - f^{b}_{d} t^{acd}_{ijk} + f^{c}_{d} t^{abd}_{ijk} - t^{d}_{l} t^{e}_{i} t^{abc}_{jkm} v^{lm}_{de} + t^{d}_{l} t^{e}_{j} t^{abc}_{ikm} v^{lm}_{de} - t^{d}_{l} t^{e}_{k} t^{abc}_{ijm} v^{lm}_{de} - t^{d}_{l} t^{a}_{m} t^{bce}_{ijk} v^{lm}_{de} + t^{d}_{l} t^{b}_{m} t^{ace}_{ijk} v^{lm}_{de} - t^{d}_{l} t^{c}_{m} t^{abe}_{ijk} v^{lm}_{de} + t^{d}_{l} t^{ae}_{ij} t^{bc}_{km} v^{lm}_{de} - t^{d}_{l} t^{ae}_{ik} t^{bc}_{jm} v^{lm}_{de} + t^{d}_{l} t^{ae}_{jk} t^{bc}_{im} v^{lm}_{de} + t^{d}_{l} t^{ab}_{im} t^{ce}_{jk} v^{lm}_{de} - t^{d}_{l} t^{ab}_{jm} t^{ce}_{ik} v^{lm}_{de} + t^{d}_{l} t^{ab}_{km} t^{ce}_{ij} v^{lm}_{de} - t^{d}_{l} t^{ac}_{im} t^{be}_{jk} v^{lm}_{de} + t^{d}_{l} t^{ac}_{jm} t^{be}_{ik} v^{lm}_{de} - t^{d}_{l} t^{ac}_{km} t^{be}_{ij} v^{lm}_{de} - t^{d}_{l} t^{abe}_{ijk} v^{cl}_{de} + t^{d}_{l} t^{abc}_{ijm} v^{lm}_{kd} - t^{d}_{l} t^{abc}_{ikm} v^{lm}_{jd} + t^{d}_{l} t^{abc}_{jkm} v^{lm}_{id} + t^{d}_{l} t^{ace}_{ijk} v^{bl}_{de} - t^{d}_{l} t^{bce}_{ijk} v^{al}_{de} - t^{d}_{i} t^{e}_{j} t^{a}_{l} t^{bc}_{km} v^{lm}_{de} - t^{d}_{i} t^{e}_{j} t^{b}_{m} t^{ac}_{kl} v^{lm}_{de} + t^{d}_{i} t^{e}_{j} t^{c}_{m} t^{ab}_{kl} v^{lm}_{de} + t^{d}_{i} t^{e}_{j} t^{ab}_{kl} v^{cl}_{de} - t^{d}_{i} t^{e}_{j} t^{ac}_{kl} v^{bl}_{de} + t^{d}_{i} t^{e}_{j} t^{bc}_{kl} v^{al}_{de} + \\frac{t^{d}_{i} t^{e}_{j} t^{abc}_{klm} v^{lm}_{de}}{2} + t^{d}_{i} t^{e}_{k} t^{a}_{l} t^{bc}_{jm} v^{lm}_{de} + t^{d}_{i} t^{e}_{k} t^{b}_{m} t^{ac}_{jl} v^{lm}_{de} - t^{d}_{i} t^{e}_{k} t^{c}_{m} t^{ab}_{jl} v^{lm}_{de} - t^{d}_{i} t^{e}_{k} t^{ab}_{jl} v^{cl}_{de} + t^{d}_{i} t^{e}_{k} t^{ac}_{jl} v^{bl}_{de} - t^{d}_{i} t^{e}_{k} t^{bc}_{jl} v^{al}_{de} - \\frac{t^{d}_{i} t^{e}_{k} t^{abc}_{jlm} v^{lm}_{de}}{2} - t^{d}_{i} t^{a}_{l} t^{b}_{m} t^{ce}_{jk} v^{lm}_{de} + t^{d}_{i} t^{a}_{l} t^{c}_{m} t^{be}_{jk} v^{lm}_{de} + t^{d}_{i} t^{a}_{l} t^{be}_{jk} v^{cl}_{de} - t^{d}_{i} t^{a}_{l} t^{bc}_{jm} v^{lm}_{kd} + t^{d}_{i} t^{a}_{l} t^{bc}_{km} v^{lm}_{jd} - t^{d}_{i} t^{a}_{l} t^{ce}_{jk} v^{bl}_{de} - t^{d}_{i} t^{a}_{l} t^{bce}_{jkm} v^{lm}_{de} - t^{d}_{i} t^{b}_{l} t^{c}_{m} t^{ae}_{jk} v^{lm}_{de} - t^{d}_{i} t^{b}_{l} t^{ae}_{jk} v^{cl}_{de} + t^{d}_{i} t^{b}_{l} t^{ce}_{jk} v^{al}_{de} - t^{d}_{i} t^{b}_{m} t^{ac}_{jl} v^{lm}_{kd} + t^{d}_{i} t^{b}_{m} t^{ac}_{kl} v^{lm}_{jd} - t^{d}_{i} t^{b}_{m} t^{ace}_{jkl} v^{lm}_{de} + t^{d}_{i} t^{c}_{l} t^{ae}_{jk} v^{bl}_{de} - t^{d}_{i} t^{c}_{l} t^{be}_{jk} v^{al}_{de} + t^{d}_{i} t^{c}_{m} t^{ab}_{jl} v^{lm}_{kd} - t^{d}_{i} t^{c}_{m} t^{ab}_{kl} v^{lm}_{jd} + t^{d}_{i} t^{c}_{m} t^{abe}_{jkl} v^{lm}_{de} + t^{d}_{i} t^{ae}_{jl} t^{bc}_{km} v^{lm}_{de} - \\frac{t^{d}_{i} t^{ae}_{jk} t^{bc}_{lm} v^{lm}_{de}}{2} - t^{d}_{i} t^{ae}_{jk} v^{bc}_{de} - t^{d}_{i} t^{ae}_{kl} t^{bc}_{jm} v^{lm}_{de} - \\frac{t^{d}_{i} t^{ab}_{lm} t^{ce}_{jk} v^{lm}_{de}}{2} + t^{d}_{i} t^{ab}_{jl} t^{ce}_{km} v^{lm}_{de} + t^{d}_{i} t^{ab}_{jl} v^{cl}_{kd} - t^{d}_{i} t^{ab}_{kl} t^{ce}_{jm} v^{lm}_{de} - t^{d}_{i} t^{ab}_{kl} v^{cl}_{jd} + \\frac{t^{d}_{i} t^{ac}_{lm} t^{be}_{jk} v^{lm}_{de}}{2} - t^{d}_{i} t^{ac}_{jl} t^{be}_{km} v^{lm}_{de} - t^{d}_{i} t^{ac}_{jl} v^{bl}_{kd} + t^{d}_{i} t^{ac}_{kl} t^{be}_{jm} v^{lm}_{de} + t^{d}_{i} t^{ac}_{kl} v^{bl}_{jd} + t^{d}_{i} t^{be}_{jk} v^{ac}_{de} + t^{d}_{i} t^{bc}_{jl} v^{al}_{kd} - t^{d}_{i} t^{bc}_{kl} v^{al}_{jd} - t^{d}_{i} t^{ce}_{jk} v^{ab}_{de} + t^{d}_{i} t^{abe}_{jkl} v^{cl}_{de} + \\frac{t^{d}_{i} t^{abc}_{jlm} v^{lm}_{kd}}{2} - \\frac{t^{d}_{i} t^{abc}_{klm} v^{lm}_{jd}}{2} - t^{d}_{i} t^{ace}_{jkl} v^{bl}_{de} + t^{d}_{i} t^{bce}_{jkl} v^{al}_{de} - t^{d}_{j} t^{e}_{k} t^{a}_{l} t^{bc}_{im} v^{lm}_{de} - t^{d}_{j} t^{e}_{k} t^{b}_{m} t^{ac}_{il} v^{lm}_{de} + t^{d}_{j} t^{e}_{k} t^{c}_{m} t^{ab}_{il} v^{lm}_{de} + t^{d}_{j} t^{e}_{k} t^{ab}_{il} v^{cl}_{de} - t^{d}_{j} t^{e}_{k} t^{ac}_{il} v^{bl}_{de} + t^{d}_{j} t^{e}_{k} t^{bc}_{il} v^{al}_{de} + \\frac{t^{d}_{j} t^{e}_{k} t^{abc}_{ilm} v^{lm}_{de}}{2} + t^{d}_{j} t^{a}_{l} t^{b}_{m} t^{ce}_{ik} v^{lm}_{de} - t^{d}_{j} t^{a}_{l} t^{c}_{m} t^{be}_{ik} v^{lm}_{de} - t^{d}_{j} t^{a}_{l} t^{be}_{ik} v^{cl}_{de} + t^{d}_{j} t^{a}_{l} t^{bc}_{im} v^{lm}_{kd} - t^{d}_{j} t^{a}_{l} t^{bc}_{km} v^{lm}_{id} + t^{d}_{j} t^{a}_{l} t^{ce}_{ik} v^{bl}_{de} + t^{d}_{j} t^{a}_{l} t^{bce}_{ikm} v^{lm}_{de} + t^{d}_{j} t^{b}_{l} t^{c}_{m} t^{ae}_{ik} v^{lm}_{de} + t^{d}_{j} t^{b}_{l} t^{ae}_{ik} v^{cl}_{de} - t^{d}_{j} t^{b}_{l} t^{ce}_{ik} v^{al}_{de} + t^{d}_{j} t^{b}_{m} t^{ac}_{il} v^{lm}_{kd} - t^{d}_{j} t^{b}_{m} t^{ac}_{kl} v^{lm}_{id} + t^{d}_{j} t^{b}_{m} t^{ace}_{ikl} v^{lm}_{de} - t^{d}_{j} t^{c}_{l} t^{ae}_{ik} v^{bl}_{de} + t^{d}_{j} t^{c}_{l} t^{be}_{ik} v^{al}_{de} - t^{d}_{j} t^{c}_{m} t^{ab}_{il} v^{lm}_{kd} + t^{d}_{j} t^{c}_{m} t^{ab}_{kl} v^{lm}_{id} - t^{d}_{j} t^{c}_{m} t^{abe}_{ikl} v^{lm}_{de} - t^{d}_{j} t^{ae}_{il} t^{bc}_{km} v^{lm}_{de} + \\frac{t^{d}_{j} t^{ae}_{ik} t^{bc}_{lm} v^{lm}_{de}}{2} + t^{d}_{j} t^{ae}_{ik} v^{bc}_{de} + t^{d}_{j} t^{ae}_{kl} t^{bc}_{im} v^{lm}_{de} + \\frac{t^{d}_{j} t^{ab}_{lm} t^{ce}_{ik} v^{lm}_{de}}{2} - t^{d}_{j} t^{ab}_{il} t^{ce}_{km} v^{lm}_{de} - t^{d}_{j} t^{ab}_{il} v^{cl}_{kd} + t^{d}_{j} t^{ab}_{kl} t^{ce}_{im} v^{lm}_{de} + t^{d}_{j} t^{ab}_{kl} v^{cl}_{id} - \\frac{t^{d}_{j} t^{ac}_{lm} t^{be}_{ik} v^{lm}_{de}}{2} + t^{d}_{j} t^{ac}_{il} t^{be}_{km} v^{lm}_{de} + t^{d}_{j} t^{ac}_{il} v^{bl}_{kd} - t^{d}_{j} t^{ac}_{kl} t^{be}_{im} v^{lm}_{de} - t^{d}_{j} t^{ac}_{kl} v^{bl}_{id} - t^{d}_{j} t^{be}_{ik} v^{ac}_{de} - t^{d}_{j} t^{bc}_{il} v^{al}_{kd} + t^{d}_{j} t^{bc}_{kl} v^{al}_{id} + t^{d}_{j} t^{ce}_{ik} v^{ab}_{de} - t^{d}_{j} t^{abe}_{ikl} v^{cl}_{de} - \\frac{t^{d}_{j} t^{abc}_{ilm} v^{lm}_{kd}}{2} + \\frac{t^{d}_{j} t^{abc}_{klm} v^{lm}_{id}}{2} + t^{d}_{j} t^{ace}_{ikl} v^{bl}_{de} - t^{d}_{j} t^{bce}_{ikl} v^{al}_{de} - t^{d}_{k} t^{a}_{l} t^{b}_{m} t^{ce}_{ij} v^{lm}_{de} + t^{d}_{k} t^{a}_{l} t^{c}_{m} t^{be}_{ij} v^{lm}_{de} + t^{d}_{k} t^{a}_{l} t^{be}_{ij} v^{cl}_{de} - t^{d}_{k} t^{a}_{l} t^{bc}_{im} v^{lm}_{jd} + t^{d}_{k} t^{a}_{l} t^{bc}_{jm} v^{lm}_{id} - t^{d}_{k} t^{a}_{l} t^{ce}_{ij} v^{bl}_{de} - t^{d}_{k} t^{a}_{l} t^{bce}_{ijm} v^{lm}_{de} - t^{d}_{k} t^{b}_{l} t^{c}_{m} t^{ae}_{ij} v^{lm}_{de} - t^{d}_{k} t^{b}_{l} t^{ae}_{ij} v^{cl}_{de} + t^{d}_{k} t^{b}_{l} t^{ce}_{ij} v^{al}_{de} - t^{d}_{k} t^{b}_{m} t^{ac}_{il} v^{lm}_{jd} + t^{d}_{k} t^{b}_{m} t^{ac}_{jl} v^{lm}_{id} - t^{d}_{k} t^{b}_{m} t^{ace}_{ijl} v^{lm}_{de} + t^{d}_{k} t^{c}_{l} t^{ae}_{ij} v^{bl}_{de} - t^{d}_{k} t^{c}_{l} t^{be}_{ij} v^{al}_{de} + t^{d}_{k} t^{c}_{m} t^{ab}_{il} v^{lm}_{jd} - t^{d}_{k} t^{c}_{m} t^{ab}_{jl} v^{lm}_{id} + t^{d}_{k} t^{c}_{m} t^{abe}_{ijl} v^{lm}_{de} + t^{d}_{k} t^{ae}_{il} t^{bc}_{jm} v^{lm}_{de} - \\frac{t^{d}_{k} t^{ae}_{ij} t^{bc}_{lm} v^{lm}_{de}}{2} - t^{d}_{k} t^{ae}_{ij} v^{bc}_{de} - t^{d}_{k} t^{ae}_{jl} t^{bc}_{im} v^{lm}_{de} - \\frac{t^{d}_{k} t^{ab}_{lm} t^{ce}_{ij} v^{lm}_{de}}{2} + t^{d}_{k} t^{ab}_{il} t^{ce}_{jm} v^{lm}_{de} + t^{d}_{k} t^{ab}_{il} v^{cl}_{jd} - t^{d}_{k} t^{ab}_{jl} t^{ce}_{im} v^{lm}_{de} - t^{d}_{k} t^{ab}_{jl} v^{cl}_{id} + \\frac{t^{d}_{k} t^{ac}_{lm} t^{be}_{ij} v^{lm}_{de}}{2} - t^{d}_{k} t^{ac}_{il} t^{be}_{jm} v^{lm}_{de} - t^{d}_{k} t^{ac}_{il} v^{bl}_{jd} + t^{d}_{k} t^{ac}_{jl} t^{be}_{im} v^{lm}_{de} + t^{d}_{k} t^{ac}_{jl} v^{bl}_{id} + t^{d}_{k} t^{be}_{ij} v^{ac}_{de} + t^{d}_{k} t^{bc}_{il} v^{al}_{jd} - t^{d}_{k} t^{bc}_{jl} v^{al}_{id} - t^{d}_{k} t^{ce}_{ij} v^{ab}_{de} + t^{d}_{k} t^{abe}_{ijl} v^{cl}_{de} + \\frac{t^{d}_{k} t^{abc}_{ilm} v^{lm}_{jd}}{2} - \\frac{t^{d}_{k} t^{abc}_{jlm} v^{lm}_{id}}{2} - t^{d}_{k} t^{ace}_{ijl} v^{bl}_{de} + t^{d}_{k} t^{bce}_{ijl} v^{al}_{de} - t^{a}_{l} t^{b}_{m} t^{cd}_{ij} v^{lm}_{kd} + t^{a}_{l} t^{b}_{m} t^{cd}_{ik} v^{lm}_{jd} - t^{a}_{l} t^{b}_{m} t^{cd}_{jk} v^{lm}_{id} + \\frac{t^{a}_{l} t^{b}_{m} t^{cde}_{ijk} v^{lm}_{de}}{2} + t^{a}_{l} t^{c}_{m} t^{bd}_{ij} v^{lm}_{kd} - t^{a}_{l} t^{c}_{m} t^{bd}_{ik} v^{lm}_{jd} + t^{a}_{l} t^{c}_{m} t^{bd}_{jk} v^{lm}_{id} - \\frac{t^{a}_{l} t^{c}_{m} t^{bde}_{ijk} v^{lm}_{de}}{2} - \\frac{t^{a}_{l} t^{de}_{ij} t^{bc}_{km} v^{lm}_{de}}{2} + \\frac{t^{a}_{l} t^{de}_{ik} t^{bc}_{jm} v^{lm}_{de}}{2} - \\frac{t^{a}_{l} t^{de}_{jk} t^{bc}_{im} v^{lm}_{de}}{2} + t^{a}_{l} t^{bd}_{im} t^{ce}_{jk} v^{lm}_{de} + t^{a}_{l} t^{bd}_{ij} t^{ce}_{km} v^{lm}_{de} + t^{a}_{l} t^{bd}_{ij} v^{cl}_{kd} - t^{a}_{l} t^{bd}_{ik} t^{ce}_{jm} v^{lm}_{de} - t^{a}_{l} t^{bd}_{ik} v^{cl}_{jd} - t^{a}_{l} t^{bd}_{jm} t^{ce}_{ik} v^{lm}_{de} + t^{a}_{l} t^{bd}_{jk} t^{ce}_{im} v^{lm}_{de} + t^{a}_{l} t^{bd}_{jk} v^{cl}_{id} + t^{a}_{l} t^{bd}_{km} t^{ce}_{ij} v^{lm}_{de} - t^{a}_{l} t^{bc}_{im} v^{lm}_{jk} + t^{a}_{l} t^{bc}_{jm} v^{lm}_{ik} - t^{a}_{l} t^{bc}_{km} v^{lm}_{ij} - t^{a}_{l} t^{cd}_{ij} v^{bl}_{kd} + t^{a}_{l} t^{cd}_{ik} v^{bl}_{jd} - t^{a}_{l} t^{cd}_{jk} v^{bl}_{id} - \\frac{t^{a}_{l} t^{bde}_{ijk} v^{cl}_{de}}{2} - t^{a}_{l} t^{bcd}_{ijm} v^{lm}_{kd} + t^{a}_{l} t^{bcd}_{ikm} v^{lm}_{jd} - t^{a}_{l} t^{bcd}_{jkm} v^{lm}_{id} + \\frac{t^{a}_{l} t^{cde}_{ijk} v^{bl}_{de}}{2} - t^{b}_{l} t^{c}_{m} t^{ad}_{ij} v^{lm}_{kd} + t^{b}_{l} t^{c}_{m} t^{ad}_{ik} v^{lm}_{jd} - t^{b}_{l} t^{c}_{m} t^{ad}_{jk} v^{lm}_{id} + \\frac{t^{b}_{l} t^{c}_{m} t^{ade}_{ijk} v^{lm}_{de}}{2} - t^{b}_{l} t^{ad}_{ij} t^{ce}_{km} v^{lm}_{de} - t^{b}_{l} t^{ad}_{ij} v^{cl}_{kd} + t^{b}_{l} t^{ad}_{ik} t^{ce}_{jm} v^{lm}_{de} + t^{b}_{l} t^{ad}_{ik} v^{cl}_{jd} - t^{b}_{l} t^{ad}_{jk} t^{ce}_{im} v^{lm}_{de} - t^{b}_{l} t^{ad}_{jk} v^{cl}_{id} + t^{b}_{l} t^{cd}_{ij} v^{al}_{kd} - t^{b}_{l} t^{cd}_{ik} v^{al}_{jd} + t^{b}_{l} t^{cd}_{jk} v^{al}_{id} + \\frac{t^{b}_{l} t^{ade}_{ijk} v^{cl}_{de}}{2} - \\frac{t^{b}_{l} t^{cde}_{ijk} v^{al}_{de}}{2} - \\frac{t^{b}_{m} t^{de}_{ij} t^{ac}_{kl} v^{lm}_{de}}{2} + \\frac{t^{b}_{m} t^{de}_{ik} t^{ac}_{jl} v^{lm}_{de}}{2} - \\frac{t^{b}_{m} t^{de}_{jk} t^{ac}_{il} v^{lm}_{de}}{2} + t^{b}_{m} t^{ad}_{il} t^{ce}_{jk} v^{lm}_{de} - t^{b}_{m} t^{ad}_{jl} t^{ce}_{ik} v^{lm}_{de} + t^{b}_{m} t^{ad}_{kl} t^{ce}_{ij} v^{lm}_{de} - t^{b}_{m} t^{ac}_{il} v^{lm}_{jk} + t^{b}_{m} t^{ac}_{jl} v^{lm}_{ik} - t^{b}_{m} t^{ac}_{kl} v^{lm}_{ij} - t^{b}_{m} t^{acd}_{ijl} v^{lm}_{kd} + t^{b}_{m} t^{acd}_{ikl} v^{lm}_{jd} - t^{b}_{m} t^{acd}_{jkl} v^{lm}_{id} + t^{c}_{l} t^{ad}_{ij} v^{bl}_{kd} - t^{c}_{l} t^{ad}_{ik} v^{bl}_{jd} + t^{c}_{l} t^{ad}_{jk} v^{bl}_{id} - t^{c}_{l} t^{bd}_{ij} v^{al}_{kd} + t^{c}_{l} t^{bd}_{ik} v^{al}_{jd} - t^{c}_{l} t^{bd}_{jk} v^{al}_{id} - \\frac{t^{c}_{l} t^{ade}_{ijk} v^{bl}_{de}}{2} + \\frac{t^{c}_{l} t^{bde}_{ijk} v^{al}_{de}}{2} + \\frac{t^{c}_{m} t^{de}_{ij} t^{ab}_{kl} v^{lm}_{de}}{2} - \\frac{t^{c}_{m} t^{de}_{ik} t^{ab}_{jl} v^{lm}_{de}}{2} + \\frac{t^{c}_{m} t^{de}_{jk} t^{ab}_{il} v^{lm}_{de}}{2} - t^{c}_{m} t^{ad}_{il} t^{be}_{jk} v^{lm}_{de} - t^{c}_{m} t^{ad}_{ij} t^{be}_{kl} v^{lm}_{de} + t^{c}_{m} t^{ad}_{ik} t^{be}_{jl} v^{lm}_{de} + t^{c}_{m} t^{ad}_{jl} t^{be}_{ik} v^{lm}_{de} - t^{c}_{m} t^{ad}_{jk} t^{be}_{il} v^{lm}_{de} - t^{c}_{m} t^{ad}_{kl} t^{be}_{ij} v^{lm}_{de} + t^{c}_{m} t^{ab}_{il} v^{lm}_{jk} - t^{c}_{m} t^{ab}_{jl} v^{lm}_{ik} + t^{c}_{m} t^{ab}_{kl} v^{lm}_{ij} + t^{c}_{m} t^{abd}_{ijl} v^{lm}_{kd} - t^{c}_{m} t^{abd}_{ikl} v^{lm}_{jd} + t^{c}_{m} t^{abd}_{jkl} v^{lm}_{id} + \\frac{t^{de}_{il} t^{abc}_{jkm} v^{lm}_{de}}{2} + \\frac{t^{de}_{ij} t^{ab}_{kl} v^{cl}_{de}}{2} - \\frac{t^{de}_{ij} t^{ac}_{kl} v^{bl}_{de}}{2} + \\frac{t^{de}_{ij} t^{bc}_{kl} v^{al}_{de}}{2} + \\frac{t^{de}_{ij} t^{abc}_{klm} v^{lm}_{de}}{4} - \\frac{t^{de}_{ik} t^{ab}_{jl} v^{cl}_{de}}{2} + \\frac{t^{de}_{ik} t^{ac}_{jl} v^{bl}_{de}}{2} - \\frac{t^{de}_{ik} t^{bc}_{jl} v^{al}_{de}}{2} - \\frac{t^{de}_{ik} t^{abc}_{jlm} v^{lm}_{de}}{4} - \\frac{t^{de}_{jl} t^{abc}_{ikm} v^{lm}_{de}}{2} + \\frac{t^{de}_{jk} t^{ab}_{il} v^{cl}_{de}}{2} - \\frac{t^{de}_{jk} t^{ac}_{il} v^{bl}_{de}}{2} + \\frac{t^{de}_{jk} t^{bc}_{il} v^{al}_{de}}{2} + \\frac{t^{de}_{jk} t^{abc}_{ilm} v^{lm}_{de}}{4} + \\frac{t^{de}_{kl} t^{abc}_{ijm} v^{lm}_{de}}{2} + \\frac{t^{ad}_{lm} t^{bce}_{ijk} v^{lm}_{de}}{2} - t^{ad}_{il} t^{be}_{jk} v^{cl}_{de} + t^{ad}_{il} t^{bc}_{jm} v^{lm}_{kd} - t^{ad}_{il} t^{bc}_{km} v^{lm}_{jd} + t^{ad}_{il} t^{ce}_{jk} v^{bl}_{de} + t^{ad}_{il} t^{bce}_{jkm} v^{lm}_{de} - t^{ad}_{ij} t^{be}_{kl} v^{cl}_{de} - \\frac{t^{ad}_{ij} t^{bc}_{lm} v^{lm}_{kd}}{2} + t^{ad}_{ij} t^{ce}_{kl} v^{bl}_{de} + \\frac{t^{ad}_{ij} t^{bce}_{klm} v^{lm}_{de}}{2} - t^{ad}_{ij} v^{bc}_{kd} + t^{ad}_{ik} t^{be}_{jl} v^{cl}_{de} + \\frac{t^{ad}_{ik} t^{bc}_{lm} v^{lm}_{jd}}{2} - t^{ad}_{ik} t^{ce}_{jl} v^{bl}_{de} - \\frac{t^{ad}_{ik} t^{bce}_{jlm} v^{lm}_{de}}{2} + t^{ad}_{ik} v^{bc}_{jd} + t^{ad}_{jl} t^{be}_{ik} v^{cl}_{de} - t^{ad}_{jl} t^{bc}_{im} v^{lm}_{kd} + t^{ad}_{jl} t^{bc}_{km} v^{lm}_{id} - t^{ad}_{jl} t^{ce}_{ik} v^{bl}_{de} - t^{ad}_{jl} t^{bce}_{ikm} v^{lm}_{de} - t^{ad}_{jk} t^{be}_{il} v^{cl}_{de} - \\frac{t^{ad}_{jk} t^{bc}_{lm} v^{lm}_{id}}{2} + t^{ad}_{jk} t^{ce}_{il} v^{bl}_{de} + \\frac{t^{ad}_{jk} t^{bce}_{ilm} v^{lm}_{de}}{2} - t^{ad}_{jk} v^{bc}_{id} - t^{ad}_{kl} t^{be}_{ij} v^{cl}_{de} + t^{ad}_{kl} t^{bc}_{im} v^{lm}_{jd} - t^{ad}_{kl} t^{bc}_{jm} v^{lm}_{id} + t^{ad}_{kl} t^{ce}_{ij} v^{bl}_{de} + t^{ad}_{kl} t^{bce}_{ijm} v^{lm}_{de} - \\frac{t^{ab}_{lm} t^{cd}_{ij} v^{lm}_{kd}}{2} + \\frac{t^{ab}_{lm} t^{cd}_{ik} v^{lm}_{jd}}{2} - \\frac{t^{ab}_{lm} t^{cd}_{jk} v^{lm}_{id}}{2} + \\frac{t^{ab}_{lm} t^{cde}_{ijk} v^{lm}_{de}}{4} + t^{ab}_{il} t^{cd}_{jm} v^{lm}_{kd} - t^{ab}_{il} t^{cd}_{km} v^{lm}_{jd} + \\frac{t^{ab}_{il} t^{cde}_{jkm} v^{lm}_{de}}{2} + t^{ab}_{il} v^{cl}_{jk} - t^{ab}_{jl} t^{cd}_{im} v^{lm}_{kd} + t^{ab}_{jl} t^{cd}_{km} v^{lm}_{id} - \\frac{t^{ab}_{jl} t^{cde}_{ikm} v^{lm}_{de}}{2} - t^{ab}_{jl} v^{cl}_{ik} + t^{ab}_{kl} t^{cd}_{im} v^{lm}_{jd} - t^{ab}_{kl} t^{cd}_{jm} v^{lm}_{id} + \\frac{t^{ab}_{kl} t^{cde}_{ijm} v^{lm}_{de}}{2} + t^{ab}_{kl} v^{cl}_{ij} + \\frac{t^{ac}_{lm} t^{bd}_{ij} v^{lm}_{kd}}{2} - \\frac{t^{ac}_{lm} t^{bd}_{ik} v^{lm}_{jd}}{2} + \\frac{t^{ac}_{lm} t^{bd}_{jk} v^{lm}_{id}}{2} - \\frac{t^{ac}_{lm} t^{bde}_{ijk} v^{lm}_{de}}{4} - t^{ac}_{il} t^{bd}_{jm} v^{lm}_{kd} + t^{ac}_{il} t^{bd}_{km} v^{lm}_{jd} - \\frac{t^{ac}_{il} t^{bde}_{jkm} v^{lm}_{de}}{2} - t^{ac}_{il} v^{bl}_{jk} + t^{ac}_{jl} t^{bd}_{im} v^{lm}_{kd} - t^{ac}_{jl} t^{bd}_{km} v^{lm}_{id} + \\frac{t^{ac}_{jl} t^{bde}_{ikm} v^{lm}_{de}}{2} + t^{ac}_{jl} v^{bl}_{ik} - t^{ac}_{kl} t^{bd}_{im} v^{lm}_{jd} + t^{ac}_{kl} t^{bd}_{jm} v^{lm}_{id} - \\frac{t^{ac}_{kl} t^{bde}_{ijm} v^{lm}_{de}}{2} - t^{ac}_{kl} v^{bl}_{ij} - t^{bd}_{il} t^{ce}_{jk} v^{al}_{de} - t^{bd}_{ij} t^{ce}_{kl} v^{al}_{de} + t^{bd}_{ij} v^{ac}_{kd} + t^{bd}_{ik} t^{ce}_{jl} v^{al}_{de} - t^{bd}_{ik} v^{ac}_{jd} + t^{bd}_{jl} t^{ce}_{ik} v^{al}_{de} - t^{bd}_{jk} t^{ce}_{il} v^{al}_{de} + t^{bd}_{jk} v^{ac}_{id} - t^{bd}_{kl} t^{ce}_{ij} v^{al}_{de} + \\frac{t^{be}_{lm} t^{acd}_{ijk} v^{lm}_{de}}{2} - t^{be}_{im} t^{acd}_{jkl} v^{lm}_{de} + \\frac{t^{be}_{ij} t^{acd}_{klm} v^{lm}_{de}}{2} - \\frac{t^{be}_{ik} t^{acd}_{jlm} v^{lm}_{de}}{2} + t^{be}_{jm} t^{acd}_{ikl} v^{lm}_{de} + \\frac{t^{be}_{jk} t^{acd}_{ilm} v^{lm}_{de}}{2} - t^{be}_{km} t^{acd}_{ijl} v^{lm}_{de} + \\frac{t^{bc}_{lm} t^{ade}_{ijk} v^{lm}_{de}}{4} + t^{bc}_{il} v^{al}_{jk} - \\frac{t^{bc}_{im} t^{ade}_{jkl} v^{lm}_{de}}{2} - t^{bc}_{jl} v^{al}_{ik} + \\frac{t^{bc}_{jm} t^{ade}_{ikl} v^{lm}_{de}}{2} + t^{bc}_{kl} v^{al}_{ij} - \\frac{t^{bc}_{km} t^{ade}_{ijl} v^{lm}_{de}}{2} - t^{cd}_{ij} v^{ab}_{kd} + t^{cd}_{ik} v^{ab}_{jd} - t^{cd}_{jk} v^{ab}_{id} - \\frac{t^{ce}_{lm} t^{abd}_{ijk} v^{lm}_{de}}{2} + t^{ce}_{im} t^{abd}_{jkl} v^{lm}_{de} - \\frac{t^{ce}_{ij} t^{abd}_{klm} v^{lm}_{de}}{2} + \\frac{t^{ce}_{ik} t^{abd}_{jlm} v^{lm}_{de}}{2} - t^{ce}_{jm} t^{abd}_{ikl} v^{lm}_{de} - \\frac{t^{ce}_{jk} t^{abd}_{ilm} v^{lm}_{de}}{2} + t^{ce}_{km} t^{abd}_{ijl} v^{lm}_{de} + \\frac{t^{ade}_{ijk} v^{bc}_{de}}{2} + t^{abd}_{ijl} v^{cl}_{kd} - t^{abd}_{ikl} v^{cl}_{jd} + t^{abd}_{jkl} v^{cl}_{id} + \\frac{t^{abc}_{ilm} v^{lm}_{jk}}{2} - \\frac{t^{abc}_{jlm} v^{lm}_{ik}}{2} + \\frac{t^{abc}_{klm} v^{lm}_{ij}}{2} - t^{acd}_{ijl} v^{bl}_{kd} + t^{acd}_{ikl} v^{bl}_{jd} - t^{acd}_{jkl} v^{bl}_{id} - \\frac{t^{bde}_{ijk} v^{ac}_{de}}{2} + t^{bcd}_{ijl} v^{al}_{kd} - t^{bcd}_{ikl} v^{al}_{jd} + t^{bcd}_{jkl} v^{al}_{id} + \\frac{t^{cde}_{ijk} v^{ab}_{de}}{2}$"
      ],
      "text/plain": [
       "-AntiSymmetricTensor(f, (_l,), (_d,))*AntiSymmetricTensor(t, (_d,), (i,))*AntiSymmetricTensor(t, (a, b, c), (j, k, _l)) + AntiSymmetricTensor(f, (_l,), (_d,))*AntiSymmetricTensor(t, (_d,), (j,))*AntiSymmetricTensor(t, (a, b, c), (i, k, _l)) - AntiSymmetricTensor(f, (_l,), (_d,))*AntiSymmetricTensor(t, (_d,), (k,))*AntiSymmetricTensor(t, (a, b, c), (i, j, _l)) - AntiSymmetricTensor(f, (_l,), (_d,))*AntiSymmetricTensor(t, (a,), (_l,))*AntiSymmetricTensor(t, (b, c, _d), (i, j, k)) + AntiSymmetricTensor(f, (_l,), (_d,))*AntiSymmetricTensor(t, (b,), (_l,))*AntiSymmetricTensor(t, (a, c, _d), (i, j, k)) - AntiSymmetricTensor(f, (_l,), (_d,))*AntiSymmetricTensor(t, (c,), (_l,))*AntiSymmetricTensor(t, (a, b, _d), (i, j, k)) + AntiSymmetricTensor(f, (_l,), (_d,))*AntiSymmetricTensor(t, (a, _d), (i, j))*AntiSymmetricTensor(t, (b, c), (k, _l)) - AntiSymmetricTensor(f, (_l,), (_d,))*AntiSymmetricTensor(t, (a, _d), (i, k))*AntiSymmetricTensor(t, (b, c), (j, _l)) + AntiSymmetricTensor(f, (_l,), (_d,))*AntiSymmetricTensor(t, (a, _d), (j, k))*AntiSymmetricTensor(t, (b, c), (i, _l)) + AntiSymmetricTensor(f, (_l,), (_d,))*AntiSymmetricTensor(t, (a, b), (i, _l))*AntiSymmetricTensor(t, (c, _d), (j, k)) - AntiSymmetricTensor(f, (_l,), (_d,))*AntiSymmetricTensor(t, (a, b), (j, _l))*AntiSymmetricTensor(t, (c, _d), (i, k)) + AntiSymmetricTensor(f, (_l,), (_d,))*AntiSymmetricTensor(t, (a, b), (k, _l))*AntiSymmetricTensor(t, (c, _d), (i, j)) - AntiSymmetricTensor(f, (_l,), (_d,))*AntiSymmetricTensor(t, (a, c), (i, _l))*AntiSymmetricTensor(t, (b, _d), (j, k)) + AntiSymmetricTensor(f, (_l,), (_d,))*AntiSymmetricTensor(t, (a, c), (j, _l))*AntiSymmetricTensor(t, (b, _d), (i, k)) - AntiSymmetricTensor(f, (_l,), (_d,))*AntiSymmetricTensor(t, (a, c), (k, _l))*AntiSymmetricTensor(t, (b, _d), (i, j)) - AntiSymmetricTensor(f, (_l,), (i,))*AntiSymmetricTensor(t, (a, b, c), (j, k, _l)) + AntiSymmetricTensor(f, (_l,), (j,))*AntiSymmetricTensor(t, (a, b, c), (i, k, _l)) - AntiSymmetricTensor(f, (_l,), (k,))*AntiSymmetricTensor(t, (a, b, c), (i, j, _l)) + AntiSymmetricTensor(f, (a,), (_d,))*AntiSymmetricTensor(t, (b, c, _d), (i, j, k)) - AntiSymmetricTensor(f, (b,), (_d,))*AntiSymmetricTensor(t, (a, c, _d), (i, j, k)) + AntiSymmetricTensor(f, (c,), (_d,))*AntiSymmetricTensor(t, (a, b, _d), (i, j, k)) - AntiSymmetricTensor(t, (_d,), (_l,))*AntiSymmetricTensor(t, (_e,), (i,))*AntiSymmetricTensor(t, (a, b, c), (j, k, _m))*AntiSymmetricTensor(v, (_l, _m), (_d, _e)) + AntiSymmetricTensor(t, (_d,), (_l,))*AntiSymmetricTensor(t, (_e,), (j,))*AntiSymmetricTensor(t, (a, b, c), (i, k, _m))*AntiSymmetricTensor(v, (_l, _m), (_d, _e)) - AntiSymmetricTensor(t, (_d,), (_l,))*AntiSymmetricTensor(t, (_e,), (k,))*AntiSymmetricTensor(t, (a, b, c), (i, j, _m))*AntiSymmetricTensor(v, (_l, _m), (_d, _e)) - AntiSymmetricTensor(t, (_d,), (_l,))*AntiSymmetricTensor(t, (a,), (_m,))*AntiSymmetricTensor(t, (b, c, _e), (i, j, k))*AntiSymmetricTensor(v, (_l, _m), (_d, _e)) + AntiSymmetricTensor(t, (_d,), (_l,))*AntiSymmetricTensor(t, (b,), (_m,))*AntiSymmetricTensor(t, (a, c, _e), (i, j, k))*AntiSymmetricTensor(v, (_l, _m), (_d, _e)) - AntiSymmetricTensor(t, (_d,), (_l,))*AntiSymmetricTensor(t, (c,), (_m,))*AntiSymmetricTensor(t, (a, b, _e), (i, j, k))*AntiSymmetricTensor(v, (_l, _m), (_d, _e)) + AntiSymmetricTensor(t, (_d,), (_l,))*AntiSymmetricTensor(t, (a, _e), (i, j))*AntiSymmetricTensor(t, (b, c), (k, _m))*AntiSymmetricTensor(v, (_l, _m), (_d, _e)) - AntiSymmetricTensor(t, (_d,), (_l,))*AntiSymmetricTensor(t, (a, _e), (i, k))*AntiSymmetricTensor(t, (b, c), (j, _m))*AntiSymmetricTensor(v, (_l, _m), (_d, _e)) + AntiSymmetricTensor(t, (_d,), (_l,))*AntiSymmetricTensor(t, (a, _e), (j, k))*AntiSymmetricTensor(t, (b, c), (i, _m))*AntiSymmetricTensor(v, (_l, _m), (_d, _e)) + AntiSymmetricTensor(t, (_d,), (_l,))*AntiSymmetricTensor(t, (a, b), (i, _m))*AntiSymmetricTensor(t, (c, _e), (j, k))*AntiSymmetricTensor(v, (_l, _m), (_d, _e)) - AntiSymmetricTensor(t, (_d,), (_l,))*AntiSymmetricTensor(t, (a, b), (j, _m))*AntiSymmetricTensor(t, (c, _e), (i, k))*AntiSymmetricTensor(v, (_l, _m), (_d, _e)) + AntiSymmetricTensor(t, (_d,), (_l,))*AntiSymmetricTensor(t, (a, b), (k, _m))*AntiSymmetricTensor(t, (c, _e), (i, j))*AntiSymmetricTensor(v, (_l, _m), (_d, _e)) - AntiSymmetricTensor(t, (_d,), (_l,))*AntiSymmetricTensor(t, (a, c), (i, _m))*AntiSymmetricTensor(t, (b, _e), (j, k))*AntiSymmetricTensor(v, (_l, _m), (_d, _e)) + AntiSymmetricTensor(t, (_d,), (_l,))*AntiSymmetricTensor(t, (a, c), (j, _m))*AntiSymmetricTensor(t, (b, _e), (i, k))*AntiSymmetricTensor(v, (_l, _m), (_d, _e)) - AntiSymmetricTensor(t, (_d,), (_l,))*AntiSymmetricTensor(t, (a, c), (k, _m))*AntiSymmetricTensor(t, (b, _e), (i, j))*AntiSymmetricTensor(v, (_l, _m), (_d, _e)) - AntiSymmetricTensor(t, (_d,), (_l,))*AntiSymmetricTensor(t, (a, b, _e), (i, j, k))*AntiSymmetricTensor(v, (c, _l), (_d, _e)) + AntiSymmetricTensor(t, (_d,), (_l,))*AntiSymmetricTensor(t, (a, b, c), (i, j, _m))*AntiSymmetricTensor(v, (_l, _m), (k, _d)) - AntiSymmetricTensor(t, (_d,), (_l,))*AntiSymmetricTensor(t, (a, b, c), (i, k, _m))*AntiSymmetricTensor(v, (_l, _m), (j, _d)) + AntiSymmetricTensor(t, (_d,), (_l,))*AntiSymmetricTensor(t, (a, b, c), (j, k, _m))*AntiSymmetricTensor(v, (_l, _m), (i, _d)) + AntiSymmetricTensor(t, (_d,), (_l,))*AntiSymmetricTensor(t, (a, c, _e), (i, j, k))*AntiSymmetricTensor(v, (b, _l), (_d, _e)) - AntiSymmetricTensor(t, (_d,), (_l,))*AntiSymmetricTensor(t, (b, c, _e), (i, j, k))*AntiSymmetricTensor(v, (a, _l), (_d, _e)) - AntiSymmetricTensor(t, (_d,), (i,))*AntiSymmetricTensor(t, (_e,), (j,))*AntiSymmetricTensor(t, (a,), (_l,))*AntiSymmetricTensor(t, (b, c), (k, _m))*AntiSymmetricTensor(v, (_l, _m), (_d, _e)) - AntiSymmetricTensor(t, (_d,), (i,))*AntiSymmetricTensor(t, (_e,), (j,))*AntiSymmetricTensor(t, (b,), (_m,))*AntiSymmetricTensor(t, (a, c), (k, _l))*AntiSymmetricTensor(v, (_l, _m), (_d, _e)) + AntiSymmetricTensor(t, (_d,), (i,))*AntiSymmetricTensor(t, (_e,), (j,))*AntiSymmetricTensor(t, (c,), (_m,))*AntiSymmetricTensor(t, (a, b), (k, _l))*AntiSymmetricTensor(v, (_l, _m), (_d, _e)) + AntiSymmetricTensor(t, (_d,), (i,))*AntiSymmetricTensor(t, (_e,), (j,))*AntiSymmetricTensor(t, (a, b), (k, _l))*AntiSymmetricTensor(v, (c, _l), (_d, _e)) - AntiSymmetricTensor(t, (_d,), (i,))*AntiSymmetricTensor(t, (_e,), (j,))*AntiSymmetricTensor(t, (a, c), (k, _l))*AntiSymmetricTensor(v, (b, _l), (_d, _e)) + AntiSymmetricTensor(t, (_d,), (i,))*AntiSymmetricTensor(t, (_e,), (j,))*AntiSymmetricTensor(t, (b, c), (k, _l))*AntiSymmetricTensor(v, (a, _l), (_d, _e)) + AntiSymmetricTensor(t, (_d,), (i,))*AntiSymmetricTensor(t, (_e,), (j,))*AntiSymmetricTensor(t, (a, b, c), (k, _l, _m))*AntiSymmetricTensor(v, (_l, _m), (_d, _e))/2 + AntiSymmetricTensor(t, (_d,), (i,))*AntiSymmetricTensor(t, (_e,), (k,))*AntiSymmetricTensor(t, (a,), (_l,))*AntiSymmetricTensor(t, (b, c), (j, _m))*AntiSymmetricTensor(v, (_l, _m), (_d, _e)) + AntiSymmetricTensor(t, (_d,), (i,))*AntiSymmetricTensor(t, (_e,), (k,))*AntiSymmetricTensor(t, (b,), (_m,))*AntiSymmetricTensor(t, (a, c), (j, _l))*AntiSymmetricTensor(v, (_l, _m), (_d, _e)) - AntiSymmetricTensor(t, (_d,), (i,))*AntiSymmetricTensor(t, (_e,), (k,))*AntiSymmetricTensor(t, (c,), (_m,))*AntiSymmetricTensor(t, (a, b), (j, _l))*AntiSymmetricTensor(v, (_l, _m), (_d, _e)) - AntiSymmetricTensor(t, (_d,), (i,))*AntiSymmetricTensor(t, (_e,), (k,))*AntiSymmetricTensor(t, (a, b), (j, _l))*AntiSymmetricTensor(v, (c, _l), (_d, _e)) + AntiSymmetricTensor(t, (_d,), (i,))*AntiSymmetricTensor(t, (_e,), (k,))*AntiSymmetricTensor(t, (a, c), (j, _l))*AntiSymmetricTensor(v, (b, _l), (_d, _e)) - AntiSymmetricTensor(t, (_d,), (i,))*AntiSymmetricTensor(t, (_e,), (k,))*AntiSymmetricTensor(t, (b, c), (j, _l))*AntiSymmetricTensor(v, (a, _l), (_d, _e)) - AntiSymmetricTensor(t, (_d,), (i,))*AntiSymmetricTensor(t, (_e,), (k,))*AntiSymmetricTensor(t, (a, b, c), (j, _l, _m))*AntiSymmetricTensor(v, (_l, _m), (_d, _e))/2 - AntiSymmetricTensor(t, (_d,), (i,))*AntiSymmetricTensor(t, (a,), (_l,))*AntiSymmetricTensor(t, (b,), (_m,))*AntiSymmetricTensor(t, (c, _e), (j, k))*AntiSymmetricTensor(v, (_l, _m), (_d, _e)) + AntiSymmetricTensor(t, (_d,), (i,))*AntiSymmetricTensor(t, (a,), (_l,))*AntiSymmetricTensor(t, (c,), (_m,))*AntiSymmetricTensor(t, (b, _e), (j, k))*AntiSymmetricTensor(v, (_l, _m), (_d, _e)) + AntiSymmetricTensor(t, (_d,), (i,))*AntiSymmetricTensor(t, (a,), (_l,))*AntiSymmetricTensor(t, (b, _e), (j, k))*AntiSymmetricTensor(v, (c, _l), (_d, _e)) - AntiSymmetricTensor(t, (_d,), (i,))*AntiSymmetricTensor(t, (a,), (_l,))*AntiSymmetricTensor(t, (b, c), (j, _m))*AntiSymmetricTensor(v, (_l, _m), (k, _d)) + AntiSymmetricTensor(t, (_d,), (i,))*AntiSymmetricTensor(t, (a,), (_l,))*AntiSymmetricTensor(t, (b, c), (k, _m))*AntiSymmetricTensor(v, (_l, _m), (j, _d)) - AntiSymmetricTensor(t, (_d,), (i,))*AntiSymmetricTensor(t, (a,), (_l,))*AntiSymmetricTensor(t, (c, _e), (j, k))*AntiSymmetricTensor(v, (b, _l), (_d, _e)) - AntiSymmetricTensor(t, (_d,), (i,))*AntiSymmetricTensor(t, (a,), (_l,))*AntiSymmetricTensor(t, (b, c, _e), (j, k, _m))*AntiSymmetricTensor(v, (_l, _m), (_d, _e)) - AntiSymmetricTensor(t, (_d,), (i,))*AntiSymmetricTensor(t, (b,), (_l,))*AntiSymmetricTensor(t, (c,), (_m,))*AntiSymmetricTensor(t, (a, _e), (j, k))*AntiSymmetricTensor(v, (_l, _m), (_d, _e)) - AntiSymmetricTensor(t, (_d,), (i,))*AntiSymmetricTensor(t, (b,), (_l,))*AntiSymmetricTensor(t, (a, _e), (j, k))*AntiSymmetricTensor(v, (c, _l), (_d, _e)) + AntiSymmetricTensor(t, (_d,), (i,))*AntiSymmetricTensor(t, (b,), (_l,))*AntiSymmetricTensor(t, (c, _e), (j, k))*AntiSymmetricTensor(v, (a, _l), (_d, _e)) - AntiSymmetricTensor(t, (_d,), (i,))*AntiSymmetricTensor(t, (b,), (_m,))*AntiSymmetricTensor(t, (a, c), (j, _l))*AntiSymmetricTensor(v, (_l, _m), (k, _d)) + AntiSymmetricTensor(t, (_d,), (i,))*AntiSymmetricTensor(t, (b,), (_m,))*AntiSymmetricTensor(t, (a, c), (k, _l))*AntiSymmetricTensor(v, (_l, _m), (j, _d)) - AntiSymmetricTensor(t, (_d,), (i,))*AntiSymmetricTensor(t, (b,), (_m,))*AntiSymmetricTensor(t, (a, c, _e), (j, k, _l))*AntiSymmetricTensor(v, (_l, _m), (_d, _e)) + AntiSymmetricTensor(t, (_d,), (i,))*AntiSymmetricTensor(t, (c,), (_l,))*AntiSymmetricTensor(t, (a, _e), (j, k))*AntiSymmetricTensor(v, (b, _l), (_d, _e)) - AntiSymmetricTensor(t, (_d,), (i,))*AntiSymmetricTensor(t, (c,), (_l,))*AntiSymmetricTensor(t, (b, _e), (j, k))*AntiSymmetricTensor(v, (a, _l), (_d, _e)) + AntiSymmetricTensor(t, (_d,), (i,))*AntiSymmetricTensor(t, (c,), (_m,))*AntiSymmetricTensor(t, (a, b), (j, _l))*AntiSymmetricTensor(v, (_l, _m), (k, _d)) - AntiSymmetricTensor(t, (_d,), (i,))*AntiSymmetricTensor(t, (c,), (_m,))*AntiSymmetricTensor(t, (a, b), (k, _l))*AntiSymmetricTensor(v, (_l, _m), (j, _d)) + AntiSymmetricTensor(t, (_d,), (i,))*AntiSymmetricTensor(t, (c,), (_m,))*AntiSymmetricTensor(t, (a, b, _e), (j, k, _l))*AntiSymmetricTensor(v, (_l, _m), (_d, _e)) + AntiSymmetricTensor(t, (_d,), (i,))*AntiSymmetricTensor(t, (a, _e), (j, _l))*AntiSymmetricTensor(t, (b, c), (k, _m))*AntiSymmetricTensor(v, (_l, _m), (_d, _e)) - AntiSymmetricTensor(t, (_d,), (i,))*AntiSymmetricTensor(t, (a, _e), (j, k))*AntiSymmetricTensor(t, (b, c), (_l, _m))*AntiSymmetricTensor(v, (_l, _m), (_d, _e))/2 - AntiSymmetricTensor(t, (_d,), (i,))*AntiSymmetricTensor(t, (a, _e), (j, k))*AntiSymmetricTensor(v, (b, c), (_d, _e)) - AntiSymmetricTensor(t, (_d,), (i,))*AntiSymmetricTensor(t, (a, _e), (k, _l))*AntiSymmetricTensor(t, (b, c), (j, _m))*AntiSymmetricTensor(v, (_l, _m), (_d, _e)) - AntiSymmetricTensor(t, (_d,), (i,))*AntiSymmetricTensor(t, (a, b), (_l, _m))*AntiSymmetricTensor(t, (c, _e), (j, k))*AntiSymmetricTensor(v, (_l, _m), (_d, _e))/2 + AntiSymmetricTensor(t, (_d,), (i,))*AntiSymmetricTensor(t, (a, b), (j, _l))*AntiSymmetricTensor(t, (c, _e), (k, _m))*AntiSymmetricTensor(v, (_l, _m), (_d, _e)) + AntiSymmetricTensor(t, (_d,), (i,))*AntiSymmetricTensor(t, (a, b), (j, _l))*AntiSymmetricTensor(v, (c, _l), (k, _d)) - AntiSymmetricTensor(t, (_d,), (i,))*AntiSymmetricTensor(t, (a, b), (k, _l))*AntiSymmetricTensor(t, (c, _e), (j, _m))*AntiSymmetricTensor(v, (_l, _m), (_d, _e)) - AntiSymmetricTensor(t, (_d,), (i,))*AntiSymmetricTensor(t, (a, b), (k, _l))*AntiSymmetricTensor(v, (c, _l), (j, _d)) + AntiSymmetricTensor(t, (_d,), (i,))*AntiSymmetricTensor(t, (a, c), (_l, _m))*AntiSymmetricTensor(t, (b, _e), (j, k))*AntiSymmetricTensor(v, (_l, _m), (_d, _e))/2 - AntiSymmetricTensor(t, (_d,), (i,))*AntiSymmetricTensor(t, (a, c), (j, _l))*AntiSymmetricTensor(t, (b, _e), (k, _m))*AntiSymmetricTensor(v, (_l, _m), (_d, _e)) - AntiSymmetricTensor(t, (_d,), (i,))*AntiSymmetricTensor(t, (a, c), (j, _l))*AntiSymmetricTensor(v, (b, _l), (k, _d)) + AntiSymmetricTensor(t, (_d,), (i,))*AntiSymmetricTensor(t, (a, c), (k, _l))*AntiSymmetricTensor(t, (b, _e), (j, _m))*AntiSymmetricTensor(v, (_l, _m), (_d, _e)) + AntiSymmetricTensor(t, (_d,), (i,))*AntiSymmetricTensor(t, (a, c), (k, _l))*AntiSymmetricTensor(v, (b, _l), (j, _d)) + AntiSymmetricTensor(t, (_d,), (i,))*AntiSymmetricTensor(t, (b, _e), (j, k))*AntiSymmetricTensor(v, (a, c), (_d, _e)) + AntiSymmetricTensor(t, (_d,), (i,))*AntiSymmetricTensor(t, (b, c), (j, _l))*AntiSymmetricTensor(v, (a, _l), (k, _d)) - AntiSymmetricTensor(t, (_d,), (i,))*AntiSymmetricTensor(t, (b, c), (k, _l))*AntiSymmetricTensor(v, (a, _l), (j, _d)) - AntiSymmetricTensor(t, (_d,), (i,))*AntiSymmetricTensor(t, (c, _e), (j, k))*AntiSymmetricTensor(v, (a, b), (_d, _e)) + AntiSymmetricTensor(t, (_d,), (i,))*AntiSymmetricTensor(t, (a, b, _e), (j, k, _l))*AntiSymmetricTensor(v, (c, _l), (_d, _e)) + AntiSymmetricTensor(t, (_d,), (i,))*AntiSymmetricTensor(t, (a, b, c), (j, _l, _m))*AntiSymmetricTensor(v, (_l, _m), (k, _d))/2 - AntiSymmetricTensor(t, (_d,), (i,))*AntiSymmetricTensor(t, (a, b, c), (k, _l, _m))*AntiSymmetricTensor(v, (_l, _m), (j, _d))/2 - AntiSymmetricTensor(t, (_d,), (i,))*AntiSymmetricTensor(t, (a, c, _e), (j, k, _l))*AntiSymmetricTensor(v, (b, _l), (_d, _e)) + AntiSymmetricTensor(t, (_d,), (i,))*AntiSymmetricTensor(t, (b, c, _e), (j, k, _l))*AntiSymmetricTensor(v, (a, _l), (_d, _e)) - AntiSymmetricTensor(t, (_d,), (j,))*AntiSymmetricTensor(t, (_e,), (k,))*AntiSymmetricTensor(t, (a,), (_l,))*AntiSymmetricTensor(t, (b, c), (i, _m))*AntiSymmetricTensor(v, (_l, _m), (_d, _e)) - AntiSymmetricTensor(t, (_d,), (j,))*AntiSymmetricTensor(t, (_e,), (k,))*AntiSymmetricTensor(t, (b,), (_m,))*AntiSymmetricTensor(t, (a, c), (i, _l))*AntiSymmetricTensor(v, (_l, _m), (_d, _e)) + AntiSymmetricTensor(t, (_d,), (j,))*AntiSymmetricTensor(t, (_e,), (k,))*AntiSymmetricTensor(t, (c,), (_m,))*AntiSymmetricTensor(t, (a, b), (i, _l))*AntiSymmetricTensor(v, (_l, _m), (_d, _e)) + AntiSymmetricTensor(t, (_d,), (j,))*AntiSymmetricTensor(t, (_e,), (k,))*AntiSymmetricTensor(t, (a, b), (i, _l))*AntiSymmetricTensor(v, (c, _l), (_d, _e)) - AntiSymmetricTensor(t, (_d,), (j,))*AntiSymmetricTensor(t, (_e,), (k,))*AntiSymmetricTensor(t, (a, c), (i, _l))*AntiSymmetricTensor(v, (b, _l), (_d, _e)) + AntiSymmetricTensor(t, (_d,), (j,))*AntiSymmetricTensor(t, (_e,), (k,))*AntiSymmetricTensor(t, (b, c), (i, _l))*AntiSymmetricTensor(v, (a, _l), (_d, _e)) + AntiSymmetricTensor(t, (_d,), (j,))*AntiSymmetricTensor(t, (_e,), (k,))*AntiSymmetricTensor(t, (a, b, c), (i, _l, _m))*AntiSymmetricTensor(v, (_l, _m), (_d, _e))/2 + AntiSymmetricTensor(t, (_d,), (j,))*AntiSymmetricTensor(t, (a,), (_l,))*AntiSymmetricTensor(t, (b,), (_m,))*AntiSymmetricTensor(t, (c, _e), (i, k))*AntiSymmetricTensor(v, (_l, _m), (_d, _e)) - AntiSymmetricTensor(t, (_d,), (j,))*AntiSymmetricTensor(t, (a,), (_l,))*AntiSymmetricTensor(t, (c,), (_m,))*AntiSymmetricTensor(t, (b, _e), (i, k))*AntiSymmetricTensor(v, (_l, _m), (_d, _e)) - AntiSymmetricTensor(t, (_d,), (j,))*AntiSymmetricTensor(t, (a,), (_l,))*AntiSymmetricTensor(t, (b, _e), (i, k))*AntiSymmetricTensor(v, (c, _l), (_d, _e)) + AntiSymmetricTensor(t, (_d,), (j,))*AntiSymmetricTensor(t, (a,), (_l,))*AntiSymmetricTensor(t, (b, c), (i, _m))*AntiSymmetricTensor(v, (_l, _m), (k, _d)) - AntiSymmetricTensor(t, (_d,), (j,))*AntiSymmetricTensor(t, (a,), (_l,))*AntiSymmetricTensor(t, (b, c), (k, _m))*AntiSymmetricTensor(v, (_l, _m), (i, _d)) + AntiSymmetricTensor(t, (_d,), (j,))*AntiSymmetricTensor(t, (a,), (_l,))*AntiSymmetricTensor(t, (c, _e), (i, k))*AntiSymmetricTensor(v, (b, _l), (_d, _e)) + AntiSymmetricTensor(t, (_d,), (j,))*AntiSymmetricTensor(t, (a,), (_l,))*AntiSymmetricTensor(t, (b, c, _e), (i, k, _m))*AntiSymmetricTensor(v, (_l, _m), (_d, _e)) + AntiSymmetricTensor(t, (_d,), (j,))*AntiSymmetricTensor(t, (b,), (_l,))*AntiSymmetricTensor(t, (c,), (_m,))*AntiSymmetricTensor(t, (a, _e), (i, k))*AntiSymmetricTensor(v, (_l, _m), (_d, _e)) + AntiSymmetricTensor(t, (_d,), (j,))*AntiSymmetricTensor(t, (b,), (_l,))*AntiSymmetricTensor(t, (a, _e), (i, k))*AntiSymmetricTensor(v, (c, _l), (_d, _e)) - AntiSymmetricTensor(t, (_d,), (j,))*AntiSymmetricTensor(t, (b,), (_l,))*AntiSymmetricTensor(t, (c, _e), (i, k))*AntiSymmetricTensor(v, (a, _l), (_d, _e)) + AntiSymmetricTensor(t, (_d,), (j,))*AntiSymmetricTensor(t, (b,), (_m,))*AntiSymmetricTensor(t, (a, c), (i, _l))*AntiSymmetricTensor(v, (_l, _m), (k, _d)) - AntiSymmetricTensor(t, (_d,), (j,))*AntiSymmetricTensor(t, (b,), (_m,))*AntiSymmetricTensor(t, (a, c), (k, _l))*AntiSymmetricTensor(v, (_l, _m), (i, _d)) + AntiSymmetricTensor(t, (_d,), (j,))*AntiSymmetricTensor(t, (b,), (_m,))*AntiSymmetricTensor(t, (a, c, _e), (i, k, _l))*AntiSymmetricTensor(v, (_l, _m), (_d, _e)) - AntiSymmetricTensor(t, (_d,), (j,))*AntiSymmetricTensor(t, (c,), (_l,))*AntiSymmetricTensor(t, (a, _e), (i, k))*AntiSymmetricTensor(v, (b, _l), (_d, _e)) + AntiSymmetricTensor(t, (_d,), (j,))*AntiSymmetricTensor(t, (c,), (_l,))*AntiSymmetricTensor(t, (b, _e), (i, k))*AntiSymmetricTensor(v, (a, _l), (_d, _e)) - AntiSymmetricTensor(t, (_d,), (j,))*AntiSymmetricTensor(t, (c,), (_m,))*AntiSymmetricTensor(t, (a, b), (i, _l))*AntiSymmetricTensor(v, (_l, _m), (k, _d)) + AntiSymmetricTensor(t, (_d,), (j,))*AntiSymmetricTensor(t, (c,), (_m,))*AntiSymmetricTensor(t, (a, b), (k, _l))*AntiSymmetricTensor(v, (_l, _m), (i, _d)) - AntiSymmetricTensor(t, (_d,), (j,))*AntiSymmetricTensor(t, (c,), (_m,))*AntiSymmetricTensor(t, (a, b, _e), (i, k, _l))*AntiSymmetricTensor(v, (_l, _m), (_d, _e)) - AntiSymmetricTensor(t, (_d,), (j,))*AntiSymmetricTensor(t, (a, _e), (i, _l))*AntiSymmetricTensor(t, (b, c), (k, _m))*AntiSymmetricTensor(v, (_l, _m), (_d, _e)) + AntiSymmetricTensor(t, (_d,), (j,))*AntiSymmetricTensor(t, (a, _e), (i, k))*AntiSymmetricTensor(t, (b, c), (_l, _m))*AntiSymmetricTensor(v, (_l, _m), (_d, _e))/2 + AntiSymmetricTensor(t, (_d,), (j,))*AntiSymmetricTensor(t, (a, _e), (i, k))*AntiSymmetricTensor(v, (b, c), (_d, _e)) + AntiSymmetricTensor(t, (_d,), (j,))*AntiSymmetricTensor(t, (a, _e), (k, _l))*AntiSymmetricTensor(t, (b, c), (i, _m))*AntiSymmetricTensor(v, (_l, _m), (_d, _e)) + AntiSymmetricTensor(t, (_d,), (j,))*AntiSymmetricTensor(t, (a, b), (_l, _m))*AntiSymmetricTensor(t, (c, _e), (i, k))*AntiSymmetricTensor(v, (_l, _m), (_d, _e))/2 - AntiSymmetricTensor(t, (_d,), (j,))*AntiSymmetricTensor(t, (a, b), (i, _l))*AntiSymmetricTensor(t, (c, _e), (k, _m))*AntiSymmetricTensor(v, (_l, _m), (_d, _e)) - AntiSymmetricTensor(t, (_d,), (j,))*AntiSymmetricTensor(t, (a, b), (i, _l))*AntiSymmetricTensor(v, (c, _l), (k, _d)) + AntiSymmetricTensor(t, (_d,), (j,))*AntiSymmetricTensor(t, (a, b), (k, _l))*AntiSymmetricTensor(t, (c, _e), (i, _m))*AntiSymmetricTensor(v, (_l, _m), (_d, _e)) + AntiSymmetricTensor(t, (_d,), (j,))*AntiSymmetricTensor(t, (a, b), (k, _l))*AntiSymmetricTensor(v, (c, _l), (i, _d)) - AntiSymmetricTensor(t, (_d,), (j,))*AntiSymmetricTensor(t, (a, c), (_l, _m))*AntiSymmetricTensor(t, (b, _e), (i, k))*AntiSymmetricTensor(v, (_l, _m), (_d, _e))/2 + AntiSymmetricTensor(t, (_d,), (j,))*AntiSymmetricTensor(t, (a, c), (i, _l))*AntiSymmetricTensor(t, (b, _e), (k, _m))*AntiSymmetricTensor(v, (_l, _m), (_d, _e)) + AntiSymmetricTensor(t, (_d,), (j,))*AntiSymmetricTensor(t, (a, c), (i, _l))*AntiSymmetricTensor(v, (b, _l), (k, _d)) - AntiSymmetricTensor(t, (_d,), (j,))*AntiSymmetricTensor(t, (a, c), (k, _l))*AntiSymmetricTensor(t, (b, _e), (i, _m))*AntiSymmetricTensor(v, (_l, _m), (_d, _e)) - AntiSymmetricTensor(t, (_d,), (j,))*AntiSymmetricTensor(t, (a, c), (k, _l))*AntiSymmetricTensor(v, (b, _l), (i, _d)) - AntiSymmetricTensor(t, (_d,), (j,))*AntiSymmetricTensor(t, (b, _e), (i, k))*AntiSymmetricTensor(v, (a, c), (_d, _e)) - AntiSymmetricTensor(t, (_d,), (j,))*AntiSymmetricTensor(t, (b, c), (i, _l))*AntiSymmetricTensor(v, (a, _l), (k, _d)) + AntiSymmetricTensor(t, (_d,), (j,))*AntiSymmetricTensor(t, (b, c), (k, _l))*AntiSymmetricTensor(v, (a, _l), (i, _d)) + AntiSymmetricTensor(t, (_d,), (j,))*AntiSymmetricTensor(t, (c, _e), (i, k))*AntiSymmetricTensor(v, (a, b), (_d, _e)) - AntiSymmetricTensor(t, (_d,), (j,))*AntiSymmetricTensor(t, (a, b, _e), (i, k, _l))*AntiSymmetricTensor(v, (c, _l), (_d, _e)) - AntiSymmetricTensor(t, (_d,), (j,))*AntiSymmetricTensor(t, (a, b, c), (i, _l, _m))*AntiSymmetricTensor(v, (_l, _m), (k, _d))/2 + AntiSymmetricTensor(t, (_d,), (j,))*AntiSymmetricTensor(t, (a, b, c), (k, _l, _m))*AntiSymmetricTensor(v, (_l, _m), (i, _d))/2 + AntiSymmetricTensor(t, (_d,), (j,))*AntiSymmetricTensor(t, (a, c, _e), (i, k, _l))*AntiSymmetricTensor(v, (b, _l), (_d, _e)) - AntiSymmetricTensor(t, (_d,), (j,))*AntiSymmetricTensor(t, (b, c, _e), (i, k, _l))*AntiSymmetricTensor(v, (a, _l), (_d, _e)) - AntiSymmetricTensor(t, (_d,), (k,))*AntiSymmetricTensor(t, (a,), (_l,))*AntiSymmetricTensor(t, (b,), (_m,))*AntiSymmetricTensor(t, (c, _e), (i, j))*AntiSymmetricTensor(v, (_l, _m), (_d, _e)) + AntiSymmetricTensor(t, (_d,), (k,))*AntiSymmetricTensor(t, (a,), (_l,))*AntiSymmetricTensor(t, (c,), (_m,))*AntiSymmetricTensor(t, (b, _e), (i, j))*AntiSymmetricTensor(v, (_l, _m), (_d, _e)) + AntiSymmetricTensor(t, (_d,), (k,))*AntiSymmetricTensor(t, (a,), (_l,))*AntiSymmetricTensor(t, (b, _e), (i, j))*AntiSymmetricTensor(v, (c, _l), (_d, _e)) - AntiSymmetricTensor(t, (_d,), (k,))*AntiSymmetricTensor(t, (a,), (_l,))*AntiSymmetricTensor(t, (b, c), (i, _m))*AntiSymmetricTensor(v, (_l, _m), (j, _d)) + AntiSymmetricTensor(t, (_d,), (k,))*AntiSymmetricTensor(t, (a,), (_l,))*AntiSymmetricTensor(t, (b, c), (j, _m))*AntiSymmetricTensor(v, (_l, _m), (i, _d)) - AntiSymmetricTensor(t, (_d,), (k,))*AntiSymmetricTensor(t, (a,), (_l,))*AntiSymmetricTensor(t, (c, _e), (i, j))*AntiSymmetricTensor(v, (b, _l), (_d, _e)) - AntiSymmetricTensor(t, (_d,), (k,))*AntiSymmetricTensor(t, (a,), (_l,))*AntiSymmetricTensor(t, (b, c, _e), (i, j, _m))*AntiSymmetricTensor(v, (_l, _m), (_d, _e)) - AntiSymmetricTensor(t, (_d,), (k,))*AntiSymmetricTensor(t, (b,), (_l,))*AntiSymmetricTensor(t, (c,), (_m,))*AntiSymmetricTensor(t, (a, _e), (i, j))*AntiSymmetricTensor(v, (_l, _m), (_d, _e)) - AntiSymmetricTensor(t, (_d,), (k,))*AntiSymmetricTensor(t, (b,), (_l,))*AntiSymmetricTensor(t, (a, _e), (i, j))*AntiSymmetricTensor(v, (c, _l), (_d, _e)) + AntiSymmetricTensor(t, (_d,), (k,))*AntiSymmetricTensor(t, (b,), (_l,))*AntiSymmetricTensor(t, (c, _e), (i, j))*AntiSymmetricTensor(v, (a, _l), (_d, _e)) - AntiSymmetricTensor(t, (_d,), (k,))*AntiSymmetricTensor(t, (b,), (_m,))*AntiSymmetricTensor(t, (a, c), (i, _l))*AntiSymmetricTensor(v, (_l, _m), (j, _d)) + AntiSymmetricTensor(t, (_d,), (k,))*AntiSymmetricTensor(t, (b,), (_m,))*AntiSymmetricTensor(t, (a, c), (j, _l))*AntiSymmetricTensor(v, (_l, _m), (i, _d)) - AntiSymmetricTensor(t, (_d,), (k,))*AntiSymmetricTensor(t, (b,), (_m,))*AntiSymmetricTensor(t, (a, c, _e), (i, j, _l))*AntiSymmetricTensor(v, (_l, _m), (_d, _e)) + AntiSymmetricTensor(t, (_d,), (k,))*AntiSymmetricTensor(t, (c,), (_l,))*AntiSymmetricTensor(t, (a, _e), (i, j))*AntiSymmetricTensor(v, (b, _l), (_d, _e)) - AntiSymmetricTensor(t, (_d,), (k,))*AntiSymmetricTensor(t, (c,), (_l,))*AntiSymmetricTensor(t, (b, _e), (i, j))*AntiSymmetricTensor(v, (a, _l), (_d, _e)) + AntiSymmetricTensor(t, (_d,), (k,))*AntiSymmetricTensor(t, (c,), (_m,))*AntiSymmetricTensor(t, (a, b), (i, _l))*AntiSymmetricTensor(v, (_l, _m), (j, _d)) - AntiSymmetricTensor(t, (_d,), (k,))*AntiSymmetricTensor(t, (c,), (_m,))*AntiSymmetricTensor(t, (a, b), (j, _l))*AntiSymmetricTensor(v, (_l, _m), (i, _d)) + AntiSymmetricTensor(t, (_d,), (k,))*AntiSymmetricTensor(t, (c,), (_m,))*AntiSymmetricTensor(t, (a, b, _e), (i, j, _l))*AntiSymmetricTensor(v, (_l, _m), (_d, _e)) + AntiSymmetricTensor(t, (_d,), (k,))*AntiSymmetricTensor(t, (a, _e), (i, _l))*AntiSymmetricTensor(t, (b, c), (j, _m))*AntiSymmetricTensor(v, (_l, _m), (_d, _e)) - AntiSymmetricTensor(t, (_d,), (k,))*AntiSymmetricTensor(t, (a, _e), (i, j))*AntiSymmetricTensor(t, (b, c), (_l, _m))*AntiSymmetricTensor(v, (_l, _m), (_d, _e))/2 - AntiSymmetricTensor(t, (_d,), (k,))*AntiSymmetricTensor(t, (a, _e), (i, j))*AntiSymmetricTensor(v, (b, c), (_d, _e)) - AntiSymmetricTensor(t, (_d,), (k,))*AntiSymmetricTensor(t, (a, _e), (j, _l))*AntiSymmetricTensor(t, (b, c), (i, _m))*AntiSymmetricTensor(v, (_l, _m), (_d, _e)) - AntiSymmetricTensor(t, (_d,), (k,))*AntiSymmetricTensor(t, (a, b), (_l, _m))*AntiSymmetricTensor(t, (c, _e), (i, j))*AntiSymmetricTensor(v, (_l, _m), (_d, _e))/2 + AntiSymmetricTensor(t, (_d,), (k,))*AntiSymmetricTensor(t, (a, b), (i, _l))*AntiSymmetricTensor(t, (c, _e), (j, _m))*AntiSymmetricTensor(v, (_l, _m), (_d, _e)) + AntiSymmetricTensor(t, (_d,), (k,))*AntiSymmetricTensor(t, (a, b), (i, _l))*AntiSymmetricTensor(v, (c, _l), (j, _d)) - AntiSymmetricTensor(t, (_d,), (k,))*AntiSymmetricTensor(t, (a, b), (j, _l))*AntiSymmetricTensor(t, (c, _e), (i, _m))*AntiSymmetricTensor(v, (_l, _m), (_d, _e)) - AntiSymmetricTensor(t, (_d,), (k,))*AntiSymmetricTensor(t, (a, b), (j, _l))*AntiSymmetricTensor(v, (c, _l), (i, _d)) + AntiSymmetricTensor(t, (_d,), (k,))*AntiSymmetricTensor(t, (a, c), (_l, _m))*AntiSymmetricTensor(t, (b, _e), (i, j))*AntiSymmetricTensor(v, (_l, _m), (_d, _e))/2 - AntiSymmetricTensor(t, (_d,), (k,))*AntiSymmetricTensor(t, (a, c), (i, _l))*AntiSymmetricTensor(t, (b, _e), (j, _m))*AntiSymmetricTensor(v, (_l, _m), (_d, _e)) - AntiSymmetricTensor(t, (_d,), (k,))*AntiSymmetricTensor(t, (a, c), (i, _l))*AntiSymmetricTensor(v, (b, _l), (j, _d)) + AntiSymmetricTensor(t, (_d,), (k,))*AntiSymmetricTensor(t, (a, c), (j, _l))*AntiSymmetricTensor(t, (b, _e), (i, _m))*AntiSymmetricTensor(v, (_l, _m), (_d, _e)) + AntiSymmetricTensor(t, (_d,), (k,))*AntiSymmetricTensor(t, (a, c), (j, _l))*AntiSymmetricTensor(v, (b, _l), (i, _d)) + AntiSymmetricTensor(t, (_d,), (k,))*AntiSymmetricTensor(t, (b, _e), (i, j))*AntiSymmetricTensor(v, (a, c), (_d, _e)) + AntiSymmetricTensor(t, (_d,), (k,))*AntiSymmetricTensor(t, (b, c), (i, _l))*AntiSymmetricTensor(v, (a, _l), (j, _d)) - AntiSymmetricTensor(t, (_d,), (k,))*AntiSymmetricTensor(t, (b, c), (j, _l))*AntiSymmetricTensor(v, (a, _l), (i, _d)) - AntiSymmetricTensor(t, (_d,), (k,))*AntiSymmetricTensor(t, (c, _e), (i, j))*AntiSymmetricTensor(v, (a, b), (_d, _e)) + AntiSymmetricTensor(t, (_d,), (k,))*AntiSymmetricTensor(t, (a, b, _e), (i, j, _l))*AntiSymmetricTensor(v, (c, _l), (_d, _e)) + AntiSymmetricTensor(t, (_d,), (k,))*AntiSymmetricTensor(t, (a, b, c), (i, _l, _m))*AntiSymmetricTensor(v, (_l, _m), (j, _d))/2 - AntiSymmetricTensor(t, (_d,), (k,))*AntiSymmetricTensor(t, (a, b, c), (j, _l, _m))*AntiSymmetricTensor(v, (_l, _m), (i, _d))/2 - AntiSymmetricTensor(t, (_d,), (k,))*AntiSymmetricTensor(t, (a, c, _e), (i, j, _l))*AntiSymmetricTensor(v, (b, _l), (_d, _e)) + AntiSymmetricTensor(t, (_d,), (k,))*AntiSymmetricTensor(t, (b, c, _e), (i, j, _l))*AntiSymmetricTensor(v, (a, _l), (_d, _e)) - AntiSymmetricTensor(t, (a,), (_l,))*AntiSymmetricTensor(t, (b,), (_m,))*AntiSymmetricTensor(t, (c, _d), (i, j))*AntiSymmetricTensor(v, (_l, _m), (k, _d)) + AntiSymmetricTensor(t, (a,), (_l,))*AntiSymmetricTensor(t, (b,), (_m,))*AntiSymmetricTensor(t, (c, _d), (i, k))*AntiSymmetricTensor(v, (_l, _m), (j, _d)) - AntiSymmetricTensor(t, (a,), (_l,))*AntiSymmetricTensor(t, (b,), (_m,))*AntiSymmetricTensor(t, (c, _d), (j, k))*AntiSymmetricTensor(v, (_l, _m), (i, _d)) + AntiSymmetricTensor(t, (a,), (_l,))*AntiSymmetricTensor(t, (b,), (_m,))*AntiSymmetricTensor(t, (c, _d, _e), (i, j, k))*AntiSymmetricTensor(v, (_l, _m), (_d, _e))/2 + AntiSymmetricTensor(t, (a,), (_l,))*AntiSymmetricTensor(t, (c,), (_m,))*AntiSymmetricTensor(t, (b, _d), (i, j))*AntiSymmetricTensor(v, (_l, _m), (k, _d)) - AntiSymmetricTensor(t, (a,), (_l,))*AntiSymmetricTensor(t, (c,), (_m,))*AntiSymmetricTensor(t, (b, _d), (i, k))*AntiSymmetricTensor(v, (_l, _m), (j, _d)) + AntiSymmetricTensor(t, (a,), (_l,))*AntiSymmetricTensor(t, (c,), (_m,))*AntiSymmetricTensor(t, (b, _d), (j, k))*AntiSymmetricTensor(v, (_l, _m), (i, _d)) - AntiSymmetricTensor(t, (a,), (_l,))*AntiSymmetricTensor(t, (c,), (_m,))*AntiSymmetricTensor(t, (b, _d, _e), (i, j, k))*AntiSymmetricTensor(v, (_l, _m), (_d, _e))/2 - AntiSymmetricTensor(t, (a,), (_l,))*AntiSymmetricTensor(t, (_d, _e), (i, j))*AntiSymmetricTensor(t, (b, c), (k, _m))*AntiSymmetricTensor(v, (_l, _m), (_d, _e))/2 + AntiSymmetricTensor(t, (a,), (_l,))*AntiSymmetricTensor(t, (_d, _e), (i, k))*AntiSymmetricTensor(t, (b, c), (j, _m))*AntiSymmetricTensor(v, (_l, _m), (_d, _e))/2 - AntiSymmetricTensor(t, (a,), (_l,))*AntiSymmetricTensor(t, (_d, _e), (j, k))*AntiSymmetricTensor(t, (b, c), (i, _m))*AntiSymmetricTensor(v, (_l, _m), (_d, _e))/2 + AntiSymmetricTensor(t, (a,), (_l,))*AntiSymmetricTensor(t, (b, _d), (i, _m))*AntiSymmetricTensor(t, (c, _e), (j, k))*AntiSymmetricTensor(v, (_l, _m), (_d, _e)) + AntiSymmetricTensor(t, (a,), (_l,))*AntiSymmetricTensor(t, (b, _d), (i, j))*AntiSymmetricTensor(t, (c, _e), (k, _m))*AntiSymmetricTensor(v, (_l, _m), (_d, _e)) + AntiSymmetricTensor(t, (a,), (_l,))*AntiSymmetricTensor(t, (b, _d), (i, j))*AntiSymmetricTensor(v, (c, _l), (k, _d)) - AntiSymmetricTensor(t, (a,), (_l,))*AntiSymmetricTensor(t, (b, _d), (i, k))*AntiSymmetricTensor(t, (c, _e), (j, _m))*AntiSymmetricTensor(v, (_l, _m), (_d, _e)) - AntiSymmetricTensor(t, (a,), (_l,))*AntiSymmetricTensor(t, (b, _d), (i, k))*AntiSymmetricTensor(v, (c, _l), (j, _d)) - AntiSymmetricTensor(t, (a,), (_l,))*AntiSymmetricTensor(t, (b, _d), (j, _m))*AntiSymmetricTensor(t, (c, _e), (i, k))*AntiSymmetricTensor(v, (_l, _m), (_d, _e)) + AntiSymmetricTensor(t, (a,), (_l,))*AntiSymmetricTensor(t, (b, _d), (j, k))*AntiSymmetricTensor(t, (c, _e), (i, _m))*AntiSymmetricTensor(v, (_l, _m), (_d, _e)) + AntiSymmetricTensor(t, (a,), (_l,))*AntiSymmetricTensor(t, (b, _d), (j, k))*AntiSymmetricTensor(v, (c, _l), (i, _d)) + AntiSymmetricTensor(t, (a,), (_l,))*AntiSymmetricTensor(t, (b, _d), (k, _m))*AntiSymmetricTensor(t, (c, _e), (i, j))*AntiSymmetricTensor(v, (_l, _m), (_d, _e)) - AntiSymmetricTensor(t, (a,), (_l,))*AntiSymmetricTensor(t, (b, c), (i, _m))*AntiSymmetricTensor(v, (_l, _m), (j, k)) + AntiSymmetricTensor(t, (a,), (_l,))*AntiSymmetricTensor(t, (b, c), (j, _m))*AntiSymmetricTensor(v, (_l, _m), (i, k)) - AntiSymmetricTensor(t, (a,), (_l,))*AntiSymmetricTensor(t, (b, c), (k, _m))*AntiSymmetricTensor(v, (_l, _m), (i, j)) - AntiSymmetricTensor(t, (a,), (_l,))*AntiSymmetricTensor(t, (c, _d), (i, j))*AntiSymmetricTensor(v, (b, _l), (k, _d)) + AntiSymmetricTensor(t, (a,), (_l,))*AntiSymmetricTensor(t, (c, _d), (i, k))*AntiSymmetricTensor(v, (b, _l), (j, _d)) - AntiSymmetricTensor(t, (a,), (_l,))*AntiSymmetricTensor(t, (c, _d), (j, k))*AntiSymmetricTensor(v, (b, _l), (i, _d)) - AntiSymmetricTensor(t, (a,), (_l,))*AntiSymmetricTensor(t, (b, _d, _e), (i, j, k))*AntiSymmetricTensor(v, (c, _l), (_d, _e))/2 - AntiSymmetricTensor(t, (a,), (_l,))*AntiSymmetricTensor(t, (b, c, _d), (i, j, _m))*AntiSymmetricTensor(v, (_l, _m), (k, _d)) + AntiSymmetricTensor(t, (a,), (_l,))*AntiSymmetricTensor(t, (b, c, _d), (i, k, _m))*AntiSymmetricTensor(v, (_l, _m), (j, _d)) - AntiSymmetricTensor(t, (a,), (_l,))*AntiSymmetricTensor(t, (b, c, _d), (j, k, _m))*AntiSymmetricTensor(v, (_l, _m), (i, _d)) + AntiSymmetricTensor(t, (a,), (_l,))*AntiSymmetricTensor(t, (c, _d, _e), (i, j, k))*AntiSymmetricTensor(v, (b, _l), (_d, _e))/2 - AntiSymmetricTensor(t, (b,), (_l,))*AntiSymmetricTensor(t, (c,), (_m,))*AntiSymmetricTensor(t, (a, _d), (i, j))*AntiSymmetricTensor(v, (_l, _m), (k, _d)) + AntiSymmetricTensor(t, (b,), (_l,))*AntiSymmetricTensor(t, (c,), (_m,))*AntiSymmetricTensor(t, (a, _d), (i, k))*AntiSymmetricTensor(v, (_l, _m), (j, _d)) - AntiSymmetricTensor(t, (b,), (_l,))*AntiSymmetricTensor(t, (c,), (_m,))*AntiSymmetricTensor(t, (a, _d), (j, k))*AntiSymmetricTensor(v, (_l, _m), (i, _d)) + AntiSymmetricTensor(t, (b,), (_l,))*AntiSymmetricTensor(t, (c,), (_m,))*AntiSymmetricTensor(t, (a, _d, _e), (i, j, k))*AntiSymmetricTensor(v, (_l, _m), (_d, _e))/2 - AntiSymmetricTensor(t, (b,), (_l,))*AntiSymmetricTensor(t, (a, _d), (i, j))*AntiSymmetricTensor(t, (c, _e), (k, _m))*AntiSymmetricTensor(v, (_l, _m), (_d, _e)) - AntiSymmetricTensor(t, (b,), (_l,))*AntiSymmetricTensor(t, (a, _d), (i, j))*AntiSymmetricTensor(v, (c, _l), (k, _d)) + AntiSymmetricTensor(t, (b,), (_l,))*AntiSymmetricTensor(t, (a, _d), (i, k))*AntiSymmetricTensor(t, (c, _e), (j, _m))*AntiSymmetricTensor(v, (_l, _m), (_d, _e)) + AntiSymmetricTensor(t, (b,), (_l,))*AntiSymmetricTensor(t, (a, _d), (i, k))*AntiSymmetricTensor(v, (c, _l), (j, _d)) - AntiSymmetricTensor(t, (b,), (_l,))*AntiSymmetricTensor(t, (a, _d), (j, k))*AntiSymmetricTensor(t, (c, _e), (i, _m))*AntiSymmetricTensor(v, (_l, _m), (_d, _e)) - AntiSymmetricTensor(t, (b,), (_l,))*AntiSymmetricTensor(t, (a, _d), (j, k))*AntiSymmetricTensor(v, (c, _l), (i, _d)) + AntiSymmetricTensor(t, (b,), (_l,))*AntiSymmetricTensor(t, (c, _d), (i, j))*AntiSymmetricTensor(v, (a, _l), (k, _d)) - AntiSymmetricTensor(t, (b,), (_l,))*AntiSymmetricTensor(t, (c, _d), (i, k))*AntiSymmetricTensor(v, (a, _l), (j, _d)) + AntiSymmetricTensor(t, (b,), (_l,))*AntiSymmetricTensor(t, (c, _d), (j, k))*AntiSymmetricTensor(v, (a, _l), (i, _d)) + AntiSymmetricTensor(t, (b,), (_l,))*AntiSymmetricTensor(t, (a, _d, _e), (i, j, k))*AntiSymmetricTensor(v, (c, _l), (_d, _e))/2 - AntiSymmetricTensor(t, (b,), (_l,))*AntiSymmetricTensor(t, (c, _d, _e), (i, j, k))*AntiSymmetricTensor(v, (a, _l), (_d, _e))/2 - AntiSymmetricTensor(t, (b,), (_m,))*AntiSymmetricTensor(t, (_d, _e), (i, j))*AntiSymmetricTensor(t, (a, c), (k, _l))*AntiSymmetricTensor(v, (_l, _m), (_d, _e))/2 + AntiSymmetricTensor(t, (b,), (_m,))*AntiSymmetricTensor(t, (_d, _e), (i, k))*AntiSymmetricTensor(t, (a, c), (j, _l))*AntiSymmetricTensor(v, (_l, _m), (_d, _e))/2 - AntiSymmetricTensor(t, (b,), (_m,))*AntiSymmetricTensor(t, (_d, _e), (j, k))*AntiSymmetricTensor(t, (a, c), (i, _l))*AntiSymmetricTensor(v, (_l, _m), (_d, _e))/2 + AntiSymmetricTensor(t, (b,), (_m,))*AntiSymmetricTensor(t, (a, _d), (i, _l))*AntiSymmetricTensor(t, (c, _e), (j, k))*AntiSymmetricTensor(v, (_l, _m), (_d, _e)) - AntiSymmetricTensor(t, (b,), (_m,))*AntiSymmetricTensor(t, (a, _d), (j, _l))*AntiSymmetricTensor(t, (c, _e), (i, k))*AntiSymmetricTensor(v, (_l, _m), (_d, _e)) + AntiSymmetricTensor(t, (b,), (_m,))*AntiSymmetricTensor(t, (a, _d), (k, _l))*AntiSymmetricTensor(t, (c, _e), (i, j))*AntiSymmetricTensor(v, (_l, _m), (_d, _e)) - AntiSymmetricTensor(t, (b,), (_m,))*AntiSymmetricTensor(t, (a, c), (i, _l))*AntiSymmetricTensor(v, (_l, _m), (j, k)) + AntiSymmetricTensor(t, (b,), (_m,))*AntiSymmetricTensor(t, (a, c), (j, _l))*AntiSymmetricTensor(v, (_l, _m), (i, k)) - AntiSymmetricTensor(t, (b,), (_m,))*AntiSymmetricTensor(t, (a, c), (k, _l))*AntiSymmetricTensor(v, (_l, _m), (i, j)) - AntiSymmetricTensor(t, (b,), (_m,))*AntiSymmetricTensor(t, (a, c, _d), (i, j, _l))*AntiSymmetricTensor(v, (_l, _m), (k, _d)) + AntiSymmetricTensor(t, (b,), (_m,))*AntiSymmetricTensor(t, (a, c, _d), (i, k, _l))*AntiSymmetricTensor(v, (_l, _m), (j, _d)) - AntiSymmetricTensor(t, (b,), (_m,))*AntiSymmetricTensor(t, (a, c, _d), (j, k, _l))*AntiSymmetricTensor(v, (_l, _m), (i, _d)) + AntiSymmetricTensor(t, (c,), (_l,))*AntiSymmetricTensor(t, (a, _d), (i, j))*AntiSymmetricTensor(v, (b, _l), (k, _d)) - AntiSymmetricTensor(t, (c,), (_l,))*AntiSymmetricTensor(t, (a, _d), (i, k))*AntiSymmetricTensor(v, (b, _l), (j, _d)) + AntiSymmetricTensor(t, (c,), (_l,))*AntiSymmetricTensor(t, (a, _d), (j, k))*AntiSymmetricTensor(v, (b, _l), (i, _d)) - AntiSymmetricTensor(t, (c,), (_l,))*AntiSymmetricTensor(t, (b, _d), (i, j))*AntiSymmetricTensor(v, (a, _l), (k, _d)) + AntiSymmetricTensor(t, (c,), (_l,))*AntiSymmetricTensor(t, (b, _d), (i, k))*AntiSymmetricTensor(v, (a, _l), (j, _d)) - AntiSymmetricTensor(t, (c,), (_l,))*AntiSymmetricTensor(t, (b, _d), (j, k))*AntiSymmetricTensor(v, (a, _l), (i, _d)) - AntiSymmetricTensor(t, (c,), (_l,))*AntiSymmetricTensor(t, (a, _d, _e), (i, j, k))*AntiSymmetricTensor(v, (b, _l), (_d, _e))/2 + AntiSymmetricTensor(t, (c,), (_l,))*AntiSymmetricTensor(t, (b, _d, _e), (i, j, k))*AntiSymmetricTensor(v, (a, _l), (_d, _e))/2 + AntiSymmetricTensor(t, (c,), (_m,))*AntiSymmetricTensor(t, (_d, _e), (i, j))*AntiSymmetricTensor(t, (a, b), (k, _l))*AntiSymmetricTensor(v, (_l, _m), (_d, _e))/2 - AntiSymmetricTensor(t, (c,), (_m,))*AntiSymmetricTensor(t, (_d, _e), (i, k))*AntiSymmetricTensor(t, (a, b), (j, _l))*AntiSymmetricTensor(v, (_l, _m), (_d, _e))/2 + AntiSymmetricTensor(t, (c,), (_m,))*AntiSymmetricTensor(t, (_d, _e), (j, k))*AntiSymmetricTensor(t, (a, b), (i, _l))*AntiSymmetricTensor(v, (_l, _m), (_d, _e))/2 - AntiSymmetricTensor(t, (c,), (_m,))*AntiSymmetricTensor(t, (a, _d), (i, _l))*AntiSymmetricTensor(t, (b, _e), (j, k))*AntiSymmetricTensor(v, (_l, _m), (_d, _e)) - AntiSymmetricTensor(t, (c,), (_m,))*AntiSymmetricTensor(t, (a, _d), (i, j))*AntiSymmetricTensor(t, (b, _e), (k, _l))*AntiSymmetricTensor(v, (_l, _m), (_d, _e)) + AntiSymmetricTensor(t, (c,), (_m,))*AntiSymmetricTensor(t, (a, _d), (i, k))*AntiSymmetricTensor(t, (b, _e), (j, _l))*AntiSymmetricTensor(v, (_l, _m), (_d, _e)) + AntiSymmetricTensor(t, (c,), (_m,))*AntiSymmetricTensor(t, (a, _d), (j, _l))*AntiSymmetricTensor(t, (b, _e), (i, k))*AntiSymmetricTensor(v, (_l, _m), (_d, _e)) - AntiSymmetricTensor(t, (c,), (_m,))*AntiSymmetricTensor(t, (a, _d), (j, k))*AntiSymmetricTensor(t, (b, _e), (i, _l))*AntiSymmetricTensor(v, (_l, _m), (_d, _e)) - AntiSymmetricTensor(t, (c,), (_m,))*AntiSymmetricTensor(t, (a, _d), (k, _l))*AntiSymmetricTensor(t, (b, _e), (i, j))*AntiSymmetricTensor(v, (_l, _m), (_d, _e)) + AntiSymmetricTensor(t, (c,), (_m,))*AntiSymmetricTensor(t, (a, b), (i, _l))*AntiSymmetricTensor(v, (_l, _m), (j, k)) - AntiSymmetricTensor(t, (c,), (_m,))*AntiSymmetricTensor(t, (a, b), (j, _l))*AntiSymmetricTensor(v, (_l, _m), (i, k)) + AntiSymmetricTensor(t, (c,), (_m,))*AntiSymmetricTensor(t, (a, b), (k, _l))*AntiSymmetricTensor(v, (_l, _m), (i, j)) + AntiSymmetricTensor(t, (c,), (_m,))*AntiSymmetricTensor(t, (a, b, _d), (i, j, _l))*AntiSymmetricTensor(v, (_l, _m), (k, _d)) - AntiSymmetricTensor(t, (c,), (_m,))*AntiSymmetricTensor(t, (a, b, _d), (i, k, _l))*AntiSymmetricTensor(v, (_l, _m), (j, _d)) + AntiSymmetricTensor(t, (c,), (_m,))*AntiSymmetricTensor(t, (a, b, _d), (j, k, _l))*AntiSymmetricTensor(v, (_l, _m), (i, _d)) + AntiSymmetricTensor(t, (_d, _e), (i, _l))*AntiSymmetricTensor(t, (a, b, c), (j, k, _m))*AntiSymmetricTensor(v, (_l, _m), (_d, _e))/2 + AntiSymmetricTensor(t, (_d, _e), (i, j))*AntiSymmetricTensor(t, (a, b), (k, _l))*AntiSymmetricTensor(v, (c, _l), (_d, _e))/2 - AntiSymmetricTensor(t, (_d, _e), (i, j))*AntiSymmetricTensor(t, (a, c), (k, _l))*AntiSymmetricTensor(v, (b, _l), (_d, _e))/2 + AntiSymmetricTensor(t, (_d, _e), (i, j))*AntiSymmetricTensor(t, (b, c), (k, _l))*AntiSymmetricTensor(v, (a, _l), (_d, _e))/2 + AntiSymmetricTensor(t, (_d, _e), (i, j))*AntiSymmetricTensor(t, (a, b, c), (k, _l, _m))*AntiSymmetricTensor(v, (_l, _m), (_d, _e))/4 - AntiSymmetricTensor(t, (_d, _e), (i, k))*AntiSymmetricTensor(t, (a, b), (j, _l))*AntiSymmetricTensor(v, (c, _l), (_d, _e))/2 + AntiSymmetricTensor(t, (_d, _e), (i, k))*AntiSymmetricTensor(t, (a, c), (j, _l))*AntiSymmetricTensor(v, (b, _l), (_d, _e))/2 - AntiSymmetricTensor(t, (_d, _e), (i, k))*AntiSymmetricTensor(t, (b, c), (j, _l))*AntiSymmetricTensor(v, (a, _l), (_d, _e))/2 - AntiSymmetricTensor(t, (_d, _e), (i, k))*AntiSymmetricTensor(t, (a, b, c), (j, _l, _m))*AntiSymmetricTensor(v, (_l, _m), (_d, _e))/4 - AntiSymmetricTensor(t, (_d, _e), (j, _l))*AntiSymmetricTensor(t, (a, b, c), (i, k, _m))*AntiSymmetricTensor(v, (_l, _m), (_d, _e))/2 + AntiSymmetricTensor(t, (_d, _e), (j, k))*AntiSymmetricTensor(t, (a, b), (i, _l))*AntiSymmetricTensor(v, (c, _l), (_d, _e))/2 - AntiSymmetricTensor(t, (_d, _e), (j, k))*AntiSymmetricTensor(t, (a, c), (i, _l))*AntiSymmetricTensor(v, (b, _l), (_d, _e))/2 + AntiSymmetricTensor(t, (_d, _e), (j, k))*AntiSymmetricTensor(t, (b, c), (i, _l))*AntiSymmetricTensor(v, (a, _l), (_d, _e))/2 + AntiSymmetricTensor(t, (_d, _e), (j, k))*AntiSymmetricTensor(t, (a, b, c), (i, _l, _m))*AntiSymmetricTensor(v, (_l, _m), (_d, _e))/4 + AntiSymmetricTensor(t, (_d, _e), (k, _l))*AntiSymmetricTensor(t, (a, b, c), (i, j, _m))*AntiSymmetricTensor(v, (_l, _m), (_d, _e))/2 + AntiSymmetricTensor(t, (a, _d), (_l, _m))*AntiSymmetricTensor(t, (b, c, _e), (i, j, k))*AntiSymmetricTensor(v, (_l, _m), (_d, _e))/2 - AntiSymmetricTensor(t, (a, _d), (i, _l))*AntiSymmetricTensor(t, (b, _e), (j, k))*AntiSymmetricTensor(v, (c, _l), (_d, _e)) + AntiSymmetricTensor(t, (a, _d), (i, _l))*AntiSymmetricTensor(t, (b, c), (j, _m))*AntiSymmetricTensor(v, (_l, _m), (k, _d)) - AntiSymmetricTensor(t, (a, _d), (i, _l))*AntiSymmetricTensor(t, (b, c), (k, _m))*AntiSymmetricTensor(v, (_l, _m), (j, _d)) + AntiSymmetricTensor(t, (a, _d), (i, _l))*AntiSymmetricTensor(t, (c, _e), (j, k))*AntiSymmetricTensor(v, (b, _l), (_d, _e)) + AntiSymmetricTensor(t, (a, _d), (i, _l))*AntiSymmetricTensor(t, (b, c, _e), (j, k, _m))*AntiSymmetricTensor(v, (_l, _m), (_d, _e)) - AntiSymmetricTensor(t, (a, _d), (i, j))*AntiSymmetricTensor(t, (b, _e), (k, _l))*AntiSymmetricTensor(v, (c, _l), (_d, _e)) - AntiSymmetricTensor(t, (a, _d), (i, j))*AntiSymmetricTensor(t, (b, c), (_l, _m))*AntiSymmetricTensor(v, (_l, _m), (k, _d))/2 + AntiSymmetricTensor(t, (a, _d), (i, j))*AntiSymmetricTensor(t, (c, _e), (k, _l))*AntiSymmetricTensor(v, (b, _l), (_d, _e)) + AntiSymmetricTensor(t, (a, _d), (i, j))*AntiSymmetricTensor(t, (b, c, _e), (k, _l, _m))*AntiSymmetricTensor(v, (_l, _m), (_d, _e))/2 - AntiSymmetricTensor(t, (a, _d), (i, j))*AntiSymmetricTensor(v, (b, c), (k, _d)) + AntiSymmetricTensor(t, (a, _d), (i, k))*AntiSymmetricTensor(t, (b, _e), (j, _l))*AntiSymmetricTensor(v, (c, _l), (_d, _e)) + AntiSymmetricTensor(t, (a, _d), (i, k))*AntiSymmetricTensor(t, (b, c), (_l, _m))*AntiSymmetricTensor(v, (_l, _m), (j, _d))/2 - AntiSymmetricTensor(t, (a, _d), (i, k))*AntiSymmetricTensor(t, (c, _e), (j, _l))*AntiSymmetricTensor(v, (b, _l), (_d, _e)) - AntiSymmetricTensor(t, (a, _d), (i, k))*AntiSymmetricTensor(t, (b, c, _e), (j, _l, _m))*AntiSymmetricTensor(v, (_l, _m), (_d, _e))/2 + AntiSymmetricTensor(t, (a, _d), (i, k))*AntiSymmetricTensor(v, (b, c), (j, _d)) + AntiSymmetricTensor(t, (a, _d), (j, _l))*AntiSymmetricTensor(t, (b, _e), (i, k))*AntiSymmetricTensor(v, (c, _l), (_d, _e)) - AntiSymmetricTensor(t, (a, _d), (j, _l))*AntiSymmetricTensor(t, (b, c), (i, _m))*AntiSymmetricTensor(v, (_l, _m), (k, _d)) + AntiSymmetricTensor(t, (a, _d), (j, _l))*AntiSymmetricTensor(t, (b, c), (k, _m))*AntiSymmetricTensor(v, (_l, _m), (i, _d)) - AntiSymmetricTensor(t, (a, _d), (j, _l))*AntiSymmetricTensor(t, (c, _e), (i, k))*AntiSymmetricTensor(v, (b, _l), (_d, _e)) - AntiSymmetricTensor(t, (a, _d), (j, _l))*AntiSymmetricTensor(t, (b, c, _e), (i, k, _m))*AntiSymmetricTensor(v, (_l, _m), (_d, _e)) - AntiSymmetricTensor(t, (a, _d), (j, k))*AntiSymmetricTensor(t, (b, _e), (i, _l))*AntiSymmetricTensor(v, (c, _l), (_d, _e)) - AntiSymmetricTensor(t, (a, _d), (j, k))*AntiSymmetricTensor(t, (b, c), (_l, _m))*AntiSymmetricTensor(v, (_l, _m), (i, _d))/2 + AntiSymmetricTensor(t, (a, _d), (j, k))*AntiSymmetricTensor(t, (c, _e), (i, _l))*AntiSymmetricTensor(v, (b, _l), (_d, _e)) + AntiSymmetricTensor(t, (a, _d), (j, k))*AntiSymmetricTensor(t, (b, c, _e), (i, _l, _m))*AntiSymmetricTensor(v, (_l, _m), (_d, _e))/2 - AntiSymmetricTensor(t, (a, _d), (j, k))*AntiSymmetricTensor(v, (b, c), (i, _d)) - AntiSymmetricTensor(t, (a, _d), (k, _l))*AntiSymmetricTensor(t, (b, _e), (i, j))*AntiSymmetricTensor(v, (c, _l), (_d, _e)) + AntiSymmetricTensor(t, (a, _d), (k, _l))*AntiSymmetricTensor(t, (b, c), (i, _m))*AntiSymmetricTensor(v, (_l, _m), (j, _d)) - AntiSymmetricTensor(t, (a, _d), (k, _l))*AntiSymmetricTensor(t, (b, c), (j, _m))*AntiSymmetricTensor(v, (_l, _m), (i, _d)) + AntiSymmetricTensor(t, (a, _d), (k, _l))*AntiSymmetricTensor(t, (c, _e), (i, j))*AntiSymmetricTensor(v, (b, _l), (_d, _e)) + AntiSymmetricTensor(t, (a, _d), (k, _l))*AntiSymmetricTensor(t, (b, c, _e), (i, j, _m))*AntiSymmetricTensor(v, (_l, _m), (_d, _e)) - AntiSymmetricTensor(t, (a, b), (_l, _m))*AntiSymmetricTensor(t, (c, _d), (i, j))*AntiSymmetricTensor(v, (_l, _m), (k, _d))/2 + AntiSymmetricTensor(t, (a, b), (_l, _m))*AntiSymmetricTensor(t, (c, _d), (i, k))*AntiSymmetricTensor(v, (_l, _m), (j, _d))/2 - AntiSymmetricTensor(t, (a, b), (_l, _m))*AntiSymmetricTensor(t, (c, _d), (j, k))*AntiSymmetricTensor(v, (_l, _m), (i, _d))/2 + AntiSymmetricTensor(t, (a, b), (_l, _m))*AntiSymmetricTensor(t, (c, _d, _e), (i, j, k))*AntiSymmetricTensor(v, (_l, _m), (_d, _e))/4 + AntiSymmetricTensor(t, (a, b), (i, _l))*AntiSymmetricTensor(t, (c, _d), (j, _m))*AntiSymmetricTensor(v, (_l, _m), (k, _d)) - AntiSymmetricTensor(t, (a, b), (i, _l))*AntiSymmetricTensor(t, (c, _d), (k, _m))*AntiSymmetricTensor(v, (_l, _m), (j, _d)) + AntiSymmetricTensor(t, (a, b), (i, _l))*AntiSymmetricTensor(t, (c, _d, _e), (j, k, _m))*AntiSymmetricTensor(v, (_l, _m), (_d, _e))/2 + AntiSymmetricTensor(t, (a, b), (i, _l))*AntiSymmetricTensor(v, (c, _l), (j, k)) - AntiSymmetricTensor(t, (a, b), (j, _l))*AntiSymmetricTensor(t, (c, _d), (i, _m))*AntiSymmetricTensor(v, (_l, _m), (k, _d)) + AntiSymmetricTensor(t, (a, b), (j, _l))*AntiSymmetricTensor(t, (c, _d), (k, _m))*AntiSymmetricTensor(v, (_l, _m), (i, _d)) - AntiSymmetricTensor(t, (a, b), (j, _l))*AntiSymmetricTensor(t, (c, _d, _e), (i, k, _m))*AntiSymmetricTensor(v, (_l, _m), (_d, _e))/2 - AntiSymmetricTensor(t, (a, b), (j, _l))*AntiSymmetricTensor(v, (c, _l), (i, k)) + AntiSymmetricTensor(t, (a, b), (k, _l))*AntiSymmetricTensor(t, (c, _d), (i, _m))*AntiSymmetricTensor(v, (_l, _m), (j, _d)) - AntiSymmetricTensor(t, (a, b), (k, _l))*AntiSymmetricTensor(t, (c, _d), (j, _m))*AntiSymmetricTensor(v, (_l, _m), (i, _d)) + AntiSymmetricTensor(t, (a, b), (k, _l))*AntiSymmetricTensor(t, (c, _d, _e), (i, j, _m))*AntiSymmetricTensor(v, (_l, _m), (_d, _e))/2 + AntiSymmetricTensor(t, (a, b), (k, _l))*AntiSymmetricTensor(v, (c, _l), (i, j)) + AntiSymmetricTensor(t, (a, c), (_l, _m))*AntiSymmetricTensor(t, (b, _d), (i, j))*AntiSymmetricTensor(v, (_l, _m), (k, _d))/2 - AntiSymmetricTensor(t, (a, c), (_l, _m))*AntiSymmetricTensor(t, (b, _d), (i, k))*AntiSymmetricTensor(v, (_l, _m), (j, _d))/2 + AntiSymmetricTensor(t, (a, c), (_l, _m))*AntiSymmetricTensor(t, (b, _d), (j, k))*AntiSymmetricTensor(v, (_l, _m), (i, _d))/2 - AntiSymmetricTensor(t, (a, c), (_l, _m))*AntiSymmetricTensor(t, (b, _d, _e), (i, j, k))*AntiSymmetricTensor(v, (_l, _m), (_d, _e))/4 - AntiSymmetricTensor(t, (a, c), (i, _l))*AntiSymmetricTensor(t, (b, _d), (j, _m))*AntiSymmetricTensor(v, (_l, _m), (k, _d)) + AntiSymmetricTensor(t, (a, c), (i, _l))*AntiSymmetricTensor(t, (b, _d), (k, _m))*AntiSymmetricTensor(v, (_l, _m), (j, _d)) - AntiSymmetricTensor(t, (a, c), (i, _l))*AntiSymmetricTensor(t, (b, _d, _e), (j, k, _m))*AntiSymmetricTensor(v, (_l, _m), (_d, _e))/2 - AntiSymmetricTensor(t, (a, c), (i, _l))*AntiSymmetricTensor(v, (b, _l), (j, k)) + AntiSymmetricTensor(t, (a, c), (j, _l))*AntiSymmetricTensor(t, (b, _d), (i, _m))*AntiSymmetricTensor(v, (_l, _m), (k, _d)) - AntiSymmetricTensor(t, (a, c), (j, _l))*AntiSymmetricTensor(t, (b, _d), (k, _m))*AntiSymmetricTensor(v, (_l, _m), (i, _d)) + AntiSymmetricTensor(t, (a, c), (j, _l))*AntiSymmetricTensor(t, (b, _d, _e), (i, k, _m))*AntiSymmetricTensor(v, (_l, _m), (_d, _e))/2 + AntiSymmetricTensor(t, (a, c), (j, _l))*AntiSymmetricTensor(v, (b, _l), (i, k)) - AntiSymmetricTensor(t, (a, c), (k, _l))*AntiSymmetricTensor(t, (b, _d), (i, _m))*AntiSymmetricTensor(v, (_l, _m), (j, _d)) + AntiSymmetricTensor(t, (a, c), (k, _l))*AntiSymmetricTensor(t, (b, _d), (j, _m))*AntiSymmetricTensor(v, (_l, _m), (i, _d)) - AntiSymmetricTensor(t, (a, c), (k, _l))*AntiSymmetricTensor(t, (b, _d, _e), (i, j, _m))*AntiSymmetricTensor(v, (_l, _m), (_d, _e))/2 - AntiSymmetricTensor(t, (a, c), (k, _l))*AntiSymmetricTensor(v, (b, _l), (i, j)) - AntiSymmetricTensor(t, (b, _d), (i, _l))*AntiSymmetricTensor(t, (c, _e), (j, k))*AntiSymmetricTensor(v, (a, _l), (_d, _e)) - AntiSymmetricTensor(t, (b, _d), (i, j))*AntiSymmetricTensor(t, (c, _e), (k, _l))*AntiSymmetricTensor(v, (a, _l), (_d, _e)) + AntiSymmetricTensor(t, (b, _d), (i, j))*AntiSymmetricTensor(v, (a, c), (k, _d)) + AntiSymmetricTensor(t, (b, _d), (i, k))*AntiSymmetricTensor(t, (c, _e), (j, _l))*AntiSymmetricTensor(v, (a, _l), (_d, _e)) - AntiSymmetricTensor(t, (b, _d), (i, k))*AntiSymmetricTensor(v, (a, c), (j, _d)) + AntiSymmetricTensor(t, (b, _d), (j, _l))*AntiSymmetricTensor(t, (c, _e), (i, k))*AntiSymmetricTensor(v, (a, _l), (_d, _e)) - AntiSymmetricTensor(t, (b, _d), (j, k))*AntiSymmetricTensor(t, (c, _e), (i, _l))*AntiSymmetricTensor(v, (a, _l), (_d, _e)) + AntiSymmetricTensor(t, (b, _d), (j, k))*AntiSymmetricTensor(v, (a, c), (i, _d)) - AntiSymmetricTensor(t, (b, _d), (k, _l))*AntiSymmetricTensor(t, (c, _e), (i, j))*AntiSymmetricTensor(v, (a, _l), (_d, _e)) + AntiSymmetricTensor(t, (b, _e), (_l, _m))*AntiSymmetricTensor(t, (a, c, _d), (i, j, k))*AntiSymmetricTensor(v, (_l, _m), (_d, _e))/2 - AntiSymmetricTensor(t, (b, _e), (i, _m))*AntiSymmetricTensor(t, (a, c, _d), (j, k, _l))*AntiSymmetricTensor(v, (_l, _m), (_d, _e)) + AntiSymmetricTensor(t, (b, _e), (i, j))*AntiSymmetricTensor(t, (a, c, _d), (k, _l, _m))*AntiSymmetricTensor(v, (_l, _m), (_d, _e))/2 - AntiSymmetricTensor(t, (b, _e), (i, k))*AntiSymmetricTensor(t, (a, c, _d), (j, _l, _m))*AntiSymmetricTensor(v, (_l, _m), (_d, _e))/2 + AntiSymmetricTensor(t, (b, _e), (j, _m))*AntiSymmetricTensor(t, (a, c, _d), (i, k, _l))*AntiSymmetricTensor(v, (_l, _m), (_d, _e)) + AntiSymmetricTensor(t, (b, _e), (j, k))*AntiSymmetricTensor(t, (a, c, _d), (i, _l, _m))*AntiSymmetricTensor(v, (_l, _m), (_d, _e))/2 - AntiSymmetricTensor(t, (b, _e), (k, _m))*AntiSymmetricTensor(t, (a, c, _d), (i, j, _l))*AntiSymmetricTensor(v, (_l, _m), (_d, _e)) + AntiSymmetricTensor(t, (b, c), (_l, _m))*AntiSymmetricTensor(t, (a, _d, _e), (i, j, k))*AntiSymmetricTensor(v, (_l, _m), (_d, _e))/4 + AntiSymmetricTensor(t, (b, c), (i, _l))*AntiSymmetricTensor(v, (a, _l), (j, k)) - AntiSymmetricTensor(t, (b, c), (i, _m))*AntiSymmetricTensor(t, (a, _d, _e), (j, k, _l))*AntiSymmetricTensor(v, (_l, _m), (_d, _e))/2 - AntiSymmetricTensor(t, (b, c), (j, _l))*AntiSymmetricTensor(v, (a, _l), (i, k)) + AntiSymmetricTensor(t, (b, c), (j, _m))*AntiSymmetricTensor(t, (a, _d, _e), (i, k, _l))*AntiSymmetricTensor(v, (_l, _m), (_d, _e))/2 + AntiSymmetricTensor(t, (b, c), (k, _l))*AntiSymmetricTensor(v, (a, _l), (i, j)) - AntiSymmetricTensor(t, (b, c), (k, _m))*AntiSymmetricTensor(t, (a, _d, _e), (i, j, _l))*AntiSymmetricTensor(v, (_l, _m), (_d, _e))/2 - AntiSymmetricTensor(t, (c, _d), (i, j))*AntiSymmetricTensor(v, (a, b), (k, _d)) + AntiSymmetricTensor(t, (c, _d), (i, k))*AntiSymmetricTensor(v, (a, b), (j, _d)) - AntiSymmetricTensor(t, (c, _d), (j, k))*AntiSymmetricTensor(v, (a, b), (i, _d)) - AntiSymmetricTensor(t, (c, _e), (_l, _m))*AntiSymmetricTensor(t, (a, b, _d), (i, j, k))*AntiSymmetricTensor(v, (_l, _m), (_d, _e))/2 + AntiSymmetricTensor(t, (c, _e), (i, _m))*AntiSymmetricTensor(t, (a, b, _d), (j, k, _l))*AntiSymmetricTensor(v, (_l, _m), (_d, _e)) - AntiSymmetricTensor(t, (c, _e), (i, j))*AntiSymmetricTensor(t, (a, b, _d), (k, _l, _m))*AntiSymmetricTensor(v, (_l, _m), (_d, _e))/2 + AntiSymmetricTensor(t, (c, _e), (i, k))*AntiSymmetricTensor(t, (a, b, _d), (j, _l, _m))*AntiSymmetricTensor(v, (_l, _m), (_d, _e))/2 - AntiSymmetricTensor(t, (c, _e), (j, _m))*AntiSymmetricTensor(t, (a, b, _d), (i, k, _l))*AntiSymmetricTensor(v, (_l, _m), (_d, _e)) - AntiSymmetricTensor(t, (c, _e), (j, k))*AntiSymmetricTensor(t, (a, b, _d), (i, _l, _m))*AntiSymmetricTensor(v, (_l, _m), (_d, _e))/2 + AntiSymmetricTensor(t, (c, _e), (k, _m))*AntiSymmetricTensor(t, (a, b, _d), (i, j, _l))*AntiSymmetricTensor(v, (_l, _m), (_d, _e)) + AntiSymmetricTensor(t, (a, _d, _e), (i, j, k))*AntiSymmetricTensor(v, (b, c), (_d, _e))/2 + AntiSymmetricTensor(t, (a, b, _d), (i, j, _l))*AntiSymmetricTensor(v, (c, _l), (k, _d)) - AntiSymmetricTensor(t, (a, b, _d), (i, k, _l))*AntiSymmetricTensor(v, (c, _l), (j, _d)) + AntiSymmetricTensor(t, (a, b, _d), (j, k, _l))*AntiSymmetricTensor(v, (c, _l), (i, _d)) + AntiSymmetricTensor(t, (a, b, c), (i, _l, _m))*AntiSymmetricTensor(v, (_l, _m), (j, k))/2 - AntiSymmetricTensor(t, (a, b, c), (j, _l, _m))*AntiSymmetricTensor(v, (_l, _m), (i, k))/2 + AntiSymmetricTensor(t, (a, b, c), (k, _l, _m))*AntiSymmetricTensor(v, (_l, _m), (i, j))/2 - AntiSymmetricTensor(t, (a, c, _d), (i, j, _l))*AntiSymmetricTensor(v, (b, _l), (k, _d)) + AntiSymmetricTensor(t, (a, c, _d), (i, k, _l))*AntiSymmetricTensor(v, (b, _l), (j, _d)) - AntiSymmetricTensor(t, (a, c, _d), (j, k, _l))*AntiSymmetricTensor(v, (b, _l), (i, _d)) - AntiSymmetricTensor(t, (b, _d, _e), (i, j, k))*AntiSymmetricTensor(v, (a, c), (_d, _e))/2 + AntiSymmetricTensor(t, (b, c, _d), (i, j, _l))*AntiSymmetricTensor(v, (a, _l), (k, _d)) - AntiSymmetricTensor(t, (b, c, _d), (i, k, _l))*AntiSymmetricTensor(v, (a, _l), (j, _d)) + AntiSymmetricTensor(t, (b, c, _d), (j, k, _l))*AntiSymmetricTensor(v, (a, _l), (i, _d)) + AntiSymmetricTensor(t, (c, _d, _e), (i, j, k))*AntiSymmetricTensor(v, (a, b), (_d, _e))/2"
      ]
     },
     "execution_count": 13,
     "metadata": {},
     "output_type": "execute_result"
    }
   ],
   "source": [
    "eqT3 = wicks(NO(Fd(i)*Fd(j)*Fd(k)*F(c)*F(b)*F(a))*eq, simplify_dummies=True, \n",
    "             keep_only_fully_contracted=True, simplify_kronecker_deltas=True)\n",
    "eqT3"
   ]
  },
  {
   "cell_type": "markdown",
   "metadata": {},
   "source": [
    "# Using Tchau-Spin"
   ]
  },
  {
   "cell_type": "code",
   "execution_count": 15,
   "metadata": {},
   "outputs": [],
   "source": [
    "import sys\n",
    "sys.path.append('..')\n",
    "from tchau_spin import *\n",
    "# For restricted CC\n",
    "Tensor.rhf = True"
   ]
  },
  {
   "cell_type": "markdown",
   "metadata": {},
   "source": [
    "$\\bullet$ Define indexes"
   ]
  },
  {
   "cell_type": "code",
   "execution_count": 16,
   "metadata": {},
   "outputs": [],
   "source": [
    "i,j,k,a,b,c = Index.new('ijkabc', 'abaaba', 'hhhppp')\n",
    "# 'xxxx' indicates that those indexes have any spin\n",
    "l,m,d,e = Index.new('lmde', 'xxxx', 'hhpp')\n",
    "index_key = {'i':i,\n",
    "             'j':j,\n",
    "             'a':a,\n",
    "             'b':b,\n",
    "             'k':k,\n",
    "             'l':l,\n",
    "             'c':c,\n",
    "             'd':d,\n",
    "             'l':l,\n",
    "             'm':m,\n",
    "             'e':e\n",
    "}"
   ]
  },
  {
   "cell_type": "markdown",
   "metadata": {},
   "source": [
    "## Processing Energy expression"
   ]
  },
  {
   "cell_type": "code",
   "execution_count": 17,
   "metadata": {},
   "outputs": [
    {
     "data": {
      "text/latex": [
       "$\\displaystyle f_{dl}t_{l}^{d}+f_{DL}t_{L}^{D}-0.5t_{l}^{e}t_{m}^{d}\\langle de|lm\\rangle+0.5t_{l}^{e}t_{m}^{d}\\langle de|ml\\rangle+0.5t_{l}^{e}t_{M}^{D}\\langle De|Ml\\rangle+0.5t_{L}^{E}t_{m}^{d}\\langle dE|mL\\rangle-0.5t_{L}^{E}t_{M}^{D}\\langle DE|LM\\rangle+0.5t_{L}^{E}t_{M}^{D}\\langle DE|ML\\rangle+0.25t_{lm}^{de}\\langle de|lm\\rangle+0.25t_{lM}^{dE}\\langle dE|lM\\rangle+0.25t_{Lm}^{De}\\langle De|Lm\\rangle+0.25t_{LM}^{DE}\\langle DE|LM\\rangle-0.25t_{lm}^{de}\\langle de|ml\\rangle-0.25t_{lM}^{De}\\langle De|Ml\\rangle-0.25t_{Lm}^{dE}\\langle dE|mL\\rangle-0.25t_{LM}^{DE}\\langle DE|ML\\rangle$"
      ],
      "text/plain": [
       "<IPython.core.display.Math object>"
      ]
     },
     "metadata": {},
     "output_type": "display_data"
    }
   ],
   "source": [
    "E = eqfromlatex(latex(energy), index_key)\n",
    "platex(E)"
   ]
  },
  {
   "cell_type": "markdown",
   "metadata": {},
   "source": [
    "$\\bullet$ Simplify Equation"
   ]
  },
  {
   "cell_type": "code",
   "execution_count": 18,
   "metadata": {},
   "outputs": [
    {
     "data": {
      "text/latex": [
       "$\\displaystyle 2.0f_{LD}t_{L}^{D}-t_{M}^{D}t_{L}^{E}\\langle LM|DE\\rangle+2.0t_{M}^{D}t_{L}^{E}\\langle ML|DE\\rangle-t_{Ml}^{De}\\langle LM|DE\\rangle+2.0t_{Lm}^{De}\\langle LM|DE\\rangle$"
      ],
      "text/plain": [
       "<IPython.core.display.Math object>"
      ]
     },
     "metadata": {},
     "output_type": "display_data"
    }
   ],
   "source": [
    "E = E.simplify()\n",
    "E = E.adapt_space()\n",
    "platex(E)"
   ]
  },
  {
   "cell_type": "markdown",
   "metadata": {},
   "source": [
    "$\\bullet$ Process equation. It is necessary to identify the external indexes (in this case none). Also it is optional to provide names. Let's do it without these options first"
   ]
  },
  {
   "cell_type": "code",
   "execution_count": 19,
   "metadata": {},
   "outputs": [
    {
     "name": "stdout",
     "output_type": "stream",
     "text": [
      "name += 2.0*np.einsum('ld, ld -> ', f_OV, T_OV, optimize = 'optimal')\n",
      "name -= np.einsum('md, le, lmde -> ', T_OV, T_OV, V_OOVV, optimize = 'optimal')\n",
      "name += 2.0*np.einsum('md, le, mlde -> ', T_OV, T_OV, V_OOVV, optimize = 'optimal')\n",
      "name -= np.einsum('mlde, lmde -> ', T_OoVv, V_OOVV, optimize = 'optimal')\n",
      "name += 2.0*np.einsum('lmde, lmde -> ', T_OoVv, V_OOVV, optimize = 'optimal')\n",
      "\n"
     ]
    }
   ],
   "source": [
    "pE = process_eq(eq=E)\n",
    "pE.write_einsums_out(print_out=True)"
   ]
  },
  {
   "cell_type": "markdown",
   "metadata": {},
   "source": [
    "$\\bullet$ The output is more useful if we define some options"
   ]
  },
  {
   "cell_type": "code",
   "execution_count": 20,
   "metadata": {},
   "outputs": [
    {
     "name": "stdout",
     "output_type": "stream",
     "text": [
      "CC_energy += 2.0*np.einsum('ld, ld -> ', fock_OV, T1, optimize = 'optimal')\n",
      "CC_energy -= np.einsum('md, le, lmde -> ', T1, T1, Voovv, optimize = 'optimal')\n",
      "CC_energy += 2.0*np.einsum('md, le, mlde -> ', T1, T1, Voovv, optimize = 'optimal')\n",
      "CC_energy -= np.einsum('mlde, lmde -> ', T2, Voovv, optimize = 'optimal')\n",
      "CC_energy += 2.0*np.einsum('lmde, lmde -> ', T2, Voovv, optimize = 'optimal')\n",
      "\n"
     ]
    }
   ],
   "source": [
    "mytensors = {\n",
    "    'T_OoVv' : 'T2',\n",
    "    'T_OV' : 'T1',\n",
    "    'T_OoOVvV': 'T3',\n",
    "    'V_OOOO' : 'Voooo',\n",
    "    'V_OOOV' : 'Vooov',\n",
    "    'V_OOVV' : 'Voovv',\n",
    "    'V_OVOV' : 'Vovov',\n",
    "    'V_OVVV' : 'Vovvv',\n",
    "    'V_VVVV' : 'Vvvvv',\n",
    "    'f_OO' : 'fock_OO',\n",
    "    'f_VV' : 'fock_VV',\n",
    "    'f_OV' : 'fock_OV'\n",
    "    \n",
    "}\n",
    "\n",
    "pE = process_eq(eq=E, name = 'CC_energy', tensor_labels = mytensors)\n",
    "pE.write_einsums_out(print_out=True)"
   ]
  },
  {
   "cell_type": "markdown",
   "metadata": {},
   "source": [
    "## Processing $T_1$ amplitude equation"
   ]
  },
  {
   "cell_type": "code",
   "execution_count": 21,
   "metadata": {},
   "outputs": [
    {
     "data": {
      "text/latex": [
       "$\\displaystyle -f_{DL}t_{I}^{D}t_{L}^{A}+f_{dl}t_{Il}^{Ad}+f_{DL}t_{IL}^{AD}-f_{IL}t_{L}^{A}+f_{DA}t_{I}^{D}+f_{IA}-t_{I}^{E}t_{l}^{d}t_{M}^{A}\\langle dE|lM\\rangle-t_{I}^{E}t_{L}^{D}t_{M}^{A}\\langle DE|LM\\rangle+t_{I}^{E}t_{L}^{D}t_{M}^{A}\\langle DE|ML\\rangle+t_{I}^{E}t_{l}^{d}\\langle dE|lA\\rangle-t_{I}^{E}t_{L}^{D}\\langle DE|AL\\rangle+t_{I}^{E}t_{L}^{D}\\langle DE|LA\\rangle-t_{M}^{A}t_{l}^{d}\\langle Id|Ml\\rangle+t_{M}^{A}t_{L}^{D}\\langle ID|LM\\rangle-t_{M}^{A}t_{L}^{D}\\langle ID|ML\\rangle+t_{l}^{d}t_{Im}^{Ae}\\langle de|lm\\rangle-t_{l}^{d}t_{Im}^{Ae}\\langle de|ml\\rangle+t_{L}^{D}t_{Im}^{Ae}\\langle De|Lm\\rangle+t_{l}^{d}t_{IM}^{AE}\\langle dE|lM\\rangle+t_{L}^{D}t_{IM}^{AE}\\langle DE|LM\\rangle-t_{L}^{D}t_{IM}^{AE}\\langle DE|ML\\rangle+t_{l}^{d}\\langle Id|Al\\rangle+t_{L}^{D}\\langle ID|AL\\rangle-t_{L}^{D}\\langle ID|LA\\rangle+0.5t_{I}^{D}t_{lM}^{Ae}\\langle De|Ml\\rangle-0.5t_{I}^{D}t_{Lm}^{Ae}\\langle De|Lm\\rangle-0.5t_{I}^{D}t_{LM}^{AE}\\langle DE|LM\\rangle+0.5t_{I}^{D}t_{LM}^{AE}\\langle DE|ML\\rangle+0.5t_{M}^{A}t_{Il}^{dE}\\langle dE|lM\\rangle-0.5t_{M}^{A}t_{Il}^{De}\\langle De|Ml\\rangle+0.5t_{M}^{A}t_{IL}^{DE}\\langle DE|LM\\rangle-0.5t_{M}^{A}t_{IL}^{DE}\\langle DE|ML\\rangle+0.5t_{Il}^{De}\\langle De|Al\\rangle+0.5t_{IL}^{DE}\\langle DE|AL\\rangle-0.5t_{Il}^{dE}\\langle dE|lA\\rangle-0.5t_{IL}^{DE}\\langle DE|LA\\rangle-0.5t_{Lm}^{Ad}\\langle Id|Lm\\rangle-0.5t_{LM}^{AD}\\langle ID|LM\\rangle+0.5t_{lM}^{Ad}\\langle Id|Ml\\rangle+0.5t_{LM}^{AD}\\langle ID|ML\\rangle+0.25t_{Ilm}^{Ade}\\langle de|lm\\rangle+0.25t_{IlM}^{AdE}\\langle dE|lM\\rangle+0.25t_{ILm}^{ADe}\\langle De|Lm\\rangle+0.25t_{ILM}^{ADE}\\langle DE|LM\\rangle-0.25t_{Ilm}^{Ade}\\langle de|ml\\rangle-0.25t_{IlM}^{ADe}\\langle De|Ml\\rangle-0.25t_{ILm}^{AdE}\\langle dE|mL\\rangle-0.25t_{ILM}^{ADE}\\langle DE|ML\\rangle$"
      ],
      "text/plain": [
       "<IPython.core.display.Math object>"
      ]
     },
     "metadata": {},
     "output_type": "display_data"
    }
   ],
   "source": [
    "T1 = eqfromlatex(latex(eqT1), index_key)\n",
    "platex(T1)"
   ]
  },
  {
   "cell_type": "markdown",
   "metadata": {},
   "source": [
    "$\\bullet$ Simplify"
   ]
  },
  {
   "cell_type": "code",
   "execution_count": 22,
   "metadata": {},
   "outputs": [
    {
     "data": {
      "text/latex": [
       "$\\displaystyle -f_{LD}t_{I}^{D}t_{L}^{A}+2.0f_{LD}t_{Il}^{Ad}-f_{LD}t_{Li}^{Ad}-f_{IL}t_{L}^{A}+f_{DA}t_{I}^{D}+f_{IA}-2.0t_{L}^{D}t_{I}^{E}t_{M}^{A}\\langle LM|DE\\rangle+t_{L}^{D}t_{I}^{E}t_{M}^{A}\\langle ML|DE\\rangle+2.0t_{L}^{D}t_{I}^{E}\\langle LA|DE\\rangle-t_{L}^{D}t_{I}^{E}\\langle LA|ED\\rangle-2.0t_{L}^{D}t_{M}^{A}\\langle ML|ID\\rangle+t_{L}^{D}t_{M}^{A}\\langle LM|ID\\rangle+4.0t_{L}^{D}t_{Im}^{Ae}\\langle LM|DE\\rangle-2.0t_{L}^{D}t_{Im}^{Ae}\\langle ML|DE\\rangle-2.0t_{L}^{D}t_{Mi}^{Ae}\\langle LM|DE\\rangle+t_{L}^{D}t_{Mi}^{Ae}\\langle ML|DE\\rangle+2.0t_{L}^{D}\\langle LI|DA\\rangle-t_{L}^{D}\\langle ID|LA\\rangle-2.0t_{I}^{D}t_{Ml}^{Ae}\\langle ML|DE\\rangle+t_{I}^{D}t_{Ml}^{Ae}\\langle LM|DE\\rangle-2.0t_{M}^{A}t_{Il}^{Ed}\\langle LM|DE\\rangle+t_{M}^{A}t_{Il}^{De}\\langle LM|DE\\rangle+2.0t_{Il}^{De}\\langle LA|ED\\rangle-t_{Li}^{De}\\langle LA|ED\\rangle-2.0t_{Lm}^{Ad}\\langle LM|ID\\rangle+t_{Ml}^{Ad}\\langle LM|ID\\rangle+1.75t_{LiM}^{DaE}\\langle LM|DE\\rangle-0.25t_{LiM}^{AdE}\\langle LM|DE\\rangle-0.75t_{ImL}^{AdE}\\langle LM|DE\\rangle+0.25t_{LiM}^{AdE}\\langle ML|DE\\rangle$"
      ],
      "text/plain": [
       "<IPython.core.display.Math object>"
      ]
     },
     "metadata": {},
     "output_type": "display_data"
    }
   ],
   "source": [
    "T1 = T1.simplify()\n",
    "T1 = T1.adapt_space()\n",
    "platex(T1)"
   ]
  },
  {
   "cell_type": "code",
   "execution_count": 23,
   "metadata": {},
   "outputs": [
    {
     "name": "stdout",
     "output_type": "stream",
     "text": [
      "newT1 -= np.einsum('ld, id, la -> ia', fock_OV, T1, T1, optimize = 'optimal')\n",
      "newT1 += 2.0*np.einsum('ld, ilad -> ia', fock_OV, T2, optimize = 'optimal')\n",
      "newT1 -= np.einsum('ld, liad -> ia', fock_OV, T2, optimize = 'optimal')\n",
      "newT1 -= np.einsum('il, la -> ia', fock_OO, T1, optimize = 'optimal')\n",
      "newT1 += np.einsum('da, id -> ia', fock_VV, T1, optimize = 'optimal')\n",
      "newT1 += fock_OV\n",
      "newT1 += -2.0*np.einsum('ld, ie, ma, lmde -> ia', T1, T1, T1, Voovv, optimize = 'optimal')\n",
      "newT1 += np.einsum('ld, ie, ma, mlde -> ia', T1, T1, T1, Voovv, optimize = 'optimal')\n",
      "newT1 += 2.0*np.einsum('ld, ie, lade -> ia', T1, T1, Vovvv, optimize = 'optimal')\n",
      "newT1 -= np.einsum('ld, ie, laed -> ia', T1, T1, Vovvv, optimize = 'optimal')\n",
      "newT1 += -2.0*np.einsum('ld, ma, mlid -> ia', T1, T1, Vooov, optimize = 'optimal')\n",
      "newT1 += np.einsum('ld, ma, lmid -> ia', T1, T1, Vooov, optimize = 'optimal')\n",
      "newT1 += 4.0*np.einsum('ld, imae, lmde -> ia', T1, T2, Voovv, optimize = 'optimal')\n",
      "newT1 += -2.0*np.einsum('ld, imae, mlde -> ia', T1, T2, Voovv, optimize = 'optimal')\n",
      "newT1 += -2.0*np.einsum('ld, miae, lmde -> ia', T1, T2, Voovv, optimize = 'optimal')\n",
      "newT1 += np.einsum('ld, miae, mlde -> ia', T1, T2, Voovv, optimize = 'optimal')\n",
      "newT1 += 2.0*np.einsum('ld, lida -> ia', T1, Voovv, optimize = 'optimal')\n",
      "newT1 -= np.einsum('ld, idla -> ia', T1, Vovov, optimize = 'optimal')\n",
      "newT1 += -2.0*np.einsum('id, mlae, mlde -> ia', T1, T2, Voovv, optimize = 'optimal')\n",
      "newT1 += np.einsum('id, mlae, lmde -> ia', T1, T2, Voovv, optimize = 'optimal')\n",
      "newT1 += -2.0*np.einsum('ma, iled, lmde -> ia', T1, T2, Voovv, optimize = 'optimal')\n",
      "newT1 += np.einsum('ma, ilde, lmde -> ia', T1, T2, Voovv, optimize = 'optimal')\n",
      "newT1 += 2.0*np.einsum('ilde, laed -> ia', T2, Vovvv, optimize = 'optimal')\n",
      "newT1 -= np.einsum('lide, laed -> ia', T2, Vovvv, optimize = 'optimal')\n",
      "newT1 += -2.0*np.einsum('lmad, lmid -> ia', T2, Vooov, optimize = 'optimal')\n",
      "newT1 += np.einsum('mlad, lmid -> ia', T2, Vooov, optimize = 'optimal')\n",
      "newT1 += 1.75*np.einsum('limdae, lmde -> ia', T3, Voovv, optimize = 'optimal')\n",
      "newT1 += -0.25*np.einsum('limade, lmde -> ia', T3, Voovv, optimize = 'optimal')\n",
      "newT1 += -0.75*np.einsum('imlade, lmde -> ia', T3, Voovv, optimize = 'optimal')\n",
      "newT1 += 0.25*np.einsum('limade, mlde -> ia', T3, Voovv, optimize = 'optimal')\n",
      "\n"
     ]
    }
   ],
   "source": [
    "pT1 = process_eq(T1,i,a,name = 'newT1', tensor_labels = mytensors)\n",
    "pT1.write_einsums_out(print_out=True)"
   ]
  },
  {
   "cell_type": "markdown",
   "metadata": {},
   "source": [
    "## Processing $T_2$ amplitude equation"
   ]
  },
  {
   "cell_type": "code",
   "execution_count": 24,
   "metadata": {},
   "outputs": [
    {
     "data": {
      "text/latex": [
       "$\\displaystyle f_{DL}t_{I}^{D}t_{jL}^{Ab}-f_{dl}t_{j}^{d}t_{Il}^{Ab}+f_{DL}t_{L}^{A}t_{Ij}^{bD}-f_{dl}t_{l}^{b}t_{Ij}^{Ad}+f_{dl}t_{Ijl}^{Abd}+f_{DL}t_{IjL}^{AbD}+f_{IL}t_{jL}^{Ab}-f_{jl}t_{Il}^{Ab}-f_{DA}t_{Ij}^{bD}+f_{db}t_{Ij}^{Ad}+t_{I}^{E}t_{l}^{d}t_{jM}^{Ab}\\langle dE|lM\\rangle+t_{I}^{E}t_{L}^{D}t_{jM}^{Ab}\\langle DE|LM\\rangle-t_{I}^{E}t_{L}^{D}t_{jM}^{Ab}\\langle DE|ML\\rangle-t_{j}^{e}t_{l}^{d}t_{Im}^{Ab}\\langle de|lm\\rangle+t_{j}^{e}t_{l}^{d}t_{Im}^{Ab}\\langle de|ml\\rangle-t_{j}^{e}t_{L}^{D}t_{Im}^{Ab}\\langle De|Lm\\rangle+t_{M}^{A}t_{l}^{d}t_{Ij}^{bE}\\langle dE|lM\\rangle+t_{M}^{A}t_{L}^{D}t_{Ij}^{bE}\\langle DE|LM\\rangle-t_{M}^{A}t_{L}^{D}t_{Ij}^{bE}\\langle DE|ML\\rangle-t_{m}^{b}t_{l}^{d}t_{Ij}^{Ae}\\langle de|lm\\rangle+t_{m}^{b}t_{l}^{d}t_{Ij}^{Ae}\\langle de|ml\\rangle-t_{m}^{b}t_{L}^{D}t_{Ij}^{Ae}\\langle De|Lm\\rangle-t_{l}^{d}t_{Ij}^{Ae}\\langle de|bl\\rangle+t_{l}^{d}t_{Ij}^{Ae}\\langle de|lb\\rangle+t_{L}^{D}t_{Ij}^{Ae}\\langle De|Lb\\rangle+t_{l}^{d}t_{Im}^{Ab}\\langle jd|lm\\rangle-t_{l}^{d}t_{Im}^{Ab}\\langle jd|ml\\rangle-t_{L}^{D}t_{Im}^{Ab}\\langle jD|mL\\rangle+t_{l}^{d}t_{jM}^{Ab}\\langle Id|Ml\\rangle-t_{L}^{D}t_{jM}^{Ab}\\langle ID|LM\\rangle+t_{L}^{D}t_{jM}^{Ab}\\langle ID|ML\\rangle-t_{l}^{d}t_{Ij}^{bE}\\langle dE|lA\\rangle+t_{L}^{D}t_{Ij}^{bE}\\langle DE|AL\\rangle-t_{L}^{D}t_{Ij}^{bE}\\langle DE|LA\\rangle+t_{l}^{d}t_{Ijm}^{Abe}\\langle de|lm\\rangle-t_{l}^{d}t_{Ijm}^{Abe}\\langle de|ml\\rangle+t_{L}^{D}t_{Ijm}^{Abe}\\langle De|Lm\\rangle+t_{l}^{d}t_{IjM}^{AbE}\\langle dE|lM\\rangle+t_{L}^{D}t_{IjM}^{AbE}\\langle DE|LM\\rangle-t_{L}^{D}t_{IjM}^{AbE}\\langle DE|ML\\rangle+t_{j}^{e}t_{I}^{D}t_{L}^{A}t_{m}^{b}\\langle De|Lm\\rangle-t_{j}^{e}t_{I}^{D}t_{L}^{A}\\langle De|Lb\\rangle-t_{j}^{e}t_{I}^{D}t_{l}^{b}\\langle De|Al\\rangle-0.5t_{j}^{e}t_{I}^{D}t_{lM}^{Ab}\\langle De|Ml\\rangle+0.5t_{j}^{e}t_{I}^{D}t_{Lm}^{Ab}\\langle De|Lm\\rangle+t_{j}^{e}t_{I}^{D}\\langle De|Ab\\rangle+t_{L}^{A}t_{I}^{D}t_{m}^{b}\\langle jD|mL\\rangle-t_{L}^{A}t_{I}^{D}t_{jm}^{be}\\langle De|Lm\\rangle-t_{L}^{A}t_{I}^{D}t_{jM}^{bE}\\langle DE|LM\\rangle+t_{L}^{A}t_{I}^{D}t_{jM}^{bE}\\langle DE|ML\\rangle-t_{L}^{A}t_{I}^{D}\\langle jD|bL\\rangle-t_{l}^{b}t_{I}^{D}\\langle jD|lA\\rangle-t_{m}^{b}t_{I}^{D}t_{jL}^{Ae}\\langle De|Lm\\rangle+t_{I}^{D}t_{jL}^{Ae}\\langle De|Lb\\rangle-0.5t_{I}^{D}t_{lM}^{Ab}\\langle jD|lM\\rangle+0.5t_{I}^{D}t_{Lm}^{Ab}\\langle jD|mL\\rangle+t_{I}^{D}t_{jl}^{be}\\langle De|Al\\rangle+t_{I}^{D}t_{jL}^{bE}\\langle DE|AL\\rangle-t_{I}^{D}t_{jL}^{bE}\\langle DE|LA\\rangle-0.5t_{I}^{D}t_{jlM}^{Abe}\\langle De|Ml\\rangle+0.5t_{I}^{D}t_{jLm}^{Abe}\\langle De|Lm\\rangle+0.5t_{I}^{D}t_{jLM}^{AbE}\\langle DE|LM\\rangle-0.5t_{I}^{D}t_{jLM}^{AbE}\\langle DE|ML\\rangle+t_{I}^{D}\\langle jD|bA\\rangle+t_{L}^{A}t_{j}^{d}t_{m}^{b}\\langle Id|Lm\\rangle-t_{L}^{A}t_{j}^{d}t_{Im}^{bE}\\langle dE|mL\\rangle-t_{L}^{A}t_{j}^{d}\\langle Id|Lb\\rangle-t_{l}^{b}t_{j}^{d}\\langle Id|Al\\rangle+t_{m}^{b}t_{j}^{d}t_{Il}^{Ae}\\langle de|lm\\rangle-t_{m}^{b}t_{j}^{d}t_{Il}^{Ae}\\langle de|ml\\rangle-t_{m}^{b}t_{j}^{d}t_{IL}^{AE}\\langle dE|mL\\rangle+t_{j}^{d}t_{Il}^{Ae}\\langle de|bl\\rangle-t_{j}^{d}t_{Il}^{Ae}\\langle de|lb\\rangle+t_{j}^{d}t_{IL}^{AE}\\langle dE|bL\\rangle-0.5t_{j}^{d}t_{lM}^{Ab}\\langle Id|Ml\\rangle+0.5t_{j}^{d}t_{Lm}^{Ab}\\langle Id|Lm\\rangle+t_{j}^{d}t_{Il}^{bE}\\langle dE|lA\\rangle-0.5t_{j}^{d}t_{Ilm}^{Abe}\\langle de|lm\\rangle+0.5t_{j}^{d}t_{Ilm}^{Abe}\\langle de|ml\\rangle-0.5t_{j}^{d}t_{IlM}^{AbE}\\langle dE|lM\\rangle+0.5t_{j}^{d}t_{ILm}^{AbE}\\langle dE|mL\\rangle+t_{j}^{d}\\langle Id|Ab\\rangle-0.5t_{m}^{b}t_{L}^{A}t_{Ij}^{dE}\\langle dE|mL\\rangle+0.5t_{m}^{b}t_{L}^{A}t_{Ij}^{De}\\langle De|Lm\\rangle+t_{m}^{b}t_{L}^{A}\\langle Ij|Lm\\rangle+0.5t_{L}^{A}t_{Ij}^{dE}\\langle dE|bL\\rangle-0.5t_{L}^{A}t_{Ij}^{De}\\langle De|Lb\\rangle-t_{L}^{A}t_{Im}^{bD}\\langle jD|mL\\rangle-t_{L}^{A}t_{jm}^{bd}\\langle Id|Lm\\rangle-t_{L}^{A}t_{jM}^{bD}\\langle ID|LM\\rangle+t_{L}^{A}t_{jM}^{bD}\\langle ID|ML\\rangle-0.5t_{L}^{A}t_{Ijm}^{bdE}\\langle dE|mL\\rangle+0.5t_{L}^{A}t_{Ijm}^{bDe}\\langle De|Lm\\rangle+0.5t_{L}^{A}t_{IjM}^{bDE}\\langle DE|LM\\rangle-0.5t_{L}^{A}t_{IjM}^{bDE}\\langle DE|ML\\rangle-t_{L}^{A}\\langle Ij|Lb\\rangle+0.5t_{l}^{b}t_{Ij}^{dE}\\langle dE|lA\\rangle-0.5t_{l}^{b}t_{Ij}^{De}\\langle De|Al\\rangle-t_{l}^{b}\\langle Ij|Al\\rangle+t_{m}^{b}t_{Il}^{Ad}\\langle jd|lm\\rangle-t_{m}^{b}t_{Il}^{Ad}\\langle jd|ml\\rangle-t_{m}^{b}t_{IL}^{AD}\\langle jD|mL\\rangle-t_{m}^{b}t_{jL}^{Ad}\\langle Id|Lm\\rangle+0.5t_{m}^{b}t_{Ijl}^{Ade}\\langle de|lm\\rangle-0.5t_{m}^{b}t_{Ijl}^{Ade}\\langle de|ml\\rangle-0.5t_{m}^{b}t_{IjL}^{AdE}\\langle dE|mL\\rangle+0.5t_{m}^{b}t_{IjL}^{ADe}\\langle De|Lm\\rangle-0.5t_{jM}^{Ab}t_{Il}^{dE}\\langle dE|lM\\rangle+0.5t_{jM}^{Ab}t_{Il}^{De}\\langle De|Ml\\rangle-0.5t_{jM}^{Ab}t_{IL}^{DE}\\langle DE|LM\\rangle+0.5t_{jM}^{Ab}t_{IL}^{DE}\\langle DE|ML\\rangle+0.25t_{lM}^{Ab}t_{Ij}^{dE}\\langle dE|lM\\rangle-0.25t_{lM}^{Ab}t_{Ij}^{De}\\langle De|Ml\\rangle-0.25t_{Lm}^{Ab}t_{Ij}^{dE}\\langle dE|mL\\rangle+0.25t_{Lm}^{Ab}t_{Ij}^{De}\\langle De|Lm\\rangle+0.5t_{Ij}^{De}\\langle De|Ab\\rangle-0.5t_{Ij}^{dE}\\langle dE|bA\\rangle+0.5t_{Im}^{Ab}t_{jl}^{de}\\langle de|lm\\rangle-0.5t_{Im}^{Ab}t_{jl}^{de}\\langle de|ml\\rangle-0.5t_{Im}^{Ab}t_{jL}^{dE}\\langle dE|mL\\rangle+0.5t_{Im}^{Ab}t_{jL}^{De}\\langle De|Lm\\rangle-0.5t_{Ij}^{bE}t_{lM}^{Ad}\\langle dE|lM\\rangle+0.5t_{Ij}^{bE}t_{Lm}^{Ad}\\langle dE|mL\\rangle-0.5t_{Ij}^{bE}t_{LM}^{AD}\\langle DE|LM\\rangle+0.5t_{Ij}^{bE}t_{LM}^{AD}\\langle DE|ML\\rangle+t_{jm}^{be}t_{Il}^{Ad}\\langle de|lm\\rangle-t_{jm}^{be}t_{Il}^{Ad}\\langle de|ml\\rangle+t_{jm}^{be}t_{IL}^{AD}\\langle De|Lm\\rangle+t_{jM}^{bE}t_{Il}^{Ad}\\langle dE|lM\\rangle+t_{jM}^{bE}t_{IL}^{AD}\\langle DE|LM\\rangle-t_{jM}^{bE}t_{IL}^{AD}\\langle DE|ML\\rangle+t_{Il}^{Ad}\\langle jd|bl\\rangle+t_{IL}^{AD}\\langle jD|bL\\rangle-t_{Il}^{Ad}\\langle jd|lb\\rangle-0.5t_{lm}^{be}t_{Ij}^{Ad}\\langle de|lm\\rangle+0.5t_{lm}^{be}t_{Ij}^{Ad}\\langle de|ml\\rangle-0.5t_{lM}^{bE}t_{Ij}^{Ad}\\langle dE|lM\\rangle+0.5t_{Lm}^{bE}t_{Ij}^{Ad}\\langle dE|mL\\rangle+t_{Im}^{bE}t_{jL}^{Ad}\\langle dE|mL\\rangle+t_{jL}^{Ad}\\langle Id|Lb\\rangle+0.5t_{Lm}^{Ab}\\langle Ij|Lm\\rangle-0.5t_{lM}^{Ab}\\langle Ij|Ml\\rangle+t_{Il}^{bD}\\langle jD|lA\\rangle+t_{jl}^{bd}\\langle Id|Al\\rangle+t_{jL}^{bD}\\langle ID|AL\\rangle-t_{jL}^{bD}\\langle ID|LA\\rangle+0.5t_{Ijl}^{Ade}\\langle de|bl\\rangle+0.5t_{IjL}^{AdE}\\langle dE|bL\\rangle-0.5t_{Ijl}^{Ade}\\langle de|lb\\rangle-0.5t_{IjL}^{ADe}\\langle De|Lb\\rangle-0.5t_{Ilm}^{Abd}\\langle jd|lm\\rangle-0.5t_{IlM}^{AbD}\\langle jD|lM\\rangle+0.5t_{Ilm}^{Abd}\\langle jd|ml\\rangle+0.5t_{ILm}^{AbD}\\langle jD|mL\\rangle+0.5t_{jLm}^{Abd}\\langle Id|Lm\\rangle+0.5t_{jLM}^{AbD}\\langle ID|LM\\rangle-0.5t_{jlM}^{Abd}\\langle Id|Ml\\rangle-0.5t_{jLM}^{AbD}\\langle ID|ML\\rangle-0.5t_{Ijl}^{bDe}\\langle De|Al\\rangle-0.5t_{IjL}^{bDE}\\langle DE|AL\\rangle+0.5t_{Ijl}^{bdE}\\langle dE|lA\\rangle+0.5t_{IjL}^{bDE}\\langle DE|LA\\rangle+\\langle Ij|Ab\\rangle-\\langle Ij|bA\\rangle$"
      ],
      "text/plain": [
       "<IPython.core.display.Math object>"
      ]
     },
     "metadata": {},
     "output_type": "display_data"
    }
   ],
   "source": [
    "T2 = eqfromlatex(latex(eqT2), index_key)\n",
    "platex(T2)"
   ]
  },
  {
   "cell_type": "markdown",
   "metadata": {},
   "source": [
    "$\\bullet$ Simplify"
   ]
  },
  {
   "cell_type": "code",
   "execution_count": 25,
   "metadata": {},
   "outputs": [
    {
     "data": {
      "text/latex": [
       "$\\displaystyle -f_{LD}t_{I}^{D}t_{Lj}^{Ab}-f_{LD}t_{J}^{D}t_{Il}^{Ab}-f_{LD}t_{L}^{A}t_{Ij}^{Db}-f_{LD}t_{L}^{B}t_{Ij}^{Ad}+2.0f_{LD}t_{JiL}^{BaD}-f_{IL}t_{Lj}^{Ab}-f_{JL}t_{Il}^{Ab}+f_{DA}t_{Ij}^{Db}+f_{DB}t_{Ij}^{Ad}-2.0t_{L}^{D}t_{I}^{E}t_{Mj}^{Ab}\\langle LM|DE\\rangle+t_{L}^{D}t_{I}^{E}t_{Mj}^{Ab}\\langle ML|DE\\rangle-2.0t_{L}^{D}t_{J}^{E}t_{Im}^{Ab}\\langle LM|DE\\rangle+t_{L}^{D}t_{J}^{E}t_{Im}^{Ab}\\langle ML|DE\\rangle-2.0t_{L}^{D}t_{M}^{A}t_{Ij}^{Eb}\\langle LM|DE\\rangle+t_{L}^{D}t_{M}^{A}t_{Ij}^{Eb}\\langle ML|DE\\rangle-2.0t_{L}^{D}t_{M}^{B}t_{Ij}^{Ae}\\langle LM|DE\\rangle+t_{L}^{D}t_{M}^{B}t_{Ij}^{Ae}\\langle ML|DE\\rangle-t_{L}^{D}t_{Ij}^{Ae}\\langle LB|ED\\rangle+2.0t_{L}^{D}t_{Ij}^{Ae}\\langle LB|DE\\rangle+t_{L}^{D}t_{Im}^{Ab}\\langle LM|JD\\rangle-2.0t_{L}^{D}t_{Im}^{Ab}\\langle ML|JD\\rangle-2.0t_{L}^{D}t_{Mj}^{Ab}\\langle ML|ID\\rangle+t_{L}^{D}t_{Mj}^{Ab}\\langle LM|ID\\rangle+2.0t_{L}^{D}t_{Ij}^{Eb}\\langle LA|DE\\rangle-t_{L}^{D}t_{Ij}^{Eb}\\langle LA|ED\\rangle+4.0t_{L}^{D}t_{JiM}^{BaE}\\langle LM|DE\\rangle-2.0t_{L}^{D}t_{JiM}^{BaE}\\langle ML|DE\\rangle+t_{I}^{D}t_{J}^{E}t_{L}^{A}t_{M}^{B}\\langle LM|DE\\rangle-t_{I}^{D}t_{J}^{E}t_{L}^{A}\\langle LB|DE\\rangle-t_{I}^{D}t_{J}^{E}t_{L}^{B}\\langle LA|ED\\rangle+t_{I}^{D}t_{J}^{E}t_{Ml}^{Ab}\\langle ML|DE\\rangle+t_{I}^{D}t_{J}^{E}\\langle DE|AB\\rangle+t_{I}^{D}t_{L}^{A}t_{M}^{B}\\langle ML|JD\\rangle+t_{I}^{D}t_{L}^{A}t_{Mj}^{Be}\\langle LM|DE\\rangle-2.0t_{I}^{D}t_{L}^{A}t_{Jm}^{Be}\\langle LM|DE\\rangle+t_{I}^{D}t_{L}^{A}t_{Mj}^{Eb}\\langle ML|DE\\rangle-t_{I}^{D}t_{L}^{A}\\langle LJ|DB\\rangle-t_{I}^{D}t_{L}^{B}\\langle JD|LA\\rangle+t_{I}^{D}t_{M}^{B}t_{Lj}^{Ae}\\langle LM|DE\\rangle-t_{I}^{D}t_{Lj}^{Ae}\\langle LB|DE\\rangle+t_{I}^{D}t_{Ml}^{Ab}\\langle LM|JD\\rangle-t_{I}^{D}t_{Lj}^{Be}\\langle LA|ED\\rangle+2.0t_{I}^{D}t_{Jl}^{Be}\\langle LA|ED\\rangle-t_{I}^{D}t_{Lj}^{Eb}\\langle LA|DE\\rangle-1.5t_{I}^{D}t_{JmL}^{BaE}\\langle ML|DE\\rangle+0.5t_{I}^{D}t_{LjM}^{AbE}\\langle ML|DE\\rangle+t_{I}^{D}\\langle JD|BA\\rangle+t_{J}^{D}t_{L}^{A}t_{M}^{B}\\langle LM|ID\\rangle+t_{J}^{D}t_{L}^{A}t_{Im}^{Eb}\\langle ML|DE\\rangle-t_{J}^{D}t_{L}^{A}\\langle ID|LB\\rangle-t_{J}^{D}t_{L}^{B}\\langle LI|DA\\rangle+t_{J}^{D}t_{M}^{B}t_{Il}^{Ae}\\langle LM|DE\\rangle-2.0t_{J}^{D}t_{M}^{B}t_{Il}^{Ae}\\langle ML|DE\\rangle+t_{J}^{D}t_{M}^{B}t_{Li}^{Ae}\\langle ML|DE\\rangle+2.0t_{J}^{D}t_{Il}^{Ae}\\langle LB|ED\\rangle-t_{J}^{D}t_{Il}^{Ae}\\langle LB|DE\\rangle-t_{J}^{D}t_{Li}^{Ae}\\langle LB|ED\\rangle+t_{J}^{D}t_{Ml}^{Ab}\\langle ML|ID\\rangle-t_{J}^{D}t_{Il}^{Eb}\\langle LA|DE\\rangle-1.5t_{J}^{D}t_{LiM}^{BaE}\\langle LM|DE\\rangle+0.5t_{J}^{D}t_{LiM}^{BaE}\\langle ML|DE\\rangle+t_{J}^{D}\\langle ID|AB\\rangle+t_{L}^{A}t_{M}^{B}t_{Ij}^{Ed}\\langle ML|DE\\rangle+t_{L}^{A}t_{M}^{B}\\langle IJ|LM\\rangle-t_{L}^{A}t_{Ij}^{Ed}\\langle LB|ED\\rangle+t_{L}^{A}t_{Im}^{Db}\\langle ML|JD\\rangle+t_{L}^{A}t_{Mj}^{Bd}\\langle LM|ID\\rangle-2.0t_{L}^{A}t_{Jm}^{Bd}\\langle LM|ID\\rangle+t_{L}^{A}t_{Mj}^{Db}\\langle ML|ID\\rangle-1.5t_{L}^{A}t_{JiM}^{BeD}\\langle ML|DE\\rangle+0.5t_{L}^{A}t_{IjM}^{DbE}\\langle ML|DE\\rangle-t_{L}^{A}\\langle IJ|LB\\rangle-t_{L}^{B}t_{Ij}^{Ed}\\langle LA|DE\\rangle-t_{L}^{B}\\langle JI|LA\\rangle+t_{M}^{B}t_{Il}^{Ad}\\langle LM|JD\\rangle-2.0t_{M}^{B}t_{Il}^{Ad}\\langle ML|JD\\rangle+t_{M}^{B}t_{Li}^{Ad}\\langle ML|JD\\rangle+t_{M}^{B}t_{Lj}^{Ad}\\langle LM|ID\\rangle+0.5t_{M}^{B}t_{JiL}^{DaE}\\langle LM|DE\\rangle-1.5t_{M}^{B}t_{JiL}^{DaE}\\langle ML|DE\\rangle-2.0t_{Il}^{Ed}t_{Mj}^{Ab}\\langle LM|DE\\rangle+t_{Il}^{De}t_{Mj}^{Ab}\\langle LM|DE\\rangle+t_{Ij}^{Ed}t_{Ml}^{Ab}\\langle LM|DE\\rangle+t_{Ij}^{De}\\langle DE|AB\\rangle-2.0t_{Lj}^{De}t_{Im}^{Ab}\\langle LM|DE\\rangle+t_{Jl}^{De}t_{Im}^{Ab}\\langle LM|DE\\rangle-2.0t_{Ml}^{Ad}t_{Ij}^{Eb}\\langle LM|DE\\rangle+t_{Lm}^{Ad}t_{Ij}^{Eb}\\langle LM|DE\\rangle-2.0t_{Il}^{Ad}t_{Mj}^{Be}\\langle LM|DE\\rangle+4.0t_{Il}^{Ad}t_{Jm}^{Be}\\langle LM|DE\\rangle+t_{Il}^{Ad}t_{Mj}^{Be}\\langle ML|DE\\rangle-2.0t_{Il}^{Ad}t_{Jm}^{Be}\\langle ML|DE\\rangle+t_{Li}^{Ad}t_{Mj}^{Be}\\langle LM|DE\\rangle-2.0t_{Li}^{Ad}t_{Jm}^{Be}\\langle LM|DE\\rangle+t_{Li}^{Ad}t_{Mj}^{Eb}\\langle ML|DE\\rangle+2.0t_{Il}^{Ad}\\langle LJ|DB\\rangle-t_{Li}^{Ad}\\langle LJ|DB\\rangle-t_{Il}^{Ad}\\langle JD|LB\\rangle+t_{Ij}^{Ad}t_{Ml}^{Be}\\langle LM|DE\\rangle-2.0t_{Ij}^{Ad}t_{Lm}^{Be}\\langle LM|DE\\rangle+t_{Lj}^{Ad}t_{Im}^{Eb}\\langle ML|DE\\rangle-t_{Lj}^{Ad}\\langle ID|LB\\rangle+t_{Lm}^{Ab}\\langle IJ|LM\\rangle-t_{Il}^{Db}\\langle JD|LA\\rangle-t_{Lj}^{Bd}\\langle LI|DA\\rangle+2.0t_{Jl}^{Bd}\\langle LI|DA\\rangle-t_{Lj}^{Db}\\langle ID|LA\\rangle+1.5t_{JiL}^{DaE}\\langle LB|ED\\rangle-0.5t_{JiL}^{DaE}\\langle LB|DE\\rangle-1.5t_{LiM}^{BaD}\\langle LM|JD\\rangle+0.5t_{LiM}^{BaD}\\langle ML|JD\\rangle-1.5t_{JlM}^{BaD}\\langle LM|ID\\rangle+0.5t_{LjM}^{AbD}\\langle ML|ID\\rangle+1.5t_{JiL}^{BdE}\\langle LA|ED\\rangle-0.5t_{IjL}^{DbE}\\langle LA|DE\\rangle+\\langle IJ|AB\\rangle$"
      ],
      "text/plain": [
       "<IPython.core.display.Math object>"
      ]
     },
     "metadata": {},
     "output_type": "display_data"
    }
   ],
   "source": [
    "T2 = T2.simplify()\n",
    "T2 = T2.adapt_space()\n",
    "platex(T2)"
   ]
  },
  {
   "cell_type": "code",
   "execution_count": 26,
   "metadata": {
    "scrolled": true
   },
   "outputs": [
    {
     "name": "stdout",
     "output_type": "stream",
     "text": [
      "newT2 -= np.einsum('ld, id, ljab -> ijab', fock_OV, T1, T2, optimize = 'optimal')\n",
      "newT2 -= np.einsum('ld, jd, ilab -> ijab', fock_OV, T1, T2, optimize = 'optimal')\n",
      "newT2 -= np.einsum('ld, la, ijdb -> ijab', fock_OV, T1, T2, optimize = 'optimal')\n",
      "newT2 -= np.einsum('ld, lb, ijad -> ijab', fock_OV, T1, T2, optimize = 'optimal')\n",
      "newT2 += 2.0*np.einsum('ld, jilbad -> ijab', fock_OV, T3, optimize = 'optimal')\n",
      "newT2 -= np.einsum('il, ljab -> ijab', fock_OO, T2, optimize = 'optimal')\n",
      "newT2 -= np.einsum('jl, ilab -> ijab', fock_OO, T2, optimize = 'optimal')\n",
      "newT2 += np.einsum('da, ijdb -> ijab', fock_VV, T2, optimize = 'optimal')\n",
      "newT2 += np.einsum('db, ijad -> ijab', fock_VV, T2, optimize = 'optimal')\n",
      "newT2 += -2.0*np.einsum('ld, ie, mjab, lmde -> ijab', T1, T1, T2, Voovv, optimize = 'optimal')\n",
      "newT2 += np.einsum('ld, ie, mjab, mlde -> ijab', T1, T1, T2, Voovv, optimize = 'optimal')\n",
      "newT2 += -2.0*np.einsum('ld, je, imab, lmde -> ijab', T1, T1, T2, Voovv, optimize = 'optimal')\n",
      "newT2 += np.einsum('ld, je, imab, mlde -> ijab', T1, T1, T2, Voovv, optimize = 'optimal')\n",
      "newT2 += -2.0*np.einsum('ld, ma, ijeb, lmde -> ijab', T1, T1, T2, Voovv, optimize = 'optimal')\n",
      "newT2 += np.einsum('ld, ma, ijeb, mlde -> ijab', T1, T1, T2, Voovv, optimize = 'optimal')\n",
      "newT2 += -2.0*np.einsum('ld, mb, ijae, lmde -> ijab', T1, T1, T2, Voovv, optimize = 'optimal')\n",
      "newT2 += np.einsum('ld, mb, ijae, mlde -> ijab', T1, T1, T2, Voovv, optimize = 'optimal')\n",
      "newT2 -= np.einsum('ld, ijae, lbed -> ijab', T1, T2, Vovvv, optimize = 'optimal')\n",
      "newT2 += 2.0*np.einsum('ld, ijae, lbde -> ijab', T1, T2, Vovvv, optimize = 'optimal')\n",
      "newT2 += np.einsum('ld, imab, lmjd -> ijab', T1, T2, Vooov, optimize = 'optimal')\n",
      "newT2 += -2.0*np.einsum('ld, imab, mljd -> ijab', T1, T2, Vooov, optimize = 'optimal')\n",
      "newT2 += -2.0*np.einsum('ld, mjab, mlid -> ijab', T1, T2, Vooov, optimize = 'optimal')\n",
      "newT2 += np.einsum('ld, mjab, lmid -> ijab', T1, T2, Vooov, optimize = 'optimal')\n",
      "newT2 += 2.0*np.einsum('ld, ijeb, lade -> ijab', T1, T2, Vovvv, optimize = 'optimal')\n",
      "newT2 -= np.einsum('ld, ijeb, laed -> ijab', T1, T2, Vovvv, optimize = 'optimal')\n",
      "newT2 += 4.0*np.einsum('ld, jimbae, lmde -> ijab', T1, T3, Voovv, optimize = 'optimal')\n",
      "newT2 += -2.0*np.einsum('ld, jimbae, mlde -> ijab', T1, T3, Voovv, optimize = 'optimal')\n",
      "newT2 += np.einsum('id, je, la, mb, lmde -> ijab', T1, T1, T1, T1, Voovv, optimize = 'optimal')\n",
      "newT2 -= np.einsum('id, je, la, lbde -> ijab', T1, T1, T1, Vovvv, optimize = 'optimal')\n",
      "newT2 -= np.einsum('id, je, lb, laed -> ijab', T1, T1, T1, Vovvv, optimize = 'optimal')\n",
      "newT2 += np.einsum('id, je, mlab, mlde -> ijab', T1, T1, T2, Voovv, optimize = 'optimal')\n",
      "newT2 += np.einsum('id, je, deab -> ijab', T1, T1, Vvvvv, optimize = 'optimal')\n",
      "newT2 += np.einsum('id, la, mb, mljd -> ijab', T1, T1, T1, Vooov, optimize = 'optimal')\n",
      "newT2 += np.einsum('id, la, mjbe, lmde -> ijab', T1, T1, T2, Voovv, optimize = 'optimal')\n",
      "newT2 += -2.0*np.einsum('id, la, jmbe, lmde -> ijab', T1, T1, T2, Voovv, optimize = 'optimal')\n",
      "newT2 += np.einsum('id, la, mjeb, mlde -> ijab', T1, T1, T2, Voovv, optimize = 'optimal')\n",
      "newT2 -= np.einsum('id, la, ljdb -> ijab', T1, T1, Voovv, optimize = 'optimal')\n",
      "newT2 -= np.einsum('id, lb, jdla -> ijab', T1, T1, Vovov, optimize = 'optimal')\n",
      "newT2 += np.einsum('id, mb, ljae, lmde -> ijab', T1, T1, T2, Voovv, optimize = 'optimal')\n",
      "newT2 -= np.einsum('id, ljae, lbde -> ijab', T1, T2, Vovvv, optimize = 'optimal')\n",
      "newT2 += np.einsum('id, mlab, lmjd -> ijab', T1, T2, Vooov, optimize = 'optimal')\n",
      "newT2 -= np.einsum('id, ljbe, laed -> ijab', T1, T2, Vovvv, optimize = 'optimal')\n",
      "newT2 += 2.0*np.einsum('id, jlbe, laed -> ijab', T1, T2, Vovvv, optimize = 'optimal')\n",
      "newT2 -= np.einsum('id, ljeb, lade -> ijab', T1, T2, Vovvv, optimize = 'optimal')\n",
      "newT2 += -1.5*np.einsum('id, jmlbae, mlde -> ijab', T1, T3, Voovv, optimize = 'optimal')\n",
      "newT2 += 0.5*np.einsum('id, ljmabe, mlde -> ijab', T1, T3, Voovv, optimize = 'optimal')\n",
      "newT2 += np.einsum('id, jdba -> ijab', T1, Vovvv, optimize = 'optimal')\n",
      "newT2 += np.einsum('jd, la, mb, lmid -> ijab', T1, T1, T1, Vooov, optimize = 'optimal')\n",
      "newT2 += np.einsum('jd, la, imeb, mlde -> ijab', T1, T1, T2, Voovv, optimize = 'optimal')\n",
      "newT2 -= np.einsum('jd, la, idlb -> ijab', T1, T1, Vovov, optimize = 'optimal')\n",
      "newT2 -= np.einsum('jd, lb, lida -> ijab', T1, T1, Voovv, optimize = 'optimal')\n",
      "newT2 += np.einsum('jd, mb, ilae, lmde -> ijab', T1, T1, T2, Voovv, optimize = 'optimal')\n",
      "newT2 += -2.0*np.einsum('jd, mb, ilae, mlde -> ijab', T1, T1, T2, Voovv, optimize = 'optimal')\n",
      "newT2 += np.einsum('jd, mb, liae, mlde -> ijab', T1, T1, T2, Voovv, optimize = 'optimal')\n",
      "newT2 += 2.0*np.einsum('jd, ilae, lbed -> ijab', T1, T2, Vovvv, optimize = 'optimal')\n",
      "newT2 -= np.einsum('jd, ilae, lbde -> ijab', T1, T2, Vovvv, optimize = 'optimal')\n",
      "newT2 -= np.einsum('jd, liae, lbed -> ijab', T1, T2, Vovvv, optimize = 'optimal')\n",
      "newT2 += np.einsum('jd, mlab, mlid -> ijab', T1, T2, Vooov, optimize = 'optimal')\n",
      "newT2 -= np.einsum('jd, ileb, lade -> ijab', T1, T2, Vovvv, optimize = 'optimal')\n",
      "newT2 += -1.5*np.einsum('jd, limbae, lmde -> ijab', T1, T3, Voovv, optimize = 'optimal')\n",
      "newT2 += 0.5*np.einsum('jd, limbae, mlde -> ijab', T1, T3, Voovv, optimize = 'optimal')\n",
      "newT2 += np.einsum('jd, idab -> ijab', T1, Vovvv, optimize = 'optimal')\n",
      "newT2 += np.einsum('la, mb, ijed, mlde -> ijab', T1, T1, T2, Voovv, optimize = 'optimal')\n",
      "newT2 += np.einsum('la, mb, ijlm -> ijab', T1, T1, Voooo, optimize = 'optimal')\n",
      "newT2 -= np.einsum('la, ijed, lbed -> ijab', T1, T2, Vovvv, optimize = 'optimal')\n",
      "newT2 += np.einsum('la, imdb, mljd -> ijab', T1, T2, Vooov, optimize = 'optimal')\n",
      "newT2 += np.einsum('la, mjbd, lmid -> ijab', T1, T2, Vooov, optimize = 'optimal')\n",
      "newT2 += -2.0*np.einsum('la, jmbd, lmid -> ijab', T1, T2, Vooov, optimize = 'optimal')\n",
      "newT2 += np.einsum('la, mjdb, mlid -> ijab', T1, T2, Vooov, optimize = 'optimal')\n",
      "newT2 += -1.5*np.einsum('la, jimbed, mlde -> ijab', T1, T3, Voovv, optimize = 'optimal')\n",
      "newT2 += 0.5*np.einsum('la, ijmdbe, mlde -> ijab', T1, T3, Voovv, optimize = 'optimal')\n",
      "newT2 -= np.einsum('la, ijlb -> ijab', T1, Vooov, optimize = 'optimal')\n",
      "newT2 -= np.einsum('lb, ijed, lade -> ijab', T1, T2, Vovvv, optimize = 'optimal')\n",
      "newT2 -= np.einsum('lb, jila -> ijab', T1, Vooov, optimize = 'optimal')\n",
      "newT2 += np.einsum('mb, ilad, lmjd -> ijab', T1, T2, Vooov, optimize = 'optimal')\n",
      "newT2 += -2.0*np.einsum('mb, ilad, mljd -> ijab', T1, T2, Vooov, optimize = 'optimal')\n",
      "newT2 += np.einsum('mb, liad, mljd -> ijab', T1, T2, Vooov, optimize = 'optimal')\n",
      "newT2 += np.einsum('mb, ljad, lmid -> ijab', T1, T2, Vooov, optimize = 'optimal')\n",
      "newT2 += 0.5*np.einsum('mb, jildae, lmde -> ijab', T1, T3, Voovv, optimize = 'optimal')\n",
      "newT2 += -1.5*np.einsum('mb, jildae, mlde -> ijab', T1, T3, Voovv, optimize = 'optimal')\n",
      "newT2 += -2.0*np.einsum('iled, mjab, lmde -> ijab', T2, T2, Voovv, optimize = 'optimal')\n",
      "newT2 += np.einsum('ilde, mjab, lmde -> ijab', T2, T2, Voovv, optimize = 'optimal')\n",
      "newT2 += np.einsum('ijed, mlab, lmde -> ijab', T2, T2, Voovv, optimize = 'optimal')\n",
      "newT2 += np.einsum('ijde, deab -> ijab', T2, Vvvvv, optimize = 'optimal')\n",
      "newT2 += -2.0*np.einsum('ljde, imab, lmde -> ijab', T2, T2, Voovv, optimize = 'optimal')\n",
      "newT2 += np.einsum('jlde, imab, lmde -> ijab', T2, T2, Voovv, optimize = 'optimal')\n",
      "newT2 += -2.0*np.einsum('mlad, ijeb, lmde -> ijab', T2, T2, Voovv, optimize = 'optimal')\n",
      "newT2 += np.einsum('lmad, ijeb, lmde -> ijab', T2, T2, Voovv, optimize = 'optimal')\n",
      "newT2 += -2.0*np.einsum('ilad, mjbe, lmde -> ijab', T2, T2, Voovv, optimize = 'optimal')\n",
      "newT2 += 4.0*np.einsum('ilad, jmbe, lmde -> ijab', T2, T2, Voovv, optimize = 'optimal')\n",
      "newT2 += np.einsum('ilad, mjbe, mlde -> ijab', T2, T2, Voovv, optimize = 'optimal')\n",
      "newT2 += -2.0*np.einsum('ilad, jmbe, mlde -> ijab', T2, T2, Voovv, optimize = 'optimal')\n",
      "newT2 += np.einsum('liad, mjbe, lmde -> ijab', T2, T2, Voovv, optimize = 'optimal')\n",
      "newT2 += -2.0*np.einsum('liad, jmbe, lmde -> ijab', T2, T2, Voovv, optimize = 'optimal')\n",
      "newT2 += np.einsum('liad, mjeb, mlde -> ijab', T2, T2, Voovv, optimize = 'optimal')\n",
      "newT2 += 2.0*np.einsum('ilad, ljdb -> ijab', T2, Voovv, optimize = 'optimal')\n",
      "newT2 -= np.einsum('liad, ljdb -> ijab', T2, Voovv, optimize = 'optimal')\n",
      "newT2 -= np.einsum('ilad, jdlb -> ijab', T2, Vovov, optimize = 'optimal')\n",
      "newT2 += np.einsum('ijad, mlbe, lmde -> ijab', T2, T2, Voovv, optimize = 'optimal')\n",
      "newT2 += -2.0*np.einsum('ijad, lmbe, lmde -> ijab', T2, T2, Voovv, optimize = 'optimal')\n",
      "newT2 += np.einsum('ljad, imeb, mlde -> ijab', T2, T2, Voovv, optimize = 'optimal')\n",
      "newT2 -= np.einsum('ljad, idlb -> ijab', T2, Vovov, optimize = 'optimal')\n",
      "newT2 += np.einsum('lmab, ijlm -> ijab', T2, Voooo, optimize = 'optimal')\n",
      "newT2 -= np.einsum('ildb, jdla -> ijab', T2, Vovov, optimize = 'optimal')\n",
      "newT2 -= np.einsum('ljbd, lida -> ijab', T2, Voovv, optimize = 'optimal')\n",
      "newT2 += 2.0*np.einsum('jlbd, lida -> ijab', T2, Voovv, optimize = 'optimal')\n",
      "newT2 -= np.einsum('ljdb, idla -> ijab', T2, Vovov, optimize = 'optimal')\n",
      "newT2 += 1.5*np.einsum('jildae, lbed -> ijab', T3, Vovvv, optimize = 'optimal')\n",
      "newT2 += -0.5*np.einsum('jildae, lbde -> ijab', T3, Vovvv, optimize = 'optimal')\n",
      "newT2 += -1.5*np.einsum('limbad, lmjd -> ijab', T3, Vooov, optimize = 'optimal')\n",
      "newT2 += 0.5*np.einsum('limbad, mljd -> ijab', T3, Vooov, optimize = 'optimal')\n",
      "newT2 += -1.5*np.einsum('jlmbad, lmid -> ijab', T3, Vooov, optimize = 'optimal')\n",
      "newT2 += 0.5*np.einsum('ljmabd, mlid -> ijab', T3, Vooov, optimize = 'optimal')\n",
      "newT2 += 1.5*np.einsum('jilbde, laed -> ijab', T3, Vovvv, optimize = 'optimal')\n",
      "newT2 += -0.5*np.einsum('ijldbe, lade -> ijab', T3, Vovvv, optimize = 'optimal')\n",
      "newT2 += Voovv\n",
      "\n"
     ]
    }
   ],
   "source": [
    "pT2 = process_eq(T2,i,j,a,b, name = 'newT2', tensor_labels = mytensors)\n",
    "pT2.write_einsums_out(print_out=True)"
   ]
  },
  {
   "cell_type": "markdown",
   "metadata": {},
   "source": [
    "## Processing $T_3$ amplitude equation"
   ]
  },
  {
   "cell_type": "code",
   "execution_count": 31,
   "metadata": {},
   "outputs": [
    {
     "data": {
      "text/latex": [
       "$\\displaystyle -f_{DL}t_{I}^{D}t_{jKL}^{AbC}+f_{dl}t_{j}^{d}t_{IKl}^{AbC}-f_{DL}t_{K}^{D}t_{IjL}^{AbC}-f_{DL}t_{L}^{A}t_{IjK}^{bCD}+f_{dl}t_{l}^{b}t_{IjK}^{ACd}-f_{DL}t_{L}^{C}t_{IjK}^{AbD}+f_{dl}t_{Ij}^{Ad}t_{Kl}^{bC}-f_{DL}t_{IK}^{AD}t_{jL}^{bC}+f_{dl}t_{jK}^{Ad}t_{Il}^{bC}+f_{dl}t_{Il}^{Ab}t_{jK}^{Cd}-f_{DL}t_{jL}^{Ab}t_{IK}^{CD}+f_{dl}t_{Kl}^{Ab}t_{Ij}^{Cd}-f_{DL}t_{IL}^{AC}t_{jK}^{bD}-f_{DL}t_{KL}^{AC}t_{Ij}^{bD}-f_{IL}t_{jKL}^{AbC}+f_{jl}t_{IKl}^{AbC}-f_{KL}t_{IjL}^{AbC}+f_{DA}t_{IjK}^{bCD}-f_{db}t_{IjK}^{ACd}+f_{DC}t_{IjK}^{AbD}-t_{I}^{E}t_{l}^{d}t_{jKM}^{AbC}\\langle dE|lM\\rangle-t_{I}^{E}t_{L}^{D}t_{jKM}^{AbC}\\langle DE|LM\\rangle+t_{I}^{E}t_{L}^{D}t_{jKM}^{AbC}\\langle DE|ML\\rangle+t_{j}^{e}t_{l}^{d}t_{IKm}^{AbC}\\langle de|lm\\rangle-t_{j}^{e}t_{l}^{d}t_{IKm}^{AbC}\\langle de|ml\\rangle+t_{j}^{e}t_{L}^{D}t_{IKm}^{AbC}\\langle De|Lm\\rangle-t_{K}^{E}t_{l}^{d}t_{IjM}^{AbC}\\langle dE|lM\\rangle-t_{K}^{E}t_{L}^{D}t_{IjM}^{AbC}\\langle DE|LM\\rangle+t_{K}^{E}t_{L}^{D}t_{IjM}^{AbC}\\langle DE|ML\\rangle-t_{M}^{A}t_{l}^{d}t_{IjK}^{bCE}\\langle dE|lM\\rangle-t_{M}^{A}t_{L}^{D}t_{IjK}^{bCE}\\langle DE|LM\\rangle+t_{M}^{A}t_{L}^{D}t_{IjK}^{bCE}\\langle DE|ML\\rangle+t_{m}^{b}t_{l}^{d}t_{IjK}^{ACe}\\langle de|lm\\rangle-t_{m}^{b}t_{l}^{d}t_{IjK}^{ACe}\\langle de|ml\\rangle+t_{m}^{b}t_{L}^{D}t_{IjK}^{ACe}\\langle De|Lm\\rangle-t_{M}^{C}t_{l}^{d}t_{IjK}^{AbE}\\langle dE|lM\\rangle-t_{M}^{C}t_{L}^{D}t_{IjK}^{AbE}\\langle DE|LM\\rangle+t_{M}^{C}t_{L}^{D}t_{IjK}^{AbE}\\langle DE|ML\\rangle+t_{l}^{d}t_{Ij}^{Ae}t_{Km}^{bC}\\langle de|lm\\rangle-t_{l}^{d}t_{Ij}^{Ae}t_{Km}^{bC}\\langle de|ml\\rangle+t_{L}^{D}t_{Ij}^{Ae}t_{Km}^{bC}\\langle De|Lm\\rangle-t_{l}^{d}t_{IK}^{AE}t_{jM}^{bC}\\langle dE|lM\\rangle-t_{L}^{D}t_{IK}^{AE}t_{jM}^{bC}\\langle DE|LM\\rangle+t_{L}^{D}t_{IK}^{AE}t_{jM}^{bC}\\langle DE|ML\\rangle+t_{l}^{d}t_{jK}^{Ae}t_{Im}^{bC}\\langle de|lm\\rangle-t_{l}^{d}t_{jK}^{Ae}t_{Im}^{bC}\\langle de|ml\\rangle+t_{L}^{D}t_{jK}^{Ae}t_{Im}^{bC}\\langle De|Lm\\rangle+t_{l}^{d}t_{Im}^{Ab}t_{jK}^{Ce}\\langle de|lm\\rangle-t_{l}^{d}t_{Im}^{Ab}t_{jK}^{Ce}\\langle de|ml\\rangle+t_{L}^{D}t_{Im}^{Ab}t_{jK}^{Ce}\\langle De|Lm\\rangle-t_{l}^{d}t_{jM}^{Ab}t_{IK}^{CE}\\langle dE|lM\\rangle-t_{L}^{D}t_{jM}^{Ab}t_{IK}^{CE}\\langle DE|LM\\rangle+t_{L}^{D}t_{jM}^{Ab}t_{IK}^{CE}\\langle DE|ML\\rangle+t_{l}^{d}t_{Km}^{Ab}t_{Ij}^{Ce}\\langle de|lm\\rangle-t_{l}^{d}t_{Km}^{Ab}t_{Ij}^{Ce}\\langle de|ml\\rangle+t_{L}^{D}t_{Km}^{Ab}t_{Ij}^{Ce}\\langle De|Lm\\rangle-t_{l}^{d}t_{IM}^{AC}t_{jK}^{bE}\\langle dE|lM\\rangle-t_{L}^{D}t_{IM}^{AC}t_{jK}^{bE}\\langle DE|LM\\rangle+t_{L}^{D}t_{IM}^{AC}t_{jK}^{bE}\\langle DE|ML\\rangle-t_{l}^{d}t_{KM}^{AC}t_{Ij}^{bE}\\langle dE|lM\\rangle-t_{L}^{D}t_{KM}^{AC}t_{Ij}^{bE}\\langle DE|LM\\rangle+t_{L}^{D}t_{KM}^{AC}t_{Ij}^{bE}\\langle DE|ML\\rangle+t_{l}^{d}t_{IjK}^{AbE}\\langle dE|lC\\rangle-t_{L}^{D}t_{IjK}^{AbE}\\langle DE|CL\\rangle+t_{L}^{D}t_{IjK}^{AbE}\\langle DE|LC\\rangle-t_{l}^{d}t_{IjM}^{AbC}\\langle Kd|Ml\\rangle+t_{L}^{D}t_{IjM}^{AbC}\\langle KD|LM\\rangle-t_{L}^{D}t_{IjM}^{AbC}\\langle KD|ML\\rangle-t_{l}^{d}t_{IKm}^{AbC}\\langle jd|lm\\rangle+t_{l}^{d}t_{IKm}^{AbC}\\langle jd|ml\\rangle+t_{L}^{D}t_{IKm}^{AbC}\\langle jD|mL\\rangle-t_{l}^{d}t_{jKM}^{AbC}\\langle Id|Ml\\rangle+t_{L}^{D}t_{jKM}^{AbC}\\langle ID|LM\\rangle-t_{L}^{D}t_{jKM}^{AbC}\\langle ID|ML\\rangle+t_{l}^{d}t_{IjK}^{ACe}\\langle de|bl\\rangle-t_{l}^{d}t_{IjK}^{ACe}\\langle de|lb\\rangle-t_{L}^{D}t_{IjK}^{ACe}\\langle De|Lb\\rangle+t_{l}^{d}t_{IjK}^{bCE}\\langle dE|lA\\rangle-t_{L}^{D}t_{IjK}^{bCE}\\langle DE|AL\\rangle+t_{L}^{D}t_{IjK}^{bCE}\\langle DE|LA\\rangle-t_{j}^{e}t_{I}^{D}t_{L}^{A}t_{Km}^{bC}\\langle De|Lm\\rangle-t_{j}^{e}t_{I}^{D}t_{m}^{b}t_{KL}^{AC}\\langle De|Lm\\rangle-t_{j}^{e}t_{I}^{D}t_{M}^{C}t_{Kl}^{Ab}\\langle De|Ml\\rangle+t_{j}^{e}t_{I}^{D}t_{Kl}^{Ab}\\langle De|Cl\\rangle+t_{j}^{e}t_{I}^{D}t_{KL}^{AC}\\langle De|Lb\\rangle+t_{j}^{e}t_{I}^{D}t_{Kl}^{bC}\\langle De|Al\\rangle-0.5t_{j}^{e}t_{I}^{D}t_{KlM}^{AbC}\\langle De|Ml\\rangle+0.5t_{j}^{e}t_{I}^{D}t_{KLm}^{AbC}\\langle De|Lm\\rangle+t_{K}^{E}t_{I}^{D}t_{L}^{A}t_{jM}^{bC}\\langle DE|LM\\rangle-t_{K}^{E}t_{I}^{D}t_{L}^{A}t_{jM}^{bC}\\langle DE|ML\\rangle-t_{K}^{E}t_{I}^{D}t_{M}^{C}t_{jL}^{Ab}\\langle DE|LM\\rangle+t_{K}^{E}t_{I}^{D}t_{M}^{C}t_{jL}^{Ab}\\langle DE|ML\\rangle-t_{K}^{E}t_{I}^{D}t_{jL}^{Ab}\\langle DE|CL\\rangle+t_{K}^{E}t_{I}^{D}t_{jL}^{Ab}\\langle DE|LC\\rangle-t_{K}^{E}t_{I}^{D}t_{jL}^{bC}\\langle DE|AL\\rangle+t_{K}^{E}t_{I}^{D}t_{jL}^{bC}\\langle DE|LA\\rangle-0.5t_{K}^{E}t_{I}^{D}t_{jLM}^{AbC}\\langle DE|LM\\rangle+0.5t_{K}^{E}t_{I}^{D}t_{jLM}^{AbC}\\langle DE|ML\\rangle-t_{L}^{A}t_{I}^{D}t_{m}^{b}t_{jK}^{Ce}\\langle De|Lm\\rangle+t_{L}^{A}t_{I}^{D}t_{M}^{C}t_{jK}^{bE}\\langle DE|LM\\rangle-t_{L}^{A}t_{I}^{D}t_{M}^{C}t_{jK}^{bE}\\langle DE|ML\\rangle+t_{L}^{A}t_{I}^{D}t_{jK}^{bE}\\langle DE|CL\\rangle-t_{L}^{A}t_{I}^{D}t_{jK}^{bE}\\langle DE|LC\\rangle-t_{L}^{A}t_{I}^{D}t_{jM}^{bC}\\langle KD|LM\\rangle+t_{L}^{A}t_{I}^{D}t_{jM}^{bC}\\langle KD|ML\\rangle-t_{L}^{A}t_{I}^{D}t_{Km}^{bC}\\langle jD|mL\\rangle+t_{L}^{A}t_{I}^{D}t_{jK}^{Ce}\\langle De|Lb\\rangle-t_{L}^{A}t_{I}^{D}t_{jKm}^{bCe}\\langle De|Lm\\rangle-t_{L}^{A}t_{I}^{D}t_{jKM}^{bCE}\\langle DE|LM\\rangle+t_{L}^{A}t_{I}^{D}t_{jKM}^{bCE}\\langle DE|ML\\rangle+t_{l}^{b}t_{I}^{D}t_{M}^{C}t_{jK}^{Ae}\\langle De|Ml\\rangle-t_{l}^{b}t_{I}^{D}t_{jK}^{Ae}\\langle De|Cl\\rangle+t_{l}^{b}t_{I}^{D}t_{jK}^{Ce}\\langle De|Al\\rangle-t_{m}^{b}t_{I}^{D}t_{KL}^{AC}\\langle jD|mL\\rangle-t_{m}^{b}t_{I}^{D}t_{jKL}^{ACe}\\langle De|Lm\\rangle-t_{L}^{C}t_{I}^{D}t_{jK}^{Ae}\\langle De|Lb\\rangle-t_{L}^{C}t_{I}^{D}t_{jK}^{bE}\\langle DE|AL\\rangle+t_{L}^{C}t_{I}^{D}t_{jK}^{bE}\\langle DE|LA\\rangle+t_{M}^{C}t_{I}^{D}t_{jL}^{Ab}\\langle KD|LM\\rangle-t_{M}^{C}t_{I}^{D}t_{jL}^{Ab}\\langle KD|ML\\rangle-t_{M}^{C}t_{I}^{D}t_{Kl}^{Ab}\\langle jD|lM\\rangle-t_{M}^{C}t_{I}^{D}t_{jKl}^{Abe}\\langle De|Ml\\rangle+t_{M}^{C}t_{I}^{D}t_{jKL}^{AbE}\\langle DE|LM\\rangle-t_{M}^{C}t_{I}^{D}t_{jKL}^{AbE}\\langle DE|ML\\rangle+t_{I}^{D}t_{jL}^{Ae}t_{Km}^{bC}\\langle De|Lm\\rangle+0.5t_{I}^{D}t_{jK}^{Ae}t_{lM}^{bC}\\langle De|Ml\\rangle-0.5t_{I}^{D}t_{jK}^{Ae}t_{Lm}^{bC}\\langle De|Lm\\rangle+t_{I}^{D}t_{jK}^{Ae}\\langle De|Cb\\rangle+t_{I}^{D}t_{Kl}^{Ae}t_{jM}^{bC}\\langle De|Ml\\rangle-t_{I}^{D}t_{KL}^{AE}t_{jM}^{bC}\\langle DE|LM\\rangle+t_{I}^{D}t_{KL}^{AE}t_{jM}^{bC}\\langle DE|ML\\rangle+0.5t_{I}^{D}t_{lM}^{Ab}t_{jK}^{Ce}\\langle De|Ml\\rangle-0.5t_{I}^{D}t_{Lm}^{Ab}t_{jK}^{Ce}\\langle De|Lm\\rangle+t_{I}^{D}t_{jL}^{Ab}t_{Km}^{Ce}\\langle De|Lm\\rangle+t_{I}^{D}t_{jL}^{Ab}t_{KM}^{CE}\\langle DE|LM\\rangle-t_{I}^{D}t_{jL}^{Ab}t_{KM}^{CE}\\langle DE|ML\\rangle+t_{I}^{D}t_{jL}^{Ab}\\langle KD|CL\\rangle-t_{I}^{D}t_{jL}^{Ab}\\langle KD|LC\\rangle+t_{I}^{D}t_{Kl}^{Ab}t_{jM}^{Ce}\\langle De|Ml\\rangle+t_{I}^{D}t_{Kl}^{Ab}\\langle jD|lC\\rangle+0.5t_{I}^{D}t_{LM}^{AC}t_{jK}^{bE}\\langle DE|LM\\rangle-0.5t_{I}^{D}t_{LM}^{AC}t_{jK}^{bE}\\langle DE|ML\\rangle+t_{I}^{D}t_{KL}^{AC}t_{jm}^{be}\\langle De|Lm\\rangle+t_{I}^{D}t_{KL}^{AC}t_{jM}^{bE}\\langle DE|LM\\rangle-t_{I}^{D}t_{KL}^{AC}t_{jM}^{bE}\\langle DE|ML\\rangle+t_{I}^{D}t_{KL}^{AC}\\langle jD|bL\\rangle+t_{I}^{D}t_{jK}^{bE}\\langle DE|AC\\rangle-t_{I}^{D}t_{jK}^{bE}\\langle DE|CA\\rangle+t_{I}^{D}t_{jL}^{bC}\\langle KD|AL\\rangle-t_{I}^{D}t_{jL}^{bC}\\langle KD|LA\\rangle+t_{I}^{D}t_{Kl}^{bC}\\langle jD|lA\\rangle-t_{I}^{D}t_{jK}^{Ce}\\langle De|Ab\\rangle+t_{I}^{D}t_{jKl}^{Abe}\\langle De|Cl\\rangle+t_{I}^{D}t_{jKL}^{AbE}\\langle DE|CL\\rangle-t_{I}^{D}t_{jKL}^{AbE}\\langle DE|LC\\rangle+0.5t_{I}^{D}t_{jLM}^{AbC}\\langle KD|LM\\rangle-0.5t_{I}^{D}t_{jLM}^{AbC}\\langle KD|ML\\rangle-0.5t_{I}^{D}t_{KlM}^{AbC}\\langle jD|lM\\rangle+0.5t_{I}^{D}t_{KLm}^{AbC}\\langle jD|mL\\rangle+t_{I}^{D}t_{jKL}^{ACe}\\langle De|Lb\\rangle+t_{I}^{D}t_{jKl}^{bCe}\\langle De|Al\\rangle+t_{I}^{D}t_{jKL}^{bCE}\\langle DE|AL\\rangle-t_{I}^{D}t_{jKL}^{bCE}\\langle DE|LA\\rangle+t_{K}^{E}t_{j}^{d}t_{L}^{A}t_{Im}^{bC}\\langle dE|mL\\rangle+t_{K}^{E}t_{j}^{d}t_{m}^{b}t_{IL}^{AC}\\langle dE|mL\\rangle+t_{K}^{E}t_{j}^{d}t_{M}^{C}t_{Il}^{Ab}\\langle dE|lM\\rangle-t_{K}^{E}t_{j}^{d}t_{Il}^{Ab}\\langle dE|lC\\rangle-t_{K}^{E}t_{j}^{d}t_{IL}^{AC}\\langle dE|bL\\rangle-t_{K}^{E}t_{j}^{d}t_{Il}^{bC}\\langle dE|lA\\rangle+0.5t_{K}^{E}t_{j}^{d}t_{IlM}^{AbC}\\langle dE|lM\\rangle-0.5t_{K}^{E}t_{j}^{d}t_{ILm}^{AbC}\\langle dE|mL\\rangle-t_{L}^{A}t_{j}^{d}t_{m}^{b}t_{IK}^{CE}\\langle dE|mL\\rangle+t_{L}^{A}t_{j}^{d}t_{Im}^{bC}\\langle Kd|Lm\\rangle-t_{L}^{A}t_{j}^{d}t_{Km}^{bC}\\langle Id|Lm\\rangle+t_{L}^{A}t_{j}^{d}t_{IK}^{CE}\\langle dE|bL\\rangle-t_{L}^{A}t_{j}^{d}t_{IKm}^{bCE}\\langle dE|mL\\rangle+t_{l}^{b}t_{j}^{d}t_{M}^{C}t_{IK}^{AE}\\langle dE|lM\\rangle-t_{l}^{b}t_{j}^{d}t_{IK}^{AE}\\langle dE|lC\\rangle+t_{l}^{b}t_{j}^{d}t_{IK}^{CE}\\langle dE|lA\\rangle+t_{m}^{b}t_{j}^{d}t_{IL}^{AC}\\langle Kd|Lm\\rangle-t_{m}^{b}t_{j}^{d}t_{KL}^{AC}\\langle Id|Lm\\rangle+t_{m}^{b}t_{j}^{d}t_{IKl}^{ACe}\\langle de|lm\\rangle-t_{m}^{b}t_{j}^{d}t_{IKl}^{ACe}\\langle de|ml\\rangle-t_{m}^{b}t_{j}^{d}t_{IKL}^{ACE}\\langle dE|mL\\rangle-t_{L}^{C}t_{j}^{d}t_{IK}^{AE}\\langle dE|bL\\rangle+t_{M}^{C}t_{j}^{d}t_{Il}^{Ab}\\langle Kd|Ml\\rangle-t_{M}^{C}t_{j}^{d}t_{Kl}^{Ab}\\langle Id|Ml\\rangle-t_{M}^{C}t_{j}^{d}t_{IKl}^{AbE}\\langle dE|lM\\rangle-t_{j}^{d}t_{Il}^{Ae}t_{Km}^{bC}\\langle de|lm\\rangle+t_{j}^{d}t_{Il}^{Ae}t_{Km}^{bC}\\langle de|ml\\rangle+t_{j}^{d}t_{IL}^{AE}t_{Km}^{bC}\\langle dE|mL\\rangle+0.5t_{j}^{d}t_{IK}^{AE}t_{lM}^{bC}\\langle dE|lM\\rangle-0.5t_{j}^{d}t_{IK}^{AE}t_{Lm}^{bC}\\langle dE|mL\\rangle+t_{j}^{d}t_{IK}^{AE}\\langle dE|bC\\rangle+t_{j}^{d}t_{Kl}^{Ae}t_{Im}^{bC}\\langle de|lm\\rangle-t_{j}^{d}t_{Kl}^{Ae}t_{Im}^{bC}\\langle de|ml\\rangle-t_{j}^{d}t_{KL}^{AE}t_{Im}^{bC}\\langle dE|mL\\rangle+0.5t_{j}^{d}t_{lM}^{Ab}t_{IK}^{CE}\\langle dE|lM\\rangle-0.5t_{j}^{d}t_{Lm}^{Ab}t_{IK}^{CE}\\langle dE|mL\\rangle-t_{j}^{d}t_{Il}^{Ab}t_{Km}^{Ce}\\langle de|lm\\rangle+t_{j}^{d}t_{Il}^{Ab}t_{Km}^{Ce}\\langle de|ml\\rangle-t_{j}^{d}t_{Il}^{Ab}t_{KM}^{CE}\\langle dE|lM\\rangle-t_{j}^{d}t_{Il}^{Ab}\\langle Kd|Cl\\rangle+t_{j}^{d}t_{Kl}^{Ab}t_{Im}^{Ce}\\langle de|lm\\rangle-t_{j}^{d}t_{Kl}^{Ab}t_{Im}^{Ce}\\langle de|ml\\rangle+t_{j}^{d}t_{Kl}^{Ab}t_{IM}^{CE}\\langle dE|lM\\rangle+t_{j}^{d}t_{Kl}^{Ab}\\langle Id|Cl\\rangle-t_{j}^{d}t_{IL}^{AC}t_{Km}^{bE}\\langle dE|mL\\rangle-t_{j}^{d}t_{IL}^{AC}\\langle Kd|Lb\\rangle+t_{j}^{d}t_{KL}^{AC}t_{Im}^{bE}\\langle dE|mL\\rangle+t_{j}^{d}t_{KL}^{AC}\\langle Id|Lb\\rangle-t_{j}^{d}t_{Il}^{bC}\\langle Kd|Al\\rangle+t_{j}^{d}t_{Kl}^{bC}\\langle Id|Al\\rangle-t_{j}^{d}t_{IK}^{CE}\\langle dE|bA\\rangle+t_{j}^{d}t_{IKl}^{AbE}\\langle dE|lC\\rangle+0.5t_{j}^{d}t_{IlM}^{AbC}\\langle Kd|Ml\\rangle-0.5t_{j}^{d}t_{ILm}^{AbC}\\langle Kd|Lm\\rangle-0.5t_{j}^{d}t_{KlM}^{AbC}\\langle Id|Ml\\rangle+0.5t_{j}^{d}t_{KLm}^{AbC}\\langle Id|Lm\\rangle+t_{j}^{d}t_{IKl}^{ACe}\\langle de|bl\\rangle-t_{j}^{d}t_{IKl}^{ACe}\\langle de|lb\\rangle+t_{j}^{d}t_{IKL}^{ACE}\\langle dE|bL\\rangle+t_{j}^{d}t_{IKl}^{bCE}\\langle dE|lA\\rangle-t_{L}^{A}t_{K}^{D}t_{m}^{b}t_{Ij}^{Ce}\\langle De|Lm\\rangle+t_{L}^{A}t_{K}^{D}t_{M}^{C}t_{Ij}^{bE}\\langle DE|LM\\rangle-t_{L}^{A}t_{K}^{D}t_{M}^{C}t_{Ij}^{bE}\\langle DE|ML\\rangle+t_{L}^{A}t_{K}^{D}t_{Ij}^{bE}\\langle DE|CL\\rangle-t_{L}^{A}t_{K}^{D}t_{Ij}^{bE}\\langle DE|LC\\rangle+t_{L}^{A}t_{K}^{D}t_{Im}^{bC}\\langle jD|mL\\rangle+t_{L}^{A}t_{K}^{D}t_{jM}^{bC}\\langle ID|LM\\rangle-t_{L}^{A}t_{K}^{D}t_{jM}^{bC}\\langle ID|ML\\rangle+t_{L}^{A}t_{K}^{D}t_{Ij}^{Ce}\\langle De|Lb\\rangle-t_{L}^{A}t_{K}^{D}t_{Ijm}^{bCe}\\langle De|Lm\\rangle-t_{L}^{A}t_{K}^{D}t_{IjM}^{bCE}\\langle DE|LM\\rangle+t_{L}^{A}t_{K}^{D}t_{IjM}^{bCE}\\langle DE|ML\\rangle+t_{l}^{b}t_{K}^{D}t_{M}^{C}t_{Ij}^{Ae}\\langle De|Ml\\rangle-t_{l}^{b}t_{K}^{D}t_{Ij}^{Ae}\\langle De|Cl\\rangle+t_{l}^{b}t_{K}^{D}t_{Ij}^{Ce}\\langle De|Al\\rangle+t_{m}^{b}t_{K}^{D}t_{IL}^{AC}\\langle jD|mL\\rangle-t_{m}^{b}t_{K}^{D}t_{IjL}^{ACe}\\langle De|Lm\\rangle-t_{L}^{C}t_{K}^{D}t_{Ij}^{Ae}\\langle De|Lb\\rangle-t_{L}^{C}t_{K}^{D}t_{Ij}^{bE}\\langle DE|AL\\rangle+t_{L}^{C}t_{K}^{D}t_{Ij}^{bE}\\langle DE|LA\\rangle+t_{M}^{C}t_{K}^{D}t_{Il}^{Ab}\\langle jD|lM\\rangle-t_{M}^{C}t_{K}^{D}t_{jL}^{Ab}\\langle ID|LM\\rangle+t_{M}^{C}t_{K}^{D}t_{jL}^{Ab}\\langle ID|ML\\rangle-t_{M}^{C}t_{K}^{D}t_{Ijl}^{Abe}\\langle De|Ml\\rangle+t_{M}^{C}t_{K}^{D}t_{IjL}^{AbE}\\langle DE|LM\\rangle-t_{M}^{C}t_{K}^{D}t_{IjL}^{AbE}\\langle DE|ML\\rangle-t_{K}^{D}t_{Il}^{Ae}t_{jM}^{bC}\\langle De|Ml\\rangle+t_{K}^{D}t_{IL}^{AE}t_{jM}^{bC}\\langle DE|LM\\rangle-t_{K}^{D}t_{IL}^{AE}t_{jM}^{bC}\\langle DE|ML\\rangle+0.5t_{K}^{D}t_{Ij}^{Ae}t_{lM}^{bC}\\langle De|Ml\\rangle-0.5t_{K}^{D}t_{Ij}^{Ae}t_{Lm}^{bC}\\langle De|Lm\\rangle+t_{K}^{D}t_{Ij}^{Ae}\\langle De|Cb\\rangle-t_{K}^{D}t_{jL}^{Ae}t_{Im}^{bC}\\langle De|Lm\\rangle+0.5t_{K}^{D}t_{lM}^{Ab}t_{Ij}^{Ce}\\langle De|Ml\\rangle-0.5t_{K}^{D}t_{Lm}^{Ab}t_{Ij}^{Ce}\\langle De|Lm\\rangle-t_{K}^{D}t_{Il}^{Ab}t_{jM}^{Ce}\\langle De|Ml\\rangle-t_{K}^{D}t_{Il}^{Ab}\\langle jD|lC\\rangle-t_{K}^{D}t_{jL}^{Ab}t_{Im}^{Ce}\\langle De|Lm\\rangle-t_{K}^{D}t_{jL}^{Ab}t_{IM}^{CE}\\langle DE|LM\\rangle+t_{K}^{D}t_{jL}^{Ab}t_{IM}^{CE}\\langle DE|ML\\rangle-t_{K}^{D}t_{jL}^{Ab}\\langle ID|CL\\rangle+t_{K}^{D}t_{jL}^{Ab}\\langle ID|LC\\rangle+0.5t_{K}^{D}t_{LM}^{AC}t_{Ij}^{bE}\\langle DE|LM\\rangle-0.5t_{K}^{D}t_{LM}^{AC}t_{Ij}^{bE}\\langle DE|ML\\rangle-t_{K}^{D}t_{IL}^{AC}t_{jm}^{be}\\langle De|Lm\\rangle-t_{K}^{D}t_{IL}^{AC}t_{jM}^{bE}\\langle DE|LM\\rangle+t_{K}^{D}t_{IL}^{AC}t_{jM}^{bE}\\langle DE|ML\\rangle-t_{K}^{D}t_{IL}^{AC}\\langle jD|bL\\rangle+t_{K}^{D}t_{Ij}^{bE}\\langle DE|AC\\rangle-t_{K}^{D}t_{Ij}^{bE}\\langle DE|CA\\rangle-t_{K}^{D}t_{Il}^{bC}\\langle jD|lA\\rangle-t_{K}^{D}t_{jL}^{bC}\\langle ID|AL\\rangle+t_{K}^{D}t_{jL}^{bC}\\langle ID|LA\\rangle-t_{K}^{D}t_{Ij}^{Ce}\\langle De|Ab\\rangle+t_{K}^{D}t_{Ijl}^{Abe}\\langle De|Cl\\rangle+t_{K}^{D}t_{IjL}^{AbE}\\langle DE|CL\\rangle-t_{K}^{D}t_{IjL}^{AbE}\\langle DE|LC\\rangle+0.5t_{K}^{D}t_{IlM}^{AbC}\\langle jD|lM\\rangle-0.5t_{K}^{D}t_{ILm}^{AbC}\\langle jD|mL\\rangle-0.5t_{K}^{D}t_{jLM}^{AbC}\\langle ID|LM\\rangle+0.5t_{K}^{D}t_{jLM}^{AbC}\\langle ID|ML\\rangle+t_{K}^{D}t_{IjL}^{ACe}\\langle De|Lb\\rangle+t_{K}^{D}t_{Ijl}^{bCe}\\langle De|Al\\rangle+t_{K}^{D}t_{IjL}^{bCE}\\langle DE|AL\\rangle-t_{K}^{D}t_{IjL}^{bCE}\\langle DE|LA\\rangle-t_{m}^{b}t_{L}^{A}t_{Ij}^{Cd}\\langle Kd|Lm\\rangle-t_{m}^{b}t_{L}^{A}t_{IK}^{CD}\\langle jD|mL\\rangle-t_{m}^{b}t_{L}^{A}t_{jK}^{Cd}\\langle Id|Lm\\rangle-0.5t_{m}^{b}t_{L}^{A}t_{IjK}^{CdE}\\langle dE|mL\\rangle+0.5t_{m}^{b}t_{L}^{A}t_{IjK}^{CDe}\\langle De|Lm\\rangle+t_{M}^{C}t_{L}^{A}t_{Ij}^{bD}\\langle KD|LM\\rangle-t_{M}^{C}t_{L}^{A}t_{Ij}^{bD}\\langle KD|ML\\rangle+t_{M}^{C}t_{L}^{A}t_{jK}^{bD}\\langle ID|LM\\rangle-t_{M}^{C}t_{L}^{A}t_{jK}^{bD}\\langle ID|ML\\rangle-0.5t_{M}^{C}t_{L}^{A}t_{IjK}^{bDE}\\langle DE|LM\\rangle+0.5t_{M}^{C}t_{L}^{A}t_{IjK}^{bDE}\\langle DE|ML\\rangle+0.5t_{L}^{A}t_{Ij}^{dE}t_{Km}^{bC}\\langle dE|mL\\rangle-0.5t_{L}^{A}t_{Ij}^{De}t_{Km}^{bC}\\langle De|Lm\\rangle+0.5t_{L}^{A}t_{IK}^{DE}t_{jM}^{bC}\\langle DE|LM\\rangle-0.5t_{L}^{A}t_{IK}^{DE}t_{jM}^{bC}\\langle DE|ML\\rangle+0.5t_{L}^{A}t_{jK}^{dE}t_{Im}^{bC}\\langle dE|mL\\rangle-0.5t_{L}^{A}t_{jK}^{De}t_{Im}^{bC}\\langle De|Lm\\rangle+t_{L}^{A}t_{Im}^{bD}t_{jK}^{Ce}\\langle De|Lm\\rangle+t_{L}^{A}t_{Ij}^{bD}t_{Km}^{Ce}\\langle De|Lm\\rangle+t_{L}^{A}t_{Ij}^{bD}t_{KM}^{CE}\\langle DE|LM\\rangle-t_{L}^{A}t_{Ij}^{bD}t_{KM}^{CE}\\langle DE|ML\\rangle+t_{L}^{A}t_{Ij}^{bD}\\langle KD|CL\\rangle-t_{L}^{A}t_{Ij}^{bD}\\langle KD|LC\\rangle+t_{L}^{A}t_{jm}^{bd}t_{IK}^{CE}\\langle dE|mL\\rangle-t_{L}^{A}t_{jM}^{bD}t_{IK}^{CE}\\langle DE|LM\\rangle+t_{L}^{A}t_{jM}^{bD}t_{IK}^{CE}\\langle DE|ML\\rangle+t_{L}^{A}t_{jK}^{bD}t_{Im}^{Ce}\\langle De|Lm\\rangle+t_{L}^{A}t_{jK}^{bD}t_{IM}^{CE}\\langle DE|LM\\rangle-t_{L}^{A}t_{jK}^{bD}t_{IM}^{CE}\\langle DE|ML\\rangle+t_{L}^{A}t_{jK}^{bD}\\langle ID|CL\\rangle-t_{L}^{A}t_{jK}^{bD}\\langle ID|LC\\rangle+t_{L}^{A}t_{Km}^{bD}t_{Ij}^{Ce}\\langle De|Lm\\rangle+t_{L}^{A}t_{Im}^{bC}\\langle jK|mL\\rangle+t_{L}^{A}t_{jM}^{bC}\\langle IK|LM\\rangle-t_{L}^{A}t_{jM}^{bC}\\langle IK|ML\\rangle-t_{L}^{A}t_{Km}^{bC}\\langle Ij|Lm\\rangle+t_{L}^{A}t_{Ij}^{Cd}\\langle Kd|Lb\\rangle+t_{L}^{A}t_{IK}^{CD}\\langle jD|bL\\rangle+t_{L}^{A}t_{jK}^{Cd}\\langle Id|Lb\\rangle-0.5t_{L}^{A}t_{IjK}^{bDE}\\langle DE|CL\\rangle+0.5t_{L}^{A}t_{IjK}^{bDE}\\langle DE|LC\\rangle-t_{L}^{A}t_{Ijm}^{bCd}\\langle Kd|Lm\\rangle-t_{L}^{A}t_{IjM}^{bCD}\\langle KD|LM\\rangle+t_{L}^{A}t_{IjM}^{bCD}\\langle KD|ML\\rangle-t_{L}^{A}t_{IKm}^{bCD}\\langle jD|mL\\rangle-t_{L}^{A}t_{jKm}^{bCd}\\langle Id|Lm\\rangle-t_{L}^{A}t_{jKM}^{bCD}\\langle ID|LM\\rangle+t_{L}^{A}t_{jKM}^{bCD}\\langle ID|ML\\rangle+0.5t_{L}^{A}t_{IjK}^{CdE}\\langle dE|bL\\rangle-0.5t_{L}^{A}t_{IjK}^{CDe}\\langle De|Lb\\rangle+t_{M}^{C}t_{l}^{b}t_{Ij}^{Ad}\\langle Kd|Ml\\rangle+t_{M}^{C}t_{l}^{b}t_{IK}^{AD}\\langle jD|lM\\rangle+t_{M}^{C}t_{l}^{b}t_{jK}^{Ad}\\langle Id|Ml\\rangle+0.5t_{M}^{C}t_{l}^{b}t_{IjK}^{AdE}\\langle dE|lM\\rangle-0.5t_{M}^{C}t_{l}^{b}t_{IjK}^{ADe}\\langle De|Ml\\rangle-t_{l}^{b}t_{Ij}^{Ad}t_{Km}^{Ce}\\langle de|lm\\rangle+t_{l}^{b}t_{Ij}^{Ad}t_{Km}^{Ce}\\langle de|ml\\rangle-t_{l}^{b}t_{Ij}^{Ad}t_{KM}^{CE}\\langle dE|lM\\rangle-t_{l}^{b}t_{Ij}^{Ad}\\langle Kd|Cl\\rangle-t_{l}^{b}t_{IK}^{AD}t_{jM}^{Ce}\\langle De|Ml\\rangle-t_{l}^{b}t_{IK}^{AD}\\langle jD|lC\\rangle-t_{l}^{b}t_{jK}^{Ad}t_{Im}^{Ce}\\langle de|lm\\rangle+t_{l}^{b}t_{jK}^{Ad}t_{Im}^{Ce}\\langle de|ml\\rangle-t_{l}^{b}t_{jK}^{Ad}t_{IM}^{CE}\\langle dE|lM\\rangle-t_{l}^{b}t_{jK}^{Ad}\\langle Id|Cl\\rangle+t_{l}^{b}t_{Ij}^{Cd}\\langle Kd|Al\\rangle+t_{l}^{b}t_{IK}^{CD}\\langle jD|lA\\rangle+t_{l}^{b}t_{jK}^{Cd}\\langle Id|Al\\rangle-0.5t_{l}^{b}t_{IjK}^{AdE}\\langle dE|lC\\rangle+0.5t_{l}^{b}t_{IjK}^{ADe}\\langle De|Cl\\rangle+0.5t_{l}^{b}t_{IjK}^{CdE}\\langle dE|lA\\rangle-0.5t_{l}^{b}t_{IjK}^{CDe}\\langle De|Al\\rangle+0.5t_{m}^{b}t_{Ij}^{dE}t_{KL}^{AC}\\langle dE|mL\\rangle-0.5t_{m}^{b}t_{Ij}^{De}t_{KL}^{AC}\\langle De|Lm\\rangle+0.5t_{m}^{b}t_{jK}^{dE}t_{IL}^{AC}\\langle dE|mL\\rangle-0.5t_{m}^{b}t_{jK}^{De}t_{IL}^{AC}\\langle De|Lm\\rangle+t_{m}^{b}t_{Il}^{Ad}t_{jK}^{Ce}\\langle de|lm\\rangle-t_{m}^{b}t_{Il}^{Ad}t_{jK}^{Ce}\\langle de|ml\\rangle+t_{m}^{b}t_{IL}^{AD}t_{jK}^{Ce}\\langle De|Lm\\rangle+t_{m}^{b}t_{jL}^{Ad}t_{IK}^{CE}\\langle dE|mL\\rangle+t_{m}^{b}t_{Kl}^{Ad}t_{Ij}^{Ce}\\langle de|lm\\rangle-t_{m}^{b}t_{Kl}^{Ad}t_{Ij}^{Ce}\\langle de|ml\\rangle+t_{m}^{b}t_{KL}^{AD}t_{Ij}^{Ce}\\langle De|Lm\\rangle+t_{m}^{b}t_{IL}^{AC}\\langle jK|mL\\rangle-t_{m}^{b}t_{KL}^{AC}\\langle Ij|Lm\\rangle-t_{m}^{b}t_{IjL}^{ACd}\\langle Kd|Lm\\rangle+t_{m}^{b}t_{IKl}^{ACd}\\langle jd|lm\\rangle-t_{m}^{b}t_{IKl}^{ACd}\\langle jd|ml\\rangle-t_{m}^{b}t_{IKL}^{ACD}\\langle jD|mL\\rangle-t_{m}^{b}t_{jKL}^{ACd}\\langle Id|Lm\\rangle-t_{L}^{C}t_{Ij}^{Ad}\\langle Kd|Lb\\rangle-t_{L}^{C}t_{IK}^{AD}\\langle jD|bL\\rangle-t_{L}^{C}t_{jK}^{Ad}\\langle Id|Lb\\rangle-t_{L}^{C}t_{Ij}^{bD}\\langle KD|AL\\rangle+t_{L}^{C}t_{Ij}^{bD}\\langle KD|LA\\rangle-t_{L}^{C}t_{jK}^{bD}\\langle ID|AL\\rangle+t_{L}^{C}t_{jK}^{bD}\\langle ID|LA\\rangle-0.5t_{L}^{C}t_{IjK}^{AdE}\\langle dE|bL\\rangle+0.5t_{L}^{C}t_{IjK}^{ADe}\\langle De|Lb\\rangle+0.5t_{L}^{C}t_{IjK}^{bDE}\\langle DE|AL\\rangle-0.5t_{L}^{C}t_{IjK}^{bDE}\\langle DE|LA\\rangle+0.5t_{M}^{C}t_{Ij}^{dE}t_{Kl}^{Ab}\\langle dE|lM\\rangle-0.5t_{M}^{C}t_{Ij}^{De}t_{Kl}^{Ab}\\langle De|Ml\\rangle-0.5t_{M}^{C}t_{IK}^{DE}t_{jL}^{Ab}\\langle DE|LM\\rangle+0.5t_{M}^{C}t_{IK}^{DE}t_{jL}^{Ab}\\langle DE|ML\\rangle+0.5t_{M}^{C}t_{jK}^{dE}t_{Il}^{Ab}\\langle dE|lM\\rangle-0.5t_{M}^{C}t_{jK}^{De}t_{Il}^{Ab}\\langle De|Ml\\rangle-t_{M}^{C}t_{Il}^{Ad}t_{jK}^{bE}\\langle dE|lM\\rangle-t_{M}^{C}t_{IL}^{AD}t_{jK}^{bE}\\langle DE|LM\\rangle+t_{M}^{C}t_{IL}^{AD}t_{jK}^{bE}\\langle DE|ML\\rangle-t_{M}^{C}t_{Ij}^{Ad}t_{Kl}^{bE}\\langle dE|lM\\rangle-t_{M}^{C}t_{IK}^{AD}t_{jl}^{be}\\langle De|Ml\\rangle+t_{M}^{C}t_{IK}^{AD}t_{jL}^{bE}\\langle DE|LM\\rangle-t_{M}^{C}t_{IK}^{AD}t_{jL}^{bE}\\langle DE|ML\\rangle-t_{M}^{C}t_{jK}^{Ad}t_{Il}^{bE}\\langle dE|lM\\rangle-t_{M}^{C}t_{Kl}^{Ad}t_{Ij}^{bE}\\langle dE|lM\\rangle-t_{M}^{C}t_{KL}^{AD}t_{Ij}^{bE}\\langle DE|LM\\rangle+t_{M}^{C}t_{KL}^{AD}t_{Ij}^{bE}\\langle DE|ML\\rangle+t_{M}^{C}t_{Il}^{Ab}\\langle jK|lM\\rangle-t_{M}^{C}t_{jL}^{Ab}\\langle IK|LM\\rangle+t_{M}^{C}t_{jL}^{Ab}\\langle IK|ML\\rangle-t_{M}^{C}t_{Kl}^{Ab}\\langle Ij|Ml\\rangle-t_{M}^{C}t_{Ijl}^{Abd}\\langle Kd|Ml\\rangle+t_{M}^{C}t_{IjL}^{AbD}\\langle KD|LM\\rangle-t_{M}^{C}t_{IjL}^{AbD}\\langle KD|ML\\rangle-t_{M}^{C}t_{IKl}^{AbD}\\langle jD|lM\\rangle-t_{M}^{C}t_{jKl}^{Abd}\\langle Id|Ml\\rangle+t_{M}^{C}t_{jKL}^{AbD}\\langle ID|LM\\rangle-t_{M}^{C}t_{jKL}^{AbD}\\langle ID|ML\\rangle+0.5t_{Il}^{dE}t_{jKM}^{AbC}\\langle dE|lM\\rangle-0.5t_{Il}^{De}t_{jKM}^{AbC}\\langle De|Ml\\rangle+0.5t_{IL}^{DE}t_{jKM}^{AbC}\\langle DE|LM\\rangle-0.5t_{IL}^{DE}t_{jKM}^{AbC}\\langle DE|ML\\rangle-0.5t_{Kl}^{Ab}t_{Ij}^{dE}\\langle dE|lC\\rangle+0.5t_{Kl}^{Ab}t_{Ij}^{De}\\langle De|Cl\\rangle-0.5t_{KL}^{AC}t_{Ij}^{dE}\\langle dE|bL\\rangle+0.5t_{KL}^{AC}t_{Ij}^{De}\\langle De|Lb\\rangle-0.5t_{Kl}^{bC}t_{Ij}^{dE}\\langle dE|lA\\rangle+0.5t_{Kl}^{bC}t_{Ij}^{De}\\langle De|Al\\rangle+0.25t_{Ij}^{dE}t_{KlM}^{AbC}\\langle dE|lM\\rangle-0.25t_{Ij}^{De}t_{KlM}^{AbC}\\langle De|Ml\\rangle-0.25t_{Ij}^{dE}t_{KLm}^{AbC}\\langle dE|mL\\rangle+0.25t_{Ij}^{De}t_{KLm}^{AbC}\\langle De|Lm\\rangle-0.5t_{jL}^{Ab}t_{IK}^{DE}\\langle DE|CL\\rangle+0.5t_{jL}^{Ab}t_{IK}^{DE}\\langle DE|LC\\rangle-0.5t_{jL}^{bC}t_{IK}^{DE}\\langle DE|AL\\rangle+0.5t_{jL}^{bC}t_{IK}^{DE}\\langle DE|LA\\rangle-0.25t_{IK}^{DE}t_{jLM}^{AbC}\\langle DE|LM\\rangle+0.25t_{IK}^{DE}t_{jLM}^{AbC}\\langle DE|ML\\rangle-0.5t_{jl}^{de}t_{IKm}^{AbC}\\langle de|lm\\rangle+0.5t_{jl}^{de}t_{IKm}^{AbC}\\langle de|ml\\rangle+0.5t_{jL}^{dE}t_{IKm}^{AbC}\\langle dE|mL\\rangle-0.5t_{jL}^{De}t_{IKm}^{AbC}\\langle De|Lm\\rangle-0.5t_{Il}^{Ab}t_{jK}^{dE}\\langle dE|lC\\rangle+0.5t_{Il}^{Ab}t_{jK}^{De}\\langle De|Cl\\rangle-0.5t_{IL}^{AC}t_{jK}^{dE}\\langle dE|bL\\rangle+0.5t_{IL}^{AC}t_{jK}^{De}\\langle De|Lb\\rangle-0.5t_{Il}^{bC}t_{jK}^{dE}\\langle dE|lA\\rangle+0.5t_{Il}^{bC}t_{jK}^{De}\\langle De|Al\\rangle+0.25t_{jK}^{dE}t_{IlM}^{AbC}\\langle dE|lM\\rangle-0.25t_{jK}^{De}t_{IlM}^{AbC}\\langle De|Ml\\rangle-0.25t_{jK}^{dE}t_{ILm}^{AbC}\\langle dE|mL\\rangle+0.25t_{jK}^{De}t_{ILm}^{AbC}\\langle De|Lm\\rangle+0.5t_{Kl}^{dE}t_{IjM}^{AbC}\\langle dE|lM\\rangle-0.5t_{Kl}^{De}t_{IjM}^{AbC}\\langle De|Ml\\rangle+0.5t_{KL}^{DE}t_{IjM}^{AbC}\\langle DE|LM\\rangle-0.5t_{KL}^{DE}t_{IjM}^{AbC}\\langle DE|ML\\rangle+0.5t_{lM}^{Ad}t_{IjK}^{bCE}\\langle dE|lM\\rangle-0.5t_{Lm}^{Ad}t_{IjK}^{bCE}\\langle dE|mL\\rangle+0.5t_{LM}^{AD}t_{IjK}^{bCE}\\langle DE|LM\\rangle-0.5t_{LM}^{AD}t_{IjK}^{bCE}\\langle DE|ML\\rangle+t_{jK}^{bE}t_{Il}^{Ad}\\langle dE|lC\\rangle-t_{jK}^{bE}t_{IL}^{AD}\\langle DE|CL\\rangle+t_{jK}^{bE}t_{IL}^{AD}\\langle DE|LC\\rangle-t_{jM}^{bC}t_{Il}^{Ad}\\langle Kd|Ml\\rangle+t_{jM}^{bC}t_{IL}^{AD}\\langle KD|LM\\rangle-t_{jM}^{bC}t_{IL}^{AD}\\langle KD|ML\\rangle-t_{Km}^{bC}t_{Il}^{Ad}\\langle jd|lm\\rangle+t_{Km}^{bC}t_{Il}^{Ad}\\langle jd|ml\\rangle+t_{Km}^{bC}t_{IL}^{AD}\\langle jD|mL\\rangle+t_{jK}^{Ce}t_{Il}^{Ad}\\langle de|bl\\rangle-t_{jK}^{Ce}t_{Il}^{Ad}\\langle de|lb\\rangle-t_{jK}^{Ce}t_{IL}^{AD}\\langle De|Lb\\rangle+t_{Il}^{Ad}t_{jKm}^{bCe}\\langle de|lm\\rangle-t_{Il}^{Ad}t_{jKm}^{bCe}\\langle de|ml\\rangle+t_{IL}^{AD}t_{jKm}^{bCe}\\langle De|Lm\\rangle+t_{Il}^{Ad}t_{jKM}^{bCE}\\langle dE|lM\\rangle+t_{IL}^{AD}t_{jKM}^{bCE}\\langle DE|LM\\rangle-t_{IL}^{AD}t_{jKM}^{bCE}\\langle DE|ML\\rangle+t_{Kl}^{bE}t_{Ij}^{Ad}\\langle dE|lC\\rangle+0.5t_{lM}^{bC}t_{Ij}^{Ad}\\langle Kd|Ml\\rangle-0.5t_{Lm}^{bC}t_{Ij}^{Ad}\\langle Kd|Lm\\rangle+t_{Kl}^{Ce}t_{Ij}^{Ad}\\langle de|bl\\rangle-t_{Kl}^{Ce}t_{Ij}^{Ad}\\langle de|lb\\rangle+t_{KL}^{CE}t_{Ij}^{Ad}\\langle dE|bL\\rangle+0.5t_{Ij}^{Ad}t_{Klm}^{bCe}\\langle de|lm\\rangle-0.5t_{Ij}^{Ad}t_{Klm}^{bCe}\\langle de|ml\\rangle+0.5t_{Ij}^{Ad}t_{KlM}^{bCE}\\langle dE|lM\\rangle-0.5t_{Ij}^{Ad}t_{KLm}^{bCE}\\langle dE|mL\\rangle+t_{Ij}^{Ad}\\langle Kd|Cb\\rangle+t_{jl}^{be}t_{IK}^{AD}\\langle De|Cl\\rangle+t_{jL}^{bE}t_{IK}^{AD}\\langle DE|CL\\rangle-t_{jL}^{bE}t_{IK}^{AD}\\langle DE|LC\\rangle+0.5t_{lM}^{bC}t_{IK}^{AD}\\langle jD|lM\\rangle-0.5t_{Lm}^{bC}t_{IK}^{AD}\\langle jD|mL\\rangle+t_{jL}^{Ce}t_{IK}^{AD}\\langle De|Lb\\rangle+0.5t_{IK}^{AD}t_{jlM}^{bCe}\\langle De|Ml\\rangle-0.5t_{IK}^{AD}t_{jLm}^{bCe}\\langle De|Lm\\rangle-0.5t_{IK}^{AD}t_{jLM}^{bCE}\\langle DE|LM\\rangle+0.5t_{IK}^{AD}t_{jLM}^{bCE}\\langle DE|ML\\rangle+t_{IK}^{AD}\\langle jD|bC\\rangle-t_{Im}^{bC}t_{jL}^{Ad}\\langle Kd|Lm\\rangle+t_{Km}^{bC}t_{jL}^{Ad}\\langle Id|Lm\\rangle-t_{IK}^{CE}t_{jL}^{Ad}\\langle dE|bL\\rangle+t_{jL}^{Ad}t_{IKm}^{bCE}\\langle dE|mL\\rangle+t_{Il}^{bE}t_{jK}^{Ad}\\langle dE|lC\\rangle+0.5t_{lM}^{bC}t_{jK}^{Ad}\\langle Id|Ml\\rangle-0.5t_{Lm}^{bC}t_{jK}^{Ad}\\langle Id|Lm\\rangle+t_{Il}^{Ce}t_{jK}^{Ad}\\langle de|bl\\rangle-t_{Il}^{Ce}t_{jK}^{Ad}\\langle de|lb\\rangle+t_{IL}^{CE}t_{jK}^{Ad}\\langle dE|bL\\rangle+0.5t_{jK}^{Ad}t_{Ilm}^{bCe}\\langle de|lm\\rangle-0.5t_{jK}^{Ad}t_{Ilm}^{bCe}\\langle de|ml\\rangle+0.5t_{jK}^{Ad}t_{IlM}^{bCE}\\langle dE|lM\\rangle-0.5t_{jK}^{Ad}t_{ILm}^{bCE}\\langle dE|mL\\rangle+t_{jK}^{Ad}\\langle Id|Cb\\rangle+t_{Ij}^{bE}t_{Kl}^{Ad}\\langle dE|lC\\rangle-t_{Ij}^{bE}t_{KL}^{AD}\\langle DE|CL\\rangle+t_{Ij}^{bE}t_{KL}^{AD}\\langle DE|LC\\rangle+t_{Im}^{bC}t_{Kl}^{Ad}\\langle jd|lm\\rangle-t_{Im}^{bC}t_{Kl}^{Ad}\\langle jd|ml\\rangle-t_{Im}^{bC}t_{KL}^{AD}\\langle jD|mL\\rangle+t_{jM}^{bC}t_{Kl}^{Ad}\\langle Id|Ml\\rangle-t_{jM}^{bC}t_{KL}^{AD}\\langle ID|LM\\rangle+t_{jM}^{bC}t_{KL}^{AD}\\langle ID|ML\\rangle+t_{Ij}^{Ce}t_{Kl}^{Ad}\\langle de|bl\\rangle-t_{Ij}^{Ce}t_{Kl}^{Ad}\\langle de|lb\\rangle-t_{Ij}^{Ce}t_{KL}^{AD}\\langle De|Lb\\rangle+t_{Kl}^{Ad}t_{Ijm}^{bCe}\\langle de|lm\\rangle-t_{Kl}^{Ad}t_{Ijm}^{bCe}\\langle de|ml\\rangle+t_{KL}^{AD}t_{Ijm}^{bCe}\\langle De|Lm\\rangle+t_{Kl}^{Ad}t_{IjM}^{bCE}\\langle dE|lM\\rangle+t_{KL}^{AD}t_{IjM}^{bCE}\\langle DE|LM\\rangle-t_{KL}^{AD}t_{IjM}^{bCE}\\langle DE|ML\\rangle+0.5t_{Ij}^{Cd}t_{lM}^{Ab}\\langle Kd|Ml\\rangle-0.5t_{Ij}^{Cd}t_{Lm}^{Ab}\\langle Kd|Lm\\rangle+0.5t_{IK}^{CD}t_{lM}^{Ab}\\langle jD|lM\\rangle-0.5t_{IK}^{CD}t_{Lm}^{Ab}\\langle jD|mL\\rangle+0.5t_{jK}^{Cd}t_{lM}^{Ab}\\langle Id|Ml\\rangle-0.5t_{jK}^{Cd}t_{Lm}^{Ab}\\langle Id|Lm\\rangle+0.25t_{lM}^{Ab}t_{IjK}^{CdE}\\langle dE|lM\\rangle-0.25t_{Lm}^{Ab}t_{IjK}^{CdE}\\langle dE|mL\\rangle-0.25t_{lM}^{Ab}t_{IjK}^{CDe}\\langle De|Ml\\rangle+0.25t_{Lm}^{Ab}t_{IjK}^{CDe}\\langle De|Lm\\rangle-t_{jM}^{Cd}t_{Il}^{Ab}\\langle Kd|Ml\\rangle-t_{Km}^{Cd}t_{Il}^{Ab}\\langle jd|lm\\rangle+t_{Km}^{Cd}t_{Il}^{Ab}\\langle jd|ml\\rangle-t_{KM}^{CD}t_{Il}^{Ab}\\langle jD|lM\\rangle+0.5t_{Il}^{Ab}t_{jKm}^{Cde}\\langle de|lm\\rangle-0.5t_{Il}^{Ab}t_{jKm}^{Cde}\\langle de|ml\\rangle+0.5t_{Il}^{Ab}t_{jKM}^{CdE}\\langle dE|lM\\rangle-0.5t_{Il}^{Ab}t_{jKM}^{CDe}\\langle De|Ml\\rangle-t_{Il}^{Ab}\\langle jK|lC\\rangle-t_{Im}^{Cd}t_{jL}^{Ab}\\langle Kd|Lm\\rangle-t_{IM}^{CD}t_{jL}^{Ab}\\langle KD|LM\\rangle+t_{IM}^{CD}t_{jL}^{Ab}\\langle KD|ML\\rangle+t_{Km}^{Cd}t_{jL}^{Ab}\\langle Id|Lm\\rangle+t_{KM}^{CD}t_{jL}^{Ab}\\langle ID|LM\\rangle-t_{KM}^{CD}t_{jL}^{Ab}\\langle ID|ML\\rangle+0.5t_{jL}^{Ab}t_{IKm}^{CdE}\\langle dE|mL\\rangle-0.5t_{jL}^{Ab}t_{IKm}^{CDe}\\langle De|Lm\\rangle-0.5t_{jL}^{Ab}t_{IKM}^{CDE}\\langle DE|LM\\rangle+0.5t_{jL}^{Ab}t_{IKM}^{CDE}\\langle DE|ML\\rangle-t_{jL}^{Ab}\\langle IK|CL\\rangle+t_{jL}^{Ab}\\langle IK|LC\\rangle+t_{Im}^{Cd}t_{Kl}^{Ab}\\langle jd|lm\\rangle-t_{Im}^{Cd}t_{Kl}^{Ab}\\langle jd|ml\\rangle+t_{IM}^{CD}t_{Kl}^{Ab}\\langle jD|lM\\rangle+t_{jM}^{Cd}t_{Kl}^{Ab}\\langle Id|Ml\\rangle+0.5t_{Kl}^{Ab}t_{Ijm}^{Cde}\\langle de|lm\\rangle-0.5t_{Kl}^{Ab}t_{Ijm}^{Cde}\\langle de|ml\\rangle+0.5t_{Kl}^{Ab}t_{IjM}^{CdE}\\langle dE|lM\\rangle-0.5t_{Kl}^{Ab}t_{IjM}^{CDe}\\langle De|Ml\\rangle+t_{Kl}^{Ab}\\langle Ij|Cl\\rangle+0.5t_{Ij}^{bD}t_{LM}^{AC}\\langle KD|LM\\rangle-0.5t_{Ij}^{bD}t_{LM}^{AC}\\langle KD|ML\\rangle+0.5t_{jK}^{bD}t_{LM}^{AC}\\langle ID|LM\\rangle-0.5t_{jK}^{bD}t_{LM}^{AC}\\langle ID|ML\\rangle-0.25t_{LM}^{AC}t_{IjK}^{bDE}\\langle DE|LM\\rangle+0.25t_{LM}^{AC}t_{IjK}^{bDE}\\langle DE|ML\\rangle-t_{jm}^{bd}t_{IL}^{AC}\\langle Kd|Lm\\rangle-t_{jM}^{bD}t_{IL}^{AC}\\langle KD|LM\\rangle+t_{jM}^{bD}t_{IL}^{AC}\\langle KD|ML\\rangle-t_{Km}^{bD}t_{IL}^{AC}\\langle jD|mL\\rangle+0.5t_{IL}^{AC}t_{jKm}^{bdE}\\langle dE|mL\\rangle-0.5t_{IL}^{AC}t_{jKm}^{bDe}\\langle De|Lm\\rangle-0.5t_{IL}^{AC}t_{jKM}^{bDE}\\langle DE|LM\\rangle+0.5t_{IL}^{AC}t_{jKM}^{bDE}\\langle DE|ML\\rangle-t_{IL}^{AC}\\langle jK|bL\\rangle+t_{Im}^{bD}t_{KL}^{AC}\\langle jD|mL\\rangle+t_{jm}^{bd}t_{KL}^{AC}\\langle Id|Lm\\rangle+t_{jM}^{bD}t_{KL}^{AC}\\langle ID|LM\\rangle-t_{jM}^{bD}t_{KL}^{AC}\\langle ID|ML\\rangle+0.5t_{KL}^{AC}t_{Ijm}^{bdE}\\langle dE|mL\\rangle-0.5t_{KL}^{AC}t_{Ijm}^{bDe}\\langle De|Lm\\rangle-0.5t_{KL}^{AC}t_{IjM}^{bDE}\\langle DE|LM\\rangle+0.5t_{KL}^{AC}t_{IjM}^{bDE}\\langle DE|ML\\rangle+t_{KL}^{AC}\\langle Ij|Lb\\rangle-t_{jK}^{Ce}t_{Il}^{bD}\\langle De|Al\\rangle-t_{Kl}^{Ce}t_{Ij}^{bD}\\langle De|Al\\rangle-t_{KL}^{CE}t_{Ij}^{bD}\\langle DE|AL\\rangle+t_{KL}^{CE}t_{Ij}^{bD}\\langle DE|LA\\rangle+t_{Ij}^{bD}\\langle KD|AC\\rangle-t_{Ij}^{bD}\\langle KD|CA\\rangle-t_{IK}^{CE}t_{jl}^{bd}\\langle dE|lA\\rangle+t_{IK}^{CE}t_{jL}^{bD}\\langle DE|AL\\rangle-t_{IK}^{CE}t_{jL}^{bD}\\langle DE|LA\\rangle-t_{Il}^{Ce}t_{jK}^{bD}\\langle De|Al\\rangle-t_{IL}^{CE}t_{jK}^{bD}\\langle DE|AL\\rangle+t_{IL}^{CE}t_{jK}^{bD}\\langle DE|LA\\rangle+t_{jK}^{bD}\\langle ID|AC\\rangle-t_{jK}^{bD}\\langle ID|CA\\rangle-t_{Ij}^{Ce}t_{Kl}^{bD}\\langle De|Al\\rangle+0.5t_{lm}^{be}t_{IjK}^{ACd}\\langle de|lm\\rangle-0.5t_{lm}^{be}t_{IjK}^{ACd}\\langle de|ml\\rangle+0.5t_{lM}^{bE}t_{IjK}^{ACd}\\langle dE|lM\\rangle-0.5t_{Lm}^{bE}t_{IjK}^{ACd}\\langle dE|mL\\rangle+t_{Im}^{bE}t_{jKL}^{ACd}\\langle dE|mL\\rangle+0.5t_{Ij}^{bE}t_{KlM}^{ACd}\\langle dE|lM\\rangle-0.5t_{Ij}^{bE}t_{KLm}^{ACd}\\langle dE|mL\\rangle+0.5t_{Ij}^{bE}t_{KLM}^{ACD}\\langle DE|LM\\rangle-0.5t_{Ij}^{bE}t_{KLM}^{ACD}\\langle DE|ML\\rangle+t_{jm}^{be}t_{IKl}^{ACd}\\langle de|lm\\rangle-t_{jm}^{be}t_{IKl}^{ACd}\\langle de|ml\\rangle+t_{jM}^{bE}t_{IKl}^{ACd}\\langle dE|lM\\rangle+t_{jm}^{be}t_{IKL}^{ACD}\\langle De|Lm\\rangle+t_{jM}^{bE}t_{IKL}^{ACD}\\langle DE|LM\\rangle-t_{jM}^{bE}t_{IKL}^{ACD}\\langle DE|ML\\rangle+0.5t_{jK}^{bE}t_{IlM}^{ACd}\\langle dE|lM\\rangle-0.5t_{jK}^{bE}t_{ILm}^{ACd}\\langle dE|mL\\rangle+0.5t_{jK}^{bE}t_{ILM}^{ACD}\\langle DE|LM\\rangle-0.5t_{jK}^{bE}t_{ILM}^{ACD}\\langle DE|ML\\rangle+t_{Km}^{bE}t_{IjL}^{ACd}\\langle dE|mL\\rangle+0.25t_{lM}^{bC}t_{IjK}^{AdE}\\langle dE|lM\\rangle-0.25t_{Lm}^{bC}t_{IjK}^{AdE}\\langle dE|mL\\rangle-0.25t_{lM}^{bC}t_{IjK}^{ADe}\\langle De|Ml\\rangle+0.25t_{Lm}^{bC}t_{IjK}^{ADe}\\langle De|Lm\\rangle-t_{Il}^{bC}\\langle jK|lA\\rangle-0.5t_{Im}^{bC}t_{jKl}^{Ade}\\langle de|lm\\rangle+0.5t_{Im}^{bC}t_{jKl}^{Ade}\\langle de|ml\\rangle+0.5t_{Im}^{bC}t_{jKL}^{AdE}\\langle dE|mL\\rangle-0.5t_{Im}^{bC}t_{jKL}^{ADe}\\langle De|Lm\\rangle-t_{jL}^{bC}\\langle IK|AL\\rangle+t_{jL}^{bC}\\langle IK|LA\\rangle+0.5t_{jM}^{bC}t_{IKl}^{AdE}\\langle dE|lM\\rangle-0.5t_{jM}^{bC}t_{IKl}^{ADe}\\langle De|Ml\\rangle+0.5t_{jM}^{bC}t_{IKL}^{ADE}\\langle DE|LM\\rangle-0.5t_{jM}^{bC}t_{IKL}^{ADE}\\langle DE|ML\\rangle+t_{Kl}^{bC}\\langle Ij|Al\\rangle-0.5t_{Km}^{bC}t_{Ijl}^{Ade}\\langle de|lm\\rangle+0.5t_{Km}^{bC}t_{Ijl}^{Ade}\\langle de|ml\\rangle+0.5t_{Km}^{bC}t_{IjL}^{AdE}\\langle dE|mL\\rangle-0.5t_{Km}^{bC}t_{IjL}^{ADe}\\langle De|Lm\\rangle-t_{Ij}^{Cd}\\langle Kd|Ab\\rangle-t_{IK}^{CD}\\langle jD|bA\\rangle-t_{jK}^{Cd}\\langle Id|Ab\\rangle+0.5t_{lM}^{Ce}t_{IjK}^{AbD}\\langle De|Ml\\rangle-0.5t_{Lm}^{Ce}t_{IjK}^{AbD}\\langle De|Lm\\rangle-0.5t_{LM}^{CE}t_{IjK}^{AbD}\\langle DE|LM\\rangle+0.5t_{LM}^{CE}t_{IjK}^{AbD}\\langle DE|ML\\rangle+t_{Im}^{Ce}t_{jKl}^{Abd}\\langle de|lm\\rangle-t_{Im}^{Ce}t_{jKl}^{Abd}\\langle de|ml\\rangle+t_{IM}^{CE}t_{jKl}^{Abd}\\langle dE|lM\\rangle+t_{Im}^{Ce}t_{jKL}^{AbD}\\langle De|Lm\\rangle+t_{IM}^{CE}t_{jKL}^{AbD}\\langle DE|LM\\rangle-t_{IM}^{CE}t_{jKL}^{AbD}\\langle DE|ML\\rangle-0.5t_{Ij}^{Ce}t_{Klm}^{Abd}\\langle de|lm\\rangle+0.5t_{Ij}^{Ce}t_{Klm}^{Abd}\\langle de|ml\\rangle+0.5t_{Ij}^{Ce}t_{KlM}^{AbD}\\langle De|Ml\\rangle-0.5t_{Ij}^{Ce}t_{KLm}^{AbD}\\langle De|Lm\\rangle+0.5t_{IK}^{CE}t_{jlM}^{Abd}\\langle dE|lM\\rangle-0.5t_{IK}^{CE}t_{jLm}^{Abd}\\langle dE|mL\\rangle+0.5t_{IK}^{CE}t_{jLM}^{AbD}\\langle DE|LM\\rangle-0.5t_{IK}^{CE}t_{jLM}^{AbD}\\langle DE|ML\\rangle+t_{jM}^{Ce}t_{IKl}^{AbD}\\langle De|Ml\\rangle-0.5t_{jK}^{Ce}t_{Ilm}^{Abd}\\langle de|lm\\rangle+0.5t_{jK}^{Ce}t_{Ilm}^{Abd}\\langle de|ml\\rangle+0.5t_{jK}^{Ce}t_{IlM}^{AbD}\\langle De|Ml\\rangle-0.5t_{jK}^{Ce}t_{ILm}^{AbD}\\langle De|Lm\\rangle+t_{Km}^{Ce}t_{Ijl}^{Abd}\\langle de|lm\\rangle-t_{Km}^{Ce}t_{Ijl}^{Abd}\\langle de|ml\\rangle+t_{KM}^{CE}t_{Ijl}^{Abd}\\langle dE|lM\\rangle+t_{Km}^{Ce}t_{IjL}^{AbD}\\langle De|Lm\\rangle+t_{KM}^{CE}t_{IjL}^{AbD}\\langle DE|LM\\rangle-t_{KM}^{CE}t_{IjL}^{AbD}\\langle DE|ML\\rangle+0.5t_{IjK}^{AdE}\\langle dE|bC\\rangle-0.5t_{IjK}^{ADe}\\langle De|Cb\\rangle+t_{Ijl}^{Abd}\\langle Kd|Cl\\rangle+t_{IjL}^{AbD}\\langle KD|CL\\rangle-t_{IjL}^{AbD}\\langle KD|LC\\rangle+t_{IKl}^{AbD}\\langle jD|lC\\rangle+t_{jKl}^{Abd}\\langle Id|Cl\\rangle+t_{jKL}^{AbD}\\langle ID|CL\\rangle-t_{jKL}^{AbD}\\langle ID|LC\\rangle+0.5t_{IlM}^{AbC}\\langle jK|lM\\rangle-0.5t_{ILm}^{AbC}\\langle jK|mL\\rangle-0.5t_{jLM}^{AbC}\\langle IK|LM\\rangle+0.5t_{jLM}^{AbC}\\langle IK|ML\\rangle+0.5t_{KLm}^{AbC}\\langle Ij|Lm\\rangle-0.5t_{KlM}^{AbC}\\langle Ij|Ml\\rangle+t_{IjL}^{ACd}\\langle Kd|Lb\\rangle+t_{IKl}^{ACd}\\langle jd|bl\\rangle+t_{IKL}^{ACD}\\langle jD|bL\\rangle-t_{IKl}^{ACd}\\langle jd|lb\\rangle+t_{jKL}^{ACd}\\langle Id|Lb\\rangle-0.5t_{IjK}^{bDE}\\langle DE|AC\\rangle+0.5t_{IjK}^{bDE}\\langle DE|CA\\rangle+t_{Ijl}^{bCd}\\langle Kd|Al\\rangle+t_{IjL}^{bCD}\\langle KD|AL\\rangle-t_{IjL}^{bCD}\\langle KD|LA\\rangle+t_{IKl}^{bCD}\\langle jD|lA\\rangle+t_{jKl}^{bCd}\\langle Id|Al\\rangle+t_{jKL}^{bCD}\\langle ID|AL\\rangle-t_{jKL}^{bCD}\\langle ID|LA\\rangle+0.5t_{IjK}^{CDe}\\langle De|Ab\\rangle-0.5t_{IjK}^{CdE}\\langle dE|bA\\rangle$"
      ],
      "text/plain": [
       "<IPython.core.display.Math object>"
      ]
     },
     "metadata": {},
     "output_type": "display_data"
    }
   ],
   "source": [
    "T3 = eqfromlatex(latex(eqT3), index_key)\n",
    "platex(T3)"
   ]
  },
  {
   "cell_type": "code",
   "execution_count": 33,
   "metadata": {},
   "outputs": [
    {
     "data": {
      "text/plain": [
       "'- f^{l}_{d} t^{d}_{i} t^{abc}_{jkl} + f^{l}_{d} t^{d}_{j} t^{abc}_{ikl} - f^{l}_{d} t^{d}_{k} t^{abc}_{ijl} - f^{l}_{d} t^{a}_{l} t^{bcd}_{ijk} + f^{l}_{d} t^{b}_{l} t^{acd}_{ijk} - f^{l}_{d} t^{c}_{l} t^{abd}_{ijk} + f^{l}_{d} t^{ad}_{ij} t^{bc}_{kl} - f^{l}_{d} t^{ad}_{ik} t^{bc}_{jl} + f^{l}_{d} t^{ad}_{jk} t^{bc}_{il} + f^{l}_{d} t^{ab}_{il} t^{cd}_{jk} - f^{l}_{d} t^{ab}_{jl} t^{cd}_{ik} + f^{l}_{d} t^{ab}_{kl} t^{cd}_{ij} - f^{l}_{d} t^{ac}_{il} t^{bd}_{jk} + f^{l}_{d} t^{ac}_{jl} t^{bd}_{ik} - f^{l}_{d} t^{ac}_{kl} t^{bd}_{ij} - f^{l}_{i} t^{abc}_{jkl} + f^{l}_{j} t^{abc}_{ikl} - f^{l}_{k} t^{abc}_{ijl} + f^{a}_{d} t^{bcd}_{ijk} - f^{b}_{d} t^{acd}_{ijk} + f^{c}_{d} t^{abd}_{ijk} - t^{d}_{l} t^{e}_{i} t^{abc}_{jkm} v^{lm}_{de} + t^{d}_{l} t^{e}_{j} t^{abc}_{ikm} v^{lm}_{de} - t^{d}_{l} t^{e}_{k} t^{abc}_{ijm} v^{lm}_{de} - t^{d}_{l} t^{a}_{m} t^{bce}_{ijk} v^{lm}_{de} + t^{d}_{l} t^{b}_{m} t^{ace}_{ijk} v^{lm}_{de} - t^{d}_{l} t^{c}_{m} t^{abe}_{ijk} v^{lm}_{de} + t^{d}_{l} t^{ae}_{ij} t^{bc}_{km} v^{lm}_{de} - t^{d}_{l} t^{ae}_{ik} t^{bc}_{jm} v^{lm}_{de} + t^{d}_{l} t^{ae}_{jk} t^{bc}_{im} v^{lm}_{de} + t^{d}_{l} t^{ab}_{im} t^{ce}_{jk} v^{lm}_{de} - t^{d}_{l} t^{ab}_{jm} t^{ce}_{ik} v^{lm}_{de} + t^{d}_{l} t^{ab}_{km} t^{ce}_{ij} v^{lm}_{de} - t^{d}_{l} t^{ac}_{im} t^{be}_{jk} v^{lm}_{de} + t^{d}_{l} t^{ac}_{jm} t^{be}_{ik} v^{lm}_{de} - t^{d}_{l} t^{ac}_{km} t^{be}_{ij} v^{lm}_{de} - t^{d}_{l} t^{abe}_{ijk} v^{cl}_{de} + t^{d}_{l} t^{abc}_{ijm} v^{lm}_{kd} - t^{d}_{l} t^{abc}_{ikm} v^{lm}_{jd} + t^{d}_{l} t^{abc}_{jkm} v^{lm}_{id} + t^{d}_{l} t^{ace}_{ijk} v^{bl}_{de} - t^{d}_{l} t^{bce}_{ijk} v^{al}_{de} - t^{d}_{i} t^{e}_{j} t^{a}_{l} t^{bc}_{km} v^{lm}_{de} - t^{d}_{i} t^{e}_{j} t^{b}_{m} t^{ac}_{kl} v^{lm}_{de} + t^{d}_{i} t^{e}_{j} t^{c}_{m} t^{ab}_{kl} v^{lm}_{de} + t^{d}_{i} t^{e}_{j} t^{ab}_{kl} v^{cl}_{de} - t^{d}_{i} t^{e}_{j} t^{ac}_{kl} v^{bl}_{de} + t^{d}_{i} t^{e}_{j} t^{bc}_{kl} v^{al}_{de} + \\\\frac{t^{d}_{i} t^{e}_{j} t^{abc}_{klm} v^{lm}_{de}}{2} + t^{d}_{i} t^{e}_{k} t^{a}_{l} t^{bc}_{jm} v^{lm}_{de} + t^{d}_{i} t^{e}_{k} t^{b}_{m} t^{ac}_{jl} v^{lm}_{de} - t^{d}_{i} t^{e}_{k} t^{c}_{m} t^{ab}_{jl} v^{lm}_{de} - t^{d}_{i} t^{e}_{k} t^{ab}_{jl} v^{cl}_{de} + t^{d}_{i} t^{e}_{k} t^{ac}_{jl} v^{bl}_{de} - t^{d}_{i} t^{e}_{k} t^{bc}_{jl} v^{al}_{de} - \\\\frac{t^{d}_{i} t^{e}_{k} t^{abc}_{jlm} v^{lm}_{de}}{2} - t^{d}_{i} t^{a}_{l} t^{b}_{m} t^{ce}_{jk} v^{lm}_{de} + t^{d}_{i} t^{a}_{l} t^{c}_{m} t^{be}_{jk} v^{lm}_{de} + t^{d}_{i} t^{a}_{l} t^{be}_{jk} v^{cl}_{de} - t^{d}_{i} t^{a}_{l} t^{bc}_{jm} v^{lm}_{kd} + t^{d}_{i} t^{a}_{l} t^{bc}_{km} v^{lm}_{jd} - t^{d}_{i} t^{a}_{l} t^{ce}_{jk} v^{bl}_{de} - t^{d}_{i} t^{a}_{l} t^{bce}_{jkm} v^{lm}_{de} - t^{d}_{i} t^{b}_{l} t^{c}_{m} t^{ae}_{jk} v^{lm}_{de} - t^{d}_{i} t^{b}_{l} t^{ae}_{jk} v^{cl}_{de} + t^{d}_{i} t^{b}_{l} t^{ce}_{jk} v^{al}_{de} - t^{d}_{i} t^{b}_{m} t^{ac}_{jl} v^{lm}_{kd} + t^{d}_{i} t^{b}_{m} t^{ac}_{kl} v^{lm}_{jd} - t^{d}_{i} t^{b}_{m} t^{ace}_{jkl} v^{lm}_{de} + t^{d}_{i} t^{c}_{l} t^{ae}_{jk} v^{bl}_{de} - t^{d}_{i} t^{c}_{l} t^{be}_{jk} v^{al}_{de} + t^{d}_{i} t^{c}_{m} t^{ab}_{jl} v^{lm}_{kd} - t^{d}_{i} t^{c}_{m} t^{ab}_{kl} v^{lm}_{jd} + t^{d}_{i} t^{c}_{m} t^{abe}_{jkl} v^{lm}_{de} + t^{d}_{i} t^{ae}_{jl} t^{bc}_{km} v^{lm}_{de} - \\\\frac{t^{d}_{i} t^{ae}_{jk} t^{bc}_{lm} v^{lm}_{de}}{2} - t^{d}_{i} t^{ae}_{jk} v^{bc}_{de} - t^{d}_{i} t^{ae}_{kl} t^{bc}_{jm} v^{lm}_{de} - \\\\frac{t^{d}_{i} t^{ab}_{lm} t^{ce}_{jk} v^{lm}_{de}}{2} + t^{d}_{i} t^{ab}_{jl} t^{ce}_{km} v^{lm}_{de} + t^{d}_{i} t^{ab}_{jl} v^{cl}_{kd} - t^{d}_{i} t^{ab}_{kl} t^{ce}_{jm} v^{lm}_{de} - t^{d}_{i} t^{ab}_{kl} v^{cl}_{jd} + \\\\frac{t^{d}_{i} t^{ac}_{lm} t^{be}_{jk} v^{lm}_{de}}{2} - t^{d}_{i} t^{ac}_{jl} t^{be}_{km} v^{lm}_{de} - t^{d}_{i} t^{ac}_{jl} v^{bl}_{kd} + t^{d}_{i} t^{ac}_{kl} t^{be}_{jm} v^{lm}_{de} + t^{d}_{i} t^{ac}_{kl} v^{bl}_{jd} + t^{d}_{i} t^{be}_{jk} v^{ac}_{de} + t^{d}_{i} t^{bc}_{jl} v^{al}_{kd} - t^{d}_{i} t^{bc}_{kl} v^{al}_{jd} - t^{d}_{i} t^{ce}_{jk} v^{ab}_{de} + t^{d}_{i} t^{abe}_{jkl} v^{cl}_{de} + \\\\frac{t^{d}_{i} t^{abc}_{jlm} v^{lm}_{kd}}{2} - \\\\frac{t^{d}_{i} t^{abc}_{klm} v^{lm}_{jd}}{2} - t^{d}_{i} t^{ace}_{jkl} v^{bl}_{de} + t^{d}_{i} t^{bce}_{jkl} v^{al}_{de} - t^{d}_{j} t^{e}_{k} t^{a}_{l} t^{bc}_{im} v^{lm}_{de} - t^{d}_{j} t^{e}_{k} t^{b}_{m} t^{ac}_{il} v^{lm}_{de} + t^{d}_{j} t^{e}_{k} t^{c}_{m} t^{ab}_{il} v^{lm}_{de} + t^{d}_{j} t^{e}_{k} t^{ab}_{il} v^{cl}_{de} - t^{d}_{j} t^{e}_{k} t^{ac}_{il} v^{bl}_{de} + t^{d}_{j} t^{e}_{k} t^{bc}_{il} v^{al}_{de} + \\\\frac{t^{d}_{j} t^{e}_{k} t^{abc}_{ilm} v^{lm}_{de}}{2} + t^{d}_{j} t^{a}_{l} t^{b}_{m} t^{ce}_{ik} v^{lm}_{de} - t^{d}_{j} t^{a}_{l} t^{c}_{m} t^{be}_{ik} v^{lm}_{de} - t^{d}_{j} t^{a}_{l} t^{be}_{ik} v^{cl}_{de} + t^{d}_{j} t^{a}_{l} t^{bc}_{im} v^{lm}_{kd} - t^{d}_{j} t^{a}_{l} t^{bc}_{km} v^{lm}_{id} + t^{d}_{j} t^{a}_{l} t^{ce}_{ik} v^{bl}_{de} + t^{d}_{j} t^{a}_{l} t^{bce}_{ikm} v^{lm}_{de} + t^{d}_{j} t^{b}_{l} t^{c}_{m} t^{ae}_{ik} v^{lm}_{de} + t^{d}_{j} t^{b}_{l} t^{ae}_{ik} v^{cl}_{de} - t^{d}_{j} t^{b}_{l} t^{ce}_{ik} v^{al}_{de} + t^{d}_{j} t^{b}_{m} t^{ac}_{il} v^{lm}_{kd} - t^{d}_{j} t^{b}_{m} t^{ac}_{kl} v^{lm}_{id} + t^{d}_{j} t^{b}_{m} t^{ace}_{ikl} v^{lm}_{de} - t^{d}_{j} t^{c}_{l} t^{ae}_{ik} v^{bl}_{de} + t^{d}_{j} t^{c}_{l} t^{be}_{ik} v^{al}_{de} - t^{d}_{j} t^{c}_{m} t^{ab}_{il} v^{lm}_{kd} + t^{d}_{j} t^{c}_{m} t^{ab}_{kl} v^{lm}_{id} - t^{d}_{j} t^{c}_{m} t^{abe}_{ikl} v^{lm}_{de} - t^{d}_{j} t^{ae}_{il} t^{bc}_{km} v^{lm}_{de} + \\\\frac{t^{d}_{j} t^{ae}_{ik} t^{bc}_{lm} v^{lm}_{de}}{2} + t^{d}_{j} t^{ae}_{ik} v^{bc}_{de} + t^{d}_{j} t^{ae}_{kl} t^{bc}_{im} v^{lm}_{de} + \\\\frac{t^{d}_{j} t^{ab}_{lm} t^{ce}_{ik} v^{lm}_{de}}{2} - t^{d}_{j} t^{ab}_{il} t^{ce}_{km} v^{lm}_{de} - t^{d}_{j} t^{ab}_{il} v^{cl}_{kd} + t^{d}_{j} t^{ab}_{kl} t^{ce}_{im} v^{lm}_{de} + t^{d}_{j} t^{ab}_{kl} v^{cl}_{id} - \\\\frac{t^{d}_{j} t^{ac}_{lm} t^{be}_{ik} v^{lm}_{de}}{2} + t^{d}_{j} t^{ac}_{il} t^{be}_{km} v^{lm}_{de} + t^{d}_{j} t^{ac}_{il} v^{bl}_{kd} - t^{d}_{j} t^{ac}_{kl} t^{be}_{im} v^{lm}_{de} - t^{d}_{j} t^{ac}_{kl} v^{bl}_{id} - t^{d}_{j} t^{be}_{ik} v^{ac}_{de} - t^{d}_{j} t^{bc}_{il} v^{al}_{kd} + t^{d}_{j} t^{bc}_{kl} v^{al}_{id} + t^{d}_{j} t^{ce}_{ik} v^{ab}_{de} - t^{d}_{j} t^{abe}_{ikl} v^{cl}_{de} - \\\\frac{t^{d}_{j} t^{abc}_{ilm} v^{lm}_{kd}}{2} + \\\\frac{t^{d}_{j} t^{abc}_{klm} v^{lm}_{id}}{2} + t^{d}_{j} t^{ace}_{ikl} v^{bl}_{de} - t^{d}_{j} t^{bce}_{ikl} v^{al}_{de} - t^{d}_{k} t^{a}_{l} t^{b}_{m} t^{ce}_{ij} v^{lm}_{de} + t^{d}_{k} t^{a}_{l} t^{c}_{m} t^{be}_{ij} v^{lm}_{de} + t^{d}_{k} t^{a}_{l} t^{be}_{ij} v^{cl}_{de} - t^{d}_{k} t^{a}_{l} t^{bc}_{im} v^{lm}_{jd} + t^{d}_{k} t^{a}_{l} t^{bc}_{jm} v^{lm}_{id} - t^{d}_{k} t^{a}_{l} t^{ce}_{ij} v^{bl}_{de} - t^{d}_{k} t^{a}_{l} t^{bce}_{ijm} v^{lm}_{de} - t^{d}_{k} t^{b}_{l} t^{c}_{m} t^{ae}_{ij} v^{lm}_{de} - t^{d}_{k} t^{b}_{l} t^{ae}_{ij} v^{cl}_{de} + t^{d}_{k} t^{b}_{l} t^{ce}_{ij} v^{al}_{de} - t^{d}_{k} t^{b}_{m} t^{ac}_{il} v^{lm}_{jd} + t^{d}_{k} t^{b}_{m} t^{ac}_{jl} v^{lm}_{id} - t^{d}_{k} t^{b}_{m} t^{ace}_{ijl} v^{lm}_{de} + t^{d}_{k} t^{c}_{l} t^{ae}_{ij} v^{bl}_{de} - t^{d}_{k} t^{c}_{l} t^{be}_{ij} v^{al}_{de} + t^{d}_{k} t^{c}_{m} t^{ab}_{il} v^{lm}_{jd} - t^{d}_{k} t^{c}_{m} t^{ab}_{jl} v^{lm}_{id} + t^{d}_{k} t^{c}_{m} t^{abe}_{ijl} v^{lm}_{de} + t^{d}_{k} t^{ae}_{il} t^{bc}_{jm} v^{lm}_{de} - \\\\frac{t^{d}_{k} t^{ae}_{ij} t^{bc}_{lm} v^{lm}_{de}}{2} - t^{d}_{k} t^{ae}_{ij} v^{bc}_{de} - t^{d}_{k} t^{ae}_{jl} t^{bc}_{im} v^{lm}_{de} - \\\\frac{t^{d}_{k} t^{ab}_{lm} t^{ce}_{ij} v^{lm}_{de}}{2} + t^{d}_{k} t^{ab}_{il} t^{ce}_{jm} v^{lm}_{de} + t^{d}_{k} t^{ab}_{il} v^{cl}_{jd} - t^{d}_{k} t^{ab}_{jl} t^{ce}_{im} v^{lm}_{de} - t^{d}_{k} t^{ab}_{jl} v^{cl}_{id} + \\\\frac{t^{d}_{k} t^{ac}_{lm} t^{be}_{ij} v^{lm}_{de}}{2} - t^{d}_{k} t^{ac}_{il} t^{be}_{jm} v^{lm}_{de} - t^{d}_{k} t^{ac}_{il} v^{bl}_{jd} + t^{d}_{k} t^{ac}_{jl} t^{be}_{im} v^{lm}_{de} + t^{d}_{k} t^{ac}_{jl} v^{bl}_{id} + t^{d}_{k} t^{be}_{ij} v^{ac}_{de} + t^{d}_{k} t^{bc}_{il} v^{al}_{jd} - t^{d}_{k} t^{bc}_{jl} v^{al}_{id} - t^{d}_{k} t^{ce}_{ij} v^{ab}_{de} + t^{d}_{k} t^{abe}_{ijl} v^{cl}_{de} + \\\\frac{t^{d}_{k} t^{abc}_{ilm} v^{lm}_{jd}}{2} - \\\\frac{t^{d}_{k} t^{abc}_{jlm} v^{lm}_{id}}{2} - t^{d}_{k} t^{ace}_{ijl} v^{bl}_{de} + t^{d}_{k} t^{bce}_{ijl} v^{al}_{de} - t^{a}_{l} t^{b}_{m} t^{cd}_{ij} v^{lm}_{kd} + t^{a}_{l} t^{b}_{m} t^{cd}_{ik} v^{lm}_{jd} - t^{a}_{l} t^{b}_{m} t^{cd}_{jk} v^{lm}_{id} + \\\\frac{t^{a}_{l} t^{b}_{m} t^{cde}_{ijk} v^{lm}_{de}}{2} + t^{a}_{l} t^{c}_{m} t^{bd}_{ij} v^{lm}_{kd} - t^{a}_{l} t^{c}_{m} t^{bd}_{ik} v^{lm}_{jd} + t^{a}_{l} t^{c}_{m} t^{bd}_{jk} v^{lm}_{id} - \\\\frac{t^{a}_{l} t^{c}_{m} t^{bde}_{ijk} v^{lm}_{de}}{2} - \\\\frac{t^{a}_{l} t^{de}_{ij} t^{bc}_{km} v^{lm}_{de}}{2} + \\\\frac{t^{a}_{l} t^{de}_{ik} t^{bc}_{jm} v^{lm}_{de}}{2} - \\\\frac{t^{a}_{l} t^{de}_{jk} t^{bc}_{im} v^{lm}_{de}}{2} + t^{a}_{l} t^{bd}_{im} t^{ce}_{jk} v^{lm}_{de} + t^{a}_{l} t^{bd}_{ij} t^{ce}_{km} v^{lm}_{de} + t^{a}_{l} t^{bd}_{ij} v^{cl}_{kd} - t^{a}_{l} t^{bd}_{ik} t^{ce}_{jm} v^{lm}_{de} - t^{a}_{l} t^{bd}_{ik} v^{cl}_{jd} - t^{a}_{l} t^{bd}_{jm} t^{ce}_{ik} v^{lm}_{de} + t^{a}_{l} t^{bd}_{jk} t^{ce}_{im} v^{lm}_{de} + t^{a}_{l} t^{bd}_{jk} v^{cl}_{id} + t^{a}_{l} t^{bd}_{km} t^{ce}_{ij} v^{lm}_{de} - t^{a}_{l} t^{bc}_{im} v^{lm}_{jk} + t^{a}_{l} t^{bc}_{jm} v^{lm}_{ik} - t^{a}_{l} t^{bc}_{km} v^{lm}_{ij} - t^{a}_{l} t^{cd}_{ij} v^{bl}_{kd} + t^{a}_{l} t^{cd}_{ik} v^{bl}_{jd} - t^{a}_{l} t^{cd}_{jk} v^{bl}_{id} - \\\\frac{t^{a}_{l} t^{bde}_{ijk} v^{cl}_{de}}{2} - t^{a}_{l} t^{bcd}_{ijm} v^{lm}_{kd} + t^{a}_{l} t^{bcd}_{ikm} v^{lm}_{jd} - t^{a}_{l} t^{bcd}_{jkm} v^{lm}_{id} + \\\\frac{t^{a}_{l} t^{cde}_{ijk} v^{bl}_{de}}{2} - t^{b}_{l} t^{c}_{m} t^{ad}_{ij} v^{lm}_{kd} + t^{b}_{l} t^{c}_{m} t^{ad}_{ik} v^{lm}_{jd} - t^{b}_{l} t^{c}_{m} t^{ad}_{jk} v^{lm}_{id} + \\\\frac{t^{b}_{l} t^{c}_{m} t^{ade}_{ijk} v^{lm}_{de}}{2} - t^{b}_{l} t^{ad}_{ij} t^{ce}_{km} v^{lm}_{de} - t^{b}_{l} t^{ad}_{ij} v^{cl}_{kd} + t^{b}_{l} t^{ad}_{ik} t^{ce}_{jm} v^{lm}_{de} + t^{b}_{l} t^{ad}_{ik} v^{cl}_{jd} - t^{b}_{l} t^{ad}_{jk} t^{ce}_{im} v^{lm}_{de} - t^{b}_{l} t^{ad}_{jk} v^{cl}_{id} + t^{b}_{l} t^{cd}_{ij} v^{al}_{kd} - t^{b}_{l} t^{cd}_{ik} v^{al}_{jd} + t^{b}_{l} t^{cd}_{jk} v^{al}_{id} + \\\\frac{t^{b}_{l} t^{ade}_{ijk} v^{cl}_{de}}{2} - \\\\frac{t^{b}_{l} t^{cde}_{ijk} v^{al}_{de}}{2} - \\\\frac{t^{b}_{m} t^{de}_{ij} t^{ac}_{kl} v^{lm}_{de}}{2} + \\\\frac{t^{b}_{m} t^{de}_{ik} t^{ac}_{jl} v^{lm}_{de}}{2} - \\\\frac{t^{b}_{m} t^{de}_{jk} t^{ac}_{il} v^{lm}_{de}}{2} + t^{b}_{m} t^{ad}_{il} t^{ce}_{jk} v^{lm}_{de} - t^{b}_{m} t^{ad}_{jl} t^{ce}_{ik} v^{lm}_{de} + t^{b}_{m} t^{ad}_{kl} t^{ce}_{ij} v^{lm}_{de} - t^{b}_{m} t^{ac}_{il} v^{lm}_{jk} + t^{b}_{m} t^{ac}_{jl} v^{lm}_{ik} - t^{b}_{m} t^{ac}_{kl} v^{lm}_{ij} - t^{b}_{m} t^{acd}_{ijl} v^{lm}_{kd} + t^{b}_{m} t^{acd}_{ikl} v^{lm}_{jd} - t^{b}_{m} t^{acd}_{jkl} v^{lm}_{id} + t^{c}_{l} t^{ad}_{ij} v^{bl}_{kd} - t^{c}_{l} t^{ad}_{ik} v^{bl}_{jd} + t^{c}_{l} t^{ad}_{jk} v^{bl}_{id} - t^{c}_{l} t^{bd}_{ij} v^{al}_{kd} + t^{c}_{l} t^{bd}_{ik} v^{al}_{jd} - t^{c}_{l} t^{bd}_{jk} v^{al}_{id} - \\\\frac{t^{c}_{l} t^{ade}_{ijk} v^{bl}_{de}}{2} + \\\\frac{t^{c}_{l} t^{bde}_{ijk} v^{al}_{de}}{2} + \\\\frac{t^{c}_{m} t^{de}_{ij} t^{ab}_{kl} v^{lm}_{de}}{2} - \\\\frac{t^{c}_{m} t^{de}_{ik} t^{ab}_{jl} v^{lm}_{de}}{2} + \\\\frac{t^{c}_{m} t^{de}_{jk} t^{ab}_{il} v^{lm}_{de}}{2} - t^{c}_{m} t^{ad}_{il} t^{be}_{jk} v^{lm}_{de} - t^{c}_{m} t^{ad}_{ij} t^{be}_{kl} v^{lm}_{de} + t^{c}_{m} t^{ad}_{ik} t^{be}_{jl} v^{lm}_{de} + t^{c}_{m} t^{ad}_{jl} t^{be}_{ik} v^{lm}_{de} - t^{c}_{m} t^{ad}_{jk} t^{be}_{il} v^{lm}_{de} - t^{c}_{m} t^{ad}_{kl} t^{be}_{ij} v^{lm}_{de} + t^{c}_{m} t^{ab}_{il} v^{lm}_{jk} - t^{c}_{m} t^{ab}_{jl} v^{lm}_{ik} + t^{c}_{m} t^{ab}_{kl} v^{lm}_{ij} + t^{c}_{m} t^{abd}_{ijl} v^{lm}_{kd} - t^{c}_{m} t^{abd}_{ikl} v^{lm}_{jd} + t^{c}_{m} t^{abd}_{jkl} v^{lm}_{id} + \\\\frac{t^{de}_{il} t^{abc}_{jkm} v^{lm}_{de}}{2} + \\\\frac{t^{de}_{ij} t^{ab}_{kl} v^{cl}_{de}}{2} - \\\\frac{t^{de}_{ij} t^{ac}_{kl} v^{bl}_{de}}{2} + \\\\frac{t^{de}_{ij} t^{bc}_{kl} v^{al}_{de}}{2} + \\\\frac{t^{de}_{ij} t^{abc}_{klm} v^{lm}_{de}}{4} - \\\\frac{t^{de}_{ik} t^{ab}_{jl} v^{cl}_{de}}{2} + \\\\frac{t^{de}_{ik} t^{ac}_{jl} v^{bl}_{de}}{2} - \\\\frac{t^{de}_{ik} t^{bc}_{jl} v^{al}_{de}}{2} - \\\\frac{t^{de}_{ik} t^{abc}_{jlm} v^{lm}_{de}}{4} - \\\\frac{t^{de}_{jl} t^{abc}_{ikm} v^{lm}_{de}}{2} + \\\\frac{t^{de}_{jk} t^{ab}_{il} v^{cl}_{de}}{2} - \\\\frac{t^{de}_{jk} t^{ac}_{il} v^{bl}_{de}}{2} + \\\\frac{t^{de}_{jk} t^{bc}_{il} v^{al}_{de}}{2} + \\\\frac{t^{de}_{jk} t^{abc}_{ilm} v^{lm}_{de}}{4} + \\\\frac{t^{de}_{kl} t^{abc}_{ijm} v^{lm}_{de}}{2} + \\\\frac{t^{ad}_{lm} t^{bce}_{ijk} v^{lm}_{de}}{2} - t^{ad}_{il} t^{be}_{jk} v^{cl}_{de} + t^{ad}_{il} t^{bc}_{jm} v^{lm}_{kd} - t^{ad}_{il} t^{bc}_{km} v^{lm}_{jd} + t^{ad}_{il} t^{ce}_{jk} v^{bl}_{de} + t^{ad}_{il} t^{bce}_{jkm} v^{lm}_{de} - t^{ad}_{ij} t^{be}_{kl} v^{cl}_{de} - \\\\frac{t^{ad}_{ij} t^{bc}_{lm} v^{lm}_{kd}}{2} + t^{ad}_{ij} t^{ce}_{kl} v^{bl}_{de} + \\\\frac{t^{ad}_{ij} t^{bce}_{klm} v^{lm}_{de}}{2} - t^{ad}_{ij} v^{bc}_{kd} + t^{ad}_{ik} t^{be}_{jl} v^{cl}_{de} + \\\\frac{t^{ad}_{ik} t^{bc}_{lm} v^{lm}_{jd}}{2} - t^{ad}_{ik} t^{ce}_{jl} v^{bl}_{de} - \\\\frac{t^{ad}_{ik} t^{bce}_{jlm} v^{lm}_{de}}{2} + t^{ad}_{ik} v^{bc}_{jd} + t^{ad}_{jl} t^{be}_{ik} v^{cl}_{de} - t^{ad}_{jl} t^{bc}_{im} v^{lm}_{kd} + t^{ad}_{jl} t^{bc}_{km} v^{lm}_{id} - t^{ad}_{jl} t^{ce}_{ik} v^{bl}_{de} - t^{ad}_{jl} t^{bce}_{ikm} v^{lm}_{de} - t^{ad}_{jk} t^{be}_{il} v^{cl}_{de} - \\\\frac{t^{ad}_{jk} t^{bc}_{lm} v^{lm}_{id}}{2} + t^{ad}_{jk} t^{ce}_{il} v^{bl}_{de} + \\\\frac{t^{ad}_{jk} t^{bce}_{ilm} v^{lm}_{de}}{2} - t^{ad}_{jk} v^{bc}_{id} - t^{ad}_{kl} t^{be}_{ij} v^{cl}_{de} + t^{ad}_{kl} t^{bc}_{im} v^{lm}_{jd} - t^{ad}_{kl} t^{bc}_{jm} v^{lm}_{id} + t^{ad}_{kl} t^{ce}_{ij} v^{bl}_{de} + t^{ad}_{kl} t^{bce}_{ijm} v^{lm}_{de} - \\\\frac{t^{ab}_{lm} t^{cd}_{ij} v^{lm}_{kd}}{2} + \\\\frac{t^{ab}_{lm} t^{cd}_{ik} v^{lm}_{jd}}{2} - \\\\frac{t^{ab}_{lm} t^{cd}_{jk} v^{lm}_{id}}{2} + \\\\frac{t^{ab}_{lm} t^{cde}_{ijk} v^{lm}_{de}}{4} + t^{ab}_{il} t^{cd}_{jm} v^{lm}_{kd} - t^{ab}_{il} t^{cd}_{km} v^{lm}_{jd} + \\\\frac{t^{ab}_{il} t^{cde}_{jkm} v^{lm}_{de}}{2} + t^{ab}_{il} v^{cl}_{jk} - t^{ab}_{jl} t^{cd}_{im} v^{lm}_{kd} + t^{ab}_{jl} t^{cd}_{km} v^{lm}_{id} - \\\\frac{t^{ab}_{jl} t^{cde}_{ikm} v^{lm}_{de}}{2} - t^{ab}_{jl} v^{cl}_{ik} + t^{ab}_{kl} t^{cd}_{im} v^{lm}_{jd} - t^{ab}_{kl} t^{cd}_{jm} v^{lm}_{id} + \\\\frac{t^{ab}_{kl} t^{cde}_{ijm} v^{lm}_{de}}{2} + t^{ab}_{kl} v^{cl}_{ij} + \\\\frac{t^{ac}_{lm} t^{bd}_{ij} v^{lm}_{kd}}{2} - \\\\frac{t^{ac}_{lm} t^{bd}_{ik} v^{lm}_{jd}}{2} + \\\\frac{t^{ac}_{lm} t^{bd}_{jk} v^{lm}_{id}}{2} - \\\\frac{t^{ac}_{lm} t^{bde}_{ijk} v^{lm}_{de}}{4} - t^{ac}_{il} t^{bd}_{jm} v^{lm}_{kd} + t^{ac}_{il} t^{bd}_{km} v^{lm}_{jd} - \\\\frac{t^{ac}_{il} t^{bde}_{jkm} v^{lm}_{de}}{2} - t^{ac}_{il} v^{bl}_{jk} + t^{ac}_{jl} t^{bd}_{im} v^{lm}_{kd} - t^{ac}_{jl} t^{bd}_{km} v^{lm}_{id} + \\\\frac{t^{ac}_{jl} t^{bde}_{ikm} v^{lm}_{de}}{2} + t^{ac}_{jl} v^{bl}_{ik} - t^{ac}_{kl} t^{bd}_{im} v^{lm}_{jd} + t^{ac}_{kl} t^{bd}_{jm} v^{lm}_{id} - \\\\frac{t^{ac}_{kl} t^{bde}_{ijm} v^{lm}_{de}}{2} - t^{ac}_{kl} v^{bl}_{ij} - t^{bd}_{il} t^{ce}_{jk} v^{al}_{de} - t^{bd}_{ij} t^{ce}_{kl} v^{al}_{de} + t^{bd}_{ij} v^{ac}_{kd} + t^{bd}_{ik} t^{ce}_{jl} v^{al}_{de} - t^{bd}_{ik} v^{ac}_{jd} + t^{bd}_{jl} t^{ce}_{ik} v^{al}_{de} - t^{bd}_{jk} t^{ce}_{il} v^{al}_{de} + t^{bd}_{jk} v^{ac}_{id} - t^{bd}_{kl} t^{ce}_{ij} v^{al}_{de} + \\\\frac{t^{be}_{lm} t^{acd}_{ijk} v^{lm}_{de}}{2} - t^{be}_{im} t^{acd}_{jkl} v^{lm}_{de} + \\\\frac{t^{be}_{ij} t^{acd}_{klm} v^{lm}_{de}}{2} - \\\\frac{t^{be}_{ik} t^{acd}_{jlm} v^{lm}_{de}}{2} + t^{be}_{jm} t^{acd}_{ikl} v^{lm}_{de} + \\\\frac{t^{be}_{jk} t^{acd}_{ilm} v^{lm}_{de}}{2} - t^{be}_{km} t^{acd}_{ijl} v^{lm}_{de} + \\\\frac{t^{bc}_{lm} t^{ade}_{ijk} v^{lm}_{de}}{4} + t^{bc}_{il} v^{al}_{jk} - \\\\frac{t^{bc}_{im} t^{ade}_{jkl} v^{lm}_{de}}{2} - t^{bc}_{jl} v^{al}_{ik} + \\\\frac{t^{bc}_{jm} t^{ade}_{ikl} v^{lm}_{de}}{2} + t^{bc}_{kl} v^{al}_{ij} - \\\\frac{t^{bc}_{km} t^{ade}_{ijl} v^{lm}_{de}}{2} - t^{cd}_{ij} v^{ab}_{kd} + t^{cd}_{ik} v^{ab}_{jd} - t^{cd}_{jk} v^{ab}_{id} - \\\\frac{t^{ce}_{lm} t^{abd}_{ijk} v^{lm}_{de}}{2} + t^{ce}_{im} t^{abd}_{jkl} v^{lm}_{de} - \\\\frac{t^{ce}_{ij} t^{abd}_{klm} v^{lm}_{de}}{2} + \\\\frac{t^{ce}_{ik} t^{abd}_{jlm} v^{lm}_{de}}{2} - t^{ce}_{jm} t^{abd}_{ikl} v^{lm}_{de} - \\\\frac{t^{ce}_{jk} t^{abd}_{ilm} v^{lm}_{de}}{2} + t^{ce}_{km} t^{abd}_{ijl} v^{lm}_{de} + \\\\frac{t^{ade}_{ijk} v^{bc}_{de}}{2} + t^{abd}_{ijl} v^{cl}_{kd} - t^{abd}_{ikl} v^{cl}_{jd} + t^{abd}_{jkl} v^{cl}_{id} + \\\\frac{t^{abc}_{ilm} v^{lm}_{jk}}{2} - \\\\frac{t^{abc}_{jlm} v^{lm}_{ik}}{2} + \\\\frac{t^{abc}_{klm} v^{lm}_{ij}}{2} - t^{acd}_{ijl} v^{bl}_{kd} + t^{acd}_{ikl} v^{bl}_{jd} - t^{acd}_{jkl} v^{bl}_{id} - \\\\frac{t^{bde}_{ijk} v^{ac}_{de}}{2} + t^{bcd}_{ijl} v^{al}_{kd} - t^{bcd}_{ikl} v^{al}_{jd} + t^{bcd}_{jkl} v^{al}_{id} + \\\\frac{t^{cde}_{ijk} v^{ab}_{de}}{2}'"
      ]
     },
     "execution_count": 33,
     "metadata": {},
     "output_type": "execute_result"
    }
   ],
   "source": [
    "latex(eqT3)"
   ]
  },
  {
   "cell_type": "markdown",
   "metadata": {},
   "source": [
    "$\\bullet$ Simplify"
   ]
  },
  {
   "cell_type": "code",
   "execution_count": 32,
   "metadata": {},
   "outputs": [
    {
     "ename": "TypeError",
     "evalue": "simplify() got an unexpected keyword argument 'show_progress'",
     "output_type": "error",
     "traceback": [
      "\u001b[0;31m---------------------------------------------------------------------------\u001b[0m",
      "\u001b[0;31mTypeError\u001b[0m                                 Traceback (most recent call last)",
      "\u001b[0;32m<ipython-input-32-a75aac1f2b6e>\u001b[0m in \u001b[0;36m<module>\u001b[0;34m\u001b[0m\n\u001b[0;32m----> 1\u001b[0;31m \u001b[0mT3\u001b[0m \u001b[0;34m=\u001b[0m \u001b[0mT3\u001b[0m\u001b[0;34m.\u001b[0m\u001b[0msimplify\u001b[0m\u001b[0;34m(\u001b[0m\u001b[0mshow_progress\u001b[0m\u001b[0;34m=\u001b[0m\u001b[0;32mTrue\u001b[0m\u001b[0;34m)\u001b[0m\u001b[0;34m\u001b[0m\u001b[0;34m\u001b[0m\u001b[0m\n\u001b[0m",
      "\u001b[0;31mTypeError\u001b[0m: simplify() got an unexpected keyword argument 'show_progress'"
     ]
    }
   ],
   "source": [
    "T3 = T3.simplify(show_progress=True)"
   ]
  },
  {
   "cell_type": "code",
   "execution_count": null,
   "metadata": {},
   "outputs": [],
   "source": [
    "T3.sort()"
   ]
  },
  {
   "cell_type": "code",
   "execution_count": null,
   "metadata": {},
   "outputs": [],
   "source": [
    "pT3 = process_eq(T3,i,j,k,a,b,c, name = 'newT3', tensor_labels = mytensors)\n",
    "pT3.write_einsums_out(print_out=True)"
   ]
  },
  {
   "cell_type": "markdown",
   "metadata": {},
   "source": [
    "## The equations above can be coded into a CC program. See the RCCSDT.py file for a complete code"
   ]
  }
 ],
 "metadata": {
  "kernelspec": {
   "display_name": "Python 3",
   "language": "python",
   "name": "python3"
  },
  "language_info": {
   "codemirror_mode": {
    "name": "ipython",
    "version": 3
   },
   "file_extension": ".py",
   "mimetype": "text/x-python",
   "name": "python",
   "nbconvert_exporter": "python",
   "pygments_lexer": "ipython3",
   "version": "3.6.9"
  }
 },
 "nbformat": 4,
 "nbformat_minor": 2
}
