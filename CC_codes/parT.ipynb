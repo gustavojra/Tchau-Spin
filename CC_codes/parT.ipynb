{
 "cells": [
  {
   "cell_type": "code",
   "execution_count": 13,
   "metadata": {},
   "outputs": [],
   "source": [
    "from tchau_spin import *\n",
    "# For restricted CC\n",
    "Tensor.rhf = True"
   ]
  },
  {
   "cell_type": "code",
   "execution_count": 14,
   "metadata": {},
   "outputs": [],
   "source": [
    "i,j,k,l,a,b,c,d = Index.new('ijklabcd', 'bbbbbb', 'hhhhpppp')\n",
    "\n",
    "index_key = {'i':i,\n",
    "             'j':j,\n",
    "             'a':a,\n",
    "             'b':b,\n",
    "             'k':k,\n",
    "             'l':l,\n",
    "             'c':c,\n",
    "             'd':d\n",
    "}\n",
    "\n",
    "mytensors = {\n",
    "    'T_OoVv' : 'T2',\n",
    "    'V_OOOO' : 'Voooo',\n",
    "    'V_OOVV' : 'Vooov',\n",
    "    'V_OOVV' : 'Voovv',\n",
    "    'V_OVOV' : 'Vovov',\n",
    "    'V_OVVV' : 'Vovvv',\n",
    "    'V_VVVV' : 'Vvvvv',\n",
    "    'f_OO' : 'fock_OO',\n",
    "    'f_VV' : 'fock_VV',\n",
    "    'f_OV' : 'fock_OV'\n",
    "    \n",
    "}"
   ]
  },
  {
   "cell_type": "code",
   "execution_count": 15,
   "metadata": {},
   "outputs": [],
   "source": [
    "eq = 'f^{k}_{i} t^{ab}_{jk} - f^{k}_{j} t^{ab}_{ik} - f^{a}_{c} t^{bc}_{ij} + f^{b}_{c} t^{ac}_{ij} - \\\\frac{t^{cd}_{ik} t^{ab}_{jl} v^{kl}_{cd}}{2} + \\\\frac{t^{cd}_{ij} t^{ab}_{kl} v^{kl}_{cd}}{4} + \\\\frac{t^{cd}_{ij} v^{ab}_{cd}}{2} + \\\\frac{t^{cd}_{jk} t^{ab}_{il} v^{kl}_{cd}}{2} - \\\\frac{t^{ac}_{kl} t^{bd}_{ij} v^{kl}_{cd}}{2} + t^{ac}_{ik} t^{bd}_{jl} v^{kl}_{cd} + t^{ac}_{ik} v^{bk}_{jc} - \\\\frac{t^{ac}_{ij} t^{bd}_{kl} v^{kl}_{cd}}{2} - t^{ac}_{jk} t^{bd}_{il} v^{kl}_{cd} - t^{ac}_{jk} v^{bk}_{ic} + \\\\frac{t^{ab}_{kl} v^{kl}_{ij}}{2} - t^{bc}_{ik} v^{ak}_{jc} + t^{bc}_{jk} v^{ak}_{ic} + v^{ab}_{ij}'"
   ]
  },
  {
   "cell_type": "code",
   "execution_count": 16,
   "metadata": {},
   "outputs": [
    {
     "data": {
      "text/latex": [
       "$\\displaystyle -f_{IK}t_{Kj}^{Ab}+f_{IK}t_{Jk}^{Ab}+f_{JK}t_{Ki}^{Ab}-f_{JK}t_{Ik}^{Ab}+f_{CA}t_{Ji}^{Bc}-f_{CA}t_{Ij}^{Bc}-f_{CB}t_{Ji}^{Ac}+f_{CB}t_{Ij}^{Ac}-0.5t_{Ki}^{Cd}t_{Lj}^{Ab}\\langle KL|CD\\rangle+0.5t_{Ik}^{Cd}t_{Lj}^{Ab}\\langle KL|CD\\rangle+0.5t_{Ki}^{Cd}t_{Jl}^{Ab}\\langle KL|CD\\rangle-0.5t_{Ik}^{Cd}t_{Jl}^{Ab}\\langle KL|CD\\rangle+0.5t_{Ji}^{Cd}t_{Lk}^{Ab}\\langle KL|CD\\rangle-0.5t_{Ij}^{Cd}t_{Lk}^{Ab}\\langle KL|CD\\rangle-0.5t_{Ji}^{Cd}\\langle CD|AB\\rangle+0.5t_{Ij}^{Cd}\\langle CD|AB\\rangle+0.5t_{Kj}^{Cd}t_{Li}^{Ab}\\langle KL|CD\\rangle-0.5t_{Jk}^{Cd}t_{Li}^{Ab}\\langle KL|CD\\rangle-0.5t_{Kj}^{Cd}t_{Il}^{Ab}\\langle KL|CD\\rangle+0.5t_{Jk}^{Cd}t_{Il}^{Ab}\\langle KL|CD\\rangle-0.5t_{Lk}^{Ac}t_{Ji}^{Bd}\\langle KL|CD\\rangle+0.5t_{Kl}^{Ac}t_{Ji}^{Bd}\\langle KL|CD\\rangle+0.5t_{Lk}^{Ac}t_{Ij}^{Bd}\\langle KL|CD\\rangle-0.5t_{Kl}^{Ac}t_{Ij}^{Bd}\\langle KL|CD\\rangle+t_{Ki}^{Ac}t_{Lj}^{Bd}\\langle KL|CD\\rangle-t_{Ik}^{Ac}t_{Lj}^{Bd}\\langle KL|CD\\rangle-t_{Ki}^{Ac}t_{Jl}^{Bd}\\langle KL|CD\\rangle+t_{Ik}^{Ac}t_{Jl}^{Bd}\\langle KL|CD\\rangle-t_{Ki}^{Ac}\\langle KJ|CB\\rangle+t_{Ik}^{Ac}\\langle KJ|CB\\rangle-0.5t_{Ji}^{Ac}t_{Lk}^{Bd}\\langle KL|CD\\rangle+0.5t_{Ij}^{Ac}t_{Lk}^{Bd}\\langle KL|CD\\rangle+0.5t_{Ji}^{Ac}t_{Kl}^{Bd}\\langle KL|CD\\rangle-0.5t_{Ij}^{Ac}t_{Kl}^{Bd}\\langle KL|CD\\rangle-t_{Kj}^{Ac}t_{Li}^{Bd}\\langle KL|CD\\rangle+t_{Jk}^{Ac}t_{Li}^{Bd}\\langle KL|CD\\rangle+t_{Kj}^{Ac}t_{Il}^{Bd}\\langle KL|CD\\rangle-t_{Jk}^{Ac}t_{Il}^{Bd}\\langle KL|CD\\rangle+t_{Kj}^{Ac}\\langle KI|CB\\rangle-t_{Jk}^{Ac}\\langle KI|CB\\rangle-0.5t_{Lk}^{Ab}\\langle IJ|KL\\rangle+0.5t_{Kl}^{Ab}\\langle IJ|KL\\rangle+t_{Ki}^{Bc}\\langle KJ|CA\\rangle-t_{Ik}^{Bc}\\langle KJ|CA\\rangle-t_{Kj}^{Bc}\\langle KI|CA\\rangle+t_{Jk}^{Bc}\\langle KI|CA\\rangle+\\langle IJ|AB\\rangle$"
      ],
      "text/plain": [
       "<IPython.core.display.Math object>"
      ]
     },
     "metadata": {},
     "output_type": "display_data"
    }
   ],
   "source": [
    "T2 = eqfromlatex(eq, index_key, antisymmetric=False)\n",
    "T2 = T2.simplify()\n",
    "T2 = T2.adapt_space()\n",
    "platex(T2)"
   ]
  },
  {
   "cell_type": "code",
   "execution_count": 19,
   "metadata": {},
   "outputs": [
    {
     "name": "stdout",
     "output_type": "stream",
     "text": [
      "newT2_1i2j = view(newT2,i,j,:,:)\n",
      "fock_OO_1i = view(fock_OO,i,:)\n",
      "T2_2j = view(T2,:,j,:,:)\n",
      "T2_1j = view(T2,j,:,:,:)\n",
      "fock_OO_1j = view(fock_OO,j,:)\n",
      "T2_2i = view(T2,:,i,:,:)\n",
      "T2_1i = view(T2,i,:,:,:)\n",
      "T2_1j2i = view(T2,j,i,:,:)\n",
      "T2_1i2j = view(T2,i,j,:,:)\n",
      "Voovv_2j = view(Voovv,:,j,:,:)\n",
      "Voovv_2i = view(Voovv,:,i,:,:)\n",
      "Voooo_1i2j = view(Voooo,i,j,:,:)\n",
      "Voovv_1i2j = view(Voovv,i,j,:,:)\n",
      "\n",
      "\n",
      "newT2_1i2j[a,b] -= fock_OO_1i[k]*T2_2j[k,a,b]\n",
      "newT2_1i2j[a,b] += fock_OO_1i[k]*T2_1j[k,a,b]\n",
      "newT2_1i2j[a,b] += fock_OO_1j[k]*T2_2i[k,a,b]\n",
      "newT2_1i2j[a,b] -= fock_OO_1j[k]*T2_1i[k,a,b]\n",
      "newT2_1i2j[a,b] += fock_VV[c,a]*T2_1j2i[b,c]\n",
      "newT2_1i2j[a,b] -= fock_VV[c,a]*T2_1i2j[b,c]\n",
      "newT2_1i2j[a,b] -= fock_VV[c,b]*T2_1j2i[a,c]\n",
      "newT2_1i2j[a,b] += fock_VV[c,b]*T2_1i2j[a,c]\n",
      "newT2_1i2j[a,b] += -0.5*T2_2i[k,c,d]*T2_2j[l,a,b]*Voovv[k,l,c,d]\n",
      "newT2_1i2j[a,b] += 0.5*T2_1i[k,c,d]*T2_2j[l,a,b]*Voovv[k,l,c,d]\n",
      "newT2_1i2j[a,b] += 0.5*T2_2i[k,c,d]*T2_1j[l,a,b]*Voovv[k,l,c,d]\n",
      "newT2_1i2j[a,b] += -0.5*T2_1i[k,c,d]*T2_1j[l,a,b]*Voovv[k,l,c,d]\n",
      "newT2_1i2j[a,b] += 0.5*T2_1j2i[c,d]*T2[l,k,a,b]*Voovv[k,l,c,d]\n",
      "newT2_1i2j[a,b] += -0.5*T2_1i2j[c,d]*T2[l,k,a,b]*Voovv[k,l,c,d]\n",
      "newT2_1i2j[a,b] += -0.5*T2_1j2i[c,d]*Vvvvv[c,d,a,b]\n",
      "newT2_1i2j[a,b] += 0.5*T2_1i2j[c,d]*Vvvvv[c,d,a,b]\n",
      "newT2_1i2j[a,b] += 0.5*T2_2j[k,c,d]*T2_2i[l,a,b]*Voovv[k,l,c,d]\n",
      "newT2_1i2j[a,b] += -0.5*T2_1j[k,c,d]*T2_2i[l,a,b]*Voovv[k,l,c,d]\n",
      "newT2_1i2j[a,b] += -0.5*T2_2j[k,c,d]*T2_1i[l,a,b]*Voovv[k,l,c,d]\n",
      "newT2_1i2j[a,b] += 0.5*T2_1j[k,c,d]*T2_1i[l,a,b]*Voovv[k,l,c,d]\n",
      "newT2_1i2j[a,b] += -0.5*T2[l,k,a,c]*T2_1j2i[b,d]*Voovv[k,l,c,d]\n",
      "newT2_1i2j[a,b] += 0.5*T2[k,l,a,c]*T2_1j2i[b,d]*Voovv[k,l,c,d]\n",
      "newT2_1i2j[a,b] += 0.5*T2[l,k,a,c]*T2_1i2j[b,d]*Voovv[k,l,c,d]\n",
      "newT2_1i2j[a,b] += -0.5*T2[k,l,a,c]*T2_1i2j[b,d]*Voovv[k,l,c,d]\n",
      "newT2_1i2j[a,b] += T2_2i[k,a,c]*T2_2j[l,b,d]*Voovv[k,l,c,d]\n",
      "newT2_1i2j[a,b] -= T2_1i[k,a,c]*T2_2j[l,b,d]*Voovv[k,l,c,d]\n",
      "newT2_1i2j[a,b] -= T2_2i[k,a,c]*T2_1j[l,b,d]*Voovv[k,l,c,d]\n",
      "newT2_1i2j[a,b] += T2_1i[k,a,c]*T2_1j[l,b,d]*Voovv[k,l,c,d]\n",
      "newT2_1i2j[a,b] -= T2_2i[k,a,c]*Voovv_2j[k,c,b]\n",
      "newT2_1i2j[a,b] += T2_1i[k,a,c]*Voovv_2j[k,c,b]\n",
      "newT2_1i2j[a,b] += -0.5*T2_1j2i[a,c]*T2[l,k,b,d]*Voovv[k,l,c,d]\n",
      "newT2_1i2j[a,b] += 0.5*T2_1i2j[a,c]*T2[l,k,b,d]*Voovv[k,l,c,d]\n",
      "newT2_1i2j[a,b] += 0.5*T2_1j2i[a,c]*T2[k,l,b,d]*Voovv[k,l,c,d]\n",
      "newT2_1i2j[a,b] += -0.5*T2_1i2j[a,c]*T2[k,l,b,d]*Voovv[k,l,c,d]\n",
      "newT2_1i2j[a,b] -= T2_2j[k,a,c]*T2_2i[l,b,d]*Voovv[k,l,c,d]\n",
      "newT2_1i2j[a,b] += T2_1j[k,a,c]*T2_2i[l,b,d]*Voovv[k,l,c,d]\n",
      "newT2_1i2j[a,b] += T2_2j[k,a,c]*T2_1i[l,b,d]*Voovv[k,l,c,d]\n",
      "newT2_1i2j[a,b] -= T2_1j[k,a,c]*T2_1i[l,b,d]*Voovv[k,l,c,d]\n",
      "newT2_1i2j[a,b] += T2_2j[k,a,c]*Voovv_2i[k,c,b]\n",
      "newT2_1i2j[a,b] -= T2_1j[k,a,c]*Voovv_2i[k,c,b]\n",
      "newT2_1i2j[a,b] += -0.5*T2[l,k,a,b]*Voooo_1i2j[k,l]\n",
      "newT2_1i2j[a,b] += 0.5*T2[k,l,a,b]*Voooo_1i2j[k,l]\n",
      "newT2_1i2j[a,b] += T2_2i[k,b,c]*Voovv_2j[k,c,a]\n",
      "newT2_1i2j[a,b] -= T2_1i[k,b,c]*Voovv_2j[k,c,a]\n",
      "newT2_1i2j[a,b] -= T2_2j[k,b,c]*Voovv_2i[k,c,a]\n",
      "newT2_1i2j[a,b] += T2_1j[k,b,c]*Voovv_2i[k,c,a]\n",
      "newT2_1i2j[a,b] += Voovv_1i2j[a,b]\n"
     ]
    }
   ],
   "source": [
    "pT2 = eq_to_julia(T2,i,j,a,b, name = 'newT2', tensor_labels = mytensors)\n",
    "x = pT2.write_tensorop_out(print_out=True, pull_index_out = ['i', 'j'])"
   ]
  }
 ],
 "metadata": {
  "kernelspec": {
   "display_name": "Python 3",
   "language": "python",
   "name": "python3"
  },
  "language_info": {
   "codemirror_mode": {
    "name": "ipython",
    "version": 3
   },
   "file_extension": ".py",
   "mimetype": "text/x-python",
   "name": "python",
   "nbconvert_exporter": "python",
   "pygments_lexer": "ipython3",
   "version": "3.6.8"
  }
 },
 "nbformat": 4,
 "nbformat_minor": 2
}
