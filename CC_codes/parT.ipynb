{
 "cells": [
  {
   "cell_type": "code",
   "execution_count": 1,
   "metadata": {},
   "outputs": [],
   "source": [
    "from tchau_spin import *\n",
    "# For restricted CC\n",
    "Tensor.rhf = True"
   ]
  },
  {
   "cell_type": "code",
   "execution_count": 10,
   "metadata": {},
   "outputs": [],
   "source": [
    "i,j,k,l,a,b,c,d = Index.new('ijklabcd', 'bbbbbb', 'hhhhpppp')\n",
    "\n",
    "index_key = {'i':i,\n",
    "             'j':j,\n",
    "             'a':a,\n",
    "             'b':b,\n",
    "             'k':k,\n",
    "             'l':l,\n",
    "             'c':c,\n",
    "             'd':d\n",
    "}\n",
    "\n",
    "mytensors = {\n",
    "    'T_OoVv' : 'T2',\n",
    "    'V_OOOO' : 'Voooo',\n",
    "    'V_OOVV' : 'Vooov',\n",
    "    'V_OOVV' : 'Voovv',\n",
    "    'V_OVOV' : 'Vovov',\n",
    "    'V_OVVV' : 'Vovvv',\n",
    "    'V_VVVV' : 'Vvvvv',\n",
    "    'f_OO' : 'fock_OO',\n",
    "    'f_VV' : 'fock_VV',\n",
    "    'f_OV' : 'fock_OV'\n",
    "    \n",
    "}"
   ]
  },
  {
   "cell_type": "code",
   "execution_count": 11,
   "metadata": {},
   "outputs": [],
   "source": [
    "eq = 'f^{k}_{i} t^{ab}_{jk} - f^{k}_{j} t^{ab}_{ik} - f^{a}_{c} t^{bc}_{ij} + f^{b}_{c} t^{ac}_{ij} - \\\\frac{t^{cd}_{ik} t^{ab}_{jl} v^{kl}_{cd}}{2} + \\\\frac{t^{cd}_{ij} t^{ab}_{kl} v^{kl}_{cd}}{4} + \\\\frac{t^{cd}_{ij} v^{ab}_{cd}}{2} + \\\\frac{t^{cd}_{jk} t^{ab}_{il} v^{kl}_{cd}}{2} - \\\\frac{t^{ac}_{kl} t^{bd}_{ij} v^{kl}_{cd}}{2} + t^{ac}_{ik} t^{bd}_{jl} v^{kl}_{cd} + t^{ac}_{ik} v^{bk}_{jc} - \\\\frac{t^{ac}_{ij} t^{bd}_{kl} v^{kl}_{cd}}{2} - t^{ac}_{jk} t^{bd}_{il} v^{kl}_{cd} - t^{ac}_{jk} v^{bk}_{ic} + \\\\frac{t^{ab}_{kl} v^{kl}_{ij}}{2} - t^{bc}_{ik} v^{ak}_{jc} + t^{bc}_{jk} v^{ak}_{ic} + v^{ab}_{ij}'"
   ]
  },
  {
   "cell_type": "code",
   "execution_count": 12,
   "metadata": {},
   "outputs": [
    {
     "data": {
      "text/latex": [
       "$\\displaystyle -f_{IK}t_{Kj}^{Ab}+f_{IK}t_{Jk}^{Ab}+f_{JK}t_{Ki}^{Ab}-f_{JK}t_{Ik}^{Ab}+f_{CA}t_{Ji}^{Bc}-f_{CA}t_{Ij}^{Bc}-f_{CB}t_{Ji}^{Ac}+f_{CB}t_{Ij}^{Ac}-0.5t_{Ki}^{Cd}t_{Lj}^{Ab}\\langle KL|CD\\rangle+0.5t_{Ik}^{Cd}t_{Lj}^{Ab}\\langle KL|CD\\rangle+0.5t_{Ki}^{Cd}t_{Jl}^{Ab}\\langle KL|CD\\rangle-0.5t_{Ik}^{Cd}t_{Jl}^{Ab}\\langle KL|CD\\rangle+0.5t_{Ji}^{Cd}t_{Lk}^{Ab}\\langle KL|CD\\rangle-0.5t_{Ij}^{Cd}t_{Lk}^{Ab}\\langle KL|CD\\rangle-0.5t_{Ji}^{Cd}\\langle CD|AB\\rangle+0.5t_{Ij}^{Cd}\\langle CD|AB\\rangle+0.5t_{Kj}^{Cd}t_{Li}^{Ab}\\langle KL|CD\\rangle-0.5t_{Jk}^{Cd}t_{Li}^{Ab}\\langle KL|CD\\rangle-0.5t_{Kj}^{Cd}t_{Il}^{Ab}\\langle KL|CD\\rangle+0.5t_{Jk}^{Cd}t_{Il}^{Ab}\\langle KL|CD\\rangle-0.5t_{Lk}^{Ac}t_{Ji}^{Bd}\\langle KL|CD\\rangle+0.5t_{Kl}^{Ac}t_{Ji}^{Bd}\\langle KL|CD\\rangle+0.5t_{Lk}^{Ac}t_{Ij}^{Bd}\\langle KL|CD\\rangle-0.5t_{Kl}^{Ac}t_{Ij}^{Bd}\\langle KL|CD\\rangle+t_{Ki}^{Ac}t_{Lj}^{Bd}\\langle KL|CD\\rangle-t_{Ik}^{Ac}t_{Lj}^{Bd}\\langle KL|CD\\rangle-t_{Ki}^{Ac}t_{Jl}^{Bd}\\langle KL|CD\\rangle+t_{Ik}^{Ac}t_{Jl}^{Bd}\\langle KL|CD\\rangle-t_{Ki}^{Ac}\\langle KJ|CB\\rangle+t_{Ik}^{Ac}\\langle KJ|CB\\rangle-0.5t_{Ji}^{Ac}t_{Lk}^{Bd}\\langle KL|CD\\rangle+0.5t_{Ij}^{Ac}t_{Lk}^{Bd}\\langle KL|CD\\rangle+0.5t_{Ji}^{Ac}t_{Kl}^{Bd}\\langle KL|CD\\rangle-0.5t_{Ij}^{Ac}t_{Kl}^{Bd}\\langle KL|CD\\rangle-t_{Kj}^{Ac}t_{Li}^{Bd}\\langle KL|CD\\rangle+t_{Jk}^{Ac}t_{Li}^{Bd}\\langle KL|CD\\rangle+t_{Kj}^{Ac}t_{Il}^{Bd}\\langle KL|CD\\rangle-t_{Jk}^{Ac}t_{Il}^{Bd}\\langle KL|CD\\rangle+t_{Kj}^{Ac}\\langle KI|CB\\rangle-t_{Jk}^{Ac}\\langle KI|CB\\rangle-0.5t_{Lk}^{Ab}\\langle IJ|KL\\rangle+0.5t_{Kl}^{Ab}\\langle IJ|KL\\rangle+t_{Ki}^{Bc}\\langle KJ|CA\\rangle-t_{Ik}^{Bc}\\langle KJ|CA\\rangle-t_{Kj}^{Bc}\\langle KI|CA\\rangle+t_{Jk}^{Bc}\\langle KI|CA\\rangle+\\langle IJ|AB\\rangle$"
      ],
      "text/plain": [
       "<IPython.core.display.Math object>"
      ]
     },
     "metadata": {},
     "output_type": "display_data"
    }
   ],
   "source": [
    "T2 = eqfromlatex(eq, index_key, antisymmetric=False)\n",
    "T2 = T2.simplify()\n",
    "T2 = T2.adapt_space()\n",
    "platex(T2)"
   ]
  },
  {
   "cell_type": "code",
   "execution_count": 29,
   "metadata": {},
   "outputs": [
    {
     "name": "stdout",
     "output_type": "stream",
     "text": [
      "newT2[i,j,a,b] -= fock_OO[i,k]*T2[k,j,a,b]\n",
      "newT2[i,j,a,b] += fock_OO[i,k]*T2[j,k,a,b]\n",
      "newT2[i,j,a,b] += fock_OO[j,k]*T2[k,i,a,b]\n",
      "newT2[i,j,a,b] -= fock_OO[j,k]*T2[i,k,a,b]\n",
      "newT2[i,j,a,b] += fock_VV[c,a]*T2[j,i,b,c]\n",
      "newT2[i,j,a,b] -= fock_VV[c,a]*T2[i,j,b,c]\n",
      "newT2[i,j,a,b] -= fock_VV[c,b]*T2[j,i,a,c]\n",
      "newT2[i,j,a,b] += fock_VV[c,b]*T2[i,j,a,c]\n",
      "newT2[i,j,a,b] += -0.5*T2[k,i,c,d]*T2[l,j,a,b]*Voovv[k,l,c,d]\n",
      "newT2[i,j,a,b] += 0.5*T2[i,k,c,d]*T2[l,j,a,b]*Voovv[k,l,c,d]\n",
      "newT2[i,j,a,b] += 0.5*T2[k,i,c,d]*T2[j,l,a,b]*Voovv[k,l,c,d]\n",
      "newT2[i,j,a,b] += -0.5*T2[i,k,c,d]*T2[j,l,a,b]*Voovv[k,l,c,d]\n",
      "newT2[i,j,a,b] += 0.5*T2[j,i,c,d]*T2[l,k,a,b]*Voovv[k,l,c,d]\n",
      "newT2[i,j,a,b] += -0.5*T2[i,j,c,d]*T2[l,k,a,b]*Voovv[k,l,c,d]\n",
      "newT2[i,j,a,b] += -0.5*T2[j,i,c,d]*Vvvvv[c,d,a,b]\n",
      "newT2[i,j,a,b] += 0.5*T2[i,j,c,d]*Vvvvv[c,d,a,b]\n",
      "newT2[i,j,a,b] += 0.5*T2[k,j,c,d]*T2[l,i,a,b]*Voovv[k,l,c,d]\n",
      "newT2[i,j,a,b] += -0.5*T2[j,k,c,d]*T2[l,i,a,b]*Voovv[k,l,c,d]\n",
      "newT2[i,j,a,b] += -0.5*T2[k,j,c,d]*T2[i,l,a,b]*Voovv[k,l,c,d]\n",
      "newT2[i,j,a,b] += 0.5*T2[j,k,c,d]*T2[i,l,a,b]*Voovv[k,l,c,d]\n",
      "newT2[i,j,a,b] += -0.5*T2[l,k,a,c]*T2[j,i,b,d]*Voovv[k,l,c,d]\n",
      "newT2[i,j,a,b] += 0.5*T2[k,l,a,c]*T2[j,i,b,d]*Voovv[k,l,c,d]\n",
      "newT2[i,j,a,b] += 0.5*T2[l,k,a,c]*T2[i,j,b,d]*Voovv[k,l,c,d]\n",
      "newT2[i,j,a,b] += -0.5*T2[k,l,a,c]*T2[i,j,b,d]*Voovv[k,l,c,d]\n",
      "newT2[i,j,a,b] += T2[k,i,a,c]*T2[l,j,b,d]*Voovv[k,l,c,d]\n",
      "newT2[i,j,a,b] -= T2[i,k,a,c]*T2[l,j,b,d]*Voovv[k,l,c,d]\n",
      "newT2[i,j,a,b] -= T2[k,i,a,c]*T2[j,l,b,d]*Voovv[k,l,c,d]\n",
      "newT2[i,j,a,b] += T2[i,k,a,c]*T2[j,l,b,d]*Voovv[k,l,c,d]\n",
      "newT2[i,j,a,b] -= T2[k,i,a,c]*Voovv[k,j,c,b]\n",
      "newT2[i,j,a,b] += T2[i,k,a,c]*Voovv[k,j,c,b]\n",
      "newT2[i,j,a,b] += -0.5*T2[j,i,a,c]*T2[l,k,b,d]*Voovv[k,l,c,d]\n",
      "newT2[i,j,a,b] += 0.5*T2[i,j,a,c]*T2[l,k,b,d]*Voovv[k,l,c,d]\n",
      "newT2[i,j,a,b] += 0.5*T2[j,i,a,c]*T2[k,l,b,d]*Voovv[k,l,c,d]\n",
      "newT2[i,j,a,b] += -0.5*T2[i,j,a,c]*T2[k,l,b,d]*Voovv[k,l,c,d]\n",
      "newT2[i,j,a,b] -= T2[k,j,a,c]*T2[l,i,b,d]*Voovv[k,l,c,d]\n",
      "newT2[i,j,a,b] += T2[j,k,a,c]*T2[l,i,b,d]*Voovv[k,l,c,d]\n",
      "newT2[i,j,a,b] += T2[k,j,a,c]*T2[i,l,b,d]*Voovv[k,l,c,d]\n",
      "newT2[i,j,a,b] -= T2[j,k,a,c]*T2[i,l,b,d]*Voovv[k,l,c,d]\n",
      "newT2[i,j,a,b] += T2[k,j,a,c]*Voovv[k,i,c,b]\n",
      "newT2[i,j,a,b] -= T2[j,k,a,c]*Voovv[k,i,c,b]\n",
      "newT2[i,j,a,b] += -0.5*T2[l,k,a,b]*Voooo[i,j,k,l]\n",
      "newT2[i,j,a,b] += 0.5*T2[k,l,a,b]*Voooo[i,j,k,l]\n",
      "newT2[i,j,a,b] += T2[k,i,b,c]*Voovv[k,j,c,a]\n",
      "newT2[i,j,a,b] -= T2[i,k,b,c]*Voovv[k,j,c,a]\n",
      "newT2[i,j,a,b] -= T2[k,j,b,c]*Voovv[k,i,c,a]\n",
      "newT2[i,j,a,b] += T2[j,k,b,c]*Voovv[k,i,c,a]\n",
      "newT2[i,j,a,b] += Voovv[i,j,a,b]\n",
      "\n"
     ]
    }
   ],
   "source": [
    "pT2 = eq_to_julia(T2,i,j,a,b, name = 'newT2', tensor_labels = mytensors)\n",
    "x = pT2.write_tensorop_out(print_out=True)"
   ]
  },
  {
   "cell_type": "code",
   "execution_count": 30,
   "metadata": {},
   "outputs": [
    {
     "data": {
      "text/plain": [
       "['newT2[i,j,a,b] -= fock_OO[i,k]*T2[k,j,a,b]',\n",
       " 'newT2[i,j,a,b] += fock_OO[i,k]*T2[j,k,a,b]',\n",
       " 'newT2[i,j,a,b] += fock_OO[j,k]*T2[k,i,a,b]',\n",
       " 'newT2[i,j,a,b] -= fock_OO[j,k]*T2[i,k,a,b]',\n",
       " 'newT2[i,j,a,b] += fock_VV[c,a]*T2[j,i,b,c]',\n",
       " 'newT2[i,j,a,b] -= fock_VV[c,a]*T2[i,j,b,c]',\n",
       " 'newT2[i,j,a,b] -= fock_VV[c,b]*T2[j,i,a,c]',\n",
       " 'newT2[i,j,a,b] += fock_VV[c,b]*T2[i,j,a,c]',\n",
       " 'newT2[i,j,a,b] += -0.5*T2[k,i,c,d]*T2[l,j,a,b]*Voovv[k,l,c,d]',\n",
       " 'newT2[i,j,a,b] += 0.5*T2[i,k,c,d]*T2[l,j,a,b]*Voovv[k,l,c,d]',\n",
       " 'newT2[i,j,a,b] += 0.5*T2[k,i,c,d]*T2[j,l,a,b]*Voovv[k,l,c,d]',\n",
       " 'newT2[i,j,a,b] += -0.5*T2[i,k,c,d]*T2[j,l,a,b]*Voovv[k,l,c,d]',\n",
       " 'newT2[i,j,a,b] += 0.5*T2[j,i,c,d]*T2[l,k,a,b]*Voovv[k,l,c,d]',\n",
       " 'newT2[i,j,a,b] += -0.5*T2[i,j,c,d]*T2[l,k,a,b]*Voovv[k,l,c,d]',\n",
       " 'newT2[i,j,a,b] += -0.5*T2[j,i,c,d]*Vvvvv[c,d,a,b]',\n",
       " 'newT2[i,j,a,b] += 0.5*T2[i,j,c,d]*Vvvvv[c,d,a,b]',\n",
       " 'newT2[i,j,a,b] += 0.5*T2[k,j,c,d]*T2[l,i,a,b]*Voovv[k,l,c,d]',\n",
       " 'newT2[i,j,a,b] += -0.5*T2[j,k,c,d]*T2[l,i,a,b]*Voovv[k,l,c,d]',\n",
       " 'newT2[i,j,a,b] += -0.5*T2[k,j,c,d]*T2[i,l,a,b]*Voovv[k,l,c,d]',\n",
       " 'newT2[i,j,a,b] += 0.5*T2[j,k,c,d]*T2[i,l,a,b]*Voovv[k,l,c,d]',\n",
       " 'newT2[i,j,a,b] += -0.5*T2[l,k,a,c]*T2[j,i,b,d]*Voovv[k,l,c,d]',\n",
       " 'newT2[i,j,a,b] += 0.5*T2[k,l,a,c]*T2[j,i,b,d]*Voovv[k,l,c,d]',\n",
       " 'newT2[i,j,a,b] += 0.5*T2[l,k,a,c]*T2[i,j,b,d]*Voovv[k,l,c,d]',\n",
       " 'newT2[i,j,a,b] += -0.5*T2[k,l,a,c]*T2[i,j,b,d]*Voovv[k,l,c,d]',\n",
       " 'newT2[i,j,a,b] += T2[k,i,a,c]*T2[l,j,b,d]*Voovv[k,l,c,d]',\n",
       " 'newT2[i,j,a,b] -= T2[i,k,a,c]*T2[l,j,b,d]*Voovv[k,l,c,d]',\n",
       " 'newT2[i,j,a,b] -= T2[k,i,a,c]*T2[j,l,b,d]*Voovv[k,l,c,d]',\n",
       " 'newT2[i,j,a,b] += T2[i,k,a,c]*T2[j,l,b,d]*Voovv[k,l,c,d]',\n",
       " 'newT2[i,j,a,b] -= T2[k,i,a,c]*Voovv[k,j,c,b]',\n",
       " 'newT2[i,j,a,b] += T2[i,k,a,c]*Voovv[k,j,c,b]',\n",
       " 'newT2[i,j,a,b] += -0.5*T2[j,i,a,c]*T2[l,k,b,d]*Voovv[k,l,c,d]',\n",
       " 'newT2[i,j,a,b] += 0.5*T2[i,j,a,c]*T2[l,k,b,d]*Voovv[k,l,c,d]',\n",
       " 'newT2[i,j,a,b] += 0.5*T2[j,i,a,c]*T2[k,l,b,d]*Voovv[k,l,c,d]',\n",
       " 'newT2[i,j,a,b] += -0.5*T2[i,j,a,c]*T2[k,l,b,d]*Voovv[k,l,c,d]',\n",
       " 'newT2[i,j,a,b] -= T2[k,j,a,c]*T2[l,i,b,d]*Voovv[k,l,c,d]',\n",
       " 'newT2[i,j,a,b] += T2[j,k,a,c]*T2[l,i,b,d]*Voovv[k,l,c,d]',\n",
       " 'newT2[i,j,a,b] += T2[k,j,a,c]*T2[i,l,b,d]*Voovv[k,l,c,d]',\n",
       " 'newT2[i,j,a,b] -= T2[j,k,a,c]*T2[i,l,b,d]*Voovv[k,l,c,d]',\n",
       " 'newT2[i,j,a,b] += T2[k,j,a,c]*Voovv[k,i,c,b]',\n",
       " 'newT2[i,j,a,b] -= T2[j,k,a,c]*Voovv[k,i,c,b]',\n",
       " 'newT2[i,j,a,b] += -0.5*T2[l,k,a,b]*Voooo[i,j,k,l]',\n",
       " 'newT2[i,j,a,b] += 0.5*T2[k,l,a,b]*Voooo[i,j,k,l]',\n",
       " 'newT2[i,j,a,b] += T2[k,i,b,c]*Voovv[k,j,c,a]',\n",
       " 'newT2[i,j,a,b] -= T2[i,k,b,c]*Voovv[k,j,c,a]',\n",
       " 'newT2[i,j,a,b] -= T2[k,j,b,c]*Voovv[k,i,c,a]',\n",
       " 'newT2[i,j,a,b] += T2[j,k,b,c]*Voovv[k,i,c,a]',\n",
       " 'newT2[i,j,a,b] += Voovv[i,j,a,b]']"
      ]
     },
     "execution_count": 30,
     "metadata": {},
     "output_type": "execute_result"
    }
   ],
   "source": [
    "inpu = x.split('\\n')[:-1]\n",
    "inpu"
   ]
  },
  {
   "cell_type": "code",
   "execution_count": 41,
   "metadata": {
    "scrolled": false
   },
   "outputs": [
    {
     "name": "stdout",
     "output_type": "stream",
     "text": [
      "47\n",
      "newT2_1i3a = view(newT2,i,:,a,:)\n",
      "fock_OO_1i = view(fock_OO,i,:)\n",
      "T2_3a = view(T2,:,:,a,:)\n",
      "T2_2i3a = view(T2,:,i,a,:)\n",
      "T2_1i3a = view(T2,i,:,a,:)\n",
      "fock_VV_2a = view(fock_VV,:,a)\n",
      "T2_2i = view(T2,:,i,:,:)\n",
      "T2_1i = view(T2,i,:,:,:)\n",
      "Vvvvv_3a = view(Vvvvv,:,:,a,:)\n",
      "Voovv_2i = view(Voovv,:,i,:,:)\n",
      "Voooo_1i = view(Voooo,i,:,:,:)\n",
      "Voovv_4a = view(Voovv,:,:,:,a)\n",
      "Voovv_2i4a = view(Voovv,:,i,:,a)\n",
      "Voovv_1i3a = view(Voovv,i,:,a,:)\n",
      "\n",
      "\n",
      "newT2_1i3a[j,b] -= fock_OO_1i[k]*T2_3a[k,j,b]\n",
      "newT2_1i3a[j,b] += fock_OO_1i[k]*T2_3a[j,k,b]\n",
      "newT2_1i3a[j,b] += fock_OO[j,k]*T2_2i3a[k,b]\n",
      "newT2_1i3a[j,b] -= fock_OO[j,k]*T2_1i3a[k,b]\n",
      "newT2_1i3a[j,b] += fock_VV_2a[c]*T2_2i[j,b,c]\n",
      "newT2_1i3a[j,b] -= fock_VV_2a[c]*T2_1i[j,b,c]\n",
      "newT2_1i3a[j,b] -= fock_VV[c,b]*T2_2i3a[j,c]\n",
      "newT2_1i3a[j,b] += fock_VV[c,b]*T2_1i3a[j,c]\n",
      "newT2_1i3a[j,b] += -0.5*T2_2i[k,c,d]*T2_3a[l,j,b]*Voovv[k,l,c,d]\n",
      "newT2_1i3a[j,b] += 0.5*T2_1i[k,c,d]*T2_3a[l,j,b]*Voovv[k,l,c,d]\n",
      "newT2_1i3a[j,b] += 0.5*T2_2i[k,c,d]*T2_3a[j,l,b]*Voovv[k,l,c,d]\n",
      "newT2_1i3a[j,b] += -0.5*T2_1i[k,c,d]*T2_3a[j,l,b]*Voovv[k,l,c,d]\n",
      "newT2_1i3a[j,b] += 0.5*T2_2i[j,c,d]*T2_3a[l,k,b]*Voovv[k,l,c,d]\n",
      "newT2_1i3a[j,b] += -0.5*T2_1i[j,c,d]*T2_3a[l,k,b]*Voovv[k,l,c,d]\n",
      "newT2_1i3a[j,b] += -0.5*T2_2i[j,c,d]*Vvvvv_3a[c,d,b]\n",
      "newT2_1i3a[j,b] += 0.5*T2_1i[j,c,d]*Vvvvv_3a[c,d,b]\n",
      "newT2_1i3a[j,b] += 0.5*T2[k,j,c,d]*T2_2i3a[l,b]*Voovv[k,l,c,d]\n",
      "newT2_1i3a[j,b] += -0.5*T2[j,k,c,d]*T2_2i3a[l,b]*Voovv[k,l,c,d]\n",
      "newT2_1i3a[j,b] += -0.5*T2[k,j,c,d]*T2_1i3a[l,b]*Voovv[k,l,c,d]\n",
      "newT2_1i3a[j,b] += 0.5*T2[j,k,c,d]*T2_1i3a[l,b]*Voovv[k,l,c,d]\n",
      "newT2_1i3a[j,b] += -0.5*T2_3a[l,k,c]*T2_2i[j,b,d]*Voovv[k,l,c,d]\n",
      "newT2_1i3a[j,b] += 0.5*T2_3a[k,l,c]*T2_2i[j,b,d]*Voovv[k,l,c,d]\n",
      "newT2_1i3a[j,b] += 0.5*T2_3a[l,k,c]*T2_1i[j,b,d]*Voovv[k,l,c,d]\n",
      "newT2_1i3a[j,b] += -0.5*T2_3a[k,l,c]*T2_1i[j,b,d]*Voovv[k,l,c,d]\n",
      "newT2_1i3a[j,b] += T2_2i3a[k,c]*T2[l,j,b,d]*Voovv[k,l,c,d]\n",
      "newT2_1i3a[j,b] -= T2_1i3a[k,c]*T2[l,j,b,d]*Voovv[k,l,c,d]\n",
      "newT2_1i3a[j,b] -= T2_2i3a[k,c]*T2[j,l,b,d]*Voovv[k,l,c,d]\n",
      "newT2_1i3a[j,b] += T2_1i3a[k,c]*T2[j,l,b,d]*Voovv[k,l,c,d]\n",
      "newT2_1i3a[j,b] -= T2_2i3a[k,c]*Voovv[k,j,c,b]\n",
      "newT2_1i3a[j,b] += T2_1i3a[k,c]*Voovv[k,j,c,b]\n",
      "newT2_1i3a[j,b] += -0.5*T2_2i3a[j,c]*T2[l,k,b,d]*Voovv[k,l,c,d]\n",
      "newT2_1i3a[j,b] += 0.5*T2_1i3a[j,c]*T2[l,k,b,d]*Voovv[k,l,c,d]\n",
      "newT2_1i3a[j,b] += 0.5*T2_2i3a[j,c]*T2[k,l,b,d]*Voovv[k,l,c,d]\n",
      "newT2_1i3a[j,b] += -0.5*T2_1i3a[j,c]*T2[k,l,b,d]*Voovv[k,l,c,d]\n",
      "newT2_1i3a[j,b] -= T2_3a[k,j,c]*T2_2i[l,b,d]*Voovv[k,l,c,d]\n",
      "newT2_1i3a[j,b] += T2_3a[j,k,c]*T2_2i[l,b,d]*Voovv[k,l,c,d]\n",
      "newT2_1i3a[j,b] += T2_3a[k,j,c]*T2_1i[l,b,d]*Voovv[k,l,c,d]\n",
      "newT2_1i3a[j,b] -= T2_3a[j,k,c]*T2_1i[l,b,d]*Voovv[k,l,c,d]\n",
      "newT2_1i3a[j,b] += T2_3a[k,j,c]*Voovv_2i[k,c,b]\n",
      "newT2_1i3a[j,b] -= T2_3a[j,k,c]*Voovv_2i[k,c,b]\n",
      "newT2_1i3a[j,b] += -0.5*T2_3a[l,k,b]*Voooo_1i[j,k,l]\n",
      "newT2_1i3a[j,b] += 0.5*T2_3a[k,l,b]*Voooo_1i[j,k,l]\n",
      "newT2_1i3a[j,b] += T2_2i[k,b,c]*Voovv_4a[k,j,c]\n",
      "newT2_1i3a[j,b] -= T2_1i[k,b,c]*Voovv_4a[k,j,c]\n",
      "newT2_1i3a[j,b] -= T2[k,j,b,c]*Voovv_2i4a[k,c]\n",
      "newT2_1i3a[j,b] += T2[j,k,b,c]*Voovv_2i4a[k,c]\n",
      "newT2_1i3a[j,b] += Voovv_1i3a[j,b]\n"
     ]
    }
   ],
   "source": [
    "loop_index_out(inpu, ('i', 'a'))"
   ]
  },
  {
   "cell_type": "code",
   "execution_count": 21,
   "metadata": {},
   "outputs": [],
   "source": [
    "import re"
   ]
  },
  {
   "cell_type": "code",
   "execution_count": 38,
   "metadata": {},
   "outputs": [],
   "source": [
    "def loop_index_out(inp, pulling):\n",
    "    \n",
    "    # Input must be a list of TensorOperations commands\n",
    "    \n",
    "    # Dictionary with Tensors that slices were created already\n",
    "    viewd = dict()\n",
    "    \n",
    "    # Output\n",
    "    out = []\n",
    "    \n",
    "    # Loop through commands (lines in the input)\n",
    "    for comm in inp: \n",
    "        \n",
    "        # Find tensors in the line (e.g. T2[i,j,a,b])\n",
    "        tensors = re.findall(r\"(\\w+?\\[.+?\\])\", comm)\n",
    "    \n",
    "        # Store new command\n",
    "        new_comm = comm\n",
    "        \n",
    "        #print('\\nOld command: {}'.format(new_comm))\n",
    "        \n",
    "        # Loop through tensors found above.\n",
    "        for t in tensors:\n",
    "            # Save the tensor by itself (e.g. T2[i,j,a,b]  -> T2)\n",
    "            t_solo = re.sub(r'\\[([\\w,]+?)\\]', '', t)\n",
    "            \n",
    "            # Save indexes (e.g. T2[i,j,a,b] -> ['i', 'j', 'a', 'b'])\n",
    "            indexes = re.search(r'\\[([\\w,]+?)\\]', t).group(1).split(',')\n",
    "            \n",
    "            # List to store indexes that will be substituted (those given in 'pulling')\n",
    "            subs = []\n",
    "            \n",
    "            # idx_braket will store the new indexes (e.g. if you are pulling i,j out [i,j,a,b] becomes\n",
    "            #  [a,b])\n",
    "            idx_braket = '['\n",
    "            for i,ind in enumerate(indexes):\n",
    "                if ind in pulling:\n",
    "                    # If a index from pulling is found in the tensor, save into subs list\n",
    "                    subs.append((i,ind))\n",
    "                else:\n",
    "                    idx_braket += ind + ','\n",
    "        \n",
    "            # If subs list has nothing, it means nothing has to be done to this tensor\n",
    "            if len(subs) == 0:\n",
    "                continue\n",
    "        \n",
    "            # Start creating a new name for the tensor. If we pull i and j out\n",
    "            # T2[i,j,a,b] will be called T2_1i2j. A slice (view in julia), will be created with this name\n",
    "            newt = t_solo + '_'\n",
    "            for i,ind in subs:\n",
    "                newt += str(i+1) + ind\n",
    "            \n",
    "            # If the new tensor name is save in viewd, it has been created already. If not, create it\n",
    "            if newt not in viewd:\n",
    "                create_view = newt + \" = view({},\".format(t_solo)\n",
    "                for ind in indexes:\n",
    "                    if ind in pulling:\n",
    "                        create_view += ind + ','\n",
    "                    else:\n",
    "                        create_view += ':,'\n",
    "                viewd[newt] = create_view[:-1] + ')'\n",
    "        \n",
    "            newt += idx_braket[:-1] + ']'\n",
    "        \n",
    "            # Replace the command with the new syntax\n",
    "            new_comm = new_comm.replace(t, newt)\n",
    "    \n",
    "        # Append the new command to the list\n",
    "        out.append(new_comm)\n",
    "\n",
    "    print(len(out))\n",
    "    out = [viewd[k] for k in viewd] + ['\\n'] + out\n",
    " \n",
    "    \n",
    "    for l in out:\n",
    "        print(l)"
   ]
  },
  {
   "cell_type": "code",
   "execution_count": null,
   "metadata": {},
   "outputs": [],
   "source": []
  }
 ],
 "metadata": {
  "kernelspec": {
   "display_name": "Python 3",
   "language": "python",
   "name": "python3"
  },
  "language_info": {
   "codemirror_mode": {
    "name": "ipython",
    "version": 3
   },
   "file_extension": ".py",
   "mimetype": "text/x-python",
   "name": "python",
   "nbconvert_exporter": "python",
   "pygments_lexer": "ipython3",
   "version": "3.6.9"
  }
 },
 "nbformat": 4,
 "nbformat_minor": 2
}
