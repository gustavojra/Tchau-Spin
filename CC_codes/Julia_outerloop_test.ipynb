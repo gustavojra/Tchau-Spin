{
 "cells": [
  {
   "cell_type": "code",
   "execution_count": 1,
   "metadata": {},
   "outputs": [],
   "source": [
    "using TensorOperations"
   ]
  },
  {
   "cell_type": "code",
   "execution_count": 2,
   "metadata": {},
   "outputs": [],
   "source": [
    "using Random"
   ]
  },
  {
   "cell_type": "code",
   "execution_count": 3,
   "metadata": {},
   "outputs": [],
   "source": [
    "using BenchmarkTools"
   ]
  },
  {
   "cell_type": "code",
   "execution_count": 6,
   "metadata": {},
   "outputs": [],
   "source": [
    "o = 5\n",
    "v = 20\n",
    "\n",
    "Voovv = rand(o,o,v,v)\n",
    "Voooo = rand(o,o,o,o)\n",
    "Vvvvv = rand(v,v,v,v)\n",
    "fock_VV = rand(v,v)\n",
    "fock_OO = rand(o,o)\n",
    "T2 = rand(o,o,v,v);"
   ]
  },
  {
   "cell_type": "code",
   "execution_count": 11,
   "metadata": {},
   "outputs": [
    {
     "data": {
      "text/plain": [
       "(5, 5, 20, 20)"
      ]
     },
     "execution_count": 11,
     "metadata": {},
     "output_type": "execute_result"
    }
   ],
   "source": [
    "size(T2)"
   ]
  },
  {
   "cell_type": "code",
   "execution_count": 16,
   "metadata": {},
   "outputs": [
    {
     "data": {
      "text/plain": [
       "full_array (generic function with 1 method)"
      ]
     },
     "execution_count": 16,
     "metadata": {},
     "output_type": "execute_result"
    }
   ],
   "source": [
    "function full_array()\n",
    "    newT2 = zeros(size(T2))\n",
    "    @tensoropt (i=>x, j=>x, k=>x, l=>x, a=>100x, b=>100x, c=>100x, d=>100x) begin\n",
    "        newT2[i,j,a,b] -= fock_OO[i,k]*T2[k,j,a,b]\n",
    "        newT2[i,j,a,b] += fock_OO[i,k]*T2[j,k,a,b]\n",
    "        newT2[i,j,a,b] += fock_OO[j,k]*T2[k,i,a,b]\n",
    "        newT2[i,j,a,b] -= fock_OO[j,k]*T2[i,k,a,b]\n",
    "        newT2[i,j,a,b] += fock_VV[c,a]*T2[j,i,b,c]\n",
    "        newT2[i,j,a,b] -= fock_VV[c,a]*T2[i,j,b,c]\n",
    "        newT2[i,j,a,b] -= fock_VV[c,b]*T2[j,i,a,c]\n",
    "        newT2[i,j,a,b] += fock_VV[c,b]*T2[i,j,a,c]\n",
    "        newT2[i,j,a,b] += -0.5*T2[k,i,c,d]*T2[l,j,a,b]*Voovv[k,l,c,d]\n",
    "        newT2[i,j,a,b] += 0.5*T2[i,k,c,d]*T2[l,j,a,b]*Voovv[k,l,c,d]\n",
    "        newT2[i,j,a,b] += 0.5*T2[k,i,c,d]*T2[j,l,a,b]*Voovv[k,l,c,d]\n",
    "        newT2[i,j,a,b] += -0.5*T2[i,k,c,d]*T2[j,l,a,b]*Voovv[k,l,c,d]\n",
    "        newT2[i,j,a,b] += 0.5*T2[j,i,c,d]*T2[l,k,a,b]*Voovv[k,l,c,d]\n",
    "        newT2[i,j,a,b] += -0.5*T2[i,j,c,d]*T2[l,k,a,b]*Voovv[k,l,c,d]\n",
    "        newT2[i,j,a,b] += -0.5*T2[j,i,c,d]*Vvvvv[c,d,a,b]\n",
    "        newT2[i,j,a,b] += 0.5*T2[i,j,c,d]*Vvvvv[c,d,a,b]\n",
    "        newT2[i,j,a,b] += 0.5*T2[k,j,c,d]*T2[l,i,a,b]*Voovv[k,l,c,d]\n",
    "        newT2[i,j,a,b] += -0.5*T2[j,k,c,d]*T2[l,i,a,b]*Voovv[k,l,c,d]\n",
    "        newT2[i,j,a,b] += -0.5*T2[k,j,c,d]*T2[i,l,a,b]*Voovv[k,l,c,d]\n",
    "        newT2[i,j,a,b] += 0.5*T2[j,k,c,d]*T2[i,l,a,b]*Voovv[k,l,c,d]\n",
    "        newT2[i,j,a,b] += -0.5*T2[l,k,a,c]*T2[j,i,b,d]*Voovv[k,l,c,d]\n",
    "        newT2[i,j,a,b] += 0.5*T2[k,l,a,c]*T2[j,i,b,d]*Voovv[k,l,c,d]\n",
    "        newT2[i,j,a,b] += 0.5*T2[l,k,a,c]*T2[i,j,b,d]*Voovv[k,l,c,d]\n",
    "        newT2[i,j,a,b] += -0.5*T2[k,l,a,c]*T2[i,j,b,d]*Voovv[k,l,c,d]\n",
    "        newT2[i,j,a,b] += T2[k,i,a,c]*T2[l,j,b,d]*Voovv[k,l,c,d]\n",
    "        newT2[i,j,a,b] -= T2[i,k,a,c]*T2[l,j,b,d]*Voovv[k,l,c,d]\n",
    "        newT2[i,j,a,b] -= T2[k,i,a,c]*T2[j,l,b,d]*Voovv[k,l,c,d]\n",
    "        newT2[i,j,a,b] += T2[i,k,a,c]*T2[j,l,b,d]*Voovv[k,l,c,d]\n",
    "        newT2[i,j,a,b] -= T2[k,i,a,c]*Voovv[k,j,c,b]\n",
    "        newT2[i,j,a,b] += T2[i,k,a,c]*Voovv[k,j,c,b]\n",
    "        newT2[i,j,a,b] += -0.5*T2[j,i,a,c]*T2[l,k,b,d]*Voovv[k,l,c,d]\n",
    "        newT2[i,j,a,b] += 0.5*T2[i,j,a,c]*T2[l,k,b,d]*Voovv[k,l,c,d]\n",
    "        newT2[i,j,a,b] += 0.5*T2[j,i,a,c]*T2[k,l,b,d]*Voovv[k,l,c,d]\n",
    "        newT2[i,j,a,b] += -0.5*T2[i,j,a,c]*T2[k,l,b,d]*Voovv[k,l,c,d]\n",
    "        newT2[i,j,a,b] -= T2[k,j,a,c]*T2[l,i,b,d]*Voovv[k,l,c,d]\n",
    "        newT2[i,j,a,b] += T2[j,k,a,c]*T2[l,i,b,d]*Voovv[k,l,c,d]\n",
    "        newT2[i,j,a,b] += T2[k,j,a,c]*T2[i,l,b,d]*Voovv[k,l,c,d]\n",
    "        newT2[i,j,a,b] -= T2[j,k,a,c]*T2[i,l,b,d]*Voovv[k,l,c,d]\n",
    "        newT2[i,j,a,b] += T2[k,j,a,c]*Voovv[k,i,c,b]\n",
    "        newT2[i,j,a,b] -= T2[j,k,a,c]*Voovv[k,i,c,b]\n",
    "        newT2[i,j,a,b] += -0.5*T2[l,k,a,b]*Voooo[i,j,k,l]\n",
    "        newT2[i,j,a,b] += 0.5*T2[k,l,a,b]*Voooo[i,j,k,l]\n",
    "        newT2[i,j,a,b] += T2[k,i,b,c]*Voovv[k,j,c,a]\n",
    "        newT2[i,j,a,b] -= T2[i,k,b,c]*Voovv[k,j,c,a]\n",
    "        newT2[i,j,a,b] -= T2[k,j,b,c]*Voovv[k,i,c,a]\n",
    "        newT2[i,j,a,b] += T2[j,k,b,c]*Voovv[k,i,c,a]\n",
    "        newT2[i,j,a,b] += Voovv[i,j,a,b]\n",
    "    end\n",
    "    return newT2\n",
    "end"
   ]
  },
  {
   "cell_type": "code",
   "execution_count": 43,
   "metadata": {},
   "outputs": [
    {
     "data": {
      "text/plain": [
       "loop_array (generic function with 1 method)"
      ]
     },
     "execution_count": 43,
     "metadata": {},
     "output_type": "execute_result"
    }
   ],
   "source": [
    "function loop_array()\n",
    "    newT2 = zeros(size(T2))\n",
    "    for i in 1:5\n",
    "        fock_OO_1i = view(fock_OO,i,:)\n",
    "        T2_2i = view(T2,:,i,:,:)\n",
    "        T2_1i = view(T2,i,:,:,:)\n",
    "        Voovv_2i = view(Voovv,:,i,:,:)\n",
    "        for j in 1:5\n",
    "            newT2_1i2j = view(newT2,i,j,:,:)\n",
    "            T2_2j = view(T2,:,j,:,:)\n",
    "            T2_1j = view(T2,j,:,:,:)\n",
    "            fock_OO_1j = view(fock_OO,j,:)\n",
    "            T2_1j2i = view(T2,j,i,:,:)\n",
    "            T2_1i2j = view(T2,i,j,:,:)\n",
    "            Voovv_2j = view(Voovv,:,j,:,:)\n",
    "            Voooo_1i2j = view(Voooo,i,j,:,:)\n",
    "            Voovv_1i2j = view(Voovv,i,j,:,:)\n",
    "            @tensoropt (k=>x, l=>x, a=>100x, b=>100x, c=>100x, d=>100x) begin\n",
    "               newT2_1i2j[a,b] -= fock_OO_1i[k]*T2_2j[k,a,b]\n",
    "               newT2_1i2j[a,b] += fock_OO_1i[k]*T2_1j[k,a,b]\n",
    "               newT2_1i2j[a,b] += fock_OO_1j[k]*T2_2i[k,a,b]\n",
    "               newT2_1i2j[a,b] -= fock_OO_1j[k]*T2_1i[k,a,b]\n",
    "               newT2_1i2j[a,b] += fock_VV[c,a]*T2_1j2i[b,c]\n",
    "               newT2_1i2j[a,b] -= fock_VV[c,a]*T2_1i2j[b,c]\n",
    "               newT2_1i2j[a,b] -= fock_VV[c,b]*T2_1j2i[a,c]\n",
    "               newT2_1i2j[a,b] += fock_VV[c,b]*T2_1i2j[a,c]\n",
    "               newT2_1i2j[a,b] += -0.5*T2_2i[k,c,d]*T2_2j[l,a,b]*Voovv[k,l,c,d]\n",
    "               newT2_1i2j[a,b] += 0.5*T2_1i[k,c,d]*T2_2j[l,a,b]*Voovv[k,l,c,d]\n",
    "               newT2_1i2j[a,b] += 0.5*T2_2i[k,c,d]*T2_1j[l,a,b]*Voovv[k,l,c,d]\n",
    "               newT2_1i2j[a,b] += -0.5*T2_1i[k,c,d]*T2_1j[l,a,b]*Voovv[k,l,c,d]\n",
    "               newT2_1i2j[a,b] += 0.5*T2_1j2i[c,d]*T2[l,k,a,b]*Voovv[k,l,c,d]\n",
    "               newT2_1i2j[a,b] += -0.5*T2_1i2j[c,d]*T2[l,k,a,b]*Voovv[k,l,c,d]\n",
    "               newT2_1i2j[a,b] += -0.5*T2_1j2i[c,d]*Vvvvv[c,d,a,b]\n",
    "               newT2_1i2j[a,b] += 0.5*T2_1i2j[c,d]*Vvvvv[c,d,a,b]\n",
    "               newT2_1i2j[a,b] += 0.5*T2_2j[k,c,d]*T2_2i[l,a,b]*Voovv[k,l,c,d]\n",
    "               newT2_1i2j[a,b] += -0.5*T2_1j[k,c,d]*T2_2i[l,a,b]*Voovv[k,l,c,d]\n",
    "               newT2_1i2j[a,b] += -0.5*T2_2j[k,c,d]*T2_1i[l,a,b]*Voovv[k,l,c,d]\n",
    "               newT2_1i2j[a,b] += 0.5*T2_1j[k,c,d]*T2_1i[l,a,b]*Voovv[k,l,c,d]\n",
    "               newT2_1i2j[a,b] += -0.5*T2[l,k,a,c]*T2_1j2i[b,d]*Voovv[k,l,c,d]\n",
    "               newT2_1i2j[a,b] += 0.5*T2[k,l,a,c]*T2_1j2i[b,d]*Voovv[k,l,c,d]\n",
    "               newT2_1i2j[a,b] += 0.5*T2[l,k,a,c]*T2_1i2j[b,d]*Voovv[k,l,c,d]\n",
    "               newT2_1i2j[a,b] += -0.5*T2[k,l,a,c]*T2_1i2j[b,d]*Voovv[k,l,c,d]\n",
    "               newT2_1i2j[a,b] += T2_2i[k,a,c]*T2_2j[l,b,d]*Voovv[k,l,c,d]\n",
    "               newT2_1i2j[a,b] -= T2_1i[k,a,c]*T2_2j[l,b,d]*Voovv[k,l,c,d]\n",
    "               newT2_1i2j[a,b] -= T2_2i[k,a,c]*T2_1j[l,b,d]*Voovv[k,l,c,d]\n",
    "               newT2_1i2j[a,b] += T2_1i[k,a,c]*T2_1j[l,b,d]*Voovv[k,l,c,d]\n",
    "               newT2_1i2j[a,b] -= T2_2i[k,a,c]*Voovv_2j[k,c,b]\n",
    "               newT2_1i2j[a,b] += T2_1i[k,a,c]*Voovv_2j[k,c,b]\n",
    "               newT2_1i2j[a,b] += -0.5*T2_1j2i[a,c]*T2[l,k,b,d]*Voovv[k,l,c,d]\n",
    "               newT2_1i2j[a,b] += 0.5*T2_1i2j[a,c]*T2[l,k,b,d]*Voovv[k,l,c,d]\n",
    "               newT2_1i2j[a,b] += 0.5*T2_1j2i[a,c]*T2[k,l,b,d]*Voovv[k,l,c,d]\n",
    "               newT2_1i2j[a,b] += -0.5*T2_1i2j[a,c]*T2[k,l,b,d]*Voovv[k,l,c,d]\n",
    "               newT2_1i2j[a,b] -= T2_2j[k,a,c]*T2_2i[l,b,d]*Voovv[k,l,c,d]\n",
    "               newT2_1i2j[a,b] += T2_1j[k,a,c]*T2_2i[l,b,d]*Voovv[k,l,c,d]\n",
    "               newT2_1i2j[a,b] += T2_2j[k,a,c]*T2_1i[l,b,d]*Voovv[k,l,c,d]\n",
    "               newT2_1i2j[a,b] -= T2_1j[k,a,c]*T2_1i[l,b,d]*Voovv[k,l,c,d]\n",
    "               newT2_1i2j[a,b] += T2_2j[k,a,c]*Voovv_2i[k,c,b]\n",
    "               newT2_1i2j[a,b] -= T2_1j[k,a,c]*Voovv_2i[k,c,b]\n",
    "               newT2_1i2j[a,b] += -0.5*T2[l,k,a,b]*Voooo_1i2j[k,l]\n",
    "               newT2_1i2j[a,b] += 0.5*T2[k,l,a,b]*Voooo_1i2j[k,l]\n",
    "               newT2_1i2j[a,b] += T2_2i[k,b,c]*Voovv_2j[k,c,a]\n",
    "               newT2_1i2j[a,b] -= T2_1i[k,b,c]*Voovv_2j[k,c,a]\n",
    "               newT2_1i2j[a,b] -= T2_2j[k,b,c]*Voovv_2i[k,c,a]\n",
    "               newT2_1i2j[a,b] += T2_1j[k,b,c]*Voovv_2i[k,c,a]\n",
    "               newT2_1i2j[a,b] += Voovv_1i2j[a,b]\n",
    "           end\n",
    "        end\n",
    "    end\n",
    "    return newT2\n",
    "end"
   ]
  },
  {
   "cell_type": "code",
   "execution_count": 53,
   "metadata": {},
   "outputs": [
    {
     "data": {
      "text/plain": [
       "loop_array_ia (generic function with 1 method)"
      ]
     },
     "execution_count": 53,
     "metadata": {},
     "output_type": "execute_result"
    }
   ],
   "source": [
    "function loop_array_ia()\n",
    "    newT2 = zeros(size(T2))\n",
    "    for i in 1:5\n",
    "        T2_2i = view(T2,:,i,:,:)\n",
    "        T2_1i = view(T2,i,:,:,:)\n",
    "        fock_OO_1i = view(fock_OO,i,:)\n",
    "        Voovv_2i = view(Voovv,:,i,:,:)\n",
    "        Voooo_1i = view(Voooo,i,:,:,:)\n",
    "        for a in 1:20\n",
    "            newT2_1i3a = view(newT2,i,:,a,:)\n",
    "            T2_3a = view(T2,:,:,a,:)\n",
    "            T2_2i3a = view(T2,:,i,a,:)\n",
    "            T2_1i3a = view(T2,i,:,a,:)\n",
    "            fock_VV_2a = view(fock_VV,:,a)\n",
    "            Vvvvv_3a = view(Vvvvv,:,:,a,:)\n",
    "            Voovv_4a = view(Voovv,:,:,:,a)\n",
    "            Voovv_2i4a = view(Voovv,:,i,:,a)\n",
    "            Voovv_1i3a = view(Voovv,i,:,a,:)\n",
    "            @tensoropt (j=>x, k=>x, l=>x, b=>100x, c=>100x, d=>100x) begin\n",
    "                newT2_1i3a[j,b] -= fock_OO_1i[k]*T2_3a[k,j,b]\n",
    "                newT2_1i3a[j,b] += fock_OO_1i[k]*T2_3a[j,k,b]\n",
    "                newT2_1i3a[j,b] += fock_OO[j,k]*T2_2i3a[k,b]\n",
    "                newT2_1i3a[j,b] -= fock_OO[j,k]*T2_1i3a[k,b]\n",
    "                newT2_1i3a[j,b] += fock_VV_2a[c]*T2_2i[j,b,c]\n",
    "                newT2_1i3a[j,b] -= fock_VV_2a[c]*T2_1i[j,b,c]\n",
    "                newT2_1i3a[j,b] -= fock_VV[c,b]*T2_2i3a[j,c]\n",
    "                newT2_1i3a[j,b] += fock_VV[c,b]*T2_1i3a[j,c]\n",
    "                newT2_1i3a[j,b] += -0.5*T2_2i[k,c,d]*T2_3a[l,j,b]*Voovv[k,l,c,d]\n",
    "                newT2_1i3a[j,b] += 0.5*T2_1i[k,c,d]*T2_3a[l,j,b]*Voovv[k,l,c,d]\n",
    "                newT2_1i3a[j,b] += 0.5*T2_2i[k,c,d]*T2_3a[j,l,b]*Voovv[k,l,c,d]\n",
    "                newT2_1i3a[j,b] += -0.5*T2_1i[k,c,d]*T2_3a[j,l,b]*Voovv[k,l,c,d]\n",
    "                newT2_1i3a[j,b] += 0.5*T2_2i[j,c,d]*T2_3a[l,k,b]*Voovv[k,l,c,d]\n",
    "                newT2_1i3a[j,b] += -0.5*T2_1i[j,c,d]*T2_3a[l,k,b]*Voovv[k,l,c,d]\n",
    "                newT2_1i3a[j,b] += -0.5*T2_2i[j,c,d]*Vvvvv_3a[c,d,b]\n",
    "                newT2_1i3a[j,b] += 0.5*T2_1i[j,c,d]*Vvvvv_3a[c,d,b]\n",
    "                newT2_1i3a[j,b] += 0.5*T2[k,j,c,d]*T2_2i3a[l,b]*Voovv[k,l,c,d]\n",
    "                newT2_1i3a[j,b] += -0.5*T2[j,k,c,d]*T2_2i3a[l,b]*Voovv[k,l,c,d]\n",
    "                newT2_1i3a[j,b] += -0.5*T2[k,j,c,d]*T2_1i3a[l,b]*Voovv[k,l,c,d]\n",
    "                newT2_1i3a[j,b] += 0.5*T2[j,k,c,d]*T2_1i3a[l,b]*Voovv[k,l,c,d]\n",
    "                newT2_1i3a[j,b] += -0.5*T2_3a[l,k,c]*T2_2i[j,b,d]*Voovv[k,l,c,d]\n",
    "                newT2_1i3a[j,b] += 0.5*T2_3a[k,l,c]*T2_2i[j,b,d]*Voovv[k,l,c,d]\n",
    "                newT2_1i3a[j,b] += 0.5*T2_3a[l,k,c]*T2_1i[j,b,d]*Voovv[k,l,c,d]\n",
    "                newT2_1i3a[j,b] += -0.5*T2_3a[k,l,c]*T2_1i[j,b,d]*Voovv[k,l,c,d]\n",
    "                newT2_1i3a[j,b] += T2_2i3a[k,c]*T2[l,j,b,d]*Voovv[k,l,c,d]\n",
    "                newT2_1i3a[j,b] -= T2_1i3a[k,c]*T2[l,j,b,d]*Voovv[k,l,c,d]\n",
    "                newT2_1i3a[j,b] -= T2_2i3a[k,c]*T2[j,l,b,d]*Voovv[k,l,c,d]\n",
    "                newT2_1i3a[j,b] += T2_1i3a[k,c]*T2[j,l,b,d]*Voovv[k,l,c,d]\n",
    "                newT2_1i3a[j,b] -= T2_2i3a[k,c]*Voovv[k,j,c,b]\n",
    "                newT2_1i3a[j,b] += T2_1i3a[k,c]*Voovv[k,j,c,b]\n",
    "                newT2_1i3a[j,b] += -0.5*T2_2i3a[j,c]*T2[l,k,b,d]*Voovv[k,l,c,d]\n",
    "                newT2_1i3a[j,b] += 0.5*T2_1i3a[j,c]*T2[l,k,b,d]*Voovv[k,l,c,d]\n",
    "                newT2_1i3a[j,b] += 0.5*T2_2i3a[j,c]*T2[k,l,b,d]*Voovv[k,l,c,d]\n",
    "                newT2_1i3a[j,b] += -0.5*T2_1i3a[j,c]*T2[k,l,b,d]*Voovv[k,l,c,d]\n",
    "                newT2_1i3a[j,b] -= T2_3a[k,j,c]*T2_2i[l,b,d]*Voovv[k,l,c,d]\n",
    "                newT2_1i3a[j,b] += T2_3a[j,k,c]*T2_2i[l,b,d]*Voovv[k,l,c,d]\n",
    "                newT2_1i3a[j,b] += T2_3a[k,j,c]*T2_1i[l,b,d]*Voovv[k,l,c,d]\n",
    "                newT2_1i3a[j,b] -= T2_3a[j,k,c]*T2_1i[l,b,d]*Voovv[k,l,c,d]\n",
    "                newT2_1i3a[j,b] += T2_3a[k,j,c]*Voovv_2i[k,c,b]\n",
    "                newT2_1i3a[j,b] -= T2_3a[j,k,c]*Voovv_2i[k,c,b]\n",
    "                newT2_1i3a[j,b] += -0.5*T2_3a[l,k,b]*Voooo_1i[j,k,l]\n",
    "                newT2_1i3a[j,b] += 0.5*T2_3a[k,l,b]*Voooo_1i[j,k,l]\n",
    "                newT2_1i3a[j,b] += T2_2i[k,b,c]*Voovv_4a[k,j,c]\n",
    "                newT2_1i3a[j,b] -= T2_1i[k,b,c]*Voovv_4a[k,j,c]\n",
    "                newT2_1i3a[j,b] -= T2[k,j,b,c]*Voovv_2i4a[k,c]\n",
    "                newT2_1i3a[j,b] += T2[j,k,b,c]*Voovv_2i4a[k,c]\n",
    "                newT2_1i3a[j,b] += Voovv_1i3a[j,b]\n",
    "           end\n",
    "        end\n",
    "    end\n",
    "    return newT2\n",
    "end"
   ]
  },
  {
   "cell_type": "code",
   "execution_count": 36,
   "metadata": {},
   "outputs": [
    {
     "data": {
      "text/plain": [
       "BenchmarkTools.Trial: \n",
       "  memory estimate:  201.19 KiB\n",
       "  allocs estimate:  2355\n",
       "  --------------\n",
       "  minimum time:     9.480 ms (0.00% GC)\n",
       "  median time:      11.097 ms (0.00% GC)\n",
       "  mean time:        13.939 ms (0.15% GC)\n",
       "  maximum time:     65.400 ms (0.00% GC)\n",
       "  --------------\n",
       "  samples:          359\n",
       "  evals/sample:     1"
      ]
     },
     "execution_count": 36,
     "metadata": {},
     "output_type": "execute_result"
    }
   ],
   "source": [
    "@benchmark a = full_array()"
   ]
  },
  {
   "cell_type": "code",
   "execution_count": 44,
   "metadata": {},
   "outputs": [
    {
     "data": {
      "text/plain": [
       "BenchmarkTools.Trial: \n",
       "  memory estimate:  3.06 MiB\n",
       "  allocs estimate:  65249\n",
       "  --------------\n",
       "  minimum time:     56.691 ms (0.00% GC)\n",
       "  median time:      61.435 ms (0.00% GC)\n",
       "  mean time:        69.612 ms (0.68% GC)\n",
       "  maximum time:     127.239 ms (0.00% GC)\n",
       "  --------------\n",
       "  samples:          72\n",
       "  evals/sample:     1"
      ]
     },
     "execution_count": 44,
     "metadata": {},
     "output_type": "execute_result"
    }
   ],
   "source": [
    "@benchmark b = loop_array()"
   ]
  },
  {
   "cell_type": "code",
   "execution_count": 57,
   "metadata": {},
   "outputs": [
    {
     "data": {
      "text/plain": [
       "BenchmarkTools.Trial: \n",
       "  memory estimate:  12.40 MiB\n",
       "  allocs estimate:  280544\n",
       "  --------------\n",
       "  minimum time:     163.830 ms (0.00% GC)\n",
       "  median time:      172.333 ms (0.00% GC)\n",
       "  mean time:        182.444 ms (0.97% GC)\n",
       "  maximum time:     239.463 ms (0.00% GC)\n",
       "  --------------\n",
       "  samples:          28\n",
       "  evals/sample:     1"
      ]
     },
     "execution_count": 57,
     "metadata": {},
     "output_type": "execute_result"
    }
   ],
   "source": [
    "@benchmark c = loop_array_ia()"
   ]
  },
  {
   "cell_type": "code",
   "execution_count": 60,
   "metadata": {},
   "outputs": [
    {
     "data": {
      "text/plain": [
       "true"
      ]
     },
     "execution_count": 60,
     "metadata": {},
     "output_type": "execute_result"
    }
   ],
   "source": [
    "c ≈ a"
   ]
  },
  {
   "cell_type": "code",
   "execution_count": 77,
   "metadata": {},
   "outputs": [],
   "source": [
    "x = rand(20,20,20,20);"
   ]
  },
  {
   "cell_type": "code",
   "execution_count": 81,
   "metadata": {},
   "outputs": [
    {
     "data": {
      "text/plain": [
       "40512.25770351118"
      ]
     },
     "execution_count": 81,
     "metadata": {},
     "output_type": "execute_result"
    }
   ],
   "source": [
    "@tensor x[i,j,a,b]*x[j,i,a,b]"
   ]
  },
  {
   "cell_type": "code",
   "execution_count": 83,
   "metadata": {},
   "outputs": [
    {
     "data": {
      "text/plain": [
       "test (generic function with 1 method)"
      ]
     },
     "execution_count": 83,
     "metadata": {},
     "output_type": "execute_result"
    }
   ],
   "source": [
    "function test(x)\n",
    "    o,_,_,_ = size(x)\n",
    "    total = 0\n",
    "    for i in 1:o\n",
    "        for j in 1:o\n",
    "            y = view(x, i, j, :, :)\n",
    "            total += @tensor y[a,b]*y[b,a]\n",
    "        end\n",
    "    end\n",
    "    return total\n",
    "end"
   ]
  },
  {
   "cell_type": "code",
   "execution_count": 84,
   "metadata": {},
   "outputs": [
    {
     "data": {
      "text/plain": [
       "test2 (generic function with 1 method)"
      ]
     },
     "execution_count": 84,
     "metadata": {},
     "output_type": "execute_result"
    }
   ],
   "source": [
    "function test2(x)\n",
    "    o,_,_,_ = size(x)\n",
    "    total = 0\n",
    "    for i in 1:o\n",
    "        @simd for j in 1:o\n",
    "            y = view(x, i, j, :, :)\n",
    "            total += @tensor y[a,b]*y[b,a]\n",
    "        end\n",
    "    end\n",
    "    return total\n",
    "end"
   ]
  },
  {
   "cell_type": "code",
   "execution_count": 85,
   "metadata": {},
   "outputs": [
    {
     "data": {
      "text/plain": [
       "BenchmarkTools.Trial: \n",
       "  memory estimate:  650.02 KiB\n",
       "  allocs estimate:  12401\n",
       "  --------------\n",
       "  minimum time:     1.678 ms (0.00% GC)\n",
       "  median time:      1.738 ms (0.00% GC)\n",
       "  mean time:        2.356 ms (5.02% GC)\n",
       "  maximum time:     21.375 ms (82.23% GC)\n",
       "  --------------\n",
       "  samples:          2116\n",
       "  evals/sample:     1"
      ]
     },
     "execution_count": 85,
     "metadata": {},
     "output_type": "execute_result"
    }
   ],
   "source": [
    "@benchmark test(x)"
   ]
  },
  {
   "cell_type": "code",
   "execution_count": 86,
   "metadata": {},
   "outputs": [
    {
     "data": {
      "text/plain": [
       "BenchmarkTools.Trial: \n",
       "  memory estimate:  650.02 KiB\n",
       "  allocs estimate:  12401\n",
       "  --------------\n",
       "  minimum time:     1.678 ms (0.00% GC)\n",
       "  median time:      1.751 ms (0.00% GC)\n",
       "  mean time:        1.996 ms (5.10% GC)\n",
       "  maximum time:     10.844 ms (76.70% GC)\n",
       "  --------------\n",
       "  samples:          2501\n",
       "  evals/sample:     1"
      ]
     },
     "execution_count": 86,
     "metadata": {},
     "output_type": "execute_result"
    }
   ],
   "source": [
    "@benchmark test2(x)"
   ]
  },
  {
   "cell_type": "code",
   "execution_count": null,
   "metadata": {},
   "outputs": [],
   "source": []
  }
 ],
 "metadata": {
  "kernelspec": {
   "display_name": "Julia 1.4.1",
   "language": "julia",
   "name": "julia-1.4"
  },
  "language_info": {
   "file_extension": ".jl",
   "mimetype": "application/julia",
   "name": "julia",
   "version": "1.4.1"
  }
 },
 "nbformat": 4,
 "nbformat_minor": 2
}
