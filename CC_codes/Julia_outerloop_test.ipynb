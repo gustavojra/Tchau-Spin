{
 "cells": [
  {
   "cell_type": "code",
   "execution_count": 1,
   "metadata": {},
   "outputs": [],
   "source": [
    "using TensorOperations\n",
    "using Base.Threads"
   ]
  },
  {
   "cell_type": "code",
   "execution_count": 2,
   "metadata": {},
   "outputs": [
    {
     "data": {
      "text/plain": [
       "2"
      ]
     },
     "execution_count": 2,
     "metadata": {},
     "output_type": "execute_result"
    }
   ],
   "source": [
    "nthreads()"
   ]
  },
  {
   "cell_type": "code",
   "execution_count": 3,
   "metadata": {},
   "outputs": [],
   "source": [
    "using Random"
   ]
  },
  {
   "cell_type": "code",
   "execution_count": 4,
   "metadata": {},
   "outputs": [],
   "source": [
    "using BenchmarkTools"
   ]
  },
  {
   "cell_type": "code",
   "execution_count": 5,
   "metadata": {},
   "outputs": [],
   "source": [
    "o = 5\n",
    "v = 70\n",
    "\n",
    "Voovv = rand(o,o,v,v)\n",
    "Voooo = rand(o,o,o,o)\n",
    "Vvvvv = rand(v,v,v,v)\n",
    "fock_VV = rand(v,v)\n",
    "fock_OO = rand(o,o)\n",
    "T2 = rand(o,o,v,v);"
   ]
  },
  {
   "cell_type": "code",
   "execution_count": 6,
   "metadata": {},
   "outputs": [
    {
     "data": {
      "text/plain": [
       "full_array (generic function with 1 method)"
      ]
     },
     "execution_count": 6,
     "metadata": {},
     "output_type": "execute_result"
    }
   ],
   "source": [
    "function full_array()\n",
    "    newT2 = zeros(size(T2))\n",
    "    @tensoropt (i=>x, j=>x, k=>x, l=>x, a=>100x, b=>100x, c=>100x, d=>100x) begin\n",
    "        newT2[i,j,a,b] -= fock_OO[i,k]*T2[k,j,a,b]\n",
    "        newT2[i,j,a,b] += fock_OO[i,k]*T2[j,k,a,b]\n",
    "        newT2[i,j,a,b] += fock_OO[j,k]*T2[k,i,a,b]\n",
    "        newT2[i,j,a,b] -= fock_OO[j,k]*T2[i,k,a,b]\n",
    "        newT2[i,j,a,b] += fock_VV[c,a]*T2[j,i,b,c]\n",
    "        newT2[i,j,a,b] -= fock_VV[c,a]*T2[i,j,b,c]\n",
    "        newT2[i,j,a,b] -= fock_VV[c,b]*T2[j,i,a,c]\n",
    "        newT2[i,j,a,b] += fock_VV[c,b]*T2[i,j,a,c]\n",
    "        newT2[i,j,a,b] += -0.5*T2[k,i,c,d]*T2[l,j,a,b]*Voovv[k,l,c,d]\n",
    "        newT2[i,j,a,b] += 0.5*T2[i,k,c,d]*T2[l,j,a,b]*Voovv[k,l,c,d]\n",
    "        newT2[i,j,a,b] += 0.5*T2[k,i,c,d]*T2[j,l,a,b]*Voovv[k,l,c,d]\n",
    "        newT2[i,j,a,b] += -0.5*T2[i,k,c,d]*T2[j,l,a,b]*Voovv[k,l,c,d]\n",
    "        newT2[i,j,a,b] += 0.5*T2[j,i,c,d]*T2[l,k,a,b]*Voovv[k,l,c,d]\n",
    "        newT2[i,j,a,b] += -0.5*T2[i,j,c,d]*T2[l,k,a,b]*Voovv[k,l,c,d]\n",
    "        newT2[i,j,a,b] += -0.5*T2[j,i,c,d]*Vvvvv[c,d,a,b]\n",
    "        newT2[i,j,a,b] += 0.5*T2[i,j,c,d]*Vvvvv[c,d,a,b]\n",
    "        newT2[i,j,a,b] += 0.5*T2[k,j,c,d]*T2[l,i,a,b]*Voovv[k,l,c,d]\n",
    "        newT2[i,j,a,b] += -0.5*T2[j,k,c,d]*T2[l,i,a,b]*Voovv[k,l,c,d]\n",
    "        newT2[i,j,a,b] += -0.5*T2[k,j,c,d]*T2[i,l,a,b]*Voovv[k,l,c,d]\n",
    "        newT2[i,j,a,b] += 0.5*T2[j,k,c,d]*T2[i,l,a,b]*Voovv[k,l,c,d]\n",
    "        newT2[i,j,a,b] += -0.5*T2[l,k,a,c]*T2[j,i,b,d]*Voovv[k,l,c,d]\n",
    "        newT2[i,j,a,b] += 0.5*T2[k,l,a,c]*T2[j,i,b,d]*Voovv[k,l,c,d]\n",
    "        newT2[i,j,a,b] += 0.5*T2[l,k,a,c]*T2[i,j,b,d]*Voovv[k,l,c,d]\n",
    "        newT2[i,j,a,b] += -0.5*T2[k,l,a,c]*T2[i,j,b,d]*Voovv[k,l,c,d]\n",
    "        newT2[i,j,a,b] += T2[k,i,a,c]*T2[l,j,b,d]*Voovv[k,l,c,d]\n",
    "        newT2[i,j,a,b] -= T2[i,k,a,c]*T2[l,j,b,d]*Voovv[k,l,c,d]\n",
    "        newT2[i,j,a,b] -= T2[k,i,a,c]*T2[j,l,b,d]*Voovv[k,l,c,d]\n",
    "        newT2[i,j,a,b] += T2[i,k,a,c]*T2[j,l,b,d]*Voovv[k,l,c,d]\n",
    "        newT2[i,j,a,b] -= T2[k,i,a,c]*Voovv[k,j,c,b]\n",
    "        newT2[i,j,a,b] += T2[i,k,a,c]*Voovv[k,j,c,b]\n",
    "        newT2[i,j,a,b] += -0.5*T2[j,i,a,c]*T2[l,k,b,d]*Voovv[k,l,c,d]\n",
    "        newT2[i,j,a,b] += 0.5*T2[i,j,a,c]*T2[l,k,b,d]*Voovv[k,l,c,d]\n",
    "        newT2[i,j,a,b] += 0.5*T2[j,i,a,c]*T2[k,l,b,d]*Voovv[k,l,c,d]\n",
    "        newT2[i,j,a,b] += -0.5*T2[i,j,a,c]*T2[k,l,b,d]*Voovv[k,l,c,d]\n",
    "        newT2[i,j,a,b] -= T2[k,j,a,c]*T2[l,i,b,d]*Voovv[k,l,c,d]\n",
    "        newT2[i,j,a,b] += T2[j,k,a,c]*T2[l,i,b,d]*Voovv[k,l,c,d]\n",
    "        newT2[i,j,a,b] += T2[k,j,a,c]*T2[i,l,b,d]*Voovv[k,l,c,d]\n",
    "        newT2[i,j,a,b] -= T2[j,k,a,c]*T2[i,l,b,d]*Voovv[k,l,c,d]\n",
    "        newT2[i,j,a,b] += T2[k,j,a,c]*Voovv[k,i,c,b]\n",
    "        newT2[i,j,a,b] -= T2[j,k,a,c]*Voovv[k,i,c,b]\n",
    "        newT2[i,j,a,b] += -0.5*T2[l,k,a,b]*Voooo[i,j,k,l]\n",
    "        newT2[i,j,a,b] += 0.5*T2[k,l,a,b]*Voooo[i,j,k,l]\n",
    "        newT2[i,j,a,b] += T2[k,i,b,c]*Voovv[k,j,c,a]\n",
    "        newT2[i,j,a,b] -= T2[i,k,b,c]*Voovv[k,j,c,a]\n",
    "        newT2[i,j,a,b] -= T2[k,j,b,c]*Voovv[k,i,c,a]\n",
    "        newT2[i,j,a,b] += T2[j,k,b,c]*Voovv[k,i,c,a]\n",
    "        newT2[i,j,a,b] += Voovv[i,j,a,b]\n",
    "    end\n",
    "    return newT2\n",
    "end"
   ]
  },
  {
   "cell_type": "code",
   "execution_count": 7,
   "metadata": {},
   "outputs": [
    {
     "data": {
      "text/plain": [
       "loop_array (generic function with 1 method)"
      ]
     },
     "execution_count": 7,
     "metadata": {},
     "output_type": "execute_result"
    }
   ],
   "source": [
    "function loop_array()\n",
    "    newT2 = zeros(size(T2))\n",
    "    nts = []\n",
    "    fock_OO_1is = []\n",
    "    T2_2is = []\n",
    "    T2_1is = []\n",
    "    Voovv_2is = []\n",
    "    T2_2js = []\n",
    "    T2_1js = []\n",
    "    fock_OO_1js = []\n",
    "    T2_1j2is = []\n",
    "    T2_1i2js = []\n",
    "    Voovv_2js = []\n",
    "    Voooo_1i2js = []\n",
    "    Voovv_1i2js = []\n",
    "    for i=1:nthreads()\n",
    "        push!(nts,Array{Float64}(undef,v,v))\n",
    "        push!(fock_OO_1is,Array{Float64}(undef,o))\n",
    "        push!(T2_2is,Array{Float64}(undef,o,v,v))\n",
    "        push!(T2_1is,Array{Float64}(undef,o,v,v))\n",
    "        push!(Voovv_2is,Array{Float64}(undef,o,v,v))\n",
    "        push!(T2_2js,Array{Float64}(undef,o,v,v))\n",
    "        push!(T2_1js,Array{Float64}(undef,o,v,v))\n",
    "        push!(fock_OO_1js,Array{Float64}(undef,o))\n",
    "        push!(T2_1j2is,Array{Float64}(undef,v,v))\n",
    "        push!(T2_1i2js,Array{Float64}(undef,v,v))\n",
    "        push!(Voovv_2js,Array{Float64}(undef,o,v,v))\n",
    "        push!(Voooo_1i2js,Array{Float64}(undef,o,o))\n",
    "        push!(Voovv_1i2js,Array{Float64}(undef,v,v))\n",
    "    end\n",
    "    Threads.@threads for i in 1:5\n",
    "        @views begin\n",
    "            fock_OO_1is[threadid()] .= fock_OO[i,:]\n",
    "            T2_2is[threadid()] .= T2[:,i,:,:]\n",
    "            T2_1is[threadid()] .= T2[i,:,:,:]\n",
    "            Voovv_2is[threadid()] .= Voovv[:,i,:,:]\n",
    "        end\n",
    "        for j in 1:5\n",
    "            @views begin\n",
    "                nts[threadid()] .= newT2[i,j,:,:]\n",
    "                T2_2js[threadid()] .= T2[:,j,:,:]\n",
    "                T2_1js[threadid()] .= T2[j,:,:,:]\n",
    "                fock_OO_1js[threadid()] .= fock_OO[j,:]\n",
    "                T2_1j2is[threadid()] .= T2[j,i,:,:]\n",
    "                T2_1i2js[threadid()] .= T2[i,j,:,:]\n",
    "                Voovv_2js[threadid()] .= Voovv[:,j,:,:]\n",
    "                Voooo_1i2js[threadid()] .= Voooo[i,j,:,:]\n",
    "                Voovv_1i2js[threadid()] .= Voovv[i,j,:,:]\n",
    "            end\n",
    "            @tensoropt (k=>x, l=>x, a=>100x, b=>100x, c=>100x, d=>100x) begin\n",
    "nts[threadid()][a,b] -= (fock_OO_1is[threadid()][k]*T2_2js[threadid()][k,a,b]\n",
    "+ fock_OO_1is[threadid()][k]*T2_1js[threadid()][k,a,b]\n",
    "+ fock_OO_1js[threadid()][k]*T2_2is[threadid()][k,a,b]\n",
    "- fock_OO_1js[threadid()][k]*T2_1is[threadid()][k,a,b]\n",
    "+ fock_VV[c,a]*T2_1j2is[threadid()][b,c]\n",
    "- fock_VV[c,a]*T2_1i2js[threadid()][b,c]\n",
    "- fock_VV[c,b]*T2_1j2is[threadid()][a,c]\n",
    "+ fock_VV[c,b]*T2_1i2js[threadid()][a,c]\n",
    "+ -0.5*T2_2is[threadid()][k,c,d]*T2_2js[threadid()][l,a,b]*Voovv[k,l,c,d]\n",
    "+ 0.5*T2_1is[threadid()][k,c,d]*T2_2js[threadid()][l,a,b]*Voovv[k,l,c,d]\n",
    "+ 0.5*T2_2is[threadid()][k,c,d]*T2_1js[threadid()][l,a,b]*Voovv[k,l,c,d]\n",
    "+ -0.5*T2_1is[threadid()][k,c,d]*T2_1js[threadid()][l,a,b]*Voovv[k,l,c,d]\n",
    "+ 0.5*T2_1j2is[threadid()][c,d]*T2[l,k,a,b]*Voovv[k,l,c,d]\n",
    "+ -0.5*T2_1i2js[threadid()][c,d]*T2[l,k,a,b]*Voovv[k,l,c,d]\n",
    "+ -0.5*T2_1j2is[threadid()][c,d]*Vvvvv[c,d,a,b]\n",
    "+ 0.5*T2_1i2js[threadid()][c,d]*Vvvvv[c,d,a,b]\n",
    "+ 0.5*T2_2js[threadid()][k,c,d]*T2_2is[threadid()][l,a,b]*Voovv[k,l,c,d]\n",
    "+ -0.5*T2_1js[threadid()][k,c,d]*T2_2is[threadid()][l,a,b]*Voovv[k,l,c,d]\n",
    "+ -0.5*T2_2js[threadid()][k,c,d]*T2_1is[threadid()][l,a,b]*Voovv[k,l,c,d]\n",
    "+ 0.5*T2_1js[threadid()][k,c,d]*T2_1is[threadid()][l,a,b]*Voovv[k,l,c,d]\n",
    "+ -0.5*T2[l,k,a,c]*T2_1j2is[threadid()][b,d]*Voovv[k,l,c,d]\n",
    "+ 0.5*T2[k,l,a,c]*T2_1j2is[threadid()][b,d]*Voovv[k,l,c,d]\n",
    "+ 0.5*T2[l,k,a,c]*T2_1i2js[threadid()][b,d]*Voovv[k,l,c,d]\n",
    "+ -0.5*T2[k,l,a,c]*T2_1i2js[threadid()][b,d]*Voovv[k,l,c,d]\n",
    "+ T2_2is[threadid()][k,a,c]*T2_2js[threadid()][l,b,d]*Voovv[k,l,c,d]\n",
    "- T2_1is[threadid()][k,a,c]*T2_2js[threadid()][l,b,d]*Voovv[k,l,c,d]\n",
    "- T2_2is[threadid()][k,a,c]*T2_1js[threadid()][l,b,d]*Voovv[k,l,c,d]\n",
    "+ T2_1is[threadid()][k,a,c]*T2_1js[threadid()][l,b,d]*Voovv[k,l,c,d]\n",
    "- T2_2is[threadid()][k,a,c]*Voovv_2js[threadid()][k,c,b]\n",
    "+ T2_1is[threadid()][k,a,c]*Voovv_2js[threadid()][k,c,b]\n",
    "+ -0.5*T2_1j2is[threadid()][a,c]*T2[l,k,b,d]*Voovv[k,l,c,d]\n",
    "+ 0.5*T2_1i2js[threadid()][a,c]*T2[l,k,b,d]*Voovv[k,l,c,d]\n",
    "+ 0.5*T2_1j2is[threadid()][a,c]*T2[k,l,b,d]*Voovv[k,l,c,d]\n",
    "+ -0.5*T2_1i2js[threadid()][a,c]*T2[k,l,b,d]*Voovv[k,l,c,d]\n",
    "- T2_2js[threadid()][k,a,c]*T2_2is[threadid()][l,b,d]*Voovv[k,l,c,d]\n",
    "+ T2_1js[threadid()][k,a,c]*T2_2is[threadid()][l,b,d]*Voovv[k,l,c,d]\n",
    "+ T2_2js[threadid()][k,a,c]*T2_1is[threadid()][l,b,d]*Voovv[k,l,c,d]\n",
    "- T2_1js[threadid()][k,a,c]*T2_1is[threadid()][l,b,d]*Voovv[k,l,c,d]\n",
    "+ T2_2js[threadid()][k,a,c]*Voovv_2is[threadid()][k,c,b]\n",
    "- T2_1js[threadid()][k,a,c]*Voovv_2is[threadid()][k,c,b]\n",
    "+ -0.5*T2[l,k,a,b]*Voooo_1i2js[threadid()][k,l]\n",
    "+ 0.5*T2[k,l,a,b]*Voooo_1i2js[threadid()][k,l]\n",
    "+ T2_2is[threadid()][k,b,c]*Voovv_2js[threadid()][k,c,a]\n",
    "- T2_1is[threadid()][k,b,c]*Voovv_2js[threadid()][k,c,a]\n",
    "- T2_2js[threadid()][k,b,c]*Voovv_2is[threadid()][k,c,a]\n",
    "+ T2_1js[threadid()][k,b,c]*Voovv_2is[threadid()][k,c,a]\n",
    "+ Voovv_1i2js[threadid()][a,b])\n",
    "\n",
    "\n",
    "            end\n",
    "            newT2[i,j, :, :] .= nts[threadid()]\n",
    "         end\n",
    "    end\n",
    "    return newT2\n",
    "end"
   ]
  },
  {
   "cell_type": "code",
   "execution_count": 8,
   "metadata": {},
   "outputs": [
    {
     "data": {
      "text/plain": [
       "BenchmarkTools.Trial: \n",
       "  memory estimate:  1.29 MiB\n",
       "  allocs estimate:  4265\n",
       "  --------------\n",
       "  minimum time:     153.700 ms (0.00% GC)\n",
       "  median time:      162.563 ms (0.00% GC)\n",
       "  mean time:        180.948 ms (0.00% GC)\n",
       "  maximum time:     286.163 ms (0.00% GC)\n",
       "  --------------\n",
       "  samples:          28\n",
       "  evals/sample:     1"
      ]
     },
     "execution_count": 8,
     "metadata": {},
     "output_type": "execute_result"
    }
   ],
   "source": [
    "@benchmark a = full_array()"
   ]
  },
  {
   "cell_type": "code",
   "execution_count": null,
   "metadata": {},
   "outputs": [],
   "source": [
    "@benchmark b = loop_array()"
   ]
  },
  {
   "cell_type": "code",
   "execution_count": null,
   "metadata": {},
   "outputs": [],
   "source": [
    "a = full_array();\n",
    "b = loop_array();"
   ]
  },
  {
   "cell_type": "code",
   "execution_count": null,
   "metadata": {},
   "outputs": [],
   "source": [
    "a ≈ b"
   ]
  },
  {
   "cell_type": "code",
   "execution_count": null,
   "metadata": {},
   "outputs": [],
   "source": []
  }
 ],
 "metadata": {
  "kernelspec": {
   "display_name": "Julia 1.4.1",
   "language": "julia",
   "name": "julia-1.4"
  },
  "language_info": {
   "file_extension": ".jl",
   "mimetype": "application/julia",
   "name": "julia",
   "version": "1.4.1"
  }
 },
 "nbformat": 4,
 "nbformat_minor": 2
}
