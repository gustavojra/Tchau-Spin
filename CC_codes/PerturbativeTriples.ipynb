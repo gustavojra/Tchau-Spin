{
 "cells": [
  {
   "cell_type": "markdown",
   "metadata": {},
   "source": [
    "# Spin adapting Perturbative Triples Equation"
   ]
  },
  {
   "cell_type": "code",
   "execution_count": 3,
   "metadata": {},
   "outputs": [],
   "source": [
    "from tchau_spin import *\n",
    "# For restricted CC\n",
    "Tensor.rhf = True"
   ]
  },
  {
   "cell_type": "code",
   "execution_count": 4,
   "metadata": {},
   "outputs": [],
   "source": [
    "i,j,a,b = Index.new('ijab', 'xxxx', 'hhpp')\n",
    "k,l,c,d,e,m = Index.new('klcdem', 'xxxxxx', 'hhppph')\n",
    "index_key = {'i':i,\n",
    "             'j':j,\n",
    "             'a':a,\n",
    "             'b':b,\n",
    "             'k':k,\n",
    "             'l':l,\n",
    "             'c':c,\n",
    "             'd':d,\n",
    "             'e':e,\n",
    "             'm':m\n",
    "}"
   ]
  },
  {
   "cell_type": "code",
   "execution_count": 14,
   "metadata": {
    "scrolled": true
   },
   "outputs": [
    {
     "data": {
      "text/latex": [
       "$\\displaystyle t_{A}^{I}\\langle JK|BC\\rangle-t_{A}^{I}\\langle KJ|BC\\rangle-t_{B}^{I}\\langle JK|AC\\rangle+t_{B}^{I}\\langle KJ|AC\\rangle-t_{C}^{I}\\langle JK|BA\\rangle+t_{C}^{I}\\langle KJ|BA\\rangle-t_{A}^{J}\\langle IK|BC\\rangle+t_{A}^{J}\\langle KI|BC\\rangle+t_{B}^{J}\\langle IK|AC\\rangle-t_{B}^{J}\\langle KI|AC\\rangle+t_{C}^{J}\\langle IK|BA\\rangle-t_{C}^{J}\\langle KI|BA\\rangle-t_{A}^{K}\\langle JI|BC\\rangle+t_{A}^{K}\\langle IJ|BC\\rangle+t_{B}^{K}\\langle JI|AC\\rangle-t_{B}^{K}\\langle IJ|AC\\rangle+t_{C}^{K}\\langle JI|BA\\rangle-t_{C}^{K}\\langle IJ|BA\\rangle$"
      ],
      "text/plain": [
       "<IPython.core.display.Math object>"
      ]
     },
     "metadata": {},
     "output_type": "display_data"
    }
   ],
   "source": [
    "disc  = 'P(i/jk)P(a/bc)[t^{i}_{a}*v^{jk}_{bc}]'\n",
    "disc = eqfromlatex(disc, index_key).simplify()\n",
    "disc = disc.adapt_space()\n",
    "disc = Permutation.find_permutations(disc)\n",
    "platex(disc*(1/8))"
   ]
  },
  {
   "cell_type": "code",
   "execution_count": 7,
   "metadata": {},
   "outputs": [
    {
     "data": {
      "text/latex": [
       "$\\displaystyle -8t_{Ea}^{Jk}\\langle IE|CB\\rangle+8t_{Ae}^{Jk}\\langle IE|CB\\rangle+8t_{Ea}^{Jk}\\langle IE|BC\\rangle-8t_{Ae}^{Jk}\\langle IE|BC\\rangle+8t_{Eb}^{Jk}\\langle IE|CA\\rangle-8t_{Be}^{Jk}\\langle IE|CA\\rangle-8t_{Eb}^{Jk}\\langle IE|AC\\rangle+8t_{Be}^{Jk}\\langle IE|AC\\rangle+8t_{Ec}^{Jk}\\langle IE|AB\\rangle-8t_{Ce}^{Jk}\\langle IE|AB\\rangle-8t_{Ec}^{Jk}\\langle IE|BA\\rangle+8t_{Ce}^{Jk}\\langle IE|BA\\rangle+8t_{Ea}^{Ik}\\langle JE|CB\\rangle-8t_{Ae}^{Ik}\\langle JE|CB\\rangle-8t_{Ea}^{Ik}\\langle JE|BC\\rangle+8t_{Ae}^{Ik}\\langle JE|BC\\rangle-8t_{Eb}^{Ik}\\langle JE|CA\\rangle+8t_{Be}^{Ik}\\langle JE|CA\\rangle+8t_{Eb}^{Ik}\\langle JE|AC\\rangle-8t_{Be}^{Ik}\\langle JE|AC\\rangle-8t_{Ec}^{Ik}\\langle JE|AB\\rangle+8t_{Ce}^{Ik}\\langle JE|AB\\rangle+8t_{Ec}^{Ik}\\langle JE|BA\\rangle-8t_{Ce}^{Ik}\\langle JE|BA\\rangle+8t_{Ea}^{Ji}\\langle KE|CB\\rangle-8t_{Ae}^{Ji}\\langle KE|CB\\rangle-8t_{Ea}^{Ji}\\langle KE|BC\\rangle+8t_{Ae}^{Ji}\\langle KE|BC\\rangle-8t_{Eb}^{Ji}\\langle KE|CA\\rangle+8t_{Be}^{Ji}\\langle KE|CA\\rangle+8t_{Eb}^{Ji}\\langle KE|AC\\rangle-8t_{Be}^{Ji}\\langle KE|AC\\rangle-8t_{Ec}^{Ji}\\langle KE|AB\\rangle+8t_{Ce}^{Ji}\\langle KE|AB\\rangle+8t_{Ec}^{Ji}\\langle KE|BA\\rangle-8t_{Ce}^{Ji}\\langle KE|BA\\rangle+8t_{Cb}^{Im}\\langle JK|MA\\rangle-8t_{Bc}^{Im}\\langle JK|MA\\rangle-8t_{Cb}^{Im}\\langle KJ|MA\\rangle+8t_{Bc}^{Im}\\langle KJ|MA\\rangle$"
      ],
      "text/plain": [
       "<IPython.core.display.Math object>"
      ]
     },
     "metadata": {},
     "output_type": "display_data"
    }
   ],
   "source": [
    "conec = 'P(i/jk)P(a/bc)[t^{jk}_{ae}*v^{ei}_{bc} -t^{im}_{bc}*v^{jk}_{ma}]'\n",
    "conec = eqfromlatex(conec, index_key).simplify()\n",
    "conec = conec.adapt_space()\n",
    "platex(conec)"
   ]
  }
 ],
 "metadata": {
  "kernelspec": {
   "display_name": "Python 3",
   "language": "python",
   "name": "python3"
  },
  "language_info": {
   "codemirror_mode": {
    "name": "ipython",
    "version": 3
   },
   "file_extension": ".py",
   "mimetype": "text/x-python",
   "name": "python",
   "nbconvert_exporter": "python",
   "pygments_lexer": "ipython3",
   "version": "3.6.8"
  }
 },
 "nbformat": 4,
 "nbformat_minor": 2
}
