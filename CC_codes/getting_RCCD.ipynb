{
 "cells": [
  {
   "cell_type": "markdown",
   "metadata": {},
   "source": [
    "# Obtaining a RCCD Code using Sympy and Tchau-Spin"
   ]
  },
  {
   "cell_type": "markdown",
   "metadata": {},
   "source": [
    "$\\bullet$ Import Sympy packages"
   ]
  },
  {
   "cell_type": "code",
   "execution_count": 1,
   "metadata": {},
   "outputs": [],
   "source": [
    "from sympy.physics.secondquant import (AntiSymmetricTensor, wicks,\n",
    "        F, Fd, NO, evaluate_deltas, substitute_dummies, Commutator,\n",
    "        simplify_index_permutations, PermutationOperator)\n",
    "from sympy import (\n",
    "    symbols, Rational, latex, Dummy\n",
    ")\n",
    "\n",
    "# For Sympy (simplification of equations)\n",
    "pretty_dummies_dict = {\n",
    "    'above': 'cdefgh',\n",
    "    'below': 'klmno',\n",
    "    'general': 'pqrstu'\n",
    "}"
   ]
  },
  {
   "cell_type": "markdown",
   "metadata": {},
   "source": [
    "$\\bullet$ Define symbols for Sympy"
   ]
  },
  {
   "cell_type": "code",
   "execution_count": 2,
   "metadata": {},
   "outputs": [],
   "source": [
    "i = symbols('i', below_fermi=True, cls=Dummy)\n",
    "a = symbols('a', above_fermi=True, cls=Dummy)\n",
    "j = symbols('j', below_fermi=True, cls=Dummy)\n",
    "b = symbols('b', above_fermi=True, cls=Dummy)\n",
    "p, q, r, s = symbols('p,q,r,s', cls=Dummy)"
   ]
  },
  {
   "cell_type": "markdown",
   "metadata": {},
   "source": [
    "## Build the $\\Phi$-normal ordered Hamiltonian"
   ]
  },
  {
   "cell_type": "code",
   "execution_count": 3,
   "metadata": {},
   "outputs": [
    {
     "data": {
      "text/latex": [
       "$\\displaystyle f^{p}_{q} \\left\\{a^\\dagger_{p} a_{q}\\right\\} - \\frac{v^{pq}_{rs} \\left\\{a^\\dagger_{p} a^\\dagger_{q} a_{r} a_{s}\\right\\}}{4}$"
      ],
      "text/plain": [
       "AntiSymmetricTensor(f, (_p,), (_q,))*NO(CreateFermion(_p)*AnnihilateFermion(_q)) - AntiSymmetricTensor(v, (_p, _q), (_r, _s))*NO(CreateFermion(_p)*CreateFermion(_q)*AnnihilateFermion(_r)*AnnihilateFermion(_s))/4"
      ]
     },
     "execution_count": 3,
     "metadata": {},
     "output_type": "execute_result"
    }
   ],
   "source": [
    "fock = AntiSymmetricTensor('f', (p,), (q,))\n",
    "pr = NO(Fd(p)*F(q))\n",
    "V = AntiSymmetricTensor('v',(p,q),(r,s))\n",
    "pqsr = NO(Fd(p)*Fd(q)*F(s)*F(r))\n",
    "H = fock*pr + Rational(1,4)*V*pqsr\n",
    "H"
   ]
  },
  {
   "cell_type": "markdown",
   "metadata": {},
   "source": [
    "## Build Cluster Operator"
   ]
  },
  {
   "cell_type": "code",
   "execution_count": 4,
   "metadata": {},
   "outputs": [
    {
     "data": {
      "text/latex": [
       "$\\displaystyle - \\frac{t^{ab}_{ij} \\left\\{a^\\dagger_{a} a^\\dagger_{b} a_{i} a_{j}\\right\\}}{4}$"
      ],
      "text/plain": [
       "-AntiSymmetricTensor(t, (_a, _b), (_i, _j))*NO(CreateFermion(_a)*CreateFermion(_b)*AnnihilateFermion(_i)*AnnihilateFermion(_j))/4"
      ]
     },
     "execution_count": 4,
     "metadata": {},
     "output_type": "execute_result"
    }
   ],
   "source": [
    "def get_T():\n",
    "    i, j = symbols('i,j', below_fermi=True, cls=Dummy)\n",
    "    a, b = symbols('a,b', above_fermi=True, cls=Dummy)\n",
    "    t_abij = Rational(1,4)*AntiSymmetricTensor('t', (a,b), (i,j))*NO(Fd(a)*Fd(b)*F(j)*F(i))\n",
    "    return t_abij\n",
    "\n",
    "get_T()"
   ]
  },
  {
   "cell_type": "markdown",
   "metadata": {},
   "source": [
    "## Perform the Hausdorff expansion"
   ]
  },
  {
   "cell_type": "markdown",
   "metadata": {},
   "source": [
    "<center> $\\bar{H} = e^{-\\hat{T}}\\hat{H}_Ne^{\\hat{T}}$ <br/>\n",
    "    \n",
    " <p>&nbsp;</p>\n",
    "    \n",
    "<center>$\\bar{H} = \\hat{H}_N + [\\hat{H}_N, \\hat{T}] + \\frac{1}{2}[[\\hat{H}_N, \\hat{T}], \\hat{T}] + \\frac{1}{3!}[[[\\hat{H}_N, \\hat{T}], \\hat{T}], \\hat{T}] + \\frac{1}{4!}[[[[\\hat{H}_N, \\hat{T}], \\hat{T}], \\hat{T}], \\hat{T}]$"
   ]
  },
  {
   "cell_type": "code",
   "execution_count": 5,
   "metadata": {},
   "outputs": [
    {
     "name": "stdout",
     "output_type": "stream",
     "text": [
      "commutator 1...\n"
     ]
    }
   ],
   "source": [
    "C = Commutator\n",
    "T = get_T()\n",
    "print(\"commutator 1...\")\n",
    "comm1 = wicks(C(H, T))\n",
    "comm1 = evaluate_deltas(comm1)\n",
    "comm1 = substitute_dummies(comm1)"
   ]
  },
  {
   "cell_type": "code",
   "execution_count": 6,
   "metadata": {},
   "outputs": [
    {
     "name": "stdout",
     "output_type": "stream",
     "text": [
      "commutator 2...\n"
     ]
    }
   ],
   "source": [
    "T = get_T()\n",
    "print(\"commutator 2...\")\n",
    "comm2 = wicks(C(comm1, T))\n",
    "comm2 = evaluate_deltas(comm2)\n",
    "comm2 = substitute_dummies(comm2)"
   ]
  },
  {
   "cell_type": "code",
   "execution_count": 7,
   "metadata": {},
   "outputs": [
    {
     "name": "stdout",
     "output_type": "stream",
     "text": [
      "commutator 3...\n"
     ]
    }
   ],
   "source": [
    "T = get_T()\n",
    "print(\"commutator 3...\")\n",
    "comm3 = wicks(C(comm2, T))\n",
    "comm3 = evaluate_deltas(comm3)\n",
    "comm3 = substitute_dummies(comm3)"
   ]
  },
  {
   "cell_type": "code",
   "execution_count": 8,
   "metadata": {},
   "outputs": [
    {
     "name": "stdout",
     "output_type": "stream",
     "text": [
      "commutator 4...\n"
     ]
    }
   ],
   "source": [
    "T = get_T()\n",
    "print(\"commutator 4...\")\n",
    "comm4 = wicks(C(comm3, T))\n",
    "comm4 = evaluate_deltas(comm4)\n",
    "comm4 = substitute_dummies(comm4)"
   ]
  },
  {
   "cell_type": "markdown",
   "metadata": {},
   "source": [
    "## Construct the Similarity Transformed Hamiltonian"
   ]
  },
  {
   "cell_type": "code",
   "execution_count": 9,
   "metadata": {},
   "outputs": [],
   "source": [
    "eq = H + comm1 + comm2/2 + comm3/6 + comm4/24\n",
    "eq = eq.expand()\n",
    "eq = evaluate_deltas(eq)\n",
    "eq = substitute_dummies(eq, new_indices=True,\n",
    "        pretty_indices=pretty_dummies_dict)"
   ]
  },
  {
   "cell_type": "markdown",
   "metadata": {},
   "source": [
    "## Get energy expression"
   ]
  },
  {
   "cell_type": "markdown",
   "metadata": {},
   "source": [
    "<center>$E = \\langle | \\bar{H} e^{\\hat{T}}| \\rangle_C$"
   ]
  },
  {
   "cell_type": "code",
   "execution_count": 10,
   "metadata": {},
   "outputs": [
    {
     "name": "stdout",
     "output_type": "stream",
     "text": [
      "\n",
      "CC Energy:\n"
     ]
    },
    {
     "data": {
      "text/plain": [
       "'\\\\frac{t^{cd}_{kl} v^{kl}_{cd}}{4}'"
      ]
     },
     "execution_count": 10,
     "metadata": {},
     "output_type": "execute_result"
    }
   ],
   "source": [
    "i, j, k, l = symbols('i,j,k,l', below_fermi=True)\n",
    "a, b, c, d = symbols('a,b,c,d', above_fermi=True)\n",
    "print()\n",
    "print(\"CC Energy:\")\n",
    "energy = wicks(eq, simplify_dummies=True,\n",
    "        keep_only_fully_contracted=True)\n",
    "latex(energy)"
   ]
  },
  {
   "cell_type": "markdown",
   "metadata": {},
   "source": [
    "## Get $T_2$ amplitude equation"
   ]
  },
  {
   "cell_type": "markdown",
   "metadata": {},
   "source": [
    "<center>$E = \\langle \\Phi_{ij}^{ab}| \\bar{H} e^{\\hat{T}}| \\rangle_C$\n",
    "\n",
    "<p>&nbsp;</p>\n",
    "\n",
    "<center> $E = \\langle |i^\\dagger j^\\dagger b a \\bar{H} e^{\\hat{T}}| \\rangle_C$"
   ]
  },
  {
   "cell_type": "code",
   "execution_count": 11,
   "metadata": {},
   "outputs": [
    {
     "data": {
      "text/plain": [
       "'f^{k}_{i} t^{ab}_{jk} - f^{k}_{j} t^{ab}_{ik} - f^{a}_{c} t^{bc}_{ij} + f^{b}_{c} t^{ac}_{ij} - \\\\frac{t^{cd}_{ik} t^{ab}_{jl} v^{kl}_{cd}}{2} + \\\\frac{t^{cd}_{ij} t^{ab}_{kl} v^{kl}_{cd}}{4} + \\\\frac{t^{cd}_{ij} v^{ab}_{cd}}{2} + \\\\frac{t^{cd}_{jk} t^{ab}_{il} v^{kl}_{cd}}{2} - \\\\frac{t^{ac}_{kl} t^{bd}_{ij} v^{kl}_{cd}}{2} + t^{ac}_{ik} t^{bd}_{jl} v^{kl}_{cd} + t^{ac}_{ik} v^{bk}_{jc} - \\\\frac{t^{ac}_{ij} t^{bd}_{kl} v^{kl}_{cd}}{2} - t^{ac}_{jk} t^{bd}_{il} v^{kl}_{cd} - t^{ac}_{jk} v^{bk}_{ic} + \\\\frac{t^{ab}_{kl} v^{kl}_{ij}}{2} - t^{bc}_{ik} v^{ak}_{jc} + t^{bc}_{jk} v^{ak}_{ic} + v^{ab}_{ij}'"
      ]
     },
     "execution_count": 11,
     "metadata": {},
     "output_type": "execute_result"
    }
   ],
   "source": [
    "eqT2 = wicks(NO(Fd(i)*Fd(j)*F(b)*F(a))*eq, simplify_dummies=True, \n",
    "             keep_only_fully_contracted=True, simplify_kronecker_deltas=True)\n",
    "latex(eqT2)"
   ]
  },
  {
   "cell_type": "markdown",
   "metadata": {},
   "source": [
    "# Using Tchau-Spin"
   ]
  },
  {
   "cell_type": "code",
   "execution_count": 12,
   "metadata": {},
   "outputs": [],
   "source": [
    "from tchau_spin import *\n",
    "# For restricted CC\n",
    "Tensor.rhf = True"
   ]
  },
  {
   "cell_type": "markdown",
   "metadata": {},
   "source": [
    "$\\bullet$ Define indexes"
   ]
  },
  {
   "cell_type": "code",
   "execution_count": 13,
   "metadata": {},
   "outputs": [],
   "source": [
    "i,j,a,b = Index.new('ijab', 'abab', 'hhpp')\n",
    "k,l,c,d = Index.new('klcd', 'xxxx', 'hhpp')\n",
    "index_key = {'i':i,\n",
    "             'j':j,\n",
    "             'a':a,\n",
    "             'b':b,\n",
    "             'k':k,\n",
    "             'l':l,\n",
    "             'c':c,\n",
    "             'd':d\n",
    "}"
   ]
  },
  {
   "cell_type": "markdown",
   "metadata": {},
   "source": [
    "## Processing Energy expression"
   ]
  },
  {
   "cell_type": "code",
   "execution_count": 14,
   "metadata": {},
   "outputs": [
    {
     "data": {
      "text/latex": [
       "$\\displaystyle +0.25t_{kl}^{cd}\\langle cd|kl\\rangle+0.25t_{kL}^{cD}\\langle cD|kL\\rangle+0.25t_{Kl}^{Cd}\\langle Cd|Kl\\rangle+0.25t_{KL}^{CD}\\langle CD|KL\\rangle-0.25t_{kl}^{cd}\\langle cd|lk\\rangle-0.25t_{kL}^{Cd}\\langle Cd|Lk\\rangle-0.25t_{Kl}^{cD}\\langle cD|lK\\rangle-0.25t_{KL}^{CD}\\langle CD|LK\\rangle$"
      ],
      "text/plain": [
       "<IPython.core.display.Math object>"
      ]
     },
     "metadata": {},
     "output_type": "display_data"
    }
   ],
   "source": [
    "E = eqfromlatex(latex(energy), index_key)\n",
    "platex(E)"
   ]
  },
  {
   "cell_type": "markdown",
   "metadata": {},
   "source": [
    "$\\bullet$ Simplify Equation"
   ]
  },
  {
   "cell_type": "code",
   "execution_count": 24,
   "metadata": {},
   "outputs": [
    {
     "data": {
      "text/latex": [
       "$\\displaystyle -t_{Lk}^{Cd}\\langle KL|CD\\rangle+2.0t_{Kl}^{Cd}\\langle KL|CD\\rangle$"
      ],
      "text/plain": [
       "<IPython.core.display.Math object>"
      ]
     },
     "metadata": {},
     "output_type": "display_data"
    }
   ],
   "source": [
    "E = E.simplify()\n",
    "E = E.adapt_space()\n",
    "platex(E)"
   ]
  },
  {
   "cell_type": "markdown",
   "metadata": {},
   "source": [
    "$\\bullet$ Process equation. It is necessary to identify the external indexes (in this case none). Also it is optional to provide names. Let's do it without these options first"
   ]
  },
  {
   "cell_type": "code",
   "execution_count": 25,
   "metadata": {},
   "outputs": [
    {
     "name": "stdout",
     "output_type": "stream",
     "text": [
      "name -= np.einsum('lkcd, klcd -> ', T_OoVv, V_OOVV, optimize = 'optimal')\n",
      "name += 2.0*np.einsum('klcd, klcd -> ', T_OoVv, V_OOVV, optimize = 'optimal')\n",
      "\n"
     ]
    }
   ],
   "source": [
    "pE = process_eq(eq=E)\n",
    "pE.write_einsums_out(print_out=True)"
   ]
  },
  {
   "cell_type": "markdown",
   "metadata": {},
   "source": [
    "$\\bullet$ The output is more useful if we define some options"
   ]
  },
  {
   "cell_type": "code",
   "execution_count": 27,
   "metadata": {},
   "outputs": [
    {
     "name": "stdout",
     "output_type": "stream",
     "text": [
      "CC_energy -= np.einsum('lkcd, klcd -> ', T2, Voovv, optimize = 'optimal')\n",
      "CC_energy += 2.0*np.einsum('klcd, klcd -> ', T2, Voovv, optimize = 'optimal')\n",
      "\n"
     ]
    }
   ],
   "source": [
    "mytensors = {\n",
    "    'T_OoVv' : 'T2',\n",
    "    'V_OOOO' : 'Voooo',\n",
    "    'V_OOOV' : 'Vooov',\n",
    "    'V_OOVV' : 'Voovv',\n",
    "    'V_OVOV' : 'Vovov',\n",
    "    'V_OVVV' : 'Vovvv',\n",
    "    'V_VVVV' : 'Vvvvv',\n",
    "    'f_OO' : 'fock_OO',\n",
    "    'f_VV' : 'fock_VV',\n",
    "    'f_OV' : 'fock_OV'\n",
    "    \n",
    "}\n",
    "\n",
    "pE = process_eq(eq=E, name = 'CC_energy', tensor_labels = mytensors)\n",
    "pE.write_einsums_out(print_out=True)"
   ]
  },
  {
   "cell_type": "markdown",
   "metadata": {},
   "source": [
    "## Processing Amplitude equation"
   ]
  },
  {
   "cell_type": "code",
   "execution_count": 18,
   "metadata": {},
   "outputs": [
    {
     "data": {
      "text/latex": [
       "$\\displaystyle -\\langle Ij|bA\\rangle+\\langle Ij|Ab\\rangle+f_{cb}t_{Ij}^{Ac}+f_{IK}t_{jK}^{Ab}-f_{jk}t_{Ik}^{Ab}-f_{CA}t_{Ij}^{bC}-0.5t_{Ij}^{cD}\\langle cD|bA\\rangle+t_{Ik}^{Ac}\\langle jc|bk\\rangle+t_{IK}^{AC}\\langle jC|bK\\rangle+t_{jK}^{Ac}\\langle Ic|Kb\\rangle+t_{jk}^{bc}\\langle Ic|Ak\\rangle-t_{jK}^{bC}\\langle IC|KA\\rangle-t_{Ik}^{Ac}\\langle jc|kb\\rangle+0.5t_{Kl}^{Ab}\\langle Ij|Kl\\rangle-0.5t_{kL}^{Ab}\\langle Ij|Lk\\rangle+t_{jK}^{bC}\\langle IC|AK\\rangle+t_{Ik}^{bC}\\langle jC|kA\\rangle+0.5t_{Ij}^{Cd}\\langle Cd|Ab\\rangle+0.5t_{jL}^{Ab}t_{IK}^{CD}\\langle CD|LK\\rangle-0.5t_{kl}^{bd}t_{Ij}^{Ac}\\langle cd|kl\\rangle+t_{jl}^{bd}t_{Ik}^{Ac}\\langle cd|kl\\rangle+0.5t_{Ij}^{bD}t_{KL}^{AC}\\langle CD|LK\\rangle+t_{jL}^{bD}t_{Ik}^{Ac}\\langle cD|kL\\rangle+0.5t_{Il}^{Ab}t_{jk}^{cd}\\langle cd|kl\\rangle+0.5t_{jL}^{Ab}t_{Ik}^{Cd}\\langle Cd|Lk\\rangle+0.5t_{Ij}^{bD}t_{Kl}^{Ac}\\langle cD|lK\\rangle-0.5t_{Il}^{Ab}t_{jK}^{cD}\\langle cD|lK\\rangle-0.25t_{Kl}^{Ab}t_{Ij}^{cD}\\langle cD|lK\\rangle-0.5t_{Il}^{Ab}t_{jk}^{cd}\\langle cd|lk\\rangle+0.5t_{kl}^{bd}t_{Ij}^{Ac}\\langle cd|lk\\rangle+0.25t_{Kl}^{Ab}t_{Ij}^{Cd}\\langle Cd|Kl\\rangle+t_{jL}^{bD}t_{IK}^{AC}\\langle CD|KL\\rangle+t_{Il}^{bD}t_{jK}^{Ac}\\langle cD|lK\\rangle-t_{jL}^{bD}t_{IK}^{AC}\\langle CD|LK\\rangle+0.25t_{kL}^{Ab}t_{Ij}^{cD}\\langle cD|kL\\rangle+t_{jl}^{bd}t_{IK}^{AC}\\langle Cd|Kl\\rangle-0.5t_{jL}^{Ab}t_{IK}^{CD}\\langle CD|KL\\rangle-0.5t_{jL}^{Ab}t_{Ik}^{cD}\\langle cD|kL\\rangle-0.5t_{kL}^{bD}t_{Ij}^{Ac}\\langle cD|kL\\rangle+0.5t_{Il}^{Ab}t_{jK}^{Cd}\\langle Cd|Kl\\rangle-0.5t_{Ij}^{bD}t_{kL}^{Ac}\\langle cD|kL\\rangle+0.5t_{Kl}^{bD}t_{Ij}^{Ac}\\langle cD|lK\\rangle-0.5t_{Ij}^{bD}t_{KL}^{AC}\\langle CD|KL\\rangle-t_{jl}^{bd}t_{Ik}^{Ac}\\langle cd|lk\\rangle-0.25t_{kL}^{Ab}t_{Ij}^{Cd}\\langle Cd|Lk\\rangle$"
      ],
      "text/plain": [
       "<IPython.core.display.Math object>"
      ]
     },
     "metadata": {},
     "output_type": "display_data"
    }
   ],
   "source": [
    "T2 = eqfromlatex(latex(eqT2), index_key)\n",
    "platex(T2)"
   ]
  },
  {
   "cell_type": "markdown",
   "metadata": {},
   "source": [
    "$\\bullet$ Simplify"
   ]
  },
  {
   "cell_type": "code",
   "execution_count": 21,
   "metadata": {},
   "outputs": [
    {
     "data": {
      "text/latex": [
       "$\\displaystyle +\\langle IJ|AB\\rangle+f_{CB}t_{Ij}^{Ac}-f_{IK}t_{Kj}^{Ab}-f_{JK}t_{Ik}^{Ab}+f_{CA}t_{Ij}^{Cb}+t_{Ij}^{Cd}\\langle CD|AB\\rangle+2.0t_{Ik}^{Ac}\\langle KJ|CB\\rangle-t_{Kj}^{Ac}\\langle IC|KB\\rangle-t_{Kj}^{Bc}\\langle KI|CA\\rangle+t_{Jk}^{Bc}\\langle KI|CA\\rangle+t_{Kj}^{Cb}\\langle KI|CA\\rangle-t_{Kj}^{Cb}\\langle IC|KA\\rangle+t_{Kl}^{Ab}\\langle IJ|KL\\rangle-t_{Ik}^{Ac}\\langle JC|KB\\rangle-t_{Ki}^{Ac}\\langle KJ|CB\\rangle-t_{Ik}^{Cb}\\langle JC|KA\\rangle+t_{Kj}^{Ac}t_{Il}^{Db}\\langle LK|CD\\rangle+t_{Ij}^{Cd}t_{Kl}^{Ab}\\langle KL|CD\\rangle-2.0t_{Ik}^{Ac}t_{Lj}^{Bd}\\langle KL|CD\\rangle+t_{Ki}^{Ac}t_{Lj}^{Db}\\langle LK|CD\\rangle-t_{Ij}^{Ac}t_{Lk}^{Db}\\langle KL|CD\\rangle+t_{Ik}^{Ac}t_{Lj}^{Bd}\\langle LK|CD\\rangle+0.5t_{Jk}^{Cd}t_{Il}^{Ab}\\langle KL|CD\\rangle-t_{Ik}^{Ac}t_{Jl}^{Bd}\\langle LK|CD\\rangle-t_{Ik}^{Ac}t_{Lj}^{Db}\\langle LK|CD\\rangle+2.0t_{Ik}^{Ac}t_{Lj}^{Db}\\langle KL|CD\\rangle-1.5t_{Ik}^{Cd}t_{Lj}^{Ab}\\langle LK|CD\\rangle-1.5t_{Kj}^{Cd}t_{Il}^{Ab}\\langle KL|CD\\rangle+t_{Ij}^{Ac}t_{Lk}^{Bd}\\langle KL|CD\\rangle+0.5t_{Kj}^{Cd}t_{Il}^{Ab}\\langle LK|CD\\rangle+0.5t_{Ki}^{Cd}t_{Lj}^{Ab}\\langle LK|CD\\rangle-t_{Ki}^{Ac}t_{Jl}^{Bd}\\langle KL|CD\\rangle-0.5t_{Ki}^{Cd}t_{Lj}^{Ab}\\langle KL|CD\\rangle+t_{Ki}^{Ac}t_{Lj}^{Bd}\\langle KL|CD\\rangle+t_{Kl}^{Ac}t_{Ij}^{Db}\\langle KL|CD\\rangle+0.5t_{Ik}^{Cd}t_{Lj}^{Ab}\\langle KL|CD\\rangle+2.0t_{Ik}^{Ac}t_{Jl}^{Bd}\\langle KL|CD\\rangle-t_{Ij}^{Ac}t_{Kl}^{Bd}\\langle KL|CD\\rangle-0.5t_{Jk}^{Cd}t_{Il}^{Ab}\\langle LK|CD\\rangle-2.0t_{Lk}^{Ac}t_{Ij}^{Db}\\langle KL|CD\\rangle-t_{Ki}^{Ac}t_{Lj}^{Db}\\langle KL|CD\\rangle$"
      ],
      "text/plain": [
       "<IPython.core.display.Math object>"
      ]
     },
     "metadata": {},
     "output_type": "display_data"
    }
   ],
   "source": [
    "T2 = T2.simplify()\n",
    "T2 = T2.adapt_space()\n",
    "platex(T2)"
   ]
  },
  {
   "cell_type": "code",
   "execution_count": 22,
   "metadata": {
    "scrolled": true
   },
   "outputs": [
    {
     "name": "stdout",
     "output_type": "stream",
     "text": [
      "newT2 += Voovv\n",
      "newT2 += np.einsum('cb, ijac -> ijab', fock_VV, T2, optimize = 'optimal')\n",
      "newT2 -= np.einsum('ik, kjab -> ijab', fock_OO, T2, optimize = 'optimal')\n",
      "newT2 -= np.einsum('jk, ikab -> ijab', fock_OO, T2, optimize = 'optimal')\n",
      "newT2 += np.einsum('ca, ijcb -> ijab', fock_VV, T2, optimize = 'optimal')\n",
      "newT2 += np.einsum('ijcd, cdab -> ijab', T2, Vvvvv, optimize = 'optimal')\n",
      "newT2 += 2.0*np.einsum('ikac, kjcb -> ijab', T2, Voovv, optimize = 'optimal')\n",
      "newT2 -= np.einsum('kjac, ickb -> ijab', T2, Vovov, optimize = 'optimal')\n",
      "newT2 -= np.einsum('kjbc, kica -> ijab', T2, Voovv, optimize = 'optimal')\n",
      "newT2 += np.einsum('jkbc, kica -> ijab', T2, Voovv, optimize = 'optimal')\n",
      "newT2 += np.einsum('kjcb, kica -> ijab', T2, Voovv, optimize = 'optimal')\n",
      "newT2 -= np.einsum('kjcb, icka -> ijab', T2, Vovov, optimize = 'optimal')\n",
      "newT2 += np.einsum('klab, ijkl -> ijab', T2, Voooo, optimize = 'optimal')\n",
      "newT2 -= np.einsum('ikac, jckb -> ijab', T2, Vovov, optimize = 'optimal')\n",
      "newT2 -= np.einsum('kiac, kjcb -> ijab', T2, Voovv, optimize = 'optimal')\n",
      "newT2 -= np.einsum('ikcb, jcka -> ijab', T2, Vovov, optimize = 'optimal')\n",
      "newT2 += np.einsum('kjac, ildb, lkcd -> ijab', T2, T2, Voovv, optimize = 'optimal')\n",
      "newT2 += np.einsum('ijcd, klab, klcd -> ijab', T2, T2, Voovv, optimize = 'optimal')\n",
      "newT2 += -2.0*np.einsum('ikac, ljbd, klcd -> ijab', T2, T2, Voovv, optimize = 'optimal')\n",
      "newT2 += np.einsum('kiac, ljdb, lkcd -> ijab', T2, T2, Voovv, optimize = 'optimal')\n",
      "newT2 -= np.einsum('ijac, lkdb, klcd -> ijab', T2, T2, Voovv, optimize = 'optimal')\n",
      "newT2 += np.einsum('ikac, ljbd, lkcd -> ijab', T2, T2, Voovv, optimize = 'optimal')\n",
      "newT2 += 0.5*np.einsum('jkcd, ilab, klcd -> ijab', T2, T2, Voovv, optimize = 'optimal')\n",
      "newT2 -= np.einsum('ikac, jlbd, lkcd -> ijab', T2, T2, Voovv, optimize = 'optimal')\n",
      "newT2 -= np.einsum('ikac, ljdb, lkcd -> ijab', T2, T2, Voovv, optimize = 'optimal')\n",
      "newT2 += 2.0*np.einsum('ikac, ljdb, klcd -> ijab', T2, T2, Voovv, optimize = 'optimal')\n",
      "newT2 += -1.5*np.einsum('ikcd, ljab, lkcd -> ijab', T2, T2, Voovv, optimize = 'optimal')\n",
      "newT2 += -1.5*np.einsum('kjcd, ilab, klcd -> ijab', T2, T2, Voovv, optimize = 'optimal')\n",
      "newT2 += np.einsum('ijac, lkbd, klcd -> ijab', T2, T2, Voovv, optimize = 'optimal')\n",
      "newT2 += 0.5*np.einsum('kjcd, ilab, lkcd -> ijab', T2, T2, Voovv, optimize = 'optimal')\n",
      "newT2 += 0.5*np.einsum('kicd, ljab, lkcd -> ijab', T2, T2, Voovv, optimize = 'optimal')\n",
      "newT2 -= np.einsum('kiac, jlbd, klcd -> ijab', T2, T2, Voovv, optimize = 'optimal')\n",
      "newT2 += -0.5*np.einsum('kicd, ljab, klcd -> ijab', T2, T2, Voovv, optimize = 'optimal')\n",
      "newT2 += np.einsum('kiac, ljbd, klcd -> ijab', T2, T2, Voovv, optimize = 'optimal')\n",
      "newT2 += np.einsum('klac, ijdb, klcd -> ijab', T2, T2, Voovv, optimize = 'optimal')\n",
      "newT2 += 0.5*np.einsum('ikcd, ljab, klcd -> ijab', T2, T2, Voovv, optimize = 'optimal')\n",
      "newT2 += 2.0*np.einsum('ikac, jlbd, klcd -> ijab', T2, T2, Voovv, optimize = 'optimal')\n",
      "newT2 -= np.einsum('ijac, klbd, klcd -> ijab', T2, T2, Voovv, optimize = 'optimal')\n",
      "newT2 += -0.5*np.einsum('jkcd, ilab, lkcd -> ijab', T2, T2, Voovv, optimize = 'optimal')\n",
      "newT2 += -2.0*np.einsum('lkac, ijdb, klcd -> ijab', T2, T2, Voovv, optimize = 'optimal')\n",
      "newT2 -= np.einsum('kiac, ljdb, klcd -> ijab', T2, T2, Voovv, optimize = 'optimal')\n",
      "\n"
     ]
    }
   ],
   "source": [
    "pT2 = process_eq(T2,i,j,a,b, name = 'newT2', tensor_labels = mytensors)\n",
    "pT2.write_einsums_out(print_out=True)"
   ]
  },
  {
   "cell_type": "markdown",
   "metadata": {},
   "source": [
    "## The equations above can be coded into a CC program. See the RCCD.py file for a complete code"
   ]
  }
 ],
 "metadata": {
  "kernelspec": {
   "display_name": "Python 3",
   "language": "python",
   "name": "python3"
  },
  "language_info": {
   "codemirror_mode": {
    "name": "ipython",
    "version": 3
   },
   "file_extension": ".py",
   "mimetype": "text/x-python",
   "name": "python",
   "nbconvert_exporter": "python",
   "pygments_lexer": "ipython3",
   "version": "3.6.9"
  }
 },
 "nbformat": 4,
 "nbformat_minor": 2
}
