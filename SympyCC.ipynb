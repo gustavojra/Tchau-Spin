{
 "cells": [
  {
   "cell_type": "markdown",
   "metadata": {},
   "source": [
    "# Deriving Coupled Cluster Equations using Sympy"
   ]
  },
  {
   "cell_type": "code",
   "execution_count": 66,
   "metadata": {},
   "outputs": [],
   "source": [
    "from sympy.physics.secondquant import (AntiSymmetricTensor, wicks,\n",
    "        F, Fd, NO, evaluate_deltas, substitute_dummies, Commutator,\n",
    "        simplify_index_permutations, PermutationOperator)\n",
    "from sympy import (\n",
    "    symbols, Rational, latex, Dummy\n",
    ")\n",
    "import re"
   ]
  },
  {
   "cell_type": "code",
   "execution_count": 15,
   "metadata": {},
   "outputs": [],
   "source": [
    "pretty_dummies_dict = {\n",
    "    'above': 'cdefgh',\n",
    "    'below': 'klmno',\n",
    "    'general': 'pqrstu'\n",
    "}"
   ]
  },
  {
   "cell_type": "markdown",
   "metadata": {},
   "source": [
    "## Define indexes"
   ]
  },
  {
   "cell_type": "code",
   "execution_count": 6,
   "metadata": {},
   "outputs": [],
   "source": [
    "i = symbols('i', below_fermi=True, cls=Dummy)\n",
    "a = symbols('a', above_fermi=True, cls=Dummy)\n",
    "j = symbols('j', below_fermi=True, cls=Dummy)\n",
    "b = symbols('b', above_fermi=True, cls=Dummy)\n",
    "p, q, r, s = symbols('p,q,r,s', cls=Dummy)"
   ]
  },
  {
   "cell_type": "markdown",
   "metadata": {},
   "source": [
    "## Define Hamiltonian"
   ]
  },
  {
   "cell_type": "code",
   "execution_count": 7,
   "metadata": {},
   "outputs": [
    {
     "data": {
      "text/latex": [
       "$\\displaystyle f^{p}_{q} \\left\\{a^\\dagger_{p} a_{q}\\right\\} - \\frac{v^{pq}_{rs} \\left\\{a^\\dagger_{p} a^\\dagger_{q} a_{r} a_{s}\\right\\}}{4}$"
      ],
      "text/plain": [
       "AntiSymmetricTensor(f, (_p,), (_q,))*NO(CreateFermion(_p)*AnnihilateFermion(_q)) - AntiSymmetricTensor(v, (_p, _q), (_r, _s))*NO(CreateFermion(_p)*CreateFermion(_q)*AnnihilateFermion(_r)*AnnihilateFermion(_s))/4"
      ]
     },
     "execution_count": 7,
     "metadata": {},
     "output_type": "execute_result"
    }
   ],
   "source": [
    "fock = AntiSymmetricTensor('f', (p,), (q,))\n",
    "pr = NO(Fd(p)*F(q))\n",
    "V = AntiSymmetricTensor('v',(p,q),(r,s))\n",
    "pqsr = NO(Fd(p)*Fd(q)*F(s)*F(r))\n",
    "H = fock*pr + Rational(1,4)*V*pqsr\n",
    "H"
   ]
  },
  {
   "cell_type": "markdown",
   "metadata": {},
   "source": [
    "## Define Cluster Operator"
   ]
  },
  {
   "cell_type": "code",
   "execution_count": 8,
   "metadata": {},
   "outputs": [],
   "source": [
    "def get_T():\n",
    "    i, j = symbols('i,j', below_fermi=True, cls=Dummy)\n",
    "    a, b = symbols('a,b', above_fermi=True, cls=Dummy)\n",
    "    t_ai = AntiSymmetricTensor('t', (a,), (i,))*NO(Fd(a)*F(i))\n",
    "    t_abij = Rational(1,4)*AntiSymmetricTensor('t', (a,b), (i,j))*NO(Fd(a)*Fd(b)*F(j)*F(i))\n",
    "    return t_ai + t_abij"
   ]
  },
  {
   "cell_type": "markdown",
   "metadata": {},
   "source": [
    "## Perform the Hausdorff expansion"
   ]
  },
  {
   "cell_type": "code",
   "execution_count": 9,
   "metadata": {},
   "outputs": [
    {
     "name": "stdout",
     "output_type": "stream",
     "text": [
      "commutator 1...\n"
     ]
    }
   ],
   "source": [
    "C = Commutator\n",
    "T = get_T()\n",
    "print(\"commutator 1...\")\n",
    "comm1 = wicks(C(H, T))\n",
    "comm1 = evaluate_deltas(comm1)\n",
    "comm1 = substitute_dummies(comm1)"
   ]
  },
  {
   "cell_type": "code",
   "execution_count": 10,
   "metadata": {},
   "outputs": [
    {
     "name": "stdout",
     "output_type": "stream",
     "text": [
      "commutator 2...\n"
     ]
    }
   ],
   "source": [
    "T = get_T()\n",
    "print(\"commutator 2...\")\n",
    "comm2 = wicks(C(comm1, T))\n",
    "comm2 = evaluate_deltas(comm2)\n",
    "comm2 = substitute_dummies(comm2)"
   ]
  },
  {
   "cell_type": "code",
   "execution_count": 11,
   "metadata": {},
   "outputs": [
    {
     "name": "stdout",
     "output_type": "stream",
     "text": [
      "commutator 3...\n"
     ]
    }
   ],
   "source": [
    "T = get_T()\n",
    "print(\"commutator 3...\")\n",
    "comm3 = wicks(C(comm2, T))\n",
    "comm3 = evaluate_deltas(comm3)\n",
    "comm3 = substitute_dummies(comm3)"
   ]
  },
  {
   "cell_type": "code",
   "execution_count": 12,
   "metadata": {},
   "outputs": [
    {
     "name": "stdout",
     "output_type": "stream",
     "text": [
      "commutator 4...\n"
     ]
    }
   ],
   "source": [
    "T = get_T()\n",
    "print(\"commutator 4...\")\n",
    "comm4 = wicks(C(comm3, T))\n",
    "comm4 = evaluate_deltas(comm4)\n",
    "comm4 = substitute_dummies(comm4)"
   ]
  },
  {
   "cell_type": "markdown",
   "metadata": {},
   "source": [
    "## Construct the Similarty Transformed Hamiltonian"
   ]
  },
  {
   "cell_type": "code",
   "execution_count": 17,
   "metadata": {},
   "outputs": [],
   "source": [
    "eq = H + comm1 + comm2/2 + comm3/6 + comm4/24\n",
    "eq = eq.expand()\n",
    "eq = evaluate_deltas(eq)\n",
    "eq = substitute_dummies(eq, new_indices=True,\n",
    "        pretty_indices=pretty_dummies_dict)"
   ]
  },
  {
   "cell_type": "markdown",
   "metadata": {},
   "source": [
    "## Get energy expression"
   ]
  },
  {
   "cell_type": "code",
   "execution_count": 21,
   "metadata": {},
   "outputs": [
    {
     "name": "stdout",
     "output_type": "stream",
     "text": [
      "\n",
      "CC Energy:\n"
     ]
    },
    {
     "data": {
      "text/plain": [
       "'f^{k}_{c} t^{c}_{k} - \\\\frac{t^{c}_{l} t^{d}_{k} v^{kl}_{cd}}{2} + \\\\frac{t^{cd}_{kl} v^{kl}_{cd}}{4}'"
      ]
     },
     "execution_count": 21,
     "metadata": {},
     "output_type": "execute_result"
    }
   ],
   "source": [
    "i, j, k, l = symbols('i,j,k,l', below_fermi=True)\n",
    "a, b, c, d = symbols('a,b,c,d', above_fermi=True)\n",
    "print()\n",
    "print(\"CC Energy:\")\n",
    "energy = wicks(eq, simplify_dummies=True,\n",
    "        keep_only_fully_contracted=True)\n",
    "latex(energy)"
   ]
  },
  {
   "cell_type": "markdown",
   "metadata": {},
   "source": [
    "## Get amplitude Equations"
   ]
  },
  {
   "cell_type": "code",
   "execution_count": 22,
   "metadata": {},
   "outputs": [
    {
     "data": {
      "text/plain": [
       "'- f^{k}_{c} t^{c}_{i} t^{a}_{k} + f^{k}_{c} t^{ac}_{ik} - f^{k}_{i} t^{a}_{k} + f^{a}_{c} t^{c}_{i} + f^{a}_{i} - t^{c}_{k} t^{d}_{i} t^{a}_{l} v^{kl}_{cd} - t^{c}_{k} t^{d}_{i} v^{ak}_{cd} + t^{c}_{k} t^{a}_{l} v^{kl}_{ic} + t^{c}_{k} t^{ad}_{il} v^{kl}_{cd} + t^{c}_{k} v^{ak}_{ic} - \\\\frac{t^{c}_{i} t^{ad}_{kl} v^{kl}_{cd}}{2} + \\\\frac{t^{a}_{l} t^{cd}_{ik} v^{kl}_{cd}}{2} + \\\\frac{t^{cd}_{ik} v^{ak}_{cd}}{2} - \\\\frac{t^{ac}_{kl} v^{kl}_{ic}}{2}'"
      ]
     },
     "execution_count": 22,
     "metadata": {},
     "output_type": "execute_result"
    }
   ],
   "source": [
    "eqT1 = wicks(NO(Fd(i)*F(a))*eq, simplify_kronecker_deltas=True, keep_only_fully_contracted=True)\n",
    "eqT1 = substitute_dummies(eqT1)\n",
    "latex(eqT1)"
   ]
  },
  {
   "cell_type": "code",
   "execution_count": 25,
   "metadata": {},
   "outputs": [],
   "source": [
    "eqT2 = wicks(NO(Fd(i)*Fd(j)*F(b)*F(a))*eq, simplify_dummies=True, \n",
    "             keep_only_fully_contracted=True, simplify_kronecker_deltas=True)\n",
    "x = latex(eqT2)"
   ]
  },
  {
   "cell_type": "code",
   "execution_count": 26,
   "metadata": {},
   "outputs": [
    {
     "data": {
      "text/plain": [
       "str"
      ]
     },
     "execution_count": 26,
     "metadata": {},
     "output_type": "execute_result"
    }
   ],
   "source": [
    "type(x)"
   ]
  },
  {
   "cell_type": "code",
   "execution_count": 27,
   "metadata": {},
   "outputs": [
    {
     "data": {
      "text/plain": [
       "'f^{k}_{c} t^{c}_{i} t^{ab}_{jk} - f^{k}_{c} t^{c}_{j} t^{ab}_{ik} + f^{k}_{c} t^{a}_{k} t^{bc}_{ij} - f^{k}_{c} t^{b}_{k} t^{ac}_{ij} + f^{k}_{i} t^{ab}_{jk} - f^{k}_{j} t^{ab}_{ik} - f^{a}_{c} t^{bc}_{ij} + f^{b}_{c} t^{ac}_{ij} + t^{c}_{k} t^{d}_{i} t^{ab}_{jl} v^{kl}_{cd} - t^{c}_{k} t^{d}_{j} t^{ab}_{il} v^{kl}_{cd} + t^{c}_{k} t^{a}_{l} t^{bd}_{ij} v^{kl}_{cd} - t^{c}_{k} t^{b}_{l} t^{ad}_{ij} v^{kl}_{cd} - t^{c}_{k} t^{ad}_{ij} v^{bk}_{cd} + t^{c}_{k} t^{ab}_{il} v^{kl}_{jc} - t^{c}_{k} t^{ab}_{jl} v^{kl}_{ic} + t^{c}_{k} t^{bd}_{ij} v^{ak}_{cd} + t^{c}_{i} t^{d}_{j} t^{a}_{k} t^{b}_{l} v^{kl}_{cd} + t^{c}_{i} t^{d}_{j} t^{a}_{k} v^{bk}_{cd} - t^{c}_{i} t^{d}_{j} t^{b}_{k} v^{ak}_{cd} + \\\\frac{t^{c}_{i} t^{d}_{j} t^{ab}_{kl} v^{kl}_{cd}}{2} + t^{c}_{i} t^{d}_{j} v^{ab}_{cd} - t^{c}_{i} t^{a}_{k} t^{b}_{l} v^{kl}_{jc} - t^{c}_{i} t^{a}_{k} t^{bd}_{jl} v^{kl}_{cd} - t^{c}_{i} t^{a}_{k} v^{bk}_{jc} + t^{c}_{i} t^{b}_{k} v^{ak}_{jc} - t^{c}_{i} t^{b}_{l} t^{ad}_{jk} v^{kl}_{cd} - t^{c}_{i} t^{ad}_{jk} v^{bk}_{cd} - \\\\frac{t^{c}_{i} t^{ab}_{kl} v^{kl}_{jc}}{2} + t^{c}_{i} t^{bd}_{jk} v^{ak}_{cd} - t^{c}_{i} v^{ab}_{jc} + t^{c}_{j} t^{a}_{k} t^{b}_{l} v^{kl}_{ic} + t^{c}_{j} t^{a}_{k} t^{bd}_{il} v^{kl}_{cd} + t^{c}_{j} t^{a}_{k} v^{bk}_{ic} - t^{c}_{j} t^{b}_{k} v^{ak}_{ic} + t^{c}_{j} t^{b}_{l} t^{ad}_{ik} v^{kl}_{cd} + t^{c}_{j} t^{ad}_{ik} v^{bk}_{cd} + \\\\frac{t^{c}_{j} t^{ab}_{kl} v^{kl}_{ic}}{2} - t^{c}_{j} t^{bd}_{ik} v^{ak}_{cd} + t^{c}_{j} v^{ab}_{ic} + \\\\frac{t^{a}_{k} t^{b}_{l} t^{cd}_{ij} v^{kl}_{cd}}{2} + t^{a}_{k} t^{b}_{l} v^{kl}_{ij} + \\\\frac{t^{a}_{k} t^{cd}_{ij} v^{bk}_{cd}}{2} + t^{a}_{k} t^{bc}_{il} v^{kl}_{jc} - t^{a}_{k} t^{bc}_{jl} v^{kl}_{ic} + t^{a}_{k} v^{bk}_{ij} - \\\\frac{t^{b}_{k} t^{cd}_{ij} v^{ak}_{cd}}{2} - t^{b}_{k} v^{ak}_{ij} + t^{b}_{l} t^{ac}_{ik} v^{kl}_{jc} - t^{b}_{l} t^{ac}_{jk} v^{kl}_{ic} - \\\\frac{t^{cd}_{ik} t^{ab}_{jl} v^{kl}_{cd}}{2} + \\\\frac{t^{cd}_{ij} t^{ab}_{kl} v^{kl}_{cd}}{4} + \\\\frac{t^{cd}_{ij} v^{ab}_{cd}}{2} + \\\\frac{t^{cd}_{jk} t^{ab}_{il} v^{kl}_{cd}}{2} - \\\\frac{t^{ac}_{kl} t^{bd}_{ij} v^{kl}_{cd}}{2} + t^{ac}_{ik} t^{bd}_{jl} v^{kl}_{cd} + t^{ac}_{ik} v^{bk}_{jc} - \\\\frac{t^{ac}_{ij} t^{bd}_{kl} v^{kl}_{cd}}{2} - t^{ac}_{jk} t^{bd}_{il} v^{kl}_{cd} - t^{ac}_{jk} v^{bk}_{ic} + \\\\frac{t^{ab}_{kl} v^{kl}_{ij}}{2} - t^{bc}_{ik} v^{ak}_{jc} + t^{bc}_{jk} v^{ak}_{ic} + v^{ab}_{ij}'"
      ]
     },
     "execution_count": 27,
     "metadata": {},
     "output_type": "execute_result"
    }
   ],
   "source": [
    "x"
   ]
  },
  {
   "cell_type": "code",
   "execution_count": 30,
   "metadata": {},
   "outputs": [],
   "source": [
    "xs = x.split()"
   ]
  },
  {
   "cell_type": "code",
   "execution_count": 31,
   "metadata": {},
   "outputs": [
    {
     "data": {
      "text/plain": [
       "'f^{k}_{c}'"
      ]
     },
     "execution_count": 31,
     "metadata": {},
     "output_type": "execute_result"
    }
   ],
   "source": [
    "xs[0].replace('{\\w}','()')"
   ]
  },
  {
   "cell_type": "code",
   "execution_count": 32,
   "metadata": {},
   "outputs": [],
   "source": [
    "# Given a latex string, make it into my style of string"
   ]
  },
  {
   "cell_type": "code",
   "execution_count": 99,
   "metadata": {},
   "outputs": [],
   "source": [
    "def convert(inp):\n",
    "    # Remove spaces betweem signs and next terms\n",
    "    out = re.sub('([+-])\\s', '\\\\1', inp)\n",
    "    # Add * between tensors contraction\n",
    "    out = re.sub('}\\s+?(\\w)', '}*\\\\1', out)\n",
    "    # Convert the index to my parentesis notation\n",
    "    out = re.sub('{(\\w+?)}_{(\\w+?)}', '(\\\\1,\\\\2)', out)\n",
    "    # Convert tensor names\n",
    "    out = re.sub('f\\^', 'f', out)\n",
    "    out = re.sub('t\\^', 'T', out)\n",
    "    out = re.sub('v\\^', 'A', out)\n",
    "    # Remove fractions\n",
    "    out = re.sub('\\\\\\\\frac{(.+?)}{(\\d+?)}', '(1/\\\\2)*\\\\1', out)\n",
    "    return out"
   ]
  },
  {
   "cell_type": "code",
   "execution_count": 100,
   "metadata": {
    "scrolled": false
   },
   "outputs": [
    {
     "data": {
      "text/plain": [
       "'f(k,c)*T(c,i)*T(ab,jk) -f(k,c)*T(c,j)*T(ab,ik) +f(k,c)*T(a,k)*T(bc,ij) -f(k,c)*T(b,k)*T(ac,ij) +f(k,i)*T(ab,jk) -f(k,j)*T(ab,ik) -f(a,c)*T(bc,ij) +f(b,c)*T(ac,ij) +T(c,k)*T(d,i)*T(ab,jl)*A(kl,cd) -T(c,k)*T(d,j)*T(ab,il)*A(kl,cd) +T(c,k)*T(a,l)*T(bd,ij)*A(kl,cd) -T(c,k)*T(b,l)*T(ad,ij)*A(kl,cd) -T(c,k)*T(ad,ij)*A(bk,cd) +T(c,k)*T(ab,il)*A(kl,jc) -T(c,k)*T(ab,jl)*A(kl,ic) +T(c,k)*T(bd,ij)*A(ak,cd) +T(c,i)*T(d,j)*T(a,k)*T(b,l)*A(kl,cd) +T(c,i)*T(d,j)*T(a,k)*A(bk,cd) -T(c,i)*T(d,j)*T(b,k)*A(ak,cd) +(1/2)*T(c,i)*T(d,j)*T(ab,kl)*A(kl,cd) +T(c,i)*T(d,j)*A(ab,cd) -T(c,i)*T(a,k)*T(b,l)*A(kl,jc) -T(c,i)*T(a,k)*T(bd,jl)*A(kl,cd) -T(c,i)*T(a,k)*A(bk,jc) +T(c,i)*T(b,k)*A(ak,jc) -T(c,i)*T(b,l)*T(ad,jk)*A(kl,cd) -T(c,i)*T(ad,jk)*A(bk,cd) -(1/2)*T(c,i)*T(ab,kl)*A(kl,jc) +T(c,i)*T(bd,jk)*A(ak,cd) -T(c,i)*A(ab,jc) +T(c,j)*T(a,k)*T(b,l)*A(kl,ic) +T(c,j)*T(a,k)*T(bd,il)*A(kl,cd) +T(c,j)*T(a,k)*A(bk,ic) -T(c,j)*T(b,k)*A(ak,ic) +T(c,j)*T(b,l)*T(ad,ik)*A(kl,cd) +T(c,j)*T(ad,ik)*A(bk,cd) +(1/2)*T(c,j)*T(ab,kl)*A(kl,ic) -T(c,j)*T(bd,ik)*A(ak,cd) +T(c,j)*A(ab,ic) +(1/2)*T(a,k)*T(b,l)*T(cd,ij)*A(kl,cd) +T(a,k)*T(b,l)*A(kl,ij) +(1/2)*T(a,k)*T(cd,ij)*A(bk,cd) +T(a,k)*T(bc,il)*A(kl,jc) -T(a,k)*T(bc,jl)*A(kl,ic) +T(a,k)*A(bk,ij) -(1/2)*T(b,k)*T(cd,ij)*A(ak,cd) -T(b,k)*A(ak,ij) +T(b,l)*T(ac,ik)*A(kl,jc) -T(b,l)*T(ac,jk)*A(kl,ic) -(1/2)*T(cd,ik)*T(ab,jl)*A(kl,cd) +(1/4)*T(cd,ij)*T(ab,kl)*A(kl,cd) +(1/2)*T(cd,ij)*A(ab,cd) +(1/2)*T(cd,jk)*T(ab,il)*A(kl,cd) -(1/2)*T(ac,kl)*T(bd,ij)*A(kl,cd) +T(ac,ik)*T(bd,jl)*A(kl,cd) +T(ac,ik)*A(bk,jc) -(1/2)*T(ac,ij)*T(bd,kl)*A(kl,cd) -T(ac,jk)*T(bd,il)*A(kl,cd) -T(ac,jk)*A(bk,ic) +(1/2)*T(ab,kl)*A(kl,ij) -T(bc,ik)*A(ak,jc) +T(bc,jk)*A(ak,ic) +A(ab,ij)'"
      ]
     },
     "execution_count": 100,
     "metadata": {},
     "output_type": "execute_result"
    }
   ],
   "source": [
    "convert(x)"
   ]
  },
  {
   "cell_type": "code",
   "execution_count": 89,
   "metadata": {},
   "outputs": [],
   "source": [
    "test = '\\\\frac{T(ac,ij)*T(bd,kl)*A(kl,cd)}{2}'"
   ]
  },
  {
   "cell_type": "code",
   "execution_count": 98,
   "metadata": {},
   "outputs": [
    {
     "data": {
      "text/plain": [
       "'(1/2)*T(ac,ij)*T(bd,kl)*A(kl,cd)'"
      ]
     },
     "execution_count": 98,
     "metadata": {},
     "output_type": "execute_result"
    }
   ],
   "source": [
    "re.sub('\\\\\\\\frac{(.+?)}{(\\d+?)}', '(1/\\\\2)*\\\\1', test)"
   ]
  },
  {
   "cell_type": "code",
   "execution_count": null,
   "metadata": {},
   "outputs": [],
   "source": []
  }
 ],
 "metadata": {
  "kernelspec": {
   "display_name": "Python 3",
   "language": "python",
   "name": "python3"
  },
  "language_info": {
   "codemirror_mode": {
    "name": "ipython",
    "version": 3
   },
   "file_extension": ".py",
   "mimetype": "text/x-python",
   "name": "python",
   "nbconvert_exporter": "python",
   "pygments_lexer": "ipython3",
   "version": "3.6.9"
  }
 },
 "nbformat": 4,
 "nbformat_minor": 2
}
