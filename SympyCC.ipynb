{
 "cells": [
  {
   "cell_type": "markdown",
   "metadata": {},
   "source": [
    "# Deriving Coupled Cluster Equations using Sympy"
   ]
  },
  {
   "cell_type": "code",
   "execution_count": 1,
   "metadata": {},
   "outputs": [],
   "source": [
    "from sympy.physics.secondquant import (AntiSymmetricTensor, wicks,\n",
    "        F, Fd, NO, evaluate_deltas, substitute_dummies, Commutator,\n",
    "        simplify_index_permutations, PermutationOperator)\n",
    "from sympy import (\n",
    "    symbols, Rational, latex, Dummy\n",
    ")\n",
    "import re\n",
    "from tchau_spin import *\n",
    "Tensor.rhf = True"
   ]
  },
  {
   "cell_type": "code",
   "execution_count": 2,
   "metadata": {},
   "outputs": [],
   "source": [
    "pretty_dummies_dict = {\n",
    "    'above': 'cdefgh',\n",
    "    'below': 'klmno',\n",
    "    'general': 'pqrstu'\n",
    "}"
   ]
  },
  {
   "cell_type": "markdown",
   "metadata": {},
   "source": [
    "## Define indexes"
   ]
  },
  {
   "cell_type": "code",
   "execution_count": 3,
   "metadata": {},
   "outputs": [],
   "source": [
    "i = symbols('i', below_fermi=True, cls=Dummy)\n",
    "a = symbols('a', above_fermi=True, cls=Dummy)\n",
    "j = symbols('j', below_fermi=True, cls=Dummy)\n",
    "b = symbols('b', above_fermi=True, cls=Dummy)\n",
    "p, q, r, s = symbols('p,q,r,s', cls=Dummy)"
   ]
  },
  {
   "cell_type": "markdown",
   "metadata": {},
   "source": [
    "## Define Hamiltonian"
   ]
  },
  {
   "cell_type": "code",
   "execution_count": 4,
   "metadata": {},
   "outputs": [
    {
     "data": {
      "text/latex": [
       "$\\displaystyle f^{p}_{q} \\left\\{a^\\dagger_{p} a_{q}\\right\\} - \\frac{v^{pq}_{rs} \\left\\{a^\\dagger_{p} a^\\dagger_{q} a_{r} a_{s}\\right\\}}{4}$"
      ],
      "text/plain": [
       "AntiSymmetricTensor(f, (_p,), (_q,))*NO(CreateFermion(_p)*AnnihilateFermion(_q)) - AntiSymmetricTensor(v, (_p, _q), (_r, _s))*NO(CreateFermion(_p)*CreateFermion(_q)*AnnihilateFermion(_r)*AnnihilateFermion(_s))/4"
      ]
     },
     "execution_count": 4,
     "metadata": {},
     "output_type": "execute_result"
    }
   ],
   "source": [
    "fock = AntiSymmetricTensor('f', (p,), (q,))\n",
    "pr = NO(Fd(p)*F(q))\n",
    "V = AntiSymmetricTensor('v',(p,q),(r,s))\n",
    "pqsr = NO(Fd(p)*Fd(q)*F(s)*F(r))\n",
    "H = fock*pr + Rational(1,4)*V*pqsr\n",
    "H"
   ]
  },
  {
   "cell_type": "markdown",
   "metadata": {},
   "source": [
    "## Define Cluster Operator"
   ]
  },
  {
   "cell_type": "code",
   "execution_count": 5,
   "metadata": {},
   "outputs": [],
   "source": [
    "def get_T():\n",
    "    i, j = symbols('i,j', below_fermi=True, cls=Dummy)\n",
    "    a, b = symbols('a,b', above_fermi=True, cls=Dummy)\n",
    "    t_ai = AntiSymmetricTensor('t', (a,), (i,))*NO(Fd(a)*F(i))\n",
    "    t_abij = Rational(1,4)*AntiSymmetricTensor('t', (a,b), (i,j))*NO(Fd(a)*Fd(b)*F(j)*F(i))\n",
    "    return t_ai + t_abij"
   ]
  },
  {
   "cell_type": "markdown",
   "metadata": {},
   "source": [
    "## Perform the Hausdorff expansion"
   ]
  },
  {
   "cell_type": "code",
   "execution_count": 6,
   "metadata": {},
   "outputs": [
    {
     "name": "stdout",
     "output_type": "stream",
     "text": [
      "commutator 1...\n"
     ]
    }
   ],
   "source": [
    "C = Commutator\n",
    "T = get_T()\n",
    "print(\"commutator 1...\")\n",
    "comm1 = wicks(C(H, T))\n",
    "comm1 = evaluate_deltas(comm1)\n",
    "comm1 = substitute_dummies(comm1)"
   ]
  },
  {
   "cell_type": "code",
   "execution_count": 7,
   "metadata": {},
   "outputs": [
    {
     "name": "stdout",
     "output_type": "stream",
     "text": [
      "commutator 2...\n"
     ]
    }
   ],
   "source": [
    "T = get_T()\n",
    "print(\"commutator 2...\")\n",
    "comm2 = wicks(C(comm1, T))\n",
    "comm2 = evaluate_deltas(comm2)\n",
    "comm2 = substitute_dummies(comm2)"
   ]
  },
  {
   "cell_type": "code",
   "execution_count": 8,
   "metadata": {},
   "outputs": [
    {
     "name": "stdout",
     "output_type": "stream",
     "text": [
      "commutator 3...\n"
     ]
    }
   ],
   "source": [
    "T = get_T()\n",
    "print(\"commutator 3...\")\n",
    "comm3 = wicks(C(comm2, T))\n",
    "comm3 = evaluate_deltas(comm3)\n",
    "comm3 = substitute_dummies(comm3)"
   ]
  },
  {
   "cell_type": "code",
   "execution_count": 9,
   "metadata": {},
   "outputs": [
    {
     "name": "stdout",
     "output_type": "stream",
     "text": [
      "commutator 4...\n"
     ]
    }
   ],
   "source": [
    "T = get_T()\n",
    "print(\"commutator 4...\")\n",
    "comm4 = wicks(C(comm3, T))\n",
    "comm4 = evaluate_deltas(comm4)\n",
    "comm4 = substitute_dummies(comm4)"
   ]
  },
  {
   "cell_type": "markdown",
   "metadata": {},
   "source": [
    "## Construct the Similarty Transformed Hamiltonian"
   ]
  },
  {
   "cell_type": "code",
   "execution_count": 10,
   "metadata": {},
   "outputs": [],
   "source": [
    "eq = H + comm1 + comm2/2 + comm3/6 + comm4/24\n",
    "eq = eq.expand()\n",
    "eq = evaluate_deltas(eq)\n",
    "eq = substitute_dummies(eq, new_indices=True,\n",
    "        pretty_indices=pretty_dummies_dict)"
   ]
  },
  {
   "cell_type": "markdown",
   "metadata": {},
   "source": [
    "## Get energy expression"
   ]
  },
  {
   "cell_type": "code",
   "execution_count": 11,
   "metadata": {},
   "outputs": [
    {
     "name": "stdout",
     "output_type": "stream",
     "text": [
      "\n",
      "CC Energy:\n"
     ]
    },
    {
     "data": {
      "text/plain": [
       "'f^{k}_{c} t^{c}_{k} - \\\\frac{t^{c}_{l} t^{d}_{k} v^{kl}_{cd}}{2} + \\\\frac{t^{cd}_{kl} v^{kl}_{cd}}{4}'"
      ]
     },
     "execution_count": 11,
     "metadata": {},
     "output_type": "execute_result"
    }
   ],
   "source": [
    "i, j, k, l = symbols('i,j,k,l', below_fermi=True)\n",
    "a, b, c, d = symbols('a,b,c,d', above_fermi=True)\n",
    "print()\n",
    "print(\"CC Energy:\")\n",
    "energy = wicks(eq, simplify_dummies=True,\n",
    "        keep_only_fully_contracted=True)\n",
    "latex(energy)"
   ]
  },
  {
   "cell_type": "markdown",
   "metadata": {},
   "source": [
    "## Get amplitude Equations"
   ]
  },
  {
   "cell_type": "code",
   "execution_count": 12,
   "metadata": {},
   "outputs": [
    {
     "data": {
      "text/plain": [
       "'- f^{k}_{c} t^{c}_{i} t^{a}_{k} + f^{k}_{c} t^{ac}_{ik} - f^{k}_{i} t^{a}_{k} + f^{a}_{c} t^{c}_{i} + f^{a}_{i} - t^{c}_{k} t^{d}_{i} t^{a}_{l} v^{kl}_{cd} - t^{c}_{k} t^{d}_{i} v^{ak}_{cd} + t^{c}_{k} t^{a}_{l} v^{kl}_{ic} + t^{c}_{k} t^{ad}_{il} v^{kl}_{cd} + t^{c}_{k} v^{ak}_{ic} - \\\\frac{t^{c}_{i} t^{ad}_{kl} v^{kl}_{cd}}{2} + \\\\frac{t^{a}_{l} t^{cd}_{ik} v^{kl}_{cd}}{2} + \\\\frac{t^{cd}_{ik} v^{ak}_{cd}}{2} - \\\\frac{t^{ac}_{kl} v^{kl}_{ic}}{2}'"
      ]
     },
     "execution_count": 12,
     "metadata": {},
     "output_type": "execute_result"
    }
   ],
   "source": [
    "eqT1 = wicks(NO(Fd(i)*F(a))*eq, simplify_kronecker_deltas=True, keep_only_fully_contracted=True)\n",
    "eqT1 = substitute_dummies(eqT1)\n",
    "latex(eqT1)"
   ]
  },
  {
   "cell_type": "code",
   "execution_count": 13,
   "metadata": {},
   "outputs": [],
   "source": [
    "eqT2 = wicks(NO(Fd(i)*Fd(j)*F(b)*F(a))*eq, simplify_dummies=True, \n",
    "             keep_only_fully_contracted=True, simplify_kronecker_deltas=True)\n",
    "x = latex(eqT2)"
   ]
  },
  {
   "cell_type": "code",
   "execution_count": 16,
   "metadata": {},
   "outputs": [
    {
     "name": "stdout",
     "output_type": "stream",
     "text": [
      "- f^{k}_{c} t^{c}_{i} t^{a}_{k} + f^{k}_{c} t^{ac}_{ik} - f^{k}_{i} t^{a}_{k} + f^{a}_{c} t^{c}_{i} + f^{a}_{i} - t^{c}_{k} t^{d}_{i} t^{a}_{l} v^{kl}_{cd} - t^{c}_{k} t^{d}_{i} v^{ak}_{cd} + t^{c}_{k} t^{a}_{l} v^{kl}_{ic} + t^{c}_{k} t^{ad}_{il} v^{kl}_{cd} + t^{c}_{k} v^{ak}_{ic} - \\frac{t^{c}_{i} t^{ad}_{kl} v^{kl}_{cd}}{2} + \\frac{t^{a}_{l} t^{cd}_{ik} v^{kl}_{cd}}{2} + \\frac{t^{cd}_{ik} v^{ak}_{cd}}{2} - \\frac{t^{ac}_{kl} v^{kl}_{ic}}{2}\n"
     ]
    }
   ],
   "source": [
    "latexT1 = latex(eqT1)\n",
    "print(latexT1)"
   ]
  },
  {
   "cell_type": "code",
   "execution_count": 18,
   "metadata": {},
   "outputs": [
    {
     "data": {
      "text/latex": [
       "$\\displaystyle -f_{KC}t_{C}^{I}t_{A}^{K}$"
      ],
      "text/plain": [
       "<IPython.core.display.Math object>"
      ]
     },
     "metadata": {},
     "output_type": "display_data"
    }
   ],
   "source": [
    "i,a = Index.new('ia', 'aa', 'hp')\n",
    "k,l,c,d = Index.new('klcd', 'xxxx', 'hhpp')\n",
    "index_key = {'i':i,\n",
    "             'a':a,\n",
    "             'k':k,\n",
    "             'l':l,\n",
    "             'c':c,\n",
    "             'd':d\n",
    "}\n",
    "\n",
    "platex(eqfromlatex(latexT1, index_key))"
   ]
  },
  {
   "cell_type": "code",
   "execution_count": null,
   "metadata": {},
   "outputs": [],
   "source": []
  }
 ],
 "metadata": {
  "kernelspec": {
   "display_name": "Python 3",
   "language": "python",
   "name": "python3"
  },
  "language_info": {
   "codemirror_mode": {
    "name": "ipython",
    "version": 3
   },
   "file_extension": ".py",
   "mimetype": "text/x-python",
   "name": "python",
   "nbconvert_exporter": "python",
   "pygments_lexer": "ipython3",
   "version": "3.6.9"
  }
 },
 "nbformat": 4,
 "nbformat_minor": 2
}
