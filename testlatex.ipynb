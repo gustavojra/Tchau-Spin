{
 "cells": [
  {
   "cell_type": "code",
   "execution_count": 1,
   "metadata": {},
   "outputs": [],
   "source": [
    "from tchau_spin import *\n",
    "Tensor.rhf = True"
   ]
  },
  {
   "cell_type": "code",
   "execution_count": 2,
   "metadata": {},
   "outputs": [],
   "source": [
    "x = '- f^{k}_{c} t^{c}_{i} t^{a}_{k} + f^{k}_{c} t^{ac}_{ik} - f^{k}_{i} t^{a}_{k} + f^{a}_{c} t^{c}_{i} + f^{a}_{i} - t^{c}_{k} t^{d}_{i} t^{a}_{l} v^{kl}_{cd} - t^{c}_{k} t^{d}_{i} v^{ak}_{cd} + t^{c}_{k} t^{a}_{l} v^{kl}_{ic} + t^{c}_{k} t^{ad}_{il} v^{kl}_{cd} + t^{c}_{k} v^{ak}_{ic} - \\\\frac{t^{c}_{i} t^{ad}_{kl} v^{kl}_{cd}}{2} + \\\\frac{t^{a}_{l} t^{cd}_{ik} v^{kl}_{cd}}{2} + \\\\frac{t^{cd}_{ik} v^{ak}_{cd}}{2} - \\\\frac{t^{ac}_{kl} v^{kl}_{ic}}{2}'"
   ]
  },
  {
   "cell_type": "code",
   "execution_count": 3,
   "metadata": {},
   "outputs": [
    {
     "data": {
      "text/plain": [
       "'- f^{k}_{c} t^{c}_{i} t^{a}_{k} + f^{k}_{c} t^{ac}_{ik} - f^{k}_{i} t^{a}_{k} + f^{a}_{c} t^{c}_{i} + f^{a}_{i} - t^{c}_{k} t^{d}_{i} t^{a}_{l} v^{kl}_{cd} - t^{c}_{k} t^{d}_{i} v^{ak}_{cd} + t^{c}_{k} t^{a}_{l} v^{kl}_{ic} + t^{c}_{k} t^{ad}_{il} v^{kl}_{cd} + t^{c}_{k} v^{ak}_{ic} - \\\\frac{t^{c}_{i} t^{ad}_{kl} v^{kl}_{cd}}{2} + \\\\frac{t^{a}_{l} t^{cd}_{ik} v^{kl}_{cd}}{2} + \\\\frac{t^{cd}_{ik} v^{ak}_{cd}}{2} - \\\\frac{t^{ac}_{kl} v^{kl}_{ic}}{2}'"
      ]
     },
     "execution_count": 3,
     "metadata": {},
     "output_type": "execute_result"
    }
   ],
   "source": [
    "x"
   ]
  },
  {
   "cell_type": "code",
   "execution_count": 4,
   "metadata": {},
   "outputs": [],
   "source": [
    "i,a = Index.new('ia', 'aa', 'hp')\n",
    "k,l,c,d = Index.new('klcd', 'xxxx', 'hhpp')"
   ]
  },
  {
   "cell_type": "code",
   "execution_count": 5,
   "metadata": {},
   "outputs": [],
   "source": [
    "index_key = {'i':i,\n",
    "             'a':a,\n",
    "             'k':k,\n",
    "             'l':l,\n",
    "             'c':c,\n",
    "             'd':d\n",
    "}"
   ]
  },
  {
   "cell_type": "code",
   "execution_count": 6,
   "metadata": {},
   "outputs": [
    {
     "name": "stdout",
     "output_type": "stream",
     "text": [
      "Equation after clean up:\n",
      "-f(c,k)*T(i,c)*T(k,a) +f(c,k)*T(ik,ac) -f(i,k)*T(k,a) +f(c,a)*T(i,c) +f(i,a) -T(k,c)*T(i,d)*T(l,a)*A(cd,kl) -T(k,c)*T(i,d)*A(cd,ak) +T(k,c)*T(l,a)*A(ic,kl) +T(k,c)*T(il,ad)*A(cd,kl) +T(k,c)*A(ic,ak) -(1/2)*T(i,c)*T(kl,ad)*A(cd,kl) +(1/2)*T(l,a)*T(ik,cd)*A(cd,kl) +(1/2)*T(ik,cd)*A(cd,ak) -(1/2)*T(kl,ac)*A(ic,kl)\n"
     ]
    }
   ],
   "source": [
    "eqT1 = (eqfromlatex(x, index_key))"
   ]
  },
  {
   "cell_type": "code",
   "execution_count": 7,
   "metadata": {},
   "outputs": [
    {
     "data": {
      "text/latex": [
       "$\\displaystyle -f_{CK}t_{I}^{C}t_{K}^{A}+2.0f_{CK}t_{Ik}^{Ac}-f_{CK}t_{Ki}^{Ac}-f_{IK}t_{K}^{A}+f_{CA}t_{I}^{C}+f_{IA}-2.0t_{I}^{D}t_{K}^{C}t_{L}^{A}\\langle CD|KL\\rangle+t_{I}^{D}t_{K}^{C}t_{L}^{A}\\langle CD|LK\\rangle+2.0t_{I}^{D}t_{K}^{C}\\langle CD|KA\\rangle-t_{I}^{D}t_{K}^{C}\\langle CD|AK\\rangle-2.0t_{L}^{A}t_{K}^{C}\\langle IC|LK\\rangle+t_{L}^{A}t_{K}^{C}\\langle IC|KL\\rangle+4.0t_{K}^{C}t_{Il}^{Ad}\\langle CD|KL\\rangle-2.0t_{K}^{C}t_{Il}^{Ad}\\langle CD|LK\\rangle-2.0t_{K}^{C}t_{Li}^{Ad}\\langle CD|KL\\rangle+t_{K}^{C}t_{Li}^{Ad}\\langle CD|LK\\rangle+2.0t_{K}^{C}\\langle IC|AK\\rangle-t_{K}^{C}\\langle IC|KA\\rangle-2.0t_{I}^{C}t_{Lk}^{Ad}\\langle CD|LK\\rangle+t_{I}^{C}t_{Lk}^{Ad}\\langle CD|KL\\rangle-1.5t_{L}^{A}t_{Ik}^{Dc}\\langle CD|KL\\rangle-0.5t_{L}^{A}t_{Ki}^{Cd}\\langle CD|KL\\rangle+0.5t_{L}^{A}t_{Ik}^{Cd}\\langle CD|KL\\rangle+0.5t_{L}^{A}t_{Ki}^{Cd}\\langle CD|LK\\rangle+1.5t_{Ik}^{Cd}\\langle CD|AK\\rangle-0.5t_{Ki}^{Cd}\\langle CD|AK\\rangle+0.5t_{Ki}^{Cd}\\langle CD|KA\\rangle-0.5t_{Ik}^{Cd}\\langle CD|KA\\rangle-2.0t_{Kl}^{Ac}\\langle IC|KL\\rangle+t_{Lk}^{Ac}\\langle IC|KL\\rangle$"
      ],
      "text/plain": [
       "<IPython.core.display.Math object>"
      ]
     },
     "metadata": {},
     "output_type": "display_data"
    }
   ],
   "source": [
    "platex(eqT1.simplify())"
   ]
  },
  {
   "cell_type": "code",
   "execution_count": 8,
   "metadata": {},
   "outputs": [
    {
     "data": {
      "text/latex": [
       "$\\displaystyle -f_{CK}t_{I}^{C}t_{K}^{A}+f_{ck}t_{Ik}^{Ac}+f_{CK}t_{IK}^{AC}-f_{IK}t_{K}^{A}+f_{CA}t_{I}^{C}+f_{IA}-t_{I}^{D}t_{k}^{c}t_{L}^{A}\\langle cD|kL\\rangle-t_{I}^{D}t_{K}^{C}t_{L}^{A}\\langle CD|KL\\rangle+t_{I}^{D}t_{K}^{C}t_{L}^{A}\\langle CD|LK\\rangle+t_{I}^{D}t_{k}^{c}\\langle cD|kA\\rangle-t_{I}^{D}t_{K}^{C}\\langle CD|AK\\rangle+t_{I}^{D}t_{K}^{C}\\langle CD|KA\\rangle-t_{L}^{A}t_{k}^{c}\\langle Ic|Lk\\rangle+t_{L}^{A}t_{K}^{C}\\langle IC|KL\\rangle-t_{L}^{A}t_{K}^{C}\\langle IC|LK\\rangle+t_{k}^{c}t_{Il}^{Ad}\\langle cd|kl\\rangle-t_{k}^{c}t_{Il}^{Ad}\\langle cd|lk\\rangle+t_{K}^{C}t_{Il}^{Ad}\\langle Cd|Kl\\rangle+t_{k}^{c}t_{IL}^{AD}\\langle cD|kL\\rangle+t_{K}^{C}t_{IL}^{AD}\\langle CD|KL\\rangle-t_{K}^{C}t_{IL}^{AD}\\langle CD|LK\\rangle+t_{k}^{c}\\langle Ic|Ak\\rangle+t_{K}^{C}\\langle IC|AK\\rangle-t_{K}^{C}\\langle IC|KA\\rangle+0.5t_{I}^{C}t_{kL}^{Ad}\\langle Cd|Lk\\rangle-0.5t_{I}^{C}t_{Kl}^{Ad}\\langle Cd|Kl\\rangle-0.5t_{I}^{C}t_{KL}^{AD}\\langle CD|KL\\rangle+0.5t_{I}^{C}t_{KL}^{AD}\\langle CD|LK\\rangle+0.5t_{L}^{A}t_{Ik}^{cD}\\langle cD|kL\\rangle-0.5t_{L}^{A}t_{Ik}^{Cd}\\langle Cd|Lk\\rangle+0.5t_{L}^{A}t_{IK}^{CD}\\langle CD|KL\\rangle-0.5t_{L}^{A}t_{IK}^{CD}\\langle CD|LK\\rangle+0.5t_{Ik}^{Cd}\\langle Cd|Ak\\rangle+0.5t_{IK}^{CD}\\langle CD|AK\\rangle-0.5t_{Ik}^{cD}\\langle cD|kA\\rangle-0.5t_{IK}^{CD}\\langle CD|KA\\rangle-0.5t_{Kl}^{Ac}\\langle Ic|Kl\\rangle-0.5t_{KL}^{AC}\\langle IC|KL\\rangle+0.5t_{kL}^{Ac}\\langle Ic|Lk\\rangle+0.5t_{KL}^{AC}\\langle IC|LK\\rangle$"
      ],
      "text/plain": [
       "<IPython.core.display.Math object>"
      ]
     },
     "metadata": {},
     "output_type": "display_data"
    }
   ],
   "source": [
    "platex(eqT1)"
   ]
  },
  {
   "cell_type": "code",
   "execution_count": 9,
   "metadata": {},
   "outputs": [],
   "source": [
    "t1a = Amplitude(k,c)\n",
    "t1b = Amplitude(i,d)\n",
    "t1c = Amplitude(l,a)\n",
    "A = ERI.Antisymmetric(c,d,k,l)"
   ]
  },
  {
   "cell_type": "code",
   "execution_count": null,
   "metadata": {},
   "outputs": [],
   "source": []
  }
 ],
 "metadata": {
  "kernelspec": {
   "display_name": "Python 3",
   "language": "python",
   "name": "python3"
  },
  "language_info": {
   "codemirror_mode": {
    "name": "ipython",
    "version": 3
   },
   "file_extension": ".py",
   "mimetype": "text/x-python",
   "name": "python",
   "nbconvert_exporter": "python",
   "pygments_lexer": "ipython3",
   "version": "3.6.9"
  }
 },
 "nbformat": 4,
 "nbformat_minor": 2
}
